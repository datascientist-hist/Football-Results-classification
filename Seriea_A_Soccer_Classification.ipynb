{
  "nbformat": 4,
  "nbformat_minor": 0,
  "metadata": {
    "colab": {
      "provenance": [],
      "authorship_tag": "ABX9TyNy6sfKy+5UqTUrnmVdRUYE",
      "include_colab_link": true
    },
    "kernelspec": {
      "name": "python3",
      "display_name": "Python 3"
    },
    "language_info": {
      "name": "python"
    }
  },
  "cells": [
    {
      "cell_type": "markdown",
      "metadata": {
        "id": "view-in-github",
        "colab_type": "text"
      },
      "source": [
        "<a href=\"https://colab.research.google.com/github/datascientist-hist/Football-Results-classification/blob/main/Seriea_A_Soccer_Classification.ipynb\" target=\"_parent\"><img src=\"https://colab.research.google.com/assets/colab-badge.svg\" alt=\"Open In Colab\"/></a>"
      ]
    },
    {
      "cell_type": "markdown",
      "source": [
        "#Soccer Results Classification \n",
        "\n",
        "**Championship used Serie A Year 2021/2022**\n",
        "\n",
        ">The aim of this project is to try to classify  if a game is going to end with a number of goal greater than 2.5,we have the odds of the bookmaker BET365 that can be converted into probabilities and we can use those odds as referencee point ,but our purpose would be beating those odds.\n",
        "\n",
        ">The strategy that i want to adopt is based on goals scored and goals conceded:\n",
        ">\n",
        ">- I will compute the  average goals scored and conceded for each team from all the previous matches \n",
        ">\n",
        ">- and the average goals scored and conceded for each team from the    the last n previous matches (that it can be 1 or 2 and so on..) \n",
        "\n",
        ">In order to compare the beahviour of the teams between the last n previous matches and the total matches\n",
        "\n"
      ],
      "metadata": {
        "id": "UXCWgnDxZRkw"
      }
    },
    {
      "cell_type": "code",
      "source": [
        "!pip install plotly_express\n"
      ],
      "metadata": {
        "colab": {
          "base_uri": "https://localhost:8080/"
        },
        "id": "SiT_6hNMSw1_",
        "outputId": "fd317190-afec-4ba3-c11d-3f21df946510"
      },
      "execution_count": 498,
      "outputs": [
        {
          "output_type": "stream",
          "name": "stdout",
          "text": [
            "Looking in indexes: https://pypi.org/simple, https://us-python.pkg.dev/colab-wheels/public/simple/\n",
            "Requirement already satisfied: plotly_express in /usr/local/lib/python3.7/dist-packages (0.4.1)\n",
            "Requirement already satisfied: pandas>=0.20.0 in /usr/local/lib/python3.7/dist-packages (from plotly_express) (1.3.5)\n",
            "Requirement already satisfied: patsy>=0.5 in /usr/local/lib/python3.7/dist-packages (from plotly_express) (0.5.2)\n",
            "Requirement already satisfied: scipy>=0.18 in /usr/local/lib/python3.7/dist-packages (from plotly_express) (1.7.3)\n",
            "Requirement already satisfied: statsmodels>=0.9.0 in /usr/local/lib/python3.7/dist-packages (from plotly_express) (0.12.2)\n",
            "Requirement already satisfied: numpy>=1.11 in /usr/local/lib/python3.7/dist-packages (from plotly_express) (1.21.6)\n",
            "Requirement already satisfied: plotly>=4.1.0 in /usr/local/lib/python3.7/dist-packages (from plotly_express) (5.5.0)\n",
            "Requirement already satisfied: pytz>=2017.3 in /usr/local/lib/python3.7/dist-packages (from pandas>=0.20.0->plotly_express) (2022.2.1)\n",
            "Requirement already satisfied: python-dateutil>=2.7.3 in /usr/local/lib/python3.7/dist-packages (from pandas>=0.20.0->plotly_express) (2.8.2)\n",
            "Requirement already satisfied: six in /usr/local/lib/python3.7/dist-packages (from patsy>=0.5->plotly_express) (1.15.0)\n",
            "Requirement already satisfied: tenacity>=6.2.0 in /usr/local/lib/python3.7/dist-packages (from plotly>=4.1.0->plotly_express) (8.0.1)\n"
          ]
        }
      ]
    },
    {
      "cell_type": "code",
      "execution_count": 499,
      "metadata": {
        "id": "jdfSCwl62vZq"
      },
      "outputs": [],
      "source": [
        "import pandas as pd\n",
        "import numpy as np\n",
        "import matplotlib.pyplot as plt\n",
        "import plotly_express as px\n",
        "import plotly.figure_factory as ff\n",
        "import seaborn as sns\n",
        "pd.set_option('display.max_columns',500)"
      ]
    },
    {
      "cell_type": "markdown",
      "source": [
        "# Loading Dataset\n",
        "\n",
        "\n",
        "\n",
        "> Firstly, i scraped  information about the matches from flashscore website but since that  requires a lot of time ,i performed furthermore reasearch and i founded a website that provides a lots of detailed info,\n",
        "so i preferred download a ready dataset\n",
        "https://www.football-data.co.uk/\n",
        "\n",
        "\n",
        "\n",
        " "
      ],
      "metadata": {
        "id": "69O6NbzIbefJ"
      }
    },
    {
      "cell_type": "code",
      "source": [
        "data=pd.read_csv('SerieA21-22.csv')"
      ],
      "metadata": {
        "id": "KVBnTkte2ywI"
      },
      "execution_count": 500,
      "outputs": []
    },
    {
      "cell_type": "code",
      "source": [
        "data[['Date','Time',\t'HomeTeam',\t'AwayTeam',\t'FTHG',\t'FTAG',\t'FTR','B365>2.5','B365<2.5']].head(10)"
      ],
      "metadata": {
        "colab": {
          "base_uri": "https://localhost:8080/",
          "height": 363
        },
        "id": "p4mepI5rK_o5",
        "outputId": "3e4ec249-5c33-4491-cacf-6d0e52760539"
      },
      "execution_count": 501,
      "outputs": [
        {
          "output_type": "execute_result",
          "data": {
            "text/plain": [
              "         Date   Time   HomeTeam     AwayTeam  FTHG  FTAG FTR  B365>2.5  \\\n",
              "0  21/08/2021  17:30      Inter        Genoa     4     0   H      1.66   \n",
              "1  21/08/2021  17:30     Verona     Sassuolo     2     3   A      1.90   \n",
              "2  21/08/2021  19:45     Empoli        Lazio     1     3   A      1.72   \n",
              "3  21/08/2021  19:45     Torino     Atalanta     1     2   A      1.57   \n",
              "4  22/08/2021  17:30    Bologna  Salernitana     3     2   H      1.80   \n",
              "5  22/08/2021  17:30    Udinese     Juventus     2     2   D      1.72   \n",
              "6  22/08/2021  19:45     Napoli      Venezia     2     0   H      1.44   \n",
              "7  22/08/2021  19:45       Roma   Fiorentina     3     1   H      1.66   \n",
              "8  23/08/2021  17:30   Cagliari       Spezia     2     2   D      1.90   \n",
              "9  23/08/2021  19:45  Sampdoria        Milan     0     1   A      1.80   \n",
              "\n",
              "   B365<2.5  \n",
              "0      2.20  \n",
              "1      2.03  \n",
              "2      2.10  \n",
              "3      2.37  \n",
              "4      2.00  \n",
              "5      2.10  \n",
              "6      2.75  \n",
              "7      2.20  \n",
              "8      1.90  \n",
              "9      2.00  "
            ],
            "text/html": [
              "\n",
              "  <div id=\"df-a61bec05-440d-4abe-86c5-41353a01b899\">\n",
              "    <div class=\"colab-df-container\">\n",
              "      <div>\n",
              "<style scoped>\n",
              "    .dataframe tbody tr th:only-of-type {\n",
              "        vertical-align: middle;\n",
              "    }\n",
              "\n",
              "    .dataframe tbody tr th {\n",
              "        vertical-align: top;\n",
              "    }\n",
              "\n",
              "    .dataframe thead th {\n",
              "        text-align: right;\n",
              "    }\n",
              "</style>\n",
              "<table border=\"1\" class=\"dataframe\">\n",
              "  <thead>\n",
              "    <tr style=\"text-align: right;\">\n",
              "      <th></th>\n",
              "      <th>Date</th>\n",
              "      <th>Time</th>\n",
              "      <th>HomeTeam</th>\n",
              "      <th>AwayTeam</th>\n",
              "      <th>FTHG</th>\n",
              "      <th>FTAG</th>\n",
              "      <th>FTR</th>\n",
              "      <th>B365&gt;2.5</th>\n",
              "      <th>B365&lt;2.5</th>\n",
              "    </tr>\n",
              "  </thead>\n",
              "  <tbody>\n",
              "    <tr>\n",
              "      <th>0</th>\n",
              "      <td>21/08/2021</td>\n",
              "      <td>17:30</td>\n",
              "      <td>Inter</td>\n",
              "      <td>Genoa</td>\n",
              "      <td>4</td>\n",
              "      <td>0</td>\n",
              "      <td>H</td>\n",
              "      <td>1.66</td>\n",
              "      <td>2.20</td>\n",
              "    </tr>\n",
              "    <tr>\n",
              "      <th>1</th>\n",
              "      <td>21/08/2021</td>\n",
              "      <td>17:30</td>\n",
              "      <td>Verona</td>\n",
              "      <td>Sassuolo</td>\n",
              "      <td>2</td>\n",
              "      <td>3</td>\n",
              "      <td>A</td>\n",
              "      <td>1.90</td>\n",
              "      <td>2.03</td>\n",
              "    </tr>\n",
              "    <tr>\n",
              "      <th>2</th>\n",
              "      <td>21/08/2021</td>\n",
              "      <td>19:45</td>\n",
              "      <td>Empoli</td>\n",
              "      <td>Lazio</td>\n",
              "      <td>1</td>\n",
              "      <td>3</td>\n",
              "      <td>A</td>\n",
              "      <td>1.72</td>\n",
              "      <td>2.10</td>\n",
              "    </tr>\n",
              "    <tr>\n",
              "      <th>3</th>\n",
              "      <td>21/08/2021</td>\n",
              "      <td>19:45</td>\n",
              "      <td>Torino</td>\n",
              "      <td>Atalanta</td>\n",
              "      <td>1</td>\n",
              "      <td>2</td>\n",
              "      <td>A</td>\n",
              "      <td>1.57</td>\n",
              "      <td>2.37</td>\n",
              "    </tr>\n",
              "    <tr>\n",
              "      <th>4</th>\n",
              "      <td>22/08/2021</td>\n",
              "      <td>17:30</td>\n",
              "      <td>Bologna</td>\n",
              "      <td>Salernitana</td>\n",
              "      <td>3</td>\n",
              "      <td>2</td>\n",
              "      <td>H</td>\n",
              "      <td>1.80</td>\n",
              "      <td>2.00</td>\n",
              "    </tr>\n",
              "    <tr>\n",
              "      <th>5</th>\n",
              "      <td>22/08/2021</td>\n",
              "      <td>17:30</td>\n",
              "      <td>Udinese</td>\n",
              "      <td>Juventus</td>\n",
              "      <td>2</td>\n",
              "      <td>2</td>\n",
              "      <td>D</td>\n",
              "      <td>1.72</td>\n",
              "      <td>2.10</td>\n",
              "    </tr>\n",
              "    <tr>\n",
              "      <th>6</th>\n",
              "      <td>22/08/2021</td>\n",
              "      <td>19:45</td>\n",
              "      <td>Napoli</td>\n",
              "      <td>Venezia</td>\n",
              "      <td>2</td>\n",
              "      <td>0</td>\n",
              "      <td>H</td>\n",
              "      <td>1.44</td>\n",
              "      <td>2.75</td>\n",
              "    </tr>\n",
              "    <tr>\n",
              "      <th>7</th>\n",
              "      <td>22/08/2021</td>\n",
              "      <td>19:45</td>\n",
              "      <td>Roma</td>\n",
              "      <td>Fiorentina</td>\n",
              "      <td>3</td>\n",
              "      <td>1</td>\n",
              "      <td>H</td>\n",
              "      <td>1.66</td>\n",
              "      <td>2.20</td>\n",
              "    </tr>\n",
              "    <tr>\n",
              "      <th>8</th>\n",
              "      <td>23/08/2021</td>\n",
              "      <td>17:30</td>\n",
              "      <td>Cagliari</td>\n",
              "      <td>Spezia</td>\n",
              "      <td>2</td>\n",
              "      <td>2</td>\n",
              "      <td>D</td>\n",
              "      <td>1.90</td>\n",
              "      <td>1.90</td>\n",
              "    </tr>\n",
              "    <tr>\n",
              "      <th>9</th>\n",
              "      <td>23/08/2021</td>\n",
              "      <td>19:45</td>\n",
              "      <td>Sampdoria</td>\n",
              "      <td>Milan</td>\n",
              "      <td>0</td>\n",
              "      <td>1</td>\n",
              "      <td>A</td>\n",
              "      <td>1.80</td>\n",
              "      <td>2.00</td>\n",
              "    </tr>\n",
              "  </tbody>\n",
              "</table>\n",
              "</div>\n",
              "      <button class=\"colab-df-convert\" onclick=\"convertToInteractive('df-a61bec05-440d-4abe-86c5-41353a01b899')\"\n",
              "              title=\"Convert this dataframe to an interactive table.\"\n",
              "              style=\"display:none;\">\n",
              "        \n",
              "  <svg xmlns=\"http://www.w3.org/2000/svg\" height=\"24px\"viewBox=\"0 0 24 24\"\n",
              "       width=\"24px\">\n",
              "    <path d=\"M0 0h24v24H0V0z\" fill=\"none\"/>\n",
              "    <path d=\"M18.56 5.44l.94 2.06.94-2.06 2.06-.94-2.06-.94-.94-2.06-.94 2.06-2.06.94zm-11 1L8.5 8.5l.94-2.06 2.06-.94-2.06-.94L8.5 2.5l-.94 2.06-2.06.94zm10 10l.94 2.06.94-2.06 2.06-.94-2.06-.94-.94-2.06-.94 2.06-2.06.94z\"/><path d=\"M17.41 7.96l-1.37-1.37c-.4-.4-.92-.59-1.43-.59-.52 0-1.04.2-1.43.59L10.3 9.45l-7.72 7.72c-.78.78-.78 2.05 0 2.83L4 21.41c.39.39.9.59 1.41.59.51 0 1.02-.2 1.41-.59l7.78-7.78 2.81-2.81c.8-.78.8-2.07 0-2.86zM5.41 20L4 18.59l7.72-7.72 1.47 1.35L5.41 20z\"/>\n",
              "  </svg>\n",
              "      </button>\n",
              "      \n",
              "  <style>\n",
              "    .colab-df-container {\n",
              "      display:flex;\n",
              "      flex-wrap:wrap;\n",
              "      gap: 12px;\n",
              "    }\n",
              "\n",
              "    .colab-df-convert {\n",
              "      background-color: #E8F0FE;\n",
              "      border: none;\n",
              "      border-radius: 50%;\n",
              "      cursor: pointer;\n",
              "      display: none;\n",
              "      fill: #1967D2;\n",
              "      height: 32px;\n",
              "      padding: 0 0 0 0;\n",
              "      width: 32px;\n",
              "    }\n",
              "\n",
              "    .colab-df-convert:hover {\n",
              "      background-color: #E2EBFA;\n",
              "      box-shadow: 0px 1px 2px rgba(60, 64, 67, 0.3), 0px 1px 3px 1px rgba(60, 64, 67, 0.15);\n",
              "      fill: #174EA6;\n",
              "    }\n",
              "\n",
              "    [theme=dark] .colab-df-convert {\n",
              "      background-color: #3B4455;\n",
              "      fill: #D2E3FC;\n",
              "    }\n",
              "\n",
              "    [theme=dark] .colab-df-convert:hover {\n",
              "      background-color: #434B5C;\n",
              "      box-shadow: 0px 1px 3px 1px rgba(0, 0, 0, 0.15);\n",
              "      filter: drop-shadow(0px 1px 2px rgba(0, 0, 0, 0.3));\n",
              "      fill: #FFFFFF;\n",
              "    }\n",
              "  </style>\n",
              "\n",
              "      <script>\n",
              "        const buttonEl =\n",
              "          document.querySelector('#df-a61bec05-440d-4abe-86c5-41353a01b899 button.colab-df-convert');\n",
              "        buttonEl.style.display =\n",
              "          google.colab.kernel.accessAllowed ? 'block' : 'none';\n",
              "\n",
              "        async function convertToInteractive(key) {\n",
              "          const element = document.querySelector('#df-a61bec05-440d-4abe-86c5-41353a01b899');\n",
              "          const dataTable =\n",
              "            await google.colab.kernel.invokeFunction('convertToInteractive',\n",
              "                                                     [key], {});\n",
              "          if (!dataTable) return;\n",
              "\n",
              "          const docLinkHtml = 'Like what you see? Visit the ' +\n",
              "            '<a target=\"_blank\" href=https://colab.research.google.com/notebooks/data_table.ipynb>data table notebook</a>'\n",
              "            + ' to learn more about interactive tables.';\n",
              "          element.innerHTML = '';\n",
              "          dataTable['output_type'] = 'display_data';\n",
              "          await google.colab.output.renderOutput(dataTable, element);\n",
              "          const docLink = document.createElement('div');\n",
              "          docLink.innerHTML = docLinkHtml;\n",
              "          element.appendChild(docLink);\n",
              "        }\n",
              "      </script>\n",
              "    </div>\n",
              "  </div>\n",
              "  "
            ]
          },
          "metadata": {},
          "execution_count": 501
        }
      ]
    },
    {
      "cell_type": "code",
      "source": [
        "data.shape"
      ],
      "metadata": {
        "colab": {
          "base_uri": "https://localhost:8080/"
        },
        "id": "mq-5F3dtEU2u",
        "outputId": "cedacb14-ee96-478f-8121-23b6d1dc68b5"
      },
      "execution_count": 502,
      "outputs": [
        {
          "output_type": "execute_result",
          "data": {
            "text/plain": [
              "(380, 105)"
            ]
          },
          "metadata": {},
          "execution_count": 502
        }
      ]
    },
    {
      "cell_type": "code",
      "source": [
        "data.columns"
      ],
      "metadata": {
        "colab": {
          "base_uri": "https://localhost:8080/"
        },
        "id": "XOGEY7rAgpQe",
        "outputId": "1bf3583c-4432-4015-eea1-cb495a0abf69"
      },
      "execution_count": 503,
      "outputs": [
        {
          "output_type": "execute_result",
          "data": {
            "text/plain": [
              "Index(['Div', 'Date', 'Time', 'HomeTeam', 'AwayTeam', 'FTHG', 'FTAG', 'FTR',\n",
              "       'HTHG', 'HTAG',\n",
              "       ...\n",
              "       'AvgC<2.5', 'AHCh', 'B365CAHH', 'B365CAHA', 'PCAHH', 'PCAHA', 'MaxCAHH',\n",
              "       'MaxCAHA', 'AvgCAHH', 'AvgCAHA'],\n",
              "      dtype='object', length=105)"
            ]
          },
          "metadata": {},
          "execution_count": 503
        }
      ]
    },
    {
      "cell_type": "markdown",
      "source": [
        "#EDA and Feature Engineering\n",
        "\n",
        "In this part of the analysis  i will execute the following steps:\n",
        "\n",
        "> First of all  i will create  the target variable: \n",
        ">\n",
        "> *target* \n",
        ">\n",
        "> 1 -> Over 2.5\n",
        ">  \n",
        "> 0 -> Under 2.5\n",
        "\n",
        "> Then  i am going to take a look to some  variables in order to have a general overview, after i will compute the accuracy according to the odds of the bet365 website in order to have a metric to compare\n",
        "\n",
        ">At this point i will perform feature engineering,i should  compute the average  stats of the last 5(or another number) matches for each team,and the the average  stats of the total previous  matches for each team\n",
        "\n",
        "> After that i will check if there  are Nan values\n"
      ],
      "metadata": {
        "id": "AjkjwtKhbk8P"
      }
    },
    {
      "cell_type": "markdown",
      "source": [
        "## *Target Variable*"
      ],
      "metadata": {
        "id": "Y5N6MJzlGCn7"
      }
    },
    {
      "cell_type": "markdown",
      "source": [
        "\n",
        "\n",
        "> To create the target variables i just need to look at the final result,more precisily i am going to look at the variables *FTHG* and *FTAG*,i will sum their value and convert it into a binary variable \n",
        "\n",
        "\n",
        "\n",
        "> 1 means Over 2.5\n",
        ">\n",
        "> 0 means Under 2.5\n",
        "\n",
        "\n",
        "\n"
      ],
      "metadata": {
        "id": "Q9h5cq9DZ3Wd"
      }
    },
    {
      "cell_type": "code",
      "source": [
        "dft=data[['FTHG','FTAG','B365>2.5','B365<2.5']]\n",
        "target=[]\n",
        "predB365=[]\n",
        "for i in (range(len(dft))):\n",
        "  sum=dft['FTHG'].iloc[i]+dft['FTAG'].iloc[i]\n",
        "  if(sum>2):target.append(1)\n",
        "  else:target.append(0)\n",
        "  if(dft['B365>2.5'].iloc[i]<dft['B365<2.5'].iloc[i]):predB365.append(1)\n",
        "  else:predB365.append(0)\n",
        "    "
      ],
      "metadata": {
        "id": "0upsej98qEGw"
      },
      "execution_count": 504,
      "outputs": []
    },
    {
      "cell_type": "code",
      "source": [
        "data['target']=target\n",
        "data['predB365']=predB365"
      ],
      "metadata": {
        "id": "qhSGUeuDNYkO"
      },
      "execution_count": 505,
      "outputs": []
    },
    {
      "cell_type": "code",
      "source": [
        "#I will compute the accuracy of the odds\n",
        "from sklearn import metrics\n",
        "accuracy = metrics.accuracy_score(target, predB365)\n",
        "accuracy"
      ],
      "metadata": {
        "colab": {
          "base_uri": "https://localhost:8080/"
        },
        "id": "lHK59y88clPB",
        "outputId": "66164067-8794-488f-eb5e-12c2d195da47"
      },
      "execution_count": 506,
      "outputs": [
        {
          "output_type": "execute_result",
          "data": {
            "text/plain": [
              "0.5789473684210527"
            ]
          },
          "metadata": {},
          "execution_count": 506
        }
      ]
    },
    {
      "cell_type": "code",
      "source": [
        "from matplotlib import pyplot as plt\n",
        "import seaborn as sns\n",
        "sns.set_style('darkgrid')"
      ],
      "metadata": {
        "id": "NhCLKe0HdKmI"
      },
      "execution_count": 507,
      "outputs": []
    },
    {
      "cell_type": "code",
      "source": [
        "#Number of occurences in target variable\n",
        "target=pd.Series(target)\n",
        "\n",
        "plt.figure(figsize=(7,7))\n",
        "colors = ['#003f5c', '#ffa600']\n",
        "target.value_counts().plot.bar(ylabel=' ',color=colors)\n",
        "plt.title(f'0 - Under2.5 (negative)\\n 1 - Over2.5 (positive) ', size=14, c='black')\n",
        "plt.tight_layout()\n",
        "plt.show() "
      ],
      "metadata": {
        "colab": {
          "base_uri": "https://localhost:8080/",
          "height": 513
        },
        "id": "6mjxv7o-dVu0",
        "outputId": "9e9d24fd-c45e-4fa6-a419-34bdc652267c"
      },
      "execution_count": 508,
      "outputs": [
        {
          "output_type": "display_data",
          "data": {
            "text/plain": [
              "<Figure size 504x504 with 1 Axes>"
            ],
            "image/png": "[encoded data removed]"
          },
          "metadata": {}
        }
      ]
    },
    {
      "cell_type": "code",
      "source": [
        "print(f'Relative Frequency of Over 2.5:  {target.mean()*100}\\nReleativeFrequency Under 2.5:   {(100-(target.mean()*100))}')"
      ],
      "metadata": {
        "colab": {
          "base_uri": "https://localhost:8080/"
        },
        "id": "a4kxanyQDV3S",
        "outputId": "ceda3f60-f792-479a-fd88-d5cfe5237498"
      },
      "execution_count": 509,
      "outputs": [
        {
          "output_type": "stream",
          "name": "stdout",
          "text": [
            "Relative Frequency of Over 2.5:  55.78947368421052\n",
            "ReleativeFrequency Under 2.5:   44.21052631578948\n"
          ]
        }
      ]
    },
    {
      "cell_type": "markdown",
      "source": [
        ">Looking at the frequencies of the target variable we can state that during the championship related to year 2021/2022 we would have a 56% empirical probability of guessing the Over 2.5 outcome by choosing at random"
      ],
      "metadata": {
        "id": "Qxv57Ty1LgqD"
      }
    },
    {
      "cell_type": "code",
      "source": [
        "#Misclassification Error\n",
        "confusion_matrix = metrics.confusion_matrix(target, predB365)\n",
        "cm_display = metrics.ConfusionMatrixDisplay(confusion_matrix = confusion_matrix, display_labels = [False, True])\n",
        "cm_display.plot()\n",
        "plt.grid(b=None)\n",
        "plt.show()"
      ],
      "metadata": {
        "colab": {
          "base_uri": "https://localhost:8080/",
          "height": 279
        },
        "id": "62yFnctwfD6G",
        "outputId": "8318e952-c9ba-425a-f8d1-2d8ffba0bf6e"
      },
      "execution_count": 510,
      "outputs": [
        {
          "output_type": "display_data",
          "data": {
            "text/plain": [
              "<Figure size 432x288 with 2 Axes>"
            ],
            "image/png": "[encoded data removed]"
          },
          "metadata": {}
        }
      ]
    },
    {
      "cell_type": "code",
      "source": [
        "#Precision score over 2.5 and under 2.5\n",
        "precision_positive = metrics.precision_score(target, predB365, pos_label=1)\n",
        "precision_negative = metrics.precision_score(target, predB365, pos_label=0)\n",
        "print(f\"Precision score over2.5:  {precision_positive}\\nPrecision score under2.5:  {precision_negative}\\nAccuracy:  {accuracy}\")"
      ],
      "metadata": {
        "colab": {
          "base_uri": "https://localhost:8080/"
        },
        "id": "PQ1IAZfxgP5n",
        "outputId": "4a074b99-c55d-4910-8504-47a34c30a4b1"
      },
      "execution_count": 511,
      "outputs": [
        {
          "output_type": "stream",
          "name": "stdout",
          "text": [
            "Precision score over2.5:  0.5860927152317881\n",
            "Precision score under2.5:  0.5512820512820513\n",
            "Accuracy:  0.5789473684210527\n"
          ]
        }
      ]
    },
    {
      "cell_type": "markdown",
      "source": [
        ">Instead using  the odds offered by bookmaker B365 to choose the event Over 2.5 If we had played according to the odds  we would have guessed the 58% of the bets\n",
        "\n",
        ">To be competitive i should do better than those metrics\n"
      ],
      "metadata": {
        "id": "pfo_IG4rNj88"
      }
    },
    {
      "cell_type": "markdown",
      "source": [
        "##*Creating feature variables*\n",
        "\n",
        "> First of all I have to create the variables that i will use to the analysis,then I am going to take a look at the variables to understand better the problem \n",
        "\n"
      ],
      "metadata": {
        "id": "26sM064yLtVE"
      }
    },
    {
      "cell_type": "code",
      "source": [
        "data.head(3)"
      ],
      "metadata": {
        "colab": {
          "base_uri": "https://localhost:8080/",
          "height": 208
        },
        "id": "r4uqabKbSE2H",
        "outputId": "bcb617da-e4b8-4e34-d065-1a0cdc5e3795"
      },
      "execution_count": 512,
      "outputs": [
        {
          "output_type": "execute_result",
          "data": {
            "text/plain": [
              "  Div        Date   Time HomeTeam  AwayTeam  FTHG  FTAG FTR  HTHG  HTAG HTR  \\\n",
              "0  I1  21/08/2021  17:30    Inter     Genoa     4     0   H     2     0   H   \n",
              "1  I1  21/08/2021  17:30   Verona  Sassuolo     2     3   A     0     1   A   \n",
              "2  I1  21/08/2021  19:45   Empoli     Lazio     1     3   A     1     3   A   \n",
              "\n",
              "   HS  AS  HST  AST  HF  AF  HC  AC  HY  AY  HR  AR  B365H  B365D  B365A  \\\n",
              "0  17  11    8    5  18   7   8   2   1   2   0   0   1.33   5.25   9.00   \n",
              "1  12  15    4    8  11  12   7   4   3   2   1   0   2.62   3.30   2.62   \n",
              "2  16   8    5    5  13  10   5   3   2   1   0   0   4.60   4.00   1.70   \n",
              "\n",
              "    BWH  BWD   BWA   IWH   IWD  IWA   PSH   PSD   PSA   WHH  WHD   WHA   VCH  \\\n",
              "0  1.33  5.5  8.50  1.37  5.25  8.0  1.36  5.37  9.65  1.35  5.0  9.00  1.30   \n",
              "1  2.55  3.5  2.70  2.60  3.45  2.7  2.66  3.55  2.75  2.60  3.4  2.70  2.63   \n",
              "2  4.60  3.9  1.75  4.60  3.95  1.7  5.01  4.02  1.74  4.75  3.7  1.75  5.00   \n",
              "\n",
              "    VCD   VCA  MaxH  MaxD   MaxA  AvgH  AvgD  AvgA  B365>2.5  B365<2.5  P>2.5  \\\n",
              "0  5.00  10.0  1.40  5.50  10.00  1.35  5.16  8.94      1.66      2.20   1.67   \n",
              "1  3.25   2.7  2.74  3.55   2.79  2.61  3.43  2.69      1.90      2.03   1.87   \n",
              "2  3.70   1.7  5.01  4.03   1.79  4.71  3.90  1.73      1.72      2.10   1.75   \n",
              "\n",
              "   P<2.5  Max>2.5  Max<2.5  Avg>2.5  Avg<2.5   AHh  B365AHH  B365AHA  PAHH  \\\n",
              "0   2.33     1.71     2.38     1.63     2.28 -1.25     1.75     2.05  1.81   \n",
              "1   2.04     1.90     2.06     1.85     1.98  0.00     1.93     2.00  1.93   \n",
              "2   2.19     1.78     2.21     1.72     2.15  0.75     1.98     1.95  1.97   \n",
              "\n",
              "   PAHA  MaxAHH  MaxAHA  AvgAHH  AvgAHA  B365CH  B365CD  B365CA  BWCH  BWCD  \\\n",
              "0  2.11    1.87    2.13    1.80    2.07    1.28    5.75   11.00  1.30  5.25   \n",
              "1  1.99    1.95    2.01    1.91    1.97    2.50    3.40    2.75  2.55  3.50   \n",
              "2  1.94    2.00    2.00    1.93    1.93    3.75    3.80    1.90  4.00  3.75   \n",
              "\n",
              "    BWCA  IWCH  IWCD   IWCA  PSCH  PSCD   PSCA  WHCH  WHCD   WHCA  VCCH  VCCD  \\\n",
              "0  10.50  1.30  5.25  11.00  1.31  5.78  11.37  1.29   5.5  11.00  1.25  5.75   \n",
              "1   2.70  2.55  3.35   2.75  2.64  3.43   2.84  2.50   3.4   2.80  2.55  3.25   \n",
              "2   1.87  3.65  3.75   1.95  4.11  3.84   1.93  4.00   3.7   1.88  4.00  3.60   \n",
              "\n",
              "   VCCA  MaxCH  MaxCD  MaxCA  AvgCH  AvgCD  AvgCA  B365C>2.5  B365C<2.5  \\\n",
              "0  11.5   1.35   6.25  12.75   1.29   5.58  10.84       1.61        2.3   \n",
              "1   2.8   2.75   3.50   2.90   2.57   3.40   2.76       1.80        2.0   \n",
              "2   1.9   4.50   3.94   2.00   4.06   3.77   1.88       1.66        2.2   \n",
              "\n",
              "   PC>2.5  PC<2.5  MaxC>2.5  MaxC<2.5  AvgC>2.5  AvgC<2.5  AHCh  B365CAHH  \\\n",
              "0    1.61    2.45      1.70      2.55      1.62      2.32  -1.5      1.88   \n",
              "1    1.81    2.10      1.87      2.17      1.80      2.03   0.0      1.88   \n",
              "2    1.69    2.29      1.74      2.39      1.68      2.21   0.5      2.00   \n",
              "\n",
              "   B365CAHA  PCAHH  PCAHA  MaxCAHH  MaxCAHA  AvgCAHH  AvgCAHA  target  \\\n",
              "0      2.05   1.89   2.03     1.96     2.09     1.86     2.01       1   \n",
              "1      2.05   1.89   2.04     2.00     2.07     1.86     2.02       1   \n",
              "2      1.93   2.00   1.93     2.06     1.95     1.99     1.88       1   \n",
              "\n",
              "   predB365  \n",
              "0         1  \n",
              "1         1  \n",
              "2         1  "
            ],
            "text/html": [
              "\n",
              "  <div id=\"df-ef9d56ff-94ac-48a1-9a94-86fceea00614\">\n",
              "    <div class=\"colab-df-container\">\n",
              "      <div>\n",
              "<style scoped>\n",
              "    .dataframe tbody tr th:only-of-type {\n",
              "        vertical-align: middle;\n",
              "    }\n",
              "\n",
              "    .dataframe tbody tr th {\n",
              "        vertical-align: top;\n",
              "    }\n",
              "\n",
              "    .dataframe thead th {\n",
              "        text-align: right;\n",
              "    }\n",
              "</style>\n",
              "<table border=\"1\" class=\"dataframe\">\n",
              "  <thead>\n",
              "    <tr style=\"text-align: right;\">\n",
              "      <th></th>\n",
              "      <th>Div</th>\n",
              "      <th>Date</th>\n",
              "      <th>Time</th>\n",
              "      <th>HomeTeam</th>\n",
              "      <th>AwayTeam</th>\n",
              "      <th>FTHG</th>\n",
              "      <th>FTAG</th>\n",
              "      <th>FTR</th>\n",
              "      <th>HTHG</th>\n",
              "      <th>HTAG</th>\n",
              "      <th>HTR</th>\n",
              "      <th>HS</th>\n",
              "      <th>AS</th>\n",
              "      <th>HST</th>\n",
              "      <th>AST</th>\n",
              "      <th>HF</th>\n",
              "      <th>AF</th>\n",
              "      <th>HC</th>\n",
              "      <th>AC</th>\n",
              "      <th>HY</th>\n",
              "      <th>AY</th>\n",
              "      <th>HR</th>\n",
              "      <th>AR</th>\n",
              "      <th>B365H</th>\n",
              "      <th>B365D</th>\n",
              "      <th>B365A</th>\n",
              "      <th>BWH</th>\n",
              "      <th>BWD</th>\n",
              "      <th>BWA</th>\n",
              "      <th>IWH</th>\n",
              "      <th>IWD</th>\n",
              "      <th>IWA</th>\n",
              "      <th>PSH</th>\n",
              "      <th>PSD</th>\n",
              "      <th>PSA</th>\n",
              "      <th>WHH</th>\n",
              "      <th>WHD</th>\n",
              "      <th>WHA</th>\n",
              "      <th>VCH</th>\n",
              "      <th>VCD</th>\n",
              "      <th>VCA</th>\n",
              "      <th>MaxH</th>\n",
              "      <th>MaxD</th>\n",
              "      <th>MaxA</th>\n",
              "      <th>AvgH</th>\n",
              "      <th>AvgD</th>\n",
              "      <th>AvgA</th>\n",
              "      <th>B365&gt;2.5</th>\n",
              "      <th>B365&lt;2.5</th>\n",
              "      <th>P&gt;2.5</th>\n",
              "      <th>P&lt;2.5</th>\n",
              "      <th>Max&gt;2.5</th>\n",
              "      <th>Max&lt;2.5</th>\n",
              "      <th>Avg&gt;2.5</th>\n",
              "      <th>Avg&lt;2.5</th>\n",
              "      <th>AHh</th>\n",
              "      <th>B365AHH</th>\n",
              "      <th>B365AHA</th>\n",
              "      <th>PAHH</th>\n",
              "      <th>PAHA</th>\n",
              "      <th>MaxAHH</th>\n",
              "      <th>MaxAHA</th>\n",
              "      <th>AvgAHH</th>\n",
              "      <th>AvgAHA</th>\n",
              "      <th>B365CH</th>\n",
              "      <th>B365CD</th>\n",
              "      <th>B365CA</th>\n",
              "      <th>BWCH</th>\n",
              "      <th>BWCD</th>\n",
              "      <th>BWCA</th>\n",
              "      <th>IWCH</th>\n",
              "      <th>IWCD</th>\n",
              "      <th>IWCA</th>\n",
              "      <th>PSCH</th>\n",
              "      <th>PSCD</th>\n",
              "      <th>PSCA</th>\n",
              "      <th>WHCH</th>\n",
              "      <th>WHCD</th>\n",
              "      <th>WHCA</th>\n",
              "      <th>VCCH</th>\n",
              "      <th>VCCD</th>\n",
              "      <th>VCCA</th>\n",
              "      <th>MaxCH</th>\n",
              "      <th>MaxCD</th>\n",
              "      <th>MaxCA</th>\n",
              "      <th>AvgCH</th>\n",
              "      <th>AvgCD</th>\n",
              "      <th>AvgCA</th>\n",
              "      <th>B365C&gt;2.5</th>\n",
              "      <th>B365C&lt;2.5</th>\n",
              "      <th>PC&gt;2.5</th>\n",
              "      <th>PC&lt;2.5</th>\n",
              "      <th>MaxC&gt;2.5</th>\n",
              "      <th>MaxC&lt;2.5</th>\n",
              "      <th>AvgC&gt;2.5</th>\n",
              "      <th>AvgC&lt;2.5</th>\n",
              "      <th>AHCh</th>\n",
              "      <th>B365CAHH</th>\n",
              "      <th>B365CAHA</th>\n",
              "      <th>PCAHH</th>\n",
              "      <th>PCAHA</th>\n",
              "      <th>MaxCAHH</th>\n",
              "      <th>MaxCAHA</th>\n",
              "      <th>AvgCAHH</th>\n",
              "      <th>AvgCAHA</th>\n",
              "      <th>target</th>\n",
              "      <th>predB365</th>\n",
              "    </tr>\n",
              "  </thead>\n",
              "  <tbody>\n",
              "    <tr>\n",
              "      <th>0</th>\n",
              "      <td>I1</td>\n",
              "      <td>21/08/2021</td>\n",
              "      <td>17:30</td>\n",
              "      <td>Inter</td>\n",
              "      <td>Genoa</td>\n",
              "      <td>4</td>\n",
              "      <td>0</td>\n",
              "      <td>H</td>\n",
              "      <td>2</td>\n",
              "      <td>0</td>\n",
              "      <td>H</td>\n",
              "      <td>17</td>\n",
              "      <td>11</td>\n",
              "      <td>8</td>\n",
              "      <td>5</td>\n",
              "      <td>18</td>\n",
              "      <td>7</td>\n",
              "      <td>8</td>\n",
              "      <td>2</td>\n",
              "      <td>1</td>\n",
              "      <td>2</td>\n",
              "      <td>0</td>\n",
              "      <td>0</td>\n",
              "      <td>1.33</td>\n",
              "      <td>5.25</td>\n",
              "      <td>9.00</td>\n",
              "      <td>1.33</td>\n",
              "      <td>5.5</td>\n",
              "      <td>8.50</td>\n",
              "      <td>1.37</td>\n",
              "      <td>5.25</td>\n",
              "      <td>8.0</td>\n",
              "      <td>1.36</td>\n",
              "      <td>5.37</td>\n",
              "      <td>9.65</td>\n",
              "      <td>1.35</td>\n",
              "      <td>5.0</td>\n",
              "      <td>9.00</td>\n",
              "      <td>1.30</td>\n",
              "      <td>5.00</td>\n",
              "      <td>10.0</td>\n",
              "      <td>1.40</td>\n",
              "      <td>5.50</td>\n",
              "      <td>10.00</td>\n",
              "      <td>1.35</td>\n",
              "      <td>5.16</td>\n",
              "      <td>8.94</td>\n",
              "      <td>1.66</td>\n",
              "      <td>2.20</td>\n",
              "      <td>1.67</td>\n",
              "      <td>2.33</td>\n",
              "      <td>1.71</td>\n",
              "      <td>2.38</td>\n",
              "      <td>1.63</td>\n",
              "      <td>2.28</td>\n",
              "      <td>-1.25</td>\n",
              "      <td>1.75</td>\n",
              "      <td>2.05</td>\n",
              "      <td>1.81</td>\n",
              "      <td>2.11</td>\n",
              "      <td>1.87</td>\n",
              "      <td>2.13</td>\n",
              "      <td>1.80</td>\n",
              "      <td>2.07</td>\n",
              "      <td>1.28</td>\n",
              "      <td>5.75</td>\n",
              "      <td>11.00</td>\n",
              "      <td>1.30</td>\n",
              "      <td>5.25</td>\n",
              "      <td>10.50</td>\n",
              "      <td>1.30</td>\n",
              "      <td>5.25</td>\n",
              "      <td>11.00</td>\n",
              "      <td>1.31</td>\n",
              "      <td>5.78</td>\n",
              "      <td>11.37</td>\n",
              "      <td>1.29</td>\n",
              "      <td>5.5</td>\n",
              "      <td>11.00</td>\n",
              "      <td>1.25</td>\n",
              "      <td>5.75</td>\n",
              "      <td>11.5</td>\n",
              "      <td>1.35</td>\n",
              "      <td>6.25</td>\n",
              "      <td>12.75</td>\n",
              "      <td>1.29</td>\n",
              "      <td>5.58</td>\n",
              "      <td>10.84</td>\n",
              "      <td>1.61</td>\n",
              "      <td>2.3</td>\n",
              "      <td>1.61</td>\n",
              "      <td>2.45</td>\n",
              "      <td>1.70</td>\n",
              "      <td>2.55</td>\n",
              "      <td>1.62</td>\n",
              "      <td>2.32</td>\n",
              "      <td>-1.5</td>\n",
              "      <td>1.88</td>\n",
              "      <td>2.05</td>\n",
              "      <td>1.89</td>\n",
              "      <td>2.03</td>\n",
              "      <td>1.96</td>\n",
              "      <td>2.09</td>\n",
              "      <td>1.86</td>\n",
              "      <td>2.01</td>\n",
              "      <td>1</td>\n",
              "      <td>1</td>\n",
              "    </tr>\n",
              "    <tr>\n",
              "      <th>1</th>\n",
              "      <td>I1</td>\n",
              "      <td>21/08/2021</td>\n",
              "      <td>17:30</td>\n",
              "      <td>Verona</td>\n",
              "      <td>Sassuolo</td>\n",
              "      <td>2</td>\n",
              "      <td>3</td>\n",
              "      <td>A</td>\n",
              "      <td>0</td>\n",
              "      <td>1</td>\n",
              "      <td>A</td>\n",
              "      <td>12</td>\n",
              "      <td>15</td>\n",
              "      <td>4</td>\n",
              "      <td>8</td>\n",
              "      <td>11</td>\n",
              "      <td>12</td>\n",
              "      <td>7</td>\n",
              "      <td>4</td>\n",
              "      <td>3</td>\n",
              "      <td>2</td>\n",
              "      <td>1</td>\n",
              "      <td>0</td>\n",
              "      <td>2.62</td>\n",
              "      <td>3.30</td>\n",
              "      <td>2.62</td>\n",
              "      <td>2.55</td>\n",
              "      <td>3.5</td>\n",
              "      <td>2.70</td>\n",
              "      <td>2.60</td>\n",
              "      <td>3.45</td>\n",
              "      <td>2.7</td>\n",
              "      <td>2.66</td>\n",
              "      <td>3.55</td>\n",
              "      <td>2.75</td>\n",
              "      <td>2.60</td>\n",
              "      <td>3.4</td>\n",
              "      <td>2.70</td>\n",
              "      <td>2.63</td>\n",
              "      <td>3.25</td>\n",
              "      <td>2.7</td>\n",
              "      <td>2.74</td>\n",
              "      <td>3.55</td>\n",
              "      <td>2.79</td>\n",
              "      <td>2.61</td>\n",
              "      <td>3.43</td>\n",
              "      <td>2.69</td>\n",
              "      <td>1.90</td>\n",
              "      <td>2.03</td>\n",
              "      <td>1.87</td>\n",
              "      <td>2.04</td>\n",
              "      <td>1.90</td>\n",
              "      <td>2.06</td>\n",
              "      <td>1.85</td>\n",
              "      <td>1.98</td>\n",
              "      <td>0.00</td>\n",
              "      <td>1.93</td>\n",
              "      <td>2.00</td>\n",
              "      <td>1.93</td>\n",
              "      <td>1.99</td>\n",
              "      <td>1.95</td>\n",
              "      <td>2.01</td>\n",
              "      <td>1.91</td>\n",
              "      <td>1.97</td>\n",
              "      <td>2.50</td>\n",
              "      <td>3.40</td>\n",
              "      <td>2.75</td>\n",
              "      <td>2.55</td>\n",
              "      <td>3.50</td>\n",
              "      <td>2.70</td>\n",
              "      <td>2.55</td>\n",
              "      <td>3.35</td>\n",
              "      <td>2.75</td>\n",
              "      <td>2.64</td>\n",
              "      <td>3.43</td>\n",
              "      <td>2.84</td>\n",
              "      <td>2.50</td>\n",
              "      <td>3.4</td>\n",
              "      <td>2.80</td>\n",
              "      <td>2.55</td>\n",
              "      <td>3.25</td>\n",
              "      <td>2.8</td>\n",
              "      <td>2.75</td>\n",
              "      <td>3.50</td>\n",
              "      <td>2.90</td>\n",
              "      <td>2.57</td>\n",
              "      <td>3.40</td>\n",
              "      <td>2.76</td>\n",
              "      <td>1.80</td>\n",
              "      <td>2.0</td>\n",
              "      <td>1.81</td>\n",
              "      <td>2.10</td>\n",
              "      <td>1.87</td>\n",
              "      <td>2.17</td>\n",
              "      <td>1.80</td>\n",
              "      <td>2.03</td>\n",
              "      <td>0.0</td>\n",
              "      <td>1.88</td>\n",
              "      <td>2.05</td>\n",
              "      <td>1.89</td>\n",
              "      <td>2.04</td>\n",
              "      <td>2.00</td>\n",
              "      <td>2.07</td>\n",
              "      <td>1.86</td>\n",
              "      <td>2.02</td>\n",
              "      <td>1</td>\n",
              "      <td>1</td>\n",
              "    </tr>\n",
              "    <tr>\n",
              "      <th>2</th>\n",
              "      <td>I1</td>\n",
              "      <td>21/08/2021</td>\n",
              "      <td>19:45</td>\n",
              "      <td>Empoli</td>\n",
              "      <td>Lazio</td>\n",
              "      <td>1</td>\n",
              "      <td>3</td>\n",
              "      <td>A</td>\n",
              "      <td>1</td>\n",
              "      <td>3</td>\n",
              "      <td>A</td>\n",
              "      <td>16</td>\n",
              "      <td>8</td>\n",
              "      <td>5</td>\n",
              "      <td>5</td>\n",
              "      <td>13</td>\n",
              "      <td>10</td>\n",
              "      <td>5</td>\n",
              "      <td>3</td>\n",
              "      <td>2</td>\n",
              "      <td>1</td>\n",
              "      <td>0</td>\n",
              "      <td>0</td>\n",
              "      <td>4.60</td>\n",
              "      <td>4.00</td>\n",
              "      <td>1.70</td>\n",
              "      <td>4.60</td>\n",
              "      <td>3.9</td>\n",
              "      <td>1.75</td>\n",
              "      <td>4.60</td>\n",
              "      <td>3.95</td>\n",
              "      <td>1.7</td>\n",
              "      <td>5.01</td>\n",
              "      <td>4.02</td>\n",
              "      <td>1.74</td>\n",
              "      <td>4.75</td>\n",
              "      <td>3.7</td>\n",
              "      <td>1.75</td>\n",
              "      <td>5.00</td>\n",
              "      <td>3.70</td>\n",
              "      <td>1.7</td>\n",
              "      <td>5.01</td>\n",
              "      <td>4.03</td>\n",
              "      <td>1.79</td>\n",
              "      <td>4.71</td>\n",
              "      <td>3.90</td>\n",
              "      <td>1.73</td>\n",
              "      <td>1.72</td>\n",
              "      <td>2.10</td>\n",
              "      <td>1.75</td>\n",
              "      <td>2.19</td>\n",
              "      <td>1.78</td>\n",
              "      <td>2.21</td>\n",
              "      <td>1.72</td>\n",
              "      <td>2.15</td>\n",
              "      <td>0.75</td>\n",
              "      <td>1.98</td>\n",
              "      <td>1.95</td>\n",
              "      <td>1.97</td>\n",
              "      <td>1.94</td>\n",
              "      <td>2.00</td>\n",
              "      <td>2.00</td>\n",
              "      <td>1.93</td>\n",
              "      <td>1.93</td>\n",
              "      <td>3.75</td>\n",
              "      <td>3.80</td>\n",
              "      <td>1.90</td>\n",
              "      <td>4.00</td>\n",
              "      <td>3.75</td>\n",
              "      <td>1.87</td>\n",
              "      <td>3.65</td>\n",
              "      <td>3.75</td>\n",
              "      <td>1.95</td>\n",
              "      <td>4.11</td>\n",
              "      <td>3.84</td>\n",
              "      <td>1.93</td>\n",
              "      <td>4.00</td>\n",
              "      <td>3.7</td>\n",
              "      <td>1.88</td>\n",
              "      <td>4.00</td>\n",
              "      <td>3.60</td>\n",
              "      <td>1.9</td>\n",
              "      <td>4.50</td>\n",
              "      <td>3.94</td>\n",
              "      <td>2.00</td>\n",
              "      <td>4.06</td>\n",
              "      <td>3.77</td>\n",
              "      <td>1.88</td>\n",
              "      <td>1.66</td>\n",
              "      <td>2.2</td>\n",
              "      <td>1.69</td>\n",
              "      <td>2.29</td>\n",
              "      <td>1.74</td>\n",
              "      <td>2.39</td>\n",
              "      <td>1.68</td>\n",
              "      <td>2.21</td>\n",
              "      <td>0.5</td>\n",
              "      <td>2.00</td>\n",
              "      <td>1.93</td>\n",
              "      <td>2.00</td>\n",
              "      <td>1.93</td>\n",
              "      <td>2.06</td>\n",
              "      <td>1.95</td>\n",
              "      <td>1.99</td>\n",
              "      <td>1.88</td>\n",
              "      <td>1</td>\n",
              "      <td>1</td>\n",
              "    </tr>\n",
              "  </tbody>\n",
              "</table>\n",
              "</div>\n",
              "      <button class=\"colab-df-convert\" onclick=\"convertToInteractive('df-ef9d56ff-94ac-48a1-9a94-86fceea00614')\"\n",
              "              title=\"Convert this dataframe to an interactive table.\"\n",
              "              style=\"display:none;\">\n",
              "        \n",
              "  <svg xmlns=\"http://www.w3.org/2000/svg\" height=\"24px\"viewBox=\"0 0 24 24\"\n",
              "       width=\"24px\">\n",
              "    <path d=\"M0 0h24v24H0V0z\" fill=\"none\"/>\n",
              "    <path d=\"M18.56 5.44l.94 2.06.94-2.06 2.06-.94-2.06-.94-.94-2.06-.94 2.06-2.06.94zm-11 1L8.5 8.5l.94-2.06 2.06-.94-2.06-.94L8.5 2.5l-.94 2.06-2.06.94zm10 10l.94 2.06.94-2.06 2.06-.94-2.06-.94-.94-2.06-.94 2.06-2.06.94z\"/><path d=\"M17.41 7.96l-1.37-1.37c-.4-.4-.92-.59-1.43-.59-.52 0-1.04.2-1.43.59L10.3 9.45l-7.72 7.72c-.78.78-.78 2.05 0 2.83L4 21.41c.39.39.9.59 1.41.59.51 0 1.02-.2 1.41-.59l7.78-7.78 2.81-2.81c.8-.78.8-2.07 0-2.86zM5.41 20L4 18.59l7.72-7.72 1.47 1.35L5.41 20z\"/>\n",
              "  </svg>\n",
              "      </button>\n",
              "      \n",
              "  <style>\n",
              "    .colab-df-container {\n",
              "      display:flex;\n",
              "      flex-wrap:wrap;\n",
              "      gap: 12px;\n",
              "    }\n",
              "\n",
              "    .colab-df-convert {\n",
              "      background-color: #E8F0FE;\n",
              "      border: none;\n",
              "      border-radius: 50%;\n",
              "      cursor: pointer;\n",
              "      display: none;\n",
              "      fill: #1967D2;\n",
              "      height: 32px;\n",
              "      padding: 0 0 0 0;\n",
              "      width: 32px;\n",
              "    }\n",
              "\n",
              "    .colab-df-convert:hover {\n",
              "      background-color: #E2EBFA;\n",
              "      box-shadow: 0px 1px 2px rgba(60, 64, 67, 0.3), 0px 1px 3px 1px rgba(60, 64, 67, 0.15);\n",
              "      fill: #174EA6;\n",
              "    }\n",
              "\n",
              "    [theme=dark] .colab-df-convert {\n",
              "      background-color: #3B4455;\n",
              "      fill: #D2E3FC;\n",
              "    }\n",
              "\n",
              "    [theme=dark] .colab-df-convert:hover {\n",
              "      background-color: #434B5C;\n",
              "      box-shadow: 0px 1px 3px 1px rgba(0, 0, 0, 0.15);\n",
              "      filter: drop-shadow(0px 1px 2px rgba(0, 0, 0, 0.3));\n",
              "      fill: #FFFFFF;\n",
              "    }\n",
              "  </style>\n",
              "\n",
              "      <script>\n",
              "        const buttonEl =\n",
              "          document.querySelector('#df-ef9d56ff-94ac-48a1-9a94-86fceea00614 button.colab-df-convert');\n",
              "        buttonEl.style.display =\n",
              "          google.colab.kernel.accessAllowed ? 'block' : 'none';\n",
              "\n",
              "        async function convertToInteractive(key) {\n",
              "          const element = document.querySelector('#df-ef9d56ff-94ac-48a1-9a94-86fceea00614');\n",
              "          const dataTable =\n",
              "            await google.colab.kernel.invokeFunction('convertToInteractive',\n",
              "                                                     [key], {});\n",
              "          if (!dataTable) return;\n",
              "\n",
              "          const docLinkHtml = 'Like what you see? Visit the ' +\n",
              "            '<a target=\"_blank\" href=https://colab.research.google.com/notebooks/data_table.ipynb>data table notebook</a>'\n",
              "            + ' to learn more about interactive tables.';\n",
              "          element.innerHTML = '';\n",
              "          dataTable['output_type'] = 'display_data';\n",
              "          await google.colab.output.renderOutput(dataTable, element);\n",
              "          const docLink = document.createElement('div');\n",
              "          docLink.innerHTML = docLinkHtml;\n",
              "          element.appendChild(docLink);\n",
              "        }\n",
              "      </script>\n",
              "    </div>\n",
              "  </div>\n",
              "  "
            ]
          },
          "metadata": {},
          "execution_count": 512
        }
      ]
    },
    {
      "cell_type": "code",
      "source": [
        "#Reversing columns from the most recent to the least recent\n",
        "reversedata = data.loc[::-1]\n",
        "reversedata=reversedata.reset_index()\n",
        "reversedata=reversedata.drop('index',axis=1)\n",
        "reversedata.head(3)"
      ],
      "metadata": {
        "colab": {
          "base_uri": "https://localhost:8080/",
          "height": 208
        },
        "id": "jBG2DgZySHnZ",
        "outputId": "87b82a58-676c-410d-ca31-eb52843b0f95"
      },
      "execution_count": 513,
      "outputs": [
        {
          "output_type": "execute_result",
          "data": {
            "text/plain": [
              "  Div        Date   Time     HomeTeam  AwayTeam  FTHG  FTAG FTR  HTHG  HTAG  \\\n",
              "0  I1  22/05/2022  20:00      Venezia  Cagliari     0     0   D     0     0   \n",
              "1  I1  22/05/2022  20:00  Salernitana   Udinese     0     4   A     0     3   \n",
              "2  I1  22/05/2022  17:00     Sassuolo     Milan     0     3   A     0     3   \n",
              "\n",
              "  HTR  HS  AS  HST  AST  HF  AF  HC  AC  HY  AY  HR  AR  B365H  B365D  B365A  \\\n",
              "0   D   7  31    1    7   6  19   6  11   0   3   0   0    4.5   3.80   1.72   \n",
              "1   A  25  19   10   11  11  12   7   1   1   1   0   0    1.7   4.00   4.75   \n",
              "2   A  15  18    3   12   8  13   3   7   2   1   0   0    6.5   4.75   1.45   \n",
              "\n",
              "    BWH  BWD   BWA   IWH   IWD   IWA   PSH   PSD   PSA  WHH  WHD   WHA  VCH  \\\n",
              "0  4.75  3.9  1.70  4.60  3.95  1.73  4.83  4.25  1.70  4.5  4.0  1.70  4.6   \n",
              "1  1.71  4.0  4.50  1.63  4.20  4.90  1.69  4.34  4.79  1.7  4.0  4.50  1.7   \n",
              "2  6.00  4.8  1.47  7.75  4.20  1.47  6.84  5.00  1.46  7.0  4.6  1.42  7.5   \n",
              "\n",
              "    VCD   VCA  MaxH  MaxD  MaxA  AvgH  AvgD  AvgA  B365>2.5  B365<2.5  P>2.5  \\\n",
              "0  3.80  1.73  4.86   4.3  1.76  4.68  4.05  1.72      1.72      2.10   1.74   \n",
              "1  3.90  4.80  1.76   4.4  4.90  1.70  4.17  4.60      1.61      2.30   1.61   \n",
              "2  4.75  1.40  7.76   5.2  1.50  6.63  4.87  1.46      1.50      2.62   1.46   \n",
              "\n",
              "   P<2.5  Max>2.5  Max<2.5  Avg>2.5  Avg<2.5   AHh  B365AHH  B365AHA  PAHH  \\\n",
              "0   2.17     1.80     2.19     1.73     2.12  0.75     1.96     1.94  2.01   \n",
              "1   2.42     1.66     2.43     1.61     2.34 -0.75     1.93     1.97  1.88   \n",
              "2   2.84     1.48     2.86     1.45     2.76  1.25     1.90     2.00  1.94   \n",
              "\n",
              "   PAHA  MaxAHH  MaxAHA  AvgAHH  AvgAHA  B365CH  B365CD  B365CA  BWCH  BWCD  \\\n",
              "0  1.89    2.01    1.98    1.96    1.90    5.25     4.2    1.57  5.25  4.00   \n",
              "1  2.02    1.98    2.02    1.90    1.97    1.90     4.0    3.60  1.90  3.75   \n",
              "2  1.96    1.96    2.02    1.90    1.96    7.00     5.0    1.40  6.75  4.80   \n",
              "\n",
              "   BWCA  IWCH  IWCD  IWCA  PSCH  PSCD  PSCA  WHCH  WHCD  WHCA  VCCH  VCCD  \\\n",
              "0  1.63  5.25  4.10  1.63  5.66  4.16  1.63  5.50  4.00  1.55  5.25   4.0   \n",
              "1  3.75  1.83  3.95  4.00  1.89  4.01  4.07  1.85  4.00  3.70  1.87   3.7   \n",
              "2  1.43  7.50  4.80  1.43  7.62  5.12  1.43  7.50  4.75  1.40  7.00   5.0   \n",
              "\n",
              "   VCCA  MaxCH  MaxCD  MaxCA  AvgCH  AvgCD  AvgCA  B365C>2.5  B365C<2.5  \\\n",
              "0  1.62   5.87   4.30   1.70   5.32   4.08   1.63       1.66       2.20   \n",
              "1  4.00   1.95   4.08   4.18   1.89   3.87   3.90       1.57       2.37   \n",
              "2  1.40   7.80   5.20   1.48   7.21   4.95   1.43       1.50       2.62   \n",
              "\n",
              "   PC>2.5  PC<2.5  MaxC>2.5  MaxC<2.5  AvgC>2.5  AvgC<2.5  AHCh  B365CAHH  \\\n",
              "0    1.72    2.21      1.81      2.28      1.70      2.16  1.00      1.87   \n",
              "1    1.61    2.46      1.67      2.46      1.60      2.35 -0.50      1.89   \n",
              "2    1.49    2.75      1.53      2.75      1.49      2.63  1.25      2.04   \n",
              "\n",
              "   B365CAHA  PCAHH  PCAHA  MaxCAHH  MaxCAHA  AvgCAHH  AvgCAHA  target  \\\n",
              "0      2.03   1.85   2.06     1.97     2.22     1.79     2.09       0   \n",
              "1      2.01   1.89   2.04     1.93     2.04     1.89     1.99       1   \n",
              "2      1.86   2.06   1.87     2.06     2.01     1.98     1.89       1   \n",
              "\n",
              "   predB365  \n",
              "0         1  \n",
              "1         1  \n",
              "2         1  "
            ],
            "text/html": [
              "\n",
              "  <div id=\"df-52443d62-ccbc-43f6-8579-fa61928f3cb8\">\n",
              "    <div class=\"colab-df-container\">\n",
              "      <div>\n",
              "<style scoped>\n",
              "    .dataframe tbody tr th:only-of-type {\n",
              "        vertical-align: middle;\n",
              "    }\n",
              "\n",
              "    .dataframe tbody tr th {\n",
              "        vertical-align: top;\n",
              "    }\n",
              "\n",
              "    .dataframe thead th {\n",
              "        text-align: right;\n",
              "    }\n",
              "</style>\n",
              "<table border=\"1\" class=\"dataframe\">\n",
              "  <thead>\n",
              "    <tr style=\"text-align: right;\">\n",
              "      <th></th>\n",
              "      <th>Div</th>\n",
              "      <th>Date</th>\n",
              "      <th>Time</th>\n",
              "      <th>HomeTeam</th>\n",
              "      <th>AwayTeam</th>\n",
              "      <th>FTHG</th>\n",
              "      <th>FTAG</th>\n",
              "      <th>FTR</th>\n",
              "      <th>HTHG</th>\n",
              "      <th>HTAG</th>\n",
              "      <th>HTR</th>\n",
              "      <th>HS</th>\n",
              "      <th>AS</th>\n",
              "      <th>HST</th>\n",
              "      <th>AST</th>\n",
              "      <th>HF</th>\n",
              "      <th>AF</th>\n",
              "      <th>HC</th>\n",
              "      <th>AC</th>\n",
              "      <th>HY</th>\n",
              "      <th>AY</th>\n",
              "      <th>HR</th>\n",
              "      <th>AR</th>\n",
              "      <th>B365H</th>\n",
              "      <th>B365D</th>\n",
              "      <th>B365A</th>\n",
              "      <th>BWH</th>\n",
              "      <th>BWD</th>\n",
              "      <th>BWA</th>\n",
              "      <th>IWH</th>\n",
              "      <th>IWD</th>\n",
              "      <th>IWA</th>\n",
              "      <th>PSH</th>\n",
              "      <th>PSD</th>\n",
              "      <th>PSA</th>\n",
              "      <th>WHH</th>\n",
              "      <th>WHD</th>\n",
              "      <th>WHA</th>\n",
              "      <th>VCH</th>\n",
              "      <th>VCD</th>\n",
              "      <th>VCA</th>\n",
              "      <th>MaxH</th>\n",
              "      <th>MaxD</th>\n",
              "      <th>MaxA</th>\n",
              "      <th>AvgH</th>\n",
              "      <th>AvgD</th>\n",
              "      <th>AvgA</th>\n",
              "      <th>B365&gt;2.5</th>\n",
              "      <th>B365&lt;2.5</th>\n",
              "      <th>P&gt;2.5</th>\n",
              "      <th>P&lt;2.5</th>\n",
              "      <th>Max&gt;2.5</th>\n",
              "      <th>Max&lt;2.5</th>\n",
              "      <th>Avg&gt;2.5</th>\n",
              "      <th>Avg&lt;2.5</th>\n",
              "      <th>AHh</th>\n",
              "      <th>B365AHH</th>\n",
              "      <th>B365AHA</th>\n",
              "      <th>PAHH</th>\n",
              "      <th>PAHA</th>\n",
              "      <th>MaxAHH</th>\n",
              "      <th>MaxAHA</th>\n",
              "      <th>AvgAHH</th>\n",
              "      <th>AvgAHA</th>\n",
              "      <th>B365CH</th>\n",
              "      <th>B365CD</th>\n",
              "      <th>B365CA</th>\n",
              "      <th>BWCH</th>\n",
              "      <th>BWCD</th>\n",
              "      <th>BWCA</th>\n",
              "      <th>IWCH</th>\n",
              "      <th>IWCD</th>\n",
              "      <th>IWCA</th>\n",
              "      <th>PSCH</th>\n",
              "      <th>PSCD</th>\n",
              "      <th>PSCA</th>\n",
              "      <th>WHCH</th>\n",
              "      <th>WHCD</th>\n",
              "      <th>WHCA</th>\n",
              "      <th>VCCH</th>\n",
              "      <th>VCCD</th>\n",
              "      <th>VCCA</th>\n",
              "      <th>MaxCH</th>\n",
              "      <th>MaxCD</th>\n",
              "      <th>MaxCA</th>\n",
              "      <th>AvgCH</th>\n",
              "      <th>AvgCD</th>\n",
              "      <th>AvgCA</th>\n",
              "      <th>B365C&gt;2.5</th>\n",
              "      <th>B365C&lt;2.5</th>\n",
              "      <th>PC&gt;2.5</th>\n",
              "      <th>PC&lt;2.5</th>\n",
              "      <th>MaxC&gt;2.5</th>\n",
              "      <th>MaxC&lt;2.5</th>\n",
              "      <th>AvgC&gt;2.5</th>\n",
              "      <th>AvgC&lt;2.5</th>\n",
              "      <th>AHCh</th>\n",
              "      <th>B365CAHH</th>\n",
              "      <th>B365CAHA</th>\n",
              "      <th>PCAHH</th>\n",
              "      <th>PCAHA</th>\n",
              "      <th>MaxCAHH</th>\n",
              "      <th>MaxCAHA</th>\n",
              "      <th>AvgCAHH</th>\n",
              "      <th>AvgCAHA</th>\n",
              "      <th>target</th>\n",
              "      <th>predB365</th>\n",
              "    </tr>\n",
              "  </thead>\n",
              "  <tbody>\n",
              "    <tr>\n",
              "      <th>0</th>\n",
              "      <td>I1</td>\n",
              "      <td>22/05/2022</td>\n",
              "      <td>20:00</td>\n",
              "      <td>Venezia</td>\n",
              "      <td>Cagliari</td>\n",
              "      <td>0</td>\n",
              "      <td>0</td>\n",
              "      <td>D</td>\n",
              "      <td>0</td>\n",
              "      <td>0</td>\n",
              "      <td>D</td>\n",
              "      <td>7</td>\n",
              "      <td>31</td>\n",
              "      <td>1</td>\n",
              "      <td>7</td>\n",
              "      <td>6</td>\n",
              "      <td>19</td>\n",
              "      <td>6</td>\n",
              "      <td>11</td>\n",
              "      <td>0</td>\n",
              "      <td>3</td>\n",
              "      <td>0</td>\n",
              "      <td>0</td>\n",
              "      <td>4.5</td>\n",
              "      <td>3.80</td>\n",
              "      <td>1.72</td>\n",
              "      <td>4.75</td>\n",
              "      <td>3.9</td>\n",
              "      <td>1.70</td>\n",
              "      <td>4.60</td>\n",
              "      <td>3.95</td>\n",
              "      <td>1.73</td>\n",
              "      <td>4.83</td>\n",
              "      <td>4.25</td>\n",
              "      <td>1.70</td>\n",
              "      <td>4.5</td>\n",
              "      <td>4.0</td>\n",
              "      <td>1.70</td>\n",
              "      <td>4.6</td>\n",
              "      <td>3.80</td>\n",
              "      <td>1.73</td>\n",
              "      <td>4.86</td>\n",
              "      <td>4.3</td>\n",
              "      <td>1.76</td>\n",
              "      <td>4.68</td>\n",
              "      <td>4.05</td>\n",
              "      <td>1.72</td>\n",
              "      <td>1.72</td>\n",
              "      <td>2.10</td>\n",
              "      <td>1.74</td>\n",
              "      <td>2.17</td>\n",
              "      <td>1.80</td>\n",
              "      <td>2.19</td>\n",
              "      <td>1.73</td>\n",
              "      <td>2.12</td>\n",
              "      <td>0.75</td>\n",
              "      <td>1.96</td>\n",
              "      <td>1.94</td>\n",
              "      <td>2.01</td>\n",
              "      <td>1.89</td>\n",
              "      <td>2.01</td>\n",
              "      <td>1.98</td>\n",
              "      <td>1.96</td>\n",
              "      <td>1.90</td>\n",
              "      <td>5.25</td>\n",
              "      <td>4.2</td>\n",
              "      <td>1.57</td>\n",
              "      <td>5.25</td>\n",
              "      <td>4.00</td>\n",
              "      <td>1.63</td>\n",
              "      <td>5.25</td>\n",
              "      <td>4.10</td>\n",
              "      <td>1.63</td>\n",
              "      <td>5.66</td>\n",
              "      <td>4.16</td>\n",
              "      <td>1.63</td>\n",
              "      <td>5.50</td>\n",
              "      <td>4.00</td>\n",
              "      <td>1.55</td>\n",
              "      <td>5.25</td>\n",
              "      <td>4.0</td>\n",
              "      <td>1.62</td>\n",
              "      <td>5.87</td>\n",
              "      <td>4.30</td>\n",
              "      <td>1.70</td>\n",
              "      <td>5.32</td>\n",
              "      <td>4.08</td>\n",
              "      <td>1.63</td>\n",
              "      <td>1.66</td>\n",
              "      <td>2.20</td>\n",
              "      <td>1.72</td>\n",
              "      <td>2.21</td>\n",
              "      <td>1.81</td>\n",
              "      <td>2.28</td>\n",
              "      <td>1.70</td>\n",
              "      <td>2.16</td>\n",
              "      <td>1.00</td>\n",
              "      <td>1.87</td>\n",
              "      <td>2.03</td>\n",
              "      <td>1.85</td>\n",
              "      <td>2.06</td>\n",
              "      <td>1.97</td>\n",
              "      <td>2.22</td>\n",
              "      <td>1.79</td>\n",
              "      <td>2.09</td>\n",
              "      <td>0</td>\n",
              "      <td>1</td>\n",
              "    </tr>\n",
              "    <tr>\n",
              "      <th>1</th>\n",
              "      <td>I1</td>\n",
              "      <td>22/05/2022</td>\n",
              "      <td>20:00</td>\n",
              "      <td>Salernitana</td>\n",
              "      <td>Udinese</td>\n",
              "      <td>0</td>\n",
              "      <td>4</td>\n",
              "      <td>A</td>\n",
              "      <td>0</td>\n",
              "      <td>3</td>\n",
              "      <td>A</td>\n",
              "      <td>25</td>\n",
              "      <td>19</td>\n",
              "      <td>10</td>\n",
              "      <td>11</td>\n",
              "      <td>11</td>\n",
              "      <td>12</td>\n",
              "      <td>7</td>\n",
              "      <td>1</td>\n",
              "      <td>1</td>\n",
              "      <td>1</td>\n",
              "      <td>0</td>\n",
              "      <td>0</td>\n",
              "      <td>1.7</td>\n",
              "      <td>4.00</td>\n",
              "      <td>4.75</td>\n",
              "      <td>1.71</td>\n",
              "      <td>4.0</td>\n",
              "      <td>4.50</td>\n",
              "      <td>1.63</td>\n",
              "      <td>4.20</td>\n",
              "      <td>4.90</td>\n",
              "      <td>1.69</td>\n",
              "      <td>4.34</td>\n",
              "      <td>4.79</td>\n",
              "      <td>1.7</td>\n",
              "      <td>4.0</td>\n",
              "      <td>4.50</td>\n",
              "      <td>1.7</td>\n",
              "      <td>3.90</td>\n",
              "      <td>4.80</td>\n",
              "      <td>1.76</td>\n",
              "      <td>4.4</td>\n",
              "      <td>4.90</td>\n",
              "      <td>1.70</td>\n",
              "      <td>4.17</td>\n",
              "      <td>4.60</td>\n",
              "      <td>1.61</td>\n",
              "      <td>2.30</td>\n",
              "      <td>1.61</td>\n",
              "      <td>2.42</td>\n",
              "      <td>1.66</td>\n",
              "      <td>2.43</td>\n",
              "      <td>1.61</td>\n",
              "      <td>2.34</td>\n",
              "      <td>-0.75</td>\n",
              "      <td>1.93</td>\n",
              "      <td>1.97</td>\n",
              "      <td>1.88</td>\n",
              "      <td>2.02</td>\n",
              "      <td>1.98</td>\n",
              "      <td>2.02</td>\n",
              "      <td>1.90</td>\n",
              "      <td>1.97</td>\n",
              "      <td>1.90</td>\n",
              "      <td>4.0</td>\n",
              "      <td>3.60</td>\n",
              "      <td>1.90</td>\n",
              "      <td>3.75</td>\n",
              "      <td>3.75</td>\n",
              "      <td>1.83</td>\n",
              "      <td>3.95</td>\n",
              "      <td>4.00</td>\n",
              "      <td>1.89</td>\n",
              "      <td>4.01</td>\n",
              "      <td>4.07</td>\n",
              "      <td>1.85</td>\n",
              "      <td>4.00</td>\n",
              "      <td>3.70</td>\n",
              "      <td>1.87</td>\n",
              "      <td>3.7</td>\n",
              "      <td>4.00</td>\n",
              "      <td>1.95</td>\n",
              "      <td>4.08</td>\n",
              "      <td>4.18</td>\n",
              "      <td>1.89</td>\n",
              "      <td>3.87</td>\n",
              "      <td>3.90</td>\n",
              "      <td>1.57</td>\n",
              "      <td>2.37</td>\n",
              "      <td>1.61</td>\n",
              "      <td>2.46</td>\n",
              "      <td>1.67</td>\n",
              "      <td>2.46</td>\n",
              "      <td>1.60</td>\n",
              "      <td>2.35</td>\n",
              "      <td>-0.50</td>\n",
              "      <td>1.89</td>\n",
              "      <td>2.01</td>\n",
              "      <td>1.89</td>\n",
              "      <td>2.04</td>\n",
              "      <td>1.93</td>\n",
              "      <td>2.04</td>\n",
              "      <td>1.89</td>\n",
              "      <td>1.99</td>\n",
              "      <td>1</td>\n",
              "      <td>1</td>\n",
              "    </tr>\n",
              "    <tr>\n",
              "      <th>2</th>\n",
              "      <td>I1</td>\n",
              "      <td>22/05/2022</td>\n",
              "      <td>17:00</td>\n",
              "      <td>Sassuolo</td>\n",
              "      <td>Milan</td>\n",
              "      <td>0</td>\n",
              "      <td>3</td>\n",
              "      <td>A</td>\n",
              "      <td>0</td>\n",
              "      <td>3</td>\n",
              "      <td>A</td>\n",
              "      <td>15</td>\n",
              "      <td>18</td>\n",
              "      <td>3</td>\n",
              "      <td>12</td>\n",
              "      <td>8</td>\n",
              "      <td>13</td>\n",
              "      <td>3</td>\n",
              "      <td>7</td>\n",
              "      <td>2</td>\n",
              "      <td>1</td>\n",
              "      <td>0</td>\n",
              "      <td>0</td>\n",
              "      <td>6.5</td>\n",
              "      <td>4.75</td>\n",
              "      <td>1.45</td>\n",
              "      <td>6.00</td>\n",
              "      <td>4.8</td>\n",
              "      <td>1.47</td>\n",
              "      <td>7.75</td>\n",
              "      <td>4.20</td>\n",
              "      <td>1.47</td>\n",
              "      <td>6.84</td>\n",
              "      <td>5.00</td>\n",
              "      <td>1.46</td>\n",
              "      <td>7.0</td>\n",
              "      <td>4.6</td>\n",
              "      <td>1.42</td>\n",
              "      <td>7.5</td>\n",
              "      <td>4.75</td>\n",
              "      <td>1.40</td>\n",
              "      <td>7.76</td>\n",
              "      <td>5.2</td>\n",
              "      <td>1.50</td>\n",
              "      <td>6.63</td>\n",
              "      <td>4.87</td>\n",
              "      <td>1.46</td>\n",
              "      <td>1.50</td>\n",
              "      <td>2.62</td>\n",
              "      <td>1.46</td>\n",
              "      <td>2.84</td>\n",
              "      <td>1.48</td>\n",
              "      <td>2.86</td>\n",
              "      <td>1.45</td>\n",
              "      <td>2.76</td>\n",
              "      <td>1.25</td>\n",
              "      <td>1.90</td>\n",
              "      <td>2.00</td>\n",
              "      <td>1.94</td>\n",
              "      <td>1.96</td>\n",
              "      <td>1.96</td>\n",
              "      <td>2.02</td>\n",
              "      <td>1.90</td>\n",
              "      <td>1.96</td>\n",
              "      <td>7.00</td>\n",
              "      <td>5.0</td>\n",
              "      <td>1.40</td>\n",
              "      <td>6.75</td>\n",
              "      <td>4.80</td>\n",
              "      <td>1.43</td>\n",
              "      <td>7.50</td>\n",
              "      <td>4.80</td>\n",
              "      <td>1.43</td>\n",
              "      <td>7.62</td>\n",
              "      <td>5.12</td>\n",
              "      <td>1.43</td>\n",
              "      <td>7.50</td>\n",
              "      <td>4.75</td>\n",
              "      <td>1.40</td>\n",
              "      <td>7.00</td>\n",
              "      <td>5.0</td>\n",
              "      <td>1.40</td>\n",
              "      <td>7.80</td>\n",
              "      <td>5.20</td>\n",
              "      <td>1.48</td>\n",
              "      <td>7.21</td>\n",
              "      <td>4.95</td>\n",
              "      <td>1.43</td>\n",
              "      <td>1.50</td>\n",
              "      <td>2.62</td>\n",
              "      <td>1.49</td>\n",
              "      <td>2.75</td>\n",
              "      <td>1.53</td>\n",
              "      <td>2.75</td>\n",
              "      <td>1.49</td>\n",
              "      <td>2.63</td>\n",
              "      <td>1.25</td>\n",
              "      <td>2.04</td>\n",
              "      <td>1.86</td>\n",
              "      <td>2.06</td>\n",
              "      <td>1.87</td>\n",
              "      <td>2.06</td>\n",
              "      <td>2.01</td>\n",
              "      <td>1.98</td>\n",
              "      <td>1.89</td>\n",
              "      <td>1</td>\n",
              "      <td>1</td>\n",
              "    </tr>\n",
              "  </tbody>\n",
              "</table>\n",
              "</div>\n",
              "      <button class=\"colab-df-convert\" onclick=\"convertToInteractive('df-52443d62-ccbc-43f6-8579-fa61928f3cb8')\"\n",
              "              title=\"Convert this dataframe to an interactive table.\"\n",
              "              style=\"display:none;\">\n",
              "        \n",
              "  <svg xmlns=\"http://www.w3.org/2000/svg\" height=\"24px\"viewBox=\"0 0 24 24\"\n",
              "       width=\"24px\">\n",
              "    <path d=\"M0 0h24v24H0V0z\" fill=\"none\"/>\n",
              "    <path d=\"M18.56 5.44l.94 2.06.94-2.06 2.06-.94-2.06-.94-.94-2.06-.94 2.06-2.06.94zm-11 1L8.5 8.5l.94-2.06 2.06-.94-2.06-.94L8.5 2.5l-.94 2.06-2.06.94zm10 10l.94 2.06.94-2.06 2.06-.94-2.06-.94-.94-2.06-.94 2.06-2.06.94z\"/><path d=\"M17.41 7.96l-1.37-1.37c-.4-.4-.92-.59-1.43-.59-.52 0-1.04.2-1.43.59L10.3 9.45l-7.72 7.72c-.78.78-.78 2.05 0 2.83L4 21.41c.39.39.9.59 1.41.59.51 0 1.02-.2 1.41-.59l7.78-7.78 2.81-2.81c.8-.78.8-2.07 0-2.86zM5.41 20L4 18.59l7.72-7.72 1.47 1.35L5.41 20z\"/>\n",
              "  </svg>\n",
              "      </button>\n",
              "      \n",
              "  <style>\n",
              "    .colab-df-container {\n",
              "      display:flex;\n",
              "      flex-wrap:wrap;\n",
              "      gap: 12px;\n",
              "    }\n",
              "\n",
              "    .colab-df-convert {\n",
              "      background-color: #E8F0FE;\n",
              "      border: none;\n",
              "      border-radius: 50%;\n",
              "      cursor: pointer;\n",
              "      display: none;\n",
              "      fill: #1967D2;\n",
              "      height: 32px;\n",
              "      padding: 0 0 0 0;\n",
              "      width: 32px;\n",
              "    }\n",
              "\n",
              "    .colab-df-convert:hover {\n",
              "      background-color: #E2EBFA;\n",
              "      box-shadow: 0px 1px 2px rgba(60, 64, 67, 0.3), 0px 1px 3px 1px rgba(60, 64, 67, 0.15);\n",
              "      fill: #174EA6;\n",
              "    }\n",
              "\n",
              "    [theme=dark] .colab-df-convert {\n",
              "      background-color: #3B4455;\n",
              "      fill: #D2E3FC;\n",
              "    }\n",
              "\n",
              "    [theme=dark] .colab-df-convert:hover {\n",
              "      background-color: #434B5C;\n",
              "      box-shadow: 0px 1px 3px 1px rgba(0, 0, 0, 0.15);\n",
              "      filter: drop-shadow(0px 1px 2px rgba(0, 0, 0, 0.3));\n",
              "      fill: #FFFFFF;\n",
              "    }\n",
              "  </style>\n",
              "\n",
              "      <script>\n",
              "        const buttonEl =\n",
              "          document.querySelector('#df-52443d62-ccbc-43f6-8579-fa61928f3cb8 button.colab-df-convert');\n",
              "        buttonEl.style.display =\n",
              "          google.colab.kernel.accessAllowed ? 'block' : 'none';\n",
              "\n",
              "        async function convertToInteractive(key) {\n",
              "          const element = document.querySelector('#df-52443d62-ccbc-43f6-8579-fa61928f3cb8');\n",
              "          const dataTable =\n",
              "            await google.colab.kernel.invokeFunction('convertToInteractive',\n",
              "                                                     [key], {});\n",
              "          if (!dataTable) return;\n",
              "\n",
              "          const docLinkHtml = 'Like what you see? Visit the ' +\n",
              "            '<a target=\"_blank\" href=https://colab.research.google.com/notebooks/data_table.ipynb>data table notebook</a>'\n",
              "            + ' to learn more about interactive tables.';\n",
              "          element.innerHTML = '';\n",
              "          dataTable['output_type'] = 'display_data';\n",
              "          await google.colab.output.renderOutput(dataTable, element);\n",
              "          const docLink = document.createElement('div');\n",
              "          docLink.innerHTML = docLinkHtml;\n",
              "          element.appendChild(docLink);\n",
              "        }\n",
              "      </script>\n",
              "    </div>\n",
              "  </div>\n",
              "  "
            ]
          },
          "metadata": {},
          "execution_count": 513
        }
      ]
    },
    {
      "cell_type": "code",
      "source": [
        "features=reversedata[['Date',\t'Time',\t'HomeTeam',\t'AwayTeam',\t'FTHG',\t'FTAG','HST','AST','B365>2.5','target','predB365']]\n",
        "features.head(10)"
      ],
      "metadata": {
        "colab": {
          "base_uri": "https://localhost:8080/",
          "height": 363
        },
        "id": "b_QxX_HlODyB",
        "outputId": "74dab996-e625-4925-857c-689574def62a"
      },
      "execution_count": 514,
      "outputs": [
        {
          "output_type": "execute_result",
          "data": {
            "text/plain": [
              "         Date   Time     HomeTeam   AwayTeam  FTHG  FTAG  HST  AST  B365>2.5  \\\n",
              "0  22/05/2022  20:00      Venezia   Cagliari     0     0    1    7      1.72   \n",
              "1  22/05/2022  20:00  Salernitana    Udinese     0     4   10   11      1.61   \n",
              "2  22/05/2022  17:00     Sassuolo      Milan     0     3    3   12      1.50   \n",
              "3  22/05/2022  17:00        Inter  Sampdoria     3     0   12    3      1.28   \n",
              "4  22/05/2022  11:30       Spezia     Napoli     0     3    4    4      1.44   \n",
              "5  21/05/2022  19:45        Lazio     Verona     3     3    7    7      1.53   \n",
              "6  21/05/2022  19:45   Fiorentina   Juventus     2     0    4    0      1.66   \n",
              "7  21/05/2022  19:45     Atalanta     Empoli     0     1   10    3      1.25   \n",
              "8  21/05/2022  16:15        Genoa    Bologna     0     1    5    4      1.66   \n",
              "9  20/05/2022  19:45       Torino       Roma     0     3    2    6      1.72   \n",
              "\n",
              "   target  predB365  \n",
              "0       0         1  \n",
              "1       1         1  \n",
              "2       1         1  \n",
              "3       1         1  \n",
              "4       1         1  \n",
              "5       1         1  \n",
              "6       0         1  \n",
              "7       0         1  \n",
              "8       0         1  \n",
              "9       1         1  "
            ],
            "text/html": [
              "\n",
              "  <div id=\"df-105100e4-db68-492a-915e-6ff1998d017a\">\n",
              "    <div class=\"colab-df-container\">\n",
              "      <div>\n",
              "<style scoped>\n",
              "    .dataframe tbody tr th:only-of-type {\n",
              "        vertical-align: middle;\n",
              "    }\n",
              "\n",
              "    .dataframe tbody tr th {\n",
              "        vertical-align: top;\n",
              "    }\n",
              "\n",
              "    .dataframe thead th {\n",
              "        text-align: right;\n",
              "    }\n",
              "</style>\n",
              "<table border=\"1\" class=\"dataframe\">\n",
              "  <thead>\n",
              "    <tr style=\"text-align: right;\">\n",
              "      <th></th>\n",
              "      <th>Date</th>\n",
              "      <th>Time</th>\n",
              "      <th>HomeTeam</th>\n",
              "      <th>AwayTeam</th>\n",
              "      <th>FTHG</th>\n",
              "      <th>FTAG</th>\n",
              "      <th>HST</th>\n",
              "      <th>AST</th>\n",
              "      <th>B365&gt;2.5</th>\n",
              "      <th>target</th>\n",
              "      <th>predB365</th>\n",
              "    </tr>\n",
              "  </thead>\n",
              "  <tbody>\n",
              "    <tr>\n",
              "      <th>0</th>\n",
              "      <td>22/05/2022</td>\n",
              "      <td>20:00</td>\n",
              "      <td>Venezia</td>\n",
              "      <td>Cagliari</td>\n",
              "      <td>0</td>\n",
              "      <td>0</td>\n",
              "      <td>1</td>\n",
              "      <td>7</td>\n",
              "      <td>1.72</td>\n",
              "      <td>0</td>\n",
              "      <td>1</td>\n",
              "    </tr>\n",
              "    <tr>\n",
              "      <th>1</th>\n",
              "      <td>22/05/2022</td>\n",
              "      <td>20:00</td>\n",
              "      <td>Salernitana</td>\n",
              "      <td>Udinese</td>\n",
              "      <td>0</td>\n",
              "      <td>4</td>\n",
              "      <td>10</td>\n",
              "      <td>11</td>\n",
              "      <td>1.61</td>\n",
              "      <td>1</td>\n",
              "      <td>1</td>\n",
              "    </tr>\n",
              "    <tr>\n",
              "      <th>2</th>\n",
              "      <td>22/05/2022</td>\n",
              "      <td>17:00</td>\n",
              "      <td>Sassuolo</td>\n",
              "      <td>Milan</td>\n",
              "      <td>0</td>\n",
              "      <td>3</td>\n",
              "      <td>3</td>\n",
              "      <td>12</td>\n",
              "      <td>1.50</td>\n",
              "      <td>1</td>\n",
              "      <td>1</td>\n",
              "    </tr>\n",
              "    <tr>\n",
              "      <th>3</th>\n",
              "      <td>22/05/2022</td>\n",
              "      <td>17:00</td>\n",
              "      <td>Inter</td>\n",
              "      <td>Sampdoria</td>\n",
              "      <td>3</td>\n",
              "      <td>0</td>\n",
              "      <td>12</td>\n",
              "      <td>3</td>\n",
              "      <td>1.28</td>\n",
              "      <td>1</td>\n",
              "      <td>1</td>\n",
              "    </tr>\n",
              "    <tr>\n",
              "      <th>4</th>\n",
              "      <td>22/05/2022</td>\n",
              "      <td>11:30</td>\n",
              "      <td>Spezia</td>\n",
              "      <td>Napoli</td>\n",
              "      <td>0</td>\n",
              "      <td>3</td>\n",
              "      <td>4</td>\n",
              "      <td>4</td>\n",
              "      <td>1.44</td>\n",
              "      <td>1</td>\n",
              "      <td>1</td>\n",
              "    </tr>\n",
              "    <tr>\n",
              "      <th>5</th>\n",
              "      <td>21/05/2022</td>\n",
              "      <td>19:45</td>\n",
              "      <td>Lazio</td>\n",
              "      <td>Verona</td>\n",
              "      <td>3</td>\n",
              "      <td>3</td>\n",
              "      <td>7</td>\n",
              "      <td>7</td>\n",
              "      <td>1.53</td>\n",
              "      <td>1</td>\n",
              "      <td>1</td>\n",
              "    </tr>\n",
              "    <tr>\n",
              "      <th>6</th>\n",
              "      <td>21/05/2022</td>\n",
              "      <td>19:45</td>\n",
              "      <td>Fiorentina</td>\n",
              "      <td>Juventus</td>\n",
              "      <td>2</td>\n",
              "      <td>0</td>\n",
              "      <td>4</td>\n",
              "      <td>0</td>\n",
              "      <td>1.66</td>\n",
              "      <td>0</td>\n",
              "      <td>1</td>\n",
              "    </tr>\n",
              "    <tr>\n",
              "      <th>7</th>\n",
              "      <td>21/05/2022</td>\n",
              "      <td>19:45</td>\n",
              "      <td>Atalanta</td>\n",
              "      <td>Empoli</td>\n",
              "      <td>0</td>\n",
              "      <td>1</td>\n",
              "      <td>10</td>\n",
              "      <td>3</td>\n",
              "      <td>1.25</td>\n",
              "      <td>0</td>\n",
              "      <td>1</td>\n",
              "    </tr>\n",
              "    <tr>\n",
              "      <th>8</th>\n",
              "      <td>21/05/2022</td>\n",
              "      <td>16:15</td>\n",
              "      <td>Genoa</td>\n",
              "      <td>Bologna</td>\n",
              "      <td>0</td>\n",
              "      <td>1</td>\n",
              "      <td>5</td>\n",
              "      <td>4</td>\n",
              "      <td>1.66</td>\n",
              "      <td>0</td>\n",
              "      <td>1</td>\n",
              "    </tr>\n",
              "    <tr>\n",
              "      <th>9</th>\n",
              "      <td>20/05/2022</td>\n",
              "      <td>19:45</td>\n",
              "      <td>Torino</td>\n",
              "      <td>Roma</td>\n",
              "      <td>0</td>\n",
              "      <td>3</td>\n",
              "      <td>2</td>\n",
              "      <td>6</td>\n",
              "      <td>1.72</td>\n",
              "      <td>1</td>\n",
              "      <td>1</td>\n",
              "    </tr>\n",
              "  </tbody>\n",
              "</table>\n",
              "</div>\n",
              "      <button class=\"colab-df-convert\" onclick=\"convertToInteractive('df-105100e4-db68-492a-915e-6ff1998d017a')\"\n",
              "              title=\"Convert this dataframe to an interactive table.\"\n",
              "              style=\"display:none;\">\n",
              "        \n",
              "  <svg xmlns=\"http://www.w3.org/2000/svg\" height=\"24px\"viewBox=\"0 0 24 24\"\n",
              "       width=\"24px\">\n",
              "    <path d=\"M0 0h24v24H0V0z\" fill=\"none\"/>\n",
              "    <path d=\"M18.56 5.44l.94 2.06.94-2.06 2.06-.94-2.06-.94-.94-2.06-.94 2.06-2.06.94zm-11 1L8.5 8.5l.94-2.06 2.06-.94-2.06-.94L8.5 2.5l-.94 2.06-2.06.94zm10 10l.94 2.06.94-2.06 2.06-.94-2.06-.94-.94-2.06-.94 2.06-2.06.94z\"/><path d=\"M17.41 7.96l-1.37-1.37c-.4-.4-.92-.59-1.43-.59-.52 0-1.04.2-1.43.59L10.3 9.45l-7.72 7.72c-.78.78-.78 2.05 0 2.83L4 21.41c.39.39.9.59 1.41.59.51 0 1.02-.2 1.41-.59l7.78-7.78 2.81-2.81c.8-.78.8-2.07 0-2.86zM5.41 20L4 18.59l7.72-7.72 1.47 1.35L5.41 20z\"/>\n",
              "  </svg>\n",
              "      </button>\n",
              "      \n",
              "  <style>\n",
              "    .colab-df-container {\n",
              "      display:flex;\n",
              "      flex-wrap:wrap;\n",
              "      gap: 12px;\n",
              "    }\n",
              "\n",
              "    .colab-df-convert {\n",
              "      background-color: #E8F0FE;\n",
              "      border: none;\n",
              "      border-radius: 50%;\n",
              "      cursor: pointer;\n",
              "      display: none;\n",
              "      fill: #1967D2;\n",
              "      height: 32px;\n",
              "      padding: 0 0 0 0;\n",
              "      width: 32px;\n",
              "    }\n",
              "\n",
              "    .colab-df-convert:hover {\n",
              "      background-color: #E2EBFA;\n",
              "      box-shadow: 0px 1px 2px rgba(60, 64, 67, 0.3), 0px 1px 3px 1px rgba(60, 64, 67, 0.15);\n",
              "      fill: #174EA6;\n",
              "    }\n",
              "\n",
              "    [theme=dark] .colab-df-convert {\n",
              "      background-color: #3B4455;\n",
              "      fill: #D2E3FC;\n",
              "    }\n",
              "\n",
              "    [theme=dark] .colab-df-convert:hover {\n",
              "      background-color: #434B5C;\n",
              "      box-shadow: 0px 1px 3px 1px rgba(0, 0, 0, 0.15);\n",
              "      filter: drop-shadow(0px 1px 2px rgba(0, 0, 0, 0.3));\n",
              "      fill: #FFFFFF;\n",
              "    }\n",
              "  </style>\n",
              "\n",
              "      <script>\n",
              "        const buttonEl =\n",
              "          document.querySelector('#df-105100e4-db68-492a-915e-6ff1998d017a button.colab-df-convert');\n",
              "        buttonEl.style.display =\n",
              "          google.colab.kernel.accessAllowed ? 'block' : 'none';\n",
              "\n",
              "        async function convertToInteractive(key) {\n",
              "          const element = document.querySelector('#df-105100e4-db68-492a-915e-6ff1998d017a');\n",
              "          const dataTable =\n",
              "            await google.colab.kernel.invokeFunction('convertToInteractive',\n",
              "                                                     [key], {});\n",
              "          if (!dataTable) return;\n",
              "\n",
              "          const docLinkHtml = 'Like what you see? Visit the ' +\n",
              "            '<a target=\"_blank\" href=https://colab.research.google.com/notebooks/data_table.ipynb>data table notebook</a>'\n",
              "            + ' to learn more about interactive tables.';\n",
              "          element.innerHTML = '';\n",
              "          dataTable['output_type'] = 'display_data';\n",
              "          await google.colab.output.renderOutput(dataTable, element);\n",
              "          const docLink = document.createElement('div');\n",
              "          docLink.innerHTML = docLinkHtml;\n",
              "          element.appendChild(docLink);\n",
              "        }\n",
              "      </script>\n",
              "    </div>\n",
              "  </div>\n",
              "  "
            ]
          },
          "metadata": {},
          "execution_count": 514
        }
      ]
    },
    {
      "cell_type": "code",
      "source": [
        "n_previous_matches=5"
      ],
      "metadata": {
        "id": "HvQ4krUoPk-Q"
      },
      "execution_count": 515,
      "outputs": []
    },
    {
      "cell_type": "code",
      "source": [
        "#Code to compute avg Goal Scored and Conceded\n",
        "#new columns\n",
        "navgShotHome=[]\n",
        "navgShotAway=[]\n",
        "navgGoalHome=[]\n",
        "navgGoalConcededHome=[]\n",
        "navgGoalAway=[]\n",
        "navgGoalConcededAway=[]\n",
        "avgGoalHome=[]\n",
        "avgGoalConcededHome=[]\n",
        "avgGoalAway=[]\n",
        "avgGoalConcededAway=[]\n",
        "\n",
        "for idx in reversed(range(len(features)-n_previous_matches*10)):\n",
        "    teamhome=features['HomeTeam'].iloc[idx]\n",
        "    teamaway=features['AwayTeam'].iloc[idx]\n",
        "    auxdf=features.iloc[idx:,:].copy()\n",
        "\n",
        "  \n",
        "      #Home Team Goal Scored from th last n matches\n",
        "    obs=auxdf.loc[((auxdf['HomeTeam'].str.contains(teamhome) ) == True )|( (auxdf['AwayTeam'].str.contains(teamhome)) == True)].iloc[1:n_previous_matches+1]\n",
        "\n",
        "    sumgolscoredth=obs[obs['HomeTeam']==teamhome]['FTHG'].sum()\n",
        "    countgolscoredth=obs[obs['HomeTeam']==teamhome]['FTHG'].count()\n",
        "\n",
        "    sumgolscoredth=obs[obs['AwayTeam']==teamhome]['FTAG'].sum()+sumgolscoredth\n",
        "    countgolscoredth=obs[obs['AwayTeam']==teamhome]['FTAG'].count()+countgolscoredth\n",
        "\n",
        "    navgGoalHome.append(sumgolscoredth/countgolscoredth)\n",
        "    \n",
        "    #Shot home\n",
        "    sumgolscoredth=obs[obs['HomeTeam']==teamhome]['HST'].sum()\n",
        "    countgolscoredth=obs[obs['HomeTeam']==teamhome]['HST'].count()\n",
        "\n",
        "    sumgolscoredth=obs[obs['AwayTeam']==teamhome]['AST'].sum()+sumgolscoredth\n",
        "    countgolscoredth=obs[obs['AwayTeam']==teamhome]['AST'].count()+countgolscoredth\n",
        "\n",
        "    navgShotHome.append(sumgolscoredth/countgolscoredth)\n",
        "    \n",
        "    #Home Team Goal Conceded from th last n matches\n",
        "    \n",
        "    sumgolconcededth=obs[obs['HomeTeam']==teamhome]['FTAG'].sum()\n",
        "    countgolconcededth=obs[obs['HomeTeam']==teamhome]['FTAG'].count()\n",
        "\n",
        "    sumgolconcededth=obs[obs['AwayTeam']==teamhome]['FTHG'].sum()+sumgolconcededth\n",
        "    countgolconcededth=obs[obs['AwayTeam']==teamhome]['FTHG'].count() + countgolconcededth\n",
        "    navgGoalConcededHome.append(sumgolconcededth/countgolconcededth)\n",
        "##-------------------------------------------------------------------------------------------\n",
        "      #Away Team Goal Scored from th last n matches\n",
        "    obs=auxdf.loc[((auxdf['HomeTeam'].str.contains(teamaway) ) == True )|( (auxdf['AwayTeam'].str.contains(teamaway)) == True)].iloc[1:n_previous_matches+1]\n",
        "\n",
        "    sumgolscoredta=obs[obs['HomeTeam']==teamaway]['FTHG'].sum()\n",
        "    countgolscoredta=obs[obs['HomeTeam']==teamaway]['FTHG'].count()\n",
        "    sumgolscoredta=obs[obs['AwayTeam']==teamaway]['FTAG'].sum()+sumgolscoredta\n",
        "    countgolscoredta=obs[obs['AwayTeam']==teamaway]['FTAG'].count()+countgolscoredta\n",
        "\n",
        "    navgGoalAway.append(sumgolscoredta/countgolscoredta)\n",
        "\n",
        "    #Shot Away\n",
        "    sumgolscoredth=obs[obs['HomeTeam']==teamaway]['HST'].sum()\n",
        "    countgolscoredth=obs[obs['HomeTeam']==teamaway]['HST'].count()\n",
        "\n",
        "    sumgolscoredth=obs[obs['AwayTeam']==teamaway]['AST'].sum()+sumgolscoredth\n",
        "    countgolscoredth=obs[obs['AwayTeam']==teamaway]['AST'].count()+countgolscoredth\n",
        "\n",
        "    navgShotAway.append(sumgolscoredth/countgolscoredth)\n",
        "      #Away Team Goal Conceded from th last n matches\n",
        "    \n",
        "    sumgolconcededta=obs[obs['HomeTeam']==teamaway]['FTAG'].sum()\n",
        "    countgolconcededta=obs[obs['HomeTeam']==teamaway]['FTAG'].count()\n",
        "\n",
        "    sumgolconcededta=obs[obs['AwayTeam']==teamaway]['FTHG'].sum()+sumgolconcededta\n",
        "    countgolconcededta=obs[obs['AwayTeam']==teamaway]['FTHG'].count()+countgolconcededta\n",
        "\n",
        "    navgGoalConcededAway.append(sumgolconcededta/countgolconcededta)\n",
        "\n",
        "#---------------------------------------------------------------------------------------------\n",
        "      #Total Goal Home\n",
        "\n",
        "      #Home Team Goal Scored from th total  matches\n",
        "    obs=auxdf.loc[((auxdf['HomeTeam'].str.contains(teamhome) ) == True )|( (auxdf['AwayTeam'].str.contains(teamhome)) == True)].iloc[1:]\n",
        "\n",
        "    sumgolscoredth=obs[obs['HomeTeam']==teamhome]['FTHG'].sum()\n",
        "    countgolscoredth=obs[obs['HomeTeam']==teamhome]['FTHG'].count()\n",
        "\n",
        "    sumgolscoredth=obs[obs['AwayTeam']==teamhome]['FTAG'].sum()+sumgolscoredth\n",
        "    countgolscoredth=obs[obs['AwayTeam']==teamhome]['FTAG'].count()+countgolscoredth\n",
        "\n",
        "    avgGoalHome.append(sumgolscoredth/countgolscoredth)\n",
        "\n",
        "      #Home Team Goal Conceded from th total  matches\n",
        "    \n",
        "    sumgolconcededth=obs[obs['HomeTeam']==teamhome]['FTAG'].sum()\n",
        "    countgolconcededth=obs[obs['HomeTeam']==teamhome]['FTAG'].count()\n",
        "\n",
        "    sumgolconcededth=obs[obs['AwayTeam']==teamhome]['FTHG'].sum()+sumgolconcededth\n",
        "    countgolconcededth=obs[obs['AwayTeam']==teamhome]['FTHG'].count()+countgolconcededth\n",
        "    avgGoalConcededHome.append(sumgolconcededth/countgolconcededth)\n",
        "##-------------------------------------------------------------------------------------------\n",
        "      #Away Team Goal Scored from th total matches\n",
        "    obs=auxdf.loc[((auxdf['HomeTeam'].str.contains(teamaway) ) == True )|( (auxdf['AwayTeam'].str.contains(teamaway)) == True)].iloc[1:]\n",
        "\n",
        "    sumgolscoredta=obs[obs['HomeTeam']==teamaway]['FTHG'].sum()\n",
        "    countgolscoredta=obs[obs['HomeTeam']==teamaway]['FTHG'].count()\n",
        "\n",
        "    sumgolscoredta=obs[obs['AwayTeam']==teamaway]['FTAG'].sum()+sumgolscoredta\n",
        "    countgolscoredta=obs[obs['AwayTeam']==teamaway]['FTAG'].count()+countgolscoredta\n",
        "    avgGoalAway.append(sumgolscoredta/countgolscoredta)\n",
        "\n",
        "      #Away Team Goal Conceded from the total  matches\n",
        "    \n",
        "    sumgolconcededta=obs[obs['HomeTeam']==teamaway]['FTAG'].sum()\n",
        "    countgolconcededta=obs[obs['HomeTeam']==teamaway]['FTAG'].count()\n",
        "\n",
        "    sumgolconcededta=obs[obs['AwayTeam']==teamaway]['FTHG'].sum()+sumgolconcededta\n",
        "    countgolconcededta=obs[obs['AwayTeam']==teamaway]['FTHG'].count()+countgolconcededta\n",
        "\n",
        "    avgGoalConcededAway.append(sumgolconcededta/countgolconcededta)\n",
        "      \n"
      ],
      "metadata": {
        "id": "dAa8vHmqQ1xe"
      },
      "execution_count": 516,
      "outputs": []
    },
    {
      "cell_type": "code",
      "source": [
        "info_dict={\n",
        "'navgGoalHome':navgGoalHome,\n",
        "'navgGoalConcededHome':navgGoalConcededHome,\n",
        "'navgGoalAway':navgGoalAway,\n",
        "'navgGoalConcededAway':navgGoalConcededAway,\n",
        "'avgGoalHome':avgGoalHome,\n",
        "'avgGoalConcededHome':avgGoalConcededHome,\n",
        "'avgGoalAway':avgGoalAway,\n",
        "'avgGoalConcededAway':avgGoalConcededAway,\n",
        "'avgshothome':navgShotHome,\n",
        "'navgShotAway':navgShotAway\n",
        "}"
      ],
      "metadata": {
        "id": "w9O4-zYVeA26"
      },
      "execution_count": 517,
      "outputs": []
    },
    {
      "cell_type": "code",
      "source": [
        "info_df=pd.DataFrame(info_dict)"
      ],
      "metadata": {
        "id": "o07qBlx6g0FX"
      },
      "execution_count": 518,
      "outputs": []
    },
    {
      "cell_type": "code",
      "source": [
        "info_df.shape"
      ],
      "metadata": {
        "colab": {
          "base_uri": "https://localhost:8080/"
        },
        "id": "mtv3ftNVg4Vo",
        "outputId": "5d968082-dbc3-4c83-f901-cc0575bb6d39"
      },
      "execution_count": 519,
      "outputs": [
        {
          "output_type": "execute_result",
          "data": {
            "text/plain": [
              "(330, 10)"
            ]
          },
          "metadata": {},
          "execution_count": 519
        }
      ]
    },
    {
      "cell_type": "code",
      "source": [
        "info_df.head(3)"
      ],
      "metadata": {
        "colab": {
          "base_uri": "https://localhost:8080/",
          "height": 144
        },
        "id": "hgy-zS5Ig7yx",
        "outputId": "9969b59a-b2b4-462e-92d3-60a42865c393"
      },
      "execution_count": 520,
      "outputs": [
        {
          "output_type": "execute_result",
          "data": {
            "text/plain": [
              "   navgGoalHome  navgGoalConcededHome  navgGoalAway  navgGoalConcededAway  \\\n",
              "0           1.4                   2.6           2.0                   0.4   \n",
              "1           3.6                   1.0           1.2                   0.8   \n",
              "2           1.4                   2.4           1.6                   2.2   \n",
              "\n",
              "   avgGoalHome  avgGoalConcededHome  avgGoalAway  avgGoalConcededAway  \\\n",
              "0          1.4                  2.6          2.0                  0.4   \n",
              "1          3.6                  1.0          1.2                  0.8   \n",
              "2          1.4                  2.4          1.6                  2.2   \n",
              "\n",
              "   avgshothome  navgShotAway  \n",
              "0          4.2           3.8  \n",
              "1          7.0           3.6  \n",
              "2          4.0           3.4  "
            ],
            "text/html": [
              "\n",
              "  <div id=\"df-d94e8cdb-820b-45ca-b282-0278c4015512\">\n",
              "    <div class=\"colab-df-container\">\n",
              "      <div>\n",
              "<style scoped>\n",
              "    .dataframe tbody tr th:only-of-type {\n",
              "        vertical-align: middle;\n",
              "    }\n",
              "\n",
              "    .dataframe tbody tr th {\n",
              "        vertical-align: top;\n",
              "    }\n",
              "\n",
              "    .dataframe thead th {\n",
              "        text-align: right;\n",
              "    }\n",
              "</style>\n",
              "<table border=\"1\" class=\"dataframe\">\n",
              "  <thead>\n",
              "    <tr style=\"text-align: right;\">\n",
              "      <th></th>\n",
              "      <th>navgGoalHome</th>\n",
              "      <th>navgGoalConcededHome</th>\n",
              "      <th>navgGoalAway</th>\n",
              "      <th>navgGoalConcededAway</th>\n",
              "      <th>avgGoalHome</th>\n",
              "      <th>avgGoalConcededHome</th>\n",
              "      <th>avgGoalAway</th>\n",
              "      <th>avgGoalConcededAway</th>\n",
              "      <th>avgshothome</th>\n",
              "      <th>navgShotAway</th>\n",
              "    </tr>\n",
              "  </thead>\n",
              "  <tbody>\n",
              "    <tr>\n",
              "      <th>0</th>\n",
              "      <td>1.4</td>\n",
              "      <td>2.6</td>\n",
              "      <td>2.0</td>\n",
              "      <td>0.4</td>\n",
              "      <td>1.4</td>\n",
              "      <td>2.6</td>\n",
              "      <td>2.0</td>\n",
              "      <td>0.4</td>\n",
              "      <td>4.2</td>\n",
              "      <td>3.8</td>\n",
              "    </tr>\n",
              "    <tr>\n",
              "      <th>1</th>\n",
              "      <td>3.6</td>\n",
              "      <td>1.0</td>\n",
              "      <td>1.2</td>\n",
              "      <td>0.8</td>\n",
              "      <td>3.6</td>\n",
              "      <td>1.0</td>\n",
              "      <td>1.2</td>\n",
              "      <td>0.8</td>\n",
              "      <td>7.0</td>\n",
              "      <td>3.6</td>\n",
              "    </tr>\n",
              "    <tr>\n",
              "      <th>2</th>\n",
              "      <td>1.4</td>\n",
              "      <td>2.4</td>\n",
              "      <td>1.6</td>\n",
              "      <td>2.2</td>\n",
              "      <td>1.4</td>\n",
              "      <td>2.4</td>\n",
              "      <td>1.6</td>\n",
              "      <td>2.2</td>\n",
              "      <td>4.0</td>\n",
              "      <td>3.4</td>\n",
              "    </tr>\n",
              "  </tbody>\n",
              "</table>\n",
              "</div>\n",
              "      <button class=\"colab-df-convert\" onclick=\"convertToInteractive('df-d94e8cdb-820b-45ca-b282-0278c4015512')\"\n",
              "              title=\"Convert this dataframe to an interactive table.\"\n",
              "              style=\"display:none;\">\n",
              "        \n",
              "  <svg xmlns=\"http://www.w3.org/2000/svg\" height=\"24px\"viewBox=\"0 0 24 24\"\n",
              "       width=\"24px\">\n",
              "    <path d=\"M0 0h24v24H0V0z\" fill=\"none\"/>\n",
              "    <path d=\"M18.56 5.44l.94 2.06.94-2.06 2.06-.94-2.06-.94-.94-2.06-.94 2.06-2.06.94zm-11 1L8.5 8.5l.94-2.06 2.06-.94-2.06-.94L8.5 2.5l-.94 2.06-2.06.94zm10 10l.94 2.06.94-2.06 2.06-.94-2.06-.94-.94-2.06-.94 2.06-2.06.94z\"/><path d=\"M17.41 7.96l-1.37-1.37c-.4-.4-.92-.59-1.43-.59-.52 0-1.04.2-1.43.59L10.3 9.45l-7.72 7.72c-.78.78-.78 2.05 0 2.83L4 21.41c.39.39.9.59 1.41.59.51 0 1.02-.2 1.41-.59l7.78-7.78 2.81-2.81c.8-.78.8-2.07 0-2.86zM5.41 20L4 18.59l7.72-7.72 1.47 1.35L5.41 20z\"/>\n",
              "  </svg>\n",
              "      </button>\n",
              "      \n",
              "  <style>\n",
              "    .colab-df-container {\n",
              "      display:flex;\n",
              "      flex-wrap:wrap;\n",
              "      gap: 12px;\n",
              "    }\n",
              "\n",
              "    .colab-df-convert {\n",
              "      background-color: #E8F0FE;\n",
              "      border: none;\n",
              "      border-radius: 50%;\n",
              "      cursor: pointer;\n",
              "      display: none;\n",
              "      fill: #1967D2;\n",
              "      height: 32px;\n",
              "      padding: 0 0 0 0;\n",
              "      width: 32px;\n",
              "    }\n",
              "\n",
              "    .colab-df-convert:hover {\n",
              "      background-color: #E2EBFA;\n",
              "      box-shadow: 0px 1px 2px rgba(60, 64, 67, 0.3), 0px 1px 3px 1px rgba(60, 64, 67, 0.15);\n",
              "      fill: #174EA6;\n",
              "    }\n",
              "\n",
              "    [theme=dark] .colab-df-convert {\n",
              "      background-color: #3B4455;\n",
              "      fill: #D2E3FC;\n",
              "    }\n",
              "\n",
              "    [theme=dark] .colab-df-convert:hover {\n",
              "      background-color: #434B5C;\n",
              "      box-shadow: 0px 1px 3px 1px rgba(0, 0, 0, 0.15);\n",
              "      filter: drop-shadow(0px 1px 2px rgba(0, 0, 0, 0.3));\n",
              "      fill: #FFFFFF;\n",
              "    }\n",
              "  </style>\n",
              "\n",
              "      <script>\n",
              "        const buttonEl =\n",
              "          document.querySelector('#df-d94e8cdb-820b-45ca-b282-0278c4015512 button.colab-df-convert');\n",
              "        buttonEl.style.display =\n",
              "          google.colab.kernel.accessAllowed ? 'block' : 'none';\n",
              "\n",
              "        async function convertToInteractive(key) {\n",
              "          const element = document.querySelector('#df-d94e8cdb-820b-45ca-b282-0278c4015512');\n",
              "          const dataTable =\n",
              "            await google.colab.kernel.invokeFunction('convertToInteractive',\n",
              "                                                     [key], {});\n",
              "          if (!dataTable) return;\n",
              "\n",
              "          const docLinkHtml = 'Like what you see? Visit the ' +\n",
              "            '<a target=\"_blank\" href=https://colab.research.google.com/notebooks/data_table.ipynb>data table notebook</a>'\n",
              "            + ' to learn more about interactive tables.';\n",
              "          element.innerHTML = '';\n",
              "          dataTable['output_type'] = 'display_data';\n",
              "          await google.colab.output.renderOutput(dataTable, element);\n",
              "          const docLink = document.createElement('div');\n",
              "          docLink.innerHTML = docLinkHtml;\n",
              "          element.appendChild(docLink);\n",
              "        }\n",
              "      </script>\n",
              "    </div>\n",
              "  </div>\n",
              "  "
            ]
          },
          "metadata": {},
          "execution_count": 520
        }
      ]
    },
    {
      "cell_type": "code",
      "source": [
        "#reversing row info\n",
        "info_df = info_df.loc[::-1]\n",
        "info_df=info_df.reset_index()\n",
        "info_df=info_df.drop('index',axis=1)\n",
        "info_df.head(3)"
      ],
      "metadata": {
        "colab": {
          "base_uri": "https://localhost:8080/",
          "height": 144
        },
        "id": "Dwj3_TnbiM75",
        "outputId": "82b7e0d2-95d7-4e5e-e224-4e59ce9fd9e1"
      },
      "execution_count": 521,
      "outputs": [
        {
          "output_type": "execute_result",
          "data": {
            "text/plain": [
              "   navgGoalHome  navgGoalConcededHome  navgGoalAway  navgGoalConcededAway  \\\n",
              "0           1.6                   2.2           0.8                   1.4   \n",
              "1           1.4                   1.0           2.0                   1.6   \n",
              "2           1.2                   2.2           2.0                   0.4   \n",
              "\n",
              "   avgGoalHome  avgGoalConcededHome  avgGoalAway  avgGoalConcededAway  \\\n",
              "0     0.918919             1.864865     0.918919             1.837838   \n",
              "1     0.891892             2.000000     1.540541             1.567568   \n",
              "2     1.729730             1.702703     1.783784             0.837838   \n",
              "\n",
              "   avgshothome  navgShotAway  \n",
              "0          4.0           3.8  \n",
              "1          5.6           5.6  \n",
              "2          5.2           5.8  "
            ],
            "text/html": [
              "\n",
              "  <div id=\"df-6844b974-973c-4e45-ac88-497d9124cbc0\">\n",
              "    <div class=\"colab-df-container\">\n",
              "      <div>\n",
              "<style scoped>\n",
              "    .dataframe tbody tr th:only-of-type {\n",
              "        vertical-align: middle;\n",
              "    }\n",
              "\n",
              "    .dataframe tbody tr th {\n",
              "        vertical-align: top;\n",
              "    }\n",
              "\n",
              "    .dataframe thead th {\n",
              "        text-align: right;\n",
              "    }\n",
              "</style>\n",
              "<table border=\"1\" class=\"dataframe\">\n",
              "  <thead>\n",
              "    <tr style=\"text-align: right;\">\n",
              "      <th></th>\n",
              "      <th>navgGoalHome</th>\n",
              "      <th>navgGoalConcededHome</th>\n",
              "      <th>navgGoalAway</th>\n",
              "      <th>navgGoalConcededAway</th>\n",
              "      <th>avgGoalHome</th>\n",
              "      <th>avgGoalConcededHome</th>\n",
              "      <th>avgGoalAway</th>\n",
              "      <th>avgGoalConcededAway</th>\n",
              "      <th>avgshothome</th>\n",
              "      <th>navgShotAway</th>\n",
              "    </tr>\n",
              "  </thead>\n",
              "  <tbody>\n",
              "    <tr>\n",
              "      <th>0</th>\n",
              "      <td>1.6</td>\n",
              "      <td>2.2</td>\n",
              "      <td>0.8</td>\n",
              "      <td>1.4</td>\n",
              "      <td>0.918919</td>\n",
              "      <td>1.864865</td>\n",
              "      <td>0.918919</td>\n",
              "      <td>1.837838</td>\n",
              "      <td>4.0</td>\n",
              "      <td>3.8</td>\n",
              "    </tr>\n",
              "    <tr>\n",
              "      <th>1</th>\n",
              "      <td>1.4</td>\n",
              "      <td>1.0</td>\n",
              "      <td>2.0</td>\n",
              "      <td>1.6</td>\n",
              "      <td>0.891892</td>\n",
              "      <td>2.000000</td>\n",
              "      <td>1.540541</td>\n",
              "      <td>1.567568</td>\n",
              "      <td>5.6</td>\n",
              "      <td>5.6</td>\n",
              "    </tr>\n",
              "    <tr>\n",
              "      <th>2</th>\n",
              "      <td>1.2</td>\n",
              "      <td>2.2</td>\n",
              "      <td>2.0</td>\n",
              "      <td>0.4</td>\n",
              "      <td>1.729730</td>\n",
              "      <td>1.702703</td>\n",
              "      <td>1.783784</td>\n",
              "      <td>0.837838</td>\n",
              "      <td>5.2</td>\n",
              "      <td>5.8</td>\n",
              "    </tr>\n",
              "  </tbody>\n",
              "</table>\n",
              "</div>\n",
              "      <button class=\"colab-df-convert\" onclick=\"convertToInteractive('df-6844b974-973c-4e45-ac88-497d9124cbc0')\"\n",
              "              title=\"Convert this dataframe to an interactive table.\"\n",
              "              style=\"display:none;\">\n",
              "        \n",
              "  <svg xmlns=\"http://www.w3.org/2000/svg\" height=\"24px\"viewBox=\"0 0 24 24\"\n",
              "       width=\"24px\">\n",
              "    <path d=\"M0 0h24v24H0V0z\" fill=\"none\"/>\n",
              "    <path d=\"M18.56 5.44l.94 2.06.94-2.06 2.06-.94-2.06-.94-.94-2.06-.94 2.06-2.06.94zm-11 1L8.5 8.5l.94-2.06 2.06-.94-2.06-.94L8.5 2.5l-.94 2.06-2.06.94zm10 10l.94 2.06.94-2.06 2.06-.94-2.06-.94-.94-2.06-.94 2.06-2.06.94z\"/><path d=\"M17.41 7.96l-1.37-1.37c-.4-.4-.92-.59-1.43-.59-.52 0-1.04.2-1.43.59L10.3 9.45l-7.72 7.72c-.78.78-.78 2.05 0 2.83L4 21.41c.39.39.9.59 1.41.59.51 0 1.02-.2 1.41-.59l7.78-7.78 2.81-2.81c.8-.78.8-2.07 0-2.86zM5.41 20L4 18.59l7.72-7.72 1.47 1.35L5.41 20z\"/>\n",
              "  </svg>\n",
              "      </button>\n",
              "      \n",
              "  <style>\n",
              "    .colab-df-container {\n",
              "      display:flex;\n",
              "      flex-wrap:wrap;\n",
              "      gap: 12px;\n",
              "    }\n",
              "\n",
              "    .colab-df-convert {\n",
              "      background-color: #E8F0FE;\n",
              "      border: none;\n",
              "      border-radius: 50%;\n",
              "      cursor: pointer;\n",
              "      display: none;\n",
              "      fill: #1967D2;\n",
              "      height: 32px;\n",
              "      padding: 0 0 0 0;\n",
              "      width: 32px;\n",
              "    }\n",
              "\n",
              "    .colab-df-convert:hover {\n",
              "      background-color: #E2EBFA;\n",
              "      box-shadow: 0px 1px 2px rgba(60, 64, 67, 0.3), 0px 1px 3px 1px rgba(60, 64, 67, 0.15);\n",
              "      fill: #174EA6;\n",
              "    }\n",
              "\n",
              "    [theme=dark] .colab-df-convert {\n",
              "      background-color: #3B4455;\n",
              "      fill: #D2E3FC;\n",
              "    }\n",
              "\n",
              "    [theme=dark] .colab-df-convert:hover {\n",
              "      background-color: #434B5C;\n",
              "      box-shadow: 0px 1px 3px 1px rgba(0, 0, 0, 0.15);\n",
              "      filter: drop-shadow(0px 1px 2px rgba(0, 0, 0, 0.3));\n",
              "      fill: #FFFFFF;\n",
              "    }\n",
              "  </style>\n",
              "\n",
              "      <script>\n",
              "        const buttonEl =\n",
              "          document.querySelector('#df-6844b974-973c-4e45-ac88-497d9124cbc0 button.colab-df-convert');\n",
              "        buttonEl.style.display =\n",
              "          google.colab.kernel.accessAllowed ? 'block' : 'none';\n",
              "\n",
              "        async function convertToInteractive(key) {\n",
              "          const element = document.querySelector('#df-6844b974-973c-4e45-ac88-497d9124cbc0');\n",
              "          const dataTable =\n",
              "            await google.colab.kernel.invokeFunction('convertToInteractive',\n",
              "                                                     [key], {});\n",
              "          if (!dataTable) return;\n",
              "\n",
              "          const docLinkHtml = 'Like what you see? Visit the ' +\n",
              "            '<a target=\"_blank\" href=https://colab.research.google.com/notebooks/data_table.ipynb>data table notebook</a>'\n",
              "            + ' to learn more about interactive tables.';\n",
              "          element.innerHTML = '';\n",
              "          dataTable['output_type'] = 'display_data';\n",
              "          await google.colab.output.renderOutput(dataTable, element);\n",
              "          const docLink = document.createElement('div');\n",
              "          docLink.innerHTML = docLinkHtml;\n",
              "          element.appendChild(docLink);\n",
              "        }\n",
              "      </script>\n",
              "    </div>\n",
              "  </div>\n",
              "  "
            ]
          },
          "metadata": {},
          "execution_count": 521
        }
      ]
    },
    {
      "cell_type": "code",
      "source": [
        "#Merging features with info_df\n",
        "features=pd.concat([features,info_df],axis=1, join='inner')\n",
        "features.head()"
      ],
      "metadata": {
        "colab": {
          "base_uri": "https://localhost:8080/",
          "height": 270
        },
        "id": "8VzWx3fli1et",
        "outputId": "a37f1e92-4ff8-41a9-978b-cbd41d8c19c9"
      },
      "execution_count": 522,
      "outputs": [
        {
          "output_type": "execute_result",
          "data": {
            "text/plain": [
              "         Date   Time     HomeTeam   AwayTeam  FTHG  FTAG  HST  AST  B365>2.5  \\\n",
              "0  22/05/2022  20:00      Venezia   Cagliari     0     0    1    7      1.72   \n",
              "1  22/05/2022  20:00  Salernitana    Udinese     0     4   10   11      1.61   \n",
              "2  22/05/2022  17:00     Sassuolo      Milan     0     3    3   12      1.50   \n",
              "3  22/05/2022  17:00        Inter  Sampdoria     3     0   12    3      1.28   \n",
              "4  22/05/2022  11:30       Spezia     Napoli     0     3    4    4      1.44   \n",
              "\n",
              "   target  predB365  navgGoalHome  navgGoalConcededHome  navgGoalAway  \\\n",
              "0       0         1           1.6                   2.2           0.8   \n",
              "1       1         1           1.4                   1.0           2.0   \n",
              "2       1         1           1.2                   2.2           2.0   \n",
              "3       1         1           2.6                   1.4           1.4   \n",
              "4       1         1           1.8                   2.8           2.6   \n",
              "\n",
              "   navgGoalConcededAway  avgGoalHome  avgGoalConcededHome  avgGoalAway  \\\n",
              "0                   1.4     0.918919             1.864865     0.918919   \n",
              "1                   1.6     0.891892             2.000000     1.540541   \n",
              "2                   0.4     1.729730             1.702703     1.783784   \n",
              "3                   1.2     2.189189             0.864865     1.243243   \n",
              "4                   1.0     1.108108             1.837838     1.918919   \n",
              "\n",
              "   avgGoalConcededAway  avgshothome  navgShotAway  \n",
              "0             1.837838          4.0           3.8  \n",
              "1             1.567568          5.6           5.6  \n",
              "2             0.837838          5.2           5.8  \n",
              "3             1.621622          7.4           2.6  \n",
              "4             0.837838          2.8           5.8  "
            ],
            "text/html": [
              "\n",
              "  <div id=\"df-8102f94b-2692-4748-a85e-c94edad6f347\">\n",
              "    <div class=\"colab-df-container\">\n",
              "      <div>\n",
              "<style scoped>\n",
              "    .dataframe tbody tr th:only-of-type {\n",
              "        vertical-align: middle;\n",
              "    }\n",
              "\n",
              "    .dataframe tbody tr th {\n",
              "        vertical-align: top;\n",
              "    }\n",
              "\n",
              "    .dataframe thead th {\n",
              "        text-align: right;\n",
              "    }\n",
              "</style>\n",
              "<table border=\"1\" class=\"dataframe\">\n",
              "  <thead>\n",
              "    <tr style=\"text-align: right;\">\n",
              "      <th></th>\n",
              "      <th>Date</th>\n",
              "      <th>Time</th>\n",
              "      <th>HomeTeam</th>\n",
              "      <th>AwayTeam</th>\n",
              "      <th>FTHG</th>\n",
              "      <th>FTAG</th>\n",
              "      <th>HST</th>\n",
              "      <th>AST</th>\n",
              "      <th>B365&gt;2.5</th>\n",
              "      <th>target</th>\n",
              "      <th>predB365</th>\n",
              "      <th>navgGoalHome</th>\n",
              "      <th>navgGoalConcededHome</th>\n",
              "      <th>navgGoalAway</th>\n",
              "      <th>navgGoalConcededAway</th>\n",
              "      <th>avgGoalHome</th>\n",
              "      <th>avgGoalConcededHome</th>\n",
              "      <th>avgGoalAway</th>\n",
              "      <th>avgGoalConcededAway</th>\n",
              "      <th>avgshothome</th>\n",
              "      <th>navgShotAway</th>\n",
              "    </tr>\n",
              "  </thead>\n",
              "  <tbody>\n",
              "    <tr>\n",
              "      <th>0</th>\n",
              "      <td>22/05/2022</td>\n",
              "      <td>20:00</td>\n",
              "      <td>Venezia</td>\n",
              "      <td>Cagliari</td>\n",
              "      <td>0</td>\n",
              "      <td>0</td>\n",
              "      <td>1</td>\n",
              "      <td>7</td>\n",
              "      <td>1.72</td>\n",
              "      <td>0</td>\n",
              "      <td>1</td>\n",
              "      <td>1.6</td>\n",
              "      <td>2.2</td>\n",
              "      <td>0.8</td>\n",
              "      <td>1.4</td>\n",
              "      <td>0.918919</td>\n",
              "      <td>1.864865</td>\n",
              "      <td>0.918919</td>\n",
              "      <td>1.837838</td>\n",
              "      <td>4.0</td>\n",
              "      <td>3.8</td>\n",
              "    </tr>\n",
              "    <tr>\n",
              "      <th>1</th>\n",
              "      <td>22/05/2022</td>\n",
              "      <td>20:00</td>\n",
              "      <td>Salernitana</td>\n",
              "      <td>Udinese</td>\n",
              "      <td>0</td>\n",
              "      <td>4</td>\n",
              "      <td>10</td>\n",
              "      <td>11</td>\n",
              "      <td>1.61</td>\n",
              "      <td>1</td>\n",
              "      <td>1</td>\n",
              "      <td>1.4</td>\n",
              "      <td>1.0</td>\n",
              "      <td>2.0</td>\n",
              "      <td>1.6</td>\n",
              "      <td>0.891892</td>\n",
              "      <td>2.000000</td>\n",
              "      <td>1.540541</td>\n",
              "      <td>1.567568</td>\n",
              "      <td>5.6</td>\n",
              "      <td>5.6</td>\n",
              "    </tr>\n",
              "    <tr>\n",
              "      <th>2</th>\n",
              "      <td>22/05/2022</td>\n",
              "      <td>17:00</td>\n",
              "      <td>Sassuolo</td>\n",
              "      <td>Milan</td>\n",
              "      <td>0</td>\n",
              "      <td>3</td>\n",
              "      <td>3</td>\n",
              "      <td>12</td>\n",
              "      <td>1.50</td>\n",
              "      <td>1</td>\n",
              "      <td>1</td>\n",
              "      <td>1.2</td>\n",
              "      <td>2.2</td>\n",
              "      <td>2.0</td>\n",
              "      <td>0.4</td>\n",
              "      <td>1.729730</td>\n",
              "      <td>1.702703</td>\n",
              "      <td>1.783784</td>\n",
              "      <td>0.837838</td>\n",
              "      <td>5.2</td>\n",
              "      <td>5.8</td>\n",
              "    </tr>\n",
              "    <tr>\n",
              "      <th>3</th>\n",
              "      <td>22/05/2022</td>\n",
              "      <td>17:00</td>\n",
              "      <td>Inter</td>\n",
              "      <td>Sampdoria</td>\n",
              "      <td>3</td>\n",
              "      <td>0</td>\n",
              "      <td>12</td>\n",
              "      <td>3</td>\n",
              "      <td>1.28</td>\n",
              "      <td>1</td>\n",
              "      <td>1</td>\n",
              "      <td>2.6</td>\n",
              "      <td>1.4</td>\n",
              "      <td>1.4</td>\n",
              "      <td>1.2</td>\n",
              "      <td>2.189189</td>\n",
              "      <td>0.864865</td>\n",
              "      <td>1.243243</td>\n",
              "      <td>1.621622</td>\n",
              "      <td>7.4</td>\n",
              "      <td>2.6</td>\n",
              "    </tr>\n",
              "    <tr>\n",
              "      <th>4</th>\n",
              "      <td>22/05/2022</td>\n",
              "      <td>11:30</td>\n",
              "      <td>Spezia</td>\n",
              "      <td>Napoli</td>\n",
              "      <td>0</td>\n",
              "      <td>3</td>\n",
              "      <td>4</td>\n",
              "      <td>4</td>\n",
              "      <td>1.44</td>\n",
              "      <td>1</td>\n",
              "      <td>1</td>\n",
              "      <td>1.8</td>\n",
              "      <td>2.8</td>\n",
              "      <td>2.6</td>\n",
              "      <td>1.0</td>\n",
              "      <td>1.108108</td>\n",
              "      <td>1.837838</td>\n",
              "      <td>1.918919</td>\n",
              "      <td>0.837838</td>\n",
              "      <td>2.8</td>\n",
              "      <td>5.8</td>\n",
              "    </tr>\n",
              "  </tbody>\n",
              "</table>\n",
              "</div>\n",
              "      <button class=\"colab-df-convert\" onclick=\"convertToInteractive('df-8102f94b-2692-4748-a85e-c94edad6f347')\"\n",
              "              title=\"Convert this dataframe to an interactive table.\"\n",
              "              style=\"display:none;\">\n",
              "        \n",
              "  <svg xmlns=\"http://www.w3.org/2000/svg\" height=\"24px\"viewBox=\"0 0 24 24\"\n",
              "       width=\"24px\">\n",
              "    <path d=\"M0 0h24v24H0V0z\" fill=\"none\"/>\n",
              "    <path d=\"M18.56 5.44l.94 2.06.94-2.06 2.06-.94-2.06-.94-.94-2.06-.94 2.06-2.06.94zm-11 1L8.5 8.5l.94-2.06 2.06-.94-2.06-.94L8.5 2.5l-.94 2.06-2.06.94zm10 10l.94 2.06.94-2.06 2.06-.94-2.06-.94-.94-2.06-.94 2.06-2.06.94z\"/><path d=\"M17.41 7.96l-1.37-1.37c-.4-.4-.92-.59-1.43-.59-.52 0-1.04.2-1.43.59L10.3 9.45l-7.72 7.72c-.78.78-.78 2.05 0 2.83L4 21.41c.39.39.9.59 1.41.59.51 0 1.02-.2 1.41-.59l7.78-7.78 2.81-2.81c.8-.78.8-2.07 0-2.86zM5.41 20L4 18.59l7.72-7.72 1.47 1.35L5.41 20z\"/>\n",
              "  </svg>\n",
              "      </button>\n",
              "      \n",
              "  <style>\n",
              "    .colab-df-container {\n",
              "      display:flex;\n",
              "      flex-wrap:wrap;\n",
              "      gap: 12px;\n",
              "    }\n",
              "\n",
              "    .colab-df-convert {\n",
              "      background-color: #E8F0FE;\n",
              "      border: none;\n",
              "      border-radius: 50%;\n",
              "      cursor: pointer;\n",
              "      display: none;\n",
              "      fill: #1967D2;\n",
              "      height: 32px;\n",
              "      padding: 0 0 0 0;\n",
              "      width: 32px;\n",
              "    }\n",
              "\n",
              "    .colab-df-convert:hover {\n",
              "      background-color: #E2EBFA;\n",
              "      box-shadow: 0px 1px 2px rgba(60, 64, 67, 0.3), 0px 1px 3px 1px rgba(60, 64, 67, 0.15);\n",
              "      fill: #174EA6;\n",
              "    }\n",
              "\n",
              "    [theme=dark] .colab-df-convert {\n",
              "      background-color: #3B4455;\n",
              "      fill: #D2E3FC;\n",
              "    }\n",
              "\n",
              "    [theme=dark] .colab-df-convert:hover {\n",
              "      background-color: #434B5C;\n",
              "      box-shadow: 0px 1px 3px 1px rgba(0, 0, 0, 0.15);\n",
              "      filter: drop-shadow(0px 1px 2px rgba(0, 0, 0, 0.3));\n",
              "      fill: #FFFFFF;\n",
              "    }\n",
              "  </style>\n",
              "\n",
              "      <script>\n",
              "        const buttonEl =\n",
              "          document.querySelector('#df-8102f94b-2692-4748-a85e-c94edad6f347 button.colab-df-convert');\n",
              "        buttonEl.style.display =\n",
              "          google.colab.kernel.accessAllowed ? 'block' : 'none';\n",
              "\n",
              "        async function convertToInteractive(key) {\n",
              "          const element = document.querySelector('#df-8102f94b-2692-4748-a85e-c94edad6f347');\n",
              "          const dataTable =\n",
              "            await google.colab.kernel.invokeFunction('convertToInteractive',\n",
              "                                                     [key], {});\n",
              "          if (!dataTable) return;\n",
              "\n",
              "          const docLinkHtml = 'Like what you see? Visit the ' +\n",
              "            '<a target=\"_blank\" href=https://colab.research.google.com/notebooks/data_table.ipynb>data table notebook</a>'\n",
              "            + ' to learn more about interactive tables.';\n",
              "          element.innerHTML = '';\n",
              "          dataTable['output_type'] = 'display_data';\n",
              "          await google.colab.output.renderOutput(dataTable, element);\n",
              "          const docLink = document.createElement('div');\n",
              "          docLink.innerHTML = docLinkHtml;\n",
              "          element.appendChild(docLink);\n",
              "        }\n",
              "      </script>\n",
              "    </div>\n",
              "  </div>\n",
              "  "
            ]
          },
          "metadata": {},
          "execution_count": 522
        }
      ]
    },
    {
      "cell_type": "markdown",
      "source": [
        "\n",
        "\n",
        "\n",
        "\n",
        "> I will treat hour feature as numeric but first i have to remove two points "
      ],
      "metadata": {
        "id": "zN8unX5_jXhG"
      }
    },
    {
      "cell_type": "code",
      "source": [
        "features['Time'] = features['Time'].str.replace(':','.')"
      ],
      "metadata": {
        "id": "p6uHnHZ4FM8f"
      },
      "execution_count": 523,
      "outputs": []
    },
    {
      "cell_type": "code",
      "source": [
        "features[\"Time\"] = pd.to_numeric(features[\"Time\"])"
      ],
      "metadata": {
        "id": "e8cqZ2UAIoE6"
      },
      "execution_count": 524,
      "outputs": []
    },
    {
      "cell_type": "markdown",
      "source": [
        "## *Verifying Nan values*"
      ],
      "metadata": {
        "id": "PovcLBVuXgjl"
      }
    },
    {
      "cell_type": "code",
      "source": [
        "features.isna().sum()"
      ],
      "metadata": {
        "colab": {
          "base_uri": "https://localhost:8080/"
        },
        "id": "m2dIGRBTXf-F",
        "outputId": "043c6995-0e34-4874-e75d-3391c85ba4dd"
      },
      "execution_count": 525,
      "outputs": [
        {
          "output_type": "execute_result",
          "data": {
            "text/plain": [
              "Date                    0\n",
              "Time                    0\n",
              "HomeTeam                0\n",
              "AwayTeam                0\n",
              "FTHG                    0\n",
              "FTAG                    0\n",
              "HST                     0\n",
              "AST                     0\n",
              "B365>2.5                1\n",
              "target                  0\n",
              "predB365                0\n",
              "navgGoalHome            0\n",
              "navgGoalConcededHome    0\n",
              "navgGoalAway            0\n",
              "navgGoalConcededAway    0\n",
              "avgGoalHome             0\n",
              "avgGoalConcededHome     0\n",
              "avgGoalAway             0\n",
              "avgGoalConcededAway     0\n",
              "avgshothome             0\n",
              "navgShotAway            0\n",
              "dtype: int64"
            ]
          },
          "metadata": {},
          "execution_count": 525
        }
      ]
    },
    {
      "cell_type": "markdown",
      "source": [
        "> Since we have only one Nan value i can delete the whole rows "
      ],
      "metadata": {
        "id": "59gXnzMM04Xf"
      }
    },
    {
      "cell_type": "code",
      "source": [
        "features=features.dropna()"
      ],
      "metadata": {
        "id": "7KshU7wm09_V"
      },
      "execution_count": 526,
      "outputs": []
    },
    {
      "cell_type": "markdown",
      "source": [
        "## *Distributions of the features*\n",
        "\n",
        "> To analyze the features created before i will look at the empirical distributions o"
      ],
      "metadata": {
        "id": "5ohHI7J_JXjU"
      }
    },
    {
      "cell_type": "code",
      "source": [
        "features.columns"
      ],
      "metadata": {
        "colab": {
          "base_uri": "https://localhost:8080/"
        },
        "id": "wmT-157wJctr",
        "outputId": "f47edc33-8f57-448c-b8aa-ee77d7502f24"
      },
      "execution_count": 527,
      "outputs": [
        {
          "output_type": "execute_result",
          "data": {
            "text/plain": [
              "Index(['Date', 'Time', 'HomeTeam', 'AwayTeam', 'FTHG', 'FTAG', 'HST', 'AST',\n",
              "       'B365>2.5', 'target', 'predB365', 'navgGoalHome',\n",
              "       'navgGoalConcededHome', 'navgGoalAway', 'navgGoalConcededAway',\n",
              "       'avgGoalHome', 'avgGoalConcededHome', 'avgGoalAway',\n",
              "       'avgGoalConcededAway', 'avgshothome', 'navgShotAway'],\n",
              "      dtype='object')"
            ]
          },
          "metadata": {},
          "execution_count": 527
        }
      ]
    },
    {
      "cell_type": "code",
      "source": [
        "lis=[features.Time[data['target']==1], features.Time[data['target']==0]]\n",
        "group_labels=['over 2.5','under 2.5']\n",
        "colors = ['#003f5c', '#ffa600']\n",
        "# Create distplot \n",
        "fig = ff.create_distplot(lis, group_labels, bin_size=20,show_rug=False,\n",
        "                         curve_type='kde', # override default 'kde'\n",
        "                         colors=colors)\n",
        "\n",
        "# Add title\n",
        "fig.update_layout(xaxis_range=[0,24])\n",
        "fig.update_layout(title_text='Distplot with Normal Distribution : navgGoalHome')\n",
        "fig.show()"
      ],
      "metadata": {
        "colab": {
          "base_uri": "https://localhost:8080/",
          "height": 542
        },
        "id": "4XIPlM9HTbsV",
        "outputId": "619f4ab5-9264-4a9a-abba-ded10f3326e9"
      },
      "execution_count": 528,
      "outputs": [
        {
          "output_type": "display_data",
          "data": {
            "text/html": [
              "<html>\n",
              "<head><meta charset=\"utf-8\" /></head>\n",
              "<body>\n",
              "    <div>            <script src=\"https://cdnjs.cloudflare.com/ajax/libs/mathjax/2.7.5/MathJax.js?config=TeX-AMS-MML_SVG\"></script><script type=\"text/javascript\">if (window.MathJax) {MathJax.Hub.Config({SVG: {font: \"STIX-Web\"}});}</script>                <script type=\"text/javascript\">window.PlotlyConfig = {MathJaxConfig: 'local'};</script>\n",
              "        <script src=\"https://cdn.plot.ly/plotly-2.8.3.min.js\"></script>                <div id=\"9218295e-78be-45fa-a85c-0d9f421a8262\" class=\"plotly-graph-div\" style=\"height:525px; width:100%;\"></div>            <script type=\"text/javascript\">                                    window.PLOTLYENV=window.PLOTLYENV || {};                                    if (document.getElementById(\"9218295e-78be-45fa-a85c-0d9f421a8262\")) {                    Plotly.newPlot(                        \"9218295e-78be-45fa-a85c-0d9f421a8262\",                        [{\"autobinx\":false,\"histnorm\":\"probability density\",\"legendgroup\":\"over 2.5\",\"marker\":{\"color\":\"#003f5c\"},\"name\":\"over 2.5\",\"opacity\":0.7,\"x\":[20.0,20.0,17.0,17.0,11.3,19.45,19.45,16.15,19.45,17.3,17.0,14.0,19.45,17.0,14.0,19.45,19.45,17.0,14.0,11.3,17.0,20.0,19.45,19.45,14.0,14.0,11.3,19.45,14.0,14.0,19.15,19.15,17.0,19.45,14.0,19.45,17.0,14.0,14.0,17.45,19.45,20.0,18.0,19.45,19.45,17.0,14.0,14.0,11.3,19.45,17.0,14.0,19.45,14.0,11.3,19.45,17.0,14.0,17.0,14.0,17.0,20.0,17.45,19.45,14.0,11.3,19.45,17.0,14.0,17.0,14.0,11.3,14.0,19.45,19.45,19.45,17.0,19.45,14.0,20.0,18.0,17.0,14.0,19.45,17.0,19.45,14.0,14.0,11.3,19.45,17.0,14.0,14.0,11.3,19.45,17.0,14.0,19.45,17.0,14.0,11.3,19.45,19.45,19.45,17.3,19.45,14.0,11.3,19.45,14.0,19.45,15.3,11.3,15.3,13.3,11.3,19.45,17.3,17.3,15.3,19.45,19.45,17.0,17.0,14.0,11.3,19.45,17.0,19.45,17.0,14.0,11.3,17.0,19.45,17.0,11.3,19.45,17.0,19.45,17.3,17.3,19.45,17.0,14.0,11.3,14.0,14.0,14.0,17.0,14.0,19.45,17.0,14.0,14.0,11.3,19.45,14.0,17.0,14.0,19.45,19.45,17.3,19.45,14.0,17.0,17.3,19.45,19.45,17.0,14.0,19.45,17.0,17.0,11.3,14.0,19.45,14.0,11.3,19.45,17.0],\"xaxis\":\"x\",\"xbins\":{\"end\":20.0,\"size\":20,\"start\":11.3},\"yaxis\":\"y\",\"type\":\"histogram\"},{\"autobinx\":false,\"histnorm\":\"probability density\",\"legendgroup\":\"under 2.5\",\"marker\":{\"color\":\"#ffa600\"},\"name\":\"under 2.5\",\"opacity\":0.7,\"x\":[19.45,19.45,19.45,11.3,17.0,19.45,14.0,17.45,17.0,17.0,17.0,19.45,17.0,14.0,11.3,20.0,18.0,17.3,15.3,13.3,13.3,11.3,14.0,17.3,19.45,17.0,14.0,19.45,14.0,11.3,19.45,14.0,19.45,17.0,17.0,14.0,19.45,14.0,14.0,19.45,17.0,14.0,11.3,17.0,17.45,20.0,19.45,11.3,14.0,19.45,19.45,17.0,14.0,19.45,17.0,14.0,19.45,14.0,14.0,14.0,17.0,14.0,17.3,17.0,17.0,19.45,19.45,17.3,17.3,15.3,11.3,19.45,17.3,13.3,19.45,17.3,15.3,19.45,14.0,17.3,19.45,19.45,17.0,19.45,14.0,19.45,17.3,19.45,14.0,14.0,14.0,17.3,19.45,19.45,19.45,17.3,17.3,19.45,14.0,19.45,17.0,19.45,19.45,17.3,19.45,17.0,14.0,11.3,19.45,17.0,17.0,19.45,19.45,19.45,14.0,14.0,11.3,17.0,14.0,19.45,19.45,19.45,17.3,17.3,17.3,17.3,19.45,17.0,14.0,11.3,19.45,14.0,19.45,19.45,17.0,14.0,14.0,14.0,11.3,14.0,14.0,19.45,17.0,19.45,19.45,17.0,14.0,14.0,14.0],\"xaxis\":\"x\",\"xbins\":{\"end\":20.0,\"size\":20,\"start\":11.3},\"yaxis\":\"y\",\"type\":\"histogram\"},{\"legendgroup\":\"over 2.5\",\"marker\":{\"color\":\"#003f5c\"},\"mode\":\"lines\",\"name\":\"over 2.5\",\"showlegend\":false,\"x\":[11.3,11.317400000000001,11.334800000000001,11.3522,11.3696,11.387,11.4044,11.421800000000001,11.439200000000001,11.4566,11.474,11.4914,11.5088,11.526200000000001,11.543600000000001,11.561,11.5784,11.5958,11.6132,11.630600000000001,11.648000000000001,11.6654,11.6828,11.7002,11.717600000000001,11.735000000000001,11.752400000000002,11.7698,11.7872,11.8046,11.822000000000001,11.839400000000001,11.8568,11.8742,11.8916,11.909,11.926400000000001,11.943800000000001,11.9612,11.9786,11.996,12.0134,12.030800000000001,12.048200000000001,12.0656,12.083,12.1004,12.1178,12.135200000000001,12.152600000000001,12.17,12.1874,12.2048,12.2222,12.239600000000001,12.257000000000001,12.2744,12.2918,12.3092,12.326600000000001,12.344000000000001,12.3614,12.3788,12.3962,12.4136,12.431000000000001,12.448400000000001,12.465800000000002,12.4832,12.5006,12.518,12.535400000000001,12.552800000000001,12.5702,12.5876,12.605,12.6224,12.639800000000001,12.6572,12.6746,12.692,12.7094,12.7268,12.744200000000001,12.761600000000001,12.779,12.7964,12.8138,12.8312,12.848600000000001,12.866,12.8834,12.9008,12.9182,12.9356,12.953000000000001,12.970400000000001,12.9878,13.0052,13.0226,13.040000000000001,13.057400000000001,13.0748,13.0922,13.1096,13.127,13.144400000000001,13.161800000000001,13.1792,13.1966,13.214,13.2314,13.248800000000001,13.266200000000001,13.2836,13.301,13.3184,13.3358,13.353200000000001,13.3706,13.388000000000002,13.4054,13.4228,13.4402,13.457600000000001,13.475000000000001,13.4924,13.5098,13.5272,13.5446,13.562000000000001,13.5794,13.5968,13.6142,13.6316,13.649000000000001,13.6664,13.683800000000002,13.7012,13.7186,13.736,13.753400000000001,13.770800000000001,13.7882,13.8056,13.823,13.8404,13.857800000000001,13.8752,13.892600000000002,13.91,13.9274,13.9448,13.962200000000001,13.979600000000001,13.997,14.0144,14.0318,14.0492,14.066600000000001,14.084,14.1014,14.1188,14.1362,14.1536,14.171,14.188400000000001,14.2058,14.2232,14.2406,14.258000000000001,14.275400000000001,14.2928,14.3102,14.3276,14.345,14.362400000000001,14.3798,14.397200000000002,14.4146,14.432,14.4494,14.466800000000001,14.484200000000001,14.5016,14.519,14.5364,14.5538,14.571200000000001,14.5886,14.606,14.6234,14.6408,14.6582,14.675600000000001,14.693,14.7104,14.7278,14.7452,14.7626,14.780000000000001,14.7974,14.8148,14.8322,14.8496,14.867,14.8844,14.901800000000001,14.9192,14.9366,14.954,14.971400000000001,14.988800000000001,15.0062,15.0236,15.041,15.0584,15.075800000000001,15.0932,15.110600000000002,15.128,15.1454,15.1628,15.180200000000001,15.1976,15.215,15.2324,15.2498,15.2672,15.284600000000001,15.302,15.3194,15.3368,15.3542,15.3716,15.389,15.406400000000001,15.4238,15.4412,15.4586,15.476,15.493400000000001,15.5108,15.528200000000002,15.5456,15.563,15.580400000000001,15.5978,15.615200000000002,15.6326,15.65,15.6674,15.6848,15.702200000000001,15.7196,15.737000000000002,15.7544,15.771799999999999,15.789200000000001,15.8066,15.824000000000002,15.8414,15.858799999999999,15.8762,15.8936,15.911000000000001,15.9284,15.9458,15.9632,15.980599999999999,15.998000000000001,16.0154,16.0328,16.0502,16.0676,16.085,16.1024,16.119799999999998,16.1372,16.154600000000002,16.172,16.1894,16.2068,16.2242,16.2416,16.259,16.276400000000002,16.2938,16.3112,16.3286,16.346,16.3634,16.3808,16.3982,16.4156,16.433,16.450400000000002,16.4678,16.4852,16.5026,16.52,16.5374,16.5548,16.572200000000002,16.5896,16.607,16.6244,16.6418,16.6592,16.6766,16.694000000000003,16.7114,16.7288,16.7462,16.7636,16.781,16.7984,16.8158,16.8332,16.8506,16.868000000000002,16.8854,16.9028,16.9202,16.9376,16.955,16.9724,16.9898,17.0072,17.0246,17.042,17.0594,17.0768,17.0942,17.1116,17.128999999999998,17.1464,17.163800000000002,17.1812,17.1986,17.216,17.2334,17.250799999999998,17.2682,17.285600000000002,17.303,17.3204,17.3378,17.3552,17.3726,17.39,17.4074,17.4248,17.4422,17.459600000000002,17.477,17.4944,17.5118,17.5292,17.546599999999998,17.564,17.581400000000002,17.5988,17.6162,17.6336,17.651,17.6684,17.6858,17.703200000000002,17.7206,17.738,17.7554,17.7728,17.7902,17.8076,17.825,17.8424,17.8598,17.877200000000002,17.8946,17.912,17.9294,17.9468,17.9642,17.9816,17.999,18.0164,18.0338,18.0512,18.0686,18.086,18.1034,18.1208,18.1382,18.1556,18.173000000000002,18.1904,18.2078,18.2252,18.2426,18.259999999999998,18.2774,18.294800000000002,18.3122,18.3296,18.347,18.3644,18.3818,18.3992,18.4166,18.434,18.4514,18.4688,18.4862,18.5036,18.521,18.5384,18.555799999999998,18.5732,18.590600000000002,18.608,18.6254,18.6428,18.6602,18.677599999999998,18.695,18.712400000000002,18.7298,18.7472,18.7646,18.782,18.7994,18.8168,18.834200000000003,18.8516,18.869,18.886400000000002,18.9038,18.9212,18.9386,18.956,18.9734,18.9908,19.008200000000002,19.0256,19.043,19.0604,19.0778,19.0952,19.1126,19.13,19.1474,19.1648,19.1822,19.1996,19.217,19.2344,19.2518,19.269199999999998,19.2866,19.304000000000002,19.3214,19.3388,19.3562,19.3736,19.391,19.4084,19.425800000000002,19.443199999999997,19.4606,19.478,19.4954,19.5128,19.5302,19.5476,19.565,19.5824,19.599800000000002,19.6172,19.6346,19.652,19.6694,19.686799999999998,19.7042,19.7216,19.739,19.7564,19.7738,19.7912,19.8086,19.826,19.843400000000003,19.860799999999998,19.8782,19.8956,19.913,19.9304,19.9478,19.9652,19.982599999999998],\"xaxis\":\"x\",\"y\":[0.04745991506278061,0.047584236478230096,0.047700140683624104,0.04780781551503669,0.0479074643922583,0.047999306197287685,0.048083575125657876,0.04816052051052631,0.048230406619502966,0.04829351242424302,0.04835013134287559,0.04840057095539504,0.04844515269218206,0.04848421149587827,0.04851809545688616,0.048547165422807674,0.048571794582194454,0.04859236802302325,0.048609282266356135,0.04862294477570352,0.048633773442638265,0.04864219604926859,0.048648649708217195,0.048653580280794625,0.04865744177410567,0.04866069571786301,0.04866381052172801,0.048667260814033775,0.048671526762791954,0.048677093379911815,0.04868444980960537,0.04869408860198236,0.04870650497287396,0.04872219605095419,0.04874166011325898,0.04876539581023372,0.04879390138146277,0.0488276738632636,0.04886720828934957,0.048912996885788186,0.04896552826150128,0.04902528659557135,0.04909275082263687,0.0491683938176704,0.04925268158144797,0.0493460724280278,0.049449016175568364,0.049561953341815644,0.04968531434560075,0.04981951871568747,0.0499649743083119,0.050122076534753125,0.050291207600273106,0.05047273575575286,0.05066701456335022,0.050874382177491136,0.05109516064249325,0.05132965520811005,0.05157815366426448,0.05184092569622253,0.0521182222614382,0.05241027498927809,0.05271729560480619,0.05303947537778958,0.05337698459804428,0.05372997207822548,0.054098564685116764,0.05448286690044979,0.054882960412242866,0.05529890373760766,0.05573073187793217,0.05617845600730811,0.05664206319501977,0.05712151616286804,0.05761675307805461,0.05812768738229797,0.05865420765780294,0.059196177530648895,0.059753435612108226,0.060325795478350444,0.06091304568891893,0.061514949844322986,0.06213124668301433,0.06276165021795437,0.06340584991292242,0.0640635108986435,0.06473427422874939,0.06541775717552002,0.06611355356528724,0.06682123415330934,0.06754034703785904,0.0682704181132002,0.06901095156105284,0.06976143038008394,0.07052131695288207,0.07129005364981805,0.07206706346910599,0.07285175071232797,0.0736435016946059,0.07444168548853783,0.07524565470095393,0.0760547462814737,0.07686828236178941,0.07768557112452885,0.07850590770049293,0.079328575093007,0.08015284512805186,0.08097797942880197,0.08180323041312827,0.08262784231257998,0.08345105221130217,0.08427209110330434,0.08509018496644706,0.08590455585146861,0.08671442298434137,0.08751900388020308,0.08831751546707911,0.08910917521758384,0.08989320228675447,0.09066881865415839,0.09143525026838689,0.09219172819203332,0.09293748974524858,0.09367177964594588,0.09439385114473747,0.09510296715266783,0.09579840135982857,0.09647943934293472,0.09714537965995831,0.09779553492993104,0.0984292328960437,0.0990458174702012,0.099644649757203,0.10022510905676975,0.10078659384165849,0.10132852271014961,0.10185033531123357,0.10235149324087593,0.10283148090777104,0.1032898063670769,0.10372600212064584,0.10413962588235905,0.10453026130720819,0.10489751868284915,0.10524103558241492,0.10556047747744876,0.1058555383098873,0.10612594102210643,0.10637143804411175,0.10659181173704196,0.10678687479222994,0.10695647058515738,0.10710047348370576,0.1072187891102142,0.10731135455691962,0.10737813855445795,0.10741914159317853,0.10743439599711857,0.10742396595057269,0.10738794747727345,0.10732646837229048,0.10723968808683666,0.10712779756625979,0.10699101904157862,0.1068296057750035,0.10664384175996836,0.10643404137626902,0.1062005490009929,0.10594373857599446,0.10566401313273693,0.10536180427540702,0.10503757162326016,0.10469180221323378,0.104325009863918,0.10393773450203755,0.10353054145265658,0.10310402069436564,0.10265878608076716,0.10219547452961479,0.10171474518101631,0.10121727852613104,0.10070377550785624,0.10017495659499989,0.09963156083148972,0.09907434486218217,0.09850408193686035,0.09792156089402997,0.09732758512613389,0.09672297152782051,0.09610854942891081,0.09548515951370604,0.09485365272829335,0.09421488917748795,0.09356973701306205,0.0929190713148908,0.09226377296664225,0.0916047275276217,0.09094282410236476,0.09027895420955755,0.08961401065183544,0.08894888638799556,0.08828447340912901,0.08762166162014866,0.08696133772816844,0.08630438413914235,0.08565167786416185,0.08500408943675283,0.08436248184249295,0.08372770946223211,0.08310061703015448,0.08248203860788965,0.0818727965758395,0.08127370064284482,0.08068554687528336,0.08010911674664066,0.07954517620856913,0.07899447478439098,0.07845774468598404,0.07793569995492969,0.07742903562877315,0.0769384269332055,0.07646452850093607,0.07600797361798754,0.07556937349810815,0.07514931658595819,0.07474836788969293,0.07436706834352666,0.07400593420083,0.0736654564582788,0.07334610031153734,0.07304830464293068,0.07277248154152616,0.07251901585601489,0.07228826478075348,0.07208055747530173,0.07189619471775537,0.07173544859215392,0.07159856221021231,0.07148574946759925,0.0713971948349606,0.07133305318386024,0.07129344964778629,0.07127847951834446,0.07128820817673957,0.07132267106061835,0.0713818736663246,0.0714657915865951,0.07157437058369587,0.07170752669798085,0.07186514639182469,0.07204708672886054,0.07225317558842512,0.07248321191509348,0.07273696600315036,0.07301417981582928,0.07331456733911429,0.0736378149698748,0.07398358193807582,0.07435150076277336,0.0747411777415743,0.07515219347321442,0.0755841034128621,0.07603643845973972,0.07650870557660193,0.07700038844058782,0.07751094812492229,0.0780398238109007,0.0785864335295605,0.07915017493239634,0.07973042609043955,0.08032654632097835,0.08093787704115431,0.08156374264763112,0.08220345142148051,0.08285629645739305,0.08352155661627371,0.08419849750023671,0.08488637244897417,0.08558442355641568,0.08629188270656651,0.08700797262734979,0.08773190796125031,0.08846289635149471,0.08920013954247434,0.08994283449306115,0.09069017450143348,0.09144135033997802,0.09219555139880074,0.09295196683633813,0.09370978673551351,0.09446820326386315,0.0952264118360072,0.09598361227681194,0.09673900998356669,0.09749181708545791,0.09824125359860364,0.09898654857489157,0.0997269412428354,0.10046168213864981,0.10119003422573075,0.1019112740007145,0.10262469258428203,0.10332959679486554,0.10402531020342246,0.10471117416742722,0.10538654884226119,0.10605081416816302,0.10670337083093989,0.10734364119464083,0.10797107020442286,0.10858512625786026,0.10918530204298627,0.10977111534137832,0.11034210979464294,0.11089785563269638,0.11143795036228343,0.1119620194142248,0.11246971674793768,0.112960725411834,0.11343475805825934,0.11389155741170412,0.11433089668908257,0.1147525799709569,0.11515644252264609,0.11554235106425499,0.11591020398872824,0.11625993152712452,0.11659149586039863,0.11690489117706748,0.11720014367622328,0.11747731151546803,0.11773648470343008,0.11797778493662885,0.11820136538055452,0.1184074103949354,0.11859613520326868,0.11876778550679803,0.11892263704322797,0.11906099509057283,0.11918319391664599,0.11928959617480397,0.11938059224666711,0.11945659953264783,0.11951806169122314,0.11956544782799582,0.11959925163568925,0.11961999048633531,0.11962820447700277,0.11962445543052425,0.11960932585277678,0.11958341784815914,0.1195473519950133,0.1195017661828189,0.11944731441308441,0.11938466556593358,0.11931450213447153,0.11923751892910252,0.11915442175401543,0.1190659260581583,0.11897275556305718,0.11887564086991169,0.11877531804845562,0.11867252721010972,0.11856801106801469,0.11846251348655908,0.11835677802306921,0.11825154646434224,0.11814755736074145,0.11804554456058212,0.11794623574756724,0.11785035098401736,0.11775860126266526,0.11767168706977214,0.11759029696231109,0.11751510616196169,0.11744677516862718,0.11738594839617364,0.11733325283304245,0.11728929673037664,0.1172546683202295,0.11722993456640414,0.11721563995039792,0.11721230529488656,0.1172204266271056,0.1172404740844216,0.1172728908643178,0.11731809222093549,0.11737646451022757,0.11744836428570038,0.1175341174466215,0.11763401844047526,0.11774832952135446,0.11787728006586264,0.11802106594799938,0.1181798489743932,0.11835375638112322,0.1185428803932576,0.11874727784812494,0.11896696988319584,0.1192019416893399,0.11945214233009392,0.11971748462744201,0.11999784511449108,0.12029306405527655,0.12060294553182042,0.12092725759841423,0.12126573250297615,0.12161806697519675,0.12198392258104998,0.12236292614312216,0.12275467022606779,0.12315871368638764,0.12357458228557795,0.12400176936557702,0.1244397365853233,0.12488791471709194,0.12534570450117646,0.1258124775573499,0.12628757735143728,0.12677032021520293,0.12725999641766966,0.12775587128585464,0.12825718637283637,0.12876316067094437,0.12927299186779004,0.1297858576427591,0.13030091700150942,0.13081731164593763,0.13133416737701273,0.13185059552779205,0.13236569442390342,0.13287855086868505,0.13338824165016572,0.1338938350669859,0.13439439247035792,0.13488896981910928,0.13537661924484093,0.13585639062420446,0.1363273331553118,0.13678849693525563,0.13723893453574562,0.13767770257386472,0.13810386327496227,0.13851648602472297,0.13891464890748426,0.13929744022789967,0.13966396001309167,0.14001332149248238,0.14034465255254494,0.14065709716377187,0.14094981677722604,0.14122199168811045,0.14147282236386086,0.14170153073435734,0.14190736144192928,0.14208958304891578,0.14224748920065522,0.14238039974185662,0.14248766178442257,0.14256865072490665,0.14262277120988065,0.14264945804762208,0.1426481770646444,0.14261842590570412,0.14255973477606254,0.1424716671248834,0.1423538202687965,0.1422058259547726,0.14202735086158577,0.1418180970392918,0.14157780228624517,0.14130624046335533,0.141003221745376,0.14066859280917826,0.14030223695908292,0.13990407418945233,0.13947406118487982,0.13901219125843908,0.13851849422858198,0.13799303623538958,0.13743591949702252,0.13684728200730645,0.13622729717552773,0.13557617340961373,0.13489415364398344,0.13418151481345444,0.13343856727470566,0.1326656541768653,0.13186315078291608,0.1310314637436714,0.13017103032616997,0.12928231759840983,0.1283658215724121,0.12742206630767589,0.12645160297714117,0.1254550088978334,0.12443288652841294,0.1233858624358962,0.12231458623385441,0.1212197294944197],\"yaxis\":\"y\",\"type\":\"scatter\"},{\"legendgroup\":\"under 2.5\",\"marker\":{\"color\":\"#ffa600\"},\"mode\":\"lines\",\"name\":\"under 2.5\",\"showlegend\":false,\"x\":[11.3,11.317400000000001,11.334800000000001,11.3522,11.3696,11.387,11.4044,11.421800000000001,11.439200000000001,11.4566,11.474,11.4914,11.5088,11.526200000000001,11.543600000000001,11.561,11.5784,11.5958,11.6132,11.630600000000001,11.648000000000001,11.6654,11.6828,11.7002,11.717600000000001,11.735000000000001,11.752400000000002,11.7698,11.7872,11.8046,11.822000000000001,11.839400000000001,11.8568,11.8742,11.8916,11.909,11.926400000000001,11.943800000000001,11.9612,11.9786,11.996,12.0134,12.030800000000001,12.048200000000001,12.0656,12.083,12.1004,12.1178,12.135200000000001,12.152600000000001,12.17,12.1874,12.2048,12.2222,12.239600000000001,12.257000000000001,12.2744,12.2918,12.3092,12.326600000000001,12.344000000000001,12.3614,12.3788,12.3962,12.4136,12.431000000000001,12.448400000000001,12.465800000000002,12.4832,12.5006,12.518,12.535400000000001,12.552800000000001,12.5702,12.5876,12.605,12.6224,12.639800000000001,12.6572,12.6746,12.692,12.7094,12.7268,12.744200000000001,12.761600000000001,12.779,12.7964,12.8138,12.8312,12.848600000000001,12.866,12.8834,12.9008,12.9182,12.9356,12.953000000000001,12.970400000000001,12.9878,13.0052,13.0226,13.040000000000001,13.057400000000001,13.0748,13.0922,13.1096,13.127,13.144400000000001,13.161800000000001,13.1792,13.1966,13.214,13.2314,13.248800000000001,13.266200000000001,13.2836,13.301,13.3184,13.3358,13.353200000000001,13.3706,13.388000000000002,13.4054,13.4228,13.4402,13.457600000000001,13.475000000000001,13.4924,13.5098,13.5272,13.5446,13.562000000000001,13.5794,13.5968,13.6142,13.6316,13.649000000000001,13.6664,13.683800000000002,13.7012,13.7186,13.736,13.753400000000001,13.770800000000001,13.7882,13.8056,13.823,13.8404,13.857800000000001,13.8752,13.892600000000002,13.91,13.9274,13.9448,13.962200000000001,13.979600000000001,13.997,14.0144,14.0318,14.0492,14.066600000000001,14.084,14.1014,14.1188,14.1362,14.1536,14.171,14.188400000000001,14.2058,14.2232,14.2406,14.258000000000001,14.275400000000001,14.2928,14.3102,14.3276,14.345,14.362400000000001,14.3798,14.397200000000002,14.4146,14.432,14.4494,14.466800000000001,14.484200000000001,14.5016,14.519,14.5364,14.5538,14.571200000000001,14.5886,14.606,14.6234,14.6408,14.6582,14.675600000000001,14.693,14.7104,14.7278,14.7452,14.7626,14.780000000000001,14.7974,14.8148,14.8322,14.8496,14.867,14.8844,14.901800000000001,14.9192,14.9366,14.954,14.971400000000001,14.988800000000001,15.0062,15.0236,15.041,15.0584,15.075800000000001,15.0932,15.110600000000002,15.128,15.1454,15.1628,15.180200000000001,15.1976,15.215,15.2324,15.2498,15.2672,15.284600000000001,15.302,15.3194,15.3368,15.3542,15.3716,15.389,15.406400000000001,15.4238,15.4412,15.4586,15.476,15.493400000000001,15.5108,15.528200000000002,15.5456,15.563,15.580400000000001,15.5978,15.615200000000002,15.6326,15.65,15.6674,15.6848,15.702200000000001,15.7196,15.737000000000002,15.7544,15.771799999999999,15.789200000000001,15.8066,15.824000000000002,15.8414,15.858799999999999,15.8762,15.8936,15.911000000000001,15.9284,15.9458,15.9632,15.980599999999999,15.998000000000001,16.0154,16.0328,16.0502,16.0676,16.085,16.1024,16.119799999999998,16.1372,16.154600000000002,16.172,16.1894,16.2068,16.2242,16.2416,16.259,16.276400000000002,16.2938,16.3112,16.3286,16.346,16.3634,16.3808,16.3982,16.4156,16.433,16.450400000000002,16.4678,16.4852,16.5026,16.52,16.5374,16.5548,16.572200000000002,16.5896,16.607,16.6244,16.6418,16.6592,16.6766,16.694000000000003,16.7114,16.7288,16.7462,16.7636,16.781,16.7984,16.8158,16.8332,16.8506,16.868000000000002,16.8854,16.9028,16.9202,16.9376,16.955,16.9724,16.9898,17.0072,17.0246,17.042,17.0594,17.0768,17.0942,17.1116,17.128999999999998,17.1464,17.163800000000002,17.1812,17.1986,17.216,17.2334,17.250799999999998,17.2682,17.285600000000002,17.303,17.3204,17.3378,17.3552,17.3726,17.39,17.4074,17.4248,17.4422,17.459600000000002,17.477,17.4944,17.5118,17.5292,17.546599999999998,17.564,17.581400000000002,17.5988,17.6162,17.6336,17.651,17.6684,17.6858,17.703200000000002,17.7206,17.738,17.7554,17.7728,17.7902,17.8076,17.825,17.8424,17.8598,17.877200000000002,17.8946,17.912,17.9294,17.9468,17.9642,17.9816,17.999,18.0164,18.0338,18.0512,18.0686,18.086,18.1034,18.1208,18.1382,18.1556,18.173000000000002,18.1904,18.2078,18.2252,18.2426,18.259999999999998,18.2774,18.294800000000002,18.3122,18.3296,18.347,18.3644,18.3818,18.3992,18.4166,18.434,18.4514,18.4688,18.4862,18.5036,18.521,18.5384,18.555799999999998,18.5732,18.590600000000002,18.608,18.6254,18.6428,18.6602,18.677599999999998,18.695,18.712400000000002,18.7298,18.7472,18.7646,18.782,18.7994,18.8168,18.834200000000003,18.8516,18.869,18.886400000000002,18.9038,18.9212,18.9386,18.956,18.9734,18.9908,19.008200000000002,19.0256,19.043,19.0604,19.0778,19.0952,19.1126,19.13,19.1474,19.1648,19.1822,19.1996,19.217,19.2344,19.2518,19.269199999999998,19.2866,19.304000000000002,19.3214,19.3388,19.3562,19.3736,19.391,19.4084,19.425800000000002,19.443199999999997,19.4606,19.478,19.4954,19.5128,19.5302,19.5476,19.565,19.5824,19.599800000000002,19.6172,19.6346,19.652,19.6694,19.686799999999998,19.7042,19.7216,19.739,19.7564,19.7738,19.7912,19.8086,19.826,19.843400000000003,19.860799999999998,19.8782,19.8956,19.913,19.9304,19.9478,19.9652,19.982599999999998],\"xaxis\":\"x\",\"y\":[0.033506305791881255,0.03364552095212294,0.03378070520600429,0.03391205528403895,0.03403978056694508,0.03416410296808972,0.03428525679216491,0.03440348856996796,0.034519056869206616,0.034632232081286206,0.03474329618408205,0.034852542480740455,0.034960275314596334,0.03506680976033714,0.035172471291587834,0.0352775954251317,0.035382527342031476,0.03548762148594927,0.035593241139016074,0.03569975797563843,0.035807551594675836,0.03591700903046091,0.03602852424318233,0.036142497589184565,0.03625933527178576,0.03637944877325054,0.036503254268597164,0.036631172021956634,0.03676362576623658,0.03690104206688586,0.0370438496705859,0.03719247883973333,0.037347360673615375,0.03750892641720446,0.037677606758542016,0.037853831115702376,0.03803802691436463,0.03823061885704401,0.03843202818506613,0.03864267193438892,0.03886296218640556,0.03909330531488168,0.03933410123020535,0.039585742622143726,0.03984861420232314,0.040123091947664946,0.040409542346021794,0.04070832164527825,0.04101977510718587,0.04134423626721606,0.04168202620172074,0.04203345280369852,0.042398810068465465,0.042778377390536124,0.043172418873016184,0.043581182650810936,0.04400490022894403,0.0444437858372835,0.044898035802953914,0.045367827941711555,0.04585332096954239,0.04635465393572878,0.046871945678615384,0.047405294305281544,0.04795477669630981,0.04852044803681475,0.04910234137486796,0.04970046720842654,0.050314813101847364,0.05094534333302401,0.05159199857215756,0.052254695593130694,0.05293332701841033,0.05362776109836633,0.054337841525843505,0.0550633872867814,0.05580419254761872,0.056560026580174005,0.0573306337246383,0.058115733391251895,0.05891502010118933,0.0597281635671054,0.06055480881374048,0.06139457633891214,0.0622470623151578,0.06311183883222352,0.06398845418052133,0.06487643317561398,0.06577527752370173,0.06668446622802264,0.06760345603599818,0.06853168192687711,0.06946855763955798,0.07041347624019399,0.0713658107291,0.07232491468640893,0.0732901229558426,0.07426075236588699,0.07523610248757827,0.07621545642803404,0.07719808165878184,0.07818323087786233,0.07917014290461075,0.0801580436059401,0.08114614685288296,0.08213365550607273,0.08311976242877593,0.08410365152602074,0.08508449880829902,0.08606147347825868,0.08703373903873801,0.08800045442044033,0.0889607751274874,0.08991385439904317,0.09085884438514472,0.09179489733483881,0.09272116679467426,0.09363680881556562,0.09454098316601273,0.09543285454962522,0.09631159382487887,0.09717637922500917,0.09802639757593144,0.09886084551006205,0.09967893067391162,0.10047987292731396,0.10126290553216227,0.10202727632852204,0.10277224889601175,0.10349710369835469,0.10420113920901847,0.10488367301590515,0.10554404290306006,0.10618160790742782,0.10679574934870585,0.1073858718303999,0.10795140421023605,0.10849180053813427,0.10900654096000549,0.10949513258570735,0.10995711031954095,0.11039203765176621,0.11079950740966413,0.11117914246676543,0.11153059640894745,0.11185355415616967,0.11214773253872937,0.11241288082698261,0.11264878121358998,0.11285524924741965,0.11303213421836047,0.1131793194923671,0.11329672279618612,0.11338429645128636,0.11344202755663892,0.11346993812007752,0.11346808513807827,0.11343656062390152,0.11337549158413145,0.11328503994375445,0.1131654024200182,0.11301681034540481,0.11283952944015538,0.1126338595348703,0.11240013424381017,0.11213872058960757,0.11185001858018627,0.11153446073878066,0.11119251158800972,0.11082466708906508,0.1104314540371257,0.11001342941419615,0.10957117970063147,0.10910532014667593,0.10861649400540216,0.10810537172849412,0.10757265012637475,0.1070190514942165,0.10644532270542756,0.10585223427423843,0.1052405793890521,0.10461117291824626,0.10396485039015017,0.10330246694892732,0.1026248962881249,0.10193302956365372,0.10122777428797332,0.10051005320726161,0.09978080316334098,0.09904097394214471,0.09829152711047026,0.09753343484278441,0.0967676787398084,0.09599524864059372,0.09521714142978682,0.09443435984173872,0.09364791126310082,0.09285880653550448,0.09206805875989248,0.09127668210403386,0.0904856906147101,0.08969609703602259,0.08890891163522692,0.0881251410374552,0.08734578707064196,0.08657184562191965,0.08580430550670867,0.0850441473516693,0.0842923424926435,0.08354985188865847,0.08281762505302227,0.0820965990024841,0.0813876972253955,0.08069182866975116,0.08000988675194838,0.07934274838705704,0.07869127304134564,0.07805630180777225,0.07743865650509899,0.07683913880125805,0.07625852936155592,0.07569758702226136,0.0751570479900996,0.07463762506813239,0.07414000690847819,0.07366485729229957,0.07321281443745714,0.0727844903342042,0.07238047010927809,0.07200131141872136,0.07164754386974845,0.07131966847195947,0.07101815711818799,0.07074345209525658,0.0704959656249038,0.07027607943514175,0.07008414436228803,0.06992047998391886,0.06978537428297968,0.0696790833432892,0.06960183107666848,0.06955380898192728,0.06953517593593729,0.06954605801702106,0.06958654836088615,0.0696567070493357,0.06975656103197993,0.06988610408118118,0.07004529678045665,0.07023406654656539,0.07045230768550449,0.07069988148262803,0.07097661632711019,0.07128230787095681,0.07161671922276538,0.0719795811764257,0.07237059247494154,0.07278942010953769,0.07323569965420101,0.07370903563579345,0.07420900193984266,0.07473514225210358,0.07528697053595211,0.07586397154564999,0.0764656013754789,0.07709128804472139,0.07774043211841959,0.07841240736380534,0.07910656144225772,0.07982221663659213,0.0805586706134416,0.08131519722044189,0.08209104731787024,0.08288544964434161,0.08369761171610517,0.08452672075941445,0.08537194467539493,0.08623243303675704,0.08710731811564278,0.08799571594181436,0.08889672739033903,0.08980943929783573,0.09073292560628458,0.0916662485333257,0.09260845976789775,0.09355860168998882,0.09451570861319865,0.09547880804873807,0.09644692198941043,0.09741906821204994,0.09839426159681253,0.0993715154616512,0.10034984291022361,0.10132825819142006,0.10230577806863196,0.10328142319680449,0.10425421950527036,0.10522319958428726,0.10618740407315706,0.1071458830477382,0.10809769740512466,0.10904192024321667,0.1099776382328527,0.1109039529801692,0.11181998237677009,0.11272486193532039,0.11361774610810277,0.11449780958609379,0.11536424857608935,0.11621628205340662,0.11705315298768572,0.1178741295393297,0.11867850622412292,0.11946560504358686,0.12023477657866406,0.12098540104434766,0.12171688930289651,0.12242868383335004,0.1231202596550714,0.12379112520312685,0.12444082315336284,0.12506893119510504,0.12567506274949314,0.12625886763152191,0.12682003265397052,0.12735828217147432,0.12787337856309727,0.12836512265186997,0.12883335405986254,0.12927795149746737,0.12969883298569934,0.13009595601043186,0.1304693176076152,0.13081895437865998,0.13114494243529062,0.13144739727333,0.13172647357499623,0.13198236493944854,0.13221530354146577,0.1324255597182785,0.13261344148473433,0.1327792939771288,0.1329234988261715,0.13304647345972945,0.1331486703361232,0.13323057610892033,0.13329271072431065,0.13333562645230218,0.13335990685313023,0.13336616568041498,0.13335504572274973,0.1333272175855503,0.1332833784151244,0.1332242505670761,0.1331505802212753,0.13306313594575916,0.13296270721206868,0.1328501028646238,0.13272614954687437,0.13259169008706426,0.1324475818465592,0.13229469503378216,0.13213391098689395,0.13196612042845027,0.1317922216953383,0.13161311894737418,0.131429720358007,0.1312429362906398,0.13105367746412028,0.1308628531110041,0.13067136913223518,0.13048012625189928,0.13029001817575092,0.13010192975720114,0.12991673517448235,0.12973529612268422,0.12955846002434693,0.12938705826228927,0.1292219044383027,0.12906379266131623,0.12891349586859627,0.12877176418347688,0.12863932331307354,0.1285168729893487,0.1284050854568347,0.12830460401021995,0.12821604158492886,0.1281399794037135,0.12807696568217863,0.12802751439603846,0.12799210411279546,0.12797117689039503,0.12796513724528596,0.1279743511921695,0.1279991453575861,0.12803980616933144,0.12809657912354314,0.12816966813114428,0.12825923494515518,0.1283653986702378,0.12848823535564194,0.12862777767257563,0.12878401467682224,0.1289568916572614,0.12914631007077143,0.1293521275637979,0.1295741580807013,0.1298121720588036,0.1300658967098768,0.13033501638762562,0.1306191730405369,0.1309179667492837,0.13123095634768947,0.1315576601260844,0.13189755661569635,0.13225008545255904,0.13261464831923506,0.1329906099624926,0.1333772992849068,0.13377401050819318,0.13418000440593353,0.13459450960319871,0.13501672394042405,0.1354458158987672,0.135880926084032,0.13632116876611922,0.13676563347085352,0.13721338662090762,0.137663473222457,0.13811491859408806,0.1385667301343947,0.13901789912462706,0.1394674025626677,0.13991420502455315,0.1403572605497103,0.14079551454601283,0.14122790571074093,0.14165336796348432,0.1420708323870247,0.14247922917220338,0.1428774895627972,0.14326454779642095,0.1436393430374925,0.14400082129833408,0.14434793734449802,0.14467965658047469,0.1449949569119686,0.14529283058101014,0.14557228597022812,0.1458323493727007,0.14607206672386588,0.14629050529210738,0.14648675532468497,0.14665993164583993,0.14680917520398098,0.14693365456501234,0.14703256734897874,0.14710514160734742,0.14715063713838952,0.14716834673827114,0.1471575973856209,0.14711775135749636,0.14704820727484094,0.14694840107567825,0.14681780691447793,0.14665593798628582,0.14646234727439067,0.14623662822048608,0.14597841531645334,0.14568738461707856,0.14536325417319612,0.1450057843849346,0.14461477827491645,0.14419008168144798,0.14373158337191197,0.14323921507675094,0.1427129514446116,0.14215280991937743,0.14155885054000186,0.14093117566421015,0.14026992961729884,0.13957529826742826,0.13884750852893676,0.13808682779537731,0.13729356330409845,0.13646806143433202,0.13561070694089164,0.13472192212568665,0.1338021659493998,0.13285193308575896,0.13187175292095796,0.1308621885008641,0.12982383542874076,0.1287573207162899,0.12766330159090422,0.1265424642620584,0.1253955226498467,0.12422321707871788,0.12302631293947976,0.12180559932270435],\"yaxis\":\"y\",\"type\":\"scatter\"}],                        {\"barmode\":\"overlay\",\"hovermode\":\"closest\",\"legend\":{\"traceorder\":\"reversed\"},\"xaxis\":{\"anchor\":\"y2\",\"domain\":[0.0,1.0],\"zeroline\":false,\"range\":[0,24]},\"yaxis\":{\"anchor\":\"free\",\"domain\":[0.0,1],\"position\":0.0},\"template\":{\"data\":{\"bar\":[{\"error_x\":{\"color\":\"#2a3f5f\"},\"error_y\":{\"color\":\"#2a3f5f\"},\"marker\":{\"line\":{\"color\":\"#E5ECF6\",\"width\":0.5},\"pattern\":{\"fillmode\":\"overlay\",\"size\":10,\"solidity\":0.2}},\"type\":\"bar\"}],\"barpolar\":[{\"marker\":{\"line\":{\"color\":\"#E5ECF6\",\"width\":0.5},\"pattern\":{\"fillmode\":\"overlay\",\"size\":10,\"solidity\":0.2}},\"type\":\"barpolar\"}],\"carpet\":[{\"aaxis\":{\"endlinecolor\":\"#2a3f5f\",\"gridcolor\":\"white\",\"linecolor\":\"white\",\"minorgridcolor\":\"white\",\"startlinecolor\":\"#2a3f5f\"},\"baxis\":{\"endlinecolor\":\"#2a3f5f\",\"gridcolor\":\"white\",\"linecolor\":\"white\",\"minorgridcolor\":\"white\",\"startlinecolor\":\"#2a3f5f\"},\"type\":\"carpet\"}],\"choropleth\":[{\"colorbar\":{\"outlinewidth\":0,\"ticks\":\"\"},\"type\":\"choropleth\"}],\"contour\":[{\"colorbar\":{\"outlinewidth\":0,\"ticks\":\"\"},\"colorscale\":[[0.0,\"#0d0887\"],[0.1111111111111111,\"#46039f\"],[0.2222222222222222,\"#7201a8\"],[0.3333333333333333,\"#9c179e\"],[0.4444444444444444,\"#bd3786\"],[0.5555555555555556,\"#d8576b\"],[0.6666666666666666,\"#ed7953\"],[0.7777777777777778,\"#fb9f3a\"],[0.8888888888888888,\"#fdca26\"],[1.0,\"#f0f921\"]],\"type\":\"contour\"}],\"contourcarpet\":[{\"colorbar\":{\"outlinewidth\":0,\"ticks\":\"\"},\"type\":\"contourcarpet\"}],\"heatmap\":[{\"colorbar\":{\"outlinewidth\":0,\"ticks\":\"\"},\"colorscale\":[[0.0,\"#0d0887\"],[0.1111111111111111,\"#46039f\"],[0.2222222222222222,\"#7201a8\"],[0.3333333333333333,\"#9c179e\"],[0.4444444444444444,\"#bd3786\"],[0.5555555555555556,\"#d8576b\"],[0.6666666666666666,\"#ed7953\"],[0.7777777777777778,\"#fb9f3a\"],[0.8888888888888888,\"#fdca26\"],[1.0,\"#f0f921\"]],\"type\":\"heatmap\"}],\"heatmapgl\":[{\"colorbar\":{\"outlinewidth\":0,\"ticks\":\"\"},\"colorscale\":[[0.0,\"#0d0887\"],[0.1111111111111111,\"#46039f\"],[0.2222222222222222,\"#7201a8\"],[0.3333333333333333,\"#9c179e\"],[0.4444444444444444,\"#bd3786\"],[0.5555555555555556,\"#d8576b\"],[0.6666666666666666,\"#ed7953\"],[0.7777777777777778,\"#fb9f3a\"],[0.8888888888888888,\"#fdca26\"],[1.0,\"#f0f921\"]],\"type\":\"heatmapgl\"}],\"histogram\":[{\"marker\":{\"pattern\":{\"fillmode\":\"overlay\",\"size\":10,\"solidity\":0.2}},\"type\":\"histogram\"}],\"histogram2d\":[{\"colorbar\":{\"outlinewidth\":0,\"ticks\":\"\"},\"colorscale\":[[0.0,\"#0d0887\"],[0.1111111111111111,\"#46039f\"],[0.2222222222222222,\"#7201a8\"],[0.3333333333333333,\"#9c179e\"],[0.4444444444444444,\"#bd3786\"],[0.5555555555555556,\"#d8576b\"],[0.6666666666666666,\"#ed7953\"],[0.7777777777777778,\"#fb9f3a\"],[0.8888888888888888,\"#fdca26\"],[1.0,\"#f0f921\"]],\"type\":\"histogram2d\"}],\"histogram2dcontour\":[{\"colorbar\":{\"outlinewidth\":0,\"ticks\":\"\"},\"colorscale\":[[0.0,\"#0d0887\"],[0.1111111111111111,\"#46039f\"],[0.2222222222222222,\"#7201a8\"],[0.3333333333333333,\"#9c179e\"],[0.4444444444444444,\"#bd3786\"],[0.5555555555555556,\"#d8576b\"],[0.6666666666666666,\"#ed7953\"],[0.7777777777777778,\"#fb9f3a\"],[0.8888888888888888,\"#fdca26\"],[1.0,\"#f0f921\"]],\"type\":\"histogram2dcontour\"}],\"mesh3d\":[{\"colorbar\":{\"outlinewidth\":0,\"ticks\":\"\"},\"type\":\"mesh3d\"}],\"parcoords\":[{\"line\":{\"colorbar\":{\"outlinewidth\":0,\"ticks\":\"\"}},\"type\":\"parcoords\"}],\"pie\":[{\"automargin\":true,\"type\":\"pie\"}],\"scatter\":[{\"marker\":{\"colorbar\":{\"outlinewidth\":0,\"ticks\":\"\"}},\"type\":\"scatter\"}],\"scatter3d\":[{\"line\":{\"colorbar\":{\"outlinewidth\":0,\"ticks\":\"\"}},\"marker\":{\"colorbar\":{\"outlinewidth\":0,\"ticks\":\"\"}},\"type\":\"scatter3d\"}],\"scattercarpet\":[{\"marker\":{\"colorbar\":{\"outlinewidth\":0,\"ticks\":\"\"}},\"type\":\"scattercarpet\"}],\"scattergeo\":[{\"marker\":{\"colorbar\":{\"outlinewidth\":0,\"ticks\":\"\"}},\"type\":\"scattergeo\"}],\"scattergl\":[{\"marker\":{\"colorbar\":{\"outlinewidth\":0,\"ticks\":\"\"}},\"type\":\"scattergl\"}],\"scattermapbox\":[{\"marker\":{\"colorbar\":{\"outlinewidth\":0,\"ticks\":\"\"}},\"type\":\"scattermapbox\"}],\"scatterpolar\":[{\"marker\":{\"colorbar\":{\"outlinewidth\":0,\"ticks\":\"\"}},\"type\":\"scatterpolar\"}],\"scatterpolargl\":[{\"marker\":{\"colorbar\":{\"outlinewidth\":0,\"ticks\":\"\"}},\"type\":\"scatterpolargl\"}],\"scatterternary\":[{\"marker\":{\"colorbar\":{\"outlinewidth\":0,\"ticks\":\"\"}},\"type\":\"scatterternary\"}],\"surface\":[{\"colorbar\":{\"outlinewidth\":0,\"ticks\":\"\"},\"colorscale\":[[0.0,\"#0d0887\"],[0.1111111111111111,\"#46039f\"],[0.2222222222222222,\"#7201a8\"],[0.3333333333333333,\"#9c179e\"],[0.4444444444444444,\"#bd3786\"],[0.5555555555555556,\"#d8576b\"],[0.6666666666666666,\"#ed7953\"],[0.7777777777777778,\"#fb9f3a\"],[0.8888888888888888,\"#fdca26\"],[1.0,\"#f0f921\"]],\"type\":\"surface\"}],\"table\":[{\"cells\":{\"fill\":{\"color\":\"#EBF0F8\"},\"line\":{\"color\":\"white\"}},\"header\":{\"fill\":{\"color\":\"#C8D4E3\"},\"line\":{\"color\":\"white\"}},\"type\":\"table\"}]},\"layout\":{\"annotationdefaults\":{\"arrowcolor\":\"#2a3f5f\",\"arrowhead\":0,\"arrowwidth\":1},\"autotypenumbers\":\"strict\",\"coloraxis\":{\"colorbar\":{\"outlinewidth\":0,\"ticks\":\"\"}},\"colorscale\":{\"diverging\":[[0,\"#8e0152\"],[0.1,\"#c51b7d\"],[0.2,\"#de77ae\"],[0.3,\"#f1b6da\"],[0.4,\"#fde0ef\"],[0.5,\"#f7f7f7\"],[0.6,\"#e6f5d0\"],[0.7,\"#b8e186\"],[0.8,\"#7fbc41\"],[0.9,\"#4d9221\"],[1,\"#276419\"]],\"sequential\":[[0.0,\"#0d0887\"],[0.1111111111111111,\"#46039f\"],[0.2222222222222222,\"#7201a8\"],[0.3333333333333333,\"#9c179e\"],[0.4444444444444444,\"#bd3786\"],[0.5555555555555556,\"#d8576b\"],[0.6666666666666666,\"#ed7953\"],[0.7777777777777778,\"#fb9f3a\"],[0.8888888888888888,\"#fdca26\"],[1.0,\"#f0f921\"]],\"sequentialminus\":[[0.0,\"#0d0887\"],[0.1111111111111111,\"#46039f\"],[0.2222222222222222,\"#7201a8\"],[0.3333333333333333,\"#9c179e\"],[0.4444444444444444,\"#bd3786\"],[0.5555555555555556,\"#d8576b\"],[0.6666666666666666,\"#ed7953\"],[0.7777777777777778,\"#fb9f3a\"],[0.8888888888888888,\"#fdca26\"],[1.0,\"#f0f921\"]]},\"colorway\":[\"#636efa\",\"#EF553B\",\"#00cc96\",\"#ab63fa\",\"#FFA15A\",\"#19d3f3\",\"#FF6692\",\"#B6E880\",\"#FF97FF\",\"#FECB52\"],\"font\":{\"color\":\"#2a3f5f\"},\"geo\":{\"bgcolor\":\"white\",\"lakecolor\":\"white\",\"landcolor\":\"#E5ECF6\",\"showlakes\":true,\"showland\":true,\"subunitcolor\":\"white\"},\"hoverlabel\":{\"align\":\"left\"},\"hovermode\":\"closest\",\"mapbox\":{\"style\":\"light\"},\"paper_bgcolor\":\"white\",\"plot_bgcolor\":\"#E5ECF6\",\"polar\":{\"angularaxis\":{\"gridcolor\":\"white\",\"linecolor\":\"white\",\"ticks\":\"\"},\"bgcolor\":\"#E5ECF6\",\"radialaxis\":{\"gridcolor\":\"white\",\"linecolor\":\"white\",\"ticks\":\"\"}},\"scene\":{\"xaxis\":{\"backgroundcolor\":\"#E5ECF6\",\"gridcolor\":\"white\",\"gridwidth\":2,\"linecolor\":\"white\",\"showbackground\":true,\"ticks\":\"\",\"zerolinecolor\":\"white\"},\"yaxis\":{\"backgroundcolor\":\"#E5ECF6\",\"gridcolor\":\"white\",\"gridwidth\":2,\"linecolor\":\"white\",\"showbackground\":true,\"ticks\":\"\",\"zerolinecolor\":\"white\"},\"zaxis\":{\"backgroundcolor\":\"#E5ECF6\",\"gridcolor\":\"white\",\"gridwidth\":2,\"linecolor\":\"white\",\"showbackground\":true,\"ticks\":\"\",\"zerolinecolor\":\"white\"}},\"shapedefaults\":{\"line\":{\"color\":\"#2a3f5f\"}},\"ternary\":{\"aaxis\":{\"gridcolor\":\"white\",\"linecolor\":\"white\",\"ticks\":\"\"},\"baxis\":{\"gridcolor\":\"white\",\"linecolor\":\"white\",\"ticks\":\"\"},\"bgcolor\":\"#E5ECF6\",\"caxis\":{\"gridcolor\":\"white\",\"linecolor\":\"white\",\"ticks\":\"\"}},\"title\":{\"x\":0.05},\"xaxis\":{\"automargin\":true,\"gridcolor\":\"white\",\"linecolor\":\"white\",\"ticks\":\"\",\"title\":{\"standoff\":15},\"zerolinecolor\":\"white\",\"zerolinewidth\":2},\"yaxis\":{\"automargin\":true,\"gridcolor\":\"white\",\"linecolor\":\"white\",\"ticks\":\"\",\"title\":{\"standoff\":15},\"zerolinecolor\":\"white\",\"zerolinewidth\":2}}},\"title\":{\"text\":\"Distplot with Normal Distribution : navgGoalHome\"}},                        {\"responsive\": true}                    ).then(function(){\n",
              "                            \n",
              "var gd = document.getElementById('9218295e-78be-45fa-a85c-0d9f421a8262');\n",
              "var x = new MutationObserver(function (mutations, observer) {{\n",
              "        var display = window.getComputedStyle(gd).display;\n",
              "        if (!display || display === 'none') {{\n",
              "            console.log([gd, 'removed!']);\n",
              "            Plotly.purge(gd);\n",
              "            observer.disconnect();\n",
              "        }}\n",
              "}});\n",
              "\n",
              "// Listen for the removal of the full notebook cells\n",
              "var notebookContainer = gd.closest('#notebook-container');\n",
              "if (notebookContainer) {{\n",
              "    x.observe(notebookContainer, {childList: true});\n",
              "}}\n",
              "\n",
              "// Listen for the clearing of the current output cell\n",
              "var outputEl = gd.closest('.output');\n",
              "if (outputEl) {{\n",
              "    x.observe(outputEl, {childList: true});\n",
              "}}\n",
              "\n",
              "                        })                };                            </script>        </div>\n",
              "</body>\n",
              "</html>"
            ]
          },
          "metadata": {}
        }
      ]
    },
    {
      "cell_type": "code",
      "source": [
        "lis=[features.navgGoalHome[data['target']==1], features.navgGoalHome[data['target']==0]]\n",
        "group_labels=['over 2.5','under 2.5']\n",
        "colors = ['#003f5c', '#ffa600']\n",
        "# Create distplot \n",
        "fig = ff.create_distplot(lis, group_labels, bin_size=20,show_rug=False,\n",
        "                         curve_type='kde', # override default 'kde'\n",
        "                         colors=colors)\n",
        "\n",
        "# Add title\n",
        "fig.update_layout(xaxis_range=[0,5])\n",
        "fig.update_layout(title_text='Distplot with Normal Distribution : navgGoalHome')\n",
        "fig.show()"
      ],
      "metadata": {
        "colab": {
          "base_uri": "https://localhost:8080/",
          "height": 542
        },
        "id": "vOWEUesYJBqV",
        "outputId": "4a3595a0-37e1-4660-fa1b-53060b7feb8f"
      },
      "execution_count": 529,
      "outputs": [
        {
          "output_type": "display_data",
          "data": {
            "text/html": [
              "<html>\n",
              "<head><meta charset=\"utf-8\" /></head>\n",
              "<body>\n",
              "    <div>            <script src=\"https://cdnjs.cloudflare.com/ajax/libs/mathjax/2.7.5/MathJax.js?config=TeX-AMS-MML_SVG\"></script><script type=\"text/javascript\">if (window.MathJax) {MathJax.Hub.Config({SVG: {font: \"STIX-Web\"}});}</script>                <script type=\"text/javascript\">window.PlotlyConfig = {MathJaxConfig: 'local'};</script>\n",
              "        <script src=\"https://cdn.plot.ly/plotly-2.8.3.min.js\"></script>                <div id=\"a0eb3794-6bb3-4a02-8416-8d100fac0f8f\" class=\"plotly-graph-div\" style=\"height:525px; width:100%;\"></div>            <script type=\"text/javascript\">                                    window.PLOTLYENV=window.PLOTLYENV || {};                                    if (document.getElementById(\"a0eb3794-6bb3-4a02-8416-8d100fac0f8f\")) {                    Plotly.newPlot(                        \"a0eb3794-6bb3-4a02-8416-8d100fac0f8f\",                        [{\"autobinx\":false,\"histnorm\":\"probability density\",\"legendgroup\":\"over 2.5\",\"marker\":{\"color\":\"#003f5c\"},\"name\":\"over 2.5\",\"opacity\":0.7,\"x\":[1.6,1.4,1.2,2.6,1.8,2.0,2.2,0.6,1.6,0.6,1.6,2.4,0.8,1.6,1.4,1.0,1.2,1.6,0.8,1.2,1.0,0.4,2.0,1.6,1.0,1.0,1.4,0.8,2.0,0.6,1.0,1.4,1.4,1.8,0.4,1.0,1.6,0.2,0.6,2.6,2.0,0.6,0.8,0.2,0.6,1.4,2.6,1.8,0.2,0.6,1.6,0.6,1.2,1.0,1.0,1.0,1.2,0.8,1.4,1.8,1.4,0.4,2.4,0.6,2.0,1.0,1.4,1.4,1.2,1.4,1.0,0.4,0.8,0.8,0.4,2.0,1.4,1.4,1.2,0.4,1.2,1.2,0.8,1.2,2.0,1.4,0.2,1.4,1.8,1.8,1.4,0.8,0.6,1.4,2.0,2.0,2.0,2.2,1.6,1.2,0.8,2.6,1.6,2.0,1.4,2.4,1.2,2.0,2.0,1.2,0.6,0.8,1.2,1.6,2.8,1.4,1.8,1.2,3.2,1.0,1.4,2.0,1.4,2.0,0.8,3.0,0.8,1.0,0.2,2.2,1.6,1.0,1.4,0.8,1.4,1.2,2.0,1.2,1.2,2.0,1.0,0.6,1.4,1.0,1.2,1.2,1.8,1.0,2.0,2.4,2.6,1.4,1.2,1.4,0.8,1.0,0.8,1.2,1.0,0.8,1.8,1.6,2.8,1.0,1.0,0.6,1.0,2.0,1.2,1.0,1.2,2.2,1.6,1.2,0.4,1.0,1.0,1.4,1.4,3.6],\"xaxis\":\"x\",\"xbins\":{\"end\":3.6,\"size\":20,\"start\":0.2},\"yaxis\":\"y\",\"type\":\"histogram\"},{\"autobinx\":false,\"histnorm\":\"probability density\",\"legendgroup\":\"under 2.5\",\"marker\":{\"color\":\"#ffa600\"},\"name\":\"under 2.5\",\"opacity\":0.7,\"x\":[0.8,2.0,0.8,1.6,1.2,2.4,2.0,2.2,1.4,2.4,0.8,1.6,0.4,0.6,0.8,0.6,1.8,1.6,1.4,2.2,0.8,0.4,0.4,1.6,2.0,1.2,1.2,0.6,0.6,1.0,0.8,1.2,2.2,1.2,1.2,0.8,2.0,1.0,0.8,1.4,1.8,2.4,1.0,0.8,1.2,0.4,0.8,1.8,1.0,1.8,1.4,1.8,1.8,1.4,2.0,2.0,0.6,1.0,1.8,1.0,2.4,0.4,2.2,2.2,0.4,1.6,3.0,1.6,0.6,2.0,2.0,1.8,2.0,0.8,1.8,1.4,2.2,0.4,3.0,1.6,1.0,2.2,2.2,1.8,2.2,0.4,1.8,1.2,0.8,0.6,2.0,1.0,2.0,0.6,1.4,1.6,2.6,1.4,2.2,1.2,1.2,0.8,1.2,2.0,1.4,1.4,1.4,2.0,1.2,1.4,1.0,1.4,1.6,1.2,1.8,1.6,1.6,2.8,2.4,1.6,2.2,0.8,1.0,1.8,0.8,1.2,2.8,1.4,2.8,2.2,1.8,0.8,1.8,1.8,2.8,0.8,1.8,1.4,1.0,1.8,1.4,0.6,1.6,0.6,2.8,2.4,1.2,1.0,1.4],\"xaxis\":\"x\",\"xbins\":{\"end\":3.0,\"size\":20,\"start\":0.4},\"yaxis\":\"y\",\"type\":\"histogram\"},{\"legendgroup\":\"over 2.5\",\"marker\":{\"color\":\"#003f5c\"},\"mode\":\"lines\",\"name\":\"over 2.5\",\"showlegend\":false,\"x\":[0.2,0.2068,0.2136,0.2204,0.2272,0.234,0.24080000000000001,0.24760000000000001,0.2544,0.2612,0.268,0.2748,0.2816,0.2884,0.2952,0.302,0.3088,0.3156,0.3224,0.3292,0.336,0.3428,0.3496,0.35640000000000005,0.36319999999999997,0.37,0.3768,0.3836,0.3904,0.3972,0.404,0.4108,0.41759999999999997,0.4244,0.4312,0.438,0.4448,0.4516,0.4584,0.4652,0.47200000000000003,0.4788,0.4856,0.4924,0.4992,0.506,0.5128,0.5196,0.5264,0.5332,0.54,0.5468,0.5536,0.5604,0.5671999999999999,0.5740000000000001,0.5808,0.5875999999999999,0.5944,0.6012,0.608,0.6148,0.6215999999999999,0.6284000000000001,0.6352,0.642,0.6488,0.6556,0.6624,0.6692,0.6759999999999999,0.6828000000000001,0.6896,0.6963999999999999,0.7032,0.71,0.7167999999999999,0.7236,0.7303999999999999,0.7371999999999999,0.744,0.7507999999999999,0.7576,0.7644,0.7711999999999999,0.778,0.7847999999999999,0.7916000000000001,0.7984,0.8051999999999999,0.812,0.8188,0.8256000000000001,0.8324,0.8392,0.8460000000000001,0.8528,0.8596000000000001,0.8664000000000001,0.8732,0.8800000000000001,0.8868,0.8936,0.9004000000000001,0.9072,0.9139999999999999,0.9208000000000001,0.9276,0.9343999999999999,0.9412,0.948,0.9547999999999999,0.9616,0.9683999999999999,0.9751999999999998,0.982,0.9887999999999999,0.9956,1.0024,1.0091999999999999,1.016,1.0228,1.0296,1.0364,1.0432,1.05,1.0568,1.0636,1.0704,1.0772,1.084,1.0908,1.0976000000000001,1.1044,1.1112,1.118,1.1248,1.1316,1.1384,1.1452,1.152,1.1588,1.1656,1.1723999999999999,1.1792,1.186,1.1927999999999999,1.1996,1.2064,1.2131999999999998,1.22,1.2268,1.2335999999999998,1.2403999999999997,1.2472,1.254,1.2608,1.2675999999999998,1.2743999999999998,1.2812,1.288,1.2948,1.3015999999999999,1.3083999999999998,1.3152,1.322,1.3288,1.3356,1.3423999999999998,1.3492,1.3559999999999999,1.3628,1.3696,1.3763999999999998,1.3832,1.39,1.3967999999999998,1.4036,1.4103999999999999,1.4172,1.424,1.4307999999999998,1.4375999999999998,1.4444,1.4512,1.458,1.4647999999999999,1.4715999999999998,1.4783999999999997,1.4852,1.492,1.4988,1.5055999999999998,1.5123999999999997,1.5192,1.526,1.5328,1.5395999999999999,1.5463999999999998,1.5532,1.56,1.5668,1.5735999999999999,1.5803999999999998,1.5872,1.5939999999999999,1.6008,1.6076,1.6143999999999998,1.6212,1.628,1.6347999999999998,1.6416,1.6483999999999999,1.6552,1.662,1.6687999999999998,1.6755999999999998,1.6824,1.6892,1.696,1.7027999999999999,1.7095999999999998,1.7164,1.7232,1.73,1.7368,1.7435999999999998,1.7503999999999997,1.7572,1.764,1.7708,1.7775999999999998,1.7843999999999998,1.7912,1.798,1.8048,1.8115999999999999,1.8183999999999998,1.8252,1.8319999999999999,1.8388,1.8456,1.8523999999999998,1.8592,1.8659999999999999,1.8728,1.8796,1.8863999999999999,1.8932,1.9,1.9067999999999998,1.9136,1.9203999999999999,1.9272,1.934,1.9407999999999999,1.9475999999999998,1.9544,1.9612,1.968,1.9747999999999999,1.9815999999999998,1.9883999999999997,1.9952,2.0020000000000002,2.0088,2.0156,2.0223999999999998,2.0292,2.036,2.0428,2.0496,2.0564,2.0632,2.0700000000000003,2.0768,2.0836,2.0904,2.0972,2.104,2.1108000000000002,2.1176,2.1244,2.1312,2.138,2.1448,2.1516,2.1584,2.1652,2.172,2.1788,2.1856,2.1924,2.1992000000000003,2.206,2.2128,2.2196000000000002,2.2264,2.2332,2.24,2.2468000000000004,2.2536,2.2604,2.2672,2.274,2.2807999999999997,2.2876000000000003,2.2944000000000004,2.3012,2.3080000000000003,2.3148,2.3216,2.3284000000000002,2.3352,2.342,2.3487999999999998,2.3556,2.3624,2.3692,2.3760000000000003,2.3828,2.3896,2.3964000000000003,2.4032,2.41,2.4168,2.4236,2.4304,2.4372,2.4440000000000004,2.4508,2.4576000000000002,2.4644000000000004,2.4712,2.478,2.4848,2.4916,2.4984,2.5052,2.512,2.5187999999999997,2.5256000000000003,2.5324000000000004,2.5392,2.5460000000000003,2.5528,2.5596,2.5664000000000002,2.5732,2.58,2.5867999999999998,2.5936,2.6004000000000005,2.6072,2.6140000000000003,2.6208,2.6276,2.6344000000000003,2.6412,2.648,2.6548,2.6616,2.6684,2.6752,2.6820000000000004,2.6888,2.6956,2.7024000000000004,2.7092,2.716,2.7228,2.7296,2.7364,2.7432,2.75,2.7567999999999997,2.7636000000000003,2.7704000000000004,2.7772,2.7840000000000003,2.7908,2.7976,2.8044000000000002,2.8112,2.818,2.8247999999999998,2.8316,2.8384000000000005,2.8452,2.8520000000000003,2.8588,2.8656,2.8724000000000003,2.8792,2.886,2.8928,2.8996,2.9064,2.9132,2.9200000000000004,2.9268,2.9336,2.9404000000000003,2.9472,2.954,2.9608,2.9676,2.9744,2.9812,2.988,2.9947999999999997,3.0016000000000003,3.0084000000000004,3.0152,3.0220000000000002,3.0288,3.0356,3.0424,3.0492,3.056,3.0627999999999997,3.0696,3.0764000000000005,3.0832,3.0900000000000003,3.0968,3.1036,3.1104000000000003,3.1172,3.124,3.1308,3.1376,3.1444,3.1512,3.1580000000000004,3.1648,3.1716,3.1784000000000003,3.1852,3.192,3.1988,3.2056,3.2124,3.2192,3.226,3.2328,3.2396000000000003,3.2464000000000004,3.2532,3.2600000000000002,3.2668,3.2736,3.2804,3.2872,3.294,3.3007999999999997,3.3076,3.3144000000000005,3.3212,3.3280000000000003,3.3348,3.3416,3.3484000000000003,3.3552,3.362,3.3688,3.3756,3.3824,3.3892,3.3960000000000004,3.4028,3.4096,3.4164000000000003,3.4232,3.43,3.4368,3.4436,3.4504,3.4572,3.464,3.4708,3.4776000000000002,3.4844000000000004,3.4912,3.498,3.5048,3.5116,3.5184,3.5252,3.532,3.5387999999999997,3.5456000000000003,3.5524000000000004,3.5592,3.5660000000000003,3.5728,3.5796,3.5864000000000003,3.5932],\"xaxis\":\"x\",\"y\":[0.12686257651804123,0.12998303532454447,0.13313242277154963,0.13631035798744054,0.13951649170115407,0.14275050628347033,0.14601211554496155,0.14930106429759035,0.15261712768876506,0.15596011031839235,0.15932984515108017,0.16272619223709844,0.16614903725702948,0.1695982899061888,0.17307388213587446,0.17657576626929694,0.18010391301063133,0.18365830936605812,0.18723895649584385,0.19084586751653296,0.19447906527212322,0.1981385800927191,0.2018244475585756,0.20553670628669404,0.20927539575621762,0.21304055418778228,0.21683221649074874,0.2206504122909137,0.22449516404979167,0.2283664852850427,0.23226437889994198,0.2361888356281331,0.240139832598155,0.24411733202049601,0.2481212799982192,0.2521516054604391,0.25620821921634734,0.260291013125816,0.264399859381164,0.2685346098932325,0.2726950957736447,0.2768811269040003,0.2810924915817257,0.2853289562315143,0.28959026517058944,0.2938761404155681,0.2981862815184033,0.3025203654187741,0.3068780463003733,0.31125895543881965,0.31566270102938143,0.32008886798331604,0.3245370176824686,0.32900668768270436,0.33349739135790285,0.33800861747745686,0.3425398297116213,0.34709046606051375,0.3516599382041176,0.35624763077227123,0.36085290053527364,0.36547507551741387,0.3701134540374281,0.37476730368149674,0.3794358602160608,0.38411832644922983,0.3888138710509893,0.3935216273438213,0.398240692076482,0.40297012419478057,0.40770894362412335,0.41245613007923304,0.4172106219170842,0.42197131504931845,0.4267370619306224,0.43150667063937276,0.43627890406660025,0.4410524792287658,0.4458260667191114,0.4505982903113823,0.45536772672857406,0.46013290558799924,0.46489230953245886,0.4696443745555879,0.4743874905276132,0.47912000192585097,0.4838402087721042,0.4885463677770832,0.49323669368968254,0.4979093608467848,0.5025625049169659,0.5071942248293094,0.5118025848763749,0.516385616978272,0.5209413230928402,0.5254676777550985,0.5299626307274699,0.5344241097407685,0.5388500233047145,0.543238263565632,0.5475867091882409,0.5518932282378894,0.5561556810393158,0.5603719229880658,0.5645398072910185,0.5686571876130667,0.5727219206079719,0.5767318683125665,0.5806849003850171,0.584578896169654,0.5884117465728825,0.5921813557370105,0.595885642501371,0.5995225416427747,0.6030900048903239,0.6065860017125907,0.6100085198783861,0.6133555657955567,0.6166251646355881,0.619815360255064,0.6229242149283489,0.625949808909047,0.6288902398409527,0.6317436220421078,0.634508085688484,0.6371817759262437,0.639762851944016,0.6422494860385315,0.6446398627087699,0.6469321778151315,0.6491246378411547,0.651215459295944,0.6532028682956873,0.65508510036242,0.6568604004776117,0.6585270234270266,0.6600832344718374,0.661527310379046,0.6628575408418496,0.6640722303178896,0.6651697003100945,0.6661482921113008,0.6670063700299873,0.6677423251101797,0.6683545793541771,0.6688415904519607,0.6692018570162297,0.6694339243169176,0.6695363905038147,0.6695079133006339,0.6693472171485585,0.6690531007720383,0.6686244451343761,0.668060221745609,0.6673595012802523,0.6665214624578554,0.6655454011348767,0.6644307395523205,0.6631770356798795,0.6617839925939497,0.6602514678240513,0.658579482599708,0.656768230927954,0.6548180884301618,0.6527296208660524,0.6505035922724001,0.64814097264413,0.6456429450863762,0.6430109123673311,0.6402465028037049,0.6373515754130115,0.6343282242699492,0.6311787820075754,0.6279058224080692,0.6245121620322397,0.6210008608419056,0.6173752217745286,0.6136387892351204,0.6097953464764769,0.6058489118449655,0.601803733875625,0.5976642852270124,0.59343525545302,0.5891215426158111,0.5847282437509931,0.5802606442031024,0.5757242058563996,0.5711245542927791,0.566467464915379,0.5617588480828912,0.5570047333060137,0.5522112525634573,0.5473846228007527,0.5425311276805885,0.5376570986584679,0.5327688954622898,0.5278728860587599,0.5229754261934912,0.5180828385951145,0.5132013919367896,0.5083372796510244,0.5034965986958156,0.4986853283717123,0.49390930929048005,0.4891742225966347,0.4844855695432158,0.4798486515227284,0.47526855065325374,0.470750111018317,0.46629792065717546,0.46191629439974197,0.45760925763750177,0.45338053111838,0.44923351684966645,0.44517128518884236,0.4411965631973737,0.437311724327428,0.43351877950583834,0.42981936967373846,0.4262147598338892,0.422705834651087,0.419293095644007,0.4159766599994712,0.4127562610326269,0.4096312503085744,0.40660060143301296,0.4036629155111619,0.40081642826590846,0.39805901879755434,0.39538821995907814,0.3928012303121851,0.3902949276208945,0.38786588383095816,0.38551038147501526,0.3832244314352303,0.38100379198720896,0.37884398904128663,0.3767403374899563,0.3746879635632366,0.3726818280872377,0.3707167505351801,0.3687874337545827,0.3668884892494763,0.3650144628921959,0.3631598609357274,0.36131917619471293,0.3594869142611155,0.35765761961919373,0.3558259015239289,0.35398645950738966,0.35213410837864945,0.3502638025849132,0.3483706598043858,0.34644998364515556,0.34449728532892526,0.3425083042438179,0.3404790272566946,0.33840570668231934,0.33628487681443797,0.33411336893211224,0.33188832470365,0.32960720791996545,0.3272678144992085,0.32486828071495316,0.3224070896109581,0.31988307557661766,0.3172954270683987,0.31464368747390475,0.3119277541265763,0.3091478754902606,0.30630464654407186,0.30339900240877216,0.30043221026652606,0.2974058596359724,0.29432185107427977,0.2911823833869321,0.2879899394345058,0.28474727063351046,0.28145738025543215,0.2781235056344099,0.27474909939943504,0.2713378098515481,0.26789346061021463,0.26442002965585326,0.2609216278973697,0.2574024773944867,0.253866889364724,0.2503192421040017,0.24676395894809913,0.24320548639961875,0.23964827254169405,0.23609674585549476,0.23255529455368826,0.22902824653643536,0.22551985007030603,0.22203425528378487,0.21857549656577166,0.21514747594588243,0.2117539475273451,0.20839850303500207,0.2050845585324978,0.20181534235407914,0.1985938842877829,0.19542300603811516,0.19230531298769651,0.18924318726891204,0.1862387821482783,0.1832940177182395,0.18041057788334244,0.1775899086203475,0.1748332174848435,0.1721414743303217,0.16951541319956798,0.16695553534256596,0.16446211330997995,0.16203519606667074,0.15967461506559907,0.15737999121895696,0.155150742700333,0.1529860935092865,0.1508850827277464,0.14884657439626278,0.14686926793722388,0.14495170905173563,0.14309230101692264,0.1412893163108938,0.13954090849354528,0.1378451242726754,0.1361999156865629,0.13460315233616338,0.13305263360239716,0.13154610078658419,0.1300812491149037,0.12865573955081452,0.12726721036257185,0.12591328839637375,0.12459160000915873,0.12329978161867518,0.12203548983211834,0.1207964111183343,0.11958027099233576,0.11838484268460724,0.11720795527138676,0.11604750124580446,0.11490144351335038,0.11376782179871651,0.11264475845449744,0.11153046366559702,0.11042324004642777,0.10932148663112058,0.10822370225993239,0.10712848836790907,0.10603455118454094,0.10494070335571357,0.10384586500163591,0.10274906422665983,0.10164943709897975,0.10054622712008021,0.09943878420555698,0.09832656320046912,0.09720912195380353,0.09608611897783938,0.09495731071926246,0.09382254846978505,0.09268177494473821,0.09153502055869284,0.09038239942756673,0.08922410512693785,0.08806040623639722,0.0868916416997351,0.08571821603058324,0.08454059439282242,0.08335929758463041,0.08217489695447838,0.08098800927671179,0.07979929161355684,0.07860943618951119,0.07741916530308249,0.07622922629977501,0.07504038662905993,0.07385342900685013,0.07266914670370113,0.07148833897762222,0.07031180666898254,0.06914034797356969,0.06797475440839003,0.06681580698331793,0.06566427259019388,0.0645209006194672,0.06338641981296446,0.062261535359865255,0.06114692624148118,0.060043242828959086,0.058951104736601,0.05787109893207714,0.0568037781034439,0.05574965928155991,0.054709222715207985,0.05368291099502072,0.052671128421130343,0.051674240608369414,0.050692574321800105,0.049726417534377405,0.04877601969764568,0.047841592215528805,0.04692330911051115,0.04602130787081559,0.04513569046656331,0.044266524522362544,0.0434138446333001,0.0425776538109195,0.0417579250454507,0.040954602970311615,0.04016760561473522,0.039396826230276606,0.0386421351769333,0.037903381854661626,0.037180396666185674,0.03647299299719042,0.035780969200238606,0.03510411056907797,0.03444219129038836,0.03379497636046572,0.03316222345484968,0.03254368473946511,0.03193910861246924,0.031348241366669846,0.03077082876310172,0.030206617507116753,0.029655356619155686,0.029116798693217916,0.028590701036933206,0.028076826688050747,0.027574945303107484,0.027084833914994944,0.026606277557126697,0.02613906975289404,0.025683012870094002,0.02523791834100511,0.024803606749773752,0.024379907789745917,0.023966660094334357,0.023563710945937337,0.023170915868323764,0.022788138108754435,0.022415248016924478,0.022052122328572565,0.021698643362309335,0.021354698138858805,0.021020177432483682,0.0206949747648665,0.02037898535214408,0.02007210501613651,0.01977422907107069,0.019485251197269137,0.019205062313356138,0.01893354945852212,0.018670594696284293,0.01841607405098599,0.018169856487989702,0.017931802948140445,0.01770176544661217,0.017479586245697114,0.017265097110469065,0.017058118655541694,0.01685845979036648,0.016665917269670594,0.016480275354734456,0.016301305590257345,0.016128766700564897,0.015962404607884492,0.01580195257436049,0.015647131468411284,0.015497650154953172,0.015353206007941322,0.015213485542615379,0.015078165163796259,0.014946912025569543,0.014819384996720752,0.014695235725364396,0.014574109795343827,0.014455647966177317,0.014339487487596024,0.014225263479068646,0.01411261036413985,0.014001163348930954,0.013890559933766401,0.013780441446599742,0.013670454586722877,0.013560252967151132,0.013449498644086774,0.013337863621972628,0.01322503132285518,0.013110698009079855,0.01299457414873656,0.012876385713757646,0.012755875401136901,0.012632803768382269,0.012506950275029625,0.012378114222823219],\"yaxis\":\"y\",\"type\":\"scatter\"},{\"legendgroup\":\"under 2.5\",\"marker\":{\"color\":\"#ffa600\"},\"mode\":\"lines\",\"name\":\"under 2.5\",\"showlegend\":false,\"x\":[0.4,0.4052,0.41040000000000004,0.4156,0.4208,0.42600000000000005,0.4312,0.4364,0.4416,0.44680000000000003,0.452,0.45720000000000005,0.46240000000000003,0.4676,0.4728,0.47800000000000004,0.4832,0.48840000000000006,0.49360000000000004,0.4988,0.504,0.5092,0.5144,0.5196000000000001,0.5248,0.53,0.5352,0.5404,0.5456000000000001,0.5508000000000001,0.556,0.5612,0.5664,0.5716,0.5768,0.5820000000000001,0.5872,0.5924,0.5976,0.6028,0.608,0.6132000000000001,0.6184000000000001,0.6236,0.6288,0.634,0.6392,0.6444000000000001,0.6496000000000001,0.6548,0.66,0.6652,0.6704000000000001,0.6756,0.6808000000000001,0.6859999999999999,0.6912,0.6964000000000001,0.7016,0.7068000000000001,0.712,0.7172000000000001,0.7224,0.7276,0.7328,0.738,0.7432000000000001,0.7484000000000001,0.7536,0.7588,0.764,0.7692,0.7744,0.7796000000000001,0.7848,0.79,0.7952,0.8004,0.8056000000000001,0.8108,0.8160000000000001,0.8211999999999999,0.8264,0.8316000000000001,0.8368,0.8420000000000001,0.8472,0.8524,0.8576,0.8628,0.8680000000000001,0.8732,0.8784000000000001,0.8836,0.8888,0.894,0.8992,0.9044000000000001,0.9096000000000001,0.9148000000000001,0.92,0.9252,0.9304,0.9356000000000001,0.9408000000000001,0.9460000000000001,0.9512,0.9564,0.9616,0.9668000000000001,0.972,0.9772000000000001,0.9824,0.9876,0.9928000000000001,0.998,1.0032,1.0084,1.0136,1.0188000000000001,1.024,1.0292000000000001,1.0344,1.0396,1.0448,1.05,1.0552000000000001,1.0604,1.0655999999999999,1.0708000000000002,1.076,1.0812,1.0864,1.0916000000000001,1.0968,1.1019999999999999,1.1072000000000002,1.1124,1.1176,1.1228000000000002,1.1280000000000001,1.1332,1.1383999999999999,1.1436000000000002,1.1488,1.154,1.1592000000000002,1.1644,1.1696,1.1748,1.1800000000000002,1.1852,1.1904,1.1956,1.2008,1.206,1.2112,1.2164000000000001,1.2216,1.2268000000000001,1.232,1.2372,1.2424,1.2476,1.2528000000000001,1.258,1.2632,1.2684,1.2736,1.2788,1.284,1.2892000000000001,1.2944,1.2996,1.3048000000000002,1.31,1.3152,1.3204,1.3256000000000001,1.3308,1.336,1.3412000000000002,1.3464,1.3516,1.3568000000000002,1.362,1.3672,1.3723999999999998,1.3776000000000002,1.3828,1.388,1.3932000000000002,1.3984,1.4036,1.4088000000000003,1.4140000000000001,1.4192,1.4244000000000003,1.4296000000000002,1.4348,1.44,1.4452000000000003,1.4504000000000001,1.4556,1.4607999999999999,1.4660000000000002,1.4712,1.4764,1.4816000000000003,1.4868000000000001,1.492,1.4971999999999999,1.5024000000000002,1.5076,1.5128,1.5180000000000002,1.5232,1.5284,1.5336000000000003,1.5388000000000002,1.544,1.5492,1.5544000000000002,1.5596,1.5648,1.5699999999999998,1.5752000000000002,1.5804,1.5856000000000003,1.5907999999999998,1.596,1.6012,1.6064000000000003,1.6116000000000001,1.6168,1.6219999999999999,1.6272000000000002,1.6324,1.6376,1.6427999999999998,1.6480000000000001,1.6532,1.6584000000000003,1.6636000000000002,1.6688,1.674,1.6792000000000002,1.6844000000000001,1.6896,1.6947999999999999,1.7000000000000002,1.7052,1.7104,1.7156000000000002,1.7208,1.726,1.7311999999999999,1.7364000000000002,1.7416,1.7468,1.7520000000000002,1.7572,1.7624,1.7676000000000003,1.7728000000000002,1.778,1.7832,1.7884000000000002,1.7936,1.7988,1.8039999999999998,1.8092000000000001,1.8144,1.8196000000000003,1.8247999999999998,1.83,1.8352,1.8404000000000003,1.8456000000000001,1.8508,1.8559999999999999,1.8612000000000002,1.8664,1.8716000000000004,1.8767999999999998,1.8820000000000001,1.8872,1.8924000000000003,1.8976000000000002,1.9028,1.908,1.9132000000000002,1.9184,1.9236,1.9287999999999998,1.9340000000000002,1.9392,1.9444,1.9496000000000002,1.9548,1.96,1.9652000000000003,1.9704000000000002,1.9756,1.9808,1.9860000000000002,1.9912,1.9964,2.0016000000000003,2.0068,2.012,2.0172,2.0224,2.0276,2.0328,2.038,2.0432,2.0484,2.0536000000000003,2.0588,2.064,2.0692,2.0744000000000002,2.0796,2.0848,2.09,2.0952,2.1004,2.1056000000000004,2.1108,2.116,2.1212,2.1264000000000003,2.1316,2.1368,2.142,2.1472,2.1524,2.1576,2.1628,2.168,2.1732,2.1784,2.1836,2.1888,2.194,2.1992000000000003,2.2044,2.2096,2.2148,2.22,2.2252,2.2304,2.2356000000000003,2.2408,2.246,2.2512,2.2564,2.2616,2.2668,2.2720000000000002,2.2772,2.2824,2.2876000000000003,2.2928,2.298,2.3032,2.3084000000000002,2.3136,2.3188,2.324,2.3292,2.3344,2.3396000000000003,2.3447999999999998,2.35,2.3552,2.3604000000000003,2.3656,2.3708,2.376,2.3812,2.3864,2.3916,2.3968000000000003,2.4019999999999997,2.4072,2.4124,2.4176,2.4228,2.428,2.4332,2.4384,2.4436,2.4488000000000003,2.4539999999999997,2.4592,2.4644,2.4696,2.4748,2.48,2.4852000000000003,2.4904,2.4956,2.5008,2.506,2.5112,2.5164,2.5216,2.5268,2.532,2.5372000000000003,2.5424,2.5475999999999996,2.5528,2.558,2.5632,2.5684,2.5736,2.5788,2.584,2.5892000000000004,2.5944,2.5995999999999997,2.6048,2.61,2.6152,2.6204,2.6256,2.6308000000000002,2.636,2.6412,2.6464,2.6515999999999997,2.6568,2.662,2.6672000000000002,2.6724,2.6776,2.6828000000000003,2.6879999999999997,2.6932,2.6984,2.7036,2.7088,2.714,2.7192000000000003,2.7244,2.7296,2.7348,2.7399999999999998,2.7452,2.7504,2.7556,2.7608,2.766,2.7712000000000003,2.7764,2.7815999999999996,2.7868,2.792,2.7972,2.8024,2.8076,2.8128,2.818,2.8232000000000004,2.8284,2.8335999999999997,2.8388,2.844,2.8492,2.8544,2.8596,2.8648000000000002,2.87,2.8752,2.8804,2.8855999999999997,2.8908,2.896,2.9012000000000002,2.9064,2.9116,2.9168000000000003,2.9219999999999997,2.9272,2.9324,2.9375999999999998,2.9428,2.948,2.9532000000000003,2.9584,2.9636,2.9688,2.9739999999999998,2.9792,2.9844,2.9896,2.9948],\"xaxis\":\"x\",\"y\":[0.22175200314431184,0.22530067868496553,0.22885230367294906,0.2324058231939938,0.23596018570684033,0.2395143434840618,0.24306725302103724,0.2466178754147553,0.2501651767143503,0.2537081282454575,0.2572457069106797,0.2607768954686009,0.26430068279396496,0.2678160641217336,0.27132204127789605,0.2748176228999599,0.2783018246501496,0.28177366942438625,0.2852321875601601,0.28867641704639435,0.2921054037384249,0.29551820158114156,0.2989138728433186,0.3022914883660454,0.3056501278281007,0.30898888003095665,0.31230684320597996,0.31560312534621965,0.31887684456497994,0.32212712948318983,0.32535311964734487,0.3285539659795675,0.3317288312610649,0.3348768906500317,0.3379973322347117,0.3410893576221083,0.34415218256247354,0.3471850376094526,0.3501871688154142,0.3531578384612009,0.35609632581922357,0.3590019279484918,0.3618739605198709,0.3647117586695558,0.36751467787843634,0.3702820948747374,0.3730134085570472,0.37570804093455057,0.3783654380810644,0.3809850710991741,0.38356643709060967,0.3861090601287305,0.38861249222884503,0.3910763143119076,0.3935001371569827,0.395883602337764,0.3982263831383321,0.40052818544325597,0.4027887485971166,0.4050078462284952,0.40718528703349466,0.4093209155138774,0.4114146126650005,0.4134662966087793,0.4154759231670629,0.4174434863709319,0.41936901890160355,0.4212525924588365,0.42309431805292247,0.42489434621663624,0.42665286713374684,0.4283701106809997,0.43004634638079636,0.4316818832621021,0.43327706962748797,0.4348322927245412,0.43634797832028693,0.4378245901776191,0.4392626294331537,0.4406626338763181,0.4420251771298923,0.44335086773264454,0.44464034812510556,0.4458942935399562,0.4471134107989004,0.4482984370183161,0.4494501382263841,0.450569307894768,0.45165676538831867,0.45271335433665555,0.4537399409318154,0.4547374121564989,0.4557066739478173,0.45664864930165755,0.4575642763231751,0.45845450622909295,0.4593203013077855,0.46016263284331127,0.4609824790097706,0.4617808227424874,0.46255864959271914,0.4633169455726228,0.4640566949973664,0.46477887833126275,0.46548447004488036,0.46617443649003154,0.4668497337995418,0.4675113058186285,0.468160082074614,0.4687969757916164,0.46942288195666126,0.47003867544354716,0.47064520920055136,0.47124331250787366,0.47183378931045283,0.47241741663152437,0.4729949430720095,0.47356708740051867,0.4741345372383962,0.4746979478439392,0.4752579409995078,0.47581510400492594,0.47636998878014086,0.47692311107973423,0.4774749498214752,0.4780259465306879,0.47857650490177206,0.479126990477827,0.4796777304488676,0.48022901356872655,0.48078109019028686,0.4813341724182871,0.481888434378515,0.4824440126017908,0.4830010065207417,0.48355947907699726,0.484119457435979,0.48468093380618826,0.48524386635944744,0.4858081802482423,0.4863737687159988,0.4869404942957625,0.487508190092523,0.4880766611440701,0.48864568585508505,0.4892150174988788,0.4897843857809928,0.4903534984586912,0.4909220430101871,0.4914896883472918,0.49205608656506455,0.4926208747219343,0.4931836766436623,0.49374410474448877,0.49430176185875574,0.49485624307629983,0.49540713757490884,0.4959540304431983,0.49649650448730176,0.4970341420148792,0.497566526590032,0.49809324475286554,0.49861388769757364,0.49912805290311973,0.4996353457107419,0.5001353808427855,0.5006277838575288,0.5011121925349864,0.5015882581888981,0.5020556469004269,0.5025140406693678,0.5029631384790177,0.503402657271149,0.5038323328279088,0.5042519205577988,0.5046611961832576,0.5050599563277509,0.5054480190006413,0.5058252239785136,0.5061914330820037,0.5065465303476011,0.5068904220942594,0.5072230368850811,0.5075443253847162,0.5078542601135263,0.5081528350999432,0.5084400654328588,0.5087159867162336,0.5089806544285197,0.5092341431898307,0.509476545940157,0.5097079730322506,0.5099285512431642,0.510138422708706,0.5103377437853792,0.5105266838446718,0.5107054240048057,0.5108741558052914,0.5110330798298852,0.511182404283699,0.5113223435304433,0.5114531165958925,0.5115749456438167,0.5116880544307213,0.511792666745818,0.511889004842708,0.5119772878692683,0.512057730302267,0.5121305403931748,0.512195918631606,0.5122540562327496,0.512305133655026,0.5123493191541014,0.5123867673792092,0.5124176180175729,0.5124419944925002,0.5124600027204979,0.5124717299325064,0.5124772435640792,0.5124765902190364,0.5124697947108091,0.5124568591853667,0.5124377623292616,0.5124124586659692,0.5123808779433321,0.5123429246145029,0.5122984774144215,0.5122473890334158,0.5121894858891348,0.5121245679975771,0.5120524089435855,0.5119727559507228,0.5118853300500591,0.511789826346963,0.5116859143845705,0.5115732386022264,0.5114514188867687,0.511320051214157,0.5111787083785734,0.5110269408057524,0.5108642774469717,0.5106902267497985,0.5105042777013844,0.5103059009398169,0.510094549928779,0.509869662190513,0.5096306605918962,0.5093769546782119,0.5091079420490741,0.5088230097707988,0.5085215358194228,0.5082028905484799,0.5078664381756062,0.5075115382820119,0.5071375473188668,0.5067438201146799,0.5063297113778139,0.5058945771883708,0.5054377764738068,0.5049586724627431,0.5044566341116717,0.5039310374993833,0.5033812671842052,0.5028067175193635,0.5022067939220297,0.5015809140919245,0.5009285091756134,0.5002490248729619,0.4995419224825518,0.498806679883181,0.49804279244893424,0.4972497738956809,0.4964271570571931,0.49557449458948843,0.49469135960235044,0.493777346217359,0.49283207005216034,0.4918551686310308,0.49084630172222965,0.4898051516029124,0.4887314232528003,0.48762484447809396,0.4864851659674789,0.4853121612823659,0.48410562678382824,0.48286538149895797,0.48159126692965415,0.4802831468070796,0.47894090679525636,0.47756445414748433,0.47615371731942785,0.474708645542881,0.4732292083643659,0.4717153951528189,0.4701672145806966,0.4685846940829076,0.46696787929800704,0.46531683349608965,0.46363163699782195,0.46191238658899414,0.4601591949349227,0.45837218999894225,0.45655151446912084,0.45469732519718614,0.45280979265352794,0.45088910040192726,0.4489354445975189,0.44694903351124016,0.44493008708383225,0.44287883651218585,0.4407955238705964,0.43868040176922196,0.43653373305173093,0.4343557905338978,0.4321468567845561,0.42990722395005,0.42763719362301805,0.42533707675602384,0.423007193620264,0.4206478738092516,0.41825945628709105,0.4158422894806388,0.4133967314145775,0.41092314988810774,0.4084219226917052,0.4058934378621145,0.40333809397348286,0.4007563004623002,0.39814847798355474,0.3955150587953231,0.39285648716877763,0.39017321982041314,0.3874657263631325,0.3847344897726539,0.381980006865573,0.3792027887853025,0.3764033614919855,0.37358226625243346,0.37074006012602606,0.36787731644253724,0.36499462526774457,0.3620925938527641,0.35917184706299105,0.35623302778261967,0.35327679729073724,0.35030383560507933,0.3473148417896071,0.34431053422221586,0.3412916508189407,0.33825894921126676,0.335213206873208,0.33215522119508223,0.3290858095010326,0.32600580900760023,0.32291607672083056,0.3198174892696379,0.31671094267340383,0.31359735204200656,0.31047765120675497,0.3073527922809587,0.3042237451491386,0.30109149688414977,0.2979570510917868,0.2948214271827078,0.29168565957181747,0.28855079680551804,0.28541790061754646,0.2822880449143931,0.27916231469156916,0.27604180488231106,0.27292761914054214,0.2698208685602236,0.2667226703334738,0.2636341463501,0.2605564217414548,0.25749062337174083,0.25443787828016673,0.25139931207754584,0.24837604730115828,0.24536920173190369,0.24237988667795227,0.23940920522927883,0.23645825048764013,0.2335281037766772,0.23061983283699114,0.22773449001113175,0.22487311042354696,0.22203671016064105,0.21922628445612954,0.21644280588695963,0.21368722258507644,0.21096045647034925,0.20826340150995595,0.20559692200951799,0.20296185094122646,0.20035898831416757,0.19778909959195615,0.19525291416272172,0.19275112386636506,0.19028438158388855,0.18785329989346086,0.18545844979771745,0.1831003595266205,0.1807795134200177,0.17849635089383403,0.17625126549360648,0.17404460403883762,0.17187666586140601,0.16974770214099832,0.16765791534027058,0.16560745874215452,0.16359643609143218,0.16162490134241253,0.15969285851421886,0.15780026165489025,0.15594701491517762,0.15413297273257784,0.15235794012583473,0.1506216730997856,0.14892387916011052,0.14726421793719593,0.14564230191799668,0.14405769728444662,0.1425099248566344,0.14099846113864695,0.1395227394646528,0.13808215124249265,0.1366760472917423,0.13530373927291092,0.13396450120416484,0.13265757106168238,0.13138215245949605,0.13013741640442375,0.12892250312146455,0.12773652394481225,0.1265785632694466,0.12544768055806915,0.12434291239799375,0.12326327460244911,0.12220776435062361,0.12117536236067175,0.12016503508981499,0.11917573695559977,0.11820641257232203,0.11725599899660606,0.11632342797611431,0.11540762819537459,0.11450752751275166,0.11362205518263656,0.11275014405700479,0.11189073276058925,0.11104276783401887,0.1102052058394165,0.10937701542308981,0.1085571793301196,0.10774469636583496,0.10693858329936125,0.10613787670464496,0.10534163473458422,0.1045489388241396,0.10375889531855294,0.10297063702306265,0.10218332467078636,0.10139614830571794,0.10060832857808213,0.099819117949584,0.09902780180639573,0.09823369947802736,0.09743616516053741,0.0966345887428523,0.09582839653527087,0.09501705189954011,0.0942000557802,0.09337694713719269,0.0925473032800377,0.09171074010416419,0.0908669122302811,0.09001551304794525,0.08915627466475971,0.08828896776289563,0.0874134013648835,0.08652942251085974,0.08563691584968429,0.08473580314655929,0.08382604270998655,0.08290762874108627,0.08198059060847894,0.08104499205209426,0.08010093031941368,0.0791485352377913,0.0781879682266092,0.07721942125312847,0.07624311573598291,0.07525930140033245,0.07426825508875205,0.07327027953197107,0.0722657020836048,0.07125487342303496,0.07023816623058884,0.06921597383915679],\"yaxis\":\"y\",\"type\":\"scatter\"}],                        {\"barmode\":\"overlay\",\"hovermode\":\"closest\",\"legend\":{\"traceorder\":\"reversed\"},\"xaxis\":{\"anchor\":\"y2\",\"domain\":[0.0,1.0],\"zeroline\":false,\"range\":[0,5]},\"yaxis\":{\"anchor\":\"free\",\"domain\":[0.0,1],\"position\":0.0},\"template\":{\"data\":{\"bar\":[{\"error_x\":{\"color\":\"#2a3f5f\"},\"error_y\":{\"color\":\"#2a3f5f\"},\"marker\":{\"line\":{\"color\":\"#E5ECF6\",\"width\":0.5},\"pattern\":{\"fillmode\":\"overlay\",\"size\":10,\"solidity\":0.2}},\"type\":\"bar\"}],\"barpolar\":[{\"marker\":{\"line\":{\"color\":\"#E5ECF6\",\"width\":0.5},\"pattern\":{\"fillmode\":\"overlay\",\"size\":10,\"solidity\":0.2}},\"type\":\"barpolar\"}],\"carpet\":[{\"aaxis\":{\"endlinecolor\":\"#2a3f5f\",\"gridcolor\":\"white\",\"linecolor\":\"white\",\"minorgridcolor\":\"white\",\"startlinecolor\":\"#2a3f5f\"},\"baxis\":{\"endlinecolor\":\"#2a3f5f\",\"gridcolor\":\"white\",\"linecolor\":\"white\",\"minorgridcolor\":\"white\",\"startlinecolor\":\"#2a3f5f\"},\"type\":\"carpet\"}],\"choropleth\":[{\"colorbar\":{\"outlinewidth\":0,\"ticks\":\"\"},\"type\":\"choropleth\"}],\"contour\":[{\"colorbar\":{\"outlinewidth\":0,\"ticks\":\"\"},\"colorscale\":[[0.0,\"#0d0887\"],[0.1111111111111111,\"#46039f\"],[0.2222222222222222,\"#7201a8\"],[0.3333333333333333,\"#9c179e\"],[0.4444444444444444,\"#bd3786\"],[0.5555555555555556,\"#d8576b\"],[0.6666666666666666,\"#ed7953\"],[0.7777777777777778,\"#fb9f3a\"],[0.8888888888888888,\"#fdca26\"],[1.0,\"#f0f921\"]],\"type\":\"contour\"}],\"contourcarpet\":[{\"colorbar\":{\"outlinewidth\":0,\"ticks\":\"\"},\"type\":\"contourcarpet\"}],\"heatmap\":[{\"colorbar\":{\"outlinewidth\":0,\"ticks\":\"\"},\"colorscale\":[[0.0,\"#0d0887\"],[0.1111111111111111,\"#46039f\"],[0.2222222222222222,\"#7201a8\"],[0.3333333333333333,\"#9c179e\"],[0.4444444444444444,\"#bd3786\"],[0.5555555555555556,\"#d8576b\"],[0.6666666666666666,\"#ed7953\"],[0.7777777777777778,\"#fb9f3a\"],[0.8888888888888888,\"#fdca26\"],[1.0,\"#f0f921\"]],\"type\":\"heatmap\"}],\"heatmapgl\":[{\"colorbar\":{\"outlinewidth\":0,\"ticks\":\"\"},\"colorscale\":[[0.0,\"#0d0887\"],[0.1111111111111111,\"#46039f\"],[0.2222222222222222,\"#7201a8\"],[0.3333333333333333,\"#9c179e\"],[0.4444444444444444,\"#bd3786\"],[0.5555555555555556,\"#d8576b\"],[0.6666666666666666,\"#ed7953\"],[0.7777777777777778,\"#fb9f3a\"],[0.8888888888888888,\"#fdca26\"],[1.0,\"#f0f921\"]],\"type\":\"heatmapgl\"}],\"histogram\":[{\"marker\":{\"pattern\":{\"fillmode\":\"overlay\",\"size\":10,\"solidity\":0.2}},\"type\":\"histogram\"}],\"histogram2d\":[{\"colorbar\":{\"outlinewidth\":0,\"ticks\":\"\"},\"colorscale\":[[0.0,\"#0d0887\"],[0.1111111111111111,\"#46039f\"],[0.2222222222222222,\"#7201a8\"],[0.3333333333333333,\"#9c179e\"],[0.4444444444444444,\"#bd3786\"],[0.5555555555555556,\"#d8576b\"],[0.6666666666666666,\"#ed7953\"],[0.7777777777777778,\"#fb9f3a\"],[0.8888888888888888,\"#fdca26\"],[1.0,\"#f0f921\"]],\"type\":\"histogram2d\"}],\"histogram2dcontour\":[{\"colorbar\":{\"outlinewidth\":0,\"ticks\":\"\"},\"colorscale\":[[0.0,\"#0d0887\"],[0.1111111111111111,\"#46039f\"],[0.2222222222222222,\"#7201a8\"],[0.3333333333333333,\"#9c179e\"],[0.4444444444444444,\"#bd3786\"],[0.5555555555555556,\"#d8576b\"],[0.6666666666666666,\"#ed7953\"],[0.7777777777777778,\"#fb9f3a\"],[0.8888888888888888,\"#fdca26\"],[1.0,\"#f0f921\"]],\"type\":\"histogram2dcontour\"}],\"mesh3d\":[{\"colorbar\":{\"outlinewidth\":0,\"ticks\":\"\"},\"type\":\"mesh3d\"}],\"parcoords\":[{\"line\":{\"colorbar\":{\"outlinewidth\":0,\"ticks\":\"\"}},\"type\":\"parcoords\"}],\"pie\":[{\"automargin\":true,\"type\":\"pie\"}],\"scatter\":[{\"marker\":{\"colorbar\":{\"outlinewidth\":0,\"ticks\":\"\"}},\"type\":\"scatter\"}],\"scatter3d\":[{\"line\":{\"colorbar\":{\"outlinewidth\":0,\"ticks\":\"\"}},\"marker\":{\"colorbar\":{\"outlinewidth\":0,\"ticks\":\"\"}},\"type\":\"scatter3d\"}],\"scattercarpet\":[{\"marker\":{\"colorbar\":{\"outlinewidth\":0,\"ticks\":\"\"}},\"type\":\"scattercarpet\"}],\"scattergeo\":[{\"marker\":{\"colorbar\":{\"outlinewidth\":0,\"ticks\":\"\"}},\"type\":\"scattergeo\"}],\"scattergl\":[{\"marker\":{\"colorbar\":{\"outlinewidth\":0,\"ticks\":\"\"}},\"type\":\"scattergl\"}],\"scattermapbox\":[{\"marker\":{\"colorbar\":{\"outlinewidth\":0,\"ticks\":\"\"}},\"type\":\"scattermapbox\"}],\"scatterpolar\":[{\"marker\":{\"colorbar\":{\"outlinewidth\":0,\"ticks\":\"\"}},\"type\":\"scatterpolar\"}],\"scatterpolargl\":[{\"marker\":{\"colorbar\":{\"outlinewidth\":0,\"ticks\":\"\"}},\"type\":\"scatterpolargl\"}],\"scatterternary\":[{\"marker\":{\"colorbar\":{\"outlinewidth\":0,\"ticks\":\"\"}},\"type\":\"scatterternary\"}],\"surface\":[{\"colorbar\":{\"outlinewidth\":0,\"ticks\":\"\"},\"colorscale\":[[0.0,\"#0d0887\"],[0.1111111111111111,\"#46039f\"],[0.2222222222222222,\"#7201a8\"],[0.3333333333333333,\"#9c179e\"],[0.4444444444444444,\"#bd3786\"],[0.5555555555555556,\"#d8576b\"],[0.6666666666666666,\"#ed7953\"],[0.7777777777777778,\"#fb9f3a\"],[0.8888888888888888,\"#fdca26\"],[1.0,\"#f0f921\"]],\"type\":\"surface\"}],\"table\":[{\"cells\":{\"fill\":{\"color\":\"#EBF0F8\"},\"line\":{\"color\":\"white\"}},\"header\":{\"fill\":{\"color\":\"#C8D4E3\"},\"line\":{\"color\":\"white\"}},\"type\":\"table\"}]},\"layout\":{\"annotationdefaults\":{\"arrowcolor\":\"#2a3f5f\",\"arrowhead\":0,\"arrowwidth\":1},\"autotypenumbers\":\"strict\",\"coloraxis\":{\"colorbar\":{\"outlinewidth\":0,\"ticks\":\"\"}},\"colorscale\":{\"diverging\":[[0,\"#8e0152\"],[0.1,\"#c51b7d\"],[0.2,\"#de77ae\"],[0.3,\"#f1b6da\"],[0.4,\"#fde0ef\"],[0.5,\"#f7f7f7\"],[0.6,\"#e6f5d0\"],[0.7,\"#b8e186\"],[0.8,\"#7fbc41\"],[0.9,\"#4d9221\"],[1,\"#276419\"]],\"sequential\":[[0.0,\"#0d0887\"],[0.1111111111111111,\"#46039f\"],[0.2222222222222222,\"#7201a8\"],[0.3333333333333333,\"#9c179e\"],[0.4444444444444444,\"#bd3786\"],[0.5555555555555556,\"#d8576b\"],[0.6666666666666666,\"#ed7953\"],[0.7777777777777778,\"#fb9f3a\"],[0.8888888888888888,\"#fdca26\"],[1.0,\"#f0f921\"]],\"sequentialminus\":[[0.0,\"#0d0887\"],[0.1111111111111111,\"#46039f\"],[0.2222222222222222,\"#7201a8\"],[0.3333333333333333,\"#9c179e\"],[0.4444444444444444,\"#bd3786\"],[0.5555555555555556,\"#d8576b\"],[0.6666666666666666,\"#ed7953\"],[0.7777777777777778,\"#fb9f3a\"],[0.8888888888888888,\"#fdca26\"],[1.0,\"#f0f921\"]]},\"colorway\":[\"#636efa\",\"#EF553B\",\"#00cc96\",\"#ab63fa\",\"#FFA15A\",\"#19d3f3\",\"#FF6692\",\"#B6E880\",\"#FF97FF\",\"#FECB52\"],\"font\":{\"color\":\"#2a3f5f\"},\"geo\":{\"bgcolor\":\"white\",\"lakecolor\":\"white\",\"landcolor\":\"#E5ECF6\",\"showlakes\":true,\"showland\":true,\"subunitcolor\":\"white\"},\"hoverlabel\":{\"align\":\"left\"},\"hovermode\":\"closest\",\"mapbox\":{\"style\":\"light\"},\"paper_bgcolor\":\"white\",\"plot_bgcolor\":\"#E5ECF6\",\"polar\":{\"angularaxis\":{\"gridcolor\":\"white\",\"linecolor\":\"white\",\"ticks\":\"\"},\"bgcolor\":\"#E5ECF6\",\"radialaxis\":{\"gridcolor\":\"white\",\"linecolor\":\"white\",\"ticks\":\"\"}},\"scene\":{\"xaxis\":{\"backgroundcolor\":\"#E5ECF6\",\"gridcolor\":\"white\",\"gridwidth\":2,\"linecolor\":\"white\",\"showbackground\":true,\"ticks\":\"\",\"zerolinecolor\":\"white\"},\"yaxis\":{\"backgroundcolor\":\"#E5ECF6\",\"gridcolor\":\"white\",\"gridwidth\":2,\"linecolor\":\"white\",\"showbackground\":true,\"ticks\":\"\",\"zerolinecolor\":\"white\"},\"zaxis\":{\"backgroundcolor\":\"#E5ECF6\",\"gridcolor\":\"white\",\"gridwidth\":2,\"linecolor\":\"white\",\"showbackground\":true,\"ticks\":\"\",\"zerolinecolor\":\"white\"}},\"shapedefaults\":{\"line\":{\"color\":\"#2a3f5f\"}},\"ternary\":{\"aaxis\":{\"gridcolor\":\"white\",\"linecolor\":\"white\",\"ticks\":\"\"},\"baxis\":{\"gridcolor\":\"white\",\"linecolor\":\"white\",\"ticks\":\"\"},\"bgcolor\":\"#E5ECF6\",\"caxis\":{\"gridcolor\":\"white\",\"linecolor\":\"white\",\"ticks\":\"\"}},\"title\":{\"x\":0.05},\"xaxis\":{\"automargin\":true,\"gridcolor\":\"white\",\"linecolor\":\"white\",\"ticks\":\"\",\"title\":{\"standoff\":15},\"zerolinecolor\":\"white\",\"zerolinewidth\":2},\"yaxis\":{\"automargin\":true,\"gridcolor\":\"white\",\"linecolor\":\"white\",\"ticks\":\"\",\"title\":{\"standoff\":15},\"zerolinecolor\":\"white\",\"zerolinewidth\":2}}},\"title\":{\"text\":\"Distplot with Normal Distribution : navgGoalHome\"}},                        {\"responsive\": true}                    ).then(function(){\n",
              "                            \n",
              "var gd = document.getElementById('a0eb3794-6bb3-4a02-8416-8d100fac0f8f');\n",
              "var x = new MutationObserver(function (mutations, observer) {{\n",
              "        var display = window.getComputedStyle(gd).display;\n",
              "        if (!display || display === 'none') {{\n",
              "            console.log([gd, 'removed!']);\n",
              "            Plotly.purge(gd);\n",
              "            observer.disconnect();\n",
              "        }}\n",
              "}});\n",
              "\n",
              "// Listen for the removal of the full notebook cells\n",
              "var notebookContainer = gd.closest('#notebook-container');\n",
              "if (notebookContainer) {{\n",
              "    x.observe(notebookContainer, {childList: true});\n",
              "}}\n",
              "\n",
              "// Listen for the clearing of the current output cell\n",
              "var outputEl = gd.closest('.output');\n",
              "if (outputEl) {{\n",
              "    x.observe(outputEl, {childList: true});\n",
              "}}\n",
              "\n",
              "                        })                };                            </script>        </div>\n",
              "</body>\n",
              "</html>"
            ]
          },
          "metadata": {}
        }
      ]
    },
    {
      "cell_type": "code",
      "source": [
        "lis=[features.navgGoalConcededHome[data['target']==1], features.navgGoalConcededHome[data['target']==0]]\n",
        "group_labels=['over 2.5','under 2.5']\n",
        "colors = ['#003f5c', '#ffa600']\n",
        "# Create distplot \n",
        "fig = ff.create_distplot(lis, group_labels, bin_size=20,show_rug=False,\n",
        "                         curve_type='kde', # override default 'kde'\n",
        "                         colors=colors)\n",
        "\n",
        "# Add title\n",
        "fig.update_layout(xaxis_range=[0,5])\n",
        "fig.update_layout(title_text='Distplot with Normal Distribution : navgGoalConcededHome')\n",
        "fig.show()"
      ],
      "metadata": {
        "colab": {
          "base_uri": "https://localhost:8080/",
          "height": 542
        },
        "id": "4Ru3nd6hKeTm",
        "outputId": "8d5a4bca-7a2c-4210-d0db-3146e87082f3"
      },
      "execution_count": 530,
      "outputs": [
        {
          "output_type": "display_data",
          "data": {
            "text/html": [
              "<html>\n",
              "<head><meta charset=\"utf-8\" /></head>\n",
              "<body>\n",
              "    <div>            <script src=\"https://cdnjs.cloudflare.com/ajax/libs/mathjax/2.7.5/MathJax.js?config=TeX-AMS-MML_SVG\"></script><script type=\"text/javascript\">if (window.MathJax) {MathJax.Hub.Config({SVG: {font: \"STIX-Web\"}});}</script>                <script type=\"text/javascript\">window.PlotlyConfig = {MathJaxConfig: 'local'};</script>\n",
              "        <script src=\"https://cdn.plot.ly/plotly-2.8.3.min.js\"></script>                <div id=\"846cd028-fb44-4732-9d00-87100ff63b7f\" class=\"plotly-graph-div\" style=\"height:525px; width:100%;\"></div>            <script type=\"text/javascript\">                                    window.PLOTLYENV=window.PLOTLYENV || {};                                    if (document.getElementById(\"846cd028-fb44-4732-9d00-87100ff63b7f\")) {                    Plotly.newPlot(                        \"846cd028-fb44-4732-9d00-87100ff63b7f\",                        [{\"autobinx\":false,\"histnorm\":\"probability density\",\"legendgroup\":\"over 2.5\",\"marker\":{\"color\":\"#003f5c\"},\"name\":\"over 2.5\",\"opacity\":0.7,\"x\":[2.2,1.0,2.2,1.4,2.8,1.6,1.8,1.4,1.2,1.4,0.4,1.6,1.4,1.2,2.6,1.8,1.0,0.8,2.0,1.8,2.4,1.6,2.4,1.0,0.2,1.6,0.8,1.8,1.8,1.8,0.8,1.6,1.0,1.4,1.4,1.2,0.6,1.4,0.6,1.2,1.0,0.0,1.0,0.6,0.8,0.2,1.4,1.0,0.2,2.4,0.4,1.2,0.6,0.4,0.8,2.4,1.2,1.6,1.0,1.0,0.8,0.4,1.2,1.4,1.2,1.4,0.8,1.4,2.2,0.8,1.4,0.4,1.2,1.2,0.8,0.2,1.4,2.2,2.4,1.6,1.0,1.0,1.8,2.2,1.6,0.8,1.6,2.6,0.8,0.8,1.8,2.0,1.4,1.2,1.6,0.4,2.0,1.2,2.8,0.8,1.8,1.4,1.4,1.8,1.8,1.8,2.4,1.6,1.0,1.2,2.4,1.2,2.6,2.0,1.8,1.8,1.2,1.8,0.0,2.4,0.4,1.6,1.2,1.6,2.4,1.6,1.6,1.2,2.2,1.8,1.6,1.2,2.4,1.4,1.8,0.4,1.2,1.2,1.6,0.6,1.0,1.6,1.2,2.2,1.6,1.8,1.8,2.2,1.4,1.2,1.4,0.2,1.6,2.6,1.2,1.8,2.2,1.6,0.8,1.2,0.2,2.8,1.4,1.4,1.4,0.8,1.4,0.8,2.0,2.2,1.0,1.4,1.2,2.4,2.4,2.6,1.4,1.6,2.4,1.0],\"xaxis\":\"x\",\"xbins\":{\"end\":2.8,\"size\":20,\"start\":0.0},\"yaxis\":\"y\",\"type\":\"histogram\"},{\"autobinx\":false,\"histnorm\":\"probability density\",\"legendgroup\":\"under 2.5\",\"marker\":{\"color\":\"#ffa600\"},\"name\":\"under 2.5\",\"opacity\":0.7,\"x\":[2.2,1.4,1.2,1.6,1.6,1.6,1.4,1.0,1.0,1.0,1.2,1.2,1.4,0.6,1.2,1.2,1.4,0.6,0.8,1.2,1.6,2.6,2.2,1.4,0.8,1.8,1.2,1.2,1.4,2.0,1.6,1.0,0.6,1.4,1.0,1.6,0.8,1.8,1.4,1.0,1.2,1.4,1.4,1.6,1.0,1.8,2.4,1.8,1.0,0.8,1.0,2.2,1.6,1.0,0.4,1.0,3.4,1.6,0.6,0.4,0.2,2.2,1.0,1.8,2.8,1.6,0.0,1.6,1.8,1.6,1.8,0.2,0.8,1.4,1.0,1.0,1.6,2.2,1.0,2.6,1.4,0.6,2.0,2.2,1.8,1.8,1.6,0.6,1.6,2.2,1.8,0.8,1.8,1.0,1.4,1.4,1.2,0.8,1.6,1.4,1.0,2.2,1.0,1.4,1.6,1.0,1.8,1.8,0.6,2.0,1.0,2.2,2.4,1.0,1.2,2.0,1.4,1.6,1.6,2.2,2.0,1.8,1.4,1.0,1.4,2.4,1.6,1.4,2.0,1.4,2.6,1.2,2.6,1.4,0.4,1.8,2.0,1.8,2.0,2.2,1.8,1.0,0.8,2.0,0.4,1.4,1.4,1.6,2.6],\"xaxis\":\"x\",\"xbins\":{\"end\":3.4,\"size\":20,\"start\":0.0},\"yaxis\":\"y\",\"type\":\"histogram\"},{\"legendgroup\":\"over 2.5\",\"marker\":{\"color\":\"#003f5c\"},\"mode\":\"lines\",\"name\":\"over 2.5\",\"showlegend\":false,\"x\":[0.0,0.0056,0.0112,0.016799999999999995,0.0224,0.028,0.03359999999999999,0.0392,0.0448,0.0504,0.056,0.061599999999999995,0.06719999999999998,0.0728,0.0784,0.084,0.0896,0.09519999999999999,0.1008,0.1064,0.112,0.1176,0.12319999999999999,0.12879999999999997,0.13439999999999996,0.14,0.1456,0.1512,0.1568,0.1624,0.168,0.1736,0.1792,0.1848,0.19039999999999999,0.196,0.2016,0.2072,0.2128,0.21839999999999998,0.224,0.2296,0.2352,0.2408,0.24639999999999998,0.25199999999999995,0.25759999999999994,0.2632,0.26879999999999993,0.2744,0.28,0.28559999999999997,0.2912,0.29679999999999995,0.3024,0.308,0.3136,0.3192,0.3248,0.33039999999999997,0.336,0.34159999999999996,0.3472,0.35279999999999995,0.3584,0.364,0.3696,0.3752,0.38079999999999997,0.38639999999999997,0.392,0.39759999999999995,0.4032,0.40879999999999994,0.4144,0.42,0.4256,0.43119999999999997,0.43679999999999997,0.44239999999999996,0.448,0.45359999999999995,0.4592,0.46479999999999994,0.4704,0.4759999999999999,0.4816,0.48719999999999997,0.49279999999999996,0.49839999999999995,0.5039999999999999,0.5095999999999999,0.5151999999999999,0.5207999999999999,0.5264,0.532,0.5375999999999999,0.5431999999999999,0.5488,0.5544,0.56,0.5655999999999999,0.5711999999999999,0.5768,0.5824,0.588,0.5935999999999999,0.5992,0.6048,0.6103999999999999,0.616,0.6215999999999999,0.6272,0.6327999999999999,0.6384,0.644,0.6496,0.6551999999999999,0.6607999999999999,0.6664,0.672,0.6775999999999999,0.6831999999999999,0.6888,0.6944,0.7,0.7055999999999999,0.7111999999999999,0.7168,0.7223999999999999,0.728,0.7335999999999999,0.7392,0.7447999999999999,0.7504,0.756,0.7615999999999999,0.7671999999999999,0.7727999999999999,0.7784,0.784,0.7895999999999999,0.7951999999999999,0.8008,0.8064,0.812,0.8175999999999999,0.8231999999999999,0.8288,0.8344,0.84,0.8455999999999999,0.8512,0.8568,0.8623999999999999,0.868,0.8735999999999999,0.8792,0.8847999999999999,0.8904,0.896,0.9016,0.9071999999999999,0.9128,0.9184,0.9239999999999999,0.9295999999999999,0.9351999999999999,0.9408,0.9464,0.9519999999999998,0.9575999999999999,0.9632,0.9688,0.9743999999999999,0.9799999999999999,0.9855999999999999,0.9912,0.9967999999999999,1.0024,1.0079999999999998,1.0135999999999998,1.0191999999999999,1.0248,1.0303999999999998,1.036,1.0415999999999999,1.0472000000000001,1.0528,1.0583999999999998,1.064,1.0695999999999999,1.0751999999999997,1.0808,1.0863999999999998,1.092,1.0976,1.1031999999999997,1.1088,1.1143999999999998,1.12,1.1256,1.1311999999999998,1.1368,1.1423999999999999,1.148,1.1536,1.1591999999999998,1.1648,1.1703999999999999,1.176,1.1816,1.1871999999999998,1.1927999999999999,1.1984,1.204,1.2096,1.2151999999999998,1.2207999999999999,1.2264,1.232,1.2375999999999998,1.2431999999999999,1.2488,1.2544,1.26,1.2655999999999998,1.2711999999999999,1.2768,1.2823999999999998,1.288,1.2935999999999999,1.2992,1.3048,1.3103999999999998,1.316,1.3215999999999999,1.3271999999999997,1.3328,1.3383999999999998,1.344,1.3496,1.3551999999999997,1.3608,1.3663999999999998,1.372,1.3776,1.3831999999999998,1.3888,1.3943999999999999,1.4,1.4056,1.4111999999999998,1.4168,1.4223999999999999,1.428,1.4336,1.4391999999999998,1.4447999999999999,1.4504,1.456,1.4616,1.4671999999999998,1.4727999999999999,1.4784,1.484,1.4895999999999998,1.4951999999999999,1.5008,1.5064,1.512,1.5175999999999998,1.5231999999999999,1.5288,1.5343999999999998,1.54,1.5455999999999999,1.5512,1.5568,1.5623999999999998,1.568,1.5735999999999999,1.5791999999999997,1.5848,1.5903999999999998,1.596,1.6016,1.6071999999999997,1.6128,1.6183999999999998,1.624,1.6296,1.6351999999999998,1.6408,1.6463999999999999,1.652,1.6576,1.6631999999999998,1.6688,1.6743999999999999,1.68,1.6856,1.6911999999999998,1.6967999999999999,1.7024,1.708,1.7136,1.7191999999999998,1.7247999999999999,1.7304,1.736,1.7415999999999998,1.7471999999999999,1.7528,1.7584,1.764,1.7695999999999998,1.7752,1.7808,1.7863999999999998,1.792,1.7975999999999999,1.8032,1.8088,1.8143999999999998,1.8199999999999998,1.8256,1.8311999999999997,1.8368,1.8423999999999998,1.8479999999999999,1.8536,1.8591999999999997,1.8648,1.8703999999999998,1.8759999999999997,1.8816,1.8871999999999998,1.8928,1.8983999999999999,1.9039999999999997,1.9096,1.9151999999999998,1.9208,1.9264,1.9319999999999997,1.9376,1.9431999999999998,1.9487999999999999,1.9544,1.9599999999999997,1.9656,1.9711999999999998,1.9768,1.9824,1.9879999999999998,1.9935999999999998,1.9991999999999999,2.0048,2.0103999999999997,2.0159999999999996,2.0216,2.0271999999999997,2.0328,2.0383999999999998,2.0439999999999996,2.0496,2.0551999999999997,2.0607999999999995,2.0664000000000002,2.072,2.0776,2.0831999999999997,2.0887999999999995,2.0944000000000003,2.1,2.1056,2.1111999999999997,2.1167999999999996,2.1224000000000003,2.128,2.1336,2.1391999999999998,2.1447999999999996,2.1503999999999994,2.156,2.1616,2.1672,2.1727999999999996,2.1783999999999994,2.184,2.1896,2.1952,2.2007999999999996,2.2063999999999995,2.212,2.2176,2.2232,2.2287999999999997,2.2343999999999995,2.24,2.2456,2.2512,2.2567999999999997,2.2623999999999995,2.268,2.2736,2.2792,2.2847999999999997,2.2903999999999995,2.296,2.3016,2.3072,2.3127999999999997,2.3183999999999996,2.324,2.3296,2.3352,2.3407999999999998,2.3463999999999996,2.352,2.3575999999999997,2.3632,2.3688,2.3743999999999996,2.38,2.3855999999999997,2.3912,2.3968,2.4023999999999996,2.408,2.4135999999999997,2.4192,2.4248,2.4303999999999997,2.436,2.4415999999999998,2.4471999999999996,2.4528,2.4583999999999997,2.464,2.4696,2.4751999999999996,2.4808,2.4863999999999997,2.492,2.4976,2.5031999999999996,2.5088,2.5143999999999997,2.52,2.5256,2.5311999999999997,2.5368,2.5423999999999998,2.548,2.5536,2.5591999999999997,2.5647999999999995,2.5704,2.576,2.5816,2.5871999999999997,2.5927999999999995,2.5984,2.604,2.6096,2.6151999999999997,2.6207999999999996,2.6264,2.632,2.6376,2.6431999999999998,2.6487999999999996,2.6543999999999994,2.66,2.6656,2.6712,2.6767999999999996,2.6823999999999995,2.688,2.6936,2.6992,2.7047999999999996,2.7103999999999995,2.716,2.7216,2.7272,2.7327999999999997,2.7383999999999995,2.744,2.7496,2.7552,2.7607999999999997,2.7663999999999995,2.772,2.7776,2.7832,2.7887999999999997,2.7943999999999996],\"xaxis\":\"x\",\"y\":[0.07728880858938969,0.0790223157728623,0.08076706117914233,0.08252226988621873,0.08428715319208016,0.08606090990327998,0.08784272768397577,0.0896317844642693,0.09142724990647423,0.09322828692773871,0.09503405327724525,0.09684370316599666,0.09865638894698317,0.10047126284330155,0.10228747872157544,0.10410419390779523,0.10592057104246526,0.10773577997171287,0.10954899967077794,0.1113594201960683,0.11316624466173042,0.11496869123644946,0.11676599515596542,0.11855741074656166,0.1203422134545551,0.12211970187661327,0.1238891997854964,0.12565005814563052,0.1274016571127304,0.1291434080114943,0.1308747552852429,0.13259517841120932,0.13430419377505357,0.13600135649805378,0.13768626221032385,0.13935854876333129,0.14101789787491878,0.14266403670001135,0.14429673932016843,0.14591582814516593,0.14752117521982852,0.1491127034294133,0.15069038759694367,0.1522542554660332,0.15380438856289944,0.155340922931481,0.15686404973578996,0.15837401572392545,0.15987112354845193,0.16135573193821795,0.1628282557170412,0.16428916566511748,0.16573898821944755,0.16717830501006736,0.1686077522293745,0.17002801983239335,0.17143985056641095,0.17284403882901092,0.17424142935417658,0.17563291572679293,0.17701943872657208,0.17840198450311562,0.17978158258456406,0.1811593037230128,0.18253625758063552,0.18391359026118315,0.18529248169231893,0.1866741428649879,0.18805981293677773,0.189450756206969,0.19084825897171548,0.1922536262684918,0.1936681785196479,0.19509324808556855,0.1965301757385711,0.1979803070692516,0.1994449888375786,0.2009255652814945,0.20242337439628635,0.20393974419835373,0.20547598898737793,0.2070334056211485,0.20861326981755823,0.2102168324983817,0.21184531618956698,0.21349991149276146,0.215181773642707,0.216892019165019,0.21863172264859015,0.2204019136466182,0.22220357371979108,0.22403763363475637,0.22590497073043406,0.22780640646409586,0.22974270414846876,0.2317145668903127,0.2337226357401097,0.23576748806158684,0.23784963612881083,0.23996952595759505,0.24212753637684872,0.2443239783443953,0.24655909451059788,0.2488330590319477,0.2511459776355162,0.25349788793393685,0.2558887599892974,0.258318497123063,0.2607869369678703,0.26329385275575595,0.2658389548361532,0.2684218924157465,0.2710422555110881,0.2736995771037357,0.27639333548653533,0.27912295678866045,0.28188781766599486,0.28468724814254565,0.28752053458771804,0.29038692281352413,0.293285621275108,0.29621580435741074,0.2991766157302703,0.3021671717538905,0.30518656491633533,0.30823386728447993,0.31130813394983753,0.31440840645067014,0.3175337161519786,0.32068308756518965,0.32385554158975705,0.32705009865934725,0.33026578177586696,0.3335016194152732,0.33675664828987906,0.3400299159527505,0.34332048323073444,0.3466274264737241,0.3499498396088632,0.3532868359896082,0.356637550030777,0.3600011386220722,0.3633767823138722,0.36676368627048306,0.37016108098749784,0.3735682227712833,0.3769843939801203,0.38040890302794417,0.38384108415307083,0.3872802969557455,0.3907259257097075,0.39417737845436907,0.3976340858755046,0.4010954999836026,0.40456109260028034,0.4080303536642529,0.4115027893694453,0.41497792014880414,0.4184552785182824,0.4219344067962305,0.42541485471419554,0.42889617693566373,0.4323779304998438,0.4358596722079289,0.43934095596959855,0.44282133012763925,0.44630033477869135,0.44977749910798487,0.45325233875587256,0.45672435323357785,0.46019302340529655,0.4636578090532599,0.46711814654177153,0.47057344659560596,0.47402309220735206,0.4774664366874271,0.48090280186960843,0.48433147648386526,0.487751714707257,0.4911627349025298,0.494563718552849,0.4979538093999224,0.5013321127915095,0.5046976952430228,0.5080495842166651,0.5113867681202189,0.5147081965263115,0.5180127806117094,0.5212993938148512,0.5245668727086645,0.527814018084383,0.5310395962409832,0.5342423404736418,0.5374209527535748,0.5405741055905384,0.5437004440683362,0.5467985880427212,0.5498671344903139,0.552904659996301,0.555909723368116,0.5588808683615886,0.5618166265056248,0.5647155200110029,0.5675760647485573,0.5703967732817504,0.5731761579384891,0.5759127339069634,0.5786050223402899,0.5812515534548477,0.5838508696073889,0.5864015283362288,0.5889021053522369,0.5913511974656601,0.5937474254354277,0.5960894367280107,0.5983759081736391,0.6006055485082762,0.6027771007905387,0.6048893446834968,0.6069410985921186,0.6089312216479964,0.6108586155338913,0.6127222261415235,0.6145210450570334,0.6162541108694565,0.61792051029856,0.6195193791393513,0.621049903021578,0.6225113179834847,0.6239029108600938,0.6252240194872415,0.6264740327234867,0.6276523902930328,0.6287585824535654,0.6297921494939325,0.6307526810672561,0.6316398153660077,0.6324532381462497,0.6331926816089924,0.6338579231472781,0.6344487839682307,0.6349651275998903,0.6354068582931485,0.6357739193296188,0.6360662912466263,0.6362839899909383,0.6364270650131033,0.6364955973145354,0.6364896974596742,0.6364095035657026,0.6362551792823301,0.6360269117742148,0.6357249097185461,0.6353494013302051,0.6349006324267686,0.6343788645454228,0.6337843731235829,0.6331174457546972,0.6323783805303563,0.6315674844793759,0.630685072114085,0.6297314640935255,0.6287069860126582,0.6276119673261399,0.6264467404144867,0.6252116397998275,0.6239070015176613,0.622533162650283,0.6210904610267337,0.619579235093297,0.6179998239577171,0.6163525676093654,0.6146378073167723,0.6128558862029065,0.6110071499977242,0.6090919479664865,0.6071106340114516,0.605063567943512,0.6029511169194187,0.6007736570392791,0.5985315750980157,0.5962252704835926,0.5938551572138296,0.5914216661027728,0.5889252470466769,0.5863663714188247,0.583745534561597,0.581063258363429,0.5783200939075556,0.5755166241787919,0.5726534668139357,0.5697312768808422,0.5667507496706643,0.5637126234873864,0.560617682418303,0.5574667590688909,0.5542607372452004,0.551000554566831,0.5476872049934001,0.5443217412475032,0.5409052771171959,0.5374389896212552,0.5339241210207121,0.530361980660556,0.5267539466258667,0.523101467197271,0.5194060620911225,0.5156693234706139,0.5118929167147188,0.5080785809327905,0.504228129213559,0.5003434485982668,0.49642649976881337,0.49247931644289095,0.4885040044692963,0.4845027406179356,0.48047777106026063,0.47643140953731083,0.47236603521389964,0.4682840902189087,0.46418807687311553,0.460080554607436,0.4559641365759373,0.45184148596947143,0.44771531203720594,0.44358836582482475,0.4394634356395736,0.43534334225372456,0.43123093385941896,0.4271290807891218,0.4230406700172128,0.41896859945943166,0.41491577208800795,0.41088508988139977,0.40687944762850375,0.4029017266081088,0.39895478816519203,0.3950414672062837,0.3911645656368387,0.3873268457639449,0.3835310236881796,0.37977976270864894,0.3760756667654542,0.3724212739438722,0.3688190500645011,0.36527138238342843,0.36178057342625153,0.3583488349793419,0.3549782822612931,0.35167092829686764,0.3484286785150636,0.34525332559212285,0.34214654455942645,0.3391098881951897,0.3361447827178675,0.3332525237979901,0.33043427290394883,0.32769105399597703,0.3250237505812174,0.3224331031413882,0.31991970694312005,0.31748401023956363,0.31512631287037424,0.31284676526564,0.3106453678578097,0.3085219709041095,0.30647627472040384,0.30450783032593354,0.30261604049681834,0.3008001612247436,0.2990593035757638,0.2973924359427218,0.2957983866834042,0.294275847135194,0.292823374995692,0.2914393980575442,0.29012221828452917,0.2888700162148551,0.28768085567657437,0.2865526887990446,0.28548336130348195,0.28447061805482204,0.283512108856374,0.2826053944680922,0.281747952828701,0.28093718546142327,0.2801704240426578,0.2794449371125794,0.2787579369064384,0.2781065862851191,0.2774880057434459,0.276899280474716,0.27633746746997934,0.275799602630745,0.27528270787398174,0.27478379820856746,0.2742998887626864,0.273828001742066,0.2733651732994344,0.27290846029608984,0.2724549469370609,0.2720017512619653,0.27154603147436684,0.27108499209314335,0.27061588991015983,0.2701360397393418,0.26964281994309075,0.2691336777228647,0.26860613416163465,0.26805778900688626,0.26748632518376625,0.2668895130289539,0.26626521423683575,0.2656113855105473,0.26492608191147876,0.26420745990184114,0.2634537800759238,0.26266340957670703,0.2618348241954904,0.2609666101532441,0.2600574655633807,0.2591062015766523,0.25811174320986324,0.25707312986105363,0.255989515514764,0.2548601686419182,0.25368447179976805,0.2524619209382091,0.25119212441964467,0.24987480176036753,0.24850978210222652,0.24709700242408422,0.2456365055032589,0.2441284376378442,0.24257304614137212,0.24097067662189656,0.2393217700580819,0.23762685968535036,0.23588656770559085,0.23410160183428091,0.23227275169920972,0.23040088510523749,0.22848694417975887,0.22653194141366945,0.22453695561274575,0.22250312777437567,0.22043165690457503,0.21832379579014066,0.21618084674065788,0.21400415731491265,0.2117951160459961,0.20955514817911997,0.2072857114357919,0.20498829181763636,0.20266439946267567,0.20031556456641794,0.1979433333795623,0.19554926429355943,0.19313492402465898,0.19070188390643636,0.18825171630010895,0.18578599113125657,0.18330627256083612,0.1808141157976278,0.17831106405848818,0.1757986456820187,0.1732783714004534,0.17075173177379832,0.168220194789451,0.16568520362974412,0.1631481746090721,0.16061049528148819,0.15807352271890318,0.1555385819592709,0.15300696462343555,0.15047992769860744,0.14795869248578603,0.14544444370778756,0.14293832877395948,0.14044145719707718,0.13795490015739126,0.13547969020832404,0.13301682111783725,0.13056724783912277,0.1281318866038831,0.12571161513117662,0.12330727294452677,0.12091966178977251,0.11854954614598047,0.11619765382159804,0.11386467662795612,0.11155127112219743,0.10925805941171103,0.1069856300122169,0.10473453875173153,0.10250530971279018,0.10029843620546493,0.09811438176393966,0.09595358115963576,0.09381644142416665],\"yaxis\":\"y\",\"type\":\"scatter\"},{\"legendgroup\":\"under 2.5\",\"marker\":{\"color\":\"#ffa600\"},\"mode\":\"lines\",\"name\":\"under 2.5\",\"showlegend\":false,\"x\":[0.0,0.0068,0.0136,0.020399999999999998,0.0272,0.034,0.040799999999999996,0.0476,0.0544,0.0612,0.068,0.07479999999999999,0.08159999999999999,0.08839999999999999,0.0952,0.102,0.1088,0.1156,0.1224,0.12919999999999998,0.136,0.14279999999999998,0.14959999999999998,0.1564,0.16319999999999998,0.17,0.17679999999999998,0.18359999999999999,0.1904,0.1972,0.204,0.2108,0.2176,0.22440000000000002,0.2312,0.238,0.2448,0.2516,0.25839999999999996,0.2652,0.272,0.2788,0.28559999999999997,0.2924,0.29919999999999997,0.306,0.3128,0.31959999999999994,0.32639999999999997,0.3332,0.34,0.3468,0.35359999999999997,0.3604,0.36719999999999997,0.374,0.3808,0.38759999999999994,0.3944,0.4012,0.408,0.4148,0.4216,0.4284,0.4352,0.442,0.44880000000000003,0.45559999999999995,0.4624,0.4692,0.476,0.4828,0.4896,0.49639999999999995,0.5032,0.51,0.5167999999999999,0.5236000000000001,0.5304,0.5371999999999999,0.544,0.5508,0.5576,0.5644,0.5711999999999999,0.578,0.5848,0.5916,0.5983999999999999,0.6052,0.612,0.6187999999999999,0.6256,0.6324,0.6391999999999999,0.646,0.6527999999999999,0.6596000000000001,0.6664,0.6731999999999999,0.68,0.6868,0.6936,0.7004,0.7071999999999999,0.714,0.7208,0.7276,0.7343999999999999,0.7412,0.748,0.7547999999999999,0.7616,0.7684,0.7751999999999999,0.782,0.7888,0.7956,0.8024,0.8091999999999999,0.816,0.8228,0.8296,0.8364,0.8432,0.85,0.8568,0.8636,0.8704,0.8772,0.884,0.8907999999999999,0.8976000000000001,0.9044,0.9111999999999999,0.918,0.9248,0.9316,0.9384,0.9451999999999999,0.952,0.9588,0.9656,0.9723999999999999,0.9792,0.986,0.9927999999999999,0.9996,1.0064,1.0131999999999999,1.02,1.0268,1.0335999999999999,1.0403999999999998,1.0472000000000001,1.054,1.0608,1.0675999999999999,1.0743999999999998,1.0812,1.088,1.0948,1.1016,1.1083999999999998,1.1152,1.122,1.1288,1.1356,1.1423999999999999,1.1492,1.156,1.1628,1.1696,1.1764,1.1832,1.19,1.1967999999999999,1.2036,1.2104,1.2172,1.224,1.2308,1.2375999999999998,1.2444,1.2512,1.258,1.2648,1.2715999999999998,1.2783999999999998,1.2852000000000001,1.292,1.2988,1.3055999999999999,1.3123999999999998,1.3192000000000002,1.326,1.3328,1.3396,1.3463999999999998,1.3532,1.36,1.3668,1.3736,1.3803999999999998,1.3872,1.394,1.4008,1.4076,1.4143999999999999,1.4212,1.428,1.4347999999999999,1.4416,1.4484,1.4552,1.462,1.4687999999999999,1.4755999999999998,1.4824,1.4892,1.496,1.5028,1.5095999999999998,1.5164,1.5232,1.53,1.5368,1.5435999999999999,1.5503999999999998,1.5572000000000001,1.564,1.5708,1.5776,1.5843999999999998,1.5912,1.598,1.6048,1.6116,1.6183999999999998,1.6252,1.632,1.6388,1.6456,1.6523999999999999,1.6592,1.666,1.6728,1.6796,1.6864,1.6932,1.7,1.7067999999999999,1.7136,1.7204,1.7272,1.734,1.7408,1.7475999999999998,1.7544,1.7612,1.768,1.7748,1.7815999999999999,1.7883999999999998,1.7952000000000001,1.802,1.8088,1.8155999999999999,1.8223999999999998,1.8292,1.836,1.8428,1.8496,1.8563999999999998,1.8632,1.87,1.8768,1.8836,1.8903999999999999,1.8972,1.904,1.9108,1.9176,1.9243999999999999,1.9312,1.938,1.9447999999999999,1.9516,1.9584,1.9652,1.972,1.9788,1.9855999999999998,1.9924,1.9992,2.006,2.0128,2.0196,2.0263999999999998,2.0332,2.04,2.0468,2.0536,2.0604,2.0671999999999997,2.074,2.0807999999999995,2.0876,2.0944000000000003,2.1012,2.108,2.1148,2.1216,2.1284,2.1351999999999998,2.142,2.1487999999999996,2.1555999999999997,2.1624,2.1692,2.176,2.1828,2.1896,2.1964,2.2032,2.21,2.2167999999999997,2.2236,2.2304,2.2371999999999996,2.244,2.2508,2.2576,2.2644,2.2712,2.278,2.2847999999999997,2.2916,2.2984,2.3051999999999997,2.312,2.3187999999999995,2.3256,2.3324000000000003,2.3392,2.346,2.3528,2.3596,2.3664,2.3731999999999998,2.38,2.3867999999999996,2.3935999999999997,2.4004000000000003,2.4072,2.414,2.4208,2.4276,2.4344,2.4412,2.448,2.4547999999999996,2.4616,2.4684,2.4751999999999996,2.482,2.4888,2.4956,2.5024,2.5092,2.516,2.5227999999999997,2.5296,2.5364,2.5431999999999997,2.55,2.5567999999999995,2.5636,2.5704000000000002,2.5772,2.584,2.5907999999999998,2.5976,2.6044,2.6111999999999997,2.618,2.6247999999999996,2.6315999999999997,2.6384000000000003,2.6452,2.652,2.6588,2.6656,2.6724,2.6792,2.686,2.6927999999999996,2.6995999999999998,2.7064,2.7131999999999996,2.72,2.7268,2.7336,2.7404,2.7472,2.754,2.7607999999999997,2.7676,2.7744,2.7811999999999997,2.788,2.7947999999999995,2.8016,2.8084000000000002,2.8152,2.822,2.8287999999999998,2.8356,2.8424,2.8491999999999997,2.856,2.8627999999999996,2.8695999999999997,2.8764000000000003,2.8832,2.89,2.8968,2.9036,2.9104,2.9172,2.924,2.9307999999999996,2.9375999999999998,2.9444,2.9511999999999996,2.958,2.9648,2.9716,2.9784,2.9852,2.992,2.9987999999999997,3.0056,3.0124,3.0191999999999997,3.026,3.0328,3.0396,3.0464,3.0532,3.06,3.0667999999999997,3.0736,3.0804,3.0871999999999997,3.094,3.1007999999999996,3.1075999999999997,3.1144000000000003,3.1212,3.128,3.1348,3.1416,3.1484,3.1552,3.162,3.1687999999999996,3.1755999999999998,3.1824,3.1892,3.196,3.2028,3.2096,3.2164,3.2232,3.23,3.2367999999999997,3.2436,3.2504,3.2571999999999997,3.264,3.2708,3.2776,3.2844,3.2912,3.298,3.3047999999999997,3.3116,3.3184,3.3251999999999997,3.332,3.3387999999999995,3.3456,3.3524000000000003,3.3592,3.366,3.3728,3.3796,3.3864,3.3931999999999998],\"xaxis\":\"x\",\"y\":[0.039179078157970844,0.0403523659360568,0.041546260766469265,0.042760887906825445,0.04399637904637111,0.04525287220771035,0.046530511576573653,0.04782944726099984,0.04914983498197457,0.05049183569824937,0.05185561516873362,0.053241343456513227,0.05464919437920025,0.056079344910949874,0.05753197454208834,0.05900726460288243,0.060505397558535845,0.06202655628301599,0.063570923319798,0.06513868013805706,0.06673000639323234,0.06834507920122952,0.06998407243582844,0.07164715605909264,0.0733344954947518,0.07504625105464416,0.07678257742834088,0.07854362324604976,0.0803295307247897,0.08214043540764,0.08397646600560464,0.08583774435128097,0.08772438547307221,0.08963649779815952,0.09157418349181409,0.09353753893990303,0.09552665538062308,0.09754161969055988,0.09958251532915288,0.1016494234445061,0.10374242414225102,0.1058615979178419,0.10800702725121689,0.11017879836123941,0.11237700311570102,0.1146017410909689,0.11685312177356184,0.11913126689408225,0.12143631288201064,0.12376841342788339,0.12612774213737565,0.12851449525975864,0.13092889447116252,0.13337118969103254,0.1358416619081572,0.13834062599068525,0.14086843345265426,0.14342547514775422,0.14601218385937173,0.14862903675441902,0.15127655766708725,0.1539553191774869,0.15666594444919552,0.15940910878903192,0.16218554089195017,0.1649960237338351,0.16784139507519164,0.1707225475392654,0.1736404282290874,0.17659603784924272,0.17959042929990848,0.18262470571285216,0.18570001790168716,0.1888175612016901,0.19197857167796678,0.19518432168465735,0.19843611476220663,0.20173527986447562,0.2050831649126402,0.20848112967833513,0.2119305380043876,0.21543274937767748,0.2189891098751109,0.22260094251038237,0.22626953701605093,0.2299961391024388,0.2337819392418566,0.23762806103370454,0.24153554921288672,0.24550535737076498,0.2495383354644014,0.2536352171960557,0.25779660735072735,0.2620229691848813,0.2663146119642927,0.27067167875310694,0.27509413455967174,0.2795817549473675,0.28413411522049453,0.2887505802961923,0.29343029537331566,0.2981721775081307,0.3029749082045796,0.30783692712366495,0.31275642701218537,0.3177313499456552,0.32275938497369394,0.3278379672485484,0.3329642787087076,0.33813525037983405,0.34334756634452207,0.3485976694207588,0.3538817685764823,0.3591958480944215,0.3645356784875037,0.36989682915070404,0.37527468272039105,0.3806644510970549,0.3860611930720645,0.3914598334837893,0.3968551838132908,0.4022419641149333,0.40761482616287814,0.4129683776806224,0.4182972075077532,0.42359591154592463,0.42885911931506615,0.43408152094094726,0.4392578943867003,0.44438313273384605,0.4494522713128447,0.45446051447932484,0.4594032618300118,0.4642761336520689,0.4690749954010479,0.4737959810060231,0.4784355148057798,0.4829903319269931,0.48745749692438806,0.4918344205135167,0.49611887423937484,0.5003090029380928,0.5044033348646128,0.5084007893762456,0.5123006820803165,0.5161027273733984,0.5198070383200121,0.523414123839624,0.526924883192377,0.5303405977759098,0.5336629202676616,0.5368938611690414,0.5400357728295323,0.5430913310499867,0.546063514384844,0.5489555812825974,0.5517710452222506,0.5545136480207344,0.5571873315019134,0.5597962077319202,0.5623445280379048,0.5648366510376731,0.5672770099161745,0.5696700791911747,0.5720203412146496,0.574332252658534,0.5766102112332939,0.5788585228854516,0.5810813697157278,0.5832827788528293,0.5854665925092462,0.5876364394348453,0.5897957079715925,0.591947520898552,0.594094712240659,0.5962398061975848,0.5983849983307085,0.6005321391268551,0.6026827200372072,0.6048378620689802,0.6069983069861624,0.6091644111541197,0.6113361420413591,0.6135130773704152,0.6156944068889303,0.6178789367116417,0.6200650961644445,0.6222509470431253,0.6244341951818211,0.6266122042100949,0.6287820113626291,0.6309403451922702,0.6330836450253754,0.6352080819884459,0.6373095814266814,0.6393838465286144,0.6414263829662689,0.6434325243573806,0.6453974583551084,0.6473162531712914,0.6491838843416355,0.6509952615452042,0.65274525529601,0.6544287233315266,0.6560405365311424,0.6575756042070975,0.6590288986209517,0.6603954785901504,0.661670512061492,0.6628492975412718,0.6639272842851682,0.6649000911648225,0.6657635241418483,0.666513592294054,0.6671465223524905,0.6676587717215476,0.6680470399675749,0.6683082787742589,0.6684397003751007,0.6684387844848511,0.6683032837623066,0.6680312278467545,0.6676209260190904,0.6670709685465607,0.6663802267768556,0.6655478520530524,0.6645732735256267,0.6634561949413471,0.6621965904914701,0.6607946998031694,0.6592510221586788,0.6575663100262189,0.6557415619854355,0.6537780151279344,0.6516771370105604,0.6494406172354351,0.647070358726521,0.6445684687677244,0.6419372498623133,0.6391791904678897,0.636296955655308,0.63329337773395,0.630171446879739,0.6269343017961265,0.62358522043246,0.6201276107782311,0.6165650017462462,0.6129010341525675,0.6091394517961847,0.6052840926370976,0.6013388800675445,0.5973078142678133,0.5931949636353026,0.5890044562733249,0.5847404715246142,0.5804072315335707,0.5760089928209662,0.571550037855183,0.5670346666049648,0.5624671880601516,0.5578519117089514,0.5531931389628055,0.5484951545229738,0.5437622176863461,0.5389985535917989,0.5342083444124723,0.5293957205036248,0.5245647515202252,0.5197194375229188,0.5148637000956282,0.5100013735024743,0.5051361959161367,0.5002718007538846,0.49541170816141583,0.4905593166881881,0.4857178952010645,0.4808905750857858,0.4760803427879162,0.47129003274656045,0.46652232077508893,0.4617797179434866,0.45706456501664494,0.4523790275018824,0.4477250913573029,0.4431045594102182,0.4385190485317641,0.4339699876100819,0.4294586163600285,0.4249859850023695,0.4205529548397377,0.4161601997506043,0.4118082086157729,0.40749728868499663,0.4032275698838519,0.3989990100534336,0.39481140110756346,0.3906643760842672,0.3865574170603399,0.38248986388987366,0.37846092371990353,0.37446968122880847,0.37051510952589733,0.3665960816438621,0.3627113825494703,0.35885972159214796,0.35503974530504634,0.3512500504687739,0.34748919734439104,0.34375572297946144,0.3400481544889891,0.33636502221206627,0.33270487264488563,0.3290662810515846,0.3254478636561389,0.3218482893211657,0.31826629062309236,0.31470067423762677,0.3111503305547652,0.3076142424487487,0.3040914931352205,0.3005812730554768,0.29708288573584196,0.29359575257900355,0.29011941655330636,0.28665354475559673,0.28319792983304265,0.2797524902593967,0.2763172694712366,0.2728924338798307,0.26947826978418293,0.26607517922056756,0.26268367479323557,0.25930437353995733,0.2559379898945453,0.2525853278163419,0.24924727216388562,0.24592477939640361,0.24261886769241123,0.2393306065795072,0.23606110617328296,0.23281150612621643,0.2295829643893593,0.2263766458905872,0.22319371123316326,0.22003530551734363,0.2169025473857718,0.21379651839048563,0.21071825277550785,0.2076687277643163,0.20464885443595526,0.20165946926730915,0.19870132641212962,0.1957750907798525,0.19288133196921572,0.19002051910317164,0.18719301660277116,0.18439908092861432,0.18163885830920048,0.17891238346623012,0.1762195793376118,0.17356025778978867,0.17093412130205093,0.16834076559685807,0.16577968318193206,0.16325026776207693,0.16075181947139558,0.1582835508698894,0.15584459364237835,0.15343400593233503,0.1510507802386065,0.1486938517991608,0.14636210738293262,0.14405439440859413,0.1417695303076384,0.1395063120485285,0.137263525738829,0.13503995622317855,0.13283439659664806,0.13064565755543575,0.12847257650992738,0.12631402638885222,0.1241689240675492,0.12203623835814131,0.11991499750468008,0.1178042961319494,0.1157033016025916,0.1136112597434372,0.11152749990832377,0.109451439351223,0.10738258689006294,0.10532054584819384,0.10326501626692947,0.10121579638891914,0.09917278341825536,0.09713597356908757,0.09510546142010033,0.09308143859743732,0.09106419181348949,0.08905410029339149,0.08705163262503116,0.0850573430718759,0.08307186739092944,0.0810959182006312,0.07913027994552357,0.07717580350600063,0.07523340050245719,0.0733040373436687,0.0713887290692676,0.06948853303577676,0.06760454249481557,0.06573788011085349,0.06388969146428211,0.06206113858361879,0.06025339354841977,0.05846763220195381,0.0567050280099608,0.05496674609888619,0.05325393750390761,0.05156773365388883,0.04990924111713361,0.04827953662852603,0.04667966241535006,0.04511062183582245,0.04357337534118799,0.04206883676912571,0.0405978699732418,0.039161285790603774,0.03775983934660028,0.03639422769394834,0.03506508778038547,0.033772994737531536,0.032518460481561,0.03130193261471665,0.03012379361531676,0.02898436030275682,0.02788388356308932,0.02682254832007003,0.02580047373607754,0.02481771362705009,0.023874257075501816,0.022970029225798827,0.022104892246151135,0.021278646442212574,0.02049103150775229,0.019741727898553253,0.01903035831648641,0.018356489291588802,0.017719632850915885,0.017119248263930662,0.01655474385521377,0.01602547887631151,0.015530765429570381,0.015069870437814782,0.014642017654702445,0.014246389711518639,0.013882130197038316,0.013548345767881732,0.013244108287504188,0.012968456992587613,0.012720400686131615,0.01249891995697368,0.01230296942579403,0.012131480017880418,0.011983361263045363,0.01185750362309533,0.011752780847160294,0.011668052355000288,0.011602165648122276,0.011553958748168499,0.011522262661589448,0.01150590386909325,0.01150370683778406,0.011514496553269273,0.011537101068345707,0.011570354064175909,0.011613097419148915,0.011664183779901938,0.011722479128264084,0.01178686533719198,0.011856242708102378,0.011929532481387976,0.01200567931133244,0.01208365369613772,0.012162454353341325,0.012241110530549734,0.01231868424114872,0.012394272414480545,0.0124670089499066,0.012536066664206315,0.01260065912190063,0.012660042338334647,0.012713516345706971,0.01276042661269263,0.012800165308870608,0.012832172405830962,0.012855936607594773,0.012870996103828934,0.01287693914026771,0.012873404401755792,0.012860081204396277],\"yaxis\":\"y\",\"type\":\"scatter\"}],                        {\"barmode\":\"overlay\",\"hovermode\":\"closest\",\"legend\":{\"traceorder\":\"reversed\"},\"xaxis\":{\"anchor\":\"y2\",\"domain\":[0.0,1.0],\"zeroline\":false,\"range\":[0,5]},\"yaxis\":{\"anchor\":\"free\",\"domain\":[0.0,1],\"position\":0.0},\"template\":{\"data\":{\"bar\":[{\"error_x\":{\"color\":\"#2a3f5f\"},\"error_y\":{\"color\":\"#2a3f5f\"},\"marker\":{\"line\":{\"color\":\"#E5ECF6\",\"width\":0.5},\"pattern\":{\"fillmode\":\"overlay\",\"size\":10,\"solidity\":0.2}},\"type\":\"bar\"}],\"barpolar\":[{\"marker\":{\"line\":{\"color\":\"#E5ECF6\",\"width\":0.5},\"pattern\":{\"fillmode\":\"overlay\",\"size\":10,\"solidity\":0.2}},\"type\":\"barpolar\"}],\"carpet\":[{\"aaxis\":{\"endlinecolor\":\"#2a3f5f\",\"gridcolor\":\"white\",\"linecolor\":\"white\",\"minorgridcolor\":\"white\",\"startlinecolor\":\"#2a3f5f\"},\"baxis\":{\"endlinecolor\":\"#2a3f5f\",\"gridcolor\":\"white\",\"linecolor\":\"white\",\"minorgridcolor\":\"white\",\"startlinecolor\":\"#2a3f5f\"},\"type\":\"carpet\"}],\"choropleth\":[{\"colorbar\":{\"outlinewidth\":0,\"ticks\":\"\"},\"type\":\"choropleth\"}],\"contour\":[{\"colorbar\":{\"outlinewidth\":0,\"ticks\":\"\"},\"colorscale\":[[0.0,\"#0d0887\"],[0.1111111111111111,\"#46039f\"],[0.2222222222222222,\"#7201a8\"],[0.3333333333333333,\"#9c179e\"],[0.4444444444444444,\"#bd3786\"],[0.5555555555555556,\"#d8576b\"],[0.6666666666666666,\"#ed7953\"],[0.7777777777777778,\"#fb9f3a\"],[0.8888888888888888,\"#fdca26\"],[1.0,\"#f0f921\"]],\"type\":\"contour\"}],\"contourcarpet\":[{\"colorbar\":{\"outlinewidth\":0,\"ticks\":\"\"},\"type\":\"contourcarpet\"}],\"heatmap\":[{\"colorbar\":{\"outlinewidth\":0,\"ticks\":\"\"},\"colorscale\":[[0.0,\"#0d0887\"],[0.1111111111111111,\"#46039f\"],[0.2222222222222222,\"#7201a8\"],[0.3333333333333333,\"#9c179e\"],[0.4444444444444444,\"#bd3786\"],[0.5555555555555556,\"#d8576b\"],[0.6666666666666666,\"#ed7953\"],[0.7777777777777778,\"#fb9f3a\"],[0.8888888888888888,\"#fdca26\"],[1.0,\"#f0f921\"]],\"type\":\"heatmap\"}],\"heatmapgl\":[{\"colorbar\":{\"outlinewidth\":0,\"ticks\":\"\"},\"colorscale\":[[0.0,\"#0d0887\"],[0.1111111111111111,\"#46039f\"],[0.2222222222222222,\"#7201a8\"],[0.3333333333333333,\"#9c179e\"],[0.4444444444444444,\"#bd3786\"],[0.5555555555555556,\"#d8576b\"],[0.6666666666666666,\"#ed7953\"],[0.7777777777777778,\"#fb9f3a\"],[0.8888888888888888,\"#fdca26\"],[1.0,\"#f0f921\"]],\"type\":\"heatmapgl\"}],\"histogram\":[{\"marker\":{\"pattern\":{\"fillmode\":\"overlay\",\"size\":10,\"solidity\":0.2}},\"type\":\"histogram\"}],\"histogram2d\":[{\"colorbar\":{\"outlinewidth\":0,\"ticks\":\"\"},\"colorscale\":[[0.0,\"#0d0887\"],[0.1111111111111111,\"#46039f\"],[0.2222222222222222,\"#7201a8\"],[0.3333333333333333,\"#9c179e\"],[0.4444444444444444,\"#bd3786\"],[0.5555555555555556,\"#d8576b\"],[0.6666666666666666,\"#ed7953\"],[0.7777777777777778,\"#fb9f3a\"],[0.8888888888888888,\"#fdca26\"],[1.0,\"#f0f921\"]],\"type\":\"histogram2d\"}],\"histogram2dcontour\":[{\"colorbar\":{\"outlinewidth\":0,\"ticks\":\"\"},\"colorscale\":[[0.0,\"#0d0887\"],[0.1111111111111111,\"#46039f\"],[0.2222222222222222,\"#7201a8\"],[0.3333333333333333,\"#9c179e\"],[0.4444444444444444,\"#bd3786\"],[0.5555555555555556,\"#d8576b\"],[0.6666666666666666,\"#ed7953\"],[0.7777777777777778,\"#fb9f3a\"],[0.8888888888888888,\"#fdca26\"],[1.0,\"#f0f921\"]],\"type\":\"histogram2dcontour\"}],\"mesh3d\":[{\"colorbar\":{\"outlinewidth\":0,\"ticks\":\"\"},\"type\":\"mesh3d\"}],\"parcoords\":[{\"line\":{\"colorbar\":{\"outlinewidth\":0,\"ticks\":\"\"}},\"type\":\"parcoords\"}],\"pie\":[{\"automargin\":true,\"type\":\"pie\"}],\"scatter\":[{\"marker\":{\"colorbar\":{\"outlinewidth\":0,\"ticks\":\"\"}},\"type\":\"scatter\"}],\"scatter3d\":[{\"line\":{\"colorbar\":{\"outlinewidth\":0,\"ticks\":\"\"}},\"marker\":{\"colorbar\":{\"outlinewidth\":0,\"ticks\":\"\"}},\"type\":\"scatter3d\"}],\"scattercarpet\":[{\"marker\":{\"colorbar\":{\"outlinewidth\":0,\"ticks\":\"\"}},\"type\":\"scattercarpet\"}],\"scattergeo\":[{\"marker\":{\"colorbar\":{\"outlinewidth\":0,\"ticks\":\"\"}},\"type\":\"scattergeo\"}],\"scattergl\":[{\"marker\":{\"colorbar\":{\"outlinewidth\":0,\"ticks\":\"\"}},\"type\":\"scattergl\"}],\"scattermapbox\":[{\"marker\":{\"colorbar\":{\"outlinewidth\":0,\"ticks\":\"\"}},\"type\":\"scattermapbox\"}],\"scatterpolar\":[{\"marker\":{\"colorbar\":{\"outlinewidth\":0,\"ticks\":\"\"}},\"type\":\"scatterpolar\"}],\"scatterpolargl\":[{\"marker\":{\"colorbar\":{\"outlinewidth\":0,\"ticks\":\"\"}},\"type\":\"scatterpolargl\"}],\"scatterternary\":[{\"marker\":{\"colorbar\":{\"outlinewidth\":0,\"ticks\":\"\"}},\"type\":\"scatterternary\"}],\"surface\":[{\"colorbar\":{\"outlinewidth\":0,\"ticks\":\"\"},\"colorscale\":[[0.0,\"#0d0887\"],[0.1111111111111111,\"#46039f\"],[0.2222222222222222,\"#7201a8\"],[0.3333333333333333,\"#9c179e\"],[0.4444444444444444,\"#bd3786\"],[0.5555555555555556,\"#d8576b\"],[0.6666666666666666,\"#ed7953\"],[0.7777777777777778,\"#fb9f3a\"],[0.8888888888888888,\"#fdca26\"],[1.0,\"#f0f921\"]],\"type\":\"surface\"}],\"table\":[{\"cells\":{\"fill\":{\"color\":\"#EBF0F8\"},\"line\":{\"color\":\"white\"}},\"header\":{\"fill\":{\"color\":\"#C8D4E3\"},\"line\":{\"color\":\"white\"}},\"type\":\"table\"}]},\"layout\":{\"annotationdefaults\":{\"arrowcolor\":\"#2a3f5f\",\"arrowhead\":0,\"arrowwidth\":1},\"autotypenumbers\":\"strict\",\"coloraxis\":{\"colorbar\":{\"outlinewidth\":0,\"ticks\":\"\"}},\"colorscale\":{\"diverging\":[[0,\"#8e0152\"],[0.1,\"#c51b7d\"],[0.2,\"#de77ae\"],[0.3,\"#f1b6da\"],[0.4,\"#fde0ef\"],[0.5,\"#f7f7f7\"],[0.6,\"#e6f5d0\"],[0.7,\"#b8e186\"],[0.8,\"#7fbc41\"],[0.9,\"#4d9221\"],[1,\"#276419\"]],\"sequential\":[[0.0,\"#0d0887\"],[0.1111111111111111,\"#46039f\"],[0.2222222222222222,\"#7201a8\"],[0.3333333333333333,\"#9c179e\"],[0.4444444444444444,\"#bd3786\"],[0.5555555555555556,\"#d8576b\"],[0.6666666666666666,\"#ed7953\"],[0.7777777777777778,\"#fb9f3a\"],[0.8888888888888888,\"#fdca26\"],[1.0,\"#f0f921\"]],\"sequentialminus\":[[0.0,\"#0d0887\"],[0.1111111111111111,\"#46039f\"],[0.2222222222222222,\"#7201a8\"],[0.3333333333333333,\"#9c179e\"],[0.4444444444444444,\"#bd3786\"],[0.5555555555555556,\"#d8576b\"],[0.6666666666666666,\"#ed7953\"],[0.7777777777777778,\"#fb9f3a\"],[0.8888888888888888,\"#fdca26\"],[1.0,\"#f0f921\"]]},\"colorway\":[\"#636efa\",\"#EF553B\",\"#00cc96\",\"#ab63fa\",\"#FFA15A\",\"#19d3f3\",\"#FF6692\",\"#B6E880\",\"#FF97FF\",\"#FECB52\"],\"font\":{\"color\":\"#2a3f5f\"},\"geo\":{\"bgcolor\":\"white\",\"lakecolor\":\"white\",\"landcolor\":\"#E5ECF6\",\"showlakes\":true,\"showland\":true,\"subunitcolor\":\"white\"},\"hoverlabel\":{\"align\":\"left\"},\"hovermode\":\"closest\",\"mapbox\":{\"style\":\"light\"},\"paper_bgcolor\":\"white\",\"plot_bgcolor\":\"#E5ECF6\",\"polar\":{\"angularaxis\":{\"gridcolor\":\"white\",\"linecolor\":\"white\",\"ticks\":\"\"},\"bgcolor\":\"#E5ECF6\",\"radialaxis\":{\"gridcolor\":\"white\",\"linecolor\":\"white\",\"ticks\":\"\"}},\"scene\":{\"xaxis\":{\"backgroundcolor\":\"#E5ECF6\",\"gridcolor\":\"white\",\"gridwidth\":2,\"linecolor\":\"white\",\"showbackground\":true,\"ticks\":\"\",\"zerolinecolor\":\"white\"},\"yaxis\":{\"backgroundcolor\":\"#E5ECF6\",\"gridcolor\":\"white\",\"gridwidth\":2,\"linecolor\":\"white\",\"showbackground\":true,\"ticks\":\"\",\"zerolinecolor\":\"white\"},\"zaxis\":{\"backgroundcolor\":\"#E5ECF6\",\"gridcolor\":\"white\",\"gridwidth\":2,\"linecolor\":\"white\",\"showbackground\":true,\"ticks\":\"\",\"zerolinecolor\":\"white\"}},\"shapedefaults\":{\"line\":{\"color\":\"#2a3f5f\"}},\"ternary\":{\"aaxis\":{\"gridcolor\":\"white\",\"linecolor\":\"white\",\"ticks\":\"\"},\"baxis\":{\"gridcolor\":\"white\",\"linecolor\":\"white\",\"ticks\":\"\"},\"bgcolor\":\"#E5ECF6\",\"caxis\":{\"gridcolor\":\"white\",\"linecolor\":\"white\",\"ticks\":\"\"}},\"title\":{\"x\":0.05},\"xaxis\":{\"automargin\":true,\"gridcolor\":\"white\",\"linecolor\":\"white\",\"ticks\":\"\",\"title\":{\"standoff\":15},\"zerolinecolor\":\"white\",\"zerolinewidth\":2},\"yaxis\":{\"automargin\":true,\"gridcolor\":\"white\",\"linecolor\":\"white\",\"ticks\":\"\",\"title\":{\"standoff\":15},\"zerolinecolor\":\"white\",\"zerolinewidth\":2}}},\"title\":{\"text\":\"Distplot with Normal Distribution : navgGoalConcededHome\"}},                        {\"responsive\": true}                    ).then(function(){\n",
              "                            \n",
              "var gd = document.getElementById('846cd028-fb44-4732-9d00-87100ff63b7f');\n",
              "var x = new MutationObserver(function (mutations, observer) {{\n",
              "        var display = window.getComputedStyle(gd).display;\n",
              "        if (!display || display === 'none') {{\n",
              "            console.log([gd, 'removed!']);\n",
              "            Plotly.purge(gd);\n",
              "            observer.disconnect();\n",
              "        }}\n",
              "}});\n",
              "\n",
              "// Listen for the removal of the full notebook cells\n",
              "var notebookContainer = gd.closest('#notebook-container');\n",
              "if (notebookContainer) {{\n",
              "    x.observe(notebookContainer, {childList: true});\n",
              "}}\n",
              "\n",
              "// Listen for the clearing of the current output cell\n",
              "var outputEl = gd.closest('.output');\n",
              "if (outputEl) {{\n",
              "    x.observe(outputEl, {childList: true});\n",
              "}}\n",
              "\n",
              "                        })                };                            </script>        </div>\n",
              "</body>\n",
              "</html>"
            ]
          },
          "metadata": {}
        }
      ]
    },
    {
      "cell_type": "code",
      "source": [
        "\n",
        "lis=[features.navgGoalAway[data['target']==1], features.navgGoalAway[data['target']==0]]\n",
        "group_labels=['over 2.5','under 2.5']\n",
        "colors = ['#003f5c', '#ffa600']\n",
        "# Create distplot \n",
        "fig = ff.create_distplot(lis, group_labels, bin_size=20,show_rug=False,\n",
        "                         curve_type='kde', # override default 'kde'\n",
        "                         colors=colors)\n",
        "\n",
        "# Add title\n",
        "fig.update_layout(xaxis_range=[0,5])\n",
        "fig.update_layout(title_text='Distplot with Normal Distribution: navggoalaway')\n",
        "fig.show()"
      ],
      "metadata": {
        "colab": {
          "base_uri": "https://localhost:8080/",
          "height": 542
        },
        "id": "QpIpe2wCKoiX",
        "outputId": "106d3a15-7327-4019-82e9-b1a3962de645"
      },
      "execution_count": 531,
      "outputs": [
        {
          "output_type": "display_data",
          "data": {
            "text/html": [
              "<html>\n",
              "<head><meta charset=\"utf-8\" /></head>\n",
              "<body>\n",
              "    <div>            <script src=\"https://cdnjs.cloudflare.com/ajax/libs/mathjax/2.7.5/MathJax.js?config=TeX-AMS-MML_SVG\"></script><script type=\"text/javascript\">if (window.MathJax) {MathJax.Hub.Config({SVG: {font: \"STIX-Web\"}});}</script>                <script type=\"text/javascript\">window.PlotlyConfig = {MathJaxConfig: 'local'};</script>\n",
              "        <script src=\"https://cdn.plot.ly/plotly-2.8.3.min.js\"></script>                <div id=\"496ffa3d-4378-47e7-9eed-1536a464b705\" class=\"plotly-graph-div\" style=\"height:525px; width:100%;\"></div>            <script type=\"text/javascript\">                                    window.PLOTLYENV=window.PLOTLYENV || {};                                    if (document.getElementById(\"496ffa3d-4378-47e7-9eed-1536a464b705\")) {                    Plotly.newPlot(                        \"496ffa3d-4378-47e7-9eed-1536a464b705\",                        [{\"autobinx\":false,\"histnorm\":\"probability density\",\"legendgroup\":\"over 2.5\",\"marker\":{\"color\":\"#003f5c\"},\"name\":\"over 2.5\",\"opacity\":0.7,\"x\":[0.8,2.0,2.0,1.4,2.6,1.2,1.6,1.6,2.4,0.8,2.4,0.8,1.4,1.2,1.4,1.0,1.0,0.8,1.4,2.0,2.2,1.4,1.2,1.4,1.2,1.6,0.4,1.6,1.6,1.0,2.0,0.8,2.6,1.6,2.0,0.8,1.6,0.8,1.0,1.0,0.4,0.4,2.0,0.8,0.8,0.6,1.2,1.0,1.4,1.8,1.4,0.8,0.6,1.4,0.6,0.6,2.8,0.6,1.8,1.2,1.2,0.8,0.8,1.4,1.2,0.6,0.6,1.6,2.0,1.0,2.2,1.0,1.2,1.4,1.4,2.0,1.8,2.0,0.6,0.8,2.0,2.0,0.2,1.4,2.2,1.8,1.0,1.4,1.2,2.0,1.6,1.6,1.8,1.0,2.0,2.2,0.2,2.2,2.0,0.8,2.6,1.8,1.0,0.6,0.6,3.0,1.6,1.0,2.4,1.6,1.4,1.4,2.0,0.4,1.8,0.2,0.6,2.6,1.2,2.2,0.4,2.0,1.6,1.0,1.8,2.2,1.4,1.4,2.8,2.0,3.0,1.2,1.4,1.4,1.8,2.2,2.8,2.0,1.0,0.8,1.6,1.0,1.6,1.2,1.0,2.0,2.0,1.0,1.0,1.0,1.6,2.6,1.8,1.6,1.0,2.4,1.2,1.6,1.0,1.8,2.0,2.2,1.0,1.2,0.8,1.6,1.4,2.4,3.0,0.6,2.2,1.6,2.8,2.4,2.0,0.8,0.8,1.0,1.6,1.2],\"xaxis\":\"x\",\"xbins\":{\"end\":3.0,\"size\":20,\"start\":0.2},\"yaxis\":\"y\",\"type\":\"histogram\"},{\"autobinx\":false,\"histnorm\":\"probability density\",\"legendgroup\":\"under 2.5\",\"marker\":{\"color\":\"#ffa600\"},\"name\":\"under 2.5\",\"opacity\":0.7,\"x\":[1.6,0.6,2.6,1.0,2.0,0.6,2.8,1.0,0.6,2.0,0.6,0.8,0.6,2.4,1.4,0.8,1.6,0.4,0.4,0.2,0.6,2.6,2.0,0.4,1.4,1.6,0.6,1.0,2.2,0.8,1.2,1.0,1.0,1.2,0.4,1.2,1.2,1.4,0.8,1.6,1.2,1.0,1.0,1.2,0.6,1.4,2.0,1.6,1.0,1.6,1.6,1.8,1.6,0.6,1.2,1.0,1.2,1.8,2.0,0.4,0.8,1.6,0.8,0.8,2.2,0.2,2.6,1.6,1.0,2.0,1.4,1.0,1.4,1.2,1.4,1.8,1.0,2.2,1.0,0.2,1.0,1.0,2.0,2.0,0.2,1.6,1.6,0.4,1.2,2.0,0.2,1.4,2.2,1.6,1.0,1.4,1.0,1.4,2.0,1.8,2.6,0.8,1.2,1.8,1.0,1.2,1.2,1.0,2.2,1.2,1.4,1.0,1.0,2.6,1.8,1.0,1.2,1.4,1.6,1.2,1.8,1.0,3.0,1.6,1.2,1.8,1.8,2.6,1.8,0.8,2.2,1.4,1.4,1.8,1.4,1.8,0.8,1.6,2.0,1.2,0.8,3.2,1.6,1.6,1.4,2.4,1.6,1.4,2.0],\"xaxis\":\"x\",\"xbins\":{\"end\":3.2,\"size\":20,\"start\":0.2},\"yaxis\":\"y\",\"type\":\"histogram\"},{\"legendgroup\":\"over 2.5\",\"marker\":{\"color\":\"#003f5c\"},\"mode\":\"lines\",\"name\":\"over 2.5\",\"showlegend\":false,\"x\":[0.2,0.2056,0.2112,0.2168,0.22240000000000001,0.228,0.2336,0.23920000000000002,0.24480000000000002,0.2504,0.256,0.2616,0.2672,0.27280000000000004,0.2784,0.28400000000000003,0.2896,0.2952,0.3008,0.3064,0.312,0.3176,0.3232,0.3288,0.3344,0.34,0.3456,0.3512,0.3568,0.3624,0.368,0.37360000000000004,0.3792,0.38480000000000003,0.39039999999999997,0.396,0.4016,0.4072,0.4128,0.4184,0.42400000000000004,0.4296,0.43520000000000003,0.44079999999999997,0.4464,0.45199999999999996,0.45759999999999995,0.4632,0.46879999999999994,0.4744,0.48000000000000004,0.4856,0.4912,0.49679999999999996,0.5024,0.508,0.5136000000000001,0.5192,0.5247999999999999,0.5304,0.536,0.5416,0.5472,0.5528,0.5584,0.5640000000000001,0.5696,0.5751999999999999,0.5808,0.5864,0.5920000000000001,0.5975999999999999,0.6032,0.6088,0.6144000000000001,0.62,0.6255999999999999,0.6312,0.6368,0.6424,0.648,0.6536,0.6592,0.6648,0.6704,0.6759999999999999,0.6816,0.6872,0.6928,0.6983999999999999,0.704,0.7096,0.7151999999999998,0.7207999999999999,0.7263999999999999,0.732,0.7375999999999998,0.7431999999999999,0.7487999999999999,0.7544,0.76,0.7655999999999998,0.7711999999999999,0.7767999999999999,0.7824,0.788,0.7935999999999999,0.7991999999999999,0.8048,0.8104,0.8160000000000001,0.8215999999999999,0.8271999999999999,0.8328,0.8384,0.8440000000000001,0.8495999999999999,0.8552,0.8608,0.8664000000000001,0.8720000000000001,0.8775999999999999,0.8832,0.8888,0.8944000000000001,0.8999999999999999,0.9056,0.9112,0.9168000000000001,0.9223999999999999,0.9279999999999999,0.9336,0.9392,0.9447999999999999,0.9503999999999999,0.956,0.9616,0.9671999999999998,0.9727999999999999,0.9783999999999999,0.984,0.9895999999999998,0.9951999999999999,1.0008,1.0064,1.012,1.0175999999999998,1.0231999999999999,1.0288,1.0344,1.04,1.0455999999999999,1.0512,1.0568,1.0624,1.068,1.0735999999999999,1.0792,1.0848,1.0904,1.096,1.1016,1.1072,1.1128,1.1184,1.1239999999999999,1.1296,1.1352,1.1408,1.1464,1.152,1.1576,1.1632,1.1688,1.1743999999999999,1.18,1.1856,1.1912,1.1967999999999999,1.2024,1.2079999999999997,1.2135999999999998,1.2191999999999998,1.2247999999999999,1.2303999999999997,1.236,1.2415999999999998,1.2472,1.2528,1.2583999999999997,1.264,1.2695999999999998,1.2751999999999997,1.2808,1.2863999999999998,1.292,1.2975999999999999,1.3031999999999997,1.3088,1.3143999999999998,1.32,1.3256,1.3311999999999997,1.3368,1.3423999999999998,1.3479999999999999,1.3536,1.3591999999999997,1.3648,1.3703999999999998,1.376,1.3816,1.3871999999999998,1.3927999999999998,1.3983999999999999,1.404,1.4096,1.4151999999999998,1.4207999999999998,1.4264,1.432,1.4375999999999998,1.4431999999999998,1.4487999999999999,1.4544,1.46,1.4655999999999998,1.4711999999999998,1.4768,1.4823999999999997,1.488,1.4935999999999998,1.4991999999999999,1.5048,1.5103999999999997,1.516,1.5215999999999998,1.5271999999999997,1.5328,1.5383999999999998,1.544,1.5495999999999999,1.5551999999999997,1.5608,1.5663999999999998,1.572,1.5776,1.5831999999999997,1.5888,1.5943999999999998,1.5999999999999999,1.6056,1.6111999999999997,1.6168,1.6223999999999998,1.628,1.6336,1.6391999999999998,1.6447999999999998,1.6503999999999999,1.656,1.6616,1.6671999999999998,1.6727999999999998,1.6784,1.684,1.6895999999999998,1.6951999999999998,1.7007999999999999,1.7064,1.712,1.7175999999999998,1.7231999999999998,1.7288,1.7343999999999997,1.74,1.7455999999999998,1.7511999999999999,1.7568,1.7623999999999997,1.768,1.7735999999999998,1.7791999999999997,1.7848,1.7903999999999998,1.796,1.8015999999999999,1.8071999999999997,1.8128,1.8183999999999998,1.824,1.8296,1.8351999999999997,1.8408,1.8463999999999998,1.8519999999999999,1.8576,1.8631999999999997,1.8688,1.8743999999999998,1.88,1.8856,1.8911999999999998,1.8967999999999998,1.9023999999999999,1.908,1.9136,1.9191999999999998,1.9247999999999998,1.9304,1.936,1.9415999999999998,1.9471999999999998,1.9527999999999999,1.9584,1.964,1.9695999999999998,1.9751999999999998,1.9808,1.9863999999999997,1.992,1.9975999999999998,2.0032,2.0088,2.0143999999999997,2.02,2.0256,2.0311999999999997,2.0368,2.0423999999999998,2.048,2.0536,2.0591999999999997,2.0648,2.0704,2.0759999999999996,2.0816,2.0871999999999997,2.0928,2.0984,2.1039999999999996,2.1096,2.1151999999999997,2.1208,2.1264,2.1319999999999997,2.1376,2.1431999999999998,2.1488,2.1544,2.1599999999999997,2.1656,2.1712,2.1768,2.1824,2.1879999999999997,2.1936,2.1992,2.2048,2.2104,2.2159999999999997,2.2216,2.2272,2.2328,2.2384,2.2439999999999998,2.2496,2.2552,2.2607999999999997,2.2664000000000004,2.2720000000000002,2.2776,2.2832,2.2887999999999997,2.2944000000000004,2.3000000000000003,2.3056,2.3112,2.3167999999999997,2.3224000000000005,2.3280000000000003,2.3336,2.3392,2.3447999999999998,2.3503999999999996,2.3560000000000003,2.3616,2.3672,2.3728,2.3783999999999996,2.3840000000000003,2.3896,2.3952,2.4008,2.4063999999999997,2.4120000000000004,2.4176,2.4232,2.4288,2.4343999999999997,2.4400000000000004,2.4456,2.4512,2.4568,2.4623999999999997,2.468,2.4736000000000002,2.4792,2.4848,2.4903999999999997,2.496,2.5016000000000003,2.5072,2.5128,2.5183999999999997,2.524,2.5296000000000003,2.5352,2.5408,2.5463999999999998,2.552,2.5576,2.5632,2.5688,2.5744,2.58,2.5856,2.5912,2.5968,2.6024,2.608,2.6136,2.6192,2.6248,2.6304,2.636,2.6416,2.6471999999999998,2.6528,2.6584,2.664,2.6696,2.6752,2.6808,2.6864,2.692,2.6976,2.7032,2.7088,2.7144,2.72,2.7256,2.7312,2.7368,2.7424,2.748,2.7536,2.7592,2.7647999999999997,2.7704,2.7760000000000002,2.7816,2.7872,2.7927999999999997,2.7984,2.8040000000000003,2.8096,2.8152,2.8207999999999998,2.8264,2.8320000000000003,2.8376,2.8432,2.8487999999999998,2.8543999999999996,2.8600000000000003,2.8656,2.8712,2.8768,2.8823999999999996,2.8880000000000003,2.8936,2.8992,2.9048,2.9103999999999997,2.9160000000000004,2.9216,2.9272,2.9328,2.9383999999999997,2.9440000000000004,2.9496,2.9552,2.9608,2.9663999999999997,2.972,2.9776000000000002,2.9832,2.9888,2.9943999999999997],\"xaxis\":\"x\",\"y\":[0.09271653053595898,0.09491774314240509,0.09715129886792115,0.09941737668748439,0.10171615383101376,0.10404780513708672,0.10641250236041473,0.10881041343490638,0.11124170169438521,0.11370652505325145,0.11620503514960295,0.11873737645352768,0.12130368534347978,0.12390408915381106,0.12653870519670873,0.12920763976190916,0.1319109870976996,0.13464882837680994,0.1374212306508889,0.14022824579731882,0.1430699094621744,0.14594624000314127,0.14885723743623186,0.1518028823901058,0.15478313507176863,0.1577979342473705,0.16084719624174856,0.1639308139602668,0.16704865593638824,0.1702005654083026,0.17338635942777245,0.17660582800422503,0.17985873328692978,0.1831448087879305,0.1864637586482159,0.18981525694939583,0.1931989470729701,0.19661444110904466,0.20006131931614574,0.2035391296335667,0.20704738724746297,0.21058557421169585,0.21415313912422088,0.21774949685959155,0.22137402835797726,0.2250260804708704,0.22870496586349082,0.23240996297372185,0.23614031602724275,0.23989523510837582,0.2436738962860326,0.2474754417940156,0.25129898026484027,0.2551435870161232,0.2590083043885425,0.2628921421342939,0.2667940778549226,0.27071305748741614,0.2746479958373791,0.2785977771581911,0.28256125577498437,0.28653725675239344,0.29052457660503306,0.2945219840497258,0.29852822079858854,0.3025420023921785,0.30656201907194863,0.31058693669142445,0.3146153976655674,0.3186460219579314,0.3226774081053151,0.32670813427973416,0.33073675938764646,0.33476182420646583,0.3387818525585148,0.34279535252264764,0.3468008176838777,0.35079672842140125,0.3547815532354956,0.3587537501137957,0.36271176793750753,0.36665404792810985,0.3705790251351281,0.37448512996549604,0.3783707897550211,0.3822344303823662,0.3860744779259163,0.3898893603637212,0.3936775093166509,0.39743736183466494,0.40116736222595956,0.4048659639285464,0.4085316314235455,0.41216284218928345,0.4157580886949617,0.41931588043238316,0.4228347459839189,0.42631323512455244,0.42974992095547865,0.4331434020664211,0.4364923047233829,0.4397952850782414,0.4430510313961388,0.4462582662962849,0.44941574900134607,0.4525222775902279,0.45557669124868355,0.4585778725117338,0.46152474949162486,0.46441629808457685,0.467251544149325,0.47002956565011444,0.47274949475648703,0.4754105198919914,0.478011887723665,0.4805529050839617,0.4830329408166277,0.48545142753792164,0.4878078633044423,0.4901018131788579,0.49233291068479096,0.49450085914216513,0.4966054328744684,0.49864647827948866,0.5006239147553284,0.5025377354737346,0.5043880079931107,0.5061748747039424,0.507898553099763,0.5095593358672849,0.5111575907898258,0.5126937604587378,0.5141683617881299,0.515581985328893,0.5169352943787058,0.5182290238854191,0.5194639791420688,0.520641034272513,0.5217611305075571,0.522825274252327,0.5238345349464968,0.5247900427199186,0.5256929858470863,0.5265446080048676,0.5273462053387498,0.5280991233439065,0.5288047535682004,0.5294645301452022,0.5300799261661957,0.5306524499009746,0.5311836408780906,0.531675065836018,0.5321283145574653,0.5325449955997703,0.532926731935007,0.5332751565140537,0.533591907769414,0.5338786250721372,0.5341369441585674,0.5343684925430753,0.5345748849332258,0.5347577186640312,0.5349185691681706,0.5350589854990868,0.5351804859239039,0.5352845536030588,0.5353726323733479,0.5354461226509534,0.5355063774706126,0.535554698676808,0.5355923332823557,0.5356204700092762,0.5356402360262115,0.5356526938960317,0.5356588387465026,0.5356595956761323,0.5356558174064474,0.5356482821910639,0.5356376919909411,0.5356246709242247,0.5356097639980362,0.5355934361284923,0.5355760714540964,0.5355579729465574,0.5355393623218546,0.5355203802532678,0.5355010868868109,0.5354814626584008,0.5354614094107804,0.5354407518071311,0.5354192390370248,0.5353965468092317,0.5353722796247361,0.5353459733221513,0.5353170978866654,0.5352850605124864,0.5352492089078088,0.5352088348302492,0.5351631778397664,0.5351114292551874,0.5350527362995491,0.5349862064187343,0.5349109117570535,0.5348258937728047,0.5347301679761591,0.534622728771201,0.5345025543834473,0.5343686118537215,0.5342198620789288,0.5340552648799917,0.5338737840769706,0.5336743925512891,0.5334560772748895,0.5332178442861627,0.5329587235926035,0.5326777739802577,0.5323740877103084,0.5320467950834185,0.5316950688528551,0.531318128467853,0.5309152441292384,0.53048574063987,0.5300290010331964,0.5295444699638894,0.52903165684538,0.5284901387199308,0.5279195628478407,0.5273196490033681,0.526690191465967,0.5260310606965596,0.5253422046897055,0.5246236499937411,0.5238755023921494,0.5230979472407956,0.5222912494568857,0.5214557531569188,0.5205918809422732,0.519700132832447,0.5187810848474183,0.5178353872420411,0.5168637623967854,0.515867002370644,0.5148459661234341,0.51380157641617,0.5127348163996143,0.5116467259025221,0.5105383974324504,0.509410971903383,0.5082656341057056,0.5071036079353268,0.5059261513999798,0.5047345514218539,0.5035301184568125,0.5023141809514865,0.5010880796604509,0.49985316184654316,0.4986107753882109,0.4973622628183768,0.4961089553199418,0.4948521667035214,0.49359318739334684,0.4923332784475644,0.49107366563927773,0.48981553362471447,0.4885600202248235,0.4873082108463561,0.48606113306818927,0.48481975141814077,0.48358496236500126,0.4823575895497239,0.4811383792789637,0.47992799630314026,0.47872701990018396,0.4775359402849181,0.4763551553627566,0.47518496784499514,0.47402558274151596,0.4728771052450936,0.4717395390198832,0.47061278490489045,0.46949664004143216,0.46839079743170814,0.4672948459337015,0.466208270695648,0.4651304540313124,0.4640606767353024,0.46299811983562666,0.4619418667786393,0.46089090603953914,0.4598441341495421,0.45880035912894346,0.457758304313269,0.45671661255794666,0.4556738508050463,0.4546285149939267,0.4535790352959952,0.4525237816521992,0.45146106959045296,0.45038916629880776,0.4493062969290047,0.4482106511039082,0.44710038960136733,0.44597365118621907,0.44482855956145645,0.4436632304090302,0.4424757784903874,0.44126432477656774,0.4400270035776113,0.4387619696410897,0.43746740518977006,0.4361415268688094,0.4347825925733502,0.43338890812808967,0.43195883379115035,0.4304907905555245,0.42898326622244737,0.4274348212221905,0.4258440941591216,0.4242098070592325,0.4225307702998868,0.4208058872031071,0.41903415827541246,0.41721468507895176,0.4153466737205264,0.4134294379468772,0.4114624018366029,0.40944510208092294,0.4073771898474853,0.40525843222335234,0.4030887132352434,0.4008680344470388,0.39859651513646865,0.39627439205473625,0.3939020187747076,0.391479864635001,0.3890085132890541,0.38648866086986555,0.383921113782647,0.3813067861390848,0.37864669684830937,0.37594196638087735,0.3731938132233078,0.37040355004171144,0.36757257957402306,0.36470239027117635,0.36179455170824676,0.3588507097872121,0.3558725817534264,0.3528619510482622,0.34982066202062173,0.34675061452012285,0.34365375839477036,0.3405320879158212,0.3373876361523307,0.3342224693175475,0.3310386811089123,0.32783838706287644,0.3246237189451943,0.3213968191966083,0.3181598354531292,0.3149149151592281,0.3116642002914166,0.3084098222086727,0.3051538966452228,0.30189851886009206,0.2986457589567795,0.2953976573852873,0.2921562206376001,0.2889234171465516,0.28570117339685924,0.2824913702559496,0.2792958395310144,0.27611636075762036,0.27295465822403503,0.26981239823432956,0.2666911866122358,0.26359256644666773,0.2605180160788095,0.25746894732968983,0.2544467039662176,0.25145256040276626,0.2484877206345582,0.24555331739829353,0.2426504115547505,0.23977999168738304,0.23694297391032182,0.2341402018786194,0.23137244699305085,0.22864040879135591,0.22594471551736658,0.22328592485917134,0.22066452484714258,0.21808093490243943,0.21553550702642463,0.21302852712129625,0.2105602164321675,0.20813073310080019,0.20574017382120316,0.20338857558738965,0.20107591752367282,0.19880212278802248,0.19656706053919062,0.19437054795851655,0.19221235231756406,0.19009219308302047,0.18800974405056253,0.18596463549973585,0.18395645636220914,0.1819847563961249,0.1800490483596465,0.17814881017716225,0.1762834870920124,0.17445249379999245,0.1726552165582908,0.17089101526492673,0.16915922550414694,0.1674591605536588,0.1657901133499663,0.16415135840846942,0.16254215369539327,0.16096174244896572,0.15940935494766073,0.15788421022366514,0.15638551772008977,0.15491247889076595,0.1534642887418063,0.15204013731440363,0.1506392111086339,0.14926069444831652,0.14790377078722436,0.14656762395719666,0.1452514393589197,0.1439544050963517,0.14267571305595805,0.1414145599320901,0.14017014820000046,0.13894168703811624,0.13772839320131328,0.13652949184703467,0.13534421731617982,0.13417181387075405,0.13301153639032134,0.13186265102933492,0.13072443583743992,0.1295961813448405,0.12847719111481892,0.12736678226546325,0.12626428596261913,0.12516904788604177,0.124080428670642,0.12299780432466241,0.12192056662652477,0.12084812350199872,0.11977989938323823,0.11871533555111997,0.11765389046220112,0.11659504006148778,0.1155382780820782,0.11448311633260759,0.11342908497328932,0.11237573278120194,0.11132262740533481,0.1102693556117591,0.10921552351915871,0.10816075682480038,0.10710470102090182,0.10604702160120869,0.10498740425746789,0.10392555506535638,0.1028612006593038,0.10179408839553804,0.10072398650256763,0.09965068421822766,0.09857399191231572,0.09749374119376993,0.09640978500126954,0.09532199767607465,0.09423027501587508,0.09313453430838067,0.09203471434335336,0.0909307754017738,0.08982269922082396,0.08871048893338027,0.08759416898073545,0.08647378499729506,0.08534940366604232,0.0842211125436246,0.08308901985397776,0.08195325424949201,0.08081396453880835,0.07967131938043748,0.07852550694150791,0.07737673452106301,0.07622522813746713,0.07507123207960534,0.07391500842171767,0.07275683650184983,0.07159701236406353,0.07043584816470826,0.0692736715432203],\"yaxis\":\"y\",\"type\":\"scatter\"},{\"legendgroup\":\"under 2.5\",\"marker\":{\"color\":\"#ffa600\"},\"mode\":\"lines\",\"name\":\"under 2.5\",\"showlegend\":false,\"x\":[0.2,0.20600000000000002,0.21200000000000002,0.218,0.224,0.23,0.23600000000000002,0.24200000000000002,0.248,0.254,0.26,0.266,0.272,0.278,0.28400000000000003,0.29000000000000004,0.29600000000000004,0.302,0.308,0.314,0.32,0.326,0.332,0.338,0.344,0.35,0.356,0.362,0.368,0.374,0.38,0.386,0.392,0.398,0.404,0.41000000000000003,0.41600000000000004,0.42200000000000004,0.42800000000000005,0.43400000000000005,0.44,0.446,0.452,0.458,0.464,0.47000000000000003,0.47600000000000003,0.482,0.488,0.494,0.5,0.506,0.512,0.518,0.524,0.53,0.536,0.542,0.548,0.554,0.56,0.5660000000000001,0.5720000000000001,0.5780000000000001,0.5840000000000001,0.5900000000000001,0.5960000000000001,0.6020000000000001,0.608,0.614,0.62,0.626,0.632,0.638,0.644,0.65,0.656,0.662,0.668,0.6739999999999999,0.6799999999999999,0.6859999999999999,0.692,0.698,0.704,0.71,0.716,0.722,0.728,0.734,0.74,0.746,0.752,0.758,0.764,0.77,0.776,0.782,0.788,0.794,0.8,0.806,0.812,0.8180000000000001,0.8240000000000001,0.8300000000000001,0.8360000000000001,0.8420000000000001,0.8480000000000001,0.8540000000000001,0.8600000000000001,0.8660000000000001,0.8720000000000001,0.8780000000000001,0.8840000000000001,0.8899999999999999,0.8959999999999999,0.9019999999999999,0.9079999999999999,0.9139999999999999,0.9199999999999999,0.9259999999999999,0.9319999999999999,0.938,0.944,0.95,0.956,0.962,0.968,0.974,0.98,0.986,0.992,0.998,1.004,1.01,1.016,1.022,1.028,1.034,1.04,1.046,1.052,1.058,1.064,1.07,1.076,1.082,1.088,1.094,1.1,1.106,1.112,1.118,1.124,1.1300000000000001,1.1360000000000001,1.142,1.148,1.154,1.16,1.166,1.172,1.178,1.184,1.19,1.196,1.202,1.208,1.214,1.22,1.226,1.232,1.238,1.244,1.25,1.256,1.262,1.268,1.274,1.28,1.286,1.292,1.298,1.304,1.31,1.316,1.322,1.3279999999999998,1.3339999999999999,1.3399999999999999,1.3459999999999999,1.3519999999999999,1.3579999999999999,1.3639999999999999,1.3699999999999999,1.376,1.382,1.388,1.394,1.4,1.406,1.412,1.418,1.424,1.43,1.436,1.442,1.448,1.454,1.46,1.466,1.472,1.478,1.484,1.49,1.496,1.502,1.508,1.514,1.52,1.526,1.532,1.538,1.544,1.55,1.556,1.562,1.568,1.574,1.5799999999999998,1.5859999999999999,1.5919999999999999,1.5979999999999999,1.6039999999999999,1.6099999999999999,1.6159999999999999,1.6219999999999999,1.628,1.634,1.64,1.646,1.652,1.658,1.664,1.67,1.676,1.682,1.688,1.694,1.7,1.706,1.712,1.718,1.724,1.73,1.736,1.742,1.748,1.754,1.76,1.766,1.772,1.778,1.784,1.79,1.796,1.802,1.808,1.814,1.82,1.8259999999999998,1.8319999999999999,1.8379999999999999,1.8439999999999999,1.8499999999999999,1.8559999999999999,1.8619999999999999,1.8679999999999999,1.8739999999999999,1.88,1.886,1.892,1.898,1.904,1.91,1.916,1.922,1.928,1.934,1.94,1.946,1.952,1.958,1.964,1.97,1.976,1.982,1.988,1.994,2.0,2.0060000000000002,2.012,2.0180000000000002,2.024,2.0300000000000002,2.036,2.0420000000000003,2.048,2.0540000000000003,2.06,2.0660000000000003,2.072,2.078,2.084,2.09,2.096,2.102,2.108,2.114,2.12,2.126,2.132,2.138,2.144,2.15,2.156,2.162,2.168,2.174,2.18,2.186,2.192,2.198,2.204,2.21,2.216,2.222,2.228,2.234,2.24,2.246,2.2520000000000002,2.258,2.2640000000000002,2.27,2.2760000000000002,2.282,2.2880000000000003,2.294,2.3000000000000003,2.306,2.3120000000000003,2.318,2.3240000000000003,2.33,2.3360000000000003,2.342,2.3480000000000003,2.354,2.3600000000000003,2.366,2.3720000000000003,2.378,2.3840000000000003,2.39,2.3960000000000004,2.402,2.4080000000000004,2.414,2.4200000000000004,2.426,2.4320000000000004,2.438,2.4440000000000004,2.45,2.456,2.462,2.468,2.474,2.48,2.486,2.492,2.498,2.504,2.5100000000000002,2.516,2.5220000000000002,2.528,2.5340000000000003,2.54,2.5460000000000003,2.552,2.5580000000000003,2.564,2.5700000000000003,2.576,2.5820000000000003,2.588,2.5940000000000003,2.6,2.6060000000000003,2.612,2.6180000000000003,2.624,2.6300000000000003,2.636,2.6420000000000003,2.648,2.6540000000000004,2.66,2.6660000000000004,2.672,2.6780000000000004,2.684,2.6900000000000004,2.696,2.702,2.708,2.714,2.72,2.726,2.732,2.738,2.744,2.75,2.7560000000000002,2.762,2.7680000000000002,2.774,2.7800000000000002,2.786,2.7920000000000003,2.798,2.8040000000000003,2.81,2.8160000000000003,2.822,2.8280000000000003,2.834,2.8400000000000003,2.846,2.8520000000000003,2.858,2.8640000000000003,2.87,2.8760000000000003,2.882,2.8880000000000003,2.894,2.9000000000000004,2.906,2.9120000000000004,2.918,2.9240000000000004,2.93,2.9360000000000004,2.942,2.9480000000000004,2.954,2.96,2.966,2.972,2.978,2.984,2.99,2.996,3.0020000000000002,3.008,3.0140000000000002,3.02,3.0260000000000002,3.032,3.0380000000000003,3.044,3.0500000000000003,3.056,3.0620000000000003,3.068,3.0740000000000003,3.08,3.0860000000000003,3.092,3.0980000000000003,3.104,3.1100000000000003,3.116,3.1220000000000003,3.128,3.1340000000000003,3.14,3.1460000000000004,3.152,3.1580000000000004,3.164,3.1700000000000004,3.176,3.1820000000000004,3.188,3.1940000000000004],\"xaxis\":\"x\",\"y\":[0.1339581361140979,0.1364532401622314,0.13895319607848716,0.1414575232824112,0.14396578252992434,0.14647757705465728,0.14899255358038702,0.1515104032037736,0.1540308621471725,0.15655371238182283,0.15907878212224233,0.16160594619312965,0.16413512627052873,0.166666290999418,0.16919945599025435,0.17173468369732028,0.17427208318202383,0.17681180976450106,0.17935406456708794,0.18189909395334705,0.18444718886642758,0.1869986840705864,0.18955395729968308,0.19211342831642264,0.19467755788601254,0.19724684666779593,0.1998218340282099,0.20240309677826196,0.20499124783843514,0.20758693483371227,0.210190838621098,0.21280367175171563,0.21542617686927526,0.218059125046338,0.22070331405952096,0.22335956660444115,0.2260287284509043,0.22871166653851902,0.23140926701268383,0.2341224332005831,0.23685208352666604,0.23959914936683396,0.24236457284047044,0.24514930453928616,0.24795430119194023,0.25078052326335154,0.2536289324876926,0.2565004893341432,0.2593961504046264,0.2623168657630236,0.2652635761955698,0.2682372104025485,0.27123868212174496,0.2742688871846233,0.27732870050668423,0.280418973014041,0.2835405285088941,0.2866941604772217,0.2898806288427682,0.2931006566721207,0.2963549268365092,0.2996440786367172,0.3029687043984056,0.3063293460459212,0.3097264916636055,0.3131605720544011,0.3166319573064522,0.3201409533792032,0.3236877987213042,0.3272726609334082,0.33089563348966733,0.3345567325323926,0.3382558937549962,0.3419929693888225,0.34576772530999683,0.34957983828275635,0.3534288933560698,0.3573143814304959,0.36123569701236385,0.3651921361723259,0.369182894725194,0.373207066647738,0.377263642750734,0.38135150962111175,0.3854694488493436,0.38961613655658067,0.3937901432351177,0.3979899339147738,0.40221386866674874,0.4064602034551997,0.41072709134552954,0.4150125840769123,0.41931463400504015,0.4236310964194936,0.42795973223837824,0.4322982110811431,0.43664411471861875,0.44099494089744856,0.4453481075341209,0.4497009572718779,0.45405076239177733,0.4583947300672046,0.46273000794916824,0.4670536900677273,0.471362823033043,0.47565441251760376,0.4799254299994478,0.4841728197443897,0.488393506003725,0.49258440040222085,0.496742409489894,0.5008644424296622,0.5049474187918707,0.5089882764255977,0.5129839793758141,0.5169315258146989,0.520827955954921,0.5246703599122491,0.5284558854846815,0.532181745815254,0.535845226905811,0.5394436949493843,0.5429746034493055,0.5464355000939037,0.5498240333564693,0.5531379587912275,0.5563751449972548,0.5595335792236522,0.5626113725907883,0.5656067649040775,0.5685181290385997,0.5713439748747124,0.5740829527668966,0.5767338565301853,0.5792956259307237,0.5817673486693374,0.5841482618492976,0.5864377529219135,0.588635360105968,0.5907407722795103,0.5927538283449266,0.5946745160707038,0.5965029704156669,0.5982394713439084,0.5998844411409235,0.6014384412437316,0.6029021685999928,0.6042764515731823,0.6055622454129237,0.6067606273114751,0.607872791069124,0.6089000413929065,0.6098437878545806,0.6107055385351642,0.6114868933845705,0.6121895373259348,0.6128152331351729,0.6133658141270605,0.613843176679721,0.6142492726298614,0.6145861015713524,0.6148557030899204,0.6150601489666107,0.6152015353825607,0.6152819751572247,0.6153035900517376,0.615268503168438,0.6151788314768479,0.6150366784954535,0.6148441271576479,0.6146032328890397,0.6143160169220794,0.6139844598726079,0.6136104956014928,0.6131960053829857,0.6127428123998055,0.6122526765833358,0.6117272898155172,0.6111682715073062,0.6105771645666929,0.6099554317674494,0.6093044525278799,0.6086255201069548,0.6079198392233157,0.607188524100717,0.6064325969415937,0.6056529868285613,0.6048505290517988,0.6040259648584345,0.6031799416183047,0.6023130133986621,0.6014256419387822,0.6005181980137217,0.5995909631749794,0.5986441318542597,0.5976778138151383,0.5966920369360876,0.595686750307026,0.5946618276204303,0.5936170708369091,0.592552214104199,0.5914669279076248,0.590360823429285,0.5892334570925579,0.5880843352679249,0.5869129191156613,0.5857186295405844,0.58450085223381,0.5832589427763288,0.581992231779224,0.5807000300354268,0.5793816336581332,0.5780363291813351,0.5766633985983466,0.5752621243147615,0.573831793992945,0.5723717052659079,0.5708811702992885,0.569359520181138,0.5678061091202478,0.5662203184349176,0.56460156031532,0.5629492813438823,0.5612629657595495,0.5595421384532222,0.557786367683183,0.5559952675009014,0.5541684998792304,0.5523057765366465,0.5504068604528828,0.5484715670730137,0.5464997651987299,0.5444913775673309,0.5424463811205856,0.5403648069673936,0.5382467400457838,0.5360923184914599,0.5339017327216853,0.5316752242448234,0.5294130842073572,0.5271156516915827,0.5247833117785146,0.5224164933917899,0.5200156669394705,0.5175813417717295,0.5151140634732949,0.5126144110103947,0.5100829937525908,0.507520448390542,0.5049274357711011,0.5023046376715652,0.49965275353499994,0.49697249718868286,0.4942645935675987,0.49152977546472026,0.4887687803294514,0.48598234713516947,0.48317121333616675,0.4803361119335935,0.47747776866915864,0.47459689936438415,0.47169420742216916,0.4687703815062346,0.4658260934127829,0.4628619961473826,0.45987872221864473,0.4568768821588165,0.4538570632798559,0.4508198286719931,0.44776571645014435,0.44469523925192683,0.4416088839893313,0.4385071118544844,0.4353903585782316,0.43225903493867407,0.4291135275151212,0.4259541996813994,0.42278139283086447,0.4195954278240362,0.4163966066483164,0.41318521427793037,0.4099615207209586,0.4067257832391497,0.4034782487251284,0.40021915622061055,0.39694873955838617,0.39366723011003407,0.3903748596206912,0.3870718631116621,0.3837584818312048,0.38043496623357653,0.37710157896617674,0.3737585978446161,0.37040631879556235,0.36704505874740523,0.36367515844905224,0.36029698519760056,0.3569109354560866,0.3535174373431952,0.3501169529774541,0.34670998065930786,0.3432970568753163,0.3398787581097317,0.33645570244974726,0.33302855097184486,0.32959800889785273,0.3261648265105758,0.3227297998201376,0.31929377097353046,0.3158576284012123,0.31242230669600274,0.3089887862209276,0.30555809244409354,0.3021312950001007,0.29870950647891126,0.2952938809445416,0.2918856121872948,0.28848593171466486,0.2850961064873731,0.2817174364083056,0.27835125157338764,0.2749989092946756,0.27166179090707665,0.2683412983712667,0.265038850686397,0.2617558801271899,0.2584938283209339,0.25525414218074566,0.2520382697122311,0.24884765571138812,0.24568373737219146,0.2425479398228486,0.23944167161016008,0.2363663201517706,0.23332324717638905,0.23031378417223589,0.22733922786406333,0.22440083573912298,0.2214998216423618,0.2186373514609574,0.21581453891805263,0.21303244149519424,0.21029205650255448,0.2075943173154879,0.20494008979537348,0.20233016891202033,0.19976527558411816,0.1972460537534117,0.1947730677073247,0.19234679966379434,0.1899676476310056,0.18763592355360986,0.1853518517558099,0.1831155676904827,0.18092711700219793,0.17878645491068534,0.17669344591989933,0.1746478638564553,0.1726493922397415,0.17069762498457602,0.16879206743578767,0.16693213773261978,0.1651171684993628,0.16334640885713675,0.1616190267502783,0.15993411157931817,0.15829067713111217,0.1566876647952985,0.15512394705488214,0.15359833123745006,0.15210956351226612,0.15065633311729185,0.14923727679907048,0.14785098344735165,0.14649599890537013,0.14517083093581803,0.14387395432175307,0.1426038160810087,0.1413588407720764,0.1401374358689593,0.13893799718212527,0.13775891430243437,0.13659857604477477,0.13545537586812362,0.13432771724884737,0.13321401898426416,0.13211272040384367,0.13102228646584616,0.12994121271779818,0.12886803009985653,0.12780130957092273,0.12673966653824936,0.1256817650722823,0.12462632188957258,0.1235721100877702,0.12251796261797127,0.12146277548102802,0.12040551063584266,0.11934519860911208,0.11828094079752532,0.1172119114549561,0.11613735935878645,0.11505660915111368,0.11396906235220997,0.112874198045238,0.11177157323285265,0.11066082286791781,0.10954165956216368,0.108413872978149,0.10727732891140662,0.10613196807110464,0.10497780456895092,0.10381492412739761,0.1026434820194554,0.10146370075360066,0.10027586751834223,0.09908033140200288,0.09787750040417187,0.0966678382560619,0.09545186106770487,0.0942301338204848,0.09300326672397984,0.09177191145644013,0.09053675730846887,0.08929852724960864,0.08805797393755807,0.08681587568965346,0.08557303243606264,0.08433026167383705,0.08308839444057893,0.0818482713259878,0.08061073853897247,0.07937664404734913,0.0781468338064098,0.07692214809181841,0.07570341795142665,0.07449146178964786,0.07328708209704321,0.07209106233673457,0.07090416399818682,0.06972712382779174,0.06856065124456774,0.06740542594813721,0.06626209572500047,0.06513127445796753,0.0640135403424667,0.06290943431231094,0.061819458676392235,0.060744075966678815,0.059683707996833014,0.05863873512974026,0.0576094957512568,0.05659628594654134,0.05559935937444989,0.05461892733462549,0.053655159021142255,0.052708181955826744,0.051778082593722435,0.05086490709255489,0.049968662237515414,0.04908931651220412,0.048226801306161665,0.047381012249066136,0.046551810661388596,0.04573902511107985,0.04494245306569118,0.04416186262924225,0.04339699435309324,0.04264756311009999,0.04191326002139203,0.04119375442523225,0.040488695877580756,0.03979771617420042,0.03912043138438851,0.038456443886719024,0.03780534439750294,0.03716671398303951,0.036540126047120564,0.03592514828566998,0.03532134460083773,0.03472827696733333,0.034145507244255094,0.03357259892616825,0.033009118827681046,0.032454638696281145,0.03190873674870532,0.03137099912663382,0.030841021268013413,0.03031840919082986,0.029802780686652968,0.029293766421782212,0.02879101094430874,0.02829417359589151,0.027802929327510082,0.02731696941891204,0.026836002101906686,0.02635975308807975,0.025887966001902043,0.025420402720590398,0.024956843622439478],\"yaxis\":\"y\",\"type\":\"scatter\"}],                        {\"barmode\":\"overlay\",\"hovermode\":\"closest\",\"legend\":{\"traceorder\":\"reversed\"},\"xaxis\":{\"anchor\":\"y2\",\"domain\":[0.0,1.0],\"zeroline\":false,\"range\":[0,5]},\"yaxis\":{\"anchor\":\"free\",\"domain\":[0.0,1],\"position\":0.0},\"template\":{\"data\":{\"bar\":[{\"error_x\":{\"color\":\"#2a3f5f\"},\"error_y\":{\"color\":\"#2a3f5f\"},\"marker\":{\"line\":{\"color\":\"#E5ECF6\",\"width\":0.5},\"pattern\":{\"fillmode\":\"overlay\",\"size\":10,\"solidity\":0.2}},\"type\":\"bar\"}],\"barpolar\":[{\"marker\":{\"line\":{\"color\":\"#E5ECF6\",\"width\":0.5},\"pattern\":{\"fillmode\":\"overlay\",\"size\":10,\"solidity\":0.2}},\"type\":\"barpolar\"}],\"carpet\":[{\"aaxis\":{\"endlinecolor\":\"#2a3f5f\",\"gridcolor\":\"white\",\"linecolor\":\"white\",\"minorgridcolor\":\"white\",\"startlinecolor\":\"#2a3f5f\"},\"baxis\":{\"endlinecolor\":\"#2a3f5f\",\"gridcolor\":\"white\",\"linecolor\":\"white\",\"minorgridcolor\":\"white\",\"startlinecolor\":\"#2a3f5f\"},\"type\":\"carpet\"}],\"choropleth\":[{\"colorbar\":{\"outlinewidth\":0,\"ticks\":\"\"},\"type\":\"choropleth\"}],\"contour\":[{\"colorbar\":{\"outlinewidth\":0,\"ticks\":\"\"},\"colorscale\":[[0.0,\"#0d0887\"],[0.1111111111111111,\"#46039f\"],[0.2222222222222222,\"#7201a8\"],[0.3333333333333333,\"#9c179e\"],[0.4444444444444444,\"#bd3786\"],[0.5555555555555556,\"#d8576b\"],[0.6666666666666666,\"#ed7953\"],[0.7777777777777778,\"#fb9f3a\"],[0.8888888888888888,\"#fdca26\"],[1.0,\"#f0f921\"]],\"type\":\"contour\"}],\"contourcarpet\":[{\"colorbar\":{\"outlinewidth\":0,\"ticks\":\"\"},\"type\":\"contourcarpet\"}],\"heatmap\":[{\"colorbar\":{\"outlinewidth\":0,\"ticks\":\"\"},\"colorscale\":[[0.0,\"#0d0887\"],[0.1111111111111111,\"#46039f\"],[0.2222222222222222,\"#7201a8\"],[0.3333333333333333,\"#9c179e\"],[0.4444444444444444,\"#bd3786\"],[0.5555555555555556,\"#d8576b\"],[0.6666666666666666,\"#ed7953\"],[0.7777777777777778,\"#fb9f3a\"],[0.8888888888888888,\"#fdca26\"],[1.0,\"#f0f921\"]],\"type\":\"heatmap\"}],\"heatmapgl\":[{\"colorbar\":{\"outlinewidth\":0,\"ticks\":\"\"},\"colorscale\":[[0.0,\"#0d0887\"],[0.1111111111111111,\"#46039f\"],[0.2222222222222222,\"#7201a8\"],[0.3333333333333333,\"#9c179e\"],[0.4444444444444444,\"#bd3786\"],[0.5555555555555556,\"#d8576b\"],[0.6666666666666666,\"#ed7953\"],[0.7777777777777778,\"#fb9f3a\"],[0.8888888888888888,\"#fdca26\"],[1.0,\"#f0f921\"]],\"type\":\"heatmapgl\"}],\"histogram\":[{\"marker\":{\"pattern\":{\"fillmode\":\"overlay\",\"size\":10,\"solidity\":0.2}},\"type\":\"histogram\"}],\"histogram2d\":[{\"colorbar\":{\"outlinewidth\":0,\"ticks\":\"\"},\"colorscale\":[[0.0,\"#0d0887\"],[0.1111111111111111,\"#46039f\"],[0.2222222222222222,\"#7201a8\"],[0.3333333333333333,\"#9c179e\"],[0.4444444444444444,\"#bd3786\"],[0.5555555555555556,\"#d8576b\"],[0.6666666666666666,\"#ed7953\"],[0.7777777777777778,\"#fb9f3a\"],[0.8888888888888888,\"#fdca26\"],[1.0,\"#f0f921\"]],\"type\":\"histogram2d\"}],\"histogram2dcontour\":[{\"colorbar\":{\"outlinewidth\":0,\"ticks\":\"\"},\"colorscale\":[[0.0,\"#0d0887\"],[0.1111111111111111,\"#46039f\"],[0.2222222222222222,\"#7201a8\"],[0.3333333333333333,\"#9c179e\"],[0.4444444444444444,\"#bd3786\"],[0.5555555555555556,\"#d8576b\"],[0.6666666666666666,\"#ed7953\"],[0.7777777777777778,\"#fb9f3a\"],[0.8888888888888888,\"#fdca26\"],[1.0,\"#f0f921\"]],\"type\":\"histogram2dcontour\"}],\"mesh3d\":[{\"colorbar\":{\"outlinewidth\":0,\"ticks\":\"\"},\"type\":\"mesh3d\"}],\"parcoords\":[{\"line\":{\"colorbar\":{\"outlinewidth\":0,\"ticks\":\"\"}},\"type\":\"parcoords\"}],\"pie\":[{\"automargin\":true,\"type\":\"pie\"}],\"scatter\":[{\"marker\":{\"colorbar\":{\"outlinewidth\":0,\"ticks\":\"\"}},\"type\":\"scatter\"}],\"scatter3d\":[{\"line\":{\"colorbar\":{\"outlinewidth\":0,\"ticks\":\"\"}},\"marker\":{\"colorbar\":{\"outlinewidth\":0,\"ticks\":\"\"}},\"type\":\"scatter3d\"}],\"scattercarpet\":[{\"marker\":{\"colorbar\":{\"outlinewidth\":0,\"ticks\":\"\"}},\"type\":\"scattercarpet\"}],\"scattergeo\":[{\"marker\":{\"colorbar\":{\"outlinewidth\":0,\"ticks\":\"\"}},\"type\":\"scattergeo\"}],\"scattergl\":[{\"marker\":{\"colorbar\":{\"outlinewidth\":0,\"ticks\":\"\"}},\"type\":\"scattergl\"}],\"scattermapbox\":[{\"marker\":{\"colorbar\":{\"outlinewidth\":0,\"ticks\":\"\"}},\"type\":\"scattermapbox\"}],\"scatterpolar\":[{\"marker\":{\"colorbar\":{\"outlinewidth\":0,\"ticks\":\"\"}},\"type\":\"scatterpolar\"}],\"scatterpolargl\":[{\"marker\":{\"colorbar\":{\"outlinewidth\":0,\"ticks\":\"\"}},\"type\":\"scatterpolargl\"}],\"scatterternary\":[{\"marker\":{\"colorbar\":{\"outlinewidth\":0,\"ticks\":\"\"}},\"type\":\"scatterternary\"}],\"surface\":[{\"colorbar\":{\"outlinewidth\":0,\"ticks\":\"\"},\"colorscale\":[[0.0,\"#0d0887\"],[0.1111111111111111,\"#46039f\"],[0.2222222222222222,\"#7201a8\"],[0.3333333333333333,\"#9c179e\"],[0.4444444444444444,\"#bd3786\"],[0.5555555555555556,\"#d8576b\"],[0.6666666666666666,\"#ed7953\"],[0.7777777777777778,\"#fb9f3a\"],[0.8888888888888888,\"#fdca26\"],[1.0,\"#f0f921\"]],\"type\":\"surface\"}],\"table\":[{\"cells\":{\"fill\":{\"color\":\"#EBF0F8\"},\"line\":{\"color\":\"white\"}},\"header\":{\"fill\":{\"color\":\"#C8D4E3\"},\"line\":{\"color\":\"white\"}},\"type\":\"table\"}]},\"layout\":{\"annotationdefaults\":{\"arrowcolor\":\"#2a3f5f\",\"arrowhead\":0,\"arrowwidth\":1},\"autotypenumbers\":\"strict\",\"coloraxis\":{\"colorbar\":{\"outlinewidth\":0,\"ticks\":\"\"}},\"colorscale\":{\"diverging\":[[0,\"#8e0152\"],[0.1,\"#c51b7d\"],[0.2,\"#de77ae\"],[0.3,\"#f1b6da\"],[0.4,\"#fde0ef\"],[0.5,\"#f7f7f7\"],[0.6,\"#e6f5d0\"],[0.7,\"#b8e186\"],[0.8,\"#7fbc41\"],[0.9,\"#4d9221\"],[1,\"#276419\"]],\"sequential\":[[0.0,\"#0d0887\"],[0.1111111111111111,\"#46039f\"],[0.2222222222222222,\"#7201a8\"],[0.3333333333333333,\"#9c179e\"],[0.4444444444444444,\"#bd3786\"],[0.5555555555555556,\"#d8576b\"],[0.6666666666666666,\"#ed7953\"],[0.7777777777777778,\"#fb9f3a\"],[0.8888888888888888,\"#fdca26\"],[1.0,\"#f0f921\"]],\"sequentialminus\":[[0.0,\"#0d0887\"],[0.1111111111111111,\"#46039f\"],[0.2222222222222222,\"#7201a8\"],[0.3333333333333333,\"#9c179e\"],[0.4444444444444444,\"#bd3786\"],[0.5555555555555556,\"#d8576b\"],[0.6666666666666666,\"#ed7953\"],[0.7777777777777778,\"#fb9f3a\"],[0.8888888888888888,\"#fdca26\"],[1.0,\"#f0f921\"]]},\"colorway\":[\"#636efa\",\"#EF553B\",\"#00cc96\",\"#ab63fa\",\"#FFA15A\",\"#19d3f3\",\"#FF6692\",\"#B6E880\",\"#FF97FF\",\"#FECB52\"],\"font\":{\"color\":\"#2a3f5f\"},\"geo\":{\"bgcolor\":\"white\",\"lakecolor\":\"white\",\"landcolor\":\"#E5ECF6\",\"showlakes\":true,\"showland\":true,\"subunitcolor\":\"white\"},\"hoverlabel\":{\"align\":\"left\"},\"hovermode\":\"closest\",\"mapbox\":{\"style\":\"light\"},\"paper_bgcolor\":\"white\",\"plot_bgcolor\":\"#E5ECF6\",\"polar\":{\"angularaxis\":{\"gridcolor\":\"white\",\"linecolor\":\"white\",\"ticks\":\"\"},\"bgcolor\":\"#E5ECF6\",\"radialaxis\":{\"gridcolor\":\"white\",\"linecolor\":\"white\",\"ticks\":\"\"}},\"scene\":{\"xaxis\":{\"backgroundcolor\":\"#E5ECF6\",\"gridcolor\":\"white\",\"gridwidth\":2,\"linecolor\":\"white\",\"showbackground\":true,\"ticks\":\"\",\"zerolinecolor\":\"white\"},\"yaxis\":{\"backgroundcolor\":\"#E5ECF6\",\"gridcolor\":\"white\",\"gridwidth\":2,\"linecolor\":\"white\",\"showbackground\":true,\"ticks\":\"\",\"zerolinecolor\":\"white\"},\"zaxis\":{\"backgroundcolor\":\"#E5ECF6\",\"gridcolor\":\"white\",\"gridwidth\":2,\"linecolor\":\"white\",\"showbackground\":true,\"ticks\":\"\",\"zerolinecolor\":\"white\"}},\"shapedefaults\":{\"line\":{\"color\":\"#2a3f5f\"}},\"ternary\":{\"aaxis\":{\"gridcolor\":\"white\",\"linecolor\":\"white\",\"ticks\":\"\"},\"baxis\":{\"gridcolor\":\"white\",\"linecolor\":\"white\",\"ticks\":\"\"},\"bgcolor\":\"#E5ECF6\",\"caxis\":{\"gridcolor\":\"white\",\"linecolor\":\"white\",\"ticks\":\"\"}},\"title\":{\"x\":0.05},\"xaxis\":{\"automargin\":true,\"gridcolor\":\"white\",\"linecolor\":\"white\",\"ticks\":\"\",\"title\":{\"standoff\":15},\"zerolinecolor\":\"white\",\"zerolinewidth\":2},\"yaxis\":{\"automargin\":true,\"gridcolor\":\"white\",\"linecolor\":\"white\",\"ticks\":\"\",\"title\":{\"standoff\":15},\"zerolinecolor\":\"white\",\"zerolinewidth\":2}}},\"title\":{\"text\":\"Distplot with Normal Distribution: navggoalaway\"}},                        {\"responsive\": true}                    ).then(function(){\n",
              "                            \n",
              "var gd = document.getElementById('496ffa3d-4378-47e7-9eed-1536a464b705');\n",
              "var x = new MutationObserver(function (mutations, observer) {{\n",
              "        var display = window.getComputedStyle(gd).display;\n",
              "        if (!display || display === 'none') {{\n",
              "            console.log([gd, 'removed!']);\n",
              "            Plotly.purge(gd);\n",
              "            observer.disconnect();\n",
              "        }}\n",
              "}});\n",
              "\n",
              "// Listen for the removal of the full notebook cells\n",
              "var notebookContainer = gd.closest('#notebook-container');\n",
              "if (notebookContainer) {{\n",
              "    x.observe(notebookContainer, {childList: true});\n",
              "}}\n",
              "\n",
              "// Listen for the clearing of the current output cell\n",
              "var outputEl = gd.closest('.output');\n",
              "if (outputEl) {{\n",
              "    x.observe(outputEl, {childList: true});\n",
              "}}\n",
              "\n",
              "                        })                };                            </script>        </div>\n",
              "</body>\n",
              "</html>"
            ]
          },
          "metadata": {}
        }
      ]
    },
    {
      "cell_type": "code",
      "source": [
        "lis=[features.navgGoalConcededAway[data['target']==1], features.navgGoalConcededAway[data['target']==0]]\n",
        "group_labels=['over 2.5','under 2.5']\n",
        "colors = ['#003f5c', '#ffa600']\n",
        "# Create distplot \n",
        "fig = ff.create_distplot(lis, group_labels, bin_size=20,show_rug=False,\n",
        "                         curve_type='kde', # override default 'kde'\n",
        "                         colors=colors)\n",
        "\n",
        "# Add title\n",
        "fig.update_layout(xaxis_range=[0,5])\n",
        "fig.update_layout(title_text='Distplot with Normal Distribution  navgGoalConcededAway')\n",
        "fig.show()"
      ],
      "metadata": {
        "colab": {
          "base_uri": "https://localhost:8080/",
          "height": 542
        },
        "id": "BjJWd5rqK0_D",
        "outputId": "7b549438-db14-4857-e613-c9fa11d326d6"
      },
      "execution_count": 532,
      "outputs": [
        {
          "output_type": "display_data",
          "data": {
            "text/html": [
              "<html>\n",
              "<head><meta charset=\"utf-8\" /></head>\n",
              "<body>\n",
              "    <div>            <script src=\"https://cdnjs.cloudflare.com/ajax/libs/mathjax/2.7.5/MathJax.js?config=TeX-AMS-MML_SVG\"></script><script type=\"text/javascript\">if (window.MathJax) {MathJax.Hub.Config({SVG: {font: \"STIX-Web\"}});}</script>                <script type=\"text/javascript\">window.PlotlyConfig = {MathJaxConfig: 'local'};</script>\n",
              "        <script src=\"https://cdn.plot.ly/plotly-2.8.3.min.js\"></script>                <div id=\"7b407e80-2616-4b60-8663-f20984af1735\" class=\"plotly-graph-div\" style=\"height:525px; width:100%;\"></div>            <script type=\"text/javascript\">                                    window.PLOTLYENV=window.PLOTLYENV || {};                                    if (document.getElementById(\"7b407e80-2616-4b60-8663-f20984af1735\")) {                    Plotly.newPlot(                        \"7b407e80-2616-4b60-8663-f20984af1735\",                        [{\"autobinx\":false,\"histnorm\":\"probability density\",\"legendgroup\":\"over 2.5\",\"marker\":{\"color\":\"#003f5c\"},\"name\":\"over 2.5\",\"opacity\":0.7,\"x\":[1.4,1.6,0.4,1.2,1.0,1.4,2.8,2.0,1.4,1.4,1.8,1.6,2.2,2.4,0.8,1.0,0.2,2.0,0.8,2.0,1.2,1.0,1.0,0.8,1.6,1.2,1.8,1.6,1.4,1.0,0.6,0.6,1.2,0.8,1.4,1.6,0.6,1.4,1.4,1.6,0.4,1.0,0.4,2.0,0.2,2.2,0.8,0.8,1.2,0.8,1.0,1.2,0.8,1.0,1.4,1.0,1.0,2.2,0.6,2.2,0.8,1.2,1.2,1.0,0.8,1.0,1.2,0.8,1.6,1.4,1.2,2.0,1.2,2.0,0.8,0.6,1.2,1.0,1.6,1.2,0.4,2.4,1.6,0.6,1.4,0.8,3.0,1.0,1.2,1.4,0.6,0.6,2.0,1.2,1.2,1.0,1.6,0.8,1.8,1.4,1.4,1.4,1.6,1.6,0.6,0.2,2.6,1.4,2.8,0.6,1.4,1.6,1.0,2.2,1.6,2.2,1.6,1.4,1.0,2.4,2.0,1.8,1.8,2.2,1.2,1.6,2.0,0.4,0.4,1.6,1.0,1.0,0.2,1.0,2.4,1.4,1.0,0.6,1.4,2.0,1.2,1.0,1.0,1.8,1.6,1.0,1.0,2.4,1.0,1.4,1.0,1.2,1.6,1.6,0.8,1.6,1.0,0.2,2.0,2.6,2.2,1.6,1.2,1.6,1.2,2.0,1.4,1.6,1.4,1.6,0.6,1.4,0.4,1.6,2.2,1.8,2.8,1.4,2.2,0.8],\"xaxis\":\"x\",\"xbins\":{\"end\":3.0,\"size\":20,\"start\":0.2},\"yaxis\":\"y\",\"type\":\"histogram\"},{\"autobinx\":false,\"histnorm\":\"probability density\",\"legendgroup\":\"under 2.5\",\"marker\":{\"color\":\"#ffa600\"},\"name\":\"under 2.5\",\"opacity\":0.7,\"x\":[1.4,1.4,1.4,2.2,1.6,1.2,1.8,2.0,1.8,0.8,1.4,0.0,2.0,1.2,0.6,1.2,0.4,0.4,2.0,0.6,2.4,1.4,1.2,0.2,0.8,0.6,1.6,0.6,1.2,2.0,0.6,1.6,2.2,0.8,0.4,1.4,0.8,1.6,1.6,0.6,0.8,1.4,1.0,0.4,1.4,1.0,0.4,1.0,2.2,1.2,1.8,1.8,1.6,2.2,0.8,1.2,0.6,3.4,2.2,3.0,1.8,2.4,1.0,2.4,1.8,2.8,1.6,0.4,1.4,1.4,1.8,1.4,1.2,1.4,1.0,1.8,1.4,1.4,0.8,2.0,2.0,1.2,2.2,1.6,2.0,1.8,2.0,1.4,1.2,2.0,1.8,1.6,0.8,1.8,1.8,1.8,1.2,1.6,1.8,0.8,1.4,2.2,1.4,2.2,1.4,0.2,1.4,2.0,1.2,1.6,0.8,1.4,1.8,1.4,2.4,1.4,1.4,1.0,2.0,1.2,1.6,0.8,1.8,1.4,1.8,2.2,1.0,0.2,1.8,2.0,1.2,2.2,2.2,1.4,0.6,2.4,1.4,1.6,2.4,2.6,1.2,1.4,1.6,1.0,2.6,1.0,1.8,2.0,0.4],\"xaxis\":\"x\",\"xbins\":{\"end\":3.4,\"size\":20,\"start\":0.0},\"yaxis\":\"y\",\"type\":\"histogram\"},{\"legendgroup\":\"over 2.5\",\"marker\":{\"color\":\"#003f5c\"},\"mode\":\"lines\",\"name\":\"over 2.5\",\"showlegend\":false,\"x\":[0.2,0.2056,0.2112,0.2168,0.22240000000000001,0.228,0.2336,0.23920000000000002,0.24480000000000002,0.2504,0.256,0.2616,0.2672,0.27280000000000004,0.2784,0.28400000000000003,0.2896,0.2952,0.3008,0.3064,0.312,0.3176,0.3232,0.3288,0.3344,0.34,0.3456,0.3512,0.3568,0.3624,0.368,0.37360000000000004,0.3792,0.38480000000000003,0.39039999999999997,0.396,0.4016,0.4072,0.4128,0.4184,0.42400000000000004,0.4296,0.43520000000000003,0.44079999999999997,0.4464,0.45199999999999996,0.45759999999999995,0.4632,0.46879999999999994,0.4744,0.48000000000000004,0.4856,0.4912,0.49679999999999996,0.5024,0.508,0.5136000000000001,0.5192,0.5247999999999999,0.5304,0.536,0.5416,0.5472,0.5528,0.5584,0.5640000000000001,0.5696,0.5751999999999999,0.5808,0.5864,0.5920000000000001,0.5975999999999999,0.6032,0.6088,0.6144000000000001,0.62,0.6255999999999999,0.6312,0.6368,0.6424,0.648,0.6536,0.6592,0.6648,0.6704,0.6759999999999999,0.6816,0.6872,0.6928,0.6983999999999999,0.704,0.7096,0.7151999999999998,0.7207999999999999,0.7263999999999999,0.732,0.7375999999999998,0.7431999999999999,0.7487999999999999,0.7544,0.76,0.7655999999999998,0.7711999999999999,0.7767999999999999,0.7824,0.788,0.7935999999999999,0.7991999999999999,0.8048,0.8104,0.8160000000000001,0.8215999999999999,0.8271999999999999,0.8328,0.8384,0.8440000000000001,0.8495999999999999,0.8552,0.8608,0.8664000000000001,0.8720000000000001,0.8775999999999999,0.8832,0.8888,0.8944000000000001,0.8999999999999999,0.9056,0.9112,0.9168000000000001,0.9223999999999999,0.9279999999999999,0.9336,0.9392,0.9447999999999999,0.9503999999999999,0.956,0.9616,0.9671999999999998,0.9727999999999999,0.9783999999999999,0.984,0.9895999999999998,0.9951999999999999,1.0008,1.0064,1.012,1.0175999999999998,1.0231999999999999,1.0288,1.0344,1.04,1.0455999999999999,1.0512,1.0568,1.0624,1.068,1.0735999999999999,1.0792,1.0848,1.0904,1.096,1.1016,1.1072,1.1128,1.1184,1.1239999999999999,1.1296,1.1352,1.1408,1.1464,1.152,1.1576,1.1632,1.1688,1.1743999999999999,1.18,1.1856,1.1912,1.1967999999999999,1.2024,1.2079999999999997,1.2135999999999998,1.2191999999999998,1.2247999999999999,1.2303999999999997,1.236,1.2415999999999998,1.2472,1.2528,1.2583999999999997,1.264,1.2695999999999998,1.2751999999999997,1.2808,1.2863999999999998,1.292,1.2975999999999999,1.3031999999999997,1.3088,1.3143999999999998,1.32,1.3256,1.3311999999999997,1.3368,1.3423999999999998,1.3479999999999999,1.3536,1.3591999999999997,1.3648,1.3703999999999998,1.376,1.3816,1.3871999999999998,1.3927999999999998,1.3983999999999999,1.404,1.4096,1.4151999999999998,1.4207999999999998,1.4264,1.432,1.4375999999999998,1.4431999999999998,1.4487999999999999,1.4544,1.46,1.4655999999999998,1.4711999999999998,1.4768,1.4823999999999997,1.488,1.4935999999999998,1.4991999999999999,1.5048,1.5103999999999997,1.516,1.5215999999999998,1.5271999999999997,1.5328,1.5383999999999998,1.544,1.5495999999999999,1.5551999999999997,1.5608,1.5663999999999998,1.572,1.5776,1.5831999999999997,1.5888,1.5943999999999998,1.5999999999999999,1.6056,1.6111999999999997,1.6168,1.6223999999999998,1.628,1.6336,1.6391999999999998,1.6447999999999998,1.6503999999999999,1.656,1.6616,1.6671999999999998,1.6727999999999998,1.6784,1.684,1.6895999999999998,1.6951999999999998,1.7007999999999999,1.7064,1.712,1.7175999999999998,1.7231999999999998,1.7288,1.7343999999999997,1.74,1.7455999999999998,1.7511999999999999,1.7568,1.7623999999999997,1.768,1.7735999999999998,1.7791999999999997,1.7848,1.7903999999999998,1.796,1.8015999999999999,1.8071999999999997,1.8128,1.8183999999999998,1.824,1.8296,1.8351999999999997,1.8408,1.8463999999999998,1.8519999999999999,1.8576,1.8631999999999997,1.8688,1.8743999999999998,1.88,1.8856,1.8911999999999998,1.8967999999999998,1.9023999999999999,1.908,1.9136,1.9191999999999998,1.9247999999999998,1.9304,1.936,1.9415999999999998,1.9471999999999998,1.9527999999999999,1.9584,1.964,1.9695999999999998,1.9751999999999998,1.9808,1.9863999999999997,1.992,1.9975999999999998,2.0032,2.0088,2.0143999999999997,2.02,2.0256,2.0311999999999997,2.0368,2.0423999999999998,2.048,2.0536,2.0591999999999997,2.0648,2.0704,2.0759999999999996,2.0816,2.0871999999999997,2.0928,2.0984,2.1039999999999996,2.1096,2.1151999999999997,2.1208,2.1264,2.1319999999999997,2.1376,2.1431999999999998,2.1488,2.1544,2.1599999999999997,2.1656,2.1712,2.1768,2.1824,2.1879999999999997,2.1936,2.1992,2.2048,2.2104,2.2159999999999997,2.2216,2.2272,2.2328,2.2384,2.2439999999999998,2.2496,2.2552,2.2607999999999997,2.2664000000000004,2.2720000000000002,2.2776,2.2832,2.2887999999999997,2.2944000000000004,2.3000000000000003,2.3056,2.3112,2.3167999999999997,2.3224000000000005,2.3280000000000003,2.3336,2.3392,2.3447999999999998,2.3503999999999996,2.3560000000000003,2.3616,2.3672,2.3728,2.3783999999999996,2.3840000000000003,2.3896,2.3952,2.4008,2.4063999999999997,2.4120000000000004,2.4176,2.4232,2.4288,2.4343999999999997,2.4400000000000004,2.4456,2.4512,2.4568,2.4623999999999997,2.468,2.4736000000000002,2.4792,2.4848,2.4903999999999997,2.496,2.5016000000000003,2.5072,2.5128,2.5183999999999997,2.524,2.5296000000000003,2.5352,2.5408,2.5463999999999998,2.552,2.5576,2.5632,2.5688,2.5744,2.58,2.5856,2.5912,2.5968,2.6024,2.608,2.6136,2.6192,2.6248,2.6304,2.636,2.6416,2.6471999999999998,2.6528,2.6584,2.664,2.6696,2.6752,2.6808,2.6864,2.692,2.6976,2.7032,2.7088,2.7144,2.72,2.7256,2.7312,2.7368,2.7424,2.748,2.7536,2.7592,2.7647999999999997,2.7704,2.7760000000000002,2.7816,2.7872,2.7927999999999997,2.7984,2.8040000000000003,2.8096,2.8152,2.8207999999999998,2.8264,2.8320000000000003,2.8376,2.8432,2.8487999999999998,2.8543999999999996,2.8600000000000003,2.8656,2.8712,2.8768,2.8823999999999996,2.8880000000000003,2.8936,2.8992,2.9048,2.9103999999999997,2.9160000000000004,2.9216,2.9272,2.9328,2.9383999999999997,2.9440000000000004,2.9496,2.9552,2.9608,2.9663999999999997,2.972,2.9776000000000002,2.9832,2.9888,2.9943999999999997],\"xaxis\":\"x\",\"y\":[0.12316962526447743,0.12566176557071412,0.12816761609985547,0.13068687861452952,0.13321928483240733,0.13576459679922728,0.13832260713513497,0.14089313915631216,0.14347604687456053,0.14607121487818833,0.14867855809817676,0.1512980214641971,0.1539295794556127,0.15657323555308855,0.15922902159689417,0.16189699705838226,0.16457724823144582,0.16726988735106052,0.16997505164620746,0.17269290233463624,0.1754236235669979,0.1781674213279156,0.1809245223014882,0.1836951727086215,0.18647963712340848,0.18927819727552472,0.19209115084531342,0.1949188102578822,0.19776150148210353,0.20061956283996082,0.20349334383117354,0.20638320397746812,0.20928951169028043,0.21221264316506502,0.21515298130470623,0.2181109146738964,0.22108683648563135,0.22408114362029763,0.22709423567712758,0.23012651405711046,0.23317838107576622,0.23625023910354062,0.23934248973091557,0.24245553295476394,0.24558976638187915,0.2487455844450866,0.25192337762688494,0.2551235316851275,0.25834642687488996,0.2615924371603879,0.26486192941054804,0.26815526257171657,0.27147278681086745,0.2748148426226939,0.2781817598940333,0.2815738569192369,0.28499143936032983,0.2884347991461416,0.29190421330498834,0.295399942725977,0.29892223084457253,0.3024713022487159,0.30604736120249826,0.30965059008519835,0.3132811477443276,0.31693916776226283,0.3206247566370148,0.32433799187869267,0.32807892002429195,0.3318475545745407,0.3356438738576254,0.33946781882579924,0.3433192907919808,0.34719814911462465,0.3511042088402562,0.3550372383141969,0.3589969567710667,0.3629830319177019,0.36699507752212196,0.3710326510231063,0.37509525117577847,0.3791823157494268,0.38329321929443666,0.38742727099579954,0.39158371263121733,0.39576171665210175,0.39996038440609855,0.40417874451985614,0.40841575146075615,0.41267028429618313,0.41694114566864154,0.4212270610045615,0.42552667797410176,0.4298385662184972,0.43416121736067154,0.43849304531378025,0.44283238690120674,0.4471775028002698,0.45152657882039765,0.45587772752504896,0.46022899020491986,0.46457833920820235,0.4689236806317753,0.4732628573751996,0.47759365255733055,0.481913793293213,0.4862209548267232,0.4905127650122113,0.49478680913605017,0.4990406350668477,0.5032717587206477,0.5074776698253118,0.5116558379659846,0.5158037188913623,0.5199187610584458,0.5239984123913498,0.5280401272278789,0.5320413734257706,0.5359996395987715,0.5399124424512713,0.5437773341787424,0.5475919099001365,0.5513538150872659,0.5550607529554445,0.5587104917789915,0.5623008720948197,0.5658298137571011,0.5692953228060138,0.5726954981138955,0.5760285377724901,0.5792927451857721,0.5824865348337077,0.5856084376734713,0.5886571061460071,0.5916313187574179,0.5945299842064157,0.5973521450310663,0.6000969807502198,0.6027638104773562,0.6053520949870383,0.6078614382168417,0.6102915881903319,0.6126424373495925,0.6149140222887095,0.6171065228826993,0.619220260809421,0.6212556974651628,0.6232134312777043,0.6250941944238386,0.6268988489613849,0.6286283823888492,0.6302839026488591,0.6318666325944305,0.6333779039399671,0.6348191507215513,0.6361919022937408,0.6374977758924086,0.6387384687955395,0.6399157501158815,0.6410314522613512,0.6420874621007112,0.6430857118736082,0.6440281698853263,0.644916831027668,0.6457537071682549,0.64654081745116,0.6472801785521781,0.647973794932238,0.6486236491324029,0.6492316921536624,0.6497998339642429,0.6503299341764652,0.650823792934341,0.6512831420519969,0.6517096364417639,0.6521048458693953,0.6524702470722265,0.652807216274424,0.6531170221315702,0.6534008191348776,0.6536596415031823,0.6538943975887438,0.6541058648205362,0.6542946852064336,0.6544613614132538,0.6546062534411914,0.6547295759067149,0.6548313959454981,0.6549116317444438,0.654970051709396,0.6550062742726218,0.6550197683416941,0.6550098543889994,0.6549757061786785,0.6549163531254734,0.6548306832776928,0.6547174469142452,0.654575260743559,0.654402612690064,0.6541978672519831,0.6539592714120953,0.653684961081414,0.6533729680538074,0.653021227447959,0.6526275856114151,0.652189808459889,0.6517055902236213,0.6511725625710779,0.6505883040791416,0.6499503500175899,0.6492562024146459,0.6485033403692684,0.6476892305749532,0.6468113380189207,0.6458671368197898,0.644854121166169,0.643769816317977,0.6426117896318219,0.6413776615713455,0.64006511666314,0.6386719143586613,0.6371958997623999,0.6356350141866616,0.6339873054933813,0.6322509381836422,0.6304242031959522,0.6285055273748021,0.6264934825716707,0.6243867943413587,0.6221843501974806,0.6198852073919086,0.6174886001842345,0.6149939465685185,0.6124008544262044,0.6097091270755977,0.606918768190142,0.6040299860596204,0.601043197170516,0.5979590290839638,0.594778322592081,0.591502133135998,0.5881317314715099,0.5846686035710341,0.5811144497534421,0.5774711830362904,0.5737409267080411,0.5699260111210563,0.5660289697092934,0.5620525342379836,0.557999629295814,0.553873366043514,0.5496770352360563,0.545414099538993,0.5410881851627727,0.5367030728420605,0.5322626881902816,0.5277710914626786,0.5232324667640755,0.5186511107404392,0.5140314207959389,0.5093778828797288,0.5046950588889977,0.49998757373691827,0.49526010213603816,0.49051735514928413,0.4857640665621581,0.48100497913085516,0.47624483076186236,0.4714883406792364,0.4667401956359879,0.4620050362260729,0.4572874433531251,0.45259192491153655,0.44792290273456686,0.44328469986298885,0.4386815281863172,0.43411747650691784,0.4295964990752609,0.4251224046423309,0.42069884607265,0.41632931055863476,0.41201711047403194,0.4077653749010144,0.4035770418621619,0.39945485128507613,0.39540133872372535,0.39141882985687865,0.38750943578018116,0.3836750491044774,0.37991734086914153,0.37623775827512107,0.37263752323858923,0.36911763176209517,0.36567885411633316,0.36232173582187593,0.35904659941653827,0.3558535469905683,0.3527424634684255,0.3497130206127348,0.3467646817229572,0.3438967069984751,0.3411081595332067,0.33839791190642426,0.335764653332349,0.33320689732912184,0.33072298986615767,0.3283111179474404,0.3259693185871915,0.3236954881334867,0.32148739189474085,0.31934267402366073,0.31725886761313643,0.3152334049587027,0.3132636279425777,0.31134679849491526,0.30948010908873647,0.3076606932260642,0.30588563587403017,0.30415198381114483,0.30245675584553605,0.30079695286869124,0.29916956771014835,0.2975715947605735,0.29600003933277835,0.2944519267324343,0.2929243110125058,0.29141428338774145,0.28991898028793267,0.28843559103101285,0.28696136509947384,0.2854936190059285,0.2840297427360127,0.2825672057591367,0.28110356259983416,0.27963645796469205,0.27816363142193923,0.27668292163283364,0.27519227013594655,0.27368972468727815,0.2721734421609121,0.27064169101653535,0.2690928533416972,0.26752542647805866,0.26593802424220747,0.26432937775273757,0.2626983358763718,0.2610438653068013,0.25936505029073065,0.2576610920162945,0.25593130767958333,0.25417512924546803,0.25239210191926953,0.25058188234606144,0.2487442365545325,0.24687903766242114,0.24498626336046972,0.24306599319176306,0.24111840564311002,0.23914377506489556,0.23714246843549988,0.23511494198601882,0.2330617377006,0.23098347970725794,0.22888087057350714,0.22675468752067196,0.22460577857011602,0.22243505863413177,0.22024350556358493,0.21803215616385085,0.21580210218996387,0.21355448633131274,0.21129049819559917,0.2090113703012185,0.2067183740866131,0.20441281594460664,0.20209603328918074,0.19976939066160443,0.19743427588235957,0.19509209625478266,0.19274427482590958,0.1903922467095715,0.1880374554763656,0.18568134961477384,0.18332537906731602,0.1809709918453276,0.17861963072562814,0.17627273003209049,0.1739317125048619,0.17159798625978614,0.16927294184035035,0.16695794936433636,0.1646543557671845,0.16236348214395416,0.16008662119166076,0.15782503475365947,0.15557995146768064,0.15335256451905258,0.15114402950059055,0.14895546238059967,0.1467879375803882,0.14464248616267572,0.14252009413224473,0.14042170085016006,0.13834819756287256,0.13630042604747294,0.1342791773743558,0.13228519078850387,0.130319152710561,0.12838169585881012,0.12647339849311154,0.12459478378176768,0.12274631929220269,0.12092841660622344,0.11914143106051771,0.11738566161289506,0.11566135083461866,0.11396868502900367,0.11230779447625107,0.11067875380428002,0.10908158248508476,0.10751624545588341,0.10598265386407002,0.10448066593467392,0.10301008795875052,0.10157067540078898,0.10016213412290868,0.0987841217232623,0.09743624898571757,0.09611808143753248,0.094829141011367,0.09356890780761692,0.09233682195267785,0.09113228554838979,0.08995466470754748,0.08880329167000874,0.0876774669935906,0.0865764618136143,0.08549952016464231,0.08444586135765583,0.08341468240565082,0.08240516049036974,0.08141645546267144,0.08044771236883722,0.07949806399494716,0.07856663342132925,0.07765253657897603,0.07675488479977102,0.0758727873523262,0.07500535395525153,0.07415169725972356,0.07331093529330343,0.07248219385708739,0.07166460886843465,0.07085732864172155,0.07005951609981421,0.06927035090922737,0.0684890315322556,0.06771477718970419,0.06694682972823224,0.06618445538672686,0.06542694645656516,0.06467362283108247,0.06392383344005015,0.06317695756546968,0.06243240603550972,0.06168962229394822,0.06094808334302262,0.06020730055814375,0.05946682037348275,0.05872622483799282,0.057985132041982655,0.05724319641489621,0.05650010889549608,0.05575559697616461,0.05500942462354543,0.05426139207823621,0.05351133553671071,0.052759126719089666,0.05200467232680095,0.05124791339455565,0.05048882454142805,0.04972741312615802,0.048963718312084306,0.048197810047388046,0.047429787966545886,0.0466597802190883,0.04588794223191801,0.045114455411559055,0.044339525792802564,0.0435633826402591,0.04278627700935253,0.04200848027327026,0.04123028262234071,0.040451991542229615,0.0396739302772423,0.03889643628487998,0.03811985968764258,0.037344561727882496,0.03657091323130822,0.035799293084511345],\"yaxis\":\"y\",\"type\":\"scatter\"},{\"legendgroup\":\"under 2.5\",\"marker\":{\"color\":\"#ffa600\"},\"mode\":\"lines\",\"name\":\"under 2.5\",\"showlegend\":false,\"x\":[0.0,0.0068,0.0136,0.020399999999999998,0.0272,0.034,0.040799999999999996,0.0476,0.0544,0.0612,0.068,0.07479999999999999,0.08159999999999999,0.08839999999999999,0.0952,0.102,0.1088,0.1156,0.1224,0.12919999999999998,0.136,0.14279999999999998,0.14959999999999998,0.1564,0.16319999999999998,0.17,0.17679999999999998,0.18359999999999999,0.1904,0.1972,0.204,0.2108,0.2176,0.22440000000000002,0.2312,0.238,0.2448,0.2516,0.25839999999999996,0.2652,0.272,0.2788,0.28559999999999997,0.2924,0.29919999999999997,0.306,0.3128,0.31959999999999994,0.32639999999999997,0.3332,0.34,0.3468,0.35359999999999997,0.3604,0.36719999999999997,0.374,0.3808,0.38759999999999994,0.3944,0.4012,0.408,0.4148,0.4216,0.4284,0.4352,0.442,0.44880000000000003,0.45559999999999995,0.4624,0.4692,0.476,0.4828,0.4896,0.49639999999999995,0.5032,0.51,0.5167999999999999,0.5236000000000001,0.5304,0.5371999999999999,0.544,0.5508,0.5576,0.5644,0.5711999999999999,0.578,0.5848,0.5916,0.5983999999999999,0.6052,0.612,0.6187999999999999,0.6256,0.6324,0.6391999999999999,0.646,0.6527999999999999,0.6596000000000001,0.6664,0.6731999999999999,0.68,0.6868,0.6936,0.7004,0.7071999999999999,0.714,0.7208,0.7276,0.7343999999999999,0.7412,0.748,0.7547999999999999,0.7616,0.7684,0.7751999999999999,0.782,0.7888,0.7956,0.8024,0.8091999999999999,0.816,0.8228,0.8296,0.8364,0.8432,0.85,0.8568,0.8636,0.8704,0.8772,0.884,0.8907999999999999,0.8976000000000001,0.9044,0.9111999999999999,0.918,0.9248,0.9316,0.9384,0.9451999999999999,0.952,0.9588,0.9656,0.9723999999999999,0.9792,0.986,0.9927999999999999,0.9996,1.0064,1.0131999999999999,1.02,1.0268,1.0335999999999999,1.0403999999999998,1.0472000000000001,1.054,1.0608,1.0675999999999999,1.0743999999999998,1.0812,1.088,1.0948,1.1016,1.1083999999999998,1.1152,1.122,1.1288,1.1356,1.1423999999999999,1.1492,1.156,1.1628,1.1696,1.1764,1.1832,1.19,1.1967999999999999,1.2036,1.2104,1.2172,1.224,1.2308,1.2375999999999998,1.2444,1.2512,1.258,1.2648,1.2715999999999998,1.2783999999999998,1.2852000000000001,1.292,1.2988,1.3055999999999999,1.3123999999999998,1.3192000000000002,1.326,1.3328,1.3396,1.3463999999999998,1.3532,1.36,1.3668,1.3736,1.3803999999999998,1.3872,1.394,1.4008,1.4076,1.4143999999999999,1.4212,1.428,1.4347999999999999,1.4416,1.4484,1.4552,1.462,1.4687999999999999,1.4755999999999998,1.4824,1.4892,1.496,1.5028,1.5095999999999998,1.5164,1.5232,1.53,1.5368,1.5435999999999999,1.5503999999999998,1.5572000000000001,1.564,1.5708,1.5776,1.5843999999999998,1.5912,1.598,1.6048,1.6116,1.6183999999999998,1.6252,1.632,1.6388,1.6456,1.6523999999999999,1.6592,1.666,1.6728,1.6796,1.6864,1.6932,1.7,1.7067999999999999,1.7136,1.7204,1.7272,1.734,1.7408,1.7475999999999998,1.7544,1.7612,1.768,1.7748,1.7815999999999999,1.7883999999999998,1.7952000000000001,1.802,1.8088,1.8155999999999999,1.8223999999999998,1.8292,1.836,1.8428,1.8496,1.8563999999999998,1.8632,1.87,1.8768,1.8836,1.8903999999999999,1.8972,1.904,1.9108,1.9176,1.9243999999999999,1.9312,1.938,1.9447999999999999,1.9516,1.9584,1.9652,1.972,1.9788,1.9855999999999998,1.9924,1.9992,2.006,2.0128,2.0196,2.0263999999999998,2.0332,2.04,2.0468,2.0536,2.0604,2.0671999999999997,2.074,2.0807999999999995,2.0876,2.0944000000000003,2.1012,2.108,2.1148,2.1216,2.1284,2.1351999999999998,2.142,2.1487999999999996,2.1555999999999997,2.1624,2.1692,2.176,2.1828,2.1896,2.1964,2.2032,2.21,2.2167999999999997,2.2236,2.2304,2.2371999999999996,2.244,2.2508,2.2576,2.2644,2.2712,2.278,2.2847999999999997,2.2916,2.2984,2.3051999999999997,2.312,2.3187999999999995,2.3256,2.3324000000000003,2.3392,2.346,2.3528,2.3596,2.3664,2.3731999999999998,2.38,2.3867999999999996,2.3935999999999997,2.4004000000000003,2.4072,2.414,2.4208,2.4276,2.4344,2.4412,2.448,2.4547999999999996,2.4616,2.4684,2.4751999999999996,2.482,2.4888,2.4956,2.5024,2.5092,2.516,2.5227999999999997,2.5296,2.5364,2.5431999999999997,2.55,2.5567999999999995,2.5636,2.5704000000000002,2.5772,2.584,2.5907999999999998,2.5976,2.6044,2.6111999999999997,2.618,2.6247999999999996,2.6315999999999997,2.6384000000000003,2.6452,2.652,2.6588,2.6656,2.6724,2.6792,2.686,2.6927999999999996,2.6995999999999998,2.7064,2.7131999999999996,2.72,2.7268,2.7336,2.7404,2.7472,2.754,2.7607999999999997,2.7676,2.7744,2.7811999999999997,2.788,2.7947999999999995,2.8016,2.8084000000000002,2.8152,2.822,2.8287999999999998,2.8356,2.8424,2.8491999999999997,2.856,2.8627999999999996,2.8695999999999997,2.8764000000000003,2.8832,2.89,2.8968,2.9036,2.9104,2.9172,2.924,2.9307999999999996,2.9375999999999998,2.9444,2.9511999999999996,2.958,2.9648,2.9716,2.9784,2.9852,2.992,2.9987999999999997,3.0056,3.0124,3.0191999999999997,3.026,3.0328,3.0396,3.0464,3.0532,3.06,3.0667999999999997,3.0736,3.0804,3.0871999999999997,3.094,3.1007999999999996,3.1075999999999997,3.1144000000000003,3.1212,3.128,3.1348,3.1416,3.1484,3.1552,3.162,3.1687999999999996,3.1755999999999998,3.1824,3.1892,3.196,3.2028,3.2096,3.2164,3.2232,3.23,3.2367999999999997,3.2436,3.2504,3.2571999999999997,3.264,3.2708,3.2776,3.2844,3.2912,3.298,3.3047999999999997,3.3116,3.3184,3.3251999999999997,3.332,3.3387999999999995,3.3456,3.3524000000000003,3.3592,3.366,3.3728,3.3796,3.3864,3.3931999999999998],\"xaxis\":\"x\",\"y\":[0.0564703606321278,0.05829978023567575,0.06016481499309558,0.062065292423707855,0.06400100426832095,0.06597170590715375,0.06797711584085292,0.07001691524015047,0.07209074756966441,0.07419821829126702,0.07633889465228942,0.07851230556365706,0.08071794157278928,0.08295525493580462,0.08522365979321998,0.08752253245291629,0.08985121178369297,0.09220899972221624,0.09459516189560555,0.09700892836130591,0.09944949446523986,0.10191602181855036,0.1044076393925365,0.10692344473063119,0.10946250527551457,0.11202385980866747,0.11460651999890047,0.11720947205557984,0.11983167848152361,0.122472079919744,0.1251295970874953,0.1278031327903614,0.13049157400844658,0.13319379404611065,0.13590865473611574,0.13863500868855197,0.14137170157445428,0.14411757443368006,0.1468714659963266,0.14963221500677584,0.15239866253935516,0.15516965429461307,0.15794404286528274,0.16072068996123162,0.16349846858298112,0.16627626513379115,0.16905298146082154,0.17182753681647123,0.1745988697317247,0.1773659397941124,0.18012772932379104,0.182883244942198,0.18563151902879005,0.18837161106245764,0.19110260884536776,0.1938236296081881,0.1965338209968623,0.19923236194237184,0.20191846341614064,0.20459136907503755,0.20725035580110185,0.20989473414235585,0.21252384866219287,0.21513707820591388,0.21773383609401112,0.22031357025270046,0.22287576329304126,0.2254199325506834,0.22794563009887142,0.23045244274779128,0.2329399920436438,0.23540793428101103,0.23785596054206512,0.24028379677601686,0.2426912039318961,0.24507797815723303,0.24744395107459574,0.24978899014707673,0.2521129991428689,0.2544159187079068,0.25669772705429184,0.2589584407707277,0.26119811575970503,0.26341684830441314,0.2656147762666142,0.2677920804148088,0.26994898588005295,0.2720857637347863,0.2742027326879264,0.276300260887443,0.2783787678194824,0.28043872629106686,0.28248066448134146,0.2845051680443459,0.28651288224438526,0.28850451410325983,0.2904808345369077,0.2924426804574591,0.2943909568152745,0.29632663855431685,0.29825077245312664,0.3001644788228302,0.30206895303296016,0.30396546683543707,0.3058553694568992,0.3077400884295873,0.30962113013132925,0.3115000800057018,0.3133786024342592,0.31525844023378424,0.31714141375283456,0.3190294195433991,0.3209244285853052,0.32282848404304215,0.32474369853691404,0.3266722509129348,0.3286163824985111,0.3305783928338483,0.3325606348719961,0.3345655096436554,0.3365954603861462,0.3386529661393382,0.34074053481488065,0.3428606957485818,0.3450159917494617,0.3472089706625836,0.34944217646644465,0.3517181399293043,0.3540393688523986,0.3564083379314993,0.3588274782716793,0.3612991665934509,0.3638257141716006,0.3664093555510737,0.3690522370870712,0.3717564053591874,0.3745237955118326,0.37735621957539117,0.38025535482452016,0.38322273223166725,0.38625972507534406,0.3893675377637516,0.392547194935257,0.39579953089766184,0.3991251794684374,0.4025245642779509,0.4059978895972207,0.40954513175093776,0.4131660311752996,0.4168600851787141,0.420626541461546,0.4244643924488512,0.428372370487512,0.43234894395622137,0.4363923143335583,0.44050041426574954,0.44467090667186765,0.44890118491990166,0.4531883741026642,0.45752933343763513,0.46192065980976504,0.4663586924708905,0.4708395189038427,0.4753589818535206,0.4799126875212337,0.48449601491245015,0.4891041263218655,0.4937319789332874,0.49837433750543525,0.5030257881083123,0.5076807528683099,0.5123335056738751,0.5169781887872276,0.5216088303014424,0.5262193623762573,0.5308036401801491,0.5353554614607434,0.5398685866604254,0.5443367594891656,0.5487537278621418,0.5531132651057458,0.557409191332022,0.5616353948786278,0.5657858537089248,0.5698546566650304,0.5738360244653886,0.5777243303378884,0.5815141201796871,0.5852001321356763,0.5887773154890825,0.5922408487599249,0.5955861569100123,0.5988089275568715,0.6019051261033683,0.6048710096949089,0.6077031399218519,0.6103983941912275,0.6129539756988572,0.6153674219406251,0.6176366117097907,0.6197597705358611,0.6217354745296346,0.6235626526084275,0.6252405870852306,0.6267689126155286,0.6281476135055927,0.6293770193962995,0.6304577993466909,0.6313909543516449,0.6321778083380001,0.6328199976931774,0.6333194593898027,0.6336784177788362,0.6338993701322588,0.633985071024406,0.633938515648432,0.6337629221710906,0.6334617132350618,0.633038496723232,0.6324970459037202,0.6318412790779715,0.6310752388568298,0.6302030711911887,0.6292290042845883,0.6281573275148826,0.6269923704909958,0.6257384823686647,0.6244000115461057,0.622981285856604,0.6214865933703146,0.6199201639120027,0.6182861513950922,0.616588617065404,0.6148315137402872,0.6130186711205593,0.611153782243986,0.6092403911398149,0.6072818817343779,0.6052814680480261,0.6032421857136863,0.6011668848373296,0.5990582242106045,0.5969186668759455,0.5947504770347106,0.5925557182793674,0.5903362531215773,0.5880937437792462,0.585829654177285,0.5835452531090813,0.5812416184984907,0.5789196426956386,0.5765800387340015,0.5742233474711147,0.5718499455309435,0.569460053962363,0.5670537475254629,0.5646309645154177,0.5621915170325159,0.5597351016065912,0.5572613100845022,0.5547696406905013,0.5522595091712301,0.549730259939658,0.5471811771355387,0.5446114955237962,0.5420204111566371,0.5394070917300763,0.5367706865708831,0.5341103361956596,0.5314251813897454,0.5287143717599261,0.5259770737213291,0.5232124778854318,0.5204198058227594,0.5175983161803305,0.5147473101405469,0.5118661362144826,0.5089541943688086,0.5060109394914791,0.5030358842070133,0.5000286010575049,0.4969887240704764,0.4939159497392418,0.49081003744557633,0.4876708093581576,0.4844981498434348,0.481292004428297,0.4780523783561291,0.474779334779548,0.47147299263435116,0.4681335242399292,0.46476115267166723,0.46135614895065735,0.4579188290954041,0.4544495510791741,0.45094871173517037,0.44741674364996215,0.4438541120834356,0.44026131195117235,0.4366388649024514,0.4329873165242412,0.4293072336984361,0.4255992021364468,0.4218638241119154,0.4181017164089691,0.41431350850003007,0.4104998409638076,0.40666136415074694,0.40279873709991937,0.39891262670818095,0.39500370714934774,0.3910726595382607,0.38712017183188663,0.38314693895705915,0.37915366315218735,0.3751410545081203,0.371109831691556,0.3670607228327401,0.3629944665578601,0.35891181314544063,0.35481352578517555,0.35070038191705577,0.346573174628281,0.34243271408532255,0.3382798289786277,0.33411536795776176,0.3299402010353483,0.3257552209388504,0.32156134439016326,0.31735951329404244,0.313150695817572,0.3089358873442271,0.30471611128750015,0.3004924197505878,0.2962658940202286,0.2920376448844276,0.2878088127654878,0.2835805676614715,0.27935410889093343,0.275130664637443,0.2709114912921174,0.26669787259399813,0.26249111856969887,0.2582925642752828,0.2541035683447687,0.2499255113510586,0.24575979398635156,0.24160783507030997,0.23747106939535748,0.23335094541945448,0.22924892281762252,0.2251664699042537,0.22110506093892557,0.21706617332902794,0.21305128474295196,0.20906187014798042,0.20509939878726755,0.20116533111046137,0.19726111567260698,0.19338818601592722,0.18954795754899192,0.18574182443760642,0.18197115652146126,0.17823729627029686,0.17454155579290548,0.17088521391186864,0.16726951331640774,0.16369565780517184,0.16016480963020596,0.15667808695268995,0.15323656142038872,0.1498412558760624,0.1464931422053562,0.14319313933198471,0.13994211136725448,0.13674086592022822,0.13359015257407447,0.13049066153337563,0.127443022446415,0.12444780340569479,0.12150551012919705,0.11861658532414997,0.11578140823432892,0.11300029437121073,0.1102734954285872,0.10760119937956594,0.10498353075421041,0.10242055109542585,0.09991225959006621,0.09745859387163198,0.09505943099033781,0.09271458854577339,0.09042382597683647,0.08818684600310413,0.08600329621132109,0.08387277078021362,0.08179481233640831,0.07976891393381622,0.07779452114846086,0.07587103428037349,0.07399781065384627,0.07217416700703881,0.07039938196165636,0.06867269856318337,0.06699332688193961,0.06536044666504841,0.06377321002926281,0.062230744184468105,0.06073215417761387,0.059276525646764854,0.057862927574955855,0.0564904150335571,0.055158031904909616,0.053864813574095394,0.05260978957983116,0.05139198621465405,0.05021042906477573,0.04906414548023161,0.04795216696624522,0.04687353148705675,0.045827285673835684,0.04481248692871158,0.0438282054174036,0.04287352594342362,0.041947549697353446,0.04104939587526292,0.04017820316093961,0.03933313106723331,0.038513361132488835,0.037718097968738554,0.036946570159051374,0.03619803100218477,0.035471759103457755,0.03476705881155121,0.03408326050174414,0.03341972070690588,0.03277582209838109,0.03215097331971914,0.031544608677014925,0.030956187690424127,0.030385194512207364,0.029831137217419,0.029293546974096567,0.028771977100513404,0.028266002017725722,0.02777521610627146,0.02729923247645583,0.02683768166218207,0.026390210248752623,0.025956479445467067,0.025536163614178983,0.02512894876523906,0.024734531032439125,0.024352615138686255,0.02398291286416725,0.023625141528716535,0.023279022499967852,0.022944279738657702,0.02262063839215123,0.02230782344688456,0.02200555844995805,0.02171356430958201,0.02143155818346685,0.02115925246356882,0.02089635386485901,0.020642562624974794,0.020397571820756216,0.020161066806753895,0.01993272477985082,0.01971221447314917,0.019499195981264195,0.019293320718135047,0.019094231507422555,0.018901562804519035,0.018714941048161206,0.018533985138614376,0.01835830703840178,0.01818751249058572,0.018021201848684602,0.017858971011433963,0.017700412454779036,0.017545116352728787,0.017392671778013583,0.017242667972875277,0.01709469567978238,0.016948348521419087,0.016803224418931013,0.016658927037142415,0.01651506724528537,0.016371264581692736,0.01622714871092503,0.01608236086190225,0.01593655523581208,0.01578940037285359,0.015640580467251267,0.015489796620432879,0.01533676802280314,0.015181233055153778,0.01502295030143216,0.014861699465327513],\"yaxis\":\"y\",\"type\":\"scatter\"}],                        {\"barmode\":\"overlay\",\"hovermode\":\"closest\",\"legend\":{\"traceorder\":\"reversed\"},\"xaxis\":{\"anchor\":\"y2\",\"domain\":[0.0,1.0],\"zeroline\":false,\"range\":[0,5]},\"yaxis\":{\"anchor\":\"free\",\"domain\":[0.0,1],\"position\":0.0},\"template\":{\"data\":{\"bar\":[{\"error_x\":{\"color\":\"#2a3f5f\"},\"error_y\":{\"color\":\"#2a3f5f\"},\"marker\":{\"line\":{\"color\":\"#E5ECF6\",\"width\":0.5},\"pattern\":{\"fillmode\":\"overlay\",\"size\":10,\"solidity\":0.2}},\"type\":\"bar\"}],\"barpolar\":[{\"marker\":{\"line\":{\"color\":\"#E5ECF6\",\"width\":0.5},\"pattern\":{\"fillmode\":\"overlay\",\"size\":10,\"solidity\":0.2}},\"type\":\"barpolar\"}],\"carpet\":[{\"aaxis\":{\"endlinecolor\":\"#2a3f5f\",\"gridcolor\":\"white\",\"linecolor\":\"white\",\"minorgridcolor\":\"white\",\"startlinecolor\":\"#2a3f5f\"},\"baxis\":{\"endlinecolor\":\"#2a3f5f\",\"gridcolor\":\"white\",\"linecolor\":\"white\",\"minorgridcolor\":\"white\",\"startlinecolor\":\"#2a3f5f\"},\"type\":\"carpet\"}],\"choropleth\":[{\"colorbar\":{\"outlinewidth\":0,\"ticks\":\"\"},\"type\":\"choropleth\"}],\"contour\":[{\"colorbar\":{\"outlinewidth\":0,\"ticks\":\"\"},\"colorscale\":[[0.0,\"#0d0887\"],[0.1111111111111111,\"#46039f\"],[0.2222222222222222,\"#7201a8\"],[0.3333333333333333,\"#9c179e\"],[0.4444444444444444,\"#bd3786\"],[0.5555555555555556,\"#d8576b\"],[0.6666666666666666,\"#ed7953\"],[0.7777777777777778,\"#fb9f3a\"],[0.8888888888888888,\"#fdca26\"],[1.0,\"#f0f921\"]],\"type\":\"contour\"}],\"contourcarpet\":[{\"colorbar\":{\"outlinewidth\":0,\"ticks\":\"\"},\"type\":\"contourcarpet\"}],\"heatmap\":[{\"colorbar\":{\"outlinewidth\":0,\"ticks\":\"\"},\"colorscale\":[[0.0,\"#0d0887\"],[0.1111111111111111,\"#46039f\"],[0.2222222222222222,\"#7201a8\"],[0.3333333333333333,\"#9c179e\"],[0.4444444444444444,\"#bd3786\"],[0.5555555555555556,\"#d8576b\"],[0.6666666666666666,\"#ed7953\"],[0.7777777777777778,\"#fb9f3a\"],[0.8888888888888888,\"#fdca26\"],[1.0,\"#f0f921\"]],\"type\":\"heatmap\"}],\"heatmapgl\":[{\"colorbar\":{\"outlinewidth\":0,\"ticks\":\"\"},\"colorscale\":[[0.0,\"#0d0887\"],[0.1111111111111111,\"#46039f\"],[0.2222222222222222,\"#7201a8\"],[0.3333333333333333,\"#9c179e\"],[0.4444444444444444,\"#bd3786\"],[0.5555555555555556,\"#d8576b\"],[0.6666666666666666,\"#ed7953\"],[0.7777777777777778,\"#fb9f3a\"],[0.8888888888888888,\"#fdca26\"],[1.0,\"#f0f921\"]],\"type\":\"heatmapgl\"}],\"histogram\":[{\"marker\":{\"pattern\":{\"fillmode\":\"overlay\",\"size\":10,\"solidity\":0.2}},\"type\":\"histogram\"}],\"histogram2d\":[{\"colorbar\":{\"outlinewidth\":0,\"ticks\":\"\"},\"colorscale\":[[0.0,\"#0d0887\"],[0.1111111111111111,\"#46039f\"],[0.2222222222222222,\"#7201a8\"],[0.3333333333333333,\"#9c179e\"],[0.4444444444444444,\"#bd3786\"],[0.5555555555555556,\"#d8576b\"],[0.6666666666666666,\"#ed7953\"],[0.7777777777777778,\"#fb9f3a\"],[0.8888888888888888,\"#fdca26\"],[1.0,\"#f0f921\"]],\"type\":\"histogram2d\"}],\"histogram2dcontour\":[{\"colorbar\":{\"outlinewidth\":0,\"ticks\":\"\"},\"colorscale\":[[0.0,\"#0d0887\"],[0.1111111111111111,\"#46039f\"],[0.2222222222222222,\"#7201a8\"],[0.3333333333333333,\"#9c179e\"],[0.4444444444444444,\"#bd3786\"],[0.5555555555555556,\"#d8576b\"],[0.6666666666666666,\"#ed7953\"],[0.7777777777777778,\"#fb9f3a\"],[0.8888888888888888,\"#fdca26\"],[1.0,\"#f0f921\"]],\"type\":\"histogram2dcontour\"}],\"mesh3d\":[{\"colorbar\":{\"outlinewidth\":0,\"ticks\":\"\"},\"type\":\"mesh3d\"}],\"parcoords\":[{\"line\":{\"colorbar\":{\"outlinewidth\":0,\"ticks\":\"\"}},\"type\":\"parcoords\"}],\"pie\":[{\"automargin\":true,\"type\":\"pie\"}],\"scatter\":[{\"marker\":{\"colorbar\":{\"outlinewidth\":0,\"ticks\":\"\"}},\"type\":\"scatter\"}],\"scatter3d\":[{\"line\":{\"colorbar\":{\"outlinewidth\":0,\"ticks\":\"\"}},\"marker\":{\"colorbar\":{\"outlinewidth\":0,\"ticks\":\"\"}},\"type\":\"scatter3d\"}],\"scattercarpet\":[{\"marker\":{\"colorbar\":{\"outlinewidth\":0,\"ticks\":\"\"}},\"type\":\"scattercarpet\"}],\"scattergeo\":[{\"marker\":{\"colorbar\":{\"outlinewidth\":0,\"ticks\":\"\"}},\"type\":\"scattergeo\"}],\"scattergl\":[{\"marker\":{\"colorbar\":{\"outlinewidth\":0,\"ticks\":\"\"}},\"type\":\"scattergl\"}],\"scattermapbox\":[{\"marker\":{\"colorbar\":{\"outlinewidth\":0,\"ticks\":\"\"}},\"type\":\"scattermapbox\"}],\"scatterpolar\":[{\"marker\":{\"colorbar\":{\"outlinewidth\":0,\"ticks\":\"\"}},\"type\":\"scatterpolar\"}],\"scatterpolargl\":[{\"marker\":{\"colorbar\":{\"outlinewidth\":0,\"ticks\":\"\"}},\"type\":\"scatterpolargl\"}],\"scatterternary\":[{\"marker\":{\"colorbar\":{\"outlinewidth\":0,\"ticks\":\"\"}},\"type\":\"scatterternary\"}],\"surface\":[{\"colorbar\":{\"outlinewidth\":0,\"ticks\":\"\"},\"colorscale\":[[0.0,\"#0d0887\"],[0.1111111111111111,\"#46039f\"],[0.2222222222222222,\"#7201a8\"],[0.3333333333333333,\"#9c179e\"],[0.4444444444444444,\"#bd3786\"],[0.5555555555555556,\"#d8576b\"],[0.6666666666666666,\"#ed7953\"],[0.7777777777777778,\"#fb9f3a\"],[0.8888888888888888,\"#fdca26\"],[1.0,\"#f0f921\"]],\"type\":\"surface\"}],\"table\":[{\"cells\":{\"fill\":{\"color\":\"#EBF0F8\"},\"line\":{\"color\":\"white\"}},\"header\":{\"fill\":{\"color\":\"#C8D4E3\"},\"line\":{\"color\":\"white\"}},\"type\":\"table\"}]},\"layout\":{\"annotationdefaults\":{\"arrowcolor\":\"#2a3f5f\",\"arrowhead\":0,\"arrowwidth\":1},\"autotypenumbers\":\"strict\",\"coloraxis\":{\"colorbar\":{\"outlinewidth\":0,\"ticks\":\"\"}},\"colorscale\":{\"diverging\":[[0,\"#8e0152\"],[0.1,\"#c51b7d\"],[0.2,\"#de77ae\"],[0.3,\"#f1b6da\"],[0.4,\"#fde0ef\"],[0.5,\"#f7f7f7\"],[0.6,\"#e6f5d0\"],[0.7,\"#b8e186\"],[0.8,\"#7fbc41\"],[0.9,\"#4d9221\"],[1,\"#276419\"]],\"sequential\":[[0.0,\"#0d0887\"],[0.1111111111111111,\"#46039f\"],[0.2222222222222222,\"#7201a8\"],[0.3333333333333333,\"#9c179e\"],[0.4444444444444444,\"#bd3786\"],[0.5555555555555556,\"#d8576b\"],[0.6666666666666666,\"#ed7953\"],[0.7777777777777778,\"#fb9f3a\"],[0.8888888888888888,\"#fdca26\"],[1.0,\"#f0f921\"]],\"sequentialminus\":[[0.0,\"#0d0887\"],[0.1111111111111111,\"#46039f\"],[0.2222222222222222,\"#7201a8\"],[0.3333333333333333,\"#9c179e\"],[0.4444444444444444,\"#bd3786\"],[0.5555555555555556,\"#d8576b\"],[0.6666666666666666,\"#ed7953\"],[0.7777777777777778,\"#fb9f3a\"],[0.8888888888888888,\"#fdca26\"],[1.0,\"#f0f921\"]]},\"colorway\":[\"#636efa\",\"#EF553B\",\"#00cc96\",\"#ab63fa\",\"#FFA15A\",\"#19d3f3\",\"#FF6692\",\"#B6E880\",\"#FF97FF\",\"#FECB52\"],\"font\":{\"color\":\"#2a3f5f\"},\"geo\":{\"bgcolor\":\"white\",\"lakecolor\":\"white\",\"landcolor\":\"#E5ECF6\",\"showlakes\":true,\"showland\":true,\"subunitcolor\":\"white\"},\"hoverlabel\":{\"align\":\"left\"},\"hovermode\":\"closest\",\"mapbox\":{\"style\":\"light\"},\"paper_bgcolor\":\"white\",\"plot_bgcolor\":\"#E5ECF6\",\"polar\":{\"angularaxis\":{\"gridcolor\":\"white\",\"linecolor\":\"white\",\"ticks\":\"\"},\"bgcolor\":\"#E5ECF6\",\"radialaxis\":{\"gridcolor\":\"white\",\"linecolor\":\"white\",\"ticks\":\"\"}},\"scene\":{\"xaxis\":{\"backgroundcolor\":\"#E5ECF6\",\"gridcolor\":\"white\",\"gridwidth\":2,\"linecolor\":\"white\",\"showbackground\":true,\"ticks\":\"\",\"zerolinecolor\":\"white\"},\"yaxis\":{\"backgroundcolor\":\"#E5ECF6\",\"gridcolor\":\"white\",\"gridwidth\":2,\"linecolor\":\"white\",\"showbackground\":true,\"ticks\":\"\",\"zerolinecolor\":\"white\"},\"zaxis\":{\"backgroundcolor\":\"#E5ECF6\",\"gridcolor\":\"white\",\"gridwidth\":2,\"linecolor\":\"white\",\"showbackground\":true,\"ticks\":\"\",\"zerolinecolor\":\"white\"}},\"shapedefaults\":{\"line\":{\"color\":\"#2a3f5f\"}},\"ternary\":{\"aaxis\":{\"gridcolor\":\"white\",\"linecolor\":\"white\",\"ticks\":\"\"},\"baxis\":{\"gridcolor\":\"white\",\"linecolor\":\"white\",\"ticks\":\"\"},\"bgcolor\":\"#E5ECF6\",\"caxis\":{\"gridcolor\":\"white\",\"linecolor\":\"white\",\"ticks\":\"\"}},\"title\":{\"x\":0.05},\"xaxis\":{\"automargin\":true,\"gridcolor\":\"white\",\"linecolor\":\"white\",\"ticks\":\"\",\"title\":{\"standoff\":15},\"zerolinecolor\":\"white\",\"zerolinewidth\":2},\"yaxis\":{\"automargin\":true,\"gridcolor\":\"white\",\"linecolor\":\"white\",\"ticks\":\"\",\"title\":{\"standoff\":15},\"zerolinecolor\":\"white\",\"zerolinewidth\":2}}},\"title\":{\"text\":\"Distplot with Normal Distribution  navgGoalConcededAway\"}},                        {\"responsive\": true}                    ).then(function(){\n",
              "                            \n",
              "var gd = document.getElementById('7b407e80-2616-4b60-8663-f20984af1735');\n",
              "var x = new MutationObserver(function (mutations, observer) {{\n",
              "        var display = window.getComputedStyle(gd).display;\n",
              "        if (!display || display === 'none') {{\n",
              "            console.log([gd, 'removed!']);\n",
              "            Plotly.purge(gd);\n",
              "            observer.disconnect();\n",
              "        }}\n",
              "}});\n",
              "\n",
              "// Listen for the removal of the full notebook cells\n",
              "var notebookContainer = gd.closest('#notebook-container');\n",
              "if (notebookContainer) {{\n",
              "    x.observe(notebookContainer, {childList: true});\n",
              "}}\n",
              "\n",
              "// Listen for the clearing of the current output cell\n",
              "var outputEl = gd.closest('.output');\n",
              "if (outputEl) {{\n",
              "    x.observe(outputEl, {childList: true});\n",
              "}}\n",
              "\n",
              "                        })                };                            </script>        </div>\n",
              "</body>\n",
              "</html>"
            ]
          },
          "metadata": {}
        }
      ]
    },
    {
      "cell_type": "code",
      "source": [
        "\n",
        "lis=[features.avgGoalHome[data['target']==1], features.avgGoalHome[data['target']==0]]\n",
        "group_labels=['over 2.5','under 2.5']\n",
        "colors = ['#003f5c', '#ffa600']\n",
        "# Create distplot \n",
        "fig = ff.create_distplot(lis, group_labels, bin_size=20,show_rug=False,\n",
        "                         curve_type='kde', # override default 'kde'\n",
        "                         colors=colors)\n",
        "\n",
        "# Add title\n",
        "fig.update_layout(xaxis_range=[0,5])\n",
        "fig.update_layout(title_text='Distplot with Normal Distribution  avgGoalHome')\n",
        "fig.show()"
      ],
      "metadata": {
        "colab": {
          "base_uri": "https://localhost:8080/",
          "height": 542
        },
        "id": "43rYvhInLZ9m",
        "outputId": "f8e2085f-f3d2-4109-9d88-362468c68b77"
      },
      "execution_count": 533,
      "outputs": [
        {
          "output_type": "display_data",
          "data": {
            "text/html": [
              "<html>\n",
              "<head><meta charset=\"utf-8\" /></head>\n",
              "<body>\n",
              "    <div>            <script src=\"https://cdnjs.cloudflare.com/ajax/libs/mathjax/2.7.5/MathJax.js?config=TeX-AMS-MML_SVG\"></script><script type=\"text/javascript\">if (window.MathJax) {MathJax.Hub.Config({SVG: {font: \"STIX-Web\"}});}</script>                <script type=\"text/javascript\">window.PlotlyConfig = {MathJaxConfig: 'local'};</script>\n",
              "        <script src=\"https://cdn.plot.ly/plotly-2.8.3.min.js\"></script>                <div id=\"442a518b-c9f1-4888-9b69-599eebade2f7\" class=\"plotly-graph-div\" style=\"height:525px; width:100%;\"></div>            <script type=\"text/javascript\">                                    window.PLOTLYENV=window.PLOTLYENV || {};                                    if (document.getElementById(\"442a518b-c9f1-4888-9b69-599eebade2f7\")) {                    Plotly.newPlot(                        \"442a518b-c9f1-4888-9b69-599eebade2f7\",                        [{\"autobinx\":false,\"histnorm\":\"probability density\",\"legendgroup\":\"over 2.5\",\"marker\":{\"color\":\"#003f5c\"},\"name\":\"over 2.5\",\"opacity\":0.7,\"x\":[0.918918918918919,0.8918918918918919,1.7297297297297298,2.189189189189189,1.1081081081081081,2.0,1.7567567567567568,0.7297297297297297,1.5277777777777777,1.1666666666666667,1.7777777777777777,1.8888888888888888,1.5277777777777777,1.5277777777777777,1.3333333333333333,1.542857142857143,1.7428571428571429,0.8857142857142857,0.8285714285714286,1.0571428571428572,1.7142857142857142,0.7142857142857143,1.7941176470588236,1.6176470588235294,1.7647058823529411,1.3235294117647058,1.5294117647058822,1.0,1.7941176470588236,0.9117647058823529,1.121212121212121,1.7272727272727273,1.6363636363636365,1.7575757575757576,1.2727272727272727,1.7575757575757576,2.125,0.8125,1.125,1.5161290322580645,2.0,1.75,1.0,1.0666666666666667,1.1666666666666667,1.6451612903225807,1.8064516129032258,1.8064516129032258,0.7419354838709677,0.9354838709677419,2.1,1.3225806451612903,1.8666666666666667,1.7586206896551724,1.6551724137931034,0.7857142857142857,1.9333333333333333,1.0333333333333334,1.6206896551724137,1.5517241379310345,2.1785714285714284,0.7586206896551724,1.7586206896551724,1.2222222222222223,1.8928571428571428,1.7037037037037037,1.9285714285714286,1.2857142857142858,0.7692307692307693,1.5185185185185186,1.7307692307692308,0.8148148148148148,1.28,2.1153846153846154,1.84,2.0384615384615383,1.0769230769230769,1.6538461538461537,0.7916666666666666,0.8461538461538461,1.0,2.2916666666666665,0.9166666666666666,0.7391304347826086,1.68,1.9565217391304348,0.8333333333333334,1.5416666666666667,2.0416666666666665,1.4782608695652173,1.3333333333333333,0.9090909090909091,1.2608695652173914,2.0,1.8636363636363635,2.409090909090909,1.7391304347826086,2.1363636363636362,1.5909090909090908,1.0454545454545454,0.9545454545454546,2.090909090909091,1.8636363636363635,1.7,1.4,2.2,0.9,1.7142857142857142,1.5238095238095237,1.3333333333333333,0.95,1.8,0.9473684210526315,1.5789473684210527,2.0526315789473686,1.4210526315789473,1.9444444444444444,1.8333333333333333,2.6666666666666665,0.9444444444444444,1.3888888888888888,2.1176470588235294,1.2941176470588236,1.4705882352941178,1.0,1.8235294117647058,1.0,1.411764705882353,0.6470588235294118,2.125,2.0,1.25,0.9375,1.0666666666666667,1.4,1.4,2.1333333333333333,1.6,1.7857142857142858,2.4285714285714284,1.4285714285714286,0.7857142857142857,1.7692307692307692,1.1538461538461537,1.2307692307692308,1.3076923076923077,1.4615384615384615,0.8333333333333334,2.0833333333333335,1.8333333333333333,2.272727272727273,2.090909090909091,1.0909090909090908,1.2727272727272727,0.7272727272727273,1.0909090909090908,1.0909090909090908,1.0,1.3,1.2,2.111111111111111,1.4444444444444444,2.4444444444444446,1.25,1.125,1.125,0.7142857142857143,2.142857142857143,2.142857142857143,1.1428571428571428,1.3333333333333333,2.3333333333333335,1.5,1.5,0.6666666666666666,1.1666666666666667,1.0,1.4,1.4,3.6],\"xaxis\":\"x\",\"xbins\":{\"end\":3.6,\"size\":20,\"start\":0.6470588235294118},\"yaxis\":\"y\",\"type\":\"histogram\"},{\"autobinx\":false,\"histnorm\":\"probability density\",\"legendgroup\":\"under 2.5\",\"marker\":{\"color\":\"#ffa600\"},\"name\":\"under 2.5\",\"opacity\":0.7,\"x\":[1.5405405405405406,1.2432432432432432,0.9166666666666666,1.1666666666666667,1.7222222222222223,2.0,1.2857142857142858,2.1142857142857143,0.8529411764705882,1.5588235294117647,1.2058823529411764,1.9696969696969697,0.7272727272727273,1.09375,0.8125,1.7096774193548387,1.8125,1.53125,1.6774193548387097,1.4333333333333333,1.21875,0.9375,0.8333333333333334,1.8333333333333333,1.5666666666666667,1.3,1.2857142857142858,1.1428571428571428,1.3793103448275863,0.8928571428571429,0.9655172413793104,1.7586206896551724,2.0357142857142856,1.3076923076923077,1.8518518518518519,1.0,1.8148148148148149,0.9230769230769231,1.2307692307692308,1.037037037037037,1.6666666666666667,1.8846153846153846,1.28,1.4615384615384615,2.0,1.2083333333333333,1.3043478260869565,1.7916666666666667,1.32,1.48,1.0833333333333333,1.625,1.7916666666666667,1.3043478260869565,1.875,2.0416666666666665,0.6666666666666666,1.3181818181818181,1.380952380952381,1.7727272727272727,2.4285714285714284,0.9090909090909091,2.1904761904761907,1.6666666666666667,0.6842105263157895,1.8,2.5789473684210527,1.6,1.0,1.4444444444444444,1.65,1.4210526315789473,2.1052631578947367,1.0,1.5555555555555556,1.6666666666666667,1.6666666666666667,1.0555555555555556,2.176470588235294,1.9411764705882353,1.5,2.4375,1.625,1.3125,1.6875,1.0625,1.5333333333333334,1.3333333333333333,0.8,1.0,2.2,1.2142857142857142,1.5714285714285714,1.2142857142857142,2.0,1.5,2.0,2.0,2.230769230769231,0.9230769230769231,1.3846153846153846,1.1538461538461537,1.25,2.0833333333333335,1.4166666666666667,2.4166666666666665,1.5833333333333333,1.4166666666666667,1.3333333333333333,2.0,1.3636363636363635,1.4545454545454546,1.5,1.8,1.4,1.5,2.6,2.2,1.8,2.111111111111111,1.5555555555555556,1.2222222222222223,1.2222222222222223,1.4444444444444444,0.7777777777777778,1.2222222222222223,2.875,2.0,2.125,1.75,1.625,0.75,1.375,1.5714285714285714,2.5714285714285716,1.2857142857142858,1.4285714285714286,1.2857142857142858,1.1428571428571428,1.8333333333333333,1.1666666666666667,1.0,1.5,0.6,2.8,2.4,1.2,1.0,1.4],\"xaxis\":\"x\",\"xbins\":{\"end\":2.875,\"size\":20,\"start\":0.6},\"yaxis\":\"y\",\"type\":\"histogram\"},{\"legendgroup\":\"over 2.5\",\"marker\":{\"color\":\"#003f5c\"},\"mode\":\"lines\",\"name\":\"over 2.5\",\"showlegend\":false,\"x\":[0.6470588235294118,0.652964705882353,0.6588705882352941,0.6647764705882353,0.6706823529411765,0.6765882352941177,0.6824941176470588,0.6884,0.6943058823529412,0.7002117647058824,0.7061176470588235,0.7120235294117647,0.7179294117647059,0.7238352941176471,0.7297411764705882,0.7356470588235294,0.7415529411764706,0.7474588235294118,0.7533647058823529,0.7592705882352941,0.7651764705882353,0.7710823529411766,0.7769882352941176,0.7828941176470589,0.7888000000000001,0.7947058823529412,0.8006117647058824,0.8065176470588236,0.8124235294117648,0.818329411764706,0.8242352941176471,0.8301411764705883,0.8360470588235295,0.8419529411764706,0.8478588235294118,0.853764705882353,0.8596705882352942,0.8655764705882354,0.8714823529411765,0.8773882352941177,0.8832941176470589,0.8892,0.8951058823529412,0.9010117647058824,0.9069176470588236,0.9128235294117647,0.9187294117647059,0.9246352941176471,0.9305411764705882,0.9364470588235294,0.9423529411764706,0.9482588235294118,0.954164705882353,0.9600705882352941,0.9659764705882353,0.9718823529411765,0.9777882352941176,0.9836941176470588,0.9896,0.9955058823529412,1.0014117647058824,1.0073176470588234,1.0132235294117646,1.0191294117647058,1.025035294117647,1.0309411764705882,1.0368470588235295,1.0427529411764707,1.0486588235294119,1.054564705882353,1.0604705882352943,1.0663764705882355,1.0722823529411765,1.0781882352941177,1.0840941176470589,1.09,1.0959058823529413,1.1018117647058823,1.1077176470588235,1.1136235294117647,1.1195294117647059,1.125435294117647,1.1313411764705883,1.1372470588235295,1.1431529411764707,1.149058823529412,1.1549647058823531,1.1608705882352943,1.1667764705882353,1.1726823529411765,1.1785882352941175,1.184494117647059,1.1904,1.196305882352941,1.2022117647058823,1.2081176470588235,1.2140235294117647,1.219929411764706,1.2258352941176471,1.2317411764705883,1.2376470588235295,1.2435529411764707,1.249458823529412,1.2553647058823532,1.2612705882352941,1.2671764705882353,1.2730823529411763,1.2789882352941178,1.2848941176470587,1.2908,1.2967058823529412,1.3026117647058824,1.3085176470588236,1.3144235294117648,1.320329411764706,1.3262352941176472,1.3321411764705884,1.3380470588235296,1.3439529411764708,1.349858823529412,1.355764705882353,1.3616705882352942,1.3675764705882352,1.3734823529411766,1.3793882352941176,1.3852941176470588,1.3912,1.3971058823529412,1.4030117647058824,1.4089176470588236,1.4148235294117648,1.420729411764706,1.4266352941176472,1.4325411764705884,1.4384470588235296,1.4443529411764708,1.4502588235294118,1.456164705882353,1.462070588235294,1.4679764705882354,1.4738823529411764,1.4797882352941176,1.4856941176470588,1.4916,1.4975058823529412,1.5034117647058824,1.5093176470588237,1.5152235294117649,1.521129411764706,1.5270352941176473,1.5329411764705885,1.5388470588235297,1.5447529411764707,1.5506588235294119,1.5565647058823529,1.5624705882352943,1.5683764705882353,1.5742823529411765,1.5801882352941177,1.5860941176470589,1.592,1.5979058823529413,1.6038117647058825,1.6097176470588237,1.615623529411765,1.621529411764706,1.6274352941176473,1.6333411764705885,1.6392470588235295,1.6451529411764705,1.6510588235294117,1.656964705882353,1.662870588235294,1.6687764705882353,1.6746823529411765,1.6805882352941177,1.686494117647059,1.6924000000000001,1.6983058823529413,1.7042117647058825,1.7101176470588233,1.716023529411765,1.7219294117647062,1.727835294117647,1.7337411764705881,1.7396470588235298,1.7455529411764705,1.7514588235294117,1.757364705882353,1.7632705882352941,1.7691764705882354,1.7750823529411766,1.7809882352941178,1.786894117647059,1.7928000000000002,1.7987058823529414,1.8046117647058821,1.8105176470588238,1.816423529411765,1.8223294117647058,1.828235294117647,1.8341411764705886,1.8400470588235294,1.8459529411764706,1.8518588235294118,1.857764705882353,1.8636705882352942,1.8695764705882354,1.8754823529411766,1.8813882352941178,1.887294117647059,1.8932000000000002,1.899105882352941,1.9050117647058826,1.9109176470588238,1.9168235294117646,1.9227294117647058,1.9286352941176474,1.9345411764705882,1.9404470588235294,1.9463529411764706,1.9522588235294118,1.958164705882353,1.9640705882352942,1.9699764705882354,1.9758823529411766,1.9817882352941179,1.987694117647059,1.9935999999999998,1.9995058823529415,2.0054117647058827,2.0113176470588234,2.0172235294117646,2.0231294117647063,2.029035294117647,2.0349411764705883,2.0408470588235295,2.0467529411764707,2.052658823529412,2.058564705882353,2.0644705882352943,2.0703764705882355,2.0762823529411767,2.082188235294118,2.0880941176470587,2.0940000000000003,2.0999058823529415,2.1058117647058823,2.1117176470588235,2.117623529411765,2.123529411764706,2.129435294117647,2.1353411764705883,2.1412470588235295,2.1471529411764707,2.153058823529412,2.158964705882353,2.1648705882352943,2.1707764705882355,2.1766823529411767,2.1825882352941175,2.1884941176470587,2.1944000000000004,2.200305882352941,2.2062117647058823,2.2121176470588235,2.2180235294117647,2.223929411764706,2.229835294117647,2.2357411764705883,2.2416470588235295,2.2475529411764708,2.253458823529412,2.259364705882353,2.2652705882352944,2.2711764705882356,2.2770823529411763,2.2829882352941175,2.288894117647059,2.2948,2.300705882352941,2.3066117647058824,2.3125176470588236,2.3184235294117648,2.324329411764706,2.330235294117647,2.3361411764705884,2.3420470588235296,2.347952941176471,2.353858823529412,2.359764705882353,2.3656705882352944,2.371576470588235,2.3774823529411764,2.383388235294118,2.389294117647059,2.3952,2.401105882352941,2.4070117647058824,2.4129176470588236,2.418823529411765,2.424729411764706,2.4306352941176472,2.4365411764705884,2.4424470588235296,2.448352941176471,2.454258823529412,2.4601647058823533,2.466070588235294,2.471976470588235,2.477882352941177,2.4837882352941176,2.489694117647059,2.4956,2.5015058823529412,2.5074117647058825,2.5133176470588237,2.519223529411765,2.525129411764706,2.5310352941176473,2.5369411764705885,2.5428470588235297,2.548752941176471,2.554658823529412,2.560564705882353,2.566470588235294,2.5723764705882357,2.5782823529411765,2.5841882352941177,2.590094117647059,2.596,2.6019058823529413,2.6078117647058825,2.6137176470588237,2.619623529411765,2.625529411764706,2.6314352941176473,2.6373411764705885,2.6432470588235293,2.6491529411764705,2.6550588235294117,2.660964705882353,2.666870588235294,2.6727764705882353,2.6786823529411765,2.6845882352941177,2.690494117647059,2.6964,2.7023058823529413,2.7082117647058825,2.7141176470588233,2.7200235294117645,2.7259294117647057,2.7318352941176474,2.7377411764705886,2.7436470588235293,2.7495529411764705,2.7554588235294117,2.761364705882353,2.767270588235294,2.773176470588235,2.7790823529411766,2.7849882352941178,2.790894117647059,2.7968,2.8027058823529414,2.808611764705882,2.8145176470588233,2.8204235294117646,2.826329411764706,2.8322352941176474,2.838141176470588,2.8440470588235294,2.8499529411764706,2.855858823529412,2.861764705882353,2.867670588235294,2.8735764705882354,2.8794823529411766,2.885388235294118,2.891294117647059,2.8972,2.903105882352941,2.909011764705882,2.9149176470588234,2.920823529411765,2.9267294117647062,2.932635294117647,2.938541176470588,2.9444470588235294,2.9503529411764706,2.956258823529412,2.9621647058823526,2.9680705882352942,2.9739764705882354,2.9798823529411766,2.985788235294118,2.991694117647059,2.9976,3.003505882352941,3.0094117647058822,3.015317647058824,3.021223529411765,3.027129411764706,3.033035294117647,3.0389411764705883,3.0448470588235295,3.0507529411764707,3.056658823529412,3.062564705882353,3.0684705882352943,3.0743764705882355,3.0802823529411767,3.086188235294118,3.0920941176470587,3.098,3.103905882352941,3.1098117647058827,3.115717647058824,3.1216235294117647,3.127529411764706,3.133435294117647,3.1393411764705883,3.1452470588235295,3.1511529411764703,3.1570588235294115,3.162964705882353,3.1688705882352943,3.1747764705882355,3.1806823529411767,3.1865882352941175,3.1924941176470587,3.1984,3.204305882352941,3.2102117647058828,3.2161176470588235,3.2220235294117647,3.227929411764706,3.233835294117647,3.2397411764705883,3.2456470588235296,3.2515529411764703,3.257458823529412,3.263364705882353,3.2692705882352944,3.2751764705882356,3.2810823529411763,3.2869882352941175,3.2928941176470587,3.2988,3.3047058823529416,3.3106117647058824,3.3165176470588236,3.3224235294117648,3.328329411764706,3.334235294117647,3.340141176470588,3.346047058823529,3.351952941176471,3.357858823529412,3.363764705882353,3.3696705882352944,3.375576470588235,3.3814823529411764,3.3873882352941176,3.393294117647059,3.3992000000000004,3.405105882352941,3.4110117647058824,3.4169176470588236,3.422823529411765,3.428729411764706,3.4346352941176472,3.440541176470588,3.4464470588235296,3.452352941176471,3.458258823529412,3.4641647058823533,3.470070588235294,3.4759764705882352,3.4818823529411764,3.4877882352941176,3.4936941176470593,3.4996,3.5055058823529412,3.5114117647058825,3.5173176470588237,3.523223529411765,3.5291294117647056,3.535035294117647,3.5409411764705885,3.5468470588235297,3.552752941176471,3.558658823529412,3.564564705882353,3.570470588235294,3.5763764705882353,3.5822823529411765,3.588188235294118,3.594094117647059],\"xaxis\":\"x\",\"y\":[0.25383295469012906,0.26191749769279304,0.2700641175251856,0.27826492011923687,0.2865118670667495,0.2947967987922368,0.3031114580653991,0.3114475137273865,0.3197965845057624,0.32815026279497805,0.33650013828207326,0.3448378213012559,0.3531549658058878,0.3614432918521447,0.36969460749518707,0.3779008300059011,0.3860540063241569,0.3941463326728889,0.40217017326605586,0.41011807805262124,0.41798279944785627,0.4257573080126056,0.4334348070503293,0.44100874610078533,0.44847283331802945,0.45582104672875734,0.4630476443750104,0.47014717335260625,0.47711447776345445,0.4839447056059977,0.4906333146333411,0.49717607721323576,0.503569084227818,0.509808748053976,0.5158918046673334,0.5218153149141622,0.5275766649960865,0.5331735662122185,0.5386040540024543,0.5438664863341173,0.5489595414719773,0.5538822151690507,0.5586338173125002,0.563213968055558,0.5676225934627287,0.571859920691701,0.575926472731521,0.579823062712709,0.5835507878012518,0.5871110226848607,0.5905054126566094,0.5937358662981517,0.5968045477622542,0.5997138686523377,0.6024664794952799,0.6050652608028173,0.6075133137165817,0.6098139502321419,0.6119706829983367,0.6139872146897871,0.6158674269526204,0.6176153689261783,0.6192352453468065,0.6207314042435578,0.6221083242398825,0.6233706014799679,0.6245229362032595,0.6255701189958185,0.6265170167524131,0.6273685583885432,0.6281297203468602,0.6288055119475873,0.6294009606374673,0.629921097196406,0.6303709409651883,0.6307554851614638,0.631079682354408,0.6313484301711112,0.6315665573097141,0.6317388099355733,0.6318698385372197,0.6319641853185928,0.6320262722029217,0.6320603895216991,0.6320706854594151,0.6320611563211994,0.6320356376860824,0.6319977965035211,0.6319511241849357,0.6318989307354764,0.6318443399640999,0.6317902858023041,0.6317395097536919,0.6316945594879239,0.6316577885836931,0.6316313574162139,0.6316172351753641,0.6316172029912769,0.6316328581348327,0.6316656192512641,0.6317167325760854,0.6317872790738639,0.6318781824319836,0.6319902178337234,0.6321240214276271,0.6322801004034162,0.6324588435786817,0.632660532395264,0.6328853522197233,0.6331334038386234,0.6334047150365479,0.633699252142883,0.6340169314324398,0.6343576302649984,0.6347211978498427,0.6351074655233023,0.6355162564302559,0.6359473945044813,0.6364007126475791,0.6368760600120497,0.637373308300827,0.6378923570031693,0.6384331374953429,0.6389956159437565,0.6395797949582748,0.6401857139541841,0.6408134481926395,0.6414631064813996,0.6421348275300852,0.6428287749670677,0.6435451310382675,0.6442840890215661,0.6450458444040914,0.6458305848831767,0.6466384792653054,0.6474696653506047,0.6483242369033938,0.6492022298217949,0.6501036076312822,0.6510282464382383,0.6519759194899256,0.6529462814965703,0.6539388528795407,0.6549530041165099,0.6559879403601464,0.6570426865109711,0.6581160729275397,0.6592067219579465,0.6603130354757031,0.6614331836002273,0.6625650947775085,0.6637064473898194,0.6648546630548106,0.6660069017636839,0.6671600589957192,0.6683107649319847,0.6694553858749375,0.6705900279626511,0.671710543246976,0.672812538183935,0.6738913845624824,0.674942232874414,0.6759600281040515,0.6769395278915064,0.6778753229980985,0.6787618599772169,0.6795934659286779,0.6803643751899385,0.6810687577935133,0.6817007494969459,0.6822544831700744,0.6827241213042173,0.68310388938982,0.6833881098930222,0.6835712365480092,0.6836478886710169,0.6836128851936482,0.68346127810798,0.683188385013857,0.6827898204599351,0.6822615257744952,0.6815997970898565,0.6808013112753163,0.6798631495079428,0.6787828182281122,0.6775582672472967,0.6761879047991217,0.6746706093508197,0.673005738020863,0.6711931314792086,0.6692331152391691,0.6671264972839642,0.6648745620061504,0.6624790604740514,0.6599421970755637,0.6572666126259199,0.6544553640617182,0.6515119008784058,0.648440038501949,0.6452439288173868,0.6419280281067413,0.6384970626763011,0.6349559924779243,0.6313099730507353,0.6275643161279492,0.623724449268409,0.619795874883499,0.6157841290374306,0.6116947404021175,0.6075331897471584,0.6033048703406989,0.5990150496281911,0.5946688325434523,0.5902711267900166,0.5858266104108334,0.5813397019409743,0.5768145334116586,0.5722549264446031,0.5676643716440338,0.5630460114598624,0.558402626659981,0.5537366265127432,0.5490500427428816,0.5443445272858319,0.5396213538270677,0.5348814230750425,0.5301252716791325,0.5253530846679363,0.5205647112488583,0.5157596837773998,0.5109372396744224,0.5060963460420466,0.5012357267041978,0.496353891376294,0.49144916665037863,0.4865197284673697,0.4815636357370932,0.47657886475948685,0.4715633440968492,0.46651498954724024,0.4614317388731055,0.4563115859467147,0.4511526139850611,0.4459530275611716,0.44071118309621227,0.43542561755702425,0.4300950751065828,0.4247185314799739,0.4192952158855839,0.4138246302598843,0.4083065657341748,0.40274111620250885,0.3971286889115068,0.3914700120243159,0.3857661391424585,0.3800184508002313,0.3742286529763403,0.36839877269638027,0.3625311508271454,0.3566284321894169,0.35069355313952605,0.3447297267914311,0.3387404260700771,0.33272936480328635,0.3267004770732131,0.3206578950594735,0.31460592561423806,0.3085490258150346,0.302491777743572,0.2964388627387877,0.2903950353694823,0.2843650973665651,0.2783538717471799,0.272366177352959,0.2664068040126262,0.2604804885252718,0.2545918916451276,0.2487455762317891,0.24294598671183154,0.237197429978875,0.23150405783964154,0.2258698510936956,0.2202986053145191,0.2147939183797296,0.20935917977869917,0.203997561706884,0.19871201193797533,0.1935052484477628,0.18837975574746696,0.18333778286946917,0.17838134293488647,0.17351221422047466,0.16873194263190983,0.16404184548170594,0.15944301646285924,0.15493633170378684,0.15052245678625012,0.14620185460566426,0.14197479395244111,0.13784135869372668,0.13380145743699073,0.12985483356028263,0.12600107549848788,0.12223962718046406,0.11856979851838129,0.11499077585779194,0.11150163230477336,0.10810133785477506,0.10478876925642518,0.10156271955236605,0.09842190724806586,0.09536498506835349,0.09239054827005089,0.08949714248740871,0.0866832710949734,0.08394740207997937,0.08128797442326002,0.07870340399395365,0.07619208896890849,0.07375241479261445,0.07138275869769418,0.0690814938094575,0.06684699286077148,0.06467763154552707,0.0625717915403249,0.060527863224681885,0.05854424813013699,0.05661936114812559,0.05475163252549383,0.052939509675064216,0.05118145882681797,0.04947596654309863,0.04782154111882447,0.046216713885094594,0.044660040431852094,0.043150101762486334,0.0416855053904836,0.04026488638551698,0.038886908373763844,0.03755026449478779,0.03625367831507544,0.034995904696294836,0.033775730614581057,0.03259197592567246,0.031443494069528996,0.030329172707176288,0.02924793428192907,0.02819873649686053,0.02718057270038001,0.02619247217205435,0.02523350030133168,0.024302758652582135,0.023399384910832273,0.022522552703700932,0.02167147129632907,0.020845385157485845,0.020043573396508224,0.019265349072252528,0.01851005837677153,0.017777079697955896,0.0170658225668549,0.016375726496800618,0.015706259722773817,0.01505691785064276,0.01442722242697166,0.013816719441003761,0.01322497777117152,0.01265158758906458,0.012096158734185958,0.011558319073046362,0.011037712856192388,0.010533999086631366,0.010046849912820286,0.00957594905892967,0.009120990304490439,0.008681676024798732,0.008257715802596951,0.00784882512059508,0.007454724143352747,0.007075136595932539,0.006709788745573766,0.006358408491441704,0.006020724566296748,0.005696465852719182,0.005385360815330523,0.0050871370492907705,0.0048015209442326305,0.004528237461729612,0.004267010023400557,0.004017560505831107,0.0037796093376531183,0.0035528756933727056,0.0033370777778768527,0.003131933194982216,0.002937159392917959,0.0027524741792547777,0.002577596297505476,0.0024122460574222283,0.002256146010899452,0.002109021665352838,0.0019706022264789967,0.0018406213623984463,0.0017188179813420036,0.0016049370152476812,0.0014987302018854777,0.0013999568584133978,0.0013083846395812884,0.001223790274134129,0.0011459602733149123,0.0010746916057242956,0.0010097923331535135,0.000951082202364045,0.0008983931881381722,0.000851569983264989,0.0008104704314549679,0.000774965899490163,0.0007449415852164742,0.0007202967582682854,0.000700944930685594,0.0006868139548401174,0.0006778460463325196,0.0006739977297597762,0.0006752397054835751,0.0006815566357605066,0.0006929468488268792,0.0007094219597691819,0.0007310064072597609,0.000757736905500433,0.0007896618109986076,0.0008268404041048719,0.0008693420855716191,0.0009172454887523814,0.0009706375084535049,0.0010296122478759707,0.001094269885547006,0.001164715464638771,0.0012410576076055037,0.0013234071596387885,0.0014118757650427426,0.0015065743812621567,0.001607611735954708,0.0017150927331772415,0.0018291168154513761,0.001949776289176862,0.002077154621567328,0.0022113247179810108,0.002352347189202836,0.002500268618892255,0.002655119842034132,0.0028169142458083427,0.0029856461048153892,0.003161288963050634,0.0033437940753994243,0.0035330889217151627,0.0037290758067384227,0.003931630559202241,0.00414060134344267,0.004355807596684957,0.004577039104897819,0.004804055229697796,0.0050365842982359865,0.005274323167311099,0.00551693697212317,0.005764059069113628,0.0060152911812313735,0.006270203752728051,0.006528336519222209,0.00678919929729309,0.007052272996278848,0.0073170108532731645,0.0075828398905542155,0.007849162592852807,0.00811535879999252,0.008380787808529579,0.008644790674104294,0.00890669270430813,0.009165806129994394,0.009421432941131286,0.009672867871543206,0.00991940151522234,0.010160323555343714,0.01039492608570175,0.010622507003021519,0.010842373447503927,0.011053845268055485,0.01125625848794285,0.011448968746116334,0.0116313546891697,0.011802821288857034,0.011962803060275773,0.012110767156247752,0.012246216314090983,0.012368691631866834,0.012477775152306324,0.012573092233956357,0.012654313690629752,0.012721157681978035,0.01277339133991763,0.012810832117707756,0.012833348850683648],\"yaxis\":\"y\",\"type\":\"scatter\"},{\"legendgroup\":\"under 2.5\",\"marker\":{\"color\":\"#ffa600\"},\"mode\":\"lines\",\"name\":\"under 2.5\",\"showlegend\":false,\"x\":[0.6,0.60455,0.6091,0.61365,0.6182,0.62275,0.6273,0.63185,0.6364,0.64095,0.6455,0.65005,0.6546,0.65915,0.6637,0.66825,0.6728,0.67735,0.6819,0.68645,0.691,0.69555,0.7001,0.70465,0.7091999999999999,0.71375,0.7182999999999999,0.72285,0.7273999999999999,0.73195,0.7364999999999999,0.74105,0.7456,0.75015,0.7546999999999999,0.75925,0.7637999999999999,0.76835,0.7728999999999999,0.77745,0.782,0.78655,0.7910999999999999,0.79565,0.8002,0.80475,0.8092999999999999,0.81385,0.8184,0.82295,0.8275,0.83205,0.8366,0.84115,0.8457,0.85025,0.8548,0.85935,0.8638999999999999,0.8684499999999999,0.873,0.87755,0.8820999999999999,0.8866499999999999,0.8912,0.89575,0.9003,0.9048499999999999,0.9094,0.91395,0.9185,0.9230499999999999,0.9276,0.93215,0.9367,0.9412499999999999,0.9458,0.9503499999999999,0.9549,0.9594499999999999,0.964,0.96855,0.9731,0.9776499999999999,0.9822,0.98675,0.9913000000000001,0.9958499999999999,1.0004,1.00495,1.0095,1.0140500000000001,1.0186,1.02315,1.0276999999999998,1.03225,1.0368,1.04135,1.0459,1.0504499999999999,1.055,1.05955,1.0640999999999998,1.0686499999999999,1.0732,1.07775,1.0823,1.0868499999999999,1.0914,1.09595,1.1004999999999998,1.1050499999999999,1.1096,1.11415,1.1187,1.12325,1.1278,1.13235,1.1368999999999998,1.1414499999999999,1.146,1.15055,1.1551,1.15965,1.1642,1.16875,1.1732999999999998,1.1778499999999998,1.1824,1.18695,1.1915,1.19605,1.2006000000000001,1.20515,1.2096999999999998,1.2142499999999998,1.2187999999999999,1.22335,1.2279,1.23245,1.237,1.24155,1.2461,1.2506499999999998,1.2551999999999999,1.25975,1.2643,1.26885,1.2734,1.27795,1.2825,1.2870499999999998,1.2915999999999999,1.29615,1.3007,1.30525,1.3098,1.3143500000000001,1.3189,1.3234499999999998,1.3279999999999998,1.33255,1.3371,1.34165,1.3462,1.3507500000000001,1.3553,1.35985,1.3643999999999998,1.36895,1.3735,1.37805,1.3826,1.38715,1.3917,1.39625,1.4007999999999998,1.4053499999999999,1.4099,1.41445,1.419,1.42355,1.4281000000000001,1.43265,1.4371999999999998,1.4417499999999999,1.4463,1.45085,1.4554,1.4599499999999999,1.4645000000000001,1.46905,1.4735999999999998,1.4781499999999999,1.4827,1.48725,1.4918,1.4963499999999998,1.5009,1.50545,1.51,1.5145499999999998,1.5191,1.52365,1.5282,1.53275,1.5372999999999999,1.5418499999999997,1.5464,1.5509499999999998,1.5554999999999999,1.56005,1.5646,1.56915,1.5736999999999999,1.57825,1.5828,1.5873499999999998,1.5918999999999999,1.59645,1.601,1.60555,1.6101,1.6146500000000001,1.6191999999999998,1.6237499999999998,1.6282999999999999,1.63285,1.6374,1.64195,1.6465,1.6510500000000001,1.6555999999999997,1.6601499999999998,1.6646999999999998,1.66925,1.6738,1.67835,1.6829,1.6874500000000001,1.6920000000000002,1.6965499999999998,1.7010999999999998,1.7056499999999999,1.7102,1.71475,1.7193,1.72385,1.7283999999999997,1.7329500000000002,1.7374999999999998,1.7420499999999999,1.7466,1.75115,1.7557,1.76025,1.7648000000000001,1.7693499999999998,1.7738999999999998,1.7784499999999999,1.783,1.78755,1.7921,1.7966499999999996,1.8012000000000001,1.8057500000000002,1.8102999999999998,1.8148499999999999,1.8194,1.82395,1.8285,1.83305,1.8375999999999997,1.8421499999999997,1.8467000000000002,1.8512499999999998,1.8558,1.86035,1.8649,1.86945,1.874,1.8785499999999997,1.8830999999999998,1.8876499999999998,1.8921999999999999,1.89675,1.9013,1.90585,1.9103999999999997,1.9149500000000002,1.9194999999999998,1.9240499999999998,1.9285999999999999,1.93315,1.9377,1.94225,1.9468,1.9513499999999997,1.9558999999999997,1.9604499999999998,1.9649999999999999,1.96955,1.9741,1.97865,1.9832,1.9877500000000001,1.9922999999999997,1.9968499999999998,2.0014,2.00595,2.0105,2.01505,2.0196,2.0241499999999997,2.0287,2.03325,2.0378,2.04235,2.0469,2.05145,2.056,2.06055,2.0650999999999997,2.0696499999999998,2.0742,2.07875,2.0833,2.08785,2.0924,2.09695,2.1015,2.1060499999999998,2.1106,2.11515,2.1197,2.12425,2.1288,2.13335,2.1378999999999997,2.14245,2.147,2.15155,2.1561,2.16065,2.1652,2.16975,2.1743,2.1788499999999997,2.1834,2.18795,2.1925,2.19705,2.2016,2.20615,2.2107,2.21525,2.2197999999999998,2.22435,2.2289,2.23345,2.238,2.24255,2.2471,2.2516499999999997,2.2562,2.26075,2.2653,2.26985,2.2744,2.27895,2.2835,2.28805,2.2925999999999997,2.29715,2.3017,2.30625,2.3108,2.31535,2.3198999999999996,2.32445,2.329,2.33355,2.3381,2.34265,2.3472,2.35175,2.3563,2.3608499999999997,2.3653999999999997,2.36995,2.3745,2.37905,2.3836,2.38815,2.3926999999999996,2.39725,2.4017999999999997,2.4063499999999998,2.4109,2.41545,2.42,2.42455,2.4291,2.4336499999999996,2.4381999999999997,2.44275,2.4473,2.45185,2.4564,2.46095,2.4655,2.47005,2.4745999999999997,2.4791499999999997,2.4837,2.48825,2.4928,2.49735,2.5019,2.5064499999999996,2.511,2.5155499999999997,2.5201,2.52465,2.5292,2.53375,2.5383,2.54285,2.5473999999999997,2.5519499999999997,2.5564999999999998,2.56105,2.5656,2.57015,2.5747,2.57925,2.5838,2.5883499999999997,2.5928999999999998,2.59745,2.602,2.60655,2.6111,2.61565,2.6202,2.62475,2.6293,2.63385,2.6384,2.64295,2.6475,2.65205,2.6566,2.66115,2.6656999999999997,2.6702500000000002,2.6748,2.67935,2.6839000000000004,2.68845,2.693,2.6975499999999997,2.7021,2.7066500000000002,2.7112,2.71575,2.7203,2.72485,2.7294,2.73395,2.7385,2.7430499999999998,2.7476,2.7521500000000003,2.7567,2.76125,2.7658,2.77035,2.7749,2.7794499999999998,2.7840000000000003,2.78855,2.7931,2.79765,2.8022,2.80675,2.8112999999999997,2.81585,2.8204000000000002,2.82495,2.8295,2.83405,2.8386,2.84315,2.8477,2.85225,2.8568,2.86135,2.8659000000000003,2.87045],\"xaxis\":\"x\",\"y\":[0.12957860774955152,0.13309766750233049,0.13666337375169035,0.14027491350641394,0.14393144335052277,0.14763209070522026,0.1513759551307889,0.15516210966645247,0.15898960220638145,0.1628574569102349,0.16676467564681657,0.17071023946965122,0.17469311012348393,0.17871223158092375,0.18276653160865897,0.18685492336285722,0.190976307013556,0.1951295713980109,0.19931359570310797,0.20352725117707607,0.20776940287081594,0.21203891140922893,0.2163346347929511,0.22065543023088197,0.2250001560038437,0.22936767335961464,0.2337568484394242,0.23816655423582497,0.24259567258160167,0.24704309616911094,0.2515077305990882,0.2559884964576038,0.26048433141939653,0.26499419237535543,0.269517057581399,0.2740519288254398,0.2785978336085408,0.2831538273357319,0.28771899551130575,0.2922924559327447,0.29687336087671573,0.30146089926989594,0.30605429883665447,0.3106528282149308,0.3152557990309467,0.31986256792271567,0.32447253850166313,0.3290851632410545,0.333699945279361,0.33831644012616047,0.3429342572577261,0.34755306158904387,0.352172574808698,0.35679257656280955,0.36141290547409294,0.3660334599820229,0.3706541989901792,0.37527514230699,0.37989637086637995,0.38451802671522534,0.3891403127550294,0.3937634922258852,0.3983878879215447,0.4030138811253187,0.4076419102575236,0.41227246922636324,0.41690610547534784,0.4215434177217555,0.4261850533821029,0.4308317056821805,0.43548411045088226,0.4401430425988191,0.44480931228455906,0.44948376077322044,0.4541672559941167,0.45886068780615924,0.46356496298172534,0.468280999921768,0.47300972311696443,0.477752057371731,0.48250892180993377,0.48728122368303833,0.49206985200335773,0.4968756710268378,0.501699513611525,0.5065421744794706,0.5114044034112786,0.5162868984038473,0.5211902988230299,0.5261151785839432,0.5310620393924972,0.5360313040823567,0.5410233100819977,0.5460383030467576,0.5510764306908129,0.5561377368538258,0.5612221558365877,0.5663295070393665,0.5714594899357828,0.5766116794139999,0.5817855215156655,0.5869803296015693,0.5921952809712494,0.5974294139618535,0.6026816255494609,0.6079506694737846,0.6132351549047277,0.6185335456666518,0.6238441600335118,0.6291651711051238,0.6344946077719077,0.6398303562724271,0.6451701623449071,0.6505116339708553,0.6558522447056969,0.6611893375882332,0.6665201296175784,0.6718417167831983,0.6771510796305905,0.6824450893423267,0.6877205143112415,0.6929740271799766,0.69820221231846,0.7034015737085638,0.7085685432029787,0.7136994891233059,0.7187907251606104,0.7238385195400575,0.7288391044099342,0.7337886854142258,0.7386834514070615,0.7435195842667152,0.7482932687665077,0.7530007024598109,0.757638105536552,0.7622017306089492,0.7666878723849216,0.7710928771884495,0.7754131522873163,0.779645174989964,0.7837855014748041,0.7878307753170269,0.791777735679912,0.7956232251397621,0.7993641971158222,0.8029977228789652,0.8065209981154265,0.809931349024502,0.8132262379318034,0.8164032684024493,0.8194601898413468,0.8223949015705488,0.8252054563765109,0.8278900635228564,0.8304470912270514,0.8328750686021006,0.835172687067037,0.8373388012325225,0.8393724292703635,0.841272752778072,0.8430391161518289,0.8446710254832797,0.8461681469975258,0.8475303050514315,0.8487574797129698,0.8498498039437626,0.8508075604082094,0.8516311779336744,0.8523212276470893,0.8528784188140298,0.8533035944068522,0.8535977264288197,0.853761911021332,0.8537973633813658,0.8537054125160777,0.853487495861228,0.8531451537896064,0.8526800240350583,0.8520938360569934,0.8513884053694187,0.8505656278576014,0.849627474104429,0.848575983747431,0.8474132598862256,0.8461414635589333,0.8447628083047897,0.8432795548288904,0.8416940057836392,0.8400085006801209,0.8382254109412676,0.8363471351073298,0.8343760942028394,0.8323147272729382,0.830165487095691,0.8279308360757583,0.8256132423236298,0.823215175923493,0.8207391053917397,0.8181874943271046,0.8155627982524871,0.8128674616476236,0.8101039151709701,0.8072745730684254,0.8043818307658142,0.8014280626414816,0.7984156199747674,0.7953468290656737,0.7922239895206065,0.7890493726986867,0.7858252203128534,0.7825537431796652,0.7792371201115315,0.77587749694489,0.7724769856977332,0.769037663849735,0.7655615737382028,0.7620507220629599,0.758507079493264,0.7549325803698279,0.7513291224950116,0.7476985670042314,0.7440427383116786,0.7403634241234156,0.7366623755109682,0.7329413070385432,0.7292018969370275,0.7254457873179566,0.7216745844206784,0.7178898588859673,0.7140931460493891,0.7102859462477701,0.7064697251321863,0.7026459139809467,0.6988159100061369,0.6949810766474056,0.6911427438467563,0.6873022082983095,0.6834607336671167,0.679619550771339,0.6757798577223221,0.6719428200173784,0.6681095705803637,0.6642812097455076,0.6604588051803217,0.6566433917438391,0.6528359712769172,0.6490375123218316,0.64524894976896,0.641471184428947,0.6377050825293865,0.6339514751357337,0.6302111574968756,0.6264848883165441,0.6227733889525326,0.6190773425464838,0.6153973930878364,0.6117341444163651,0.6080881591685893,0.6044599576741848,0.6008500168093517,0.5972587688149622,0.5936866000880738,0.5901338499562185,0.5866008094445847,0.5830877200469441,0.5795947725117949,0.5761221056557891,0.5726698052170408,0.5692379027613542,0.5658263746547488,0.5624351411159738,0.5590640653628567,0.5557129528664168,0.5523815507266662,0.5490695471838697,0.5457765712788264,0.542502192675344,0.53924592165766,0.5360072093149503,0.5327854479243891,0.5295799715434362,0.5263900568210977,0.5232149240369214,0.5200537383753536,0.5169056114419046,0.5137696030262653,0.5106447231161559,0.5075299341642496,0.5044241536090115,0.5013262566487368,0.49823507926649874,0.49514942150204616,0.49206805096510786,0.4889897065828438,0.4859131025725843,0.48283693262932886,0.4797598743158923,0.4766805936419925,0.4735977498170883,0.47051000016028643,0.4674160051492885,0.4643144335890103,0.4612039678793564,0.45808330936047387,0.4549511837128698,0.45180634638888406,0.4486475880512876,0.44547373999414785,0.44228367952068126,0.4390763352524504,0.435850692344117,0.4326057975779496,0.4293407643123858,0.42605477725927876,0.42274709706484526,0.41941706466997664,0.4160641054262536,0.41268773294493716,0.40928755265718814,0.40586326506496073,0.40241466866325976,0.39894166251589347,0.39544424846834014,0.3919225329829932,0.3883767285837532,0.384807154898732,0.38121423929173454,0.37759851707509806,0.3739606312984858,0.37030133211025096,0.36662147569006165,0.3629220227535617,0.3592040366319222,0.3554686809312415,0.3517172167787903,0.3479509996651659,0.3441714758933907,0.340380178647949,0.3365787236986365,0.332768804755899,0.32895218849607627,0.3251307092765798,0.3213062635625924,0.3174808040882835,0.3136563337768363,0.3098348994447925,0.3060185853172389,0.3022095063813053,0.2984098016062077,0.2946216270587095,0.29084714894336,0.28708853659720857,0.2833479554688812,0.27962756011194984,0.275929487222403,0.27225584874976966,0.26860872511104555,0.26499015853600466,0.26140214657180266,0.25784663577392736,0.2543255156096074,0.25084061259869106,0.24739368471580714,0.24398641607628999,0.24062041192693212,0.23729719396111323,0.23401819597621595,0.2307847598895906,0.22759813212753208,0.2244594603999344,0.22136979087141567,0.21833006573778824,0.2153411212148159,0.2124036859442376,0.20951837982007518,0.2066857132362645,0.20390608675470714,0.20117979119090124,0.19850700811241254,0.1958878107435856,0.1933221652680925,0.19080993251916276,0.18835087004566506,0.18594463454061197,0.18359078461712927,0.18128878391552003,0.17903800452371552,0.17683773069218484,0.17468716282325308,0.17258542171378113,0.17053155302927125,0.16852453198668954,0.16656326822266349,0.16464661082318216,0.16277335349053404,0.1609422398229484,0.1591519686822584,0.1574011996248767,0.15568855837148055,0.15401264229101633,0.15237202587496573,0.15076526617826624,0.14919090820382905,0.1476474902082573,0.14613354890712427,0.14464762455901875,0.14318826590850248,0.14175403496914013,0.14034351162885575,0.1389552980610249,0.1375880229259306,0.13624034534848586,0.13491095865943742,0.1335985938886263,0.13230202300026336,0.13102006186158824,0.1297515729377093,0.12849546770685202,0.12725070879168485,0.12601631180381787,0.12479134689999231,0.1235749400498782,0.12236627401676814,0.12116458905380656,0.11996918331969161,0.11877941301905565,0.1175946922739432,0.11641449273396708,0.11523834293382972,0.11406582740793536,0.11289658557280115,0.11173031038887608,0.1105667468142149,0.10940569006321561,0.10824698368430405,0.10709051747105855,0.1059362252217825,0.10478408236297354,0.1036341034524907,0.10248633957849196,0.10134087567039901,0.1001978277382498,0.0990573400568164,0.09791958231080236,0.09678474671728839,0.0956530451413713,0.09452470622063916,0.0933999725137482,0.09227909768791832,0.09116234375964741,0.09004997840235672,0.0889422723340366,0.08783949679725525,0.08674192114313409,0.08564981053008444,0.08456342374724679,0.08348301117167913,0.08240881286740945,0.08134105683351352,0.08027995740738825,0.07922571382839091,0.07817850896600231,0.07713850821563722,0.07610585856421108,0.07508068782653836,0.07406310405263153,0.07305319510496881,0.07205102840381757,0.07105665083775174,0.07007008883557711,0.06909134859499397,0.06812041646248057,0.06715725945808253,0.06620182593804254,0.06525404638750938,0.06431383433492371,0.06338108737910526,0.06245568831954248,0.06153750637994485,0.06062639851473143,0.05972221078781557,0.058824779812813505,0.05793393424361823,0.05704949630420036,0.05617128334645165,0.05529910942494297,0.05443278687757369,0.05357212790126878,0.05271694611213014,0.051867058079749236,0.05102228482576284,0.050182453277154385,0.04934739766528378,0.048516960862153645,0.04769099564599538,0.04686936588886843,0.04605194765961502,0.0452386302361938,0.04442931702211865,0.04362392636245562],\"yaxis\":\"y\",\"type\":\"scatter\"}],                        {\"barmode\":\"overlay\",\"hovermode\":\"closest\",\"legend\":{\"traceorder\":\"reversed\"},\"xaxis\":{\"anchor\":\"y2\",\"domain\":[0.0,1.0],\"zeroline\":false,\"range\":[0,5]},\"yaxis\":{\"anchor\":\"free\",\"domain\":[0.0,1],\"position\":0.0},\"template\":{\"data\":{\"bar\":[{\"error_x\":{\"color\":\"#2a3f5f\"},\"error_y\":{\"color\":\"#2a3f5f\"},\"marker\":{\"line\":{\"color\":\"#E5ECF6\",\"width\":0.5},\"pattern\":{\"fillmode\":\"overlay\",\"size\":10,\"solidity\":0.2}},\"type\":\"bar\"}],\"barpolar\":[{\"marker\":{\"line\":{\"color\":\"#E5ECF6\",\"width\":0.5},\"pattern\":{\"fillmode\":\"overlay\",\"size\":10,\"solidity\":0.2}},\"type\":\"barpolar\"}],\"carpet\":[{\"aaxis\":{\"endlinecolor\":\"#2a3f5f\",\"gridcolor\":\"white\",\"linecolor\":\"white\",\"minorgridcolor\":\"white\",\"startlinecolor\":\"#2a3f5f\"},\"baxis\":{\"endlinecolor\":\"#2a3f5f\",\"gridcolor\":\"white\",\"linecolor\":\"white\",\"minorgridcolor\":\"white\",\"startlinecolor\":\"#2a3f5f\"},\"type\":\"carpet\"}],\"choropleth\":[{\"colorbar\":{\"outlinewidth\":0,\"ticks\":\"\"},\"type\":\"choropleth\"}],\"contour\":[{\"colorbar\":{\"outlinewidth\":0,\"ticks\":\"\"},\"colorscale\":[[0.0,\"#0d0887\"],[0.1111111111111111,\"#46039f\"],[0.2222222222222222,\"#7201a8\"],[0.3333333333333333,\"#9c179e\"],[0.4444444444444444,\"#bd3786\"],[0.5555555555555556,\"#d8576b\"],[0.6666666666666666,\"#ed7953\"],[0.7777777777777778,\"#fb9f3a\"],[0.8888888888888888,\"#fdca26\"],[1.0,\"#f0f921\"]],\"type\":\"contour\"}],\"contourcarpet\":[{\"colorbar\":{\"outlinewidth\":0,\"ticks\":\"\"},\"type\":\"contourcarpet\"}],\"heatmap\":[{\"colorbar\":{\"outlinewidth\":0,\"ticks\":\"\"},\"colorscale\":[[0.0,\"#0d0887\"],[0.1111111111111111,\"#46039f\"],[0.2222222222222222,\"#7201a8\"],[0.3333333333333333,\"#9c179e\"],[0.4444444444444444,\"#bd3786\"],[0.5555555555555556,\"#d8576b\"],[0.6666666666666666,\"#ed7953\"],[0.7777777777777778,\"#fb9f3a\"],[0.8888888888888888,\"#fdca26\"],[1.0,\"#f0f921\"]],\"type\":\"heatmap\"}],\"heatmapgl\":[{\"colorbar\":{\"outlinewidth\":0,\"ticks\":\"\"},\"colorscale\":[[0.0,\"#0d0887\"],[0.1111111111111111,\"#46039f\"],[0.2222222222222222,\"#7201a8\"],[0.3333333333333333,\"#9c179e\"],[0.4444444444444444,\"#bd3786\"],[0.5555555555555556,\"#d8576b\"],[0.6666666666666666,\"#ed7953\"],[0.7777777777777778,\"#fb9f3a\"],[0.8888888888888888,\"#fdca26\"],[1.0,\"#f0f921\"]],\"type\":\"heatmapgl\"}],\"histogram\":[{\"marker\":{\"pattern\":{\"fillmode\":\"overlay\",\"size\":10,\"solidity\":0.2}},\"type\":\"histogram\"}],\"histogram2d\":[{\"colorbar\":{\"outlinewidth\":0,\"ticks\":\"\"},\"colorscale\":[[0.0,\"#0d0887\"],[0.1111111111111111,\"#46039f\"],[0.2222222222222222,\"#7201a8\"],[0.3333333333333333,\"#9c179e\"],[0.4444444444444444,\"#bd3786\"],[0.5555555555555556,\"#d8576b\"],[0.6666666666666666,\"#ed7953\"],[0.7777777777777778,\"#fb9f3a\"],[0.8888888888888888,\"#fdca26\"],[1.0,\"#f0f921\"]],\"type\":\"histogram2d\"}],\"histogram2dcontour\":[{\"colorbar\":{\"outlinewidth\":0,\"ticks\":\"\"},\"colorscale\":[[0.0,\"#0d0887\"],[0.1111111111111111,\"#46039f\"],[0.2222222222222222,\"#7201a8\"],[0.3333333333333333,\"#9c179e\"],[0.4444444444444444,\"#bd3786\"],[0.5555555555555556,\"#d8576b\"],[0.6666666666666666,\"#ed7953\"],[0.7777777777777778,\"#fb9f3a\"],[0.8888888888888888,\"#fdca26\"],[1.0,\"#f0f921\"]],\"type\":\"histogram2dcontour\"}],\"mesh3d\":[{\"colorbar\":{\"outlinewidth\":0,\"ticks\":\"\"},\"type\":\"mesh3d\"}],\"parcoords\":[{\"line\":{\"colorbar\":{\"outlinewidth\":0,\"ticks\":\"\"}},\"type\":\"parcoords\"}],\"pie\":[{\"automargin\":true,\"type\":\"pie\"}],\"scatter\":[{\"marker\":{\"colorbar\":{\"outlinewidth\":0,\"ticks\":\"\"}},\"type\":\"scatter\"}],\"scatter3d\":[{\"line\":{\"colorbar\":{\"outlinewidth\":0,\"ticks\":\"\"}},\"marker\":{\"colorbar\":{\"outlinewidth\":0,\"ticks\":\"\"}},\"type\":\"scatter3d\"}],\"scattercarpet\":[{\"marker\":{\"colorbar\":{\"outlinewidth\":0,\"ticks\":\"\"}},\"type\":\"scattercarpet\"}],\"scattergeo\":[{\"marker\":{\"colorbar\":{\"outlinewidth\":0,\"ticks\":\"\"}},\"type\":\"scattergeo\"}],\"scattergl\":[{\"marker\":{\"colorbar\":{\"outlinewidth\":0,\"ticks\":\"\"}},\"type\":\"scattergl\"}],\"scattermapbox\":[{\"marker\":{\"colorbar\":{\"outlinewidth\":0,\"ticks\":\"\"}},\"type\":\"scattermapbox\"}],\"scatterpolar\":[{\"marker\":{\"colorbar\":{\"outlinewidth\":0,\"ticks\":\"\"}},\"type\":\"scatterpolar\"}],\"scatterpolargl\":[{\"marker\":{\"colorbar\":{\"outlinewidth\":0,\"ticks\":\"\"}},\"type\":\"scatterpolargl\"}],\"scatterternary\":[{\"marker\":{\"colorbar\":{\"outlinewidth\":0,\"ticks\":\"\"}},\"type\":\"scatterternary\"}],\"surface\":[{\"colorbar\":{\"outlinewidth\":0,\"ticks\":\"\"},\"colorscale\":[[0.0,\"#0d0887\"],[0.1111111111111111,\"#46039f\"],[0.2222222222222222,\"#7201a8\"],[0.3333333333333333,\"#9c179e\"],[0.4444444444444444,\"#bd3786\"],[0.5555555555555556,\"#d8576b\"],[0.6666666666666666,\"#ed7953\"],[0.7777777777777778,\"#fb9f3a\"],[0.8888888888888888,\"#fdca26\"],[1.0,\"#f0f921\"]],\"type\":\"surface\"}],\"table\":[{\"cells\":{\"fill\":{\"color\":\"#EBF0F8\"},\"line\":{\"color\":\"white\"}},\"header\":{\"fill\":{\"color\":\"#C8D4E3\"},\"line\":{\"color\":\"white\"}},\"type\":\"table\"}]},\"layout\":{\"annotationdefaults\":{\"arrowcolor\":\"#2a3f5f\",\"arrowhead\":0,\"arrowwidth\":1},\"autotypenumbers\":\"strict\",\"coloraxis\":{\"colorbar\":{\"outlinewidth\":0,\"ticks\":\"\"}},\"colorscale\":{\"diverging\":[[0,\"#8e0152\"],[0.1,\"#c51b7d\"],[0.2,\"#de77ae\"],[0.3,\"#f1b6da\"],[0.4,\"#fde0ef\"],[0.5,\"#f7f7f7\"],[0.6,\"#e6f5d0\"],[0.7,\"#b8e186\"],[0.8,\"#7fbc41\"],[0.9,\"#4d9221\"],[1,\"#276419\"]],\"sequential\":[[0.0,\"#0d0887\"],[0.1111111111111111,\"#46039f\"],[0.2222222222222222,\"#7201a8\"],[0.3333333333333333,\"#9c179e\"],[0.4444444444444444,\"#bd3786\"],[0.5555555555555556,\"#d8576b\"],[0.6666666666666666,\"#ed7953\"],[0.7777777777777778,\"#fb9f3a\"],[0.8888888888888888,\"#fdca26\"],[1.0,\"#f0f921\"]],\"sequentialminus\":[[0.0,\"#0d0887\"],[0.1111111111111111,\"#46039f\"],[0.2222222222222222,\"#7201a8\"],[0.3333333333333333,\"#9c179e\"],[0.4444444444444444,\"#bd3786\"],[0.5555555555555556,\"#d8576b\"],[0.6666666666666666,\"#ed7953\"],[0.7777777777777778,\"#fb9f3a\"],[0.8888888888888888,\"#fdca26\"],[1.0,\"#f0f921\"]]},\"colorway\":[\"#636efa\",\"#EF553B\",\"#00cc96\",\"#ab63fa\",\"#FFA15A\",\"#19d3f3\",\"#FF6692\",\"#B6E880\",\"#FF97FF\",\"#FECB52\"],\"font\":{\"color\":\"#2a3f5f\"},\"geo\":{\"bgcolor\":\"white\",\"lakecolor\":\"white\",\"landcolor\":\"#E5ECF6\",\"showlakes\":true,\"showland\":true,\"subunitcolor\":\"white\"},\"hoverlabel\":{\"align\":\"left\"},\"hovermode\":\"closest\",\"mapbox\":{\"style\":\"light\"},\"paper_bgcolor\":\"white\",\"plot_bgcolor\":\"#E5ECF6\",\"polar\":{\"angularaxis\":{\"gridcolor\":\"white\",\"linecolor\":\"white\",\"ticks\":\"\"},\"bgcolor\":\"#E5ECF6\",\"radialaxis\":{\"gridcolor\":\"white\",\"linecolor\":\"white\",\"ticks\":\"\"}},\"scene\":{\"xaxis\":{\"backgroundcolor\":\"#E5ECF6\",\"gridcolor\":\"white\",\"gridwidth\":2,\"linecolor\":\"white\",\"showbackground\":true,\"ticks\":\"\",\"zerolinecolor\":\"white\"},\"yaxis\":{\"backgroundcolor\":\"#E5ECF6\",\"gridcolor\":\"white\",\"gridwidth\":2,\"linecolor\":\"white\",\"showbackground\":true,\"ticks\":\"\",\"zerolinecolor\":\"white\"},\"zaxis\":{\"backgroundcolor\":\"#E5ECF6\",\"gridcolor\":\"white\",\"gridwidth\":2,\"linecolor\":\"white\",\"showbackground\":true,\"ticks\":\"\",\"zerolinecolor\":\"white\"}},\"shapedefaults\":{\"line\":{\"color\":\"#2a3f5f\"}},\"ternary\":{\"aaxis\":{\"gridcolor\":\"white\",\"linecolor\":\"white\",\"ticks\":\"\"},\"baxis\":{\"gridcolor\":\"white\",\"linecolor\":\"white\",\"ticks\":\"\"},\"bgcolor\":\"#E5ECF6\",\"caxis\":{\"gridcolor\":\"white\",\"linecolor\":\"white\",\"ticks\":\"\"}},\"title\":{\"x\":0.05},\"xaxis\":{\"automargin\":true,\"gridcolor\":\"white\",\"linecolor\":\"white\",\"ticks\":\"\",\"title\":{\"standoff\":15},\"zerolinecolor\":\"white\",\"zerolinewidth\":2},\"yaxis\":{\"automargin\":true,\"gridcolor\":\"white\",\"linecolor\":\"white\",\"ticks\":\"\",\"title\":{\"standoff\":15},\"zerolinecolor\":\"white\",\"zerolinewidth\":2}}},\"title\":{\"text\":\"Distplot with Normal Distribution  avgGoalHome\"}},                        {\"responsive\": true}                    ).then(function(){\n",
              "                            \n",
              "var gd = document.getElementById('442a518b-c9f1-4888-9b69-599eebade2f7');\n",
              "var x = new MutationObserver(function (mutations, observer) {{\n",
              "        var display = window.getComputedStyle(gd).display;\n",
              "        if (!display || display === 'none') {{\n",
              "            console.log([gd, 'removed!']);\n",
              "            Plotly.purge(gd);\n",
              "            observer.disconnect();\n",
              "        }}\n",
              "}});\n",
              "\n",
              "// Listen for the removal of the full notebook cells\n",
              "var notebookContainer = gd.closest('#notebook-container');\n",
              "if (notebookContainer) {{\n",
              "    x.observe(notebookContainer, {childList: true});\n",
              "}}\n",
              "\n",
              "// Listen for the clearing of the current output cell\n",
              "var outputEl = gd.closest('.output');\n",
              "if (outputEl) {{\n",
              "    x.observe(outputEl, {childList: true});\n",
              "}}\n",
              "\n",
              "                        })                };                            </script>        </div>\n",
              "</body>\n",
              "</html>"
            ]
          },
          "metadata": {}
        }
      ]
    },
    {
      "cell_type": "code",
      "source": [
        "\n",
        "lis=[features.avgGoalConcededHome[data['target']==1], features.avgGoalConcededHome[data['target']==0]]\n",
        "group_labels=['over 2.5','under 2.5']\n",
        "colors = ['#003f5c', '#ffa600']\n",
        "# Create distplot \n",
        "fig = ff.create_distplot(lis, group_labels, bin_size=20,show_rug=False,\n",
        "                         curve_type='kde', # override default 'kde'\n",
        "                         colors=colors)\n",
        "\n",
        "# Add title\n",
        "fig.update_layout(xaxis_range=[0,5])\n",
        "fig.update_layout(title_text='Distplot with Normal Distribution  avgGoalConcededHome')\n",
        "fig.show()"
      ],
      "metadata": {
        "colab": {
          "base_uri": "https://localhost:8080/",
          "height": 542
        },
        "id": "kGqMMemLLjaI",
        "outputId": "f29c5cca-4200-48ee-b3ec-fe47806c6ea9"
      },
      "execution_count": 534,
      "outputs": [
        {
          "output_type": "display_data",
          "data": {
            "text/html": [
              "<html>\n",
              "<head><meta charset=\"utf-8\" /></head>\n",
              "<body>\n",
              "    <div>            <script src=\"https://cdnjs.cloudflare.com/ajax/libs/mathjax/2.7.5/MathJax.js?config=TeX-AMS-MML_SVG\"></script><script type=\"text/javascript\">if (window.MathJax) {MathJax.Hub.Config({SVG: {font: \"STIX-Web\"}});}</script>                <script type=\"text/javascript\">window.PlotlyConfig = {MathJaxConfig: 'local'};</script>\n",
              "        <script src=\"https://cdn.plot.ly/plotly-2.8.3.min.js\"></script>                <div id=\"58887c32-3f7e-4bd6-8b33-cbd24710bc10\" class=\"plotly-graph-div\" style=\"height:525px; width:100%;\"></div>            <script type=\"text/javascript\">                                    window.PLOTLYENV=window.PLOTLYENV || {};                                    if (document.getElementById(\"58887c32-3f7e-4bd6-8b33-cbd24710bc10\")) {                    Plotly.newPlot(                        \"58887c32-3f7e-4bd6-8b33-cbd24710bc10\",                        [{\"autobinx\":false,\"histnorm\":\"probability density\",\"legendgroup\":\"over 2.5\",\"marker\":{\"color\":\"#003f5c\"},\"name\":\"over 2.5\",\"opacity\":0.7,\"x\":[1.864864864864865,2.0,1.7027027027027026,0.8648648648648649,1.837837837837838,1.4864864864864864,1.2702702702702702,1.5945945945945945,0.9166666666666666,1.6388888888888888,0.8611111111111112,0.8611111111111112,1.1666666666666667,1.5277777777777777,1.9166666666666667,1.3428571428571427,1.4857142857142858,2.057142857142857,1.8571428571428572,1.8,1.7428571428571429,1.5714285714285714,1.2647058823529411,1.1764705882352942,0.8823529411764706,1.8235294117647058,0.8823529411764706,1.7352941176470589,0.8823529411764706,1.8235294117647058,1.4242424242424243,1.1818181818181819,1.2727272727272727,1.606060606060606,1.8181818181818181,1.5151515151515151,0.78125,1.8125,0.96875,1.5806451612903225,1.46875,0.90625,1.6875,1.4666666666666666,1.0,1.1290322580645162,1.6451612903225807,0.7419354838709677,1.5483870967741935,1.903225806451613,0.8,1.8064516129032258,0.9666666666666667,1.0689655172413792,1.3103448275862069,2.3214285714285716,1.5,1.8,1.206896551724138,0.896551724137931,0.8214285714285714,1.6206896551724137,1.6551724137931034,1.037037037037037,1.5714285714285714,1.3703703703703705,1.0357142857142858,1.7142857142857142,2.3461538461538463,0.9259259259259259,1.3846153846153846,1.7407407407407407,1.68,0.8461538461538461,1.2,1.5384615384615385,1.8461538461538463,1.6923076923076923,2.2916666666666665,1.8076923076923077,1.84,0.8333333333333334,1.7916666666666667,2.3043478260869565,1.28,1.2173913043478262,1.875,1.9583333333333333,1.0833333333333333,0.9130434782608695,1.7142857142857142,1.8181818181818181,1.7826086956521738,1.1818181818181819,1.3636363636363635,0.7727272727272727,1.3043478260869565,1.1363636363636365,1.9545454545454546,1.9090909090909092,1.9545454545454546,1.7727272727272727,1.6818181818181819,1.45,1.65,1.3,1.85,1.5714285714285714,1.0,1.8095238095238095,2.05,0.75,1.7894736842105263,1.631578947368421,1.7894736842105263,1.8421052631578947,0.7222222222222222,1.7222222222222223,0.8333333333333334,1.7222222222222223,0.9444444444444444,1.1176470588235294,1.0588235294117647,1.9411764705882353,2.235294117647059,1.2941176470588236,2.0,1.7058823529411764,2.176470588235294,0.75,1.75,1.0625,1.8125,1.9333333333333333,1.9333333333333333,1.6,0.6,1.0666666666666667,1.7857142857142858,1.0714285714285714,1.7142857142857142,2.0714285714285716,1.1538461538461537,2.3846153846153846,1.5384615384615385,1.9230769230769231,1.9230769230769231,2.1666666666666665,1.5833333333333333,1.25,0.9090909090909091,0.2727272727272727,1.4545454545454546,2.090909090909091,1.5454545454545454,2.1818181818181817,2.3636363636363638,2.2,1.3,1.1,0.3333333333333333,1.8888888888888888,1.0,1.5,1.375,1.0,1.7142857142857142,0.7142857142857143,1.7142857142857142,2.7142857142857144,1.0,1.3333333333333333,1.5,2.3333333333333335,2.5,2.5,1.4,1.6,2.4,1.0],\"xaxis\":\"x\",\"xbins\":{\"end\":2.7142857142857144,\"size\":20,\"start\":0.2727272727272727},\"yaxis\":\"y\",\"type\":\"histogram\"},{\"autobinx\":false,\"histnorm\":\"probability density\",\"legendgroup\":\"under 2.5\",\"marker\":{\"color\":\"#ffa600\"},\"name\":\"under 2.5\",\"opacity\":0.7,\"x\":[1.3783783783783783,1.027027027027027,1.8055555555555556,1.4444444444444444,1.5277777777777777,1.5142857142857142,1.0571428571428572,0.8285714285714286,2.088235294117647,1.5294117647058822,1.6764705882352942,1.4545454545454546,1.6363636363636365,1.40625,2.15625,1.1612903225806452,0.8125,0.875,1.2903225806451613,1.6,1.6875,1.90625,1.8333333333333333,1.5666666666666667,0.8666666666666667,1.7,1.6428571428571428,1.5357142857142858,1.8620689655172413,1.8571428571428572,1.8275862068965518,0.7241379310344828,1.5,1.6538461538461537,1.1481481481481481,1.7857142857142858,0.7037037037037037,1.8076923076923077,1.6153846153846154,1.7777777777777777,1.2592592592592593,1.6153846153846154,1.04,1.9230769230769231,1.0769230769230769,1.6666666666666667,1.7391304347826086,1.4166666666666667,1.68,0.88,1.8333333333333333,1.75,1.6666666666666667,1.0,0.6666666666666666,1.625,2.380952380952381,1.6818181818181819,0.9523809523809523,0.6818181818181818,0.7619047619047619,2.0454545454545454,1.0952380952380953,1.3333333333333333,2.263157894736842,1.65,0.7894736842105263,1.2,1.9,1.5555555555555556,1.85,0.8947368421052632,1.1578947368421053,2.0526315789473686,1.6666666666666667,1.1111111111111112,1.5555555555555556,2.0555555555555554,1.1764705882352942,1.8823529411764706,1.1875,0.9375,1.5625,1.6875,1.375,1.9375,1.8666666666666667,1.0666666666666667,1.6666666666666667,2.2666666666666666,1.2,1.0,1.5,1.8571428571428572,1.7857142857142858,1.3571428571428572,1.2142857142857142,0.5384615384615384,1.1538461538461537,1.4615384615384615,1.1538461538461537,2.1538461538461537,1.0,1.75,2.0,1.0833333333333333,1.9166666666666667,1.5,1.1666666666666667,1.7272727272727273,1.3636363636363635,1.9090909090909092,2.2,1.0,1.3,2.2,1.2,1.9,1.2,1.8888888888888888,2.0,2.2222222222222223,1.4444444444444444,1.2222222222222223,1.6666666666666667,2.4444444444444446,1.375,1.125,2.125,1.25,1.875,2.125,2.0,1.4285714285714286,0.42857142857142855,1.5714285714285714,2.2857142857142856,1.7142857142857142,2.2857142857142856,2.3333333333333335,1.6666666666666667,1.1666666666666667,1.0,2.0,0.4,1.4,1.4,1.6,2.6],\"xaxis\":\"x\",\"xbins\":{\"end\":2.6,\"size\":20,\"start\":0.4},\"yaxis\":\"y\",\"type\":\"histogram\"},{\"legendgroup\":\"over 2.5\",\"marker\":{\"color\":\"#003f5c\"},\"mode\":\"lines\",\"name\":\"over 2.5\",\"showlegend\":false,\"x\":[0.2727272727272727,0.2776103896103896,0.28249350649350646,0.28737662337662334,0.2922597402597402,0.29714285714285715,0.30202597402597403,0.3069090909090909,0.3117922077922078,0.31667532467532467,0.32155844155844154,0.3264415584415584,0.3313246753246753,0.3362077922077922,0.3410909090909091,0.34597402597402593,0.35085714285714287,0.35574025974025975,0.3606233766233766,0.3655064935064935,0.3703896103896104,0.37527272727272726,0.38015584415584414,0.38503896103896107,0.3899220779220779,0.3948051948051948,0.39968831168831165,0.4045714285714286,0.40945454545454546,0.41433766233766234,0.4192207792207792,0.4241038961038961,0.428987012987013,0.43387012987012985,0.4387532467532468,0.4436363636363636,0.44851948051948054,0.4534025974025974,0.4582857142857143,0.4631688311688312,0.46805194805194805,0.472935064935065,0.4778181818181818,0.48270129870129874,0.48758441558441556,0.4924675324675325,0.4973506493506494,0.5022337662337663,0.5071168831168831,0.512,0.5168831168831169,0.5217662337662338,0.5266493506493506,0.5315324675324675,0.5364155844155845,0.5412987012987014,0.5461818181818182,0.551064935064935,0.555948051948052,0.5608311688311689,0.5657142857142857,0.5705974025974025,0.5754805194805195,0.5803636363636364,0.5852467532467533,0.5901298701298702,0.595012987012987,0.5998961038961039,0.6047792207792209,0.6096623376623377,0.6145454545454545,0.6194285714285714,0.6243116883116884,0.6291948051948053,0.6340779220779221,0.638961038961039,0.6438441558441559,0.6487272727272728,0.6536103896103896,0.6584935064935065,0.6633766233766234,0.6682597402597403,0.6731428571428573,0.6780259740259741,0.6829090909090909,0.6877922077922078,0.6926753246753248,0.6975584415584416,0.7024415584415584,0.7073246753246754,0.7122077922077923,0.7170909090909091,0.721974025974026,0.7268571428571429,0.7317402597402598,0.7366233766233767,0.7415064935064936,0.7463896103896104,0.7512727272727273,0.7561558441558442,0.7610389610389611,0.765922077922078,0.7708051948051948,0.7756883116883118,0.7805714285714286,0.7854545454545454,0.7903376623376624,0.7952207792207794,0.8001038961038962,0.804987012987013,0.80987012987013,0.8147532467532469,0.8196363636363637,0.8245194805194805,0.8294025974025975,0.8342857142857144,0.8391688311688312,0.844051948051948,0.848935064935065,0.8538181818181819,0.8587012987012987,0.8635844155844156,0.8684675324675325,0.8733506493506494,0.8782337662337663,0.8831168831168831,0.8880000000000001,0.8928831168831171,0.8977662337662339,0.9026493506493507,0.9075324675324676,0.9124155844155846,0.9172987012987014,0.9221818181818182,0.9270649350649351,0.9319480519480521,0.9368311688311689,0.9417142857142857,0.9465974025974027,0.9514805194805196,0.9563636363636364,0.9612467532467532,0.9661298701298702,0.9710129870129871,0.9758961038961039,0.9807792207792209,0.9856623376623378,0.9905454545454547,0.9954285714285716,1.0003116883116885,1.0051948051948054,1.0100779220779224,1.014961038961039,1.0198441558441558,1.0247272727272727,1.0296103896103896,1.0344935064935066,1.0393766233766235,1.0442597402597404,1.0491428571428574,1.054025974025974,1.0589090909090908,1.0637922077922077,1.0686753246753247,1.0735584415584416,1.0784415584415585,1.0833246753246755,1.0882077922077924,1.0930909090909093,1.097974025974026,1.102857142857143,1.10774025974026,1.1126233766233766,1.1175064935064936,1.1223896103896105,1.1272727272727274,1.1321558441558444,1.137038961038961,1.141922077922078,1.146805194805195,1.1516883116883117,1.1565714285714286,1.1614545454545455,1.1663376623376625,1.1712207792207794,1.1761038961038963,1.1809870129870133,1.1858701298701302,1.190753246753247,1.1956363636363636,1.2005194805194805,1.2054025974025975,1.2102857142857144,1.2151688311688313,1.2200519480519483,1.2249350649350652,1.229818181818182,1.2347012987012986,1.2395844155844156,1.2444675324675325,1.2493506493506494,1.2542337662337664,1.2591168831168833,1.2640000000000002,1.2688831168831172,1.2737662337662339,1.2786493506493508,1.2835324675324677,1.2884155844155845,1.2932987012987014,1.298181818181818,1.3030649350649353,1.3079480519480522,1.312831168831169,1.317714285714286,1.3225974025974028,1.3274805194805197,1.3323636363636364,1.3372467532467534,1.3421298701298703,1.3470129870129872,1.351896103896104,1.356779220779221,1.3616623376623378,1.3665454545454547,1.3714285714285714,1.3763116883116884,1.3811948051948053,1.3860779220779222,1.390961038961039,1.395844155844156,1.400727272727273,1.4056103896103898,1.4104935064935067,1.4153766233766234,1.4202597402597406,1.4251428571428573,1.4300259740259742,1.4349090909090911,1.439792207792208,1.4446753246753248,1.4495584415584417,1.4544415584415584,1.4593246753246756,1.4642077922077923,1.4690909090909092,1.4739740259740262,1.478857142857143,1.4837402597402598,1.4886233766233767,1.4935064935064934,1.4983896103896106,1.5032727272727275,1.5081558441558442,1.5130389610389614,1.5179220779220781,1.522805194805195,1.5276883116883118,1.5325714285714287,1.5374545454545456,1.5423376623376626,1.5472207792207793,1.5521038961038964,1.5569870129870131,1.56187012987013,1.5667532467532468,1.5716363636363637,1.5765194805194807,1.5814025974025976,1.5862857142857143,1.5911688311688315,1.5960519480519484,1.600935064935065,1.605818181818182,1.6107012987012987,1.615584415584416,1.6204675324675326,1.6253506493506495,1.6302337662337665,1.6351168831168834,1.6400000000000001,1.644883116883117,1.6497662337662338,1.654649350649351,1.6595324675324676,1.6644155844155846,1.6692987012987015,1.6741818181818184,1.6790649350649351,1.683948051948052,1.688831168831169,1.693714285714286,1.6985974025974029,1.7034805194805196,1.7083636363636368,1.7132467532467535,1.7181298701298704,1.723012987012987,1.727896103896104,1.732779220779221,1.737662337662338,1.7425454545454546,1.7474285714285718,1.7523116883116885,1.7571948051948054,1.7620779220779221,1.766961038961039,1.771844155844156,1.776727272727273,1.7816103896103899,1.7864935064935068,1.7913766233766237,1.7962597402597404,1.8011428571428574,1.806025974025974,1.8109090909090912,1.815792207792208,1.820675324675325,1.8255584415584418,1.8304415584415588,1.8353246753246755,1.8402077922077924,1.8450909090909091,1.8499740259740263,1.854857142857143,1.85974025974026,1.8646233766233768,1.8695064935064938,1.8743896103896107,1.8792727272727274,1.8841558441558444,1.8890389610389613,1.8939220779220782,1.898805194805195,1.903688311688312,1.9085714285714288,1.9134545454545457,1.9183376623376625,1.9232207792207794,1.9281038961038963,1.9329870129870133,1.93787012987013,1.9427532467532471,1.9476363636363638,1.9525194805194808,1.9574025974025975,1.9622857142857144,1.9671688311688316,1.9720519480519483,1.9769350649350652,1.9818181818181821,1.986701298701299,1.9915844155844158,1.9964675324675327,2.001350649350649,2.0062337662337666,2.011116883116883,2.016,2.020883116883117,2.025766233766234,2.030649350649351,2.0355324675324677,2.0404155844155847,2.0452987012987016,2.0501818181818185,2.0550649350649355,2.0599480519480524,2.0648311688311694,2.0697142857142863,2.0745974025974028,2.0794805194805197,2.0843636363636366,2.0892467532467536,2.09412987012987,2.0990129870129874,2.103896103896104,2.108779220779221,2.113662337662338,2.1185454545454547,2.1234285714285717,2.1283116883116886,2.1331948051948055,2.1380779220779225,2.1429610389610394,2.1478441558441563,2.1527272727272733,2.1576103896103898,2.162493506493507,2.1673766233766236,2.1722597402597406,2.1771428571428575,2.1820259740259744,2.186909090909091,2.191792207792208,2.196675324675325,2.2015584415584417,2.2064415584415586,2.2113246753246756,2.2162077922077925,2.2210909090909094,2.2259740259740264,2.2308571428571433,2.23574025974026,2.240623376623377,2.245506493506494,2.2503896103896106,2.255272727272728,2.2601558441558445,2.2650389610389614,2.269922077922078,2.274805194805195,2.2796883116883118,2.2845714285714287,2.2894545454545456,2.2943376623376626,2.2992207792207795,2.3041038961038964,2.3089870129870134,2.3138701298701303,2.3187532467532472,2.3236363636363633,2.328519480519481,2.333402597402598,2.338285714285714,2.343168831168832,2.348051948051949,2.352935064935065,2.357818181818182,2.3627012987012996,2.3675844155844157,2.3724675324675326,2.3773506493506495,2.3822337662337665,2.3871168831168834,2.3920000000000003,2.3968831168831173,2.401766233766234,2.406649350649351,2.411532467532468,2.416415584415584,2.421298701298702,2.426181818181819,2.431064935064935,2.4359480519480528,2.4408311688311697,2.4457142857142857,2.4505974025974027,2.4554805194805196,2.4603636363636365,2.4652467532467535,2.4701298701298704,2.4750129870129873,2.4798961038961043,2.484779220779221,2.489662337662338,2.494545454545455,2.499428571428572,2.504311688311689,2.509194805194805,2.514077922077923,2.5189610389610397,2.523844155844156,2.5287272727272736,2.5336103896103896,2.5384935064935066,2.5433766233766235,2.5482597402597404,2.5531428571428574,2.5580259740259743,2.5629090909090912,2.567792207792208,2.572675324675325,2.577558441558442,2.582441558441559,2.587324675324676,2.592207792207793,2.59709090909091,2.601974025974026,2.6068571428571436,2.6117402597402597,2.6166233766233766,2.6215064935064945,2.6263896103896105,2.6312727272727274,2.6361558441558444,2.6410389610389613,2.6459220779220782,2.650805194805195,2.655688311688312,2.660571428571429,2.665454545454546,2.670337662337663,2.67522077922078,2.6801038961038968,2.6849870129870137,2.6898701298701297,2.6947532467532467,2.6996363636363645,2.7045194805194805,2.7094025974025975],\"xaxis\":\"x\",\"y\":[0.029875142413630998,0.030303214787893707,0.030730210103529047,0.03115698423233673,0.0315844909152227,0.032013783251220305,0.03244601488382544,0.03288244087339578,0.0333244182454656,0.033773406205970524,0.034230966015548314,0.034698760516278654,0.035178553305440494,0.03567220755208884,0.0361816844534832,0.03670904132962716,0.03725642935539597,0.03782609093093684,0.03842035669221301,0.03904164216472727,0.03969244406459994,0.04037533625228348,0.0410929653452722,0.04184804599720686,0.04264335585177726,0.04348173018079505,0.04436605621673584,0.045299267190943564,0.04628433608954203,0.04732426913991766,0.04842209904141834,0.0495808779546637,0.050803670264576946,0.05209354513293704,0.05345356885690809,0.05488679705063712,0.05639626666762021,0.05798498788212624,0.05965593584853539,0.061412042357998534,0.06325618741235686,0.06519119073577759,0.06721980324505898,0.06934469850004399,0.07156846415604586,0.07389359344063845,0.07632247667759003,0.07885739288112804,0.0815005014440966,0.08425383394392646,0.08711928609064784,0.09009860984146192,0.09319340570662202,0.09640511527156227,0.09973501396035069,0.10318420406561475,0.10675360807009496,0.11044396228491803,0.11425581082953315,0.11818949997802507,0.12224517289619026,0.12642276479334044,0.13072199851226768,0.13514238058016584,0.13968319774255303,0.14434351400136186,0.14912216817737378,0.15401777201605113,0.1590287088545744,0.16415313286652053,0.16938896889911614,0.17473391291637036,0.18018543305964865,0.1857407713353796,0.19139694593759932,0.19715075421095873,0.20299877625761362,0.20893737918915126,0.21496272202232702,0.22107076121495467,0.22725725683579545,0.23351777935973989,0.23984771707700273,0.24624228410244584,0.25269652896853745,0.25920534378286464,0.2657634739285391,0.2723655282833099,0.27900598993072573,0.2856792273342961,0.2923795059432782,0.2991010001965385,0.30583780588883747,0.31258395286194773,0.3193334179812323,0.3260801383566593,0.3328180247657909,0.3395409752350169,0.3462428887342123,0.3529176789391657,0.3595592880154512,0.3661617003769994,0.37271895637240615,0.3792251658520612,0.38567452156941134,0.3920613123701638,0.3983799361239571,0.4046249123539425,0.41079089452090184,0.4168726819198811,0.4228652311489099,0.4287636671111594,0.4345632935138545,0.44025960282939924,0.4458482856865019,0.4513252396615266,0.45668657744292046,0.46192863434426906,0.46704797514437757,0.47204140023568614,0.47690595106531986,0.4816389148561223,0.4862378285981229,0.49070048230397023,0.49502492152502053,0.4992094491278237,0.503252626333877,0.5071532730285054,0.5109104673477252,0.5145235445548303,0.5179920952212587,0.521315962728997,0.5244952401143649,0.5275302662755101,0.5304216215682312,0.5331701228169791,0.5357768177698585,0.5382429790283583,0.5405700974841973,0.5427598752972123,0.5448142184495396,0.5467352289124934,0.548525196463515,0.5501865901913368,0.5517220497281029,0.5531343762475802,0.5544265232687943,0.5556015873044793,0.5566627983935281,0.5576135105563247,0.5584571922112923,0.5591974165903276,0.5598378521899007,0.5603822532935961,0.5608344506007032,0.561198341994097,0.5614778834792329,0.5616770803244264,0.5617999784308992,0.5618506559591866,0.5618332152365917,0.5617517749682557,0.5616104627723378,0.5614134080575166,0.5611647352587663,0.5608685574450039,0.5605289703098109,0.5601500465539958,0.5597358306663387,0.5592903341063695,0.5588175308906042,0.558321353581212,0.557805689673679,0.5572743783776795,0.5567312077830371,0.5561799124004464,0.5556241710644458,0.5550676051840919,0.5545137773248167,0.5539661901031439,0.5534282853742144,0.552903443690555,0.5523949840091018,0.5519061636222751,0.5514401782878404,0.5510001625314314,0.5505891900949123,0.5502102745032849,0.5498663697225555,0.5495603708808836,0.5492951150254758,0.5490733818879907,0.5488978946317735,0.5487713205549295,0.54869627172421,0.5486753055157565,0.548710925040048,0.5488055794298569,0.5489616639716141,0.5491815200623561,0.5494674349762954,0.5498216414270587,0.5502463169137253,0.5507435828409761,0.5513155034058681,0.551964084246042,0.5526912708464359,0.5534989467038662,0.5543889312510881,0.5553629775441785,0.5564227697192222,0.5575699202263591,0.5588059668512159,0.5601323695356164,0.5615505070111415,0.5630616732607295,0.5646670738248818,0.5663678219702848,0.5681649347397205,0.5700593289029997,0.572051816829327,0.5741431023019987,0.576333776296605,0.5786243127440174,0.5810150642993526,0.5835062581378139,0.5860979917979016,0.5887902290918535,0.5915827961024545,0.5944753772844685,0.5974675116879682,0.6005585893197414,0.603747847657818,0.6070343683329301,0.6104170739894821,0.6138947253373521,0.6174659184045815,0.6211290819998129,0.6248824753921349,0.6287241862149238,0.6326521285992204,0.6366640415412977,0.6407574875082677,0.6449298512849106,0.6491783390643938,0.653499977785185,0.6578916147162203,0.6623499172923897,0.6668713732024143,0.6714522907315711,0.6760887993620032,0.6807768506340187,0.6855122192723806,0.69029050458247,0.695107132122042,0.6999573556553315,0.7048362593973078,0.7097387605569466,0.7146596121895382,0.7195934063691191,0.7245345776931813,0.7294774071328498,0.7344160262425924,0.7393444217443393,0.7442564405015605,0.749145794899316,0.7540060686465988,0.7588307230173573,0.7636131035464633,0.7683464471964274,0.7730238900100329,0.7776384752630668,0.7821831621300857,0.7866508348745863,0.7910343125731123,0.7953263593806488,0.7995196953422229,0.8036070077528764,0.8075809630651478,0.8114342193399516,0.8151594392331869,0.8187493035066965,0.8221965250482507,0.8254938633811492,0.8286341396398077,0.8316102519833776,0.8344151914150512,0.8370420579703697,0.8394840772333806,0.841734617135257,0.8437872049857431,0.8456355446837168,0.8472735340493035,0.8486952822162973,0.8498951270202844,0.8508676523147579,0.8516077051448047,0.8521104127055593,0.8523711990106821,0.8523858011945925,0.8521502853711369,0.8516610619707832,0.8509149004783597,0.8499089434938021,0.8486407200392937,0.847108158037681,0.8453095958890426,0.8432437930748041,0.8409099397218082,0.8383076650622908,0.8354370447297008,0.8322986068347639,0.8288933367710701,0.8252226807047612,0.8212885477085408,0.8170933105062238,0.8126398048002956,0.8079313271615094,0.8029716314662657,0.7977649238744088,0.7923158563470938,0.7866295187114565,0.7807114292859003,0.7745675240868951,0.7682041446451784,0.7616280244660868,0.7548462741754981,0.7478663653992924,0.7406961134305176,0.733343658744366,0.7258174474266625,0.7181262105868311,0.7102789428311144,0.7022848798762604,0.6941534753878363,0.6858943771308298,0.6775174025231883,0.6690325136854497,0.6604497920815864,0.6517794128476719,0.643031618905888,0.6342166949618365,0.6253449414829932,0.6164266487555801,0.6074720711159837,0.5984914014513193,0.5894947460616452,0.5804920999739123,0.5714933227947839,0.5625081151861868,0.5535459960438192,0.544616280454817,0.5357280585065196,0.5268901750136703,0.5181112102266333,0.5093994615781328,0.5007629265209039,0.4922092865032477,0.4837458921241196,0.47537974950383216,0.4671175079009304,0.4589654486002323,0.45092947509151704,0.4430151045528249,0.4352274606469659,0.42757126763449915,0.4200508458012855,0.41267010819367556,0.4054325586495421,0.39834129110869043,0.3913989901816889,0.38460793295195017,0.37796999198180925,0.37148663948960503,0.3651589526611986,0.35898762005609886,0.35297294906529864,0.3471148743752024,0.3414129673894593,0.33586644655832293,0.33047418856311267,0.32523474030166194,0.32014633161911826,0.3152068887272412,0.31041404825432534,0.30576517186713137,0.3012573614056298,0.29688747447105857,0.2926521404076736,0.2885477766186169,0.2845706051566457,0.28071666953086194,0.27698185167122996,0.27336188899344466,0.26985239150764306,0.2664488589155275,0.26314669764170306,0.25994123774635486,0.25682774966786803,0.2538014607455795,0.25085757147452165,0.24799127144582073,0.24519775492828294,0.24247223604867973,0.23980996353028974,0.23720623495138002,0.23465641048752095,0.23215592610388522,0.22970030616600665,0.22728517543987373,0.22490627045464473,0.22255945020377574,0.22024070616285268,0.21794617160499197,0.21567213019725373,0.2134150238641203,0.2111714599067302,0.208938217369187,0.20671225264592025,0.20449070432670918,0.20227089727862374,0.20005034596674542,0.19782675701814123,0.1955980310361024,0.19336226367420223,0.19111774598219103,0.18886296403814992,0.18659659788368987,0.18431751978124797,0.18202479181471093,0.17971766285670027,0.17739556492785585,0.1750581089753136,0.1727050800993629,0.1703364322588971,0.16795228248778366,0.16555290465564504,0.1631387228077671,0.1607103041199224,0.15826835150481017,0.15581369590756672,0.1533472883284031,0.15087019161082754,0.14838357203419075,0.14588869074937064,0.14338689509631627,0.14087960984194453,0.1383683283764531,0.1358546039055273,0.1333400406751929,0.1308262852651577,0.12831501798544698,0.1258079444099422,0.1233067870791105,0.12081327740274987,0.11832914779200573,0.11585612404821778,0.11339591803437084,0.11095022065303738,0.10852069515273344,0.1061089707825852,0.10371663681308735,0.10134523693861759,0.0989962640751843,0.09667115556466596,0.0943712887946237,0.09209797724051445,0.08985246693495715,0.08763593336650796,0.08544947880826216,0.08329413007449238,0.08117083670148986,0.07908046954679085,0.07702381979906574,0.07500159838912424,0.07301443579075982,0.07106288219852719,0.06914740806802222,0.06726840500282373,0.06542618697097555,0.06362099183270008,0.061852983160029885,0.060122252328106696,0.058428820857143786,0.0567726429834146,0.05515360843711731,0.053571545404617296,0.052026223652336605,0.0505173577894691,0.04904461064674104,0.04760759674860332,0.04620588585653845,0.044839006561575585,0.04350644990463744,0.0422076730039794,0.04094210266972113,0.039709138986303884,0.038508158844635786,0.037338519406680926,0.03619956148632545],\"yaxis\":\"y\",\"type\":\"scatter\"},{\"legendgroup\":\"under 2.5\",\"marker\":{\"color\":\"#ffa600\"},\"mode\":\"lines\",\"name\":\"under 2.5\",\"showlegend\":false,\"x\":[0.4,0.40440000000000004,0.4088,0.4132,0.4176,0.42200000000000004,0.4264,0.4308,0.43520000000000003,0.43960000000000005,0.444,0.4484,0.45280000000000004,0.45720000000000005,0.4616,0.466,0.47040000000000004,0.4748,0.4792,0.48360000000000003,0.488,0.49240000000000006,0.4968,0.5012,0.5056,0.51,0.5144,0.5188,0.5232,0.5276000000000001,0.532,0.5364,0.5408000000000001,0.5452,0.5496000000000001,0.554,0.5584,0.5628,0.5672,0.5716000000000001,0.5760000000000001,0.5804,0.5848,0.5892000000000001,0.5936,0.5980000000000001,0.6024,0.6068,0.6112000000000001,0.6156,0.6200000000000001,0.6244000000000001,0.6288,0.6332,0.6376000000000001,0.642,0.6464000000000001,0.6508,0.6552,0.6596,0.664,0.6684000000000001,0.6728000000000001,0.6772,0.6816,0.6859999999999999,0.6904000000000001,0.6948000000000001,0.6992,0.7036,0.708,0.7124,0.7168000000000001,0.7212000000000001,0.7256,0.73,0.7344,0.7388,0.7432000000000001,0.7476,0.752,0.7564000000000001,0.7608,0.7652000000000001,0.7696000000000001,0.774,0.7784,0.7828,0.7872000000000001,0.7916000000000001,0.796,0.8004,0.8048,0.8092000000000001,0.8136000000000001,0.8180000000000001,0.8224,0.8268,0.8312,0.8356000000000001,0.8400000000000001,0.8444,0.8488,0.8532000000000001,0.8576,0.8620000000000001,0.8664000000000001,0.8708,0.8752000000000001,0.8796,0.8840000000000001,0.8884000000000001,0.8928,0.8972,0.9016000000000001,0.906,0.9104000000000001,0.9148000000000001,0.9192,0.9236000000000001,0.928,0.9324000000000001,0.9368000000000001,0.9412,0.9456,0.9500000000000001,0.9544000000000001,0.9588000000000001,0.9632000000000001,0.9676,0.972,0.9764000000000002,0.9808000000000001,0.9852000000000001,0.9896,0.994,0.9984000000000001,1.0028000000000001,1.0072,1.0116,1.016,1.0204,1.0248,1.0292000000000001,1.0336,1.038,1.0424000000000002,1.0468000000000002,1.0512000000000001,1.0556,1.06,1.0644,1.0688,1.0732,1.0776,1.082,1.0864000000000003,1.0908000000000002,1.0952000000000002,1.0996000000000001,1.104,1.1084,1.1128,1.1172,1.1216,1.1260000000000001,1.1304,1.1348000000000003,1.1392000000000002,1.1436000000000002,1.1480000000000001,1.1524,1.1568,1.1612,1.1656,1.1700000000000002,1.1744,1.1788,1.1832,1.1876000000000002,1.1920000000000002,1.1964000000000001,1.2008,1.2052,1.2096,1.2140000000000002,1.2184000000000001,1.2228,1.2272,1.2316,1.2360000000000002,1.2404000000000002,1.2448000000000001,1.2492,1.2536,1.258,1.2624,1.2668,1.2712,1.2756,1.2800000000000002,1.2844000000000002,1.2888000000000002,1.2932000000000001,1.2976,1.302,1.3064,1.3108,1.3152,1.3195999999999999,1.3240000000000003,1.3284000000000002,1.3328000000000002,1.3372000000000002,1.3416000000000001,1.346,1.3504,1.3548,1.3592,1.3636,1.368,1.3724,1.3768000000000002,1.3812000000000002,1.3856000000000002,1.3900000000000001,1.3944,1.3988,1.4032,1.4076,1.412,1.4164000000000003,1.4208000000000003,1.4252000000000002,1.4296000000000002,1.4340000000000002,1.4384000000000001,1.4428,1.4472,1.4516,1.456,1.4604,1.4648000000000003,1.4692000000000003,1.4736000000000002,1.4780000000000002,1.4824000000000002,1.4868000000000001,1.4912,1.4956,1.5,1.5044,1.5088000000000004,1.5131999999999999,1.5176000000000003,1.5220000000000002,1.5264000000000002,1.5308000000000002,1.5352000000000001,1.5396,1.544,1.5484,1.5528000000000004,1.5572,1.5616000000000003,1.5659999999999998,1.5704000000000002,1.5748000000000002,1.5792000000000002,1.5836000000000001,1.588,1.5924,1.5968,1.6012,1.6056000000000004,1.6099999999999999,1.6144000000000003,1.6188000000000002,1.6232000000000002,1.6276000000000002,1.6320000000000001,1.6364,1.6408,1.6452,1.6496,1.654,1.6584000000000003,1.6628000000000003,1.6672000000000002,1.6716000000000002,1.6760000000000002,1.6804000000000001,1.6848,1.6892,1.6936,1.698,1.7024,1.7068000000000003,1.7112000000000003,1.7156000000000002,1.7200000000000002,1.7244000000000002,1.7288000000000001,1.7332,1.7376,1.742,1.7464,1.7508000000000004,1.7551999999999999,1.7596000000000003,1.7640000000000002,1.7684000000000002,1.7728000000000002,1.7772000000000001,1.7816,1.786,1.7904,1.7948000000000004,1.7992,1.8036000000000003,1.8079999999999998,1.8124000000000002,1.8168000000000002,1.8212000000000002,1.8256000000000001,1.83,1.8344,1.8388,1.8432,1.8476000000000004,1.8520000000000003,1.8564000000000003,1.8608000000000002,1.8652000000000002,1.8696000000000002,1.874,1.8784,1.8828,1.8872,1.8916,1.8960000000000004,1.9004000000000003,1.9048000000000003,1.9092000000000002,1.9136000000000002,1.9180000000000001,1.9224,1.9268,1.9312,1.9356,1.9400000000000004,1.9444,1.9488000000000003,1.9532000000000003,1.9576000000000002,1.9620000000000002,1.9664000000000001,1.9708,1.9752,1.9796,1.9840000000000004,1.9884,1.9928000000000003,1.9971999999999999,2.0016000000000003,2.0060000000000002,2.0104,2.0148,2.0192,2.0236,2.0280000000000005,2.0324,2.0368000000000004,2.0412,2.0456000000000003,2.0500000000000003,2.0544000000000002,2.0588,2.0632,2.0676,2.072,2.0764,2.0808,2.0852,2.0896000000000003,2.0940000000000003,2.0984000000000003,2.1028000000000002,2.1072,2.1116,2.116,2.1204,2.1248,2.1292,2.1336,2.1380000000000003,2.1424000000000003,2.1468000000000003,2.1512000000000002,2.1556,2.16,2.1644,2.1688,2.1732,2.1776,2.1820000000000004,2.1864,2.1908000000000003,2.1952000000000003,2.1996,2.204,2.2084,2.2128,2.2172,2.2216,2.2260000000000004,2.2304,2.2348000000000003,2.2392,2.2436000000000003,2.248,2.2524,2.2568,2.2612,2.2656,2.2700000000000005,2.2744,2.2788000000000004,2.2832,2.2876000000000003,2.2920000000000003,2.2964,2.3008,2.3052,2.3096,2.314,2.3184,2.3228000000000004,2.3272,2.3316000000000003,2.3360000000000003,2.3404000000000003,2.3448,2.3492,2.3536,2.358,2.3624,2.3668,2.3712000000000004,2.3756000000000004,2.3800000000000003,2.3844000000000003,2.3888000000000003,2.3932,2.3976,2.402,2.4064,2.4108,2.4152,2.4196,2.424,2.4284,2.4328000000000003,2.4372000000000003,2.4416,2.446,2.4504,2.4548,2.4592,2.4636000000000005,2.468,2.4724,2.4768,2.4812000000000003,2.4856000000000003,2.4899999999999998,2.4944,2.4988,2.5032,2.5076000000000005,2.512,2.5164,2.5208,2.5252000000000003,2.5296000000000003,2.534,2.5384,2.5428,2.5472,2.5516,2.556,2.5604,2.5648,2.5692000000000004,2.5736000000000003,2.578,2.5824,2.5868,2.5912,2.5956],\"xaxis\":\"x\",\"y\":[0.062191720116134955,0.0634986953084785,0.0648209686477789,0.06615898157900561,0.06751320415516211,0.06888413405987721,0.0702722954790054,0.07167823782536599,0.07310253432168637,0.07454578044773327,0.07600859225850672,0.07749160458123387,0.07899546909972122,0.08052085233540165,0.08206843353514161,0.08363890247654374,0.08523295720209188,0.08685130169402829,0.08849464350232508,0.09016369133851082,0.0918591526484288,0.09358173117724439,0.0953321245401649,0.09711102181240644,0.09891910115191471,0.1007570274682379,0.10262545015074792,0.10452500086911656,0.10645629145857685,0.1084199119020385,0.11041642842057525,0.11244638168318283,0.11451028514599382,0.11660862353036579,0.11874185144840874,0.12091039218361276,0.12311463663326626,0.12535494241834164,0.12763163316545778,0.12994499796442707,0.1322952910037649,0.13468273138537432,0.13710750311845063,0.1395697552914638,0.14206960241988997,0.14460712496618666,0.14718237002734205,0.14979535218418252,0.15244605450551224,0.15513442969907854,0.1578604014003323,0.16062386558895347,0.16342469212221133,0.16626272637334605,0.16913779096237908,0.17204968756604297,0.1749981987928811,0.1779830901090153,0.18100411179962392,0.18406100095078554,0.1871534834360837,0.19028127589217025,0.1934440876674126,0.19664162272776345,0.19987358150410625,0.203139662665545,0.2064395648034285,0.20977298801129587,0.21313963534645938,0.21653921415952224,0.21997143727882987,0.2234360240376331,0.22693270113259678,0.23046120330323072,0.23402127382283452,0.23761266479262577,0.2412351372318665,0.24488846095801267,0.2485724142521479,0.2522867833062747,0.2560313614503599,0.25980594815840635,0.26361034783419374,0.26744436837875885,0.2713078195430748,0.27520051107082777,0.27912225063757695,0.28307284159399665,0.2870520805222678,0.291059754616035,0.29509563889566315,0.2991594932717937,0.3032510594714319,0.3073700578419567,0.31151618404956083,0.3156891056896571,0.31988845882776673,0.32411384449027036,0.3283648251252294,0.33264092105417103,0.3369416069363618,0.34126630826761023,0.3456143979360446,0.3499851928576288,0.35437795071436506,0.3587918668182341,0.36322607112386757,0.3676796254128269,0.3721515206720651,0.3766406746887977,0.38114592988346396,0.3856660514018629,0.3901997254867926,0.3947455581486427,0.3993020741534362,0.4038677163456937,0.4084408453223018,0.41301973947224285,0.4176025953956269,0.4221875287139363,0.4267725752817827,0.43135569280877883,0.43593476289830296,0.44050759350811175,0.4450719218357921,0.44962541763004044,0.45416568692673187,0.45869027620662406,0.46319667696941474,0.4676823307167266,0.47214463433440895,0.47658094586237937,0.4809885906380613,0.48536486779732135,0.48970705711469564,0.4940124261626033,0.4982782377672403,0.5025017577368746,0.506680262836372,0.5108110489800195,0.5148914396129786,0.5189187942501526,0.5228905171397761,0.5268040660177149,0.5306569609172789,0.5344467929983358,0.5381712333586243,0.5418280417894968,0.5454150754377873,0.5489302973351743,0.5523717847562658,0.5557377373666939,0.559026485122741,0.5622364958844986,0.565366382705186,0.568414910760142,0.571381003880031,0.5742637506540875,0.5770624100706637,0.5797764166639684,0.5824053851377419,0.5849491144385683,0.5874075912537315,0.5897809929107946,0.592069689658587,0.594274246311847,0.5963954232444911,0.5984341767192962,0.6003916585446856,0.6022692150522749,0.6040683853918716,0.6057908991436904,0.6074386732506207,0.6090138082764879,0.6105185839993074,0.6119554543515674,0.6133270417225768,0.6146361306407961,0.6158856608569272,0.6170787198512254,0.618218534791115,0.6193084639676424,0.6203519877416018,0.6213526990323192,0.6223142933840536,0.623240558646719,0.6241353643092614,0.6250026505253424,0.6258464168721869,0.6266707108843622,0.6274796164049924,0.6282772417974063,0.6290677080604815,0.6298551368910055,0.6306436387362001,0.6314373008791605,0.6322401755993919,0.6330562684497852,0.6338895266904238,0.6347438279184027,0.6356229689315303,0.6365306548622199,0.63747048861629,0.6384459606495324,0.6394604391130659,0.6405171603964182,0.6416192200952261,0.6427695644282526,0.6439709821261761,0.6452260968123686,0.6465373598935488,0.6479070439759151,0.6493372368200442,0.6508298358455735,0.6523865431944097,0.6540088613590195,0.6556980893801976,0.6574553196166162,0.6592814350864586,0.6611771073795045,0.6631427951361987,0.6651787430885174,0.6672849816557809,0.6694613270870403,0.6717073821402586,0.6740225372871771,0.676405972431547,0.678856659127323,0.6813733632824217,0.6839546483327412,0.6865988788703671,0.6893042247091864,0.6920686653705076,0.694889994970792,0.6977658274931186,0.7006936024236421,0.703670590734,0.7066939011903365,0.709760486969447,0.7128671525623242,0.7160105609453269,0.7191872409990469,0.7223935951549021,0.725625907249436,0.7288803505662731,0.7321529960456505,0.7354398206414683,0.7387367158057702,0.7420394960805954,0.7453439077771649,0.7486456377223559,0.7519403220524867,0.7552235550344573,0.7584908978943221,0.7617378876334859,0.7649600458127331,0.7681528872844812,0.7713119288537057,0.774432697848213,0.7775107405790832,0.7805416306724097,0.7835209772536714,0.7864444329664897,0.7893077018078618,0.792106546762454,0.7948367972190247,0.7974943561526822,0.8000752070572821,0.8025754206130451,0.8049911610752754,0.8073186923709055,0.8095543838906015,0.8116947159651356,0.8137362850158667,0.8156758083703242,0.8175101287350995,0.819236218319572,0.8208511826052859,0.8223522637572152,0.8237368436745485,0.8250024466800733,0.8261467418487005,0.8271675449771572,0.8280628201983083,0.8288306812450567,0.8294693923701858,0.8299773689298906,0.8303531776401203,0.8305955365161004,0.8307033145066519,0.8306755308360484,0.8305113540671882,0.8302101009008125,0.8297712347263387,0.8291943639405643,0.8284792400511382,0.8276257555821039,0.8266339417991875,0.8255039662726663,0.824236130295695,0.8228308661759174,0.8212887344178785,0.8196104208134533,0.8177967334569316,0.8158485997008283,0.8137670630676289,0.8115532801318837,0.8092085173860178,0.806734148102143,0.8041316492009694,0.8014025981376875,0.7985486698133148,0.79557163351868,0.7924733499167668,0.78925576806775,0.7859209224995676,0.7824709303254807,0.7789079884086406,0.7752343705723271,0.771452424853164,0.7675645707934162,0.7635732967672291,0.7594811573346426,0.7552907706161753,0.7510048156799312,0.7466260299324281,0.7421572065036972,0.7376011916167614,0.7329608819312259,0.7282392218505298,0.7234392007823766,0.7185638503419333,0.713616241487687,0.7085994815802201,0.7035167113547187,0.6983711017987345,0.6931658509275125,0.6879041804501874,0.6825893323211605,0.6772245651722031,0.6718131506220381,0.6663583694615544,0.6608635077142004,0.6553318525725843,0.64976668821385,0.6441712914979133,0.6385489275542563,0.6329028452644833,0.6272362726494286,0.6215524121711122,0.6158544359612952,0.610145480989812,0.6044286441871706,0.5987069775371996,0.5929834831566204,0.5872611083795063,0.5815427408654922,0.5758312037513942,0.5701292508665545,0.5644395620327427,0.5587647384698033,0.5531072983284556,0.5474696723716971,0.5418541998261763,0.5362631244246177,0.5306985906599834,0.5251626402714779,0.5196572089817788,0.514184123504013,0.5087450988359913,0.503341735858072,0.4979755192497634,0.49264781573879035,0.4873598726948777,0.48211281707890363,0.47690765475643176,0.471745270182878,0.46662642646577795,0.46155176580778007,0.4565218103321009,0.45153696329027926,0.44659751065016307,0.4417036230601368,0.43685535818372573,0.4320526633968263,0.4272953788380124,0.42258324080056764,0.4179158854532076,0.4132928528748062,0.4087135913868831,0.404177462166161,0.3996837441181213,0.39523163899124825,0.39082027671050207,0.38644872090754423,0.3821159746243458,0.3778209861660447,0.3735626550782808,0.3693398382237475,0.36515135593233955,0.3609959981990346,0.3568725309035949,0.35277970202617936,0.3487162478331843,0.34468089900791005,0.34067238670110833,0.3366894484770347,0.33273083413129156,0.3287953113575851,0.32488167124137163,0.3209887335594274,0.31711535186543993,0.31326041834292156,0.3094228684080146,0.3056016850460878,0.3017959028674337,0.2980046118688312,0.2942269608892322,0.29046216074940007,0.2867094870668522,0.2829682827391086,0.279237960089796,0.2755180026738072,0.2718079667392965,0.26810748234588727,0.2644162541400405,0.26073406179007347,0.2570607600848185,0.253396278701391,0.24974062164892272,0.24609386639651343,0.24245616269490738,0.23882773110267178,0.23520886122878454,0.23159990970463862,0.22800129789945772,0.22441350939404872,0.22083708722863357,0.21727263094125907,0.213720793413908,0.2101822775440222,0.2066578327595697,0.20314825139618886,0.1996543649551845,0.1961770402613407,0.19271717553958642,0.1892756964295432,0.18585355195687253,0.18245171048015232,0.17907115563173245,0.1757128822706482,0.17237789246523852,0.16906719152258412,0.16578178408129757,0.16252267028352876,0.15929084204133184,0.15608727941175193,0.15291294709415515,0.149768791062443,0.14665573534385828,0.1435746789551316,0.14052649300571315,0.13751201797682025,0.1345320611839773,0.13158739442967032,0.12867875185168007,0.1258068279715696,0.12297227594675002,0.12017570602847753,0.11741768422709462,0.11469873118479516,0.11201932125518292,0.10937988178793306,0.10678079261589522,0.10422238574109396,0.10170494521519165,0.09922870720917987,0.09679386026626918,0.09440054573123503,0.0920488583488056,0.08973884702306165,0.0874705157292597,0.08524382456900392,0.0830586909592411,0.08091499094519539,0.07881256062703709,0.07675119768983846,0.07473066302618421,0.07275068244067244,0.0708109484254918,0.06891112199624937,0.06705083457728239,0.06522968992580014,0.06344726608436996,0.06170311735147804,0.05999677626016619,0.058327755555060354,0.05669555015846721,0.0550996391166097,0.05353948751750952],\"yaxis\":\"y\",\"type\":\"scatter\"}],                        {\"barmode\":\"overlay\",\"hovermode\":\"closest\",\"legend\":{\"traceorder\":\"reversed\"},\"xaxis\":{\"anchor\":\"y2\",\"domain\":[0.0,1.0],\"zeroline\":false,\"range\":[0,5]},\"yaxis\":{\"anchor\":\"free\",\"domain\":[0.0,1],\"position\":0.0},\"template\":{\"data\":{\"bar\":[{\"error_x\":{\"color\":\"#2a3f5f\"},\"error_y\":{\"color\":\"#2a3f5f\"},\"marker\":{\"line\":{\"color\":\"#E5ECF6\",\"width\":0.5},\"pattern\":{\"fillmode\":\"overlay\",\"size\":10,\"solidity\":0.2}},\"type\":\"bar\"}],\"barpolar\":[{\"marker\":{\"line\":{\"color\":\"#E5ECF6\",\"width\":0.5},\"pattern\":{\"fillmode\":\"overlay\",\"size\":10,\"solidity\":0.2}},\"type\":\"barpolar\"}],\"carpet\":[{\"aaxis\":{\"endlinecolor\":\"#2a3f5f\",\"gridcolor\":\"white\",\"linecolor\":\"white\",\"minorgridcolor\":\"white\",\"startlinecolor\":\"#2a3f5f\"},\"baxis\":{\"endlinecolor\":\"#2a3f5f\",\"gridcolor\":\"white\",\"linecolor\":\"white\",\"minorgridcolor\":\"white\",\"startlinecolor\":\"#2a3f5f\"},\"type\":\"carpet\"}],\"choropleth\":[{\"colorbar\":{\"outlinewidth\":0,\"ticks\":\"\"},\"type\":\"choropleth\"}],\"contour\":[{\"colorbar\":{\"outlinewidth\":0,\"ticks\":\"\"},\"colorscale\":[[0.0,\"#0d0887\"],[0.1111111111111111,\"#46039f\"],[0.2222222222222222,\"#7201a8\"],[0.3333333333333333,\"#9c179e\"],[0.4444444444444444,\"#bd3786\"],[0.5555555555555556,\"#d8576b\"],[0.6666666666666666,\"#ed7953\"],[0.7777777777777778,\"#fb9f3a\"],[0.8888888888888888,\"#fdca26\"],[1.0,\"#f0f921\"]],\"type\":\"contour\"}],\"contourcarpet\":[{\"colorbar\":{\"outlinewidth\":0,\"ticks\":\"\"},\"type\":\"contourcarpet\"}],\"heatmap\":[{\"colorbar\":{\"outlinewidth\":0,\"ticks\":\"\"},\"colorscale\":[[0.0,\"#0d0887\"],[0.1111111111111111,\"#46039f\"],[0.2222222222222222,\"#7201a8\"],[0.3333333333333333,\"#9c179e\"],[0.4444444444444444,\"#bd3786\"],[0.5555555555555556,\"#d8576b\"],[0.6666666666666666,\"#ed7953\"],[0.7777777777777778,\"#fb9f3a\"],[0.8888888888888888,\"#fdca26\"],[1.0,\"#f0f921\"]],\"type\":\"heatmap\"}],\"heatmapgl\":[{\"colorbar\":{\"outlinewidth\":0,\"ticks\":\"\"},\"colorscale\":[[0.0,\"#0d0887\"],[0.1111111111111111,\"#46039f\"],[0.2222222222222222,\"#7201a8\"],[0.3333333333333333,\"#9c179e\"],[0.4444444444444444,\"#bd3786\"],[0.5555555555555556,\"#d8576b\"],[0.6666666666666666,\"#ed7953\"],[0.7777777777777778,\"#fb9f3a\"],[0.8888888888888888,\"#fdca26\"],[1.0,\"#f0f921\"]],\"type\":\"heatmapgl\"}],\"histogram\":[{\"marker\":{\"pattern\":{\"fillmode\":\"overlay\",\"size\":10,\"solidity\":0.2}},\"type\":\"histogram\"}],\"histogram2d\":[{\"colorbar\":{\"outlinewidth\":0,\"ticks\":\"\"},\"colorscale\":[[0.0,\"#0d0887\"],[0.1111111111111111,\"#46039f\"],[0.2222222222222222,\"#7201a8\"],[0.3333333333333333,\"#9c179e\"],[0.4444444444444444,\"#bd3786\"],[0.5555555555555556,\"#d8576b\"],[0.6666666666666666,\"#ed7953\"],[0.7777777777777778,\"#fb9f3a\"],[0.8888888888888888,\"#fdca26\"],[1.0,\"#f0f921\"]],\"type\":\"histogram2d\"}],\"histogram2dcontour\":[{\"colorbar\":{\"outlinewidth\":0,\"ticks\":\"\"},\"colorscale\":[[0.0,\"#0d0887\"],[0.1111111111111111,\"#46039f\"],[0.2222222222222222,\"#7201a8\"],[0.3333333333333333,\"#9c179e\"],[0.4444444444444444,\"#bd3786\"],[0.5555555555555556,\"#d8576b\"],[0.6666666666666666,\"#ed7953\"],[0.7777777777777778,\"#fb9f3a\"],[0.8888888888888888,\"#fdca26\"],[1.0,\"#f0f921\"]],\"type\":\"histogram2dcontour\"}],\"mesh3d\":[{\"colorbar\":{\"outlinewidth\":0,\"ticks\":\"\"},\"type\":\"mesh3d\"}],\"parcoords\":[{\"line\":{\"colorbar\":{\"outlinewidth\":0,\"ticks\":\"\"}},\"type\":\"parcoords\"}],\"pie\":[{\"automargin\":true,\"type\":\"pie\"}],\"scatter\":[{\"marker\":{\"colorbar\":{\"outlinewidth\":0,\"ticks\":\"\"}},\"type\":\"scatter\"}],\"scatter3d\":[{\"line\":{\"colorbar\":{\"outlinewidth\":0,\"ticks\":\"\"}},\"marker\":{\"colorbar\":{\"outlinewidth\":0,\"ticks\":\"\"}},\"type\":\"scatter3d\"}],\"scattercarpet\":[{\"marker\":{\"colorbar\":{\"outlinewidth\":0,\"ticks\":\"\"}},\"type\":\"scattercarpet\"}],\"scattergeo\":[{\"marker\":{\"colorbar\":{\"outlinewidth\":0,\"ticks\":\"\"}},\"type\":\"scattergeo\"}],\"scattergl\":[{\"marker\":{\"colorbar\":{\"outlinewidth\":0,\"ticks\":\"\"}},\"type\":\"scattergl\"}],\"scattermapbox\":[{\"marker\":{\"colorbar\":{\"outlinewidth\":0,\"ticks\":\"\"}},\"type\":\"scattermapbox\"}],\"scatterpolar\":[{\"marker\":{\"colorbar\":{\"outlinewidth\":0,\"ticks\":\"\"}},\"type\":\"scatterpolar\"}],\"scatterpolargl\":[{\"marker\":{\"colorbar\":{\"outlinewidth\":0,\"ticks\":\"\"}},\"type\":\"scatterpolargl\"}],\"scatterternary\":[{\"marker\":{\"colorbar\":{\"outlinewidth\":0,\"ticks\":\"\"}},\"type\":\"scatterternary\"}],\"surface\":[{\"colorbar\":{\"outlinewidth\":0,\"ticks\":\"\"},\"colorscale\":[[0.0,\"#0d0887\"],[0.1111111111111111,\"#46039f\"],[0.2222222222222222,\"#7201a8\"],[0.3333333333333333,\"#9c179e\"],[0.4444444444444444,\"#bd3786\"],[0.5555555555555556,\"#d8576b\"],[0.6666666666666666,\"#ed7953\"],[0.7777777777777778,\"#fb9f3a\"],[0.8888888888888888,\"#fdca26\"],[1.0,\"#f0f921\"]],\"type\":\"surface\"}],\"table\":[{\"cells\":{\"fill\":{\"color\":\"#EBF0F8\"},\"line\":{\"color\":\"white\"}},\"header\":{\"fill\":{\"color\":\"#C8D4E3\"},\"line\":{\"color\":\"white\"}},\"type\":\"table\"}]},\"layout\":{\"annotationdefaults\":{\"arrowcolor\":\"#2a3f5f\",\"arrowhead\":0,\"arrowwidth\":1},\"autotypenumbers\":\"strict\",\"coloraxis\":{\"colorbar\":{\"outlinewidth\":0,\"ticks\":\"\"}},\"colorscale\":{\"diverging\":[[0,\"#8e0152\"],[0.1,\"#c51b7d\"],[0.2,\"#de77ae\"],[0.3,\"#f1b6da\"],[0.4,\"#fde0ef\"],[0.5,\"#f7f7f7\"],[0.6,\"#e6f5d0\"],[0.7,\"#b8e186\"],[0.8,\"#7fbc41\"],[0.9,\"#4d9221\"],[1,\"#276419\"]],\"sequential\":[[0.0,\"#0d0887\"],[0.1111111111111111,\"#46039f\"],[0.2222222222222222,\"#7201a8\"],[0.3333333333333333,\"#9c179e\"],[0.4444444444444444,\"#bd3786\"],[0.5555555555555556,\"#d8576b\"],[0.6666666666666666,\"#ed7953\"],[0.7777777777777778,\"#fb9f3a\"],[0.8888888888888888,\"#fdca26\"],[1.0,\"#f0f921\"]],\"sequentialminus\":[[0.0,\"#0d0887\"],[0.1111111111111111,\"#46039f\"],[0.2222222222222222,\"#7201a8\"],[0.3333333333333333,\"#9c179e\"],[0.4444444444444444,\"#bd3786\"],[0.5555555555555556,\"#d8576b\"],[0.6666666666666666,\"#ed7953\"],[0.7777777777777778,\"#fb9f3a\"],[0.8888888888888888,\"#fdca26\"],[1.0,\"#f0f921\"]]},\"colorway\":[\"#636efa\",\"#EF553B\",\"#00cc96\",\"#ab63fa\",\"#FFA15A\",\"#19d3f3\",\"#FF6692\",\"#B6E880\",\"#FF97FF\",\"#FECB52\"],\"font\":{\"color\":\"#2a3f5f\"},\"geo\":{\"bgcolor\":\"white\",\"lakecolor\":\"white\",\"landcolor\":\"#E5ECF6\",\"showlakes\":true,\"showland\":true,\"subunitcolor\":\"white\"},\"hoverlabel\":{\"align\":\"left\"},\"hovermode\":\"closest\",\"mapbox\":{\"style\":\"light\"},\"paper_bgcolor\":\"white\",\"plot_bgcolor\":\"#E5ECF6\",\"polar\":{\"angularaxis\":{\"gridcolor\":\"white\",\"linecolor\":\"white\",\"ticks\":\"\"},\"bgcolor\":\"#E5ECF6\",\"radialaxis\":{\"gridcolor\":\"white\",\"linecolor\":\"white\",\"ticks\":\"\"}},\"scene\":{\"xaxis\":{\"backgroundcolor\":\"#E5ECF6\",\"gridcolor\":\"white\",\"gridwidth\":2,\"linecolor\":\"white\",\"showbackground\":true,\"ticks\":\"\",\"zerolinecolor\":\"white\"},\"yaxis\":{\"backgroundcolor\":\"#E5ECF6\",\"gridcolor\":\"white\",\"gridwidth\":2,\"linecolor\":\"white\",\"showbackground\":true,\"ticks\":\"\",\"zerolinecolor\":\"white\"},\"zaxis\":{\"backgroundcolor\":\"#E5ECF6\",\"gridcolor\":\"white\",\"gridwidth\":2,\"linecolor\":\"white\",\"showbackground\":true,\"ticks\":\"\",\"zerolinecolor\":\"white\"}},\"shapedefaults\":{\"line\":{\"color\":\"#2a3f5f\"}},\"ternary\":{\"aaxis\":{\"gridcolor\":\"white\",\"linecolor\":\"white\",\"ticks\":\"\"},\"baxis\":{\"gridcolor\":\"white\",\"linecolor\":\"white\",\"ticks\":\"\"},\"bgcolor\":\"#E5ECF6\",\"caxis\":{\"gridcolor\":\"white\",\"linecolor\":\"white\",\"ticks\":\"\"}},\"title\":{\"x\":0.05},\"xaxis\":{\"automargin\":true,\"gridcolor\":\"white\",\"linecolor\":\"white\",\"ticks\":\"\",\"title\":{\"standoff\":15},\"zerolinecolor\":\"white\",\"zerolinewidth\":2},\"yaxis\":{\"automargin\":true,\"gridcolor\":\"white\",\"linecolor\":\"white\",\"ticks\":\"\",\"title\":{\"standoff\":15},\"zerolinecolor\":\"white\",\"zerolinewidth\":2}}},\"title\":{\"text\":\"Distplot with Normal Distribution  avgGoalConcededHome\"}},                        {\"responsive\": true}                    ).then(function(){\n",
              "                            \n",
              "var gd = document.getElementById('58887c32-3f7e-4bd6-8b33-cbd24710bc10');\n",
              "var x = new MutationObserver(function (mutations, observer) {{\n",
              "        var display = window.getComputedStyle(gd).display;\n",
              "        if (!display || display === 'none') {{\n",
              "            console.log([gd, 'removed!']);\n",
              "            Plotly.purge(gd);\n",
              "            observer.disconnect();\n",
              "        }}\n",
              "}});\n",
              "\n",
              "// Listen for the removal of the full notebook cells\n",
              "var notebookContainer = gd.closest('#notebook-container');\n",
              "if (notebookContainer) {{\n",
              "    x.observe(notebookContainer, {childList: true});\n",
              "}}\n",
              "\n",
              "// Listen for the clearing of the current output cell\n",
              "var outputEl = gd.closest('.output');\n",
              "if (outputEl) {{\n",
              "    x.observe(outputEl, {childList: true});\n",
              "}}\n",
              "\n",
              "                        })                };                            </script>        </div>\n",
              "</body>\n",
              "</html>"
            ]
          },
          "metadata": {}
        }
      ]
    },
    {
      "cell_type": "code",
      "source": [
        "\n",
        "\n",
        "lis=[features.avgGoalAway[data['target']==1], features.avgGoalAway[data['target']==0]]\n",
        "group_labels=['over 2.5','under 2.5']\n",
        "colors = ['#003f5c', '#ffa600']\n",
        "# Create distplot \n",
        "fig = ff.create_distplot(lis, group_labels, bin_size=20,show_rug=False,\n",
        "                         curve_type='kde', # override default 'kde'\n",
        "                         colors=colors)\n",
        "\n",
        "# Add title\n",
        "fig.update_layout(xaxis_range=[0,5])\n",
        "fig.update_layout(title_text='Distplot with Normal Distribution  avgGoalAway ')\n",
        "fig.show()"
      ],
      "metadata": {
        "colab": {
          "base_uri": "https://localhost:8080/",
          "height": 542
        },
        "id": "ydYFe3-dL70s",
        "outputId": "d8f1597d-ff22-455b-90f9-2fbd10d112ab"
      },
      "execution_count": 535,
      "outputs": [
        {
          "output_type": "display_data",
          "data": {
            "text/html": [
              "<html>\n",
              "<head><meta charset=\"utf-8\" /></head>\n",
              "<body>\n",
              "    <div>            <script src=\"https://cdnjs.cloudflare.com/ajax/libs/mathjax/2.7.5/MathJax.js?config=TeX-AMS-MML_SVG\"></script><script type=\"text/javascript\">if (window.MathJax) {MathJax.Hub.Config({SVG: {font: \"STIX-Web\"}});}</script>                <script type=\"text/javascript\">window.PlotlyConfig = {MathJaxConfig: 'local'};</script>\n",
              "        <script src=\"https://cdn.plot.ly/plotly-2.8.3.min.js\"></script>                <div id=\"cb07b415-a9fb-40aa-9364-8d03498f8825\" class=\"plotly-graph-div\" style=\"height:525px; width:100%;\"></div>            <script type=\"text/javascript\">                                    window.PLOTLYENV=window.PLOTLYENV || {};                                    if (document.getElementById(\"cb07b415-a9fb-40aa-9364-8d03498f8825\")) {                    Plotly.newPlot(                        \"cb07b415-a9fb-40aa-9364-8d03498f8825\",                        [{\"autobinx\":false,\"histnorm\":\"probability density\",\"legendgroup\":\"over 2.5\",\"marker\":{\"color\":\"#003f5c\"},\"name\":\"over 2.5\",\"opacity\":0.7,\"x\":[0.918918918918919,1.5405405405405406,1.7837837837837838,1.2432432432432432,1.9189189189189189,1.6756756756756757,1.3243243243243243,1.162162162162162,2.0,1.5555555555555556,1.8055555555555556,0.75,0.9166666666666666,1.0555555555555556,0.8888888888888888,1.5714285714285714,1.7428571428571429,0.9142857142857143,1.1142857142857143,1.7714285714285714,1.542857142857143,1.542857142857143,0.8484848484848485,1.1470588235294117,1.588235294117647,1.2352941176470589,0.8181818181818182,1.9411764705882353,1.7352941176470589,1.7352941176470589,2.1515151515151514,1.1515151515151516,1.4848484848484849,1.5151515151515151,1.7878787878787878,1.2121212121212122,1.6363636363636365,1.6875,1.0,0.8064516129032258,1.1290322580645162,0.75,2.096774193548387,1.2580645161290323,1.8064516129032258,0.7586206896551724,1.7333333333333334,1.6333333333333333,1.935483870967742,1.5161290322580645,1.8064516129032258,1.032258064516129,1.103448275862069,1.7666666666666666,1.3666666666666667,1.1724137931034482,1.8333333333333333,0.8620689655172413,2.0,0.8148148148148148,1.6785714285714286,1.2142857142857142,1.0344827586206897,2.2222222222222223,1.75,1.1851851851851851,1.4285714285714286,1.5,1.75,1.037037037037037,1.9259259259259258,1.4814814814814814,1.2962962962962963,0.8,1.3461538461538463,1.8076923076923077,1.6923076923076923,1.76,1.24,2.2,1.84,1.64,0.84,2.0,1.88,1.5,0.7272727272727273,1.0,1.375,1.8695652173913044,1.3636363636363635,1.8695652173913044,1.6956521739130435,0.9565217391304348,2.0,2.0434782608695654,0.8695652173913043,1.5454545454545454,1.6363636363636365,1.3181818181818181,1.9047619047619047,2.0952380952380953,1.3333333333333333,0.9523809523809523,1.7619047619047619,2.55,1.619047619047619,1.7619047619047619,1.4736842105263157,1.35,1.4210526315789473,1.4,2.15,1.0,1.5789473684210527,0.8947368421052632,1.0,1.8333333333333333,1.2777777777777777,2.0,0.9444444444444444,2.0,1.9411764705882353,0.9411764705882353,1.588235294117647,1.6470588235294117,1.2941176470588236,1.3529411764705883,2.5294117647058822,1.625,2.1875,1.4375,1.375,1.2666666666666666,1.9333333333333333,1.6,2.1333333333333333,2.4,1.1428571428571428,1.0714285714285714,1.7142857142857142,1.2857142857142858,1.3076923076923077,1.4615384615384615,1.3076923076923077,2.076923076923077,1.5384615384615385,1.25,1.3333333333333333,1.0833333333333333,2.5454545454545454,2.1818181818181817,1.3636363636363635,1.5454545454545454,1.7272727272727273,1.8181818181818181,1.3636363636363635,2.2,1.2,1.4,1.6666666666666667,1.6666666666666667,1.3333333333333333,1.375,0.75,1.5,1.4285714285714286,2.142857142857143,3.142857142857143,0.7142857142857143,2.0,1.5,2.6666666666666665,2.5,1.6666666666666667,0.6666666666666666,0.8,1.0,1.6,1.2],\"xaxis\":\"x\",\"xbins\":{\"end\":3.142857142857143,\"size\":20,\"start\":0.6666666666666666},\"yaxis\":\"y\",\"type\":\"histogram\"},{\"autobinx\":false,\"histnorm\":\"probability density\",\"legendgroup\":\"under 2.5\",\"marker\":{\"color\":\"#ffa600\"},\"name\":\"under 2.5\",\"opacity\":0.7,\"x\":[1.5405405405405406,1.5135135135135136,2.1666666666666665,1.6944444444444444,1.25,1.2,1.9142857142857144,1.3142857142857143,0.8235294117647058,2.1176470588235294,0.7352941176470589,1.7575757575757576,0.9393939393939394,1.46875,1.65625,1.75,1.65625,1.096774193548387,0.8387096774193549,1.28125,0.7666666666666667,1.8125,1.4137931034482758,0.7666666666666667,2.1379310344827585,1.6666666666666667,0.9333333333333333,1.7857142857142858,1.8620689655172413,1.2758620689655173,1.896551724137931,1.2962962962962963,0.9259259259259259,1.6428571428571428,0.7857142857142857,1.0,1.962962962962963,1.6666666666666667,1.2692307692307692,2.0,1.9230769230769231,0.92,1.0,1.4615384615384615,1.2916666666666667,1.08,2.08,1.9166666666666667,1.52,1.2916666666666667,1.7826086956521738,1.6666666666666667,1.3636363636363635,0.8695652173913043,2.347826086956522,1.2608695652173914,1.0434782608695652,1.608695652173913,1.7272727272727273,0.65,0.9047619047619048,1.4,1.0,1.0,2.0476190476190474,0.6111111111111112,2.1,1.4,1.0,2.0,1.55,1.8421052631578947,1.631578947368421,1.7894736842105263,2.0,1.4444444444444444,1.3333333333333333,2.111111111111111,1.5294117647058822,1.0588235294117647,1.0625,1.0625,2.0,2.1875,0.6875,1.375,1.3333333333333333,1.1333333333333333,1.8666666666666667,1.6,0.7333333333333333,1.5,2.142857142857143,2.142857142857143,1.1428571428571428,1.4285714285714286,0.8571428571428571,1.9230769230769231,1.4615384615384615,2.4615384615384617,2.076923076923077,0.7692307692307693,1.25,1.5,1.75,2.0,0.9166666666666666,1.0833333333333333,2.1666666666666665,0.9090909090909091,1.4545454545454546,1.3636363636363635,1.2,2.3,1.4,0.8,1.2,1.4,2.0,1.4444444444444444,2.6666666666666665,1.7777777777777777,2.3333333333333335,1.3333333333333333,0.8888888888888888,1.5555555555555556,1.5,2.375,2.25,1.25,2.25,1.25,1.25,2.2857142857142856,1.2857142857142858,1.7142857142857142,1.0,1.4285714285714286,1.4285714285714286,1.3333333333333333,1.0,3.3333333333333335,1.6666666666666667,1.6,1.4,2.4,1.6,1.4,2.0],\"xaxis\":\"x\",\"xbins\":{\"end\":3.3333333333333335,\"size\":20,\"start\":0.6111111111111112},\"yaxis\":\"y\",\"type\":\"histogram\"},{\"legendgroup\":\"over 2.5\",\"marker\":{\"color\":\"#003f5c\"},\"mode\":\"lines\",\"name\":\"over 2.5\",\"showlegend\":false,\"x\":[0.6666666666666666,0.6716190476190476,0.6765714285714285,0.6815238095238095,0.6864761904761905,0.6914285714285714,0.6963809523809523,0.7013333333333333,0.7062857142857143,0.7112380952380952,0.7161904761904762,0.7211428571428571,0.726095238095238,0.7310476190476191,0.736,0.7409523809523809,0.7459047619047618,0.7508571428571428,0.7558095238095237,0.7607619047619048,0.7657142857142857,0.7706666666666666,0.7756190476190477,0.7805714285714286,0.7855238095238095,0.7904761904761904,0.7954285714285714,0.8003809523809524,0.8053333333333333,0.8102857142857143,0.8152380952380952,0.8201904761904761,0.8251428571428572,0.8300952380952381,0.835047619047619,0.84,0.8449523809523809,0.8499047619047618,0.8548571428571429,0.8598095238095238,0.8647619047619047,0.8697142857142857,0.8746666666666666,0.8796190476190476,0.8845714285714286,0.8895238095238095,0.8944761904761904,0.8994285714285714,0.9043809523809523,0.9093333333333333,0.9142857142857143,0.9192380952380952,0.9241904761904762,0.929142857142857,0.9340952380952381,0.939047619047619,0.944,0.9489523809523809,0.9539047619047618,0.9588571428571429,0.9638095238095238,0.9687619047619047,0.9737142857142856,0.9786666666666666,0.9836190476190476,0.9885714285714285,0.9935238095238095,0.9984761904761904,1.0034285714285713,1.0083809523809524,1.0133333333333332,1.0182857142857142,1.0232380952380953,1.028190476190476,1.0331428571428571,1.038095238095238,1.043047619047619,1.048,1.0529523809523809,1.057904761904762,1.0628571428571427,1.0678095238095238,1.0727619047619048,1.0777142857142856,1.0826666666666667,1.0876190476190475,1.0925714285714285,1.0975238095238096,1.1024761904761906,1.1074285714285714,1.1123809523809522,1.1173333333333333,1.1222857142857143,1.1272380952380954,1.1321904761904762,1.137142857142857,1.142095238095238,1.147047619047619,1.1520000000000001,1.156952380952381,1.1619047619047618,1.1668571428571428,1.1718095238095239,1.176761904761905,1.1817142857142857,1.1866666666666665,1.1916190476190476,1.1965714285714286,1.2015238095238097,1.2064761904761905,1.2114285714285713,1.2163809523809523,1.2213333333333334,1.2262857142857142,1.231238095238095,1.236190476190476,1.241142857142857,1.2460952380952381,1.2510476190476192,1.256,1.2609523809523808,1.2659047619047619,1.270857142857143,1.2758095238095237,1.2807619047619045,1.2857142857142856,1.2906666666666666,1.2956190476190477,1.3005714285714287,1.3055238095238095,1.3104761904761904,1.3154285714285714,1.3203809523809524,1.3253333333333335,1.330285714285714,1.3352380952380951,1.3401904761904762,1.3451428571428572,1.3500952380952382,1.355047619047619,1.3599999999999999,1.364952380952381,1.369904761904762,1.374857142857143,1.3798095238095236,1.3847619047619046,1.3897142857142857,1.3946666666666667,1.3996190476190475,1.4045714285714286,1.4095238095238094,1.4144761904761904,1.4194285714285715,1.4243809523809525,1.4293333333333333,1.4342857142857142,1.4392380952380952,1.4441904761904762,1.449142857142857,1.454095238095238,1.459047619047619,1.464,1.468952380952381,1.473904761904762,1.4788571428571429,1.4838095238095237,1.4887619047619047,1.4937142857142858,1.4986666666666666,1.5036190476190476,1.5085714285714285,1.5135238095238095,1.5184761904761905,1.5234285714285716,1.5283809523809524,1.5333333333333332,1.5382857142857143,1.5432380952380953,1.5481904761904761,1.5531428571428572,1.558095238095238,1.563047619047619,1.568,1.572952380952381,1.577904761904762,1.5828571428571427,1.5878095238095238,1.5927619047619048,1.5977142857142856,1.6026666666666667,1.6076190476190475,1.6125714285714285,1.6175238095238096,1.6224761904761906,1.6274285714285714,1.6323809523809523,1.6373333333333333,1.6422857142857143,1.6472380952380952,1.652190476190476,1.657142857142857,1.662095238095238,1.6670476190476191,1.6720000000000002,1.6769523809523808,1.6819047619047618,1.6868571428571428,1.6918095238095239,1.696761904761905,1.7017142857142855,1.7066666666666666,1.7116190476190476,1.7165714285714286,1.7215238095238097,1.7264761904761903,1.7314285714285713,1.7363809523809524,1.7413333333333334,1.7462857142857144,1.7512380952380955,1.756190476190476,1.7611428571428571,1.7660952380952382,1.7710476190476192,1.7760000000000002,1.7809523809523808,1.7859047619047619,1.790857142857143,1.7958095238095235,1.8007619047619046,1.8057142857142856,1.8106666666666666,1.8156190476190477,1.8205714285714287,1.8255238095238093,1.8304761904761904,1.8354285714285714,1.8403809523809525,1.8453333333333335,1.8502857142857145,1.8552380952380951,1.8601904761904762,1.8651428571428572,1.8700952380952383,1.8750476190476193,1.88,1.884952380952381,1.889904761904762,1.8948571428571426,1.8998095238095236,1.9047619047619047,1.9097142857142857,1.9146666666666667,1.9196190476190478,1.9245714285714284,1.9295238095238094,1.9344761904761905,1.9394285714285715,1.9443809523809525,1.9493333333333336,1.9542857142857142,1.9592380952380952,1.9641904761904763,1.9691428571428573,1.9740952380952383,1.979047619047619,1.984,1.988952380952381,1.9939047619047616,1.9988571428571427,2.0038095238095237,2.0087619047619047,2.013714285714286,2.018666666666667,2.0236190476190474,2.0285714285714285,2.0335238095238095,2.0384761904761906,2.0434285714285716,2.048380952380952,2.0533333333333332,2.0582857142857143,2.0632380952380953,2.0681904761904764,2.0731428571428574,2.078095238095238,2.083047619047619,2.088,2.0929523809523807,2.0979047619047617,2.1028571428571428,2.107809523809524,2.112761904761905,2.117714285714286,2.1226666666666665,2.1276190476190475,2.1325714285714286,2.1375238095238096,2.1424761904761906,2.1474285714285712,2.1523809523809523,2.1573333333333333,2.1622857142857144,2.1672380952380954,2.1721904761904764,2.177142857142857,2.182095238095238,2.187047619047619,2.192,2.196952380952381,2.201904761904762,2.206857142857143,2.211809523809524,2.2167619047619045,2.2217142857142855,2.2266666666666666,2.2316190476190476,2.2365714285714287,2.2415238095238097,2.2464761904761903,2.2514285714285713,2.2563809523809524,2.2613333333333334,2.2662857142857145,2.2712380952380955,2.276190476190476,2.281142857142857,2.286095238095238,2.291047619047619,2.2960000000000003,2.300952380952381,2.305904761904762,2.310857142857143,2.3158095238095235,2.3207619047619046,2.3257142857142856,2.3306666666666667,2.3356190476190477,2.3405714285714287,2.3455238095238093,2.3504761904761904,2.3554285714285714,2.3603809523809525,2.3653333333333335,2.3702857142857146,2.375238095238095,2.380190476190476,2.3851428571428572,2.3900952380952383,2.3950476190476193,2.4,2.404952380952381,2.409904761904762,2.4148571428571426,2.4198095238095236,2.4247619047619047,2.4297142857142857,2.4346666666666668,2.439619047619048,2.4445714285714284,2.4495238095238094,2.4544761904761905,2.4594285714285715,2.4643809523809526,2.469333333333333,2.474285714285714,2.4792380952380952,2.4841904761904763,2.4891428571428573,2.4940952380952384,2.499047619047619,2.504,2.508952380952381,2.513904761904762,2.5188571428571427,2.5238095238095237,2.5287619047619048,2.533714285714286,2.538666666666667,2.5436190476190474,2.5485714285714285,2.5535238095238095,2.5584761904761906,2.5634285714285716,2.568380952380952,2.5733333333333333,2.5782857142857143,2.5832380952380953,2.5881904761904764,2.5931428571428574,2.598095238095238,2.603047619047619,2.608,2.612952380952381,2.617904761904762,2.6228571428571428,2.627809523809524,2.632761904761905,2.6377142857142855,2.6426666666666665,2.6476190476190475,2.6525714285714286,2.6575238095238096,2.6624761904761907,2.6674285714285713,2.6723809523809523,2.6773333333333333,2.6822857142857144,2.687238095238095,2.692190476190476,2.697142857142857,2.702095238095238,2.707047619047619,2.712,2.716952380952381,2.721904761904762,2.726857142857143,2.731809523809524,2.7367619047619045,2.741714285714286,2.7466666666666666,2.7516190476190476,2.7565714285714282,2.7615238095238097,2.7664761904761903,2.7714285714285714,2.7763809523809524,2.781333333333333,2.786285714285714,2.791238095238095,2.796190476190476,2.8011428571428567,2.806095238095238,2.811047619047619,2.816,2.820952380952381,2.825904761904762,2.8308571428571425,2.835809523809524,2.8407619047619046,2.8457142857142856,2.8506666666666667,2.8556190476190477,2.8605714285714283,2.86552380952381,2.8704761904761904,2.8754285714285714,2.8803809523809525,2.8853333333333335,2.890285714285714,2.895238095238095,2.900190476190476,2.905142857142857,2.9100952380952383,2.915047619047619,2.92,2.9249523809523805,2.929904761904762,2.9348571428571426,2.9398095238095237,2.9447619047619047,2.9497142857142857,2.9546666666666663,2.959619047619048,2.9645714285714284,2.9695238095238095,2.9744761904761905,2.9794285714285715,2.984380952380952,2.9893333333333336,2.994285714285714,2.999238095238095,3.0041904761904763,3.009142857142857,3.014095238095238,3.019047619047619,3.024,3.0289523809523806,3.033904761904762,3.0388571428571427,3.0438095238095237,3.048761904761905,3.053714285714286,3.0586666666666664,3.063619047619048,3.0685714285714285,3.0735238095238095,3.0784761904761906,3.0834285714285716,3.0883809523809522,3.0933333333333333,3.0982857142857143,3.103238095238095,3.108190476190476,3.113142857142857,3.118095238095238,3.1230476190476186,3.128,3.1329523809523807,3.1379047619047618],\"xaxis\":\"x\",\"y\":[0.21137866978155614,0.21748651513882186,0.22363322721349585,0.2298135238476515,0.23602204224021284,0.24225335390258157,0.24850197998550572,0.25476240691516866,0.2610291022748895,0.26729653086758026,0.2735591708932713,0.2798115301755274,0.28604816237049807,0.2922636830926143,0.29845278589157537,0.30461025801627367,0.3107309959026171,0.31681002032385847,0.3228424911439879,0.3288237216169633,0.33474919217703636,0.3406145636681416,0.3464156899632283,0.35214862992751167,0.35780965868286846,0.3633952781339645,0.3689022267201748,0.37432748836089774,0.37966830056543754,0.3849221616822445,0.3900868372658865,0.39516036554371775,0.4001410619677246,0.4050275228404898,0.4098186280076302,0.4145135426123072,0.41911171791064256,0.42361289114990935,0.4280170845143452,0.43232460314623705,0.43653603225264886,0.44065223331071307,0.44467433938685946,0.44860374958769156,0.4524421226623933,0.45619136977868313,0.45985364649629956,0.46343134396391783,0.4669270793672087,0.470343685657508,0.47368420059222727,0.47695185511979743,0.4801500611434938,0.48328239870006445,0.48635260259060287,0.48936454850261335,0.49232223866372016,0.4952297870689278,0.49809140432485566,0.5009113821557933,0.5036940776179035,0.5064438970693323,0.5091652799454073,0.5118626823894864,0.5145405607913869,0.5172033552866079,0.5198554732707987,0.5225012729850852,0.5251450472288949,0.5277910072578823,0.5304432669253325,0.5331058271260579,0.5357825606022635,0.5384771971711019,0.5411933094336663,0.5439342990249529,0.5467033834638314,0.5495035836613014,0.5523377121442086,0.5552083620502444,0.5581178969482437,0.5610684415357974,0.5640618732636757,0.5670998149338041,0.5701836283143374,0.5733144088118376,0.5764929812366444,0.5797198966932804,0.5829954306230867,0.5863195820213692,0.5896920738460524,0.5931123546292811,0.5965796012976082,0.6000927232003348,0.603650367339311,0.6072509247870974,0.6108925382738098,0.6145731109163715,0.6182903160572053,0.6220416081727475,0.6258242348055622,0.6296352494673735,0.6334715254539658,0.6373297705068313,0.6412065422505946,0.6450982643296921,0.6490012431626841,0.6529116852277813,0.6568257147889414,0.6607393919681168,0.6646487310659975,0.6685497190310103,0.6724383339742901,0.6763105636270108,0.6801624236357722,0.683989975591729,0.6877893446899039,0.6915567369165052,0.6952884556642395,0.6989809176784554,0.7026306682404826,0.7062343954987738,0.7097889438633382,0.7132913263844624,0.7167387360428201,0.7201285558847511,0.7234583679435993,0.7267259608957082,0.7299293364075964,0.7330667141392763,0.7361365353772784,0.73913746527981,0.7420683937254862,0.7449284347661385,0.7477169246932969,0.7504334187369669,0.7530776864241984,0.75564970563365,0.7581496553907454,0.7605779074561242,0.7629350167677613,0.7652217108043707,0.76743887794445,0.7695875549014731,0.7716689133213395,0.7736842456331113,0.7756349502483424,0.7775225162078978,0.7793485073779846,0.781114546299295,0.7828222977945256,0.7844734524402106,0.786069710008746,0.7876127629856944,0.7891042802659566,0.790545891130273,0.791939169600667,0.7932856192700375,0.7945866586971052,0.7958436074533621,0.7970576729036711,0.7982299377966278,0.7993613487350003,0.8004527055902776,0.801504651918879,0.8025176664308246,0.8034920555547231,0.8044279471358475,0.8053252852969404,0.806183826484153,0.8070031367133808,0.8077825900250803,0.8085213681486773,0.8092184613707497,0.8098726705944483,0.8104826105711591,0.8110467142790835,0.8115632384174728,0.8120302699795073,0.8124457338614357,0.8128074014605263,0.8131129002096443,0.8133597239919474,0.8135452443751494,0.8136667226011993,0.8137213222640229,0.8137061226050081,0.8136181323535641,0.8134543040378804,0.8132115486893716,0.8128867508629005,0.8124767838939612,0.8119785253133828,0.8113888723398889,0.8107047573710113,0.8099231633933326,0.8090411392338722,0.8080558145756394,0.8069644146618791,0.8057642746154117,0.804452853301644,0.8030277466663174,0.8014867004818634,0.7998276224393545,0.798048593526398,0.7961478786350317,0.7941239363475453,0.7919754278524171,0.7897012249468918,0.7873004170874308,0.7847723174540722,0.7821164679997715,0.7793326434609871,0.7764208543110785,0.773381348643578,0.7702146129778261,0.766921371985176,0.7635025871394756,0.7599594543012299,0.7562934002503974,0.7525060781883378,0.748599362234814,0.744575340951303,0.740436309926997,0.7361847634688027,0.7318233854414374,0.7273550393081212,0.7227827574266048,0.7181097296591232,0.7133392913584032,0.7084749107950379,0.7035201760943192,0.6984787817530234,0.6933545148085981,0.6881512407347733,0.6828728891386886,0.6775234393353246,0.6721069058752316,0.666627324101305,0.661088735809729,0.655495175089077,0.6498506544100522,0.644159151036454,0.6384245938255817,0.6326508504836844,0.6268417153389745,0.6210008976914018,0.6151320107947469,0.6092385615226422,0.6033239407660059,0.5973914146049936,0.5914441162940139,0.5854850390936658,0.5795170299786253,0.5735427842456032,0.5675648410405025,0.5615855798189054,0.5556072177489952,0.5496318080610104,0.5436612393423679,0.5376972357727111,0.5317413582882934,0.5257950066604444,0.5198594224682551,0.5139356929411883,0.5080247556430421,0.5021274039645638,0.4962442933881008,0.4903759484839137,0.4845227705942528,0.47868504615797763,0.4728629556254006,0.46705658291014684,0.4612659253222274,0.4554909039240938,0.4497313742493502,0.4439871373218869,0.4382579509116321,0.4325435409617494,0.4268436131210917,0.42115786431493585,0.41548599428658034,0.40982771704220206,0.4041827721315434,0.3985509356974415,0.3929320312280177,0.3873259399464545,0.3817326107747431,0.37615206980954835,0.37058442925049734,0.3650298957236351,0.3594887779455968,0.35396149367719365,0.3484485759185635,0.3429506783018357,0.33746857964135996,0.3320031876059464,0.3265555414822562,0.32112681400342763,0.3157183122222265,0.3103314774134159,0.30496788399566416,0.29962923746906184,0.294317371370245,0.28903424325310334,0.28378192970911675,0.2785626204474311,0.2733786114608548,0.26823229730992376,0.2631261625630766,0.25806277243670545,0.25304476268438303,0.24807482878985138,0.2431557145233696,0.238290199925696,0.2334810887883043,0.22873119570232633,0.2240433327522088,0.21942029593304332,0.2148648513730413,0.21037972144457986,0.20596757084866693,0.20163099275850618,0.19737249510812005,0.19319448711165285,0.18909926609806296,0.18508900474438814,0.18116573878869108,0.177331355301094,0.17358758158810675,0.16993597480166425,0.1663779123200292,0.1629145829629501,0.15954697909826085,0.15627588969149853,0.15310189434414576,0.1500253583597915,0.1470464288709479,0.144165032052457,0.1413808714404556,0.13869342736878076,0.13610195752754878,0.1336054986414732,0.13120286925836744,0.1288926736312566,0.12667330667064197,0.12454295993678223,0.12249962863543173,0.12054111957432695,0.11866506003192148,0.11686890748444323,0.11514996013233289,0.11350536816257306,0.11193214567931582,0.11042718323164925,0.10898726086427006,0.10760906161431485,0.1062891853756264,0.10502416305032032,0.10381047090666545,0.10264454506199425,0.10152279600962537,0.100441623109575,0.09939742896417512,0.0983866336015475,0.09740568839222032,0.09645108962696419,0.09551939168714894,0.0946072197425578,0.0937112819155902,0.09282838085512099,0.0919554246679072,0.09108943716032027,0.09022756734827661,0.08936709819851182,0.08850545456974741,0.08764021032778929,0.08676909461413883,0.08588999725324302,0.08500097328902341,0.08410024664676317,0.08318621292176342,0.08225744130135933,0.08131267563189583,0.08035083464705293,0.07937101137846043,0.07837247177383531,0.07735465255186147,0.07631715832672188,0.07525975803854794,0.07418238072906276,0.0730851107043494,0.07196818212897761,0.07083197309763577,0.06967699923197952,0.06850390685158649,0.06731346576872162,0.06610656175708135,0.06488418874477744,0.06364744078159575,0.0623975038299984,0.06113564742846038,0.059863216274574395,0.058581621773910623,0.05729233359892795,0.05599687130031446,0.05469679601100101,0.0533937022807836,0.05208921007701955,0.05078495698425701,0.0494825906329553,0.04818376138464724,0.04689011529805704,0.0456032873977946,0.044324895264353126,0.04305653296126041,0.041799765312380985,0.04055612253957851,0.039327095268230014,0.03811412990545537,0.03691862439341815,0.03574192433764953,0.03458531950810398,0.033450040708540144,0.03233725700787636,0.03124807332538309,0.03018352835997217,0.029144592852398343,0.02813216816794551,0.02714708518609001,0.026190103482743587,0.025261910789964332,0.024363122717481065,0.023494282720013276,0.022655862294153006,0.021848261388533775,0.02107180901110345,0.02032676401755423,0.01961331606532776,0.01893158671809271,0.018281630686171814,0.017663437189081664,0.017076931427095616,0.016521976149569167,0.015998373308644162,0.015505865787865131,0.0150441391961867,0.014612823718815244,0.014211496017286458,0.013839681172139642,0.013496854662479251,0.013182444377617194,0.012895832656848563,0.012636358354220787,0.012403318925906433,0.012195972538468087,0.012013540196913478,0.011855207891964691,0.011720128766409892,0.011607425300761556,0.011516191518712996,0.01144549521305945,0.01139438019283681,0.011361868552425618,0.011346962963276837,0.011348648988739406,0.011365897422214121,0.01139766664852705,0.011442905028016608,0.01150055330236682,0.01156954702070369,0.01164881898391037,0.011737301704517773,0.011833929878900874,0.01193764286786673,0.012047387181065974,0.012162118960009256,0.012280806453829283,0.012402432481310892,0.012525996872123912,0.012650518879647112,0.012775039557272595,0.012898624089641333,0.01302036406988419,0.01313937971364113,0.013254822000406341,0.013365874732606791,0.013471756502768226,0.01357172255916134,0.013665066560452044,0.013751122210106147,0.013829264761618457,0.01389891238605135,0.01395952739387194,0.014010617303670737,0.014051735751021907,0.014082483231500065,0.014102507672697289,0.014111504830976777,0.014109218509650745],\"yaxis\":\"y\",\"type\":\"scatter\"},{\"legendgroup\":\"under 2.5\",\"marker\":{\"color\":\"#ffa600\"},\"mode\":\"lines\",\"name\":\"under 2.5\",\"showlegend\":false,\"x\":[0.6111111111111112,0.6165555555555556,0.622,0.6274444444444445,0.632888888888889,0.6383333333333334,0.6437777777777778,0.6492222222222223,0.6546666666666667,0.6601111111111112,0.6655555555555556,0.671,0.6764444444444445,0.681888888888889,0.6873333333333334,0.6927777777777778,0.6982222222222223,0.7036666666666667,0.7091111111111111,0.7145555555555556,0.7200000000000001,0.7254444444444446,0.7308888888888889,0.7363333333333334,0.7417777777777779,0.7472222222222222,0.7526666666666667,0.7581111111111112,0.7635555555555557,0.769,0.7744444444444445,0.779888888888889,0.7853333333333334,0.7907777777777778,0.7962222222222223,0.8016666666666667,0.8071111111111111,0.8125555555555556,0.8180000000000001,0.8234444444444445,0.8288888888888889,0.8343333333333334,0.8397777777777778,0.8452222222222223,0.8506666666666667,0.8561111111111112,0.8615555555555556,0.867,0.8724444444444446,0.8778888888888889,0.8833333333333334,0.8887777777777779,0.8942222222222223,0.8996666666666667,0.9051111111111112,0.9105555555555556,0.9160000000000001,0.9214444444444445,0.9268888888888889,0.9323333333333335,0.9377777777777778,0.9432222222222223,0.9486666666666668,0.9541111111111111,0.9595555555555556,0.9650000000000001,0.9704444444444446,0.9758888888888889,0.9813333333333334,0.9867777777777779,0.9922222222222223,0.9976666666666667,1.003111111111111,1.0085555555555556,1.014,1.0194444444444446,1.024888888888889,1.0303333333333333,1.035777777777778,1.0412222222222223,1.0466666666666666,1.0521111111111112,1.0575555555555556,1.0630000000000002,1.0684444444444445,1.073888888888889,1.0793333333333335,1.0847777777777778,1.0902222222222222,1.0956666666666668,1.1011111111111112,1.1065555555555555,1.112,1.1174444444444447,1.1228888888888888,1.1283333333333334,1.133777777777778,1.1392222222222221,1.1446666666666667,1.1501111111111113,1.1555555555555557,1.161,1.1664444444444446,1.171888888888889,1.1773333333333333,1.182777777777778,1.1882222222222223,1.1936666666666667,1.1991111111111112,1.2045555555555556,1.21,1.2154444444444445,1.2208888888888891,1.2263333333333335,1.2317777777777779,1.2372222222222222,1.2426666666666666,1.2481111111111112,1.2535555555555558,1.2590000000000001,1.2644444444444445,1.269888888888889,1.2753333333333334,1.2807777777777778,1.2862222222222224,1.2916666666666667,1.297111111111111,1.3025555555555557,1.308,1.3134444444444444,1.318888888888889,1.3243333333333336,1.329777777777778,1.3352222222222223,1.3406666666666667,1.346111111111111,1.3515555555555556,1.3570000000000002,1.3624444444444446,1.367888888888889,1.3733333333333335,1.3787777777777779,1.3842222222222222,1.3896666666666668,1.3951111111111112,1.4005555555555556,1.4060000000000001,1.4114444444444445,1.4168888888888889,1.4223333333333334,1.427777777777778,1.4332222222222222,1.4386666666666668,1.4441111111111111,1.4495555555555555,1.455,1.4604444444444447,1.465888888888889,1.4713333333333334,1.476777777777778,1.482222222222222,1.4876666666666667,1.4931111111111113,1.4985555555555556,1.504,1.5094444444444446,1.514888888888889,1.5203333333333333,1.525777777777778,1.5312222222222225,1.5366666666666666,1.5421111111111112,1.5475555555555556,1.553,1.5584444444444445,1.563888888888889,1.5693333333333335,1.5747777777777778,1.5802222222222224,1.5856666666666666,1.5911111111111111,1.5965555555555557,1.602,1.6074444444444445,1.612888888888889,1.6183333333333334,1.623777777777778,1.6292222222222223,1.6346666666666667,1.640111111111111,1.6455555555555557,1.651,1.6564444444444446,1.661888888888889,1.6673333333333333,1.672777777777778,1.6782222222222223,1.6836666666666669,1.6891111111111112,1.6945555555555558,1.7000000000000002,1.7054444444444445,1.710888888888889,1.7163333333333333,1.7217777777777779,1.7272222222222222,1.7326666666666668,1.7381111111111112,1.7435555555555557,1.749,1.7544444444444447,1.759888888888889,1.7653333333333334,1.770777777777778,1.7762222222222221,1.7816666666666667,1.787111111111111,1.7925555555555557,1.798,1.8034444444444446,1.808888888888889,1.8143333333333334,1.819777777777778,1.8252222222222223,1.8306666666666669,1.8361111111111112,1.8415555555555558,1.847,1.8524444444444446,1.857888888888889,1.8633333333333333,1.8687777777777779,1.8742222222222222,1.8796666666666668,1.8851111111111112,1.8905555555555558,1.8960000000000001,1.9014444444444447,1.906888888888889,1.9123333333333334,1.9177777777777778,1.9232222222222222,1.9286666666666668,1.9341111111111111,1.9395555555555557,1.945,1.9504444444444446,1.955888888888889,1.9613333333333334,1.966777777777778,1.9722222222222223,1.977666666666667,1.9831111111111113,1.9885555555555556,1.994,1.9994444444444446,2.004888888888889,2.0103333333333335,2.015777777777778,2.0212222222222223,2.026666666666667,2.032111111111111,2.0375555555555556,2.043,2.0484444444444447,2.0538888888888893,2.059333333333333,2.0647777777777776,2.070222222222222,2.0756666666666668,2.0811111111111114,2.086555555555556,2.092,2.0974444444444447,2.102888888888889,2.1083333333333334,2.113777777777778,2.1192222222222226,2.124666666666667,2.130111111111111,2.1355555555555554,2.141,2.1464444444444446,2.151888888888889,2.1573333333333333,2.162777777777778,2.168222222222222,2.1736666666666666,2.179111111111111,2.184555555555556,2.1900000000000004,2.195444444444445,2.2008888888888887,2.2063333333333333,2.211777777777778,2.2172222222222224,2.222666666666667,2.228111111111111,2.2335555555555557,2.239,2.2444444444444445,2.249888888888889,2.2553333333333336,2.260777777777778,2.266222222222222,2.2716666666666665,2.277111111111111,2.2825555555555557,2.2880000000000003,2.293444444444445,2.298888888888889,2.304333333333333,2.3097777777777777,2.3152222222222223,2.320666666666667,2.3261111111111115,2.331555555555556,2.3369999999999997,2.3424444444444443,2.347888888888889,2.3533333333333335,2.358777777777778,2.3642222222222222,2.369666666666667,2.375111111111111,2.3805555555555555,2.386,2.3914444444444447,2.3968888888888893,2.402333333333334,2.4077777777777776,2.413222222222222,2.4186666666666667,2.4241111111111113,2.429555555555556,2.435,2.4404444444444446,2.445888888888889,2.4513333333333334,2.456777777777778,2.4622222222222225,2.467666666666667,2.4731111111111113,2.4785555555555554,2.484,2.4894444444444446,2.494888888888889,2.5003333333333337,2.505777777777778,2.511222222222222,2.5166666666666666,2.522111111111111,2.5275555555555558,2.5330000000000004,2.538444444444445,2.543888888888889,2.5493333333333332,2.554777777777778,2.5602222222222224,2.565666666666667,2.571111111111111,2.5765555555555557,2.582,2.5874444444444444,2.592888888888889,2.5983333333333336,2.603777777777778,2.6092222222222223,2.614666666666667,2.620111111111111,2.6255555555555556,2.6310000000000002,2.636444444444445,2.641888888888889,2.6473333333333335,2.652777777777778,2.6582222222222223,2.663666666666667,2.669111111111111,2.6745555555555556,2.68,2.6854444444444447,2.690888888888889,2.6963333333333335,2.701777777777778,2.7072222222222226,2.712666666666667,2.7181111111111114,2.7235555555555555,2.729,2.7344444444444447,2.739888888888889,2.7453333333333334,2.750777777777778,2.7562222222222226,2.7616666666666667,2.7671111111111113,2.7725555555555554,2.7780000000000005,2.7834444444444446,2.788888888888889,2.7943333333333333,2.799777777777778,2.8052222222222225,2.8106666666666666,2.8161111111111112,2.8215555555555554,2.8270000000000004,2.8324444444444445,2.837888888888889,2.8433333333333333,2.8487777777777783,2.8542222222222224,2.859666666666667,2.865111111111111,2.8705555555555553,2.8760000000000003,2.8814444444444445,2.886888888888889,2.892333333333333,2.8977777777777782,2.9032222222222224,2.908666666666667,2.914111111111111,2.9195555555555557,2.9250000000000003,2.930444444444445,2.935888888888889,2.941333333333333,2.946777777777778,2.9522222222222223,2.957666666666667,2.963111111111111,2.9685555555555556,2.974,2.979444444444445,2.984888888888889,2.9903333333333335,2.995777777777778,3.0012222222222227,3.006666666666667,3.012111111111111,3.0175555555555555,3.023,3.0284444444444447,3.033888888888889,3.0393333333333334,3.044777777777778,3.0502222222222226,3.0556666666666668,3.0611111111111113,3.0665555555555555,3.0720000000000005,3.0774444444444446,3.082888888888889,3.0883333333333334,3.093777777777778,3.0992222222222225,3.1046666666666667,3.1101111111111113,3.1155555555555554,3.1210000000000004,3.1264444444444446,3.131888888888889,3.1373333333333333,3.1427777777777783,3.1482222222222225,3.1536666666666666,3.159111111111111,3.1645555555555553,3.1700000000000004,3.1754444444444445,3.180888888888889,3.1863333333333332,3.1917777777777783,3.1972222222222224,3.202666666666667,3.208111111111111,3.2135555555555557,3.2190000000000003,3.2244444444444444,3.229888888888889,3.235333333333333,3.240777777777778,3.2462222222222223,3.251666666666667,3.257111111111111,3.2625555555555557,3.2680000000000002,3.273444444444445,3.278888888888889,3.2843333333333335,3.289777777777778,3.2952222222222223,3.300666666666667,3.306111111111111,3.3115555555555556,3.317,3.3224444444444448,3.327888888888889],\"xaxis\":\"x\",\"y\":[0.18289042340219372,0.18856453430613435,0.1943089680955487,0.20012031307026365,0.2059950181343228,0.21192939856732357,0.21791964224107074,0.22396181627166803,0.23005187409611658,0.23618566296150056,0.24235893181387727,0.24856733957308275,0.2548064637787708,0.26107180959215276,0.26735881913707243,0.273662881163224,0.2799793410135071,0.2863035108767027,0.2926306803058169,0.2989561269816134,0.30527512769996784,0.3115829695607943,0.31787496133535065,0.3241464449877471,0.3303928073254527,0.33660949175251803,0.34279201009808774,0.3489359544915886,0.3550370092547507,0.361090962779292,0.3670937193577986,0.3730413109339228,0.378929908736635,0.3847558347618341,0.3905155730631998,0.3962057808127406,0.40182329909012504,0.40736516335852174,0.4128286135834183,0.4182111039497097,0.423510312131271,0.42872414806633075,0.4338507621911853,0.43888855308425534,0.4438361744721271,0.44869254154915644,0.4534568365623728,0.45812851361392315,0.4627073026340966,0.4671932124791288,0.47158653310950366,0.4758878368063846,0.48009797838610924,0.48421809437540553,0.48824960111312593,0.49219419174786433,0.49605383210481,0.49983075539960237,0.5035274557817864,0.507146680695677,0.5106914220520508,0.5141649062100566,0.517570582775005,0.5209121122242977,0.5241933523806087,0.5274183437584602,0.530591293817603,0.5337165601639358,0.536798632746114,0.5398421151034302,0.542851704727904,0.5458321726107869,0.5487883420507592,0.551725066807933,0.5546472086943037,0.5575596146974648,0.5604670937400981,0.5633743931830217,0.5662861751842191,0.5692069930303498,0.5721412675606589,0.5750932638058703,0.5780670679666025,0.5810665648569917,0.5840954159395243,0.5871570380765617,0.590254583122659,0.5933909184794939,0.5965686087321019,0.599789898481077,0.6030566964805159,0.6063705611857568,0.6097326878084242,0.61314389696895,0.6166046250286977,0.6201149161750337,0.6236744163233237,0.6272823688898556,0.6309376124792282,0.6346385805188441,0.6383833028618965,0.6421694093687164,0.6459941354646157,0.6498543296605651,0.6537464630112111,0.6576666404729564,0.6616106141132633,0.6655737981109756,0.6695512854764537,0.6735378664097271,0.6775280482047806,0.6815160765985804,0.6854959584545932,0.6894614856623801,0.6934062601275137,0.697323719719491,0.7012071650396869,0.7050497868666232,0.7088446941320757,0.7125849422786887,0.7162635618480049,0.7198735871469616,0.7234080848411459,0.7268601823242831,0.7302230957156265,0.7334901573400701,0.7366548425499201,0.7397107957522213,0.7426518555114117,0.7454720786037367,0.7481657629072689,0.7507274690194783,0.7531520405030615,0.755434622670012,0.757570679823725,0.759556010889103,0.7613867633711947,0.7630594455936464,0.7645709371792485,0.7659184977458796,0.7670997738022346,0.7681128038387245,0.7689560216197593,0.7696282576943063,0.7701287391518938,0.7704570876612372,0.7706133158381921,0.770597821998762,0.7704113833614009,0.7700551477707092,0.7695306240218796,0.7688396708717431,0.7679844848281027,0.7669675868140797,0.7657918078084311,0.7644602735662837,0.7629763885273657,0.7613438190206377,0.7595664758752518,0.7576484965479865,0.7555942268766972,0.7534082025680161,0.7510951305254175,0.7486598701209678,0.7461074145106268,0.7434428720888453,0.7406714481735296,0.7377984270072294,0.7348291541546987,0.7317690193708876,0.7286234400069209,0.7253978450148679,0.7220976596051029,0.7187282906028475,0.7152951125432703,0.7118034545371204,0.7082585879316476,0.7046657147843098,0.701029957159728,0.6973563472534963,0.6936498183398531,0.6899151965339752,0.6861571933536937,0.6823803990599809,0.6785892767504703,0.6747881571756915,0.6709812342436691,0.6671725611749623,0.6633660472672899,0.6595654552264419,0.6557743990183764,0.6519963421960997,0.6482345966542887,0.6444923217644425,0.6407725238437794,0.6370780559120548,0.6334116176918808,0.6297757558100548,0.6261728641597459,0.6226051843861078,0.6190748064609857,0.6155836693157845,0.6121335615052039,0.6087261218784495,0.6053628402385103,0.6020450579742984,0.5987739686545721,0.5955506185768471,0.5923759072685999,0.5892505879421814,0.5861752679087621,0.5831504089604062,0.5801763277328592,0.5772531960649119,0.5743810413731426,0.5715597470634665,0.568789053003169,0.5660685560789881,0.5633977108682674,0.5607758304512737,0.5582020873933913,0.5556755149261285,0.5531950083556149,0.5507593267266657,0.5483670947693978,0.546016805153926,0.5437068210768753,0.5414353792011962,0.5392005929683016,0.5370004562986933,0.5348328476941796,0.5326955347514603,0.5305861790933478,0.5285023417202184,0.5264414887805267,0.5244009977553474,0.5223781640480146,0.5203702079660928,0.5183742820790367,0.5163874789312147,0.5144068390863364,0.5124293594759044,0.5104520020210844,0.5084717024943803,0.5064853795847883,0.5044899441276592,0.502482308458379,0.5004593958472168,0.4984181499712336,0.496355544378133,0.4942685918962086,0.492154353944291,0.49000994969568257,0.4878325650505131,0.48561946137186063,0.48336798394216396,0.4810755700980586,0.47873975700368904,0.47635818902480365,0.47392862466847385,0.47144894305612156,0.468917149900605,0.4663313829614007,0.4636899169554167,0.4609911679046052,0.4582336969053005,0.4554162133080791,0.4525375773008206,0.44959680189160106,0.44659305429193386,0.44352565670476046,0.44039408652534245,0.43719797596688803,0.4339371111262489,0.43061143050835815,0.42722102303122006,0.42376612553615556,0.42024711983066854,0.41666452929366793,0.41301901507487276,0.40931137192201605,0.40554252367093163,0.4017135184347387,0.3978255235291894,0.39387982017168677,0.38987779799166905,0.3858209493898807,0.3817108637835354,0.37754922177362504,0.37333778926950206,0.36907841160450683,0.36477300767479665,0.3604235641316399,0.35603212965538555,0.3516008093370291,0.34713175919086225,0.34262718081912424,0.3380893162468974,0.3335204429427165,0.3289228690375852,0.32429892875223176,0.31965097803967224,0.31498139044734097,0.3102925532003791,0.30558686350506126,0.3008667250688666,0.2961345448313874,0.2913927298980918,0.28664368466701146,0.2818898081366718,0.2771334913820396,0.2723771151839833,0.2676230477967014,0.2628736428367648,0.25813123727691123,0.25339814952744066,0.24867667758805953,0.2439690972532485,0.23927766035471965,0.2346045930252511,0.2299520939691086,0.22532233272543073,0.22071744791227615,0.2161395454405344,0.21159069668855926,0.20707293663014004,0.2025882619103245,0.19813862886552808,0.19372595148638258,0.18935209932378264,0.18501889534061516,0.180728113713627,0.17648147759184657,0.1722806568197908,0.16812726563547295,0.16402286035483588,0.15996893705572118,0.15596692927581132,0.15201820574011243,0.14812406813451418,0.1442857489426854,0.14050440936412467,0.13678113733148098,0.13311694564536064,0.12951277024470867,0.12596946863049863,0.12248781845989279,0.1190685163272616,0.11571217674746924,0.11241933135565527,0.10919042833640687,0.10602583209370145,0.10292582317135025,0.09989059843190198,0.09692027150008707,0.09401487347491622,0.09117435391252762,0.08839858207981494,0.08568734847678679,0.08304036662353262,0.08045727510562997,0.07793763986982728,0.07548095675991184,0.07308665428083261,0.07075409657742861,0.06848258661249781,0.06627136952748927,0.06411963616779054,0.06202652675343597,0.0599911346751007,0.0580125103944572,0.05608966542737853,0.054221576388066114,0.05240718907197495,0.050645422555384206,0.04893517328963823,0.04727531916843437,0.04566472354706623,0.04410223919323445,0.04258671214989215,0.04111698549160108,0.03969190295700988,0.038310312441327925,0.03697106933402544,0.0356730396884455,0.03441510321153263,0.033196156063461255,0.032015113458560986,0.030870912060576645,0.029762512166935724,0.028688899678332738,0.027649087851539134,0.026642118834909148,0.025667064987560016,0.024723029984639502,0.023809149712452675,0.022924592958485177,0.022068561902529257,0.021240292416174682,0.0204390541788771,0.01966415061963877,0.018914918694048332,0.01819072850700213,0.017490982791894146,0.01681511625739195,0.016162594813134767,0.015532914685786874,0.014925601436864304,0.014340208893636084,0.013776318004178325,0.013233535627353786,0.01271149326809106,0.012209845767876346,0.011728269959833962,0.011266463297193273,0.010824142463306064,0.010401041970719853,0.009996912756127501,0.009611520777315244,0.00924464561753346,0.008896079102019656,0.00856562393072786,0.008253092330664924,0.007958304730616416,0.007681088460462997,0.0074212764767554494,0.0071787061157337064,0.0069532178745494175,0.006744654221084963,0.006552858432458953,0.006377673462069064,0.006218940834848538,0.00607649957030549,0.0059501851328686165,0.0058398284090812515,0.005745254711262621,0.005666282807388529,0.005602723977127877,0.005554381094202674,0.005521047735511049,0.005502507317759254,0.005498532262683689,0.005508883192299577,0.005533308155983001,0.005571541891569274,0.005623305123026084,0.00568830389762676,0.005766228965899965,0.00585675520796011,0.005959541110120439,0.006074228295952212,0.006200441116170885,0.006337786301901055,0.00648585268598672,0.006644210997072728,0.00681241373117817,0.006989995105415144,0.0071764710983695445,0.007371339581457321,0.0075740805452956745,0.007784156424787494,0.00800101252620756,0.00822407755910397,0.00845276427529106,0.008686470216612514,0.00892457857250283,0.009166459147673944,0.0094114694395102,0.009658955823973045,0.009908254848005726,0.01015869462559614,0.010409596333806278,0.010660275804225672,0.010910045204452896,0.01115821480337301,0.011404094813176136,0.011646997300276943,0.011886238156537821,0.012121139121497414,0.012351029845650228,0.012575249984236911,0.012793151310481404,0.01300409983676792,0.01320747793188674,0.01340268642220112,0.01358914666440276,0.013766302577431406,0.013933622621141535,0.014090601709403548,0.014236763045531856,0.014371659868236204,0.014494877096694104,0.014606032863839866,0.01470477992755542,0.014790806950126224,0.014863839637085891,0.014923641727412488,0.014970015827946681,0.015002804085874535,0.01502188869414339],\"yaxis\":\"y\",\"type\":\"scatter\"}],                        {\"barmode\":\"overlay\",\"hovermode\":\"closest\",\"legend\":{\"traceorder\":\"reversed\"},\"xaxis\":{\"anchor\":\"y2\",\"domain\":[0.0,1.0],\"zeroline\":false,\"range\":[0,5]},\"yaxis\":{\"anchor\":\"free\",\"domain\":[0.0,1],\"position\":0.0},\"template\":{\"data\":{\"bar\":[{\"error_x\":{\"color\":\"#2a3f5f\"},\"error_y\":{\"color\":\"#2a3f5f\"},\"marker\":{\"line\":{\"color\":\"#E5ECF6\",\"width\":0.5},\"pattern\":{\"fillmode\":\"overlay\",\"size\":10,\"solidity\":0.2}},\"type\":\"bar\"}],\"barpolar\":[{\"marker\":{\"line\":{\"color\":\"#E5ECF6\",\"width\":0.5},\"pattern\":{\"fillmode\":\"overlay\",\"size\":10,\"solidity\":0.2}},\"type\":\"barpolar\"}],\"carpet\":[{\"aaxis\":{\"endlinecolor\":\"#2a3f5f\",\"gridcolor\":\"white\",\"linecolor\":\"white\",\"minorgridcolor\":\"white\",\"startlinecolor\":\"#2a3f5f\"},\"baxis\":{\"endlinecolor\":\"#2a3f5f\",\"gridcolor\":\"white\",\"linecolor\":\"white\",\"minorgridcolor\":\"white\",\"startlinecolor\":\"#2a3f5f\"},\"type\":\"carpet\"}],\"choropleth\":[{\"colorbar\":{\"outlinewidth\":0,\"ticks\":\"\"},\"type\":\"choropleth\"}],\"contour\":[{\"colorbar\":{\"outlinewidth\":0,\"ticks\":\"\"},\"colorscale\":[[0.0,\"#0d0887\"],[0.1111111111111111,\"#46039f\"],[0.2222222222222222,\"#7201a8\"],[0.3333333333333333,\"#9c179e\"],[0.4444444444444444,\"#bd3786\"],[0.5555555555555556,\"#d8576b\"],[0.6666666666666666,\"#ed7953\"],[0.7777777777777778,\"#fb9f3a\"],[0.8888888888888888,\"#fdca26\"],[1.0,\"#f0f921\"]],\"type\":\"contour\"}],\"contourcarpet\":[{\"colorbar\":{\"outlinewidth\":0,\"ticks\":\"\"},\"type\":\"contourcarpet\"}],\"heatmap\":[{\"colorbar\":{\"outlinewidth\":0,\"ticks\":\"\"},\"colorscale\":[[0.0,\"#0d0887\"],[0.1111111111111111,\"#46039f\"],[0.2222222222222222,\"#7201a8\"],[0.3333333333333333,\"#9c179e\"],[0.4444444444444444,\"#bd3786\"],[0.5555555555555556,\"#d8576b\"],[0.6666666666666666,\"#ed7953\"],[0.7777777777777778,\"#fb9f3a\"],[0.8888888888888888,\"#fdca26\"],[1.0,\"#f0f921\"]],\"type\":\"heatmap\"}],\"heatmapgl\":[{\"colorbar\":{\"outlinewidth\":0,\"ticks\":\"\"},\"colorscale\":[[0.0,\"#0d0887\"],[0.1111111111111111,\"#46039f\"],[0.2222222222222222,\"#7201a8\"],[0.3333333333333333,\"#9c179e\"],[0.4444444444444444,\"#bd3786\"],[0.5555555555555556,\"#d8576b\"],[0.6666666666666666,\"#ed7953\"],[0.7777777777777778,\"#fb9f3a\"],[0.8888888888888888,\"#fdca26\"],[1.0,\"#f0f921\"]],\"type\":\"heatmapgl\"}],\"histogram\":[{\"marker\":{\"pattern\":{\"fillmode\":\"overlay\",\"size\":10,\"solidity\":0.2}},\"type\":\"histogram\"}],\"histogram2d\":[{\"colorbar\":{\"outlinewidth\":0,\"ticks\":\"\"},\"colorscale\":[[0.0,\"#0d0887\"],[0.1111111111111111,\"#46039f\"],[0.2222222222222222,\"#7201a8\"],[0.3333333333333333,\"#9c179e\"],[0.4444444444444444,\"#bd3786\"],[0.5555555555555556,\"#d8576b\"],[0.6666666666666666,\"#ed7953\"],[0.7777777777777778,\"#fb9f3a\"],[0.8888888888888888,\"#fdca26\"],[1.0,\"#f0f921\"]],\"type\":\"histogram2d\"}],\"histogram2dcontour\":[{\"colorbar\":{\"outlinewidth\":0,\"ticks\":\"\"},\"colorscale\":[[0.0,\"#0d0887\"],[0.1111111111111111,\"#46039f\"],[0.2222222222222222,\"#7201a8\"],[0.3333333333333333,\"#9c179e\"],[0.4444444444444444,\"#bd3786\"],[0.5555555555555556,\"#d8576b\"],[0.6666666666666666,\"#ed7953\"],[0.7777777777777778,\"#fb9f3a\"],[0.8888888888888888,\"#fdca26\"],[1.0,\"#f0f921\"]],\"type\":\"histogram2dcontour\"}],\"mesh3d\":[{\"colorbar\":{\"outlinewidth\":0,\"ticks\":\"\"},\"type\":\"mesh3d\"}],\"parcoords\":[{\"line\":{\"colorbar\":{\"outlinewidth\":0,\"ticks\":\"\"}},\"type\":\"parcoords\"}],\"pie\":[{\"automargin\":true,\"type\":\"pie\"}],\"scatter\":[{\"marker\":{\"colorbar\":{\"outlinewidth\":0,\"ticks\":\"\"}},\"type\":\"scatter\"}],\"scatter3d\":[{\"line\":{\"colorbar\":{\"outlinewidth\":0,\"ticks\":\"\"}},\"marker\":{\"colorbar\":{\"outlinewidth\":0,\"ticks\":\"\"}},\"type\":\"scatter3d\"}],\"scattercarpet\":[{\"marker\":{\"colorbar\":{\"outlinewidth\":0,\"ticks\":\"\"}},\"type\":\"scattercarpet\"}],\"scattergeo\":[{\"marker\":{\"colorbar\":{\"outlinewidth\":0,\"ticks\":\"\"}},\"type\":\"scattergeo\"}],\"scattergl\":[{\"marker\":{\"colorbar\":{\"outlinewidth\":0,\"ticks\":\"\"}},\"type\":\"scattergl\"}],\"scattermapbox\":[{\"marker\":{\"colorbar\":{\"outlinewidth\":0,\"ticks\":\"\"}},\"type\":\"scattermapbox\"}],\"scatterpolar\":[{\"marker\":{\"colorbar\":{\"outlinewidth\":0,\"ticks\":\"\"}},\"type\":\"scatterpolar\"}],\"scatterpolargl\":[{\"marker\":{\"colorbar\":{\"outlinewidth\":0,\"ticks\":\"\"}},\"type\":\"scatterpolargl\"}],\"scatterternary\":[{\"marker\":{\"colorbar\":{\"outlinewidth\":0,\"ticks\":\"\"}},\"type\":\"scatterternary\"}],\"surface\":[{\"colorbar\":{\"outlinewidth\":0,\"ticks\":\"\"},\"colorscale\":[[0.0,\"#0d0887\"],[0.1111111111111111,\"#46039f\"],[0.2222222222222222,\"#7201a8\"],[0.3333333333333333,\"#9c179e\"],[0.4444444444444444,\"#bd3786\"],[0.5555555555555556,\"#d8576b\"],[0.6666666666666666,\"#ed7953\"],[0.7777777777777778,\"#fb9f3a\"],[0.8888888888888888,\"#fdca26\"],[1.0,\"#f0f921\"]],\"type\":\"surface\"}],\"table\":[{\"cells\":{\"fill\":{\"color\":\"#EBF0F8\"},\"line\":{\"color\":\"white\"}},\"header\":{\"fill\":{\"color\":\"#C8D4E3\"},\"line\":{\"color\":\"white\"}},\"type\":\"table\"}]},\"layout\":{\"annotationdefaults\":{\"arrowcolor\":\"#2a3f5f\",\"arrowhead\":0,\"arrowwidth\":1},\"autotypenumbers\":\"strict\",\"coloraxis\":{\"colorbar\":{\"outlinewidth\":0,\"ticks\":\"\"}},\"colorscale\":{\"diverging\":[[0,\"#8e0152\"],[0.1,\"#c51b7d\"],[0.2,\"#de77ae\"],[0.3,\"#f1b6da\"],[0.4,\"#fde0ef\"],[0.5,\"#f7f7f7\"],[0.6,\"#e6f5d0\"],[0.7,\"#b8e186\"],[0.8,\"#7fbc41\"],[0.9,\"#4d9221\"],[1,\"#276419\"]],\"sequential\":[[0.0,\"#0d0887\"],[0.1111111111111111,\"#46039f\"],[0.2222222222222222,\"#7201a8\"],[0.3333333333333333,\"#9c179e\"],[0.4444444444444444,\"#bd3786\"],[0.5555555555555556,\"#d8576b\"],[0.6666666666666666,\"#ed7953\"],[0.7777777777777778,\"#fb9f3a\"],[0.8888888888888888,\"#fdca26\"],[1.0,\"#f0f921\"]],\"sequentialminus\":[[0.0,\"#0d0887\"],[0.1111111111111111,\"#46039f\"],[0.2222222222222222,\"#7201a8\"],[0.3333333333333333,\"#9c179e\"],[0.4444444444444444,\"#bd3786\"],[0.5555555555555556,\"#d8576b\"],[0.6666666666666666,\"#ed7953\"],[0.7777777777777778,\"#fb9f3a\"],[0.8888888888888888,\"#fdca26\"],[1.0,\"#f0f921\"]]},\"colorway\":[\"#636efa\",\"#EF553B\",\"#00cc96\",\"#ab63fa\",\"#FFA15A\",\"#19d3f3\",\"#FF6692\",\"#B6E880\",\"#FF97FF\",\"#FECB52\"],\"font\":{\"color\":\"#2a3f5f\"},\"geo\":{\"bgcolor\":\"white\",\"lakecolor\":\"white\",\"landcolor\":\"#E5ECF6\",\"showlakes\":true,\"showland\":true,\"subunitcolor\":\"white\"},\"hoverlabel\":{\"align\":\"left\"},\"hovermode\":\"closest\",\"mapbox\":{\"style\":\"light\"},\"paper_bgcolor\":\"white\",\"plot_bgcolor\":\"#E5ECF6\",\"polar\":{\"angularaxis\":{\"gridcolor\":\"white\",\"linecolor\":\"white\",\"ticks\":\"\"},\"bgcolor\":\"#E5ECF6\",\"radialaxis\":{\"gridcolor\":\"white\",\"linecolor\":\"white\",\"ticks\":\"\"}},\"scene\":{\"xaxis\":{\"backgroundcolor\":\"#E5ECF6\",\"gridcolor\":\"white\",\"gridwidth\":2,\"linecolor\":\"white\",\"showbackground\":true,\"ticks\":\"\",\"zerolinecolor\":\"white\"},\"yaxis\":{\"backgroundcolor\":\"#E5ECF6\",\"gridcolor\":\"white\",\"gridwidth\":2,\"linecolor\":\"white\",\"showbackground\":true,\"ticks\":\"\",\"zerolinecolor\":\"white\"},\"zaxis\":{\"backgroundcolor\":\"#E5ECF6\",\"gridcolor\":\"white\",\"gridwidth\":2,\"linecolor\":\"white\",\"showbackground\":true,\"ticks\":\"\",\"zerolinecolor\":\"white\"}},\"shapedefaults\":{\"line\":{\"color\":\"#2a3f5f\"}},\"ternary\":{\"aaxis\":{\"gridcolor\":\"white\",\"linecolor\":\"white\",\"ticks\":\"\"},\"baxis\":{\"gridcolor\":\"white\",\"linecolor\":\"white\",\"ticks\":\"\"},\"bgcolor\":\"#E5ECF6\",\"caxis\":{\"gridcolor\":\"white\",\"linecolor\":\"white\",\"ticks\":\"\"}},\"title\":{\"x\":0.05},\"xaxis\":{\"automargin\":true,\"gridcolor\":\"white\",\"linecolor\":\"white\",\"ticks\":\"\",\"title\":{\"standoff\":15},\"zerolinecolor\":\"white\",\"zerolinewidth\":2},\"yaxis\":{\"automargin\":true,\"gridcolor\":\"white\",\"linecolor\":\"white\",\"ticks\":\"\",\"title\":{\"standoff\":15},\"zerolinecolor\":\"white\",\"zerolinewidth\":2}}},\"title\":{\"text\":\"Distplot with Normal Distribution  avgGoalAway \"}},                        {\"responsive\": true}                    ).then(function(){\n",
              "                            \n",
              "var gd = document.getElementById('cb07b415-a9fb-40aa-9364-8d03498f8825');\n",
              "var x = new MutationObserver(function (mutations, observer) {{\n",
              "        var display = window.getComputedStyle(gd).display;\n",
              "        if (!display || display === 'none') {{\n",
              "            console.log([gd, 'removed!']);\n",
              "            Plotly.purge(gd);\n",
              "            observer.disconnect();\n",
              "        }}\n",
              "}});\n",
              "\n",
              "// Listen for the removal of the full notebook cells\n",
              "var notebookContainer = gd.closest('#notebook-container');\n",
              "if (notebookContainer) {{\n",
              "    x.observe(notebookContainer, {childList: true});\n",
              "}}\n",
              "\n",
              "// Listen for the clearing of the current output cell\n",
              "var outputEl = gd.closest('.output');\n",
              "if (outputEl) {{\n",
              "    x.observe(outputEl, {childList: true});\n",
              "}}\n",
              "\n",
              "                        })                };                            </script>        </div>\n",
              "</body>\n",
              "</html>"
            ]
          },
          "metadata": {}
        }
      ]
    },
    {
      "cell_type": "code",
      "source": [
        "lis=[features.avgGoalConcededAway[data['target']==1], features.avgGoalConcededAway[data['target']==0]]\n",
        "group_labels=['over 2.5','under 2.5']\n",
        "colors = ['#003f5c', '#ffa600']\n",
        "# Create distplot \n",
        "fig = ff.create_distplot(lis, group_labels, bin_size=20,show_rug=False,\n",
        "                         curve_type='kde', # override default 'kde'\n",
        "                         colors=colors)\n",
        "\n",
        "# Add title\n",
        "fig.update_layout(xaxis_range=[0,5])\n",
        "fig.update_layout(title_text='Distplot with Normal Distribution  navgGoalConcededAway ')\n",
        "fig.show()"
      ],
      "metadata": {
        "colab": {
          "base_uri": "https://localhost:8080/",
          "height": 542
        },
        "id": "nR2YhaaJMTDP",
        "outputId": "c1490176-82be-4faa-a349-28be29d80e06"
      },
      "execution_count": 536,
      "outputs": [
        {
          "output_type": "display_data",
          "data": {
            "text/html": [
              "<html>\n",
              "<head><meta charset=\"utf-8\" /></head>\n",
              "<body>\n",
              "    <div>            <script src=\"https://cdnjs.cloudflare.com/ajax/libs/mathjax/2.7.5/MathJax.js?config=TeX-AMS-MML_SVG\"></script><script type=\"text/javascript\">if (window.MathJax) {MathJax.Hub.Config({SVG: {font: \"STIX-Web\"}});}</script>                <script type=\"text/javascript\">window.PlotlyConfig = {MathJaxConfig: 'local'};</script>\n",
              "        <script src=\"https://cdn.plot.ly/plotly-2.8.3.min.js\"></script>                <div id=\"8719b336-ce4c-4867-a26a-474739e6714e\" class=\"plotly-graph-div\" style=\"height:525px; width:100%;\"></div>            <script type=\"text/javascript\">                                    window.PLOTLYENV=window.PLOTLYENV || {};                                    if (document.getElementById(\"8719b336-ce4c-4867-a26a-474739e6714e\")) {                    Plotly.newPlot(                        \"8719b336-ce4c-4867-a26a-474739e6714e\",                        [{\"autobinx\":false,\"histnorm\":\"probability density\",\"legendgroup\":\"over 2.5\",\"marker\":{\"color\":\"#003f5c\"},\"name\":\"over 2.5\",\"opacity\":0.7,\"x\":[1.837837837837838,1.5675675675675675,0.8378378378378378,1.6216216216216217,0.8378378378378378,1.5135135135135136,1.8918918918918919,1.4864864864864864,1.4722222222222223,1.3055555555555556,1.25,1.5555555555555556,1.8888888888888888,1.8333333333333333,2.0277777777777777,1.1428571428571428,0.8571428571428571,1.8285714285714285,1.3714285714285714,1.2571428571428571,1.542857142857143,0.8857142857142857,2.121212121212121,1.411764705882353,1.3529411764705883,1.0588235294117647,1.8484848484848484,1.4705882352941178,1.6176470588235294,1.5,0.7878787878787878,0.9696969696969697,1.5757575757575757,0.8787878787878788,0.8181818181818182,1.696969696969697,1.121212121212121,1.1875,1.7272727272727273,2.225806451612903,0.967741935483871,1.625,0.7741935483870968,1.6774193548387097,0.9354838709677419,2.2758620689655173,1.1333333333333333,1.2666666666666666,1.4838709677419355,0.8709677419354839,1.5161290322580645,1.7419354838709677,1.5172413793103448,0.7333333333333333,1.8333333333333333,1.0344827586206897,1.6333333333333333,1.8620689655172413,1.4482758620689655,2.3333333333333335,1.3214285714285714,1.0357142857142858,1.7241379310344827,0.8148148148148148,0.7142857142857143,1.5555555555555556,1.8928571428571428,0.8928571428571429,1.6428571428571428,1.8148148148148149,1.5925925925925926,1.962962962962963,1.7037037037037037,2.24,1.6153846153846154,0.6923076923076923,1.3076923076923077,1.36,1.64,0.88,0.68,1.76,1.84,1.04,1.6,0.875,2.3636363636363638,1.875,1.7083333333333333,1.6521739130434783,0.9545454545454546,0.6956521739130435,1.6521739130434783,1.9130434782608696,1.6956521739130435,1.0869565217391304,1.9565217391304348,0.9545454545454546,1.2727272727272727,1.8181818181818181,1.380952380952381,1.2380952380952381,1.6666666666666667,1.8571428571428572,0.7142857142857143,0.8,2.0,1.6666666666666667,1.7894736842105263,0.95,1.631578947368421,1.85,1.15,1.9473684210526316,1.7894736842105263,2.1052631578947367,2.1666666666666665,1.3333333333333333,1.0,1.8333333333333333,2.111111111111111,0.7647058823529411,1.7647058823529411,1.7647058823529411,1.7058823529411764,1.5294117647058822,1.6470588235294117,1.0,0.8823529411764706,1.8125,1.1875,1.6875,1.0,1.0666666666666667,1.9333333333333333,1.3333333333333333,1.1333333333333333,1.0,1.4285714285714286,2.2857142857142856,1.0714285714285714,1.1428571428571428,1.0,1.8461538461538463,2.0,1.6923076923076923,1.3076923076923077,2.0833333333333335,1.25,2.1666666666666665,1.0909090909090908,1.8181818181818181,1.3636363636363635,2.0,1.0909090909090908,1.2727272727272727,1.0,0.3,2.3,2.0,2.111111111111111,1.2222222222222223,1.1111111111111112,2.125,1.5,2.25,1.5714285714285714,2.0,1.1428571428571428,2.142857142857143,0.5,1.6666666666666667,0.3333333333333333,1.5,2.5,1.8333333333333333,2.8,1.4,2.2,0.8],\"xaxis\":\"x\",\"xbins\":{\"end\":2.8,\"size\":20,\"start\":0.3},\"yaxis\":\"y\",\"type\":\"histogram\"},{\"autobinx\":false,\"histnorm\":\"probability density\",\"legendgroup\":\"under 2.5\",\"marker\":{\"color\":\"#ffa600\"},\"name\":\"under 2.5\",\"opacity\":0.7,\"x\":[0.9459459459459459,1.162162162162162,0.8611111111111112,1.7222222222222223,1.0555555555555556,1.6285714285714286,0.8857142857142857,1.8571428571428572,1.8529411764705883,0.8235294117647058,1.588235294117647,0.8787878787878788,1.8484848484848484,1.5625,1.25,1.53125,1.125,1.4193548387096775,1.8387096774193548,1.75,2.2666666666666666,1.625,1.6206896551724137,1.5666666666666667,0.8275862068965517,1.1666666666666667,1.8,1.1071428571428572,1.5862068965517242,1.7586206896551724,1.0,1.6296296296296295,1.8888888888888888,1.2142857142857142,1.6785714285714286,1.8214285714285714,1.0740740740740742,1.6666666666666667,1.0769230769230769,1.5555555555555556,1.1538461538461537,1.76,1.8076923076923077,0.8846153846153846,1.7083333333333333,1.84,1.56,1.2083333333333333,1.92,1.0416666666666667,1.434782608695652,1.25,1.6363636363636365,1.826086956521739,0.8260869565217391,1.608695652173913,1.826086956521739,2.0434782608695654,1.6818181818181819,2.3,1.8095238095238095,1.8,1.9523809523809523,2.0,1.8571428571428572,2.3333333333333335,1.85,0.9,2.05,1.263157894736842,1.6,0.7368421052631579,1.105263157894737,1.6842105263157894,1.1111111111111112,1.8888888888888888,1.7222222222222223,1.3333333333333333,1.1176470588235294,2.0,2.25,1.875,1.875,1.125,2.0625,2.0,1.6,1.9333333333333333,1.6666666666666667,1.5333333333333334,2.066666666666667,1.8571428571428572,0.5,1.2857142857142858,2.0714285714285716,1.8571428571428572,1.5,1.6153846153846154,1.5384615384615385,1.1538461538461537,1.3076923076923077,2.1538461538461537,1.5,1.9166666666666667,1.25,0.3333333333333333,1.5833333333333333,2.1666666666666665,0.9166666666666666,2.090909090909091,1.1818181818181819,2.0,2.2,0.9,2.0,1.7,1.4,1.3,1.7,1.3333333333333333,1.3333333333333333,1.0,2.0,1.3333333333333333,2.3333333333333335,2.3333333333333335,1.25,0.375,1.625,1.5,0.875,2.0,2.5,1.1428571428571428,1.0,2.0,1.2857142857142858,1.2857142857142858,1.8571428571428572,2.5,1.3333333333333333,1.1666666666666667,1.6666666666666667,1.0,2.6,1.0,1.8,2.0,0.4],\"xaxis\":\"x\",\"xbins\":{\"end\":2.6,\"size\":20,\"start\":0.3333333333333333},\"yaxis\":\"y\",\"type\":\"histogram\"},{\"legendgroup\":\"over 2.5\",\"marker\":{\"color\":\"#003f5c\"},\"mode\":\"lines\",\"name\":\"over 2.5\",\"showlegend\":false,\"x\":[0.3,0.305,0.31,0.315,0.32,0.325,0.32999999999999996,0.33499999999999996,0.33999999999999997,0.345,0.35,0.355,0.36,0.365,0.37,0.375,0.38,0.385,0.39,0.395,0.4,0.40499999999999997,0.41,0.415,0.42,0.425,0.43,0.435,0.44,0.44499999999999995,0.44999999999999996,0.45499999999999996,0.45999999999999996,0.46499999999999997,0.47,0.475,0.48,0.485,0.49,0.495,0.5,0.505,0.51,0.515,0.52,0.525,0.53,0.5349999999999999,0.54,0.5449999999999999,0.55,0.5549999999999999,0.56,0.565,0.5700000000000001,0.575,0.5800000000000001,0.585,0.59,0.595,0.6,0.605,0.61,0.615,0.62,0.625,0.63,0.635,0.64,0.645,0.6499999999999999,0.655,0.6599999999999999,0.665,0.6699999999999999,0.675,0.6799999999999999,0.685,0.69,0.6950000000000001,0.7,0.7050000000000001,0.71,0.715,0.72,0.725,0.73,0.735,0.74,0.745,0.75,0.755,0.76,0.765,0.77,0.7749999999999999,0.78,0.7849999999999999,0.79,0.7949999999999999,0.8,0.8049999999999999,0.81,0.815,0.8200000000000001,0.825,0.8300000000000001,0.835,0.8400000000000001,0.845,0.8500000000000001,0.855,0.8600000000000001,0.865,0.8699999999999999,0.875,0.8799999999999999,0.885,0.8899999999999999,0.895,0.8999999999999999,0.905,0.9099999999999999,0.915,0.9199999999999999,0.925,0.9299999999999999,0.935,0.94,0.9450000000000001,0.95,0.9550000000000001,0.96,0.9650000000000001,0.97,0.9750000000000001,0.98,0.9850000000000001,0.99,0.9949999999999999,1.0,1.005,1.01,1.015,1.02,1.025,1.03,1.035,1.04,1.045,1.05,1.055,1.06,1.065,1.07,1.075,1.08,1.085,1.09,1.095,1.1,1.105,1.11,1.115,1.1199999999999999,1.125,1.13,1.135,1.14,1.145,1.15,1.155,1.16,1.165,1.17,1.175,1.18,1.185,1.19,1.195,1.2,1.205,1.21,1.215,1.22,1.225,1.23,1.235,1.24,1.2449999999999999,1.25,1.255,1.26,1.265,1.27,1.275,1.28,1.285,1.29,1.295,1.3,1.305,1.31,1.315,1.32,1.325,1.33,1.335,1.34,1.345,1.35,1.355,1.36,1.365,1.37,1.375,1.3800000000000001,1.385,1.3900000000000001,1.395,1.4000000000000001,1.405,1.4100000000000001,1.415,1.4200000000000002,1.425,1.43,1.435,1.44,1.445,1.45,1.455,1.46,1.465,1.47,1.475,1.48,1.485,1.49,1.495,1.5,1.5050000000000001,1.51,1.5150000000000001,1.52,1.5250000000000001,1.53,1.5350000000000001,1.54,1.5450000000000002,1.55,1.555,1.56,1.565,1.57,1.575,1.58,1.585,1.59,1.595,1.6,1.605,1.61,1.615,1.62,1.625,1.6300000000000001,1.635,1.6400000000000001,1.645,1.6500000000000001,1.655,1.6600000000000001,1.665,1.6700000000000002,1.675,1.68,1.685,1.69,1.695,1.7,1.705,1.71,1.715,1.72,1.725,1.73,1.735,1.74,1.745,1.75,1.7550000000000001,1.76,1.7650000000000001,1.77,1.7750000000000001,1.78,1.7850000000000001,1.79,1.7950000000000002,1.8,1.805,1.81,1.815,1.82,1.825,1.83,1.835,1.84,1.845,1.85,1.855,1.86,1.865,1.87,1.875,1.8800000000000001,1.885,1.8900000000000001,1.895,1.9000000000000001,1.905,1.9100000000000001,1.915,1.9200000000000002,1.925,1.93,1.935,1.94,1.945,1.95,1.955,1.96,1.965,1.97,1.975,1.98,1.985,1.99,1.995,2.0,2.005,2.01,2.015,2.02,2.025,2.03,2.035,2.04,2.045,2.05,2.0549999999999997,2.06,2.065,2.07,2.0749999999999997,2.08,2.085,2.09,2.0949999999999998,2.1,2.105,2.11,2.1149999999999998,2.12,2.125,2.13,2.135,2.14,2.145,2.15,2.155,2.16,2.165,2.17,2.175,2.1799999999999997,2.185,2.19,2.195,2.1999999999999997,2.205,2.21,2.215,2.2199999999999998,2.225,2.23,2.235,2.2399999999999998,2.245,2.25,2.255,2.26,2.265,2.27,2.275,2.28,2.285,2.29,2.295,2.3,2.3049999999999997,2.3099999999999996,2.315,2.32,2.3249999999999997,2.3299999999999996,2.335,2.34,2.3449999999999998,2.3499999999999996,2.355,2.36,2.3649999999999998,2.3699999999999997,2.375,2.38,2.385,2.3899999999999997,2.395,2.4,2.405,2.4099999999999997,2.415,2.42,2.425,2.4299999999999997,2.4349999999999996,2.44,2.445,2.4499999999999997,2.4549999999999996,2.46,2.465,2.4699999999999998,2.4749999999999996,2.48,2.485,2.4899999999999998,2.4949999999999997,2.5,2.505,2.51,2.5149999999999997,2.52,2.525,2.53,2.5349999999999997,2.54,2.545,2.55,2.5549999999999997,2.5599999999999996,2.565,2.57,2.5749999999999997,2.5799999999999996,2.585,2.59,2.5949999999999998,2.5999999999999996,2.605,2.61,2.6149999999999998,2.6199999999999997,2.625,2.63,2.635,2.6399999999999997,2.645,2.65,2.655,2.6599999999999997,2.665,2.67,2.675,2.6799999999999997,2.6849999999999996,2.69,2.695,2.6999999999999997,2.7049999999999996,2.71,2.715,2.7199999999999998,2.7249999999999996,2.73,2.735,2.7399999999999998,2.7449999999999997,2.75,2.755,2.76,2.7649999999999997,2.77,2.775,2.78,2.7849999999999997,2.79,2.795],\"xaxis\":\"x\",\"y\":[0.03876431021218314,0.03954474801476208,0.040337106424522186,0.04114271434575099,0.04196300555049388,0.04279951879512568,0.0436538975012167,0.04452788898828104,0.045423343247746543,0.04634221124932107,0.04728654277284266,0.04825848376068153,0.04926027318780546,0.05029423944871308,0.05136279626257938,0.05246843810012864,0.05361373513795077,0.05480132774818919,0.05603392053375204,0.057314275921415775,0.058645207327396386,0.06002957191214819,0.06147026294329966,0.06297020178774658,0.06453232955597837,0.06615959842370836,0.06785496265780014,0.06962136937532185,0.07146174906630712,0.07337900591244645,0.07537600793546381,0.07745557701034622,0.07962047877987237,0.081873412508026,0.08421700091087182,0.08665378000430315,0.08918618900874142,0.09181656035136003,0.09454710980672416,0.09737992681686702,0.10031696503176457,0.10336003311091073,0.10651078582624655,0.1097707155060343,0.11314114385840901,0.11662321421227699,0.12021788421196189,0.12392591900052698,0.1277478849250423,0.13168414379519447,0.13573484772459737,0.1398999345819253,0.14417912407659247,0.1485719145011394,0.15307758014977513,0.15769516942966383,0.16242350367858926,0.16726117669952417,0.17220655501947973,0.17725777887674726,0.18241276393734493,0.18766920373814938,0.1930245728508225,0.19847613075730475,0.20402092642431355,0.20965580356100794,0.21537740654077075,0.22118218696493377,0.2270664108432693,0.2330261663631808,0.23905737221680404,0.24515578645267008,0.2513170158162037,0.2575365255411781,0.2638096495522849,0.27013160103727873,0.27649748334568586,0.2829023011698564,0.2893409719632015,0.29580833754978236,0.30229917587902305,0.30880821287921,0.31533013436359403,0.3218595979433621,0.3283912449024426,0.3349197119901019,0.3414396430885124,0.34794570071394515,0.35443257731197514,0.36089500630897986,0.3673277728843794,0.3737257244303437,0.38008378066818954,0.3863969433932927,0.3926603058230807,0.39886906152549023,0.40501851290819585,0.4111040792518365,0.4171213042734654,0.42306586320939954,0.42893356940960536,0.4347203804386349,0.4404224036809716,0.446035901451351,0.4515572956132568,0.4569831717112518,0.46231028262514656,0.4675355517561572,0.47265607575717905,0.47766912682109336,0.4825721545425782,0.48736278737028615,0.4920388336673696,0.49659828239927567,0.5010393034684235,0.505360247715861,0.5095596466102704,0.5136362116447302,0.5175888334615107,0.5214165807248361,0.5251186987610205,0.5286946079847217,0.5321439021292063,0.535466346297573,0.5386618748507911,0.5417305891472447,0.5446727551472357,0.5474888008945736,0.550179313886069,0.552745038338382,0.5551868723603369,0.5575058650374929,0.5597032134344849,0.5617802595194356,0.5637384870135949,0.5655795181683265,0.5673051104706025,0.5689171532773651,0.5704176643783851,0.5718087864867049,0.5730927836552953,0.5742720376182874,0.5753490440549722,0.5763264087747503,0.5772068438213428,0.5779931634948132,0.5786882802903323,0.5792952007530796,0.5798170212492887,0.5802569236540701,0.5806181709574076,0.5809041027905141,0.5811181308755555,0.5812637344026192,0.5813444553386342,0.5813638936738336,0.5813257026121295,0.5812335837125541,0.5810912819896151,0.580902580981037,0.5806712977918886,0.5804012781245252,0.5800963913040589,0.5797605253092794,0.5793975818189627,0.5790114712834427,0.5786061080310486,0.5781854054186919,0.5777532710353152,0.5773136019663092,0.5768702801262223,0.5764271676661762,0.5759881024614295,0.5755568936834197,0.5751373174594512,0.5747331126219679,0.5743479765480696,0.5739855610886326,0.5736494685851118,0.5733432479707915,0.5730703909520376,0.5728343282639055,0.572638425993377,0.5724859819624818,0.5723802221627055,0.572324297231353,0.5723212789599521,0.5723741568243879,0.5724858345262378,0.5726591265347682,0.5728967546192232,0.5732013443614323,0.5735754216393815,0.574021409073188,0.5745416224259634,0.5751382669532635,0.5758134336962498,0.5765690957152774,0.577407104262411,0.5783291848932566,0.5793369335205589,0.5804318124141568,0.5816151461541068,0.5828881175460922,0.5842517635105234,0.585706970959066,0.5872544726746011,0.5888948432128694,0.5906284948461537,0.5924556735714025,0.5943764552070644,0.5963907416045798,0.5984982570020136,0.6006985445485656,0.6029909630297401,0.6053746838237248,0.6078486881200286,0.6104117644316172,0.6130625064316853,0.6157993111457971,0.6186203775293823,0.621523705459549,0.6245070951688219,0.627568147146746,0.6307042625333673,0.6339126440263743,0.637190297321202,0.64053403310067,0.6439404695878165,0.6474060356724303,0.6509269746185304,0.6544993483566146,0.6581190423609813,0.6617817711088784,0.6654830841146052,0.6692183725281263,0.6729828762841723,0.6767716917843659,0.6805797800915091,0.6844019756119867,0.688232995239164,0.692067447927855,0.6958998446672965,0.6997246088177639,0.7035360867738552,0.7073285589157484,0.7110962508082385,0.714833344606287,0.7185339906249856,0.7221923190314037,0.725802451615674,0.7293585135988778,0.7328546454358659,0.7362850145719901,0.7396438271139111,0.7429253393760666,0.7461238692661516,0.7492338074748428,0.7522496284372266,0.7551659010356897,0.757977299016549,0.7606786110953019,0.763264750728087,0.7657307655296587,0.7680718463210138,0.770283335792465,0.7723607367707339,0.7742997200811841,0.7760961319988705,0.7777460012843522,0.7792455458025108,0.7805911787244881,0.7817795143147305,0.7828073733065857,0.7836717878712889,0.7843700061861165,0.7848994966083387,0.7852579514620986,0.7854432904455678,0.7854536636657696,0.785287454308176,0.7849432809477059,0.7844199995070534,0.7837167048673652,0.7828327321352243,0.7817676575686334,0.7805212991634232,0.7790937169000032,0.7774852126489147,0.7756963297321634,0.7737278521357644,0.7715808033674932,0.7692564449524806,0.7667562745579964,0.7640820237376685,0.7612356552844359,0.7582193601807847,0.75503555413431,0.7516868736863908,0.7481761718817607,0.7445065134870578,0.7406811697470292,0.7367036126679731,0.7325775088191901,0.7283067126447537,0.723895259279718,0.7193473568670096,0.7146673783736334,0.7098598529075005,0.7049294565390862,0.6998810026352341,0.6947194317157703,0.6894498008470106,0.6840772725898677,0.6786071035239473,0.6730446323727054,0.6673952677585214,0.6616644756201937,0.655857766329025,0.6499806815431411,0.6440387808430602,0.6380376281946605,0.6319827782886491,0.6258797628082351,0.6197340766790981,0.6135511643577376,0.6073364062159194,0.6010951050802272,0.5948324729865565,0.5885536182098068,0.5822635326290677,0.5759670794880771,0.5696689816098778,0.5633738101232344,0.5570859737565734,0.5508097087530017,0.5445490694573174,0.5383079196228608,0.5320899244826697,0.5258985436255916,0.5197370247139326,0.5136083980747924,0.5075154721926246,0.5014608301256323,0.49544682686357555,0.4894755876393393,0.4835490072012963,0.477668750048111,0.4718362516222414,0.4660527204529698,0.46031914123451556,0.4546362788195172,0.449004683103083,0.4434246947677213,0.43789645185471027,0.43241989712304635,0.4269947861528895,0.42162069614654907,0.4162970353764799,0.4110230532265495,0.40579785076997854,0.4006203918248993,0.3954895144263773,0.3904039426520984,0.38536229873763733,0.38036311541637724,0.3754048484187056,0.37048588906507657,0.3656045768878881,0.3607592122178771,0.3559480686718646,0.35116940548018566,0.34642147959396213,0.3417025575145703,0.33701092679009836,0.332344907126394,0.32770286106327684,0.3230832041697899,0.31848441471580463,0.3139050427809657,0.3093437187657647,0.30479916127346535,0.30027018433565816,0.2957557039583175,0.291254743969418,0.2867664411533255,0.2822900496613775,0.27782494469218505,0.2733706254392973,0.26892671730786616,0.26449297340584876,0.2600692753190743,0.25565563318313167,0.25125218506850644,0.24685919569869585,0.24247705452411522,0.23810627317751637,0.2337474823392847,0.22940142804343777,0.2250689674573168,0.22075106416993676,0.2164487830256225,0.21216328454101444,0.20789581894468198,0.20364771987951566,0.19942039780869403,0.1952153331664495,0.19103406929497782,0.18687820520874798,0.18274938822711687,0.1786493065155974,0.17457968157532736,0.17054226071928888,0.1665388095726335,0.1625711046330941,0.15864092592591053,0.15475004978600002,0.15090024179826447,0.14709324992497444,0.14333079784709676,0.139614578544299,0.13594624813613174,0.13232742000463354,0.12875965921629728,0.1252444772590161,0.12178332710730687,0.11837759862681721,0.11502861432684464,0.11173762546737574,0.10850580852500417,0.10533426201998893,0.10222400370473775,0.09917596811208627,0.09619100445997551,0.09326987490744584,0.09041325315533652,0.08762172338366252,0.08489577951636432,0.08223582480299356,0.07964217170590505,0.07711504208066805,0.0746545676367018,0.07226079066456356,0.0699336650158859,0.06767305732164061,0.0654787484342357,0.06335043507887336,0.061287731699652306,0.05929017248603243,0.057357213565525866,0.05548823534878873,0.05368254501368852,0.05193937911536794,0.05025790630983138,0.04863723017912703,0.04707639214676397,0.045574374472604255,0.044130103317062845,0.042742451865055126,0.041410243500717404,0.040132255024503745,0.03890721990480632,0.037733831556762736,0.03661074664139177,0.0355365883786316,0.03450994986824411,0.03352939741288393,0.032593473837917844,0.03170070180281538,0.03084958709910867,0.030038621930054354,0.02926628816720572,0.02853106057914366,0.02783141002760138,0.02716580662617639,0.026532722856740174,0.025930636638553023,0.0253580343449607,0.02481341376240975,0.02429528698636452,0.023802183248559573,0.02333265166987289,0.022885263932971373,0.022458616868764752,0.02205133495061354,0.021662072690177593,0.02128951692876863,0.020932389018090473,0.02058944688431247,0.020259486969539622,0.01994134604490567,0.01963390288973895,0.019336079831526545,0.01904684414173609,0.01876520928294345,0.01849023600316032,0.01822103327375134,0.017956759067880884,0.017696620977023438,0.017439876663710285],\"yaxis\":\"y\",\"type\":\"scatter\"},{\"legendgroup\":\"under 2.5\",\"marker\":{\"color\":\"#ffa600\"},\"mode\":\"lines\",\"name\":\"under 2.5\",\"showlegend\":false,\"x\":[0.3333333333333333,0.33786666666666665,0.3424,0.3469333333333333,0.35146666666666665,0.356,0.3605333333333333,0.36506666666666665,0.3696,0.3741333333333333,0.37866666666666665,0.3832,0.3877333333333333,0.39226666666666665,0.3968,0.4013333333333333,0.40586666666666665,0.4104,0.4149333333333333,0.41946666666666665,0.424,0.4285333333333333,0.43306666666666666,0.4376,0.4421333333333333,0.44666666666666666,0.4512,0.4557333333333333,0.46026666666666666,0.4648,0.4693333333333333,0.47386666666666666,0.47839999999999994,0.4829333333333333,0.4874666666666666,0.492,0.49653333333333327,0.5010666666666667,0.5055999999999999,0.5101333333333333,0.5146666666666666,0.5192,0.5237333333333334,0.5282666666666667,0.5327999999999999,0.5373333333333333,0.5418666666666666,0.5464,0.5509333333333333,0.5554666666666667,0.5599999999999999,0.5645333333333333,0.5690666666666666,0.5736,0.5781333333333333,0.5826666666666667,0.5871999999999999,0.5917333333333332,0.5962666666666667,0.6008,0.6053333333333333,0.6098666666666666,0.6144000000000001,0.6189333333333333,0.6234666666666666,0.628,0.6325333333333333,0.6370666666666667,0.6416,0.6461333333333333,0.6506666666666666,0.6552,0.6597333333333333,0.6642666666666667,0.6688,0.6733333333333333,0.6778666666666666,0.6823999999999999,0.6869333333333333,0.6914666666666667,0.696,0.7005333333333332,0.7050666666666667,0.7096,0.7141333333333333,0.7186666666666666,0.7232000000000001,0.7277333333333333,0.7322666666666666,0.7367999999999999,0.7413333333333333,0.7458666666666667,0.7504,0.7549333333333332,0.7594666666666666,0.764,0.7685333333333333,0.7730666666666667,0.7776,0.7821333333333333,0.7866666666666666,0.7912,0.7957333333333333,0.8002666666666667,0.8048,0.8093333333333332,0.8138666666666666,0.8184,0.8229333333333333,0.8274666666666666,0.832,0.8365333333333334,0.8410666666666666,0.8455999999999999,0.8501333333333332,0.8546666666666667,0.8592,0.8637333333333332,0.8682666666666665,0.8728,0.8773333333333333,0.8818666666666666,0.8863999999999999,0.8909333333333334,0.8954666666666666,0.8999999999999999,0.9045333333333332,0.9090666666666667,0.9136,0.9181333333333332,0.9226666666666667,0.9272,0.9317333333333333,0.9362666666666666,0.9408000000000001,0.9453333333333334,0.9498666666666666,0.9543999999999999,0.9589333333333334,0.9634666666666667,0.968,0.9725333333333332,0.9770666666666667,0.9816,0.9861333333333333,0.9906666666666666,0.9952000000000001,0.9997333333333334,1.0042666666666666,1.0088,1.0133333333333334,1.0178666666666667,1.0224,1.0269333333333333,1.0314666666666665,1.036,1.0405333333333333,1.0450666666666666,1.0495999999999999,1.0541333333333334,1.0586666666666666,1.0632,1.0677333333333332,1.0722666666666667,1.0768,1.0813333333333333,1.0858666666666665,1.0903999999999998,1.0949333333333333,1.0994666666666666,1.1039999999999999,1.1085333333333331,1.1130666666666666,1.1176,1.1221333333333332,1.1266666666666665,1.1312,1.1357333333333333,1.1402666666666665,1.1448,1.1493333333333333,1.1538666666666666,1.1583999999999999,1.1629333333333334,1.1674666666666667,1.172,1.1765333333333332,1.1810666666666667,1.1856,1.1901333333333333,1.1946666666666665,1.1992,1.2037333333333333,1.2082666666666666,1.2128,1.2173333333333334,1.2218666666666667,1.2264,1.2309333333333334,1.2354666666666667,1.24,1.2445333333333333,1.2490666666666668,1.2536,1.2581333333333333,1.2626666666666666,1.2671999999999999,1.2717333333333334,1.2762666666666667,1.2808,1.2853333333333332,1.2898666666666667,1.2944,1.2989333333333333,1.3034666666666666,1.308,1.3125333333333333,1.3170666666666666,1.3215999999999999,1.3261333333333332,1.3306666666666667,1.3352,1.3397333333333332,1.3442666666666665,1.3488,1.3533333333333333,1.3578666666666666,1.3623999999999998,1.3669333333333331,1.3714666666666664,1.3760000000000001,1.3805333333333334,1.3850666666666667,1.3896,1.3941333333333332,1.3986666666666665,1.4031999999999998,1.407733333333333,1.4122666666666666,1.4168,1.4213333333333333,1.4258666666666666,1.4304,1.4349333333333332,1.4394666666666665,1.444,1.4485333333333332,1.4530666666666665,1.4576,1.4621333333333333,1.4666666666666666,1.4711999999999998,1.4757333333333331,1.4802666666666666,1.4848,1.4893333333333332,1.4938666666666665,1.4984,1.5029333333333332,1.5074666666666665,1.512,1.5165333333333333,1.5210666666666666,1.5255999999999998,1.5301333333333331,1.5346666666666666,1.5392,1.5437333333333332,1.5482666666666667,1.5528,1.5573333333333332,1.5618666666666665,1.5663999999999998,1.570933333333333,1.5754666666666666,1.58,1.5845333333333333,1.5890666666666666,1.5936,1.5981333333333332,1.6026666666666665,1.6071999999999997,1.611733333333333,1.6162666666666667,1.6208,1.6253333333333333,1.6298666666666666,1.6343999999999999,1.6389333333333331,1.6434666666666664,1.648,1.6525333333333334,1.6570666666666667,1.6616,1.6661333333333332,1.6706666666666665,1.6751999999999998,1.679733333333333,1.6842666666666666,1.6887999999999999,1.6933333333333334,1.6978666666666666,1.7024,1.7069333333333332,1.7114666666666665,1.716,1.7205333333333332,1.7250666666666665,1.7295999999999998,1.7341333333333333,1.7386666666666666,1.7431999999999999,1.7477333333333331,1.7522666666666666,1.7568,1.7613333333333332,1.7658666666666665,1.7704,1.7749333333333333,1.7794666666666665,1.7839999999999998,1.7885333333333333,1.7930666666666666,1.7975999999999999,1.8021333333333331,1.8066666666666664,1.8112,1.8157333333333332,1.8202666666666667,1.8248,1.8293333333333333,1.8338666666666665,1.8383999999999998,1.842933333333333,1.8474666666666664,1.8519999999999999,1.8565333333333334,1.8610666666666666,1.8656,1.8701333333333332,1.8746666666666665,1.8791999999999998,1.883733333333333,1.8882666666666668,1.8928,1.8973333333333333,1.9018666666666666,1.9063999999999999,1.9109333333333332,1.9154666666666664,1.9199999999999997,1.9245333333333332,1.9290666666666667,1.9336,1.9381333333333333,1.9426666666666665,1.9471999999999998,1.951733333333333,1.9562666666666666,1.9607999999999999,1.9653333333333332,1.9698666666666667,1.9744,1.9789333333333332,1.9834666666666665,1.9879999999999998,1.9925333333333333,1.9970666666666665,2.0016,2.0061333333333335,2.010666666666667,2.0152,2.0197333333333334,2.0242666666666667,2.0288,2.033333333333333,2.0378666666666665,2.0423999999999998,2.0469333333333335,2.0514666666666668,2.056,2.0605333333333333,2.0650666666666666,2.0696,2.074133333333333,2.0786666666666664,2.0831999999999997,2.0877333333333334,2.0922666666666667,2.0968,2.1013333333333333,2.1058666666666666,2.1104,2.114933333333333,2.1194666666666664,2.1239999999999997,2.1285333333333334,2.1330666666666667,2.1376,2.1421333333333332,2.1466666666666665,2.1512,2.155733333333333,2.160266666666667,2.1648,2.1693333333333333,2.1738666666666666,2.1784,2.182933333333333,2.1874666666666664,2.1919999999999997,2.1965333333333334,2.2010666666666667,2.2056,2.2101333333333333,2.2146666666666666,2.2192,2.223733333333333,2.228266666666667,2.2328,2.2373333333333334,2.2418666666666667,2.2464,2.2509333333333332,2.2554666666666665,2.26,2.2645333333333335,2.269066666666667,2.2736,2.2781333333333333,2.2826666666666666,2.2872,2.291733333333333,2.296266666666667,2.3008,2.3053333333333335,2.3098666666666667,2.3144,2.3189333333333333,2.3234666666666666,2.328,2.3325333333333336,2.337066666666667,2.3416,2.3461333333333334,2.3506666666666667,2.3552,2.3597333333333332,2.364266666666667,2.3688000000000002,2.3733333333333335,2.377866666666667,2.3824,2.3869333333333334,2.3914666666666666,2.396,2.400533333333333,2.4050666666666665,2.4095999999999997,2.414133333333333,2.418666666666667,2.4232000000000005,2.4277333333333337,2.432266666666667,2.4368000000000003,2.4413333333333336,2.445866666666667,2.4504,2.4549333333333334,2.4594666666666667,2.464,2.4685333333333332,2.4730666666666665,2.4776,2.482133333333333,2.486666666666667,2.4912,2.4957333333333334,2.500266666666667,2.5048000000000004,2.5093333333333336,2.513866666666667,2.5184,2.5229333333333335,2.5274666666666668,2.532,2.5365333333333333,2.5410666666666666,2.5456,2.550133333333333,2.554666666666667,2.5592,2.5637333333333334,2.5682666666666667,2.5728,2.5773333333333337,2.581866666666667,2.5864000000000003,2.5909333333333335,2.595466666666667],\"xaxis\":\"x\",\"y\":[0.0579535744018108,0.05863096895815999,0.05928862009469197,0.05992641135401367,0.060544315878452826,0.061142399366178185,0.06172082280117967,0.06227984494319584,0.0628198245643566,0.06334122242004332,0.06384460294225965,0.06433063564464465,0.06480009622914873,0.06525386738532116,0.06569293927412978,0.06611840968923795,0.0665314838897028,0.06693347409912533,0.06732579866737183,0.0677099808920994,0.06808764749844425,0.06846052677637263,0.06883044637634335,0.06919933076508528,0.0695691983444511,0.06994215823745938,0.07032040674679065,0.07070622349214009,0.071101967233959,0.07151007139223024,0.0719330392700182,0.07237343899260575,0.07283389817408184,0.0733170983242642,0.07382576900983386,0.07436268178451827,0.07493064390408258,0.07553249184277565,0.07617108462872113,0.07684929701654548,0.07757001251629067,0.07833611629836394,0.0791504879949334,0.08001599441877687,0.0809354822211362,0.08191177051061092,0.08294764345554842,0.08404584289274238,0.08520906096553876,0.08643993281466746,0.08774102934526026,0.08911485009358436,0.0905638162170107,0.09209026363064406,0.09369643631386829,0.09538447980979918,0.09715643494029086,0.09901423175870544,0.10095968376212822,0.10299448238409095,0.10512019178815948,0.10733824398193065,0.109649934270094,0.11205641706421558,0.11455870206583171,0.11715765083825279,0.11985397378123366,0.12264822752130865,0.12554081272916737,0.12853197237393688,0.13162179042265562,0.13481019099157068,0.1380969379541763,0.14148163500913713,0.1449637262094164,0.1485424969520653,0.15221707542622195,0.1559864345149499,0.15984939414459665,0.16380462407340102,0.1678506471091378,0.17198584274364812,0.17620845119020032,0.18051657780775116,0.18490819789436244,0.18938116183024808,0.19393320054925298,0.19856193131593738,0.20326486378393369,0.20803940630982976,0.2128828724955307,0.21779248793088904,0.22276539710735405,0.2277986704725022,0.2328893115945785,0.23803426440559802,0.2432304204911553,0.24847462639485776,0.2537636909052325,0.2590943922931017,0.2644634854677194,0.26986770902046114,0.27530379212555206,0.2807684612681731,0.28625844677134127,0.2917704890941855,0.297301344875646,0.30284779269917494,0.3084066385557582,0.31397472098444335,0.31954891587156714,0.32512614089202596,0.3307033595781795,0.3362775850043399,0.34184588307723524,0.3474053754253682,0.3529532418827379,0.3584867225650384,0.36400311953905073,0.3694997980886071,0.37497418758312934,0.3804237819573489,0.38584613981335525,0.3912388841586291,0.3965997017961084,0.40192634238466574,0.4072166171905428,0.4124683975523982,0.4176796130845071,0.422848249644459,0.4279723470932596,0.4330499968772096,0.4380793394621031,0.4430585616513728,0.4479858938205755,0.4528596071012655,0.45767801054764606,0.462439448319591,0.46714229691553544,0.47178496248847746,0.47636587827780824,0.4808835021889671,0.48533631455197024,0.4897228160886981,0.4940415261174918,0.4982909810220061,0.502469733009572,0.5065763491823502,0.5106094109425188,0.5145675137504541,0.5184492672525077,0.5222532957924808,0.5259782393182503,0.529622754692344,0.5331855174124017,0.5366652237446753,0.5400605932707635,0.5433703718448938,0.5465933349560863,0.5497282914866103,0.5527740878552418,0.5557296125309165,0.5585938008995791,0.5613656404642484,0.5640441763556663,0.5666285171282994,0.5691178408140279,0.5715114012035196,0.5738085343230689,0.5760086650726958,0.5781113139893646,0.580116104097546,0.5820227678077642,0.5838311538225305,0.5855412340078682,0.587153110187794,0.5886670208183803,0.5900833474975757,0.5914026212667234,0.5926255286596693,0.5937529174555995,0.5947858020921901,0.5957253686963071,0.5965729796904525,0.5973301779342627,0.5979986903617688,0.5985804310767114,0.5990775038700545,0.5994922041258395,0.5998270200838346,0.6000846334298278,0.6002679191870947,0.6003799448854169,0.6004239689869858,0.6004034385517614,0.6003219861281207,0.6001834258581382,0.5999917487903926,0.5997511173968989,0.5994658592945489,0.5991404601753004,0.5987795559532798,0.5983879241409064,0.597970474470136,0.5975322387789026,0.5970783601867636,0.5966140815877248,0.5961447334920104,0.595675721252379,0.5952125117142001,0.5947606193320746,0.5943255917991644,0.5939129952386143,0.593528399009488,0.5931773601824367,0.5928654077429412,0.5925980265822525,0.5923806413382805,0.5922186001503991,0.5921171583936663,0.5920814624590747,0.5921165336473007,0.5922272522439075,0.5924183418440663,0.5926943539946815,0.59305965322117,0.5935184025052311,0.5940745492785706,0.5947318119959057,0.5954936673484714,0.5963633381768448,0.59734378213916,0.598437681187634,0.5996474319029488,0.6009751367322197,0.6024225961723216,0.6039913019359768,0.6056824311334865,0.6074968414981852,0.6094350676787503,0.6114973186163147,0.6136834760190696,0.615993093941656,0.618425399471152,0.6209792945159791,0.623653358688527,0.626445853266813,0.6293547262150733,0.6323776182378543,0.6355118698370079,0.6387545293359452,0.6421023618307165,0.6455518590228894,0.6490992498848883,0.6527405121044378,0.6564713842510445,0.6602873786041396,0.6641837945794703,0.6681557326877936,0.6721981089577296,0.6763056697528386,0.6804730069117683,0.6846945731393203,0.688964697575946,0.6932776014731874,0.6976274139030255,0.7020081874300662,0.7064139136768057,0.7108385387140416,0.7152759782106518,0.7197201322795925,0.7241648999598708,0.7286041932776328,0.7330319508330557,0.7374421508637345,0.7418288237394,0.7461860638472398,0.7505080408317433,0.7547890101577189,0.7590233229701168,0.7632054352292256,0.7673299161049161,0.7713914556186228,0.7753848715268568,0.7793051154449643,0.7831472782147914,0.7869065945246271,0.7905784467944144,0.7941583683436051,0.797642045863226,0.8010253212175863,0.8043041926047618,0.8074748151082812,0.8105335006754554,0.8134767175604946,0.8163010892728448,0.8190033930731436,0.8215805580608014,0.8240296628983855,0.8263479332188411,0.8285327387620309,0.8305815902871401,0.8324921363072376,0.834262159691621,0.8358895741805914,0.8373724208560254,0.8387088646094558,0.8398971906475181,0.8409358010723963,0.8418232115725436,0.8425580482562831,0.8431390446581041,0.8435650389444751,0.8438349713428618,0.8439478818144485,0.8439029079877284,0.8436992833667672,0.8433363358246122,0.8428134863888966,0.842130248323371,0.8412862265058378,0.8402811170997053,0.83911470751336,0.8377868766385216,0.8362975953559698,0.8346469272943577,0.8328350298253737,0.8308621552761953,0.828728652338158,0.8264349676486841,0.8239816475218878,0.8213693398018843,0.8185987958116764,0.8156708723695656,0.8125865338443484,0.8093468542201303,0.8059530191413291,0.8024063279085208,0.7987081953959597,0.7948601538620476,0.79086385462475,0.7867210695746747,0.7824336924996844,0.7780037401960053,0.7734333533421913,0.7687247971137919,0.7638804615181654,0.7589028614306372,0.7537946363150511,0.7485585496136044,0.7431974877929679,0.7377144590356183,0.7321125915675064,0.7263951316152126,0.7205654409879646,0.7146269942819702,0.7085833757066815,0.7024382755347327,0.6961954861793493,0.6898588979050994,0.6834324941798386,0.6769203466776508,0.6703266099444347,0.663655515739624,0.6569113670691847,0.650098531926732,0.6432214367610726,0.6362845596899716,0.6292924234812429,0.6222495883234822,0.6151606444099161,0.6080302043597787,0.6008628955025705,0.5936633520512608,0.586436207191176,0.5791860851118157,0.5719175930092175,0.5646353130867959,0.5573437945826596,0.550047545851502,0.5427510265289665,0.535458639806216,0.5281747248420315,0.5209035493392903,0.513649302312077,0.506416087068926,0.4992079144368854,0.492028696250086,0.48488223912549305,0.47777223854726625,0.4707022732799605,0.46367580012934817,0.4566961490682503,0.4497665187431585,0.4428899723758469,0.43606943407245324,0.42930768555076465,0.4226073632946232,0.41597095614250995,0.4094008033154881,0.40289909288773895,0.39646786070102263,0.3901089897224184,0.38382420984279597,0.37761509811152466,0.3714830794010353,0.36542942749299734,0.359455266576063,0.3535615731433579,0.347749178276244,0.342018770299237,0.3363708977894839,0.3308059729227495,0.32532427513656176,0.3199259550899853,0.31461103889837083,0.30937943262052797,0.30423092697491755,0.2991652022608001,0.294181833459746,0.28928029549250966,0.28445996860604794,0.27972014386535715,0.2750600287248624,0.27047875265429744,0.26597537279434935,0.26154887961783785,0.2571982025728097,0.25292221568468326,0.24871974309545064,0.24458956451893268,0.24053042059217183,0.2365410181042527,0.23262003508510504,0.22876612573821878,0.22497792520260937,0.22125405413086477,0.21759312307162038,0.21399373664636395,0.21045449751204892,0.20697401010257224,0.20355088414374817,0.20018373793797833,0.1968712014163345,0.19361191895727778,0.19040455197268014,0.18724778126318634,0.18414030914629345,0.1810808613617395,0.17806818875997465,0.17510106878052756,0.17217830672806997,0.16929873685483243,0.16646122325879534,0.1636646606077205,0.1609079746996481,0.15819012287089473,0.15551009426292386,0.15286690995966454,0.1502596230069594,0.14768731832581863,0.14514911253106802,0.14264415366675517,0.14017162086943072,0.13773072397000982,0.13532070304450008,0.1329408279233474,0.1305903976685775,0.12826874002727554,0.12597521086926067,0.12370919361609989,0.12147009866785315,0.1192573628331782,0.11707044876763985,0.11490884442429058,0.11277206251980487,0.11065964001869213,0.10857113763735629,0.10650613936906266,0.10446425203017834,0.10244510482740622,0.10044834894513871,0.09847365715148977,0.09652072342107855,0.09458926257218128,0.09267900991549534,0.09078972091142352,0.08892117083253726,0.08707315442766812,0.08524548558395087,0.08343799698305764,0.08165053974786006,0.0798829830757888,0.07813521385527537,0.07640713626180198,0.07469867133029849,0.07300975650086983,0.071340345135128,0.06969040600073588,0.06805992272211998],\"yaxis\":\"y\",\"type\":\"scatter\"}],                        {\"barmode\":\"overlay\",\"hovermode\":\"closest\",\"legend\":{\"traceorder\":\"reversed\"},\"xaxis\":{\"anchor\":\"y2\",\"domain\":[0.0,1.0],\"zeroline\":false,\"range\":[0,5]},\"yaxis\":{\"anchor\":\"free\",\"domain\":[0.0,1],\"position\":0.0},\"template\":{\"data\":{\"bar\":[{\"error_x\":{\"color\":\"#2a3f5f\"},\"error_y\":{\"color\":\"#2a3f5f\"},\"marker\":{\"line\":{\"color\":\"#E5ECF6\",\"width\":0.5},\"pattern\":{\"fillmode\":\"overlay\",\"size\":10,\"solidity\":0.2}},\"type\":\"bar\"}],\"barpolar\":[{\"marker\":{\"line\":{\"color\":\"#E5ECF6\",\"width\":0.5},\"pattern\":{\"fillmode\":\"overlay\",\"size\":10,\"solidity\":0.2}},\"type\":\"barpolar\"}],\"carpet\":[{\"aaxis\":{\"endlinecolor\":\"#2a3f5f\",\"gridcolor\":\"white\",\"linecolor\":\"white\",\"minorgridcolor\":\"white\",\"startlinecolor\":\"#2a3f5f\"},\"baxis\":{\"endlinecolor\":\"#2a3f5f\",\"gridcolor\":\"white\",\"linecolor\":\"white\",\"minorgridcolor\":\"white\",\"startlinecolor\":\"#2a3f5f\"},\"type\":\"carpet\"}],\"choropleth\":[{\"colorbar\":{\"outlinewidth\":0,\"ticks\":\"\"},\"type\":\"choropleth\"}],\"contour\":[{\"colorbar\":{\"outlinewidth\":0,\"ticks\":\"\"},\"colorscale\":[[0.0,\"#0d0887\"],[0.1111111111111111,\"#46039f\"],[0.2222222222222222,\"#7201a8\"],[0.3333333333333333,\"#9c179e\"],[0.4444444444444444,\"#bd3786\"],[0.5555555555555556,\"#d8576b\"],[0.6666666666666666,\"#ed7953\"],[0.7777777777777778,\"#fb9f3a\"],[0.8888888888888888,\"#fdca26\"],[1.0,\"#f0f921\"]],\"type\":\"contour\"}],\"contourcarpet\":[{\"colorbar\":{\"outlinewidth\":0,\"ticks\":\"\"},\"type\":\"contourcarpet\"}],\"heatmap\":[{\"colorbar\":{\"outlinewidth\":0,\"ticks\":\"\"},\"colorscale\":[[0.0,\"#0d0887\"],[0.1111111111111111,\"#46039f\"],[0.2222222222222222,\"#7201a8\"],[0.3333333333333333,\"#9c179e\"],[0.4444444444444444,\"#bd3786\"],[0.5555555555555556,\"#d8576b\"],[0.6666666666666666,\"#ed7953\"],[0.7777777777777778,\"#fb9f3a\"],[0.8888888888888888,\"#fdca26\"],[1.0,\"#f0f921\"]],\"type\":\"heatmap\"}],\"heatmapgl\":[{\"colorbar\":{\"outlinewidth\":0,\"ticks\":\"\"},\"colorscale\":[[0.0,\"#0d0887\"],[0.1111111111111111,\"#46039f\"],[0.2222222222222222,\"#7201a8\"],[0.3333333333333333,\"#9c179e\"],[0.4444444444444444,\"#bd3786\"],[0.5555555555555556,\"#d8576b\"],[0.6666666666666666,\"#ed7953\"],[0.7777777777777778,\"#fb9f3a\"],[0.8888888888888888,\"#fdca26\"],[1.0,\"#f0f921\"]],\"type\":\"heatmapgl\"}],\"histogram\":[{\"marker\":{\"pattern\":{\"fillmode\":\"overlay\",\"size\":10,\"solidity\":0.2}},\"type\":\"histogram\"}],\"histogram2d\":[{\"colorbar\":{\"outlinewidth\":0,\"ticks\":\"\"},\"colorscale\":[[0.0,\"#0d0887\"],[0.1111111111111111,\"#46039f\"],[0.2222222222222222,\"#7201a8\"],[0.3333333333333333,\"#9c179e\"],[0.4444444444444444,\"#bd3786\"],[0.5555555555555556,\"#d8576b\"],[0.6666666666666666,\"#ed7953\"],[0.7777777777777778,\"#fb9f3a\"],[0.8888888888888888,\"#fdca26\"],[1.0,\"#f0f921\"]],\"type\":\"histogram2d\"}],\"histogram2dcontour\":[{\"colorbar\":{\"outlinewidth\":0,\"ticks\":\"\"},\"colorscale\":[[0.0,\"#0d0887\"],[0.1111111111111111,\"#46039f\"],[0.2222222222222222,\"#7201a8\"],[0.3333333333333333,\"#9c179e\"],[0.4444444444444444,\"#bd3786\"],[0.5555555555555556,\"#d8576b\"],[0.6666666666666666,\"#ed7953\"],[0.7777777777777778,\"#fb9f3a\"],[0.8888888888888888,\"#fdca26\"],[1.0,\"#f0f921\"]],\"type\":\"histogram2dcontour\"}],\"mesh3d\":[{\"colorbar\":{\"outlinewidth\":0,\"ticks\":\"\"},\"type\":\"mesh3d\"}],\"parcoords\":[{\"line\":{\"colorbar\":{\"outlinewidth\":0,\"ticks\":\"\"}},\"type\":\"parcoords\"}],\"pie\":[{\"automargin\":true,\"type\":\"pie\"}],\"scatter\":[{\"marker\":{\"colorbar\":{\"outlinewidth\":0,\"ticks\":\"\"}},\"type\":\"scatter\"}],\"scatter3d\":[{\"line\":{\"colorbar\":{\"outlinewidth\":0,\"ticks\":\"\"}},\"marker\":{\"colorbar\":{\"outlinewidth\":0,\"ticks\":\"\"}},\"type\":\"scatter3d\"}],\"scattercarpet\":[{\"marker\":{\"colorbar\":{\"outlinewidth\":0,\"ticks\":\"\"}},\"type\":\"scattercarpet\"}],\"scattergeo\":[{\"marker\":{\"colorbar\":{\"outlinewidth\":0,\"ticks\":\"\"}},\"type\":\"scattergeo\"}],\"scattergl\":[{\"marker\":{\"colorbar\":{\"outlinewidth\":0,\"ticks\":\"\"}},\"type\":\"scattergl\"}],\"scattermapbox\":[{\"marker\":{\"colorbar\":{\"outlinewidth\":0,\"ticks\":\"\"}},\"type\":\"scattermapbox\"}],\"scatterpolar\":[{\"marker\":{\"colorbar\":{\"outlinewidth\":0,\"ticks\":\"\"}},\"type\":\"scatterpolar\"}],\"scatterpolargl\":[{\"marker\":{\"colorbar\":{\"outlinewidth\":0,\"ticks\":\"\"}},\"type\":\"scatterpolargl\"}],\"scatterternary\":[{\"marker\":{\"colorbar\":{\"outlinewidth\":0,\"ticks\":\"\"}},\"type\":\"scatterternary\"}],\"surface\":[{\"colorbar\":{\"outlinewidth\":0,\"ticks\":\"\"},\"colorscale\":[[0.0,\"#0d0887\"],[0.1111111111111111,\"#46039f\"],[0.2222222222222222,\"#7201a8\"],[0.3333333333333333,\"#9c179e\"],[0.4444444444444444,\"#bd3786\"],[0.5555555555555556,\"#d8576b\"],[0.6666666666666666,\"#ed7953\"],[0.7777777777777778,\"#fb9f3a\"],[0.8888888888888888,\"#fdca26\"],[1.0,\"#f0f921\"]],\"type\":\"surface\"}],\"table\":[{\"cells\":{\"fill\":{\"color\":\"#EBF0F8\"},\"line\":{\"color\":\"white\"}},\"header\":{\"fill\":{\"color\":\"#C8D4E3\"},\"line\":{\"color\":\"white\"}},\"type\":\"table\"}]},\"layout\":{\"annotationdefaults\":{\"arrowcolor\":\"#2a3f5f\",\"arrowhead\":0,\"arrowwidth\":1},\"autotypenumbers\":\"strict\",\"coloraxis\":{\"colorbar\":{\"outlinewidth\":0,\"ticks\":\"\"}},\"colorscale\":{\"diverging\":[[0,\"#8e0152\"],[0.1,\"#c51b7d\"],[0.2,\"#de77ae\"],[0.3,\"#f1b6da\"],[0.4,\"#fde0ef\"],[0.5,\"#f7f7f7\"],[0.6,\"#e6f5d0\"],[0.7,\"#b8e186\"],[0.8,\"#7fbc41\"],[0.9,\"#4d9221\"],[1,\"#276419\"]],\"sequential\":[[0.0,\"#0d0887\"],[0.1111111111111111,\"#46039f\"],[0.2222222222222222,\"#7201a8\"],[0.3333333333333333,\"#9c179e\"],[0.4444444444444444,\"#bd3786\"],[0.5555555555555556,\"#d8576b\"],[0.6666666666666666,\"#ed7953\"],[0.7777777777777778,\"#fb9f3a\"],[0.8888888888888888,\"#fdca26\"],[1.0,\"#f0f921\"]],\"sequentialminus\":[[0.0,\"#0d0887\"],[0.1111111111111111,\"#46039f\"],[0.2222222222222222,\"#7201a8\"],[0.3333333333333333,\"#9c179e\"],[0.4444444444444444,\"#bd3786\"],[0.5555555555555556,\"#d8576b\"],[0.6666666666666666,\"#ed7953\"],[0.7777777777777778,\"#fb9f3a\"],[0.8888888888888888,\"#fdca26\"],[1.0,\"#f0f921\"]]},\"colorway\":[\"#636efa\",\"#EF553B\",\"#00cc96\",\"#ab63fa\",\"#FFA15A\",\"#19d3f3\",\"#FF6692\",\"#B6E880\",\"#FF97FF\",\"#FECB52\"],\"font\":{\"color\":\"#2a3f5f\"},\"geo\":{\"bgcolor\":\"white\",\"lakecolor\":\"white\",\"landcolor\":\"#E5ECF6\",\"showlakes\":true,\"showland\":true,\"subunitcolor\":\"white\"},\"hoverlabel\":{\"align\":\"left\"},\"hovermode\":\"closest\",\"mapbox\":{\"style\":\"light\"},\"paper_bgcolor\":\"white\",\"plot_bgcolor\":\"#E5ECF6\",\"polar\":{\"angularaxis\":{\"gridcolor\":\"white\",\"linecolor\":\"white\",\"ticks\":\"\"},\"bgcolor\":\"#E5ECF6\",\"radialaxis\":{\"gridcolor\":\"white\",\"linecolor\":\"white\",\"ticks\":\"\"}},\"scene\":{\"xaxis\":{\"backgroundcolor\":\"#E5ECF6\",\"gridcolor\":\"white\",\"gridwidth\":2,\"linecolor\":\"white\",\"showbackground\":true,\"ticks\":\"\",\"zerolinecolor\":\"white\"},\"yaxis\":{\"backgroundcolor\":\"#E5ECF6\",\"gridcolor\":\"white\",\"gridwidth\":2,\"linecolor\":\"white\",\"showbackground\":true,\"ticks\":\"\",\"zerolinecolor\":\"white\"},\"zaxis\":{\"backgroundcolor\":\"#E5ECF6\",\"gridcolor\":\"white\",\"gridwidth\":2,\"linecolor\":\"white\",\"showbackground\":true,\"ticks\":\"\",\"zerolinecolor\":\"white\"}},\"shapedefaults\":{\"line\":{\"color\":\"#2a3f5f\"}},\"ternary\":{\"aaxis\":{\"gridcolor\":\"white\",\"linecolor\":\"white\",\"ticks\":\"\"},\"baxis\":{\"gridcolor\":\"white\",\"linecolor\":\"white\",\"ticks\":\"\"},\"bgcolor\":\"#E5ECF6\",\"caxis\":{\"gridcolor\":\"white\",\"linecolor\":\"white\",\"ticks\":\"\"}},\"title\":{\"x\":0.05},\"xaxis\":{\"automargin\":true,\"gridcolor\":\"white\",\"linecolor\":\"white\",\"ticks\":\"\",\"title\":{\"standoff\":15},\"zerolinecolor\":\"white\",\"zerolinewidth\":2},\"yaxis\":{\"automargin\":true,\"gridcolor\":\"white\",\"linecolor\":\"white\",\"ticks\":\"\",\"title\":{\"standoff\":15},\"zerolinecolor\":\"white\",\"zerolinewidth\":2}}},\"title\":{\"text\":\"Distplot with Normal Distribution  navgGoalConcededAway \"}},                        {\"responsive\": true}                    ).then(function(){\n",
              "                            \n",
              "var gd = document.getElementById('8719b336-ce4c-4867-a26a-474739e6714e');\n",
              "var x = new MutationObserver(function (mutations, observer) {{\n",
              "        var display = window.getComputedStyle(gd).display;\n",
              "        if (!display || display === 'none') {{\n",
              "            console.log([gd, 'removed!']);\n",
              "            Plotly.purge(gd);\n",
              "            observer.disconnect();\n",
              "        }}\n",
              "}});\n",
              "\n",
              "// Listen for the removal of the full notebook cells\n",
              "var notebookContainer = gd.closest('#notebook-container');\n",
              "if (notebookContainer) {{\n",
              "    x.observe(notebookContainer, {childList: true});\n",
              "}}\n",
              "\n",
              "// Listen for the clearing of the current output cell\n",
              "var outputEl = gd.closest('.output');\n",
              "if (outputEl) {{\n",
              "    x.observe(outputEl, {childList: true});\n",
              "}}\n",
              "\n",
              "                        })                };                            </script>        </div>\n",
              "</body>\n",
              "</html>"
            ]
          },
          "metadata": {}
        }
      ]
    },
    {
      "cell_type": "code",
      "source": [
        "lis=[features.avgshothome[data['target']==1], features.avgshothome[data['target']==0]]\n",
        "group_labels=['over 2.5','under 2.5']\n",
        "colors = ['#003f5c', '#ffa600']\n",
        "# Create distplot \n",
        "fig = ff.create_distplot(lis, group_labels, bin_size=20,show_rug=False,\n",
        "                         curve_type='kde', # override default 'kde'\n",
        "                         colors=colors)\n",
        "\n",
        "# Add title\n",
        "fig.update_layout(xaxis_range=[0,20])\n",
        "fig.update_layout(title_text='Distplot with Normal Distribution  avgshothome ')\n",
        "fig.show()"
      ],
      "metadata": {
        "colab": {
          "base_uri": "https://localhost:8080/",
          "height": 542
        },
        "id": "EXmsr75iMh4d",
        "outputId": "ca34a262-add7-4f9d-8884-567737937124"
      },
      "execution_count": 537,
      "outputs": [
        {
          "output_type": "display_data",
          "data": {
            "text/html": [
              "<html>\n",
              "<head><meta charset=\"utf-8\" /></head>\n",
              "<body>\n",
              "    <div>            <script src=\"https://cdnjs.cloudflare.com/ajax/libs/mathjax/2.7.5/MathJax.js?config=TeX-AMS-MML_SVG\"></script><script type=\"text/javascript\">if (window.MathJax) {MathJax.Hub.Config({SVG: {font: \"STIX-Web\"}});}</script>                <script type=\"text/javascript\">window.PlotlyConfig = {MathJaxConfig: 'local'};</script>\n",
              "        <script src=\"https://cdn.plot.ly/plotly-2.8.3.min.js\"></script>                <div id=\"8fdb9edd-cf7b-4507-a2a6-707b2c94ae2a\" class=\"plotly-graph-div\" style=\"height:525px; width:100%;\"></div>            <script type=\"text/javascript\">                                    window.PLOTLYENV=window.PLOTLYENV || {};                                    if (document.getElementById(\"8fdb9edd-cf7b-4507-a2a6-707b2c94ae2a\")) {                    Plotly.newPlot(                        \"8fdb9edd-cf7b-4507-a2a6-707b2c94ae2a\",                        [{\"autobinx\":false,\"histnorm\":\"probability density\",\"legendgroup\":\"over 2.5\",\"marker\":{\"color\":\"#003f5c\"},\"name\":\"over 2.5\",\"opacity\":0.7,\"x\":[4.0,5.6,5.2,7.4,2.8,6.4,4.6,3.2,4.6,2.0,5.2,4.6,4.2,5.0,4.2,4.4,3.4,4.2,2.8,3.4,5.0,3.0,4.2,4.2,5.6,3.6,5.4,3.0,4.4,2.8,3.2,3.6,5.6,5.6,2.6,3.4,5.2,2.0,3.8,5.8,5.0,5.4,4.4,2.2,4.0,4.4,7.0,5.2,3.4,2.6,5.8,1.8,5.0,3.6,4.0,4.2,3.8,3.4,5.2,4.0,6.6,3.8,6.2,2.8,4.4,3.6,5.0,3.2,4.2,4.4,4.4,3.0,3.6,6.2,3.0,4.8,2.6,4.6,3.2,2.8,3.6,5.6,2.8,3.2,6.4,4.2,1.8,5.0,5.6,3.6,3.6,2.4,1.4,4.8,6.0,6.4,6.2,6.2,5.0,4.0,3.2,5.8,4.4,4.8,3.8,5.8,3.0,7.2,5.4,3.6,2.8,4.6,3.2,5.4,4.2,5.0,4.8,4.2,9.8,3.0,6.8,4.6,4.0,5.2,4.0,6.2,3.0,4.4,2.4,4.0,4.6,2.8,4.6,2.8,4.0,4.8,3.8,5.4,3.0,7.2,4.4,2.8,4.8,3.6,4.4,3.2,4.2,4.0,4.8,5.0,4.6,4.2,4.4,2.4,3.0,3.2,3.8,5.2,2.6,3.2,5.6,3.2,5.4,3.6,4.2,3.8,2.8,4.4,5.0,3.8,4.2,6.2,4.4,3.6,2.4,2.0,4.6,5.4,4.0,7.0],\"xaxis\":\"x\",\"xbins\":{\"end\":9.8,\"size\":20,\"start\":1.4},\"yaxis\":\"y\",\"type\":\"histogram\"},{\"autobinx\":false,\"histnorm\":\"probability density\",\"legendgroup\":\"under 2.5\",\"marker\":{\"color\":\"#ffa600\"},\"name\":\"under 2.5\",\"opacity\":0.7,\"x\":[4.0,4.2,3.6,4.4,3.4,6.2,4.0,6.6,4.0,5.2,2.6,4.8,2.8,2.6,2.8,3.0,4.4,4.8,5.2,5.8,3.6,1.8,2.8,4.2,4.2,3.4,4.2,2.8,2.4,3.4,3.8,4.0,5.6,4.6,4.0,2.4,6.8,3.2,3.4,4.4,6.2,4.2,4.8,4.6,5.4,3.0,3.4,5.6,2.4,4.6,4.4,7.2,5.0,5.6,6.8,5.6,3.0,3.6,5.8,4.6,7.0,1.0,4.8,5.4,3.0,3.8,8.2,4.2,1.0,5.4,5.8,7.2,4.8,2.4,6.0,3.8,5.4,1.8,5.8,3.0,4.4,7.2,5.0,5.0,4.6,2.6,4.4,4.2,4.0,3.4,4.2,3.2,4.4,3.2,3.6,5.2,5.0,3.2,4.6,4.4,3.8,2.6,3.6,4.4,4.2,4.8,5.2,5.0,4.2,4.6,3.2,4.8,4.8,4.6,6.0,3.6,4.8,5.0,5.0,4.4,5.4,2.2,4.0,4.8,2.6,4.6,5.8,4.6,5.4,5.2,5.4,3.6,4.2,5.2,7.4,4.0,4.0,5.0,2.2,4.0,4.2,4.2,4.4,3.0,7.2,6.4,4.8,4.6,4.2],\"xaxis\":\"x\",\"xbins\":{\"end\":8.2,\"size\":20,\"start\":1.0},\"yaxis\":\"y\",\"type\":\"histogram\"},{\"legendgroup\":\"over 2.5\",\"marker\":{\"color\":\"#003f5c\"},\"mode\":\"lines\",\"name\":\"over 2.5\",\"showlegend\":false,\"x\":[1.4,1.4167999999999998,1.4336,1.4504,1.4671999999999998,1.484,1.5008,1.5175999999999998,1.5344,1.5512,1.5679999999999998,1.5848,1.6016,1.6183999999999998,1.6352,1.652,1.6688,1.6856,1.7024,1.7191999999999998,1.736,1.7528,1.7696,1.7864,1.8032,1.8199999999999998,1.8368,1.8536,1.8704,1.8872,1.904,1.9207999999999998,1.9376,1.9544,1.9712,1.988,2.0048,2.0216,2.0383999999999998,2.0552,2.072,2.0888,2.1056,2.1224,2.1391999999999998,2.1559999999999997,2.1728,2.1896,2.2064,2.2232,2.2399999999999998,2.2568,2.2736,2.2904,2.3072,2.324,2.3407999999999998,2.3575999999999997,2.3744,2.3912,2.408,2.4248,2.4416,2.4584,2.4752,2.492,2.5088,2.5256,2.5423999999999998,2.5591999999999997,2.5759999999999996,2.5927999999999995,2.6096000000000004,2.6264000000000003,2.6432,2.66,2.6768,2.6936,2.7104,2.7272,2.7439999999999998,2.7607999999999997,2.7776,2.7944,2.8112,2.828,2.8447999999999998,2.8616,2.8784,2.8952,2.912,2.9288,2.9455999999999998,2.9623999999999997,2.9791999999999996,2.996,3.0128000000000004,3.0296000000000003,3.0464,3.0632,3.08,3.0968,3.1136,3.1304,3.1471999999999998,3.1639999999999997,3.1808,3.1976,3.2144,3.2312,3.248,3.2648,3.2816,3.2984,3.3152,3.332,3.3487999999999998,3.3656,3.3824,3.3992,3.416,3.4328000000000003,3.4495999999999998,3.4664,3.4832,3.5,3.5168,3.5336,3.5504000000000002,3.5672,3.584,3.6008,3.6176,3.6344,3.6512000000000002,3.6679999999999997,3.6848,3.7016,3.7184,3.7352000000000003,3.752,3.7688,3.7855999999999996,3.8024,3.8192000000000004,3.836,3.8528000000000002,3.8695999999999997,3.8864,3.9032,3.92,3.9368000000000003,3.9536,3.9704,3.9872,4.004,4.0207999999999995,4.037599999999999,4.054399999999999,4.0712,4.088,4.1048,4.1216,4.1384,4.155200000000001,4.172,4.1888000000000005,4.2056000000000004,4.2224,4.2392,4.256,4.2728,4.2896,4.3064,4.3232,4.34,4.3568,4.3736,4.3904,4.4072,4.4239999999999995,4.4408,4.457599999999999,4.4744,4.4912,4.508,4.5248,4.5416,4.5584,4.575200000000001,4.5920000000000005,4.6088000000000005,4.6256,4.6424,4.6592,4.676,4.6928,4.7096,4.7264,4.7432,4.76,4.7768,4.7936,4.8104,4.8272,4.843999999999999,4.8608,4.8776,4.8944,4.9112,4.928,4.944800000000001,4.961600000000001,4.978400000000001,4.9952000000000005,5.0120000000000005,5.0288,5.0456,5.0624,5.0792,5.096,5.1128,5.1296,5.1464,5.1632,5.18,5.1968,5.2136000000000005,5.2303999999999995,5.2472,5.263999999999999,5.2808,5.2976,5.3144,5.331200000000001,5.348,5.364800000000001,5.381600000000001,5.3984000000000005,5.4152000000000005,5.432,5.4488,5.4656,5.4824,5.4992,5.516,5.5328,5.5496,5.5664,5.5832,5.6,5.6168,5.6335999999999995,5.650400000000001,5.667199999999999,5.683999999999999,5.700800000000001,5.717600000000001,5.734400000000001,5.751199999999999,5.768000000000001,5.784800000000001,5.8016000000000005,5.8184000000000005,5.8352,5.852,5.8688,5.8856,5.9024,5.9192,5.936,5.9528,5.9696,5.9864,6.0032,6.02,6.0367999999999995,6.053599999999999,6.070400000000001,6.087199999999999,6.103999999999999,6.120800000000001,6.137600000000001,6.154400000000001,6.171199999999999,6.188000000000001,6.2048000000000005,6.2216000000000005,6.2384,6.2552,6.272,6.2888,6.3056,6.3224,6.3392,6.356,6.3728,6.3896,6.4064,6.4232,6.4399999999999995,6.456799999999999,6.473600000000001,6.490400000000001,6.507199999999999,6.523999999999999,6.540800000000001,6.557600000000001,6.574400000000001,6.591200000000001,6.6080000000000005,6.6248000000000005,6.6416,6.6584,6.6752,6.692,6.7088,6.7256,6.7424,6.7592,6.776,6.7928,6.8096,6.8264,6.8431999999999995,6.859999999999999,6.876799999999999,6.893600000000001,6.910400000000001,6.927199999999999,6.943999999999999,6.960800000000001,6.977600000000001,6.994400000000001,7.0112000000000005,7.0280000000000005,7.0448,7.0616,7.0784,7.0952,7.112,7.1288,7.1456,7.1624,7.1792,7.196,7.2128,7.2296,7.246400000000001,7.263199999999999,7.279999999999999,7.296799999999999,7.313600000000001,7.330400000000001,7.347199999999999,7.364000000000001,7.380800000000001,7.397600000000001,7.4144000000000005,7.4312000000000005,7.448,7.4648,7.4816,7.4984,7.5152,7.532,7.5488,7.5656,7.5824,7.5992,7.616,7.6328,7.6495999999999995,7.666400000000001,7.683199999999999,7.699999999999999,7.716799999999999,7.733600000000001,7.750400000000001,7.767199999999999,7.784000000000001,7.800800000000001,7.8176000000000005,7.8344000000000005,7.8512,7.868,7.8848,7.9016,7.9184,7.9352,7.952,7.9688,7.9856,8.0024,8.019200000000001,8.036,8.0528,8.0696,8.086400000000001,8.103200000000001,8.12,8.136800000000001,8.1536,8.1704,8.1872,8.204,8.2208,8.2376,8.2544,8.2712,8.288,8.3048,8.3216,8.3384,8.3552,8.372,8.3888,8.4056,8.4224,8.439200000000001,8.456,8.4728,8.489600000000001,8.506400000000001,8.523200000000001,8.54,8.5568,8.5736,8.5904,8.6072,8.624,8.6408,8.6576,8.6744,8.6912,8.708,8.7248,8.7416,8.7584,8.7752,8.792,8.8088,8.8256,8.8424,8.859200000000001,8.876,8.8928,8.909600000000001,8.926400000000001,8.943200000000001,8.959999999999999,8.9768,8.9936,9.0104,9.0272,9.044,9.0608,9.0776,9.0944,9.1112,9.128,9.1448,9.1616,9.1784,9.1952,9.212,9.2288,9.2456,9.262400000000001,9.279200000000001,9.296,9.3128,9.329600000000001,9.346400000000001,9.3632,9.38,9.3968,9.4136,9.4304,9.4472,9.464,9.4808,9.4976,9.5144,9.531200000000002,9.548,9.5648,9.5816,9.5984,9.615200000000002,9.632,9.648800000000001,9.665600000000001,9.6824,9.699200000000001,9.716000000000001,9.732800000000001,9.749600000000001,9.7664,9.7832],\"xaxis\":\"x\",\"y\":[0.021604391095042075,0.022464646343530948,0.02334685257661219,0.024251221567562462,0.02517797678827522,0.02612735567596608,0.02709961193100218,0.028095017821795285,0.029113866470408787,0.030156474090366443,0.031223182146155146,0.03231435940212748,0.03343040382697879,0.03457174431872913,0.03573884221423411,0.03693219254670813,0.038152325014611244,0.0393998046255517,0.04067523197962557,0.041979243157863236,0.04331250918321072,0.04467573502374257,0.04606965811058592,0.04749504634634244,0.04895269558359642,0.05044342655739377,0.05196808126033293,0.0535275187540927,0.05512261041679866,0.056754234631545095,0.058423270927592134,0.060130593592191514,0.06187706477757695,0.06366352713434008,0.06549079600909505,0.06735965125095912,0.06927082867784627,0.07122501125980445,0.07322282008254917,0.07526480515985919,0.07735143616853554,0.07948309318409881,0.0816600574992296,0.08388250261009876,0.08615048545808568,0.08846393801593194,0.09082265930803982,0.0932263079543869,0.095674395326348,0.09816627940057865,0.10070115939401783,0.10327807125900179,0.10589588411248087,0.10855329766741116,0.11124884072757656,0.11398087079948459,0.11674757486655693,0.1195469713617485,0.12237691336499983,0.12523509304168023,0.12811904732750398,0.13102616485437757,0.13395369410042743,0.13689875273611188,0.1398583381270185,0.14282933894275643,0.14580854781043856,0.14879267494068735,0.15177836264404668,0.15476220064621743,0.1577407421017964,0.16071052019826113,0.16366806523491706,0.16660992205548916,0.16953266770805925,0.17243292920220743,0.17530740123053667,0.1781528637203028,0.18096619908064132,0.18374440901191377,0.18648463074595628,0.18918415258950202,0.191840428647741,0.1944510926108127,0.19701397049294733,0.1995270922219261,0.20198870198540725,0.20439726725040275,0.2067514863826742,0.20905029480391232,0.2112928696362323,0.21347863279552834,0.2156072525075684,0.2176786432331675,0.21969296400127417,0.2216506151612184,0.22355223357752196,0.22539868630253532,0.2271910627735661,0.22893066559199074,0.23061899995207,0.23225776179665145,0.23384882478562344,0.23539422617079198,0.236896151677742,0.23835691950119642,0.23977896352533049,0.2411648158844723,0.24251708898259264,0.24383845709196425,0.24513163765239074,0.24639937239250903,0.24764440839383775,0.2488694792166171,0.25007728620404845,0.2512704800783676,0.2524516429383824,0.2536232707636874,0.2547877565258261,0.25594737400131934,0.25710426237568024,0.25826041172149633,0.25941764942731915,0.26057762764759895,0.2617418118372567,0.26291147042775836,0.2640876656947883,0.2652712458608299,0.26646283846921925,0.2676628450595176,0.26887143716739403,0.2700885536656442,0.27131389945645124,0.2725469455185711,0.2737869303067724,0.27503286249456504,0.276283525045023,0.2775374805883238,0.2787930780784866,0.2800484606956854,0.2813015749544508,0.28255018097202134,0.2837918638451165,0.2850240460774418,0.28624400099434943,0.287448867075269,0.28863566312883987,0.2898013042301263,0.2909426183339517,0.29205636347328456,0.29313924544677644,0.2941879358951092,0.2951990906617309,0.2961693683300077,0.2970954488257761,0.2979740519718578,0.2988019558793678,0.2995760150596159,0.30029317814021395,0.30095050506961557,0.30154518369584743,0.30207454560764146,0.3025360811295913,0.3029274533673223,0.3032465112040088,0.30349130115589446,0.303660078001708,0.3037513141090138,0.30376370738955805,0.3036961878254449,0.3035479225184947,0.3033183192262615,0.3030070283598571,0.30261394343078507,0.30213919994637245,0.30158317276592467,0.30094647194232443,0.30022993708626944,0.2994346303026386,0.2985618277603472,0.29761300996848594,0.2965898508422995,0.2954942056526058,0.29432809796142145,0.29309370565477544,0.29179334619082997,0.29042946118744123,0.2890046004781009,0.28752140576873586,0.2859825940301069,0.2843909407614864,0.2827492632609194,0.281060404035695,0.279327214483706,0.2775525389721805,0.275739199434913,0.27388998060266145,0.27200761597388073,0.2700947746245557,0.2681540489466688,0.2661879433948642,0.26419886431035117,0.2621891108800521,0.26016086727762944,0.2581161960214337,0.2560570325727077,0.25398518118570407,0.25190231200982,0.24980995943256806,0.24770952164124768,0.24560226137071484,0.243489307794687,0.24137165950872666,0.2392501885444239,0.23712564534645586,0.23499866463716865,0.23286977208714577,0.2307393917049504,0.22860785385486276,0.22647540380798367,0.22434221072956856,0.22220837700389243,0.22007394779725903,0.21793892076003724,0.2158032557696973,0.2136668846187905,0.2115297205545851,0.20939166758059252,0.2072526294344913,0.20511251816186618,0.20297126221075248,0.20082881397807065,0.19868515674568854,0.1965403109508976,0.19439433974358847,0.1922473537901696,0.19009951529234784,0.1879510411971247,0.185802205582731,0.18365334121366114,0.18150484026637026,0.17935715423553852,0.1772107930389844,0.17506632334725616,0.17292436617158555,0.17078559375118407,0.1686507257877072,0.16652052508106305,0.164395792626529,0.16227736223828895,0.16016609476897234,0.15806287199851127,0.15596859026857177,0.15388415394093974,0.15181046875950618,0.14974843519587755,0.1476989418581311,0.14566285904081339,0.14364103249197013,0.14163427746981447,0.13964337315757458,0.13766905750022135,0.13571202252112158,0.13377291017034038,0.13185230874933063,0.12995074994920738,0.12806870653180896,0.12620659067436152,0.12436475298992591,0.12254348222700635,0.1207430056428516,0.11896349003622142,0.11720504341680855,0.11546771728024466,0.11375150944977243,0.11205636743836632,0.11038219227840623,0.10872884276007189,0.10709614001451255,0.10548387237362265,0.10389180043497613,0.10231966225823644,0.10076717861811446,0.09923405823880507,0.09772000293573584,0.09622471259241273,0.0947478899031445,0.0932892448163682,0.0918484986182108,0.09042538760163348,0.08901966627302121,0.08763111005524077,0.08625951745392266,0.08490471166189531,0.0835665415852005,0.08224488228280821,0.08093963482091451,0.0796507255514092,0.07837810483259731,0.07712174521846213,0.07588163915051056,0.07465779619345042,0.0734502398625146,0.07225900409606316,0.07108412943208936,0.06992565895136693,0.06878363405313796,0.06765809013142435,0.06654905222122748,0.06545653068405047,0.06438051700134233,0.06332097974264815,0.06227786077249032,0.06125107175635531,0.0602404910216753,0.05924596082446012,0.05826728506632519,0.05730422750017765,0.05635651045586236,0.055423814109736805,0.0545057763145541,0.05360199299828801,0.052712019132756374,0.05183537026518889,0.05097152459835662,0.05011992559763029,0.04927998509646427,0.04845108686539546,0.047632590603786724,0.04682383630829975,0.046024148967516436,0.04523284352828751,0.04444923007630889,0.04367261917114222,0.042902327274417104,0.042137682209279735,0.04137802858928111,0.04062273315581143,0.039871189964847696,0.03912282536615882,0.03837710272115487,0.03763352680921882,0.036891647876561705,0.03615106528632344,0.03541143073373269,0.03467245099556344,0.03393389018880635,0.0331955715193274,0.032457378507244214,0.031719255681723034,0.03098120874382043,0.03024330420179063,0.029505668488873937,0.028768486578926708,0.02803200012027581,0.02729650511283999,0.026562349157804484,0.025829928312927037,0.025099683589868596,0.02437209713274427,0.023647688119373834,0.02292700842846278,0.02221063811716107,0.02149918075413526,0.02079325865345825,0.02009350805428982,0.019400574290512278,0.018715106993223138,0.018037755367310053,0.017369163581271774,0.016709966307046367,0.016060784443902146,0.015422221057487263,0.014794857561958186,0.01417925016976972,0.013575926630243937,0.012985383274503123,0.012408082380776835,0.011844449870536579,0.011294873342398953,0.010759700447315902,0.010239237605268407,0.009733749060528618,0.009243456269590158,0.008768537613099115,0.00830912842058124,0.007865321294463126,0.007437166717843055,0.007024673928688446,0.0066278120416272315,0.006246511397261215,0.005880665117960003,0.005530130848388043,0.005194732658568454,0.004874263087084291,0.004568485302048234,0.0042771353577199175,0.003999924525101869,0.003736541675477565,0.003486655696655198,0.003249917922623074,0.003025964558390207,0.0028144190829561184,0.0026148946146060934,0.0024269962240450324,0.0022503231822398728,0.0020844711312233847,0.0019290341674997164,0.0017836068290695878,0.0016477859784442795,0.001521172575328964,0.0014033733339151957,0.0012940022609187498,0.0011926820716231282,0.0010990454822341826,0.0010127363778111948,0.0009334108559104863,0.0008607381468569316,0.0007944014122454847,0.0007340984238697054,0.0006795421257791586,0.0006304610825854348,0.000586599817472425,0.0005477190436244417,0.0005135957929734901,0.0004840234462904098,0.000458811668711509,0.0004377862548111164,0.00042078888730886013,0.00040767681344765715,0.0003983224430022184,0.00039261287178728296,0.000390449334437673,0.0003917465901365153,0.0003964322448809356,0.00040444601380286807,0.0004157389270124116,0.0004302724824076126,0.00044801774890199276,0.00046895442356306206,0.0004930698462338015,0.0005203579753261121,0.0005508183286308063,0.0005844548931821005,0.0006212750084439331,0.0006612882273478187,0.000704505160003666,0.0007509363052205544,0.000800590875308973,0.0008534756199818942,0.0009095936555223401,0.000968943305731976,0.0010315169615094575,0.0010972999662209318,0.0011662695343076853,0.001238393710819716,0.0013136303797585984,0.0013919263292502353,0.0014732163816389473,0.0015574225965915656,0.0016444535552157208,0.0017342037330248777,0.0018265529693182537,0.0019213660401825297,0.002018492341861794,0.002117765690680851,0.0022190042450455304,0.002322010554283359,0.0024265717382329403,0.002532459800545182,0.0026394320776316187,0.0027472318240920777,0.0028555889342865653,0.0029642207984957067,0.003072833290852704,0.0031811218849418775,0.0032887728916597653,0.0033954648126392757,0.0035008698012627608,0.003604655222052381,0.0037064852980427383,0.0038060228346281605,0.0039029310073513913,0.0039968752001776344,0.004087524879992242,0.004174555492385566,0.004257650363256712,0.00433650259038884,0.004410816908932196,0.004480311514681892,0.004544719829161507,0.004603792190822059,0.0046572974571383,0.004705024503028948,0.004746783601837714,0.004782407676081646,0.004811753406292129,0.004834702187529521,0.004851160924531664,0.00486106265794323],\"yaxis\":\"y\",\"type\":\"scatter\"},{\"legendgroup\":\"under 2.5\",\"marker\":{\"color\":\"#ffa600\"},\"mode\":\"lines\",\"name\":\"under 2.5\",\"showlegend\":false,\"x\":[1.0,1.0144,1.0288,1.0432,1.0576,1.072,1.0864,1.1008,1.1152,1.1296,1.144,1.1583999999999999,1.1728,1.1872,1.2016,1.216,1.2304,1.2448,1.2591999999999999,1.2736,1.288,1.3024,1.3168,1.3312,1.3456,1.3599999999999999,1.3744,1.3888,1.4032,1.4176,1.432,1.4464,1.4607999999999999,1.4752,1.4896,1.504,1.5184,1.5328,1.5472,1.5615999999999999,1.576,1.5903999999999998,1.6048,1.6192,1.6336,1.648,1.6623999999999999,1.6768,1.6911999999999998,1.7056,1.7199999999999998,1.7344,1.7488,1.7631999999999999,1.7776,1.7919999999999998,1.8064,1.8208,1.8352,1.8496,1.8639999999999999,1.8783999999999998,1.8927999999999998,1.9072,1.9215999999999998,1.936,1.9504,1.9647999999999999,1.9792,1.9935999999999998,2.008,2.0223999999999998,2.0368,2.0511999999999997,2.0656,2.08,2.0944,2.1088,2.1231999999999998,2.1376,2.152,2.1664,2.1807999999999996,2.1952,2.2096,2.2239999999999998,2.2384,2.2527999999999997,2.2672,2.2816,2.296,2.3103999999999996,2.3247999999999998,2.3392,2.3536,2.368,2.3823999999999996,2.3968,2.4112,2.4256,2.4399999999999995,2.4543999999999997,2.4688,2.4832,2.4976,2.5119999999999996,2.5263999999999998,2.5408,2.5552,2.5696,2.5839999999999996,2.5984,2.6128,2.6271999999999998,2.6416,2.6559999999999997,2.6704,2.6847999999999996,2.6992,2.7136,2.7279999999999998,2.7424,2.7567999999999997,2.7712,2.7855999999999996,2.8,2.8144,2.8287999999999998,2.8431999999999995,2.8575999999999997,2.872,2.8864,2.9008,2.9151999999999996,2.9295999999999998,2.944,2.9584,2.9727999999999994,2.9871999999999996,3.0016,3.0159999999999996,3.0303999999999998,3.0447999999999995,3.0591999999999997,3.0736,3.088,3.1024,3.1167999999999996,3.1311999999999998,3.1456,3.16,3.1743999999999994,3.1887999999999996,3.2032,3.2176,3.232,3.2463999999999995,3.2607999999999997,3.2752,3.2896,3.304,3.3183999999999996,3.3327999999999998,3.3472,3.3615999999999997,3.3759999999999994,3.3903999999999996,3.4048,3.4192,3.4335999999999998,3.4479999999999995,3.4623999999999997,3.4768,3.4911999999999996,3.5056,3.5199999999999996,3.5343999999999998,3.5487999999999995,3.5631999999999997,3.5776,3.5919999999999996,3.6064,3.6207999999999996,3.6351999999999998,3.6496,3.6639999999999997,3.6783999999999994,3.6927999999999996,3.7072,3.7216,3.7359999999999998,3.7503999999999995,3.7647999999999997,3.7792,3.7936,3.8079999999999994,3.8223999999999996,3.8367999999999998,3.8512,3.8655999999999997,3.8799999999999994,3.8943999999999996,3.9088,3.9232,3.9375999999999998,3.9519999999999995,3.9663999999999997,3.9808,3.9951999999999996,4.0096,4.023999999999999,4.038399999999999,4.0527999999999995,4.0672,4.0816,4.096,4.1104,4.1248,4.1392,4.1536,4.167999999999999,4.1823999999999995,4.1968,4.2112,4.2256,4.239999999999999,4.2543999999999995,4.2688,4.2832,4.297599999999999,4.311999999999999,4.3264,4.3408,4.3552,4.369599999999999,4.3839999999999995,4.3984,4.4128,4.4272,4.441599999999999,4.4559999999999995,4.4704,4.4848,4.4992,4.513599999999999,4.528,4.5424,4.556799999999999,4.571199999999999,4.5855999999999995,4.6,4.6144,4.6288,4.6432,4.6575999999999995,4.672,4.686399999999999,4.700799999999999,4.715199999999999,4.7296,4.744,4.7584,4.7728,4.7872,4.8016,4.815999999999999,4.830399999999999,4.844799999999999,4.8591999999999995,4.8736,4.888,4.9024,4.9168,4.9312000000000005,4.945599999999999,4.959999999999999,4.974399999999999,4.9887999999999995,5.0032,5.0176,5.031999999999999,5.046399999999999,5.0607999999999995,5.0752,5.089599999999999,5.104,5.118399999999999,5.1328,5.1472,5.161599999999999,5.176,5.1903999999999995,5.2048,5.2192,5.233599999999999,5.248,5.2623999999999995,5.2768,5.2912,5.305599999999999,5.32,5.3344,5.348799999999999,5.3632,5.377599999999999,5.392,5.4064,5.420799999999999,5.4352,5.449599999999999,5.464,5.4784,5.492799999999999,5.5072,5.521599999999999,5.536,5.5504,5.564799999999999,5.5792,5.5935999999999995,5.608,5.6224,5.636799999999999,5.6512,5.6655999999999995,5.679999999999999,5.6944,5.708799999999999,5.723199999999999,5.7376,5.751999999999999,5.7664,5.780799999999999,5.7951999999999995,5.8096,5.823999999999999,5.8384,5.852799999999999,5.8671999999999995,5.8816,5.895999999999999,5.910399999999999,5.924799999999999,5.9392,5.9536,5.967999999999999,5.982399999999999,5.9967999999999995,6.0112,6.0256,6.039999999999999,6.054399999999999,6.0687999999999995,6.0832,6.097599999999999,6.111999999999999,6.126399999999999,6.1408,6.1552,6.169599999999999,6.183999999999999,6.1983999999999995,6.2128,6.2272,6.241599999999999,6.255999999999999,6.2703999999999995,6.284799999999999,6.2992,6.313599999999999,6.327999999999999,6.3424,6.356799999999999,6.3712,6.385599999999999,6.3999999999999995,6.4144,6.428799999999999,6.4432,6.457599999999999,6.4719999999999995,6.4864,6.500799999999999,6.5152,6.529599999999999,6.543999999999999,6.5584,6.572799999999999,6.5872,6.6015999999999995,6.615999999999999,6.6304,6.644799999999999,6.6592,6.6735999999999995,6.687999999999999,6.7024,6.716799999999999,6.731199999999999,6.7456,6.759999999999999,6.7744,6.788799999999999,6.8031999999999995,6.8176,6.831999999999999,6.8464,6.860799999999999,6.8751999999999995,6.8896,6.903999999999999,6.918399999999999,6.932799999999999,6.9472,6.9616,6.975999999999999,6.990399999999999,7.0047999999999995,7.0192,7.0336,7.047999999999999,7.062399999999999,7.0767999999999995,7.0912,7.105599999999999,7.119999999999999,7.134399999999999,7.1488,7.1632,7.177599999999999,7.191999999999999,7.2063999999999995,7.2208,7.2352,7.249599999999999,7.263999999999999,7.2783999999999995,7.292799999999999,7.3072,7.321599999999999,7.335999999999999,7.3504,7.364799999999999,7.3792,7.393599999999999,7.4079999999999995,7.4224,7.436799999999999,7.451199999999999,7.465599999999999,7.479999999999999,7.4944,7.508799999999999,7.523199999999999,7.537599999999999,7.551999999999999,7.5664,7.580799999999999,7.595199999999999,7.6095999999999995,7.623999999999999,7.6384,7.652799999999999,7.667199999999999,7.6815999999999995,7.695999999999999,7.7104,7.724799999999999,7.7391999999999985,7.7536,7.767999999999999,7.7824,7.796799999999999,7.811199999999999,7.8256,7.839999999999999,7.8544,7.868799999999999,7.883199999999999,7.8976,7.911999999999999,7.926399999999999,7.940799999999999,7.955199999999999,7.9696,7.983999999999999,7.998399999999999,8.012799999999999,8.027199999999999,8.041599999999999,8.056,8.0704,8.0848,8.0992,8.113599999999998,8.128,8.142399999999999,8.1568,8.171199999999999,8.185599999999999],\"xaxis\":\"x\",\"y\":[0.014879452178936941,0.015092734383673912,0.015306167898612385,0.015520132775414757,0.015735039802251733,0.015951329869293908,0.01616947320683686,0.016389968499889072,0.016613341883723654,0.016840145825520018,0.0170709578977957,0.01730637944984085,0.017547034183825756,0.017793566642636795,0.01804664061682287,0.018306937478286,0.018575154448536683,0.018852002809450007,0.019138206064507942,0.019434498058493677,0.01974162106352383,0.020060323839161072,0.020391359674150986,0.020735484417076212,0.021093454502924262,0.021466024982224646,0.021853947559040358,0.022257968643693078,0.022678827425681166,0.023117253971806667,0.023573967354083885,0.02404967381155003,0.024545064949658715,0.025060815980501718,0.025597584006695165,0.026156006351371525,0.026736698936361852,0.027340254710321282,0.027967242128262803,0.02861820368371195,0.02929365449448986,0.029994080942969296,0.03071993937153243,0.03147165483388733,0.03224961990287793,0.033054193535438696,0.033885699995406006,0.034744427834999356,0.035630628935915384,0.03654451761114797,0.037486269768831626,0.03845602213962233,0.039453871569350804,0.040479874378919416,0.041534045793649714,0.04261635944451949,0.04372674694395015,0.044865097539007755,0.0460312578450647,0.047225031663120025,0.0484461798840904,0.049694420483468074,0.050969428609767505,0.052270836770170546,0.053598235116715444,0.054951171836246926,0.05632915364717361,0.057731646405844154,0.05915807582505739,0.06060782830688266,0.06208025189155889,0.0635746573237894,0.06509031923724806,0.066626477457563,0.06818233842345886,0.06975707672511515,0.07134983675815024,0.07295973449096307,0.0745858593424839,0.07622727616668482,0.07788302733950536,0.07955213494316327,0.08123360304214401,0.08292642004451266,0.08462956114157112,0.08634199081829985,0.08806266542648687,0.0897905358119494,0.09152454998683093,0.09326365583757838,0.09500680385889769,0.09675294990375156,0.09850105793929931,0.1002501027985836,0.10199907291775998,0.10374697304871738,0.10549282693708192,0.10723567995579417,0.10897460168473755,0.11070868842723296,0.11243706565463155,0.11415889037069701,0.11587335338799085,0.11757968150904187,0.11927713960568104,0.12096503259056572,0.1226427072755704,0.12430955411241043,0.12596500881153988,0.12760855383606656,0.12923971976808793,0.13085808654553827,0.1324632845682589,0.13405499567262988,0.1356329539746628,0.13719694658199433,0.1387468141756973,0.1402824514632493,0.14180380750437696,0.14331088591178584,0.14480374492904655,0.14628249738806587,0.14774731054869308,0.14919840582305188,0.1506360583871624,0.15206059668233893,0.15347240180870317,0.154871906812949,0.1562595958722474,0.1576360033758887,0.15900171290591453,0.1603573561176385,0.1617036115205597,0.16304120315977016,0.16437089919755238,0.16569351039444977,0.16700988848870343,0.1683209244725725,0.16962754676371364,0.1709307192694941,0.17223143934185622,0.17353073562015817,0.1748296657592802,0.17612931404023718,0.17743078886054686,0.17873522010172332,0.1800437563714583,0.18135756211834062,0.1826778146173661,0.18400570082496656,0.18534241410288924,0.18668915081093465,0.18804710676935496,0.18941747359258904,0.19080143489698573,0.19220016238621124,0.1936148118191672,0.19504651886645205,0.19649639486262968,0.1979655224628987,0.19945495121407192,0.20096569305114076,0.20249871773208125,0.2040549482249023,0.20563525606230243,0.20724045668060276,0.20887130476088503,0.2105284895914691,0.21221263047196695,0.21392427218018778,0.2156638805240577,0.21743183800152815,0.21922843959207206,0.2210538887038809,0.22290829330120476,0.2247916622364443,0.22670390181159322,0.22864481259341707,0.23061408650637988,0.23261130422671178,0.23463593290025414,0.2366873242057087,0.2387647127837433,0.24086721505103523,0.24299382841677317,0.24514343091739071,0.24731478128341128,0.249506519450211,0.2517171675222978,0.25394513119838286,0.2561887016620526,0.25844605794032005,0.2607152697297231,0.26299430068694307,0.26528101217824285,0.2675731674792752,0.2698684364141243,0.27216440041975876,0.27445855801945723,0.2767483306862065,0.2790310690746473,0.2813040595977843,0.28356453132250126,0.2858096631558761,0.2880365912924227,0.2902424168907155,0.29242421394637014,0.29457903732710505,0.2967039309345646,0.29879593595677545,0.30085209917457706,0.302869481284998,0.30484516520451693,0.3067762643152903,0.3086599306178452,0.3104933627543741,0.31227381386764846,0.3139985992616471,0.31566510383131274,0.3172707892303208,0.3188132007474521,0.3202899738639762,0.32169884046645914,0.32303763469153735,0.3243042983814143,0.3254968861311907,0.3266135699115278,0.32765264325259397,0.32861252497775656,0.3294917624779625,0.3302890345202699,0.33100315358645227,0.3316330677400554,0.33217786202264366,0.33263675938229426,0.3330091211396093,0.33329444699863575,0.3334923746120906,0.3336026787121689,0.3336252698199756,0.333560192548223,0.33340762351333064,0.33316786887436695,0.3328413615174757,0.33242865790543263,0.3319304346128848,0.33134748456853,0.33068071302610286,0.32993113328646867,0.32909986219345116,0.3281881154261899,0.3271972026109046,0.32612852227487515,0.3249835566653044,0.32376386645546107,0.3224710853601651,0.3211069146822504,0.3196731178111318,0.3181715146940575,0.31660397629999215,0.31497241909542045,0.31327879955064764,0.3115251086944351,0.309713366734036,0.3078456177569132,0.30592392452960393,0.3039503634083866,0.3019270193755723,0.2998559812144163,0.29773933683481,0.2955791687610805,0.2933775497924006,0.291136538845482,0.2888581769883956,0.28654448367356355,0.2841974531771338,0.281819051251162,0.27941121199419744,0.27697583494509764,0.27451478240407917,0.2720298769842276,0.2695228993959044,0.266995586465691,0.264449629390734,0.26188667222856604,0.25930831062170207,0.2567160907555323,0.2541115085472538,0.2514960090628343,0.24887098615821868,0.2462377823402535,0.24359768884206337,0.24095194590687777,0.23830174327360623,0.23564822085676332,0.2329924696126726,0.23033553258324652,0.2276784061080024,0.22502204119441738,0.2223673450361523,0.21971518266818144,0.21706637874739754,0.2144217194468246,0.2117819544512218,0.20914779904152495,0.20651993625530216,0.20389901911021202,0.20128567287726576,0.19868049739063984,0.1960840693807277,0.19349694481716082,0.19091966124862714,0.18835274012646383,0.18579668909922437,0.1832520042657042,0.1807191723742364,0.17819867295648353,0.1756909803843966,0.17319656583951595,0.17071589918436517,0.16824945072626926,0.16579769286460508,0.16336110161315934,0.16094015799000955,0.1585353492680938,0.15614717008041779,0.15377612337466195,0.15142272121276742,0.1490874854119189,0.14677094802419247,0.14447365165298226,0.14219614960516128,0.13993900587879343,0.13770279498701968,0.1354881016195824,0.1332955201442394,0.13112565395110068,0.12897911464366996,0.12685652108110068,0.1247584982768672,0.12268567615969725,0.12063868820325128,0.11861816993159388,0.1166247573080562,0.11465908501557925,0.11272178463707994,0.11081348274479712,0.10893479890793496,0.10708634362823984,0.10526871621342593,0.10348250259859118,0.1017282731259522,0.10000658029337053,0.09831795648224192,0.09666291167537776,0.09504193117553275,0.09345547333520385,0.09190396730827892,0.0903878108340127,0.08890736806368679,0.08746296744014977,0.08605489964023913,0.08468341558987734,0.0833487245613764,0.08205099236221673,0.08079033962426842,0.07956684020209571,0.07838051968864307,0.0772313540562322,0.07611926843041063,0.07504413600378322,0.07400577709653121,0.07300395836987345,0.07203839219825751,0.07110873620558937,0.07021459297029685,0.0693555099035111,0.06853097930410468,0.06774043859376978,0.0669832707347444,0.06625880483220098,0.06556631692270233,0.06490503094949981,0.06427411992480335,0.06367270727849243,0.06309986839205535,0.06255463231585348,0.06203598366709783,0.06154286470520364,0.061074177580457065,0.06062878675118617,0.060205521563877686,0.059803178989929325,0.059420526511965534,0.0590563051518971,0.05870923263214443,0.05837800666070912,0.05806130833004276,0.057757805618950386,0.05746615698606973,0.05718501504280552,0.056913030292956156,0.05664885492567492,0.05639114664784877,0.05613857254146457,0.05588981293107824,0.0556435652460966,0.055398547862249584,0.055153503906354005,0.05490720500828087,0.054658454983912176,0.05440609343284043,0.05414899923461029,0.053886093927437366,0.0536163449535701,0.05333876875578038,0.05305243370988589,0.05275646287872182,0.0524500365735853,0.052132394709884004,0.0518028389445147,0.051460734583389026,0.051105512248501093,0.050736669294991356,0.050353770969805596,0.04995645130476013,0.04954441373810759,0.049117431460040335,0.04867534747896378,0.04821807440680982,0.04774559396313453,0.04725795619924468,0.046755278445107684,0.04623774398332307,0.04570560045594326,0.04515915801142746,0.044598787200481556,0.0440249166309685,0.043438030393447874,0.04283866527023151,0.04222740774208556,0.04160489080788238,0.04097179063358659,0.040328823047939645,0.03967673990308783,0.03901632531915741,0.038348391832428094,0.03767377646727287,0.036993336752421294,0.03630794670236169,0.0356184927848153,0.034925869895203326,0.03423097735887462,0.0335347149815708,0.032837979168189514,0.03214165912934913,0.03144663319458135,0.030753765250180944,0.030063901318821397,0.029377866297029723,0.028696460865486474,0.0280204585859065,0.02735060319696226,0.026687606120342572,0.02603214418661867,0.02538485758910836,0.024746348072419794,0.024117177360812123,0.023497865829957682,0.022888891424131027,0.02229068881930099,0.021703648831070028,0.021128118064911747,0.020564398804694236,0.020012749134078696,0.019473383284037818,0.018946472198466062,0.018432144308666392,0.017930486506388944,0.01744154530408987,0.016965328170165956,0.01650180502611368,0.01605090989186624,0.01561254266497366,0.015186571018820256,0.014772832404717936,0.014371136142469324,0.013981265583870717,0.013602980333607448,0.013236018512091026,0.012880099044990009,0.012534923964508908,0.012200180707874668,0.011875544398981329,0.011560680099724822,0.01125524501821614,0.010958890661794446,0.01067126492354967,0.010392014091919964,0.010120784773821424],\"yaxis\":\"y\",\"type\":\"scatter\"}],                        {\"barmode\":\"overlay\",\"hovermode\":\"closest\",\"legend\":{\"traceorder\":\"reversed\"},\"xaxis\":{\"anchor\":\"y2\",\"domain\":[0.0,1.0],\"zeroline\":false,\"range\":[0,20]},\"yaxis\":{\"anchor\":\"free\",\"domain\":[0.0,1],\"position\":0.0},\"template\":{\"data\":{\"bar\":[{\"error_x\":{\"color\":\"#2a3f5f\"},\"error_y\":{\"color\":\"#2a3f5f\"},\"marker\":{\"line\":{\"color\":\"#E5ECF6\",\"width\":0.5},\"pattern\":{\"fillmode\":\"overlay\",\"size\":10,\"solidity\":0.2}},\"type\":\"bar\"}],\"barpolar\":[{\"marker\":{\"line\":{\"color\":\"#E5ECF6\",\"width\":0.5},\"pattern\":{\"fillmode\":\"overlay\",\"size\":10,\"solidity\":0.2}},\"type\":\"barpolar\"}],\"carpet\":[{\"aaxis\":{\"endlinecolor\":\"#2a3f5f\",\"gridcolor\":\"white\",\"linecolor\":\"white\",\"minorgridcolor\":\"white\",\"startlinecolor\":\"#2a3f5f\"},\"baxis\":{\"endlinecolor\":\"#2a3f5f\",\"gridcolor\":\"white\",\"linecolor\":\"white\",\"minorgridcolor\":\"white\",\"startlinecolor\":\"#2a3f5f\"},\"type\":\"carpet\"}],\"choropleth\":[{\"colorbar\":{\"outlinewidth\":0,\"ticks\":\"\"},\"type\":\"choropleth\"}],\"contour\":[{\"colorbar\":{\"outlinewidth\":0,\"ticks\":\"\"},\"colorscale\":[[0.0,\"#0d0887\"],[0.1111111111111111,\"#46039f\"],[0.2222222222222222,\"#7201a8\"],[0.3333333333333333,\"#9c179e\"],[0.4444444444444444,\"#bd3786\"],[0.5555555555555556,\"#d8576b\"],[0.6666666666666666,\"#ed7953\"],[0.7777777777777778,\"#fb9f3a\"],[0.8888888888888888,\"#fdca26\"],[1.0,\"#f0f921\"]],\"type\":\"contour\"}],\"contourcarpet\":[{\"colorbar\":{\"outlinewidth\":0,\"ticks\":\"\"},\"type\":\"contourcarpet\"}],\"heatmap\":[{\"colorbar\":{\"outlinewidth\":0,\"ticks\":\"\"},\"colorscale\":[[0.0,\"#0d0887\"],[0.1111111111111111,\"#46039f\"],[0.2222222222222222,\"#7201a8\"],[0.3333333333333333,\"#9c179e\"],[0.4444444444444444,\"#bd3786\"],[0.5555555555555556,\"#d8576b\"],[0.6666666666666666,\"#ed7953\"],[0.7777777777777778,\"#fb9f3a\"],[0.8888888888888888,\"#fdca26\"],[1.0,\"#f0f921\"]],\"type\":\"heatmap\"}],\"heatmapgl\":[{\"colorbar\":{\"outlinewidth\":0,\"ticks\":\"\"},\"colorscale\":[[0.0,\"#0d0887\"],[0.1111111111111111,\"#46039f\"],[0.2222222222222222,\"#7201a8\"],[0.3333333333333333,\"#9c179e\"],[0.4444444444444444,\"#bd3786\"],[0.5555555555555556,\"#d8576b\"],[0.6666666666666666,\"#ed7953\"],[0.7777777777777778,\"#fb9f3a\"],[0.8888888888888888,\"#fdca26\"],[1.0,\"#f0f921\"]],\"type\":\"heatmapgl\"}],\"histogram\":[{\"marker\":{\"pattern\":{\"fillmode\":\"overlay\",\"size\":10,\"solidity\":0.2}},\"type\":\"histogram\"}],\"histogram2d\":[{\"colorbar\":{\"outlinewidth\":0,\"ticks\":\"\"},\"colorscale\":[[0.0,\"#0d0887\"],[0.1111111111111111,\"#46039f\"],[0.2222222222222222,\"#7201a8\"],[0.3333333333333333,\"#9c179e\"],[0.4444444444444444,\"#bd3786\"],[0.5555555555555556,\"#d8576b\"],[0.6666666666666666,\"#ed7953\"],[0.7777777777777778,\"#fb9f3a\"],[0.8888888888888888,\"#fdca26\"],[1.0,\"#f0f921\"]],\"type\":\"histogram2d\"}],\"histogram2dcontour\":[{\"colorbar\":{\"outlinewidth\":0,\"ticks\":\"\"},\"colorscale\":[[0.0,\"#0d0887\"],[0.1111111111111111,\"#46039f\"],[0.2222222222222222,\"#7201a8\"],[0.3333333333333333,\"#9c179e\"],[0.4444444444444444,\"#bd3786\"],[0.5555555555555556,\"#d8576b\"],[0.6666666666666666,\"#ed7953\"],[0.7777777777777778,\"#fb9f3a\"],[0.8888888888888888,\"#fdca26\"],[1.0,\"#f0f921\"]],\"type\":\"histogram2dcontour\"}],\"mesh3d\":[{\"colorbar\":{\"outlinewidth\":0,\"ticks\":\"\"},\"type\":\"mesh3d\"}],\"parcoords\":[{\"line\":{\"colorbar\":{\"outlinewidth\":0,\"ticks\":\"\"}},\"type\":\"parcoords\"}],\"pie\":[{\"automargin\":true,\"type\":\"pie\"}],\"scatter\":[{\"marker\":{\"colorbar\":{\"outlinewidth\":0,\"ticks\":\"\"}},\"type\":\"scatter\"}],\"scatter3d\":[{\"line\":{\"colorbar\":{\"outlinewidth\":0,\"ticks\":\"\"}},\"marker\":{\"colorbar\":{\"outlinewidth\":0,\"ticks\":\"\"}},\"type\":\"scatter3d\"}],\"scattercarpet\":[{\"marker\":{\"colorbar\":{\"outlinewidth\":0,\"ticks\":\"\"}},\"type\":\"scattercarpet\"}],\"scattergeo\":[{\"marker\":{\"colorbar\":{\"outlinewidth\":0,\"ticks\":\"\"}},\"type\":\"scattergeo\"}],\"scattergl\":[{\"marker\":{\"colorbar\":{\"outlinewidth\":0,\"ticks\":\"\"}},\"type\":\"scattergl\"}],\"scattermapbox\":[{\"marker\":{\"colorbar\":{\"outlinewidth\":0,\"ticks\":\"\"}},\"type\":\"scattermapbox\"}],\"scatterpolar\":[{\"marker\":{\"colorbar\":{\"outlinewidth\":0,\"ticks\":\"\"}},\"type\":\"scatterpolar\"}],\"scatterpolargl\":[{\"marker\":{\"colorbar\":{\"outlinewidth\":0,\"ticks\":\"\"}},\"type\":\"scatterpolargl\"}],\"scatterternary\":[{\"marker\":{\"colorbar\":{\"outlinewidth\":0,\"ticks\":\"\"}},\"type\":\"scatterternary\"}],\"surface\":[{\"colorbar\":{\"outlinewidth\":0,\"ticks\":\"\"},\"colorscale\":[[0.0,\"#0d0887\"],[0.1111111111111111,\"#46039f\"],[0.2222222222222222,\"#7201a8\"],[0.3333333333333333,\"#9c179e\"],[0.4444444444444444,\"#bd3786\"],[0.5555555555555556,\"#d8576b\"],[0.6666666666666666,\"#ed7953\"],[0.7777777777777778,\"#fb9f3a\"],[0.8888888888888888,\"#fdca26\"],[1.0,\"#f0f921\"]],\"type\":\"surface\"}],\"table\":[{\"cells\":{\"fill\":{\"color\":\"#EBF0F8\"},\"line\":{\"color\":\"white\"}},\"header\":{\"fill\":{\"color\":\"#C8D4E3\"},\"line\":{\"color\":\"white\"}},\"type\":\"table\"}]},\"layout\":{\"annotationdefaults\":{\"arrowcolor\":\"#2a3f5f\",\"arrowhead\":0,\"arrowwidth\":1},\"autotypenumbers\":\"strict\",\"coloraxis\":{\"colorbar\":{\"outlinewidth\":0,\"ticks\":\"\"}},\"colorscale\":{\"diverging\":[[0,\"#8e0152\"],[0.1,\"#c51b7d\"],[0.2,\"#de77ae\"],[0.3,\"#f1b6da\"],[0.4,\"#fde0ef\"],[0.5,\"#f7f7f7\"],[0.6,\"#e6f5d0\"],[0.7,\"#b8e186\"],[0.8,\"#7fbc41\"],[0.9,\"#4d9221\"],[1,\"#276419\"]],\"sequential\":[[0.0,\"#0d0887\"],[0.1111111111111111,\"#46039f\"],[0.2222222222222222,\"#7201a8\"],[0.3333333333333333,\"#9c179e\"],[0.4444444444444444,\"#bd3786\"],[0.5555555555555556,\"#d8576b\"],[0.6666666666666666,\"#ed7953\"],[0.7777777777777778,\"#fb9f3a\"],[0.8888888888888888,\"#fdca26\"],[1.0,\"#f0f921\"]],\"sequentialminus\":[[0.0,\"#0d0887\"],[0.1111111111111111,\"#46039f\"],[0.2222222222222222,\"#7201a8\"],[0.3333333333333333,\"#9c179e\"],[0.4444444444444444,\"#bd3786\"],[0.5555555555555556,\"#d8576b\"],[0.6666666666666666,\"#ed7953\"],[0.7777777777777778,\"#fb9f3a\"],[0.8888888888888888,\"#fdca26\"],[1.0,\"#f0f921\"]]},\"colorway\":[\"#636efa\",\"#EF553B\",\"#00cc96\",\"#ab63fa\",\"#FFA15A\",\"#19d3f3\",\"#FF6692\",\"#B6E880\",\"#FF97FF\",\"#FECB52\"],\"font\":{\"color\":\"#2a3f5f\"},\"geo\":{\"bgcolor\":\"white\",\"lakecolor\":\"white\",\"landcolor\":\"#E5ECF6\",\"showlakes\":true,\"showland\":true,\"subunitcolor\":\"white\"},\"hoverlabel\":{\"align\":\"left\"},\"hovermode\":\"closest\",\"mapbox\":{\"style\":\"light\"},\"paper_bgcolor\":\"white\",\"plot_bgcolor\":\"#E5ECF6\",\"polar\":{\"angularaxis\":{\"gridcolor\":\"white\",\"linecolor\":\"white\",\"ticks\":\"\"},\"bgcolor\":\"#E5ECF6\",\"radialaxis\":{\"gridcolor\":\"white\",\"linecolor\":\"white\",\"ticks\":\"\"}},\"scene\":{\"xaxis\":{\"backgroundcolor\":\"#E5ECF6\",\"gridcolor\":\"white\",\"gridwidth\":2,\"linecolor\":\"white\",\"showbackground\":true,\"ticks\":\"\",\"zerolinecolor\":\"white\"},\"yaxis\":{\"backgroundcolor\":\"#E5ECF6\",\"gridcolor\":\"white\",\"gridwidth\":2,\"linecolor\":\"white\",\"showbackground\":true,\"ticks\":\"\",\"zerolinecolor\":\"white\"},\"zaxis\":{\"backgroundcolor\":\"#E5ECF6\",\"gridcolor\":\"white\",\"gridwidth\":2,\"linecolor\":\"white\",\"showbackground\":true,\"ticks\":\"\",\"zerolinecolor\":\"white\"}},\"shapedefaults\":{\"line\":{\"color\":\"#2a3f5f\"}},\"ternary\":{\"aaxis\":{\"gridcolor\":\"white\",\"linecolor\":\"white\",\"ticks\":\"\"},\"baxis\":{\"gridcolor\":\"white\",\"linecolor\":\"white\",\"ticks\":\"\"},\"bgcolor\":\"#E5ECF6\",\"caxis\":{\"gridcolor\":\"white\",\"linecolor\":\"white\",\"ticks\":\"\"}},\"title\":{\"x\":0.05},\"xaxis\":{\"automargin\":true,\"gridcolor\":\"white\",\"linecolor\":\"white\",\"ticks\":\"\",\"title\":{\"standoff\":15},\"zerolinecolor\":\"white\",\"zerolinewidth\":2},\"yaxis\":{\"automargin\":true,\"gridcolor\":\"white\",\"linecolor\":\"white\",\"ticks\":\"\",\"title\":{\"standoff\":15},\"zerolinecolor\":\"white\",\"zerolinewidth\":2}}},\"title\":{\"text\":\"Distplot with Normal Distribution  avgshothome \"}},                        {\"responsive\": true}                    ).then(function(){\n",
              "                            \n",
              "var gd = document.getElementById('8fdb9edd-cf7b-4507-a2a6-707b2c94ae2a');\n",
              "var x = new MutationObserver(function (mutations, observer) {{\n",
              "        var display = window.getComputedStyle(gd).display;\n",
              "        if (!display || display === 'none') {{\n",
              "            console.log([gd, 'removed!']);\n",
              "            Plotly.purge(gd);\n",
              "            observer.disconnect();\n",
              "        }}\n",
              "}});\n",
              "\n",
              "// Listen for the removal of the full notebook cells\n",
              "var notebookContainer = gd.closest('#notebook-container');\n",
              "if (notebookContainer) {{\n",
              "    x.observe(notebookContainer, {childList: true});\n",
              "}}\n",
              "\n",
              "// Listen for the clearing of the current output cell\n",
              "var outputEl = gd.closest('.output');\n",
              "if (outputEl) {{\n",
              "    x.observe(outputEl, {childList: true});\n",
              "}}\n",
              "\n",
              "                        })                };                            </script>        </div>\n",
              "</body>\n",
              "</html>"
            ]
          },
          "metadata": {}
        }
      ]
    },
    {
      "cell_type": "code",
      "source": [
        "lis=[features.navgShotAway[data['target']==1], features.navgShotAway[data['target']==0]]\n",
        "group_labels=['over 2.5','under 2.5']\n",
        "colors = ['#003f5c', '#ffa600']\n",
        "# Create distplot \n",
        "fig = ff.create_distplot(lis, group_labels, bin_size=20,show_rug=False,\n",
        "                         curve_type='kde', # override default 'kde'\n",
        "                         colors=colors)\n",
        "\n",
        "# Add title\n",
        "fig.update_layout(xaxis_range=[0,20])\n",
        "fig.update_layout(title_text='Distplot with Normal Distribution  navgShotAway ')\n",
        "fig.show()"
      ],
      "metadata": {
        "colab": {
          "base_uri": "https://localhost:8080/",
          "height": 542
        },
        "id": "tBQoGJX2Mv2M",
        "outputId": "5a08cbbb-78dd-4fab-b8d1-c1c100a5f819"
      },
      "execution_count": 538,
      "outputs": [
        {
          "output_type": "display_data",
          "data": {
            "text/html": [
              "<html>\n",
              "<head><meta charset=\"utf-8\" /></head>\n",
              "<body>\n",
              "    <div>            <script src=\"https://cdnjs.cloudflare.com/ajax/libs/mathjax/2.7.5/MathJax.js?config=TeX-AMS-MML_SVG\"></script><script type=\"text/javascript\">if (window.MathJax) {MathJax.Hub.Config({SVG: {font: \"STIX-Web\"}});}</script>                <script type=\"text/javascript\">window.PlotlyConfig = {MathJaxConfig: 'local'};</script>\n",
              "        <script src=\"https://cdn.plot.ly/plotly-2.8.3.min.js\"></script>                <div id=\"50e7f77e-6ed4-4e3b-8e4e-bf73a7804d47\" class=\"plotly-graph-div\" style=\"height:525px; width:100%;\"></div>            <script type=\"text/javascript\">                                    window.PLOTLYENV=window.PLOTLYENV || {};                                    if (document.getElementById(\"50e7f77e-6ed4-4e3b-8e4e-bf73a7804d47\")) {                    Plotly.newPlot(                        \"50e7f77e-6ed4-4e3b-8e4e-bf73a7804d47\",                        [{\"autobinx\":false,\"histnorm\":\"probability density\",\"legendgroup\":\"over 2.5\",\"marker\":{\"color\":\"#003f5c\"},\"name\":\"over 2.5\",\"opacity\":0.7,\"x\":[3.8,5.6,5.8,2.6,5.8,3.8,4.6,4.4,7.2,5.0,5.0,3.4,3.8,2.6,4.2,4.2,5.0,3.6,3.2,4.6,4.8,4.8,2.8,3.2,6.2,4.4,2.0,5.0,5.6,3.4,5.4,4.2,5.8,5.0,4.8,3.0,4.2,3.0,4.0,3.4,3.4,4.0,6.2,3.4,5.4,3.8,4.0,5.6,4.4,4.6,4.2,4.0,2.8,4.8,2.0,3.6,7.0,3.2,4.4,4.2,4.0,3.4,3.4,6.2,4.4,3.2,2.8,5.0,6.6,2.0,5.2,3.8,2.4,3.8,2.8,6.4,5.6,5.6,3.8,6.0,6.8,6.4,2.6,6.0,5.0,4.4,2.8,4.0,2.4,5.2,5.6,7.0,6.4,3.4,5.0,6.6,1.2,5.0,5.6,3.0,6.6,5.6,4.2,1.4,4.8,7.2,4.8,4.0,5.6,4.0,3.8,4.4,4.8,1.4,6.0,2.2,3.4,6.8,3.4,3.8,2.6,5.0,4.8,4.0,5.6,5.4,5.8,6.4,9.6,5.0,6.2,4.8,5.8,3.4,3.6,6.4,5.4,7.6,4.4,3.2,5.0,3.4,3.8,4.2,3.6,4.4,4.8,2.6,3.2,3.6,4.8,4.6,5.8,4.4,4.2,4.6,3.8,5.0,4.2,2.8,5.8,5.2,3.8,2.6,2.6,4.2,3.6,4.6,5.6,3.2,4.0,5.0,7.8,6.2,3.8,2.6,2.2,4.2,3.4,3.6],\"xaxis\":\"x\",\"xbins\":{\"end\":9.6,\"size\":20,\"start\":1.2},\"yaxis\":\"y\",\"type\":\"histogram\"},{\"autobinx\":false,\"histnorm\":\"probability density\",\"legendgroup\":\"under 2.5\",\"marker\":{\"color\":\"#ffa600\"},\"name\":\"under 2.5\",\"opacity\":0.7,\"x\":[3.8,6.0,7.4,5.2,4.0,2.2,4.4,4.0,2.4,5.8,2.6,5.0,2.8,5.4,6.0,2.6,3.8,2.4,2.8,2.2,3.6,7.2,6.0,3.2,7.2,4.8,3.0,3.8,4.4,2.8,5.4,5.0,3.6,5.4,3.8,4.4,4.4,4.8,3.6,4.8,3.6,3.0,3.8,4.2,3.0,4.0,4.8,4.2,5.0,5.4,5.0,6.0,3.0,2.8,5.8,3.4,4.0,5.2,7.0,3.2,2.6,5.2,3.2,3.2,4.6,2.4,5.2,6.8,2.2,5.6,5.4,4.6,4.2,4.0,3.6,5.6,3.8,5.2,3.6,1.6,4.2,2.8,3.6,5.2,1.2,4.8,4.4,3.4,4.4,5.0,1.4,4.0,4.2,3.6,3.0,3.8,4.0,3.4,4.8,5.4,5.4,3.6,3.4,4.6,4.8,3.2,3.6,2.8,4.0,4.8,4.6,3.6,3.0,5.0,5.0,3.0,4.4,3.6,4.4,3.6,4.0,4.4,5.6,5.4,4.6,4.4,4.8,6.6,5.6,3.6,4.6,5.0,3.8,5.6,4.6,4.0,4.6,4.8,4.2,3.4,4.6,6.6,5.8,5.4,3.8,5.8,5.6,4.0,3.8],\"xaxis\":\"x\",\"xbins\":{\"end\":7.4,\"size\":20,\"start\":1.2},\"yaxis\":\"y\",\"type\":\"histogram\"},{\"legendgroup\":\"over 2.5\",\"marker\":{\"color\":\"#003f5c\"},\"mode\":\"lines\",\"name\":\"over 2.5\",\"showlegend\":false,\"x\":[1.2,1.2167999999999999,1.2336,1.2504,1.2671999999999999,1.284,1.3008,1.3175999999999999,1.3344,1.3512,1.3679999999999999,1.3848,1.4016,1.4183999999999999,1.4352,1.452,1.4687999999999999,1.4856,1.5024,1.5191999999999999,1.536,1.5528,1.5695999999999999,1.5864,1.6032,1.6199999999999999,1.6368,1.6536,1.6703999999999999,1.6872,1.704,1.7208,1.7376,1.7544,1.7711999999999999,1.7879999999999998,1.8048000000000002,1.8216,1.8384,1.8552,1.8719999999999999,1.8888,1.9056,1.9223999999999999,1.9392,1.956,1.9727999999999999,1.9895999999999998,2.0064,2.0232,2.04,2.0568,2.0736,2.0904,2.1071999999999997,2.124,2.1408,2.1576,2.1744,2.1912000000000003,2.208,2.2248,2.2416,2.2584,2.2752,2.292,2.3087999999999997,2.3256,2.3424,2.3592,2.376,2.3928,2.4096,2.4264,2.4432,2.46,2.4768,2.4936,2.5103999999999997,2.5271999999999997,2.544,2.5608,2.5776000000000003,2.5944000000000003,2.6112,2.628,2.6448,2.6616,2.6784,2.6952,2.7119999999999997,2.7287999999999997,2.7456,2.7624,2.7792,2.7960000000000003,2.8128,2.8296,2.8464,2.8632,2.88,2.8968,2.9136,2.9304,2.9472,2.964,2.9808000000000003,2.9976000000000003,3.0144,3.0312,3.048,3.0648,3.0816,3.0984,3.1151999999999997,3.1319999999999997,3.1488,3.1656000000000004,3.1824000000000003,3.1992000000000003,3.216,3.2328,3.2496,3.2664,3.2832,3.3,3.3167999999999997,3.3335999999999997,3.3504000000000005,3.3672000000000004,3.3840000000000003,3.4008000000000003,3.4176,3.4344,3.4512,3.468,3.4848,3.5016,3.5183999999999997,3.5352000000000006,3.5519999999999996,3.5688000000000004,3.5855999999999995,3.6024000000000003,3.6192,3.636,3.6528,3.6696,3.6864,3.7032,3.7199999999999998,3.7368000000000006,3.7535999999999996,3.7704000000000004,3.7872000000000003,3.8040000000000003,3.8208,3.8376,3.8544,3.8712,3.888,3.9048,3.9215999999999998,3.9383999999999997,3.9552000000000005,3.9719999999999995,3.9888000000000003,4.0056,4.0224,4.0392,4.056,4.0728,4.0896,4.1064,4.123200000000001,4.14,4.1568000000000005,4.1735999999999995,4.1904,4.2072,4.224,4.2408,4.2576,4.2744,4.2912,4.308,4.3248,4.3416,4.3584,4.3752,4.392,4.4088,4.4256,4.4424,4.4592,4.476,4.4928,4.509600000000001,4.5264,4.543200000000001,4.56,4.5768,4.5936,4.6104,4.6272,4.644,4.6608,4.6776,4.6944,4.7112,4.728,4.744800000000001,4.7616000000000005,4.7784,4.7952,4.812,4.8288,4.8456,4.8624,4.8792,4.896,4.9128,4.929600000000001,4.9464,4.9632000000000005,4.9799999999999995,4.9968,5.0136,5.0304,5.0472,5.064,5.0808,5.0976,5.1144,5.131200000000001,5.148,5.1648000000000005,5.1816,5.1984,5.2152,5.232,5.2488,5.265600000000001,5.2824,5.2992,5.316,5.332800000000001,5.349600000000001,5.3664000000000005,5.3832,5.4,5.4168,5.4336,5.450400000000001,5.4672,5.484,5.500800000000001,5.517600000000001,5.534400000000001,5.5512,5.5680000000000005,5.5848,5.6016,5.6184,5.6352,5.652,5.6688,5.685600000000001,5.702400000000001,5.7192,5.736,5.752800000000001,5.7696000000000005,5.7864,5.8032,5.82,5.8368,5.8536,5.870400000000001,5.8872,5.904,5.920800000000001,5.937600000000001,5.954400000000001,5.9712,5.988,6.0048,6.0216,6.038400000000001,6.0552,6.072,6.0888,6.105600000000001,6.122400000000001,6.1392,6.156000000000001,6.1728000000000005,6.1896,6.2064,6.2232,6.24,6.2568,6.273600000000001,6.290400000000001,6.3072,6.324,6.340800000000001,6.357600000000001,6.3744000000000005,6.3912,6.408,6.4248,6.4416,6.458400000000001,6.4752,6.492,6.5088,6.525600000000001,6.542400000000001,6.5592,6.5760000000000005,6.5928,6.6096,6.6264,6.6432,6.66,6.6768,6.693600000000001,6.710400000000001,6.7272,6.744,6.760800000000001,6.7776000000000005,6.7944,6.8112,6.828,6.8448,6.8616,6.878400000000001,6.8952,6.912,6.928800000000001,6.945600000000001,6.962400000000001,6.9792,6.996,7.0128,7.0296,7.046400000000001,7.0632,7.08,7.0968,7.113600000000001,7.130400000000001,7.1472,7.164000000000001,7.1808000000000005,7.1976,7.2144,7.2312,7.248,7.2648,7.281600000000001,7.298400000000001,7.3152,7.332,7.348800000000001,7.365600000000001,7.3824000000000005,7.3991999999999996,7.416,7.4328,7.4496,7.466400000000001,7.4832,7.5,7.5168,7.533600000000001,7.550400000000001,7.5672,7.5840000000000005,7.6008000000000004,7.6176,7.6344,7.651200000000001,7.668,7.6848,7.701600000000001,7.718400000000001,7.735200000000001,7.752,7.768800000000001,7.7856000000000005,7.8024000000000004,7.819200000000001,7.836,7.8528,7.8696,7.886400000000001,7.903200000000001,7.92,7.936800000000001,7.953600000000001,7.970400000000001,7.9872000000000005,8.004,8.0208,8.0376,8.054400000000001,8.071200000000001,8.088,8.1048,8.1216,8.1384,8.1552,8.172,8.1888,8.2056,8.2224,8.2392,8.256,8.2728,8.2896,8.3064,8.3232,8.34,8.3568,8.3736,8.3904,8.407200000000001,8.424,8.4408,8.4576,8.474400000000001,8.491200000000001,8.508,8.524799999999999,8.5416,8.5584,8.5752,8.592,8.6088,8.6256,8.6424,8.6592,8.676,8.6928,8.7096,8.7264,8.7432,8.76,8.7768,8.7936,8.8104,8.827200000000001,8.844,8.8608,8.8776,8.894400000000001,8.911200000000001,8.927999999999999,8.9448,8.9616,8.9784,8.9952,9.012,9.0288,9.0456,9.0624,9.0792,9.096,9.1128,9.1296,9.1464,9.1632,9.18,9.1968,9.2136,9.2304,9.2472,9.264,9.2808,9.2976,9.3144,9.3312,9.347999999999999,9.364799999999999,9.381599999999999,9.398399999999999,9.4152,9.431999999999999,9.4488,9.4656,9.482399999999998,9.4992,9.516,9.5328,9.5496,9.5664,9.5832],\"xaxis\":\"x\",\"y\":[0.01869874358646696,0.019210677126687378,0.019729985721488607,0.02025705069606165,0.020792296374635085,0.02133618979033607,0.021889240086017454,0.02245199760314575,0.02302505265832489,0.02360903400953303,0.02420460701665839,0.024812471503401465,0.025433359330050108,0.026068031689001743,0.026717276137184096,0.02738190338169124,0.02806274383698788,0.028760643973922674,0.02947646248251807,0.03021106627205627,0.03096532633334677,0.031740113489235465,0.03253629406038907,0.033354725474158756,0.03419625184489469,0.035061699554445366,0.03595187286173326,0.036867549570264606,0.03780947678219551,0.038778366767162634,0.03977489297348724,0.040799686208598626,0.04185333101458729,0.04293636226372416,0.0440492619975473,0.04519245653176366,0.04636631384772126,0.04757114128960152,0.04880718358476721,0.05007462120287739,0.05137356906746854,0.05270407563168878,0.05406612232778229,0.05545962339774711,0.05688442611034281,0.05834031136730697,0.05982699469925723,0.06134412764931774,0.06289129954001468,0.06446803961644933,0.06607381955618362,0.06770805633367162,0.06937011542445502,0.07105931433172637,0.07277492641525103,0.07451618500007215,0.07628228773988951,0.07807240120755077,0.07988566568272444,0.08172120010458095,0.08357810715519735,0.08545547843747257,0.0873523997095986,0.08926795613662444,0.09120123751839772,0.09315134345219636,0.09511738838770294,0.09709850653165132,0.09909385655951335,0.10110262609200868,0.10312403589503424,0.10515734376283743,0.10720184804590188,0.10925689078708178,0.11132186043201693,0.11339619408276279,0.11547937926688563,0.117570955197966,0.11967051350750822,0.1217776984326393,0.1238922064486518,0.12601378534037805,0.1281422327115048,0.13027739393621704,0.132419159562939,0.13456746218534063,0.13672227280116225,0.13888359668470784,0.1410514688039794,0.14322594881835976,0.14540711569737103,0.1475950620053401,0.1497898879006868,0.1519916949019965,0.15420057947596513,0.15641662650470287,0.1586399026916951,0.1608704499669056,0.1631082789520912,0.1653533625473162,0.16760562969893306,0.16986495940793572,0.17213117503559588,0.17440403896069628,0.1766832476394948,0.1789684271158423,0.1812591290246658,0.18355482712737975,0.1858549144127595,0.18815870079145655,0.1904654114067262,0.19277418557815712,0.19508407638928732,0.19739405092404266,0.19970299115104082,0.20200969544897682,0.20431288076068743,0.20661118535806552,0.20890317219490662,0.21118733281998014,0.21346209181826323,0.21572581174432592,0.21797679850839707,0.2202133071726462,0.22243354811277607,0.22463569349805385,0.22681788404150255,0.2289782359710638,0.23111484817214803,0.233225809452066,0.2353092058773847,0.23736312813620633,0.2393856788787386,0.24137497999121513,0.243329179760231,0.24524645988683644,0.24712504231218854,0.24896319581921036,0.2507592423774552,0.2525115632012046,0.2542186044936836,0.2558788828531155,0.25749099031914113,0.25905359904085845,0.26056546555034416,0.26202543462802236,0.26343244274860184,0.2647855210985158,0.26608379815784255,0.2673265018415941,0.26851296119702095,0.2696426076551884,0.2707149758365904,0.2717297039119587,0.2726865335207332,0.2735853092509289,0.27442597768533616,0.2752085860202205,0.27593328026390807,0.2766003030238949,0.27720999089246995,0.2777627714422199,0.27825915984429656,0.2786997551239191,0.2790852360693125,0.2794163568120919,0.2796939420990614,0.2799188822774105,0.28009212801743366,0.28021468479907785,0.2802876071908463,0.280311992951833,0.2802889769898602,0.28021972521084,0.28010542829651613,0.27994729544961244,0.27974654814710687,0.2795044139437677,0.27922212036923105,0.2789008889626967,0.27854192948971956,0.27814643438556735,0.2777155734691502,0.27725048897055177,0.2767522909137244,0.2762220528939288,0.27566080828692413,0.2750695469238796,0.2744492122623597,0.27380069907963694,0.2731248517099898,0.2724224628426363,0.27169427289151227,0.2709409699423505,0.2701631902764729,0.26936151946447145,0.2685364940165686,0.26768860357004415,0.266818293587723,0.26592596853529,0.26501199549916854,0.26407670820099033,0.2631204113593947,0.2621433853450741,0.2611458910707578,0.26012817505423647,0.25909047458967527,0.25803302296036307,0.2569560546248114,0.25585981030770655,0.2547445419277434,0.2536105172957653,0.2524580245189651,0.2512873760501017,0.2500989123247673,0.24889300493463207,0.24767005929025965,0.24643051673344027,0.24517485606597608,0.24390359446935655,0.24261728779769542,0.2413165302345629,0.24000195331279706,0.23867422430493393,0.23733404400039007,0.2359821438938987,0.23461928281774258,0.23324624305801037,0.231863826002246,0.23047284737238272,0.2290741321026684,0.22766850892727958,0.22625680474644924,0.22483983884307496,0.22341841702398163,0.22199332576111858,0.22056532640809742,0.21913514956649988,0.21770348967442296,0.2162709998867117,0.21483828731241167,0.21340590867010262,0.21197436641612863,0.21054410539432333,0.20911551004879295,0.20768890223374933,0.20626453964638816,0.20484261490053468,0.2034232552503001,0.2020065229645213,0.200592416344293,0.19918087136771784,0.19777176393806625,0.19636491270409595,0.19496008241432963,0.19355698776081462,0.192155297662277,0.19075463993181782,0.1893546062703234,0.18795475752371119,0.1865546291399825,0.18515373676084157,0.1837515818823515,0.18234765751973783,0.18094145381295834,0.17953246351202948,0.17812018728424578,0.1767041387893026,0.17528384947286144,0.17385887303416478,0.1724287895288813,0.17099320907428303,0.16955177513006048,0.16810416733447042,0.16665010388195908,0.16518934343482822,0.1637216865678243,0.1622469767506141,0.16076510087889923,0.15927598937034693,0.15777961584646366,0.1562759964260261,0.15476518865956265,0.1532472901377222,0.1517224368090335,0.15019080104463084,0.1486525894889271,0.14710804073598474,0.14555742287148693,0.14400103091976313,0.142439184234297,0.1408722238686217,0.13930050996247456,0.13772441917565906,0.13614434219925226,0.13456068137070648,0.13297384841604157,0.13138426233882888,0.12979234747204316,0.12819853170520903,0.12660324489561992,0.1250069174688554,0.12340997921038643,0.12181285824680868,0.12021598021221426,0.11861976759245024,0.11702463923753202,0.11543101003032581,0.1138392906977826,0.11224988774953122,0.1106632035275057,0.10907963634949347,0.10749958072905014,0.10592342765410676,0.10435156490678131,0.1027843774073856,0.1012222475663483,0.09966555562874704,0.09811467999729563,0.09656999752097639,0.09503188373796415,0.0935007130630579,0.09197685891146216,0.09046069375243049,0.08895258908794987,0.08745291535329112,0.08596204173784207,0.0844803359261646,0.08300816376064017,0.08154588882838562,0.08009387197631301,0.07865247075926537,0.07722203882707551,0.07580292525716356,0.0743954738399192,0.07300002232458938,0.0716169016337352,0.0702464350545338,0.06888893741527553,0.06754471425538522,0.06621406099715603,0.06489726212716043,0.06359459039499972,0.062306306036678735,0.061032656029472304,0.05977387338467977,0.05853017648416758,0.0573017684660807,0.056088836664577,0.054891552107903814,0.053710069078607606,0.052544524739151076,0.05139503882570287,0.05026171341237835,0.049144632747735534,0.04804386316488142,0.04695945306610651,0.0458914329825484,0.04483981570898557,0.04380459651347047,0.04278575342113556,0.04178324757113154,0.04079702364529572,0.03982701036678058,0.03887312106651322,0.03793525431499148,0.037013294616558265,0.03610711316292631,0.03521656864235796,0.03434150810053596,0.03348176784879338,0.03263717441500906,0.0318075455321215,0.03099269115887492,0.030192414527086986,0.029406513209430402,0.02863478020144863,0.027877005011292005,0.027132974750463515,0.026402475218715617,0.02568529197614201,0.024981211395466944,0.024290021687553454,0.023611513893237825,0.022945482834746494,0.022291728020173145,0.02165005449478125,0.021020273633257414,0.020402203867465316,0.019795671344740584,0.019200510512319496,0.018616564624099968,0.01804368616659277,0.017481737201617286,0.01693058962403484,0.01639012533357185,0.015860236320561445,0.015340824666222106,0.014831802458869725,0.01433309162823225,0.01384462370078212,0.013366339479715245,0.012898188653877068,0.012440129340556385,0.011992127567628056,0.01155415670101876,0.011126196823889883,0.010708234074272759,0.010300259948147625,0.009902270575130302,0.009514265974011907,0.00913624929539284,0.008768226058558032,0.008410203389561452,0.008062189267226464,0.007724191783431217,0.007396218423634581,0.007078275373124115,0.00677036685393199,0.006472494496781461,0.006184656751802293,0.005906848341098195,0.0056390597555730625,0.005381276797735325,0.005133480171511075,0.004895645119417763,0.00466774110678856,0.004449731552105943,0.0042415736019067755,0.004043217948170984,0.003854608685608226,0.003675683205817685,0.00350637212492367,0.0033465992409838913,0.0031962815172373233,0.003055329087102397,0.002923645276757605,0.0028011266411352882,0.0026876630092335712,0.002583137534800473,0.002487426748664262,0.0024004006092707367,0.002321922548337309,0.0022518495089386744,0.002190031973793218,0.002136313982015837,0.0020905331331330162,0.0020525205777122465,0.0020221009945304434,0.0019990925547865943,0.0019833068744428617,0.001974548956346761,0.0019726171243358483,0.001977302952046591,0.0019883911896325388,0.002005659692035449,0.0020288793528393436,0.0020578140480647707,0.002092220594523089,0.0021318487275429152,0.0021764411029993984,0.002225733328617731,0.0022794540294838583,0.0023373249525764157,0.0023990611149339084,0.0024643709997921822,0.0025329568046707864,0.0026045147449562183,0.002678735416030021,0.0027553042164250325,0.002833901833870588,0.0029142047954137354,0.002995886082086903,0.003078615807841251,0.003162061961688721,0.0032458912112034275,0.0033297697647359337,0.0034133642889006086,0.0034963428771185327,0.003578376064245605,0.0036591378815982126,0.0037383069460165336,0.0038155675759877035,0.003890610927296483,0.003963136140187659,0.00403285148961914,0.004099475529864943,0.004162738224496206,0.004222382052632876,0.004278163082319383,0.004329852001937689,0.004377235100730897,0.004420115189768721,0.004458312455042032,0.0044916652348223835,0.004520030713961223,0.004543285528425876,0.0045613262740688216,0.004574069914396104,0.004581454082931033],\"yaxis\":\"y\",\"type\":\"scatter\"},{\"legendgroup\":\"under 2.5\",\"marker\":{\"color\":\"#ffa600\"},\"mode\":\"lines\",\"name\":\"under 2.5\",\"showlegend\":false,\"x\":[1.2,1.2124,1.2247999999999999,1.2371999999999999,1.2496,1.262,1.2744,1.2868,1.2992,1.3115999999999999,1.3239999999999998,1.3364,1.3488,1.3612,1.3736,1.386,1.3983999999999999,1.4108,1.4232,1.4356,1.448,1.4604,1.4727999999999999,1.4851999999999999,1.4976,1.51,1.5224,1.5348,1.5472,1.5596,1.572,1.5844,1.5968,1.6092,1.6216,1.634,1.6463999999999999,1.6587999999999998,1.6712,1.6836,1.696,1.7084000000000001,1.7208,1.7332,1.7456,1.758,1.7704,1.7828,1.7952,1.8075999999999999,1.8199999999999998,1.8323999999999998,1.8448,1.8572,1.8696,1.8820000000000001,1.8944,1.9068,1.9192,1.9316,1.944,1.9564,1.9687999999999999,1.9811999999999999,1.9935999999999998,2.0060000000000002,2.0183999999999997,2.0308,2.0432,2.0556,2.068,2.0804,2.0928,2.1052,2.1176,2.13,2.1424,2.1548,2.1672000000000002,2.1795999999999998,2.192,2.2043999999999997,2.2168,2.2292,2.2416,2.254,2.2664,2.2788,2.2912,2.3036000000000003,2.316,2.3284000000000002,2.3407999999999998,2.3532,2.3656,2.378,2.3904,2.4028,2.4152,2.4276,2.44,2.4524,2.4648,2.4772,2.4896000000000003,2.502,2.5144,2.5267999999999997,2.5392,2.5516,2.564,2.5764,2.5888,2.6012,2.6136,2.626,2.6384,2.6508,2.6632,2.6756,2.6879999999999997,2.7004,2.7127999999999997,2.7252,2.7376,2.75,2.7624,2.7748,2.7872,2.7996,2.8120000000000003,2.8244,2.8368,2.8491999999999997,2.8616,2.8739999999999997,2.8864,2.8987999999999996,2.9112,2.9236000000000004,2.936,2.9484000000000004,2.9608,2.9732000000000003,2.9856,2.998,3.0103999999999997,3.0228,3.0351999999999997,3.0476,3.06,3.0724,3.0848,3.0972,3.1096000000000004,3.122,3.1344000000000003,3.1468,3.1592000000000002,3.1716,3.184,3.1964,3.2088,3.2211999999999996,3.2336,3.2459999999999996,3.2584,3.2708000000000004,3.2832,3.2956000000000003,3.308,3.3204000000000002,3.3327999999999998,3.3452,3.3575999999999997,3.37,3.3823999999999996,3.3948,3.4072000000000005,3.4196,3.4320000000000004,3.4444,3.4568000000000003,3.4692,3.4816000000000003,3.4939999999999998,3.5064,3.5187999999999997,3.5312,3.5435999999999996,3.556,3.5684000000000005,3.5808,3.5932000000000004,3.6056,3.6180000000000003,3.6304,3.6428000000000003,3.6552000000000007,3.6676,3.6799999999999997,3.6924,3.7048000000000005,3.7172,3.7295999999999996,3.742,3.7544000000000004,3.7668,3.7792000000000003,3.7916,3.8040000000000003,3.8164,3.8288,3.8412000000000006,3.8536,3.8659999999999997,3.8784,3.8908000000000005,3.9032,3.9155999999999995,3.928,3.9404000000000003,3.9528,3.9652000000000003,3.9776,3.99,4.0024,4.0148,4.027200000000001,4.0396,4.052,4.0644,4.0768,4.0892,4.1015999999999995,4.114,4.1264,4.1388,4.1512,4.1636,4.176,4.1884,4.2008,4.2132000000000005,4.2256,4.2379999999999995,4.2504,4.2628,4.2752,4.2876,4.3,4.3124,4.3248,4.3372,4.3496,4.362,4.3744,4.3868,4.3992,4.4116,4.424,4.4364,4.4488,4.4612,4.4736,4.486,4.4984,4.5108,4.5232,4.5356,4.548,4.5604000000000005,4.5728,4.5852,4.5976,4.61,4.6224,4.6348,4.647200000000001,4.6596,4.672,4.6844,4.6968000000000005,4.7092,4.7216,4.734,4.7464,4.7588,4.7712,4.7836,4.796,4.8084,4.8208,4.833200000000001,4.8456,4.858,4.8704,4.8828000000000005,4.8952,4.9075999999999995,4.92,4.9324,4.9448,4.9572,4.9696,4.982,4.9944,5.0068,5.0192000000000005,5.0316,5.044,5.0564,5.0688,5.0812,5.0935999999999995,5.106,5.1184,5.1308,5.1432,5.1556,5.168,5.1804,5.1928,5.2052000000000005,5.2176,5.23,5.2424,5.2548,5.267200000000001,5.2796,5.292,5.304400000000001,5.316800000000001,5.3292,5.341600000000001,5.354,5.3664000000000005,5.3788,5.3912,5.403600000000001,5.416,5.428400000000001,5.4408,5.4532,5.4656,5.478,5.490400000000001,5.502800000000001,5.5152,5.5276000000000005,5.54,5.5524000000000004,5.5648,5.5772,5.589600000000001,5.602,5.614400000000001,5.6268,5.6392,5.6516,5.664000000000001,5.676400000000001,5.6888000000000005,5.7012,5.7136000000000005,5.726,5.7384,5.750800000000001,5.7632,5.775600000000001,5.788,5.800400000000001,5.8128,5.8252,5.8376,5.8500000000000005,5.862400000000001,5.8748000000000005,5.8872,5.8996,5.912,5.9244,5.936800000000001,5.9492,5.961600000000001,5.974,5.986400000000001,5.9988,6.0112,6.023600000000001,6.0360000000000005,6.048400000000001,6.0608,6.0732,6.0856,6.098,6.110400000000001,6.122800000000001,6.1352,6.147600000000001,6.16,6.1724000000000006,6.1848,6.1972,6.209600000000001,6.222,6.234400000000001,6.2468,6.2592,6.2716,6.284,6.296400000000001,6.308800000000001,6.3212,6.333600000000001,6.346,6.3584000000000005,6.3708,6.3832,6.395600000000001,6.408,6.420400000000001,6.4328,6.4452,6.4576,6.47,6.482400000000001,6.494800000000001,6.5072,6.5196000000000005,6.532,6.5444,6.5568,6.5692,6.581600000000001,6.594,6.606400000000001,6.6188,6.6312,6.6436,6.656000000000001,6.668400000000001,6.6808000000000005,6.6932,6.7056000000000004,6.718,6.7304,6.742800000000001,6.7552,6.767600000000001,6.78,6.792400000000001,6.8048,6.8172,6.8296,6.8420000000000005,6.854400000000001,6.8668000000000005,6.8792,6.8916,6.904,6.9164,6.928800000000001,6.9412,6.953600000000001,6.966,6.978400000000001,6.9908,7.0032,7.015600000000001,7.0280000000000005,7.040400000000001,7.0528,7.0652,7.0776,7.09,7.102400000000001,7.114800000000001,7.1272,7.139600000000001,7.152,7.1644000000000005,7.1768,7.1892,7.201600000000001,7.214,7.226400000000001,7.2388,7.2512,7.2636,7.276,7.288400000000001,7.300800000000001,7.3132,7.3256000000000006,7.338,7.3504000000000005,7.3628,7.3752,7.387600000000001],\"xaxis\":\"x\",\"y\":[0.01760494362505396,0.017916490879946418,0.018227238190392615,0.018537267428848692,0.01884668790157241,0.019155637013590424,0.019464280833941895,0.019772814556175397,0.02008146284950997,0.020390480096549334,0.020700150513941175,0.02101078815291775,0.02132273677721818,0.02163636961648766,0.021952088993864718,0.022270325827101294,0.022591539003209142,0.022916214627287722,0.023244865146852863,0.02357802835365749,0.023916266265661398,0.024260163892469155,0.024610327888205483,0.024967385096433193,0.02533198099233455,0.025704778027968406,0.02608645388698085,0.026477699655675865,0.026879217917851573,0.027291720781258997,0.02771592784395585,0.028152564109190967,0.028602357857771765,0.029066038487132108,0.029544334326525465,0.030037970437925048,0.030547666412306978,0.031074134171032674,0.031618075782025495,0.032180181300358324,0.03276112664273208,0.03336157150512962,0.03398215733268136,0.034623505350471956,0.03528621466366461,0.035970860434910525,0.03667799214656395,0.037408131954727065,0.03816177314161778,0.03893937867218828,0.03974137986032454,0.04056817514933616,0.04142012901080632,0.04229757096521293,0.043200794727067,0.04413005747664514,0.04508557925972017,0.04606754251603325,0.0470760917365958,0.048111333249274454,0.04917333513149667,0.05026212724832398,0.05137770141357918,0.05252001167119003,0.053688974693417775,0.05488447029219346,0.056106342039376915,0.05735439799139351,0.05862841151338412,0.05992812219774394,0.06125323687170032,0.06260343068841225,0.0639783482959502,0.06537760507843918,0.06680078846361318,0.06824745929104514,0.06971715323536198,0.0712093822788462,0.07272363622794464,0.07425938426835839,0.0758160765535596,0.07739314582178222,0.07899000903674819,0.08060606904760403,0.08224071626379423,0.08389333034080493,0.08556328187296255,0.08724993408967902,0.08895264455174635,0.09067076684447571,0.09240365226464442,0.09415065149835511,0.09591111628703333,0.09768440107886944,0.09946986466306697,0.10126687178427525,0.10307479473456378,0.10489301492024754,0.10672092440077545,0.1085579273967749,0.1104034417641834,0.11225690043121457,0.1141177527946822,0.11598546607197474,0.11785952660470331,0.11973944110977691,0.12162473787337293,0.1235149678829739,0.12540970589236994,0.1273085514142283,0.12921112963458697,0.1311170922433738,0.13302611817484994,0.1349379142516964,0.13685221572633222,0.13876878671296855,0.14068742050387506,0.14260793976337321,0.14453019659317012,0.1464540724628197,0.14837947799935589,0.15030635263046557,0.15223466407598138,0.15416440768298853,0.15609560560039376,0.15802830578950453,0.1599625808678956,0.1618985267846864,0.16383626132626222,0.16577592245245917,0.16771766646429156,0.1696616660054215,0.17160810790074177,0.1735571908366708,0.1755091228890187,0.17746411890556849,0.17942239775183688,0.18138417942977655,0.1833496820805057,0.18531911888343192,0.18729269486540767,0.18927060363476167,0.19125302405622882,0.19324011688387663,0.19523202137016016,0.1972288518701408,0.19923069446072883,0.20123760359550819,0.20324959881626703,0.20526666154280962,0.20728873196289824,0.20931570604433222,0.21134743269113596,0.21338371106565887,0.21542428809803507,0.21746885620392623,0.21951705123079676,0.22156845065209022,0.22362257202767122,0.2256788717476835,0.22773674407564676,0.22979552050509638,0.231854469442434,0.2339127962268745,0.23596964349647628,0.2380240919072176,0.24007516120998992,0.2421218116881646,0.2441629459561475,0.24619741111701274,0.2482240012749631,0.25024146039601103,0.25224848550790185,0.2542437302279671,0.25622580860529653,0.25819329926136164,0.26014474981106517,0.2620786815440916,0.26399359434448344,0.26588797182450824,0.26776028664717577,0.2696090060102185,0.2714325972629638,0.27322953362631713,0.2749982999850748,0.2767373987209571,0.2784453555541607,0.28012072536083044,0.2817620979336813,0.2833681036530405,0.2849374190358635,0.28646877213074756,0.2879609477276945,0.28941279235227835,0.2908232190150177,0.2921912116880732,0.29351582948291993,0.2947962105043367,0.2960315753579472,0.2972212302905412,0.2983645699446189,0.2994610797108425,0.30051033766453183,0.3015120160748077,0.3024658824775647,0.30337180030608146,0.304229729075748,0.30503972412205416,0.305801935893689,0.306516608805239,0.3071840796566211,0.3078047756289387,0.30837921186895434,0.3089079886767763,0.3093917883136519,0.3098313714489463,0.3102275732674118,0.3105812992597658,0.31089352072130494,0.3111652699848607,0.3113976354157638,0.31159175619769164,0.31174881693925455,0.3118700421319737,0.3119566904908949,0.31201004920947456,0.31203142816053114,0.312022154075059,0.31198356473044087,0.31191700317918536,0.3118238120486925,0.31170532794172895,0.3115628759663111,0.31139776442253775,0.3112112796725821,0.31100468121859154,0.31077919701162005,0.31053601901300515,0.31027629902772,0.31000114482732627,0.3097116165780834,0.309408723587701,0.3090934213820556,0.3087666091209976,0.3084291273601677,0.30808175616351335,0.3077252135689794,0.30736015440764697,0.30698716947444454,0.3066067850464269,0.3062194627425885,0.30582559971718964,0.30542552917669513,0.3050195212086392,0.3046077839090499,0.3041904647935067,0.3037676524754819,0.303339378594301,0.30290561997392673,0.30246630099273447,0.30202129614360973,0.30157043276298723,0.3011134939068967,0.30065022135170133,0.3001803186969732,0.299703454547881,0.2992192657545353,0.298727360685976,0.29822732251685063,0.29771871250536264,0.2972010732417119,0.2966739318470441,0.29613680310382007,0.2955891924995432,0.2950305991669003,0.2944605187045915,0.2938784458644274,0.2932838770916465,0.2926763129068474,0.29205526011942107,0.29142023386390564,0.2907707594522402,0.29010637403648626,0.2894266280781566,0.28873108662189334,0.2880193303727774,0.2872909565781147,0.28654557971602534,0.2857828319946237,0.28500236366697423,0.2842038431683261,0.2833869570833967,0.2825514099526265,0.28169692392742735,0.28082323828540867,0.2799301088174603,0.27901730709934025,0.2780846196610743,0.27713184706802074,0.27615880292789796,0.27516531283836226,0.27415121328994435,0.2731163505392057,0.2720605794669589,0.2709837624362226,0.26988576816433013,0.26876647062323356,0.2676257479815616,0.2664634816014318,0.26527955510233847,0.26407385350368234,0.26284626245669646,0.2615966675756052,0.26032495387688664,0.2590310053345069,0.2577147045579058,0.2563759325984339,0.2550145688887799,0.2536304913188049,0.2522235764500101,0.25079369986971584,0.24934073668486453,0.24786456215421007,0.2463650524565426,0.24484208559150236,0.24329554240848147,0.24172530775810952,0.24013127175985205,0.23851333117837012,0.23687139090042528,0.235205365503374,0.23351518090557138,0.2318007760884072,0.23006210487911827,0.22829913778309072,0.22651186385395608,0.2247002925894903,0.2228644558411054,0.2210044097245841,0.219120236519644,0.21721204654595117,0.21527998000328283,0.2133242087637298,0.21134493810406307,0.20934240836670312,0.207316896538106,0.2052687177338246,0.20319822657998635,0.20110581848148143,0.19899193076774585,0.19685704370765678,0.19470168138572908,0.19252641243251103,0.19033185060280247,0.18811865519608093,0.1858875313142913,0.18363922995294468,0.1813745479222686,0.17909432759595278,0.1767994564858421,0.1744908666417303,0.17216953387619613,0.16983647681522537,0.16749275577611827,0.16513947147495978,0.1627777635666541,0.16040880902125418,0.15803382034101837,0.15565404362328564,0.15327075647492086,0.15088526578469558,0.14849890536054952,0.1461130334392495,0.1437290300764724,0.1413482944258384,0.1389722419158734,0.13660230133429505,0.1342399118294084,0.13188651983872732,0.1295435759552655,0.12721253174218164,0.12489483650671329,0.12259193404450244,0.12030525936556874,0.11803623541328634,0.11578626978777547,0.11355675148513752,0.11134904766393737,0.1091645004502544,0.1070044237925183,0.10487010037717462,0.10276277861602387,0.10068366971582528,0.09863394484046636,0.09661473237565169,0.0946271153056988,0.09267212871159185,0.09075075739899245,0.08886393366440108,0.08701253520712211,0.08519738319412028,0.08341924048423659,0.08167881001760857,0.07997673337546504,0.07831358951478143,0.0766898936815707,0.07510609650585377,0.07356258328061628,0.07205967342630158,0.07059762014163211,0.06917661024079515,0.06779676417626065,0.06645813624576373,0.06516071498122279,0.06390442371666172,0.06268912133148022,0.06151460316474644,0.06038060209552917,0.059286789783662586,0.0582327780647562,0.05721812049270984,0.056242314022489484,0.05530480082546561,0.0544049702291927,0.05354216077315368,0.05271566237167947,0.05192471857498933,0.05116852891909973,0.05044625135518875,0.04975700474891322,0.049099871440121484,0.048473899853420634,0.04787810715010829,0.04731148191209142,0.046772986848567955,0.046261561516445435,0.045776125045714995,0.04531557886127688,0.04487880939303085,0.04446469076639078,0.044072087465759566,0.0436998569638972,0.043346852310535325,0.043011924674025134,0.04269392583025117,0.04239171059349687,0.042104139184403755,0.04183007953062219,0.04156840949620318,0.04131801903622217,0.041077812273561054,0.04084670949518911,0.04062364906568595,0.04040758925612921,0.040197509986830846,0.03999241448273979,0.03979133084064071,0.039593313507563906,0.039397444670080224,0.0392028355543866,0.03900862763729422,0.038813993768408814,0.038618139203950186,0.038420302552783336,0.038219756635344826,0.038015809256230604,0.037807803891278906,0.037595120290031946,0.037377174994491946,0.03715342177511014,0.03692335198495796,0.03668649483303141,0.036442417577639837,0.03619072564082434,0.03593106264474511,0.035663110370974783,0.03538658864363651,0.03510125513732922,0.034806905110802464,0.034503371067363536,0.03419052234303937,0.033868264623559956,0.033536539391295854,0.03319532330335375,0.032844627502125856,0.032484496859692256,0.03211500915759206,0.03173627420361238,0.03134843288738694,0.030951656176752766,0.03054614405698144,0.03013212441517456,0.029709851872300703,0.029279606565536187,0.028841692883767544,0.028396438159310432,0.027944191319086865,0.027485321498704064,0.02702021662305518,0.02654928195725008],\"yaxis\":\"y\",\"type\":\"scatter\"}],                        {\"barmode\":\"overlay\",\"hovermode\":\"closest\",\"legend\":{\"traceorder\":\"reversed\"},\"xaxis\":{\"anchor\":\"y2\",\"domain\":[0.0,1.0],\"zeroline\":false,\"range\":[0,20]},\"yaxis\":{\"anchor\":\"free\",\"domain\":[0.0,1],\"position\":0.0},\"template\":{\"data\":{\"bar\":[{\"error_x\":{\"color\":\"#2a3f5f\"},\"error_y\":{\"color\":\"#2a3f5f\"},\"marker\":{\"line\":{\"color\":\"#E5ECF6\",\"width\":0.5},\"pattern\":{\"fillmode\":\"overlay\",\"size\":10,\"solidity\":0.2}},\"type\":\"bar\"}],\"barpolar\":[{\"marker\":{\"line\":{\"color\":\"#E5ECF6\",\"width\":0.5},\"pattern\":{\"fillmode\":\"overlay\",\"size\":10,\"solidity\":0.2}},\"type\":\"barpolar\"}],\"carpet\":[{\"aaxis\":{\"endlinecolor\":\"#2a3f5f\",\"gridcolor\":\"white\",\"linecolor\":\"white\",\"minorgridcolor\":\"white\",\"startlinecolor\":\"#2a3f5f\"},\"baxis\":{\"endlinecolor\":\"#2a3f5f\",\"gridcolor\":\"white\",\"linecolor\":\"white\",\"minorgridcolor\":\"white\",\"startlinecolor\":\"#2a3f5f\"},\"type\":\"carpet\"}],\"choropleth\":[{\"colorbar\":{\"outlinewidth\":0,\"ticks\":\"\"},\"type\":\"choropleth\"}],\"contour\":[{\"colorbar\":{\"outlinewidth\":0,\"ticks\":\"\"},\"colorscale\":[[0.0,\"#0d0887\"],[0.1111111111111111,\"#46039f\"],[0.2222222222222222,\"#7201a8\"],[0.3333333333333333,\"#9c179e\"],[0.4444444444444444,\"#bd3786\"],[0.5555555555555556,\"#d8576b\"],[0.6666666666666666,\"#ed7953\"],[0.7777777777777778,\"#fb9f3a\"],[0.8888888888888888,\"#fdca26\"],[1.0,\"#f0f921\"]],\"type\":\"contour\"}],\"contourcarpet\":[{\"colorbar\":{\"outlinewidth\":0,\"ticks\":\"\"},\"type\":\"contourcarpet\"}],\"heatmap\":[{\"colorbar\":{\"outlinewidth\":0,\"ticks\":\"\"},\"colorscale\":[[0.0,\"#0d0887\"],[0.1111111111111111,\"#46039f\"],[0.2222222222222222,\"#7201a8\"],[0.3333333333333333,\"#9c179e\"],[0.4444444444444444,\"#bd3786\"],[0.5555555555555556,\"#d8576b\"],[0.6666666666666666,\"#ed7953\"],[0.7777777777777778,\"#fb9f3a\"],[0.8888888888888888,\"#fdca26\"],[1.0,\"#f0f921\"]],\"type\":\"heatmap\"}],\"heatmapgl\":[{\"colorbar\":{\"outlinewidth\":0,\"ticks\":\"\"},\"colorscale\":[[0.0,\"#0d0887\"],[0.1111111111111111,\"#46039f\"],[0.2222222222222222,\"#7201a8\"],[0.3333333333333333,\"#9c179e\"],[0.4444444444444444,\"#bd3786\"],[0.5555555555555556,\"#d8576b\"],[0.6666666666666666,\"#ed7953\"],[0.7777777777777778,\"#fb9f3a\"],[0.8888888888888888,\"#fdca26\"],[1.0,\"#f0f921\"]],\"type\":\"heatmapgl\"}],\"histogram\":[{\"marker\":{\"pattern\":{\"fillmode\":\"overlay\",\"size\":10,\"solidity\":0.2}},\"type\":\"histogram\"}],\"histogram2d\":[{\"colorbar\":{\"outlinewidth\":0,\"ticks\":\"\"},\"colorscale\":[[0.0,\"#0d0887\"],[0.1111111111111111,\"#46039f\"],[0.2222222222222222,\"#7201a8\"],[0.3333333333333333,\"#9c179e\"],[0.4444444444444444,\"#bd3786\"],[0.5555555555555556,\"#d8576b\"],[0.6666666666666666,\"#ed7953\"],[0.7777777777777778,\"#fb9f3a\"],[0.8888888888888888,\"#fdca26\"],[1.0,\"#f0f921\"]],\"type\":\"histogram2d\"}],\"histogram2dcontour\":[{\"colorbar\":{\"outlinewidth\":0,\"ticks\":\"\"},\"colorscale\":[[0.0,\"#0d0887\"],[0.1111111111111111,\"#46039f\"],[0.2222222222222222,\"#7201a8\"],[0.3333333333333333,\"#9c179e\"],[0.4444444444444444,\"#bd3786\"],[0.5555555555555556,\"#d8576b\"],[0.6666666666666666,\"#ed7953\"],[0.7777777777777778,\"#fb9f3a\"],[0.8888888888888888,\"#fdca26\"],[1.0,\"#f0f921\"]],\"type\":\"histogram2dcontour\"}],\"mesh3d\":[{\"colorbar\":{\"outlinewidth\":0,\"ticks\":\"\"},\"type\":\"mesh3d\"}],\"parcoords\":[{\"line\":{\"colorbar\":{\"outlinewidth\":0,\"ticks\":\"\"}},\"type\":\"parcoords\"}],\"pie\":[{\"automargin\":true,\"type\":\"pie\"}],\"scatter\":[{\"marker\":{\"colorbar\":{\"outlinewidth\":0,\"ticks\":\"\"}},\"type\":\"scatter\"}],\"scatter3d\":[{\"line\":{\"colorbar\":{\"outlinewidth\":0,\"ticks\":\"\"}},\"marker\":{\"colorbar\":{\"outlinewidth\":0,\"ticks\":\"\"}},\"type\":\"scatter3d\"}],\"scattercarpet\":[{\"marker\":{\"colorbar\":{\"outlinewidth\":0,\"ticks\":\"\"}},\"type\":\"scattercarpet\"}],\"scattergeo\":[{\"marker\":{\"colorbar\":{\"outlinewidth\":0,\"ticks\":\"\"}},\"type\":\"scattergeo\"}],\"scattergl\":[{\"marker\":{\"colorbar\":{\"outlinewidth\":0,\"ticks\":\"\"}},\"type\":\"scattergl\"}],\"scattermapbox\":[{\"marker\":{\"colorbar\":{\"outlinewidth\":0,\"ticks\":\"\"}},\"type\":\"scattermapbox\"}],\"scatterpolar\":[{\"marker\":{\"colorbar\":{\"outlinewidth\":0,\"ticks\":\"\"}},\"type\":\"scatterpolar\"}],\"scatterpolargl\":[{\"marker\":{\"colorbar\":{\"outlinewidth\":0,\"ticks\":\"\"}},\"type\":\"scatterpolargl\"}],\"scatterternary\":[{\"marker\":{\"colorbar\":{\"outlinewidth\":0,\"ticks\":\"\"}},\"type\":\"scatterternary\"}],\"surface\":[{\"colorbar\":{\"outlinewidth\":0,\"ticks\":\"\"},\"colorscale\":[[0.0,\"#0d0887\"],[0.1111111111111111,\"#46039f\"],[0.2222222222222222,\"#7201a8\"],[0.3333333333333333,\"#9c179e\"],[0.4444444444444444,\"#bd3786\"],[0.5555555555555556,\"#d8576b\"],[0.6666666666666666,\"#ed7953\"],[0.7777777777777778,\"#fb9f3a\"],[0.8888888888888888,\"#fdca26\"],[1.0,\"#f0f921\"]],\"type\":\"surface\"}],\"table\":[{\"cells\":{\"fill\":{\"color\":\"#EBF0F8\"},\"line\":{\"color\":\"white\"}},\"header\":{\"fill\":{\"color\":\"#C8D4E3\"},\"line\":{\"color\":\"white\"}},\"type\":\"table\"}]},\"layout\":{\"annotationdefaults\":{\"arrowcolor\":\"#2a3f5f\",\"arrowhead\":0,\"arrowwidth\":1},\"autotypenumbers\":\"strict\",\"coloraxis\":{\"colorbar\":{\"outlinewidth\":0,\"ticks\":\"\"}},\"colorscale\":{\"diverging\":[[0,\"#8e0152\"],[0.1,\"#c51b7d\"],[0.2,\"#de77ae\"],[0.3,\"#f1b6da\"],[0.4,\"#fde0ef\"],[0.5,\"#f7f7f7\"],[0.6,\"#e6f5d0\"],[0.7,\"#b8e186\"],[0.8,\"#7fbc41\"],[0.9,\"#4d9221\"],[1,\"#276419\"]],\"sequential\":[[0.0,\"#0d0887\"],[0.1111111111111111,\"#46039f\"],[0.2222222222222222,\"#7201a8\"],[0.3333333333333333,\"#9c179e\"],[0.4444444444444444,\"#bd3786\"],[0.5555555555555556,\"#d8576b\"],[0.6666666666666666,\"#ed7953\"],[0.7777777777777778,\"#fb9f3a\"],[0.8888888888888888,\"#fdca26\"],[1.0,\"#f0f921\"]],\"sequentialminus\":[[0.0,\"#0d0887\"],[0.1111111111111111,\"#46039f\"],[0.2222222222222222,\"#7201a8\"],[0.3333333333333333,\"#9c179e\"],[0.4444444444444444,\"#bd3786\"],[0.5555555555555556,\"#d8576b\"],[0.6666666666666666,\"#ed7953\"],[0.7777777777777778,\"#fb9f3a\"],[0.8888888888888888,\"#fdca26\"],[1.0,\"#f0f921\"]]},\"colorway\":[\"#636efa\",\"#EF553B\",\"#00cc96\",\"#ab63fa\",\"#FFA15A\",\"#19d3f3\",\"#FF6692\",\"#B6E880\",\"#FF97FF\",\"#FECB52\"],\"font\":{\"color\":\"#2a3f5f\"},\"geo\":{\"bgcolor\":\"white\",\"lakecolor\":\"white\",\"landcolor\":\"#E5ECF6\",\"showlakes\":true,\"showland\":true,\"subunitcolor\":\"white\"},\"hoverlabel\":{\"align\":\"left\"},\"hovermode\":\"closest\",\"mapbox\":{\"style\":\"light\"},\"paper_bgcolor\":\"white\",\"plot_bgcolor\":\"#E5ECF6\",\"polar\":{\"angularaxis\":{\"gridcolor\":\"white\",\"linecolor\":\"white\",\"ticks\":\"\"},\"bgcolor\":\"#E5ECF6\",\"radialaxis\":{\"gridcolor\":\"white\",\"linecolor\":\"white\",\"ticks\":\"\"}},\"scene\":{\"xaxis\":{\"backgroundcolor\":\"#E5ECF6\",\"gridcolor\":\"white\",\"gridwidth\":2,\"linecolor\":\"white\",\"showbackground\":true,\"ticks\":\"\",\"zerolinecolor\":\"white\"},\"yaxis\":{\"backgroundcolor\":\"#E5ECF6\",\"gridcolor\":\"white\",\"gridwidth\":2,\"linecolor\":\"white\",\"showbackground\":true,\"ticks\":\"\",\"zerolinecolor\":\"white\"},\"zaxis\":{\"backgroundcolor\":\"#E5ECF6\",\"gridcolor\":\"white\",\"gridwidth\":2,\"linecolor\":\"white\",\"showbackground\":true,\"ticks\":\"\",\"zerolinecolor\":\"white\"}},\"shapedefaults\":{\"line\":{\"color\":\"#2a3f5f\"}},\"ternary\":{\"aaxis\":{\"gridcolor\":\"white\",\"linecolor\":\"white\",\"ticks\":\"\"},\"baxis\":{\"gridcolor\":\"white\",\"linecolor\":\"white\",\"ticks\":\"\"},\"bgcolor\":\"#E5ECF6\",\"caxis\":{\"gridcolor\":\"white\",\"linecolor\":\"white\",\"ticks\":\"\"}},\"title\":{\"x\":0.05},\"xaxis\":{\"automargin\":true,\"gridcolor\":\"white\",\"linecolor\":\"white\",\"ticks\":\"\",\"title\":{\"standoff\":15},\"zerolinecolor\":\"white\",\"zerolinewidth\":2},\"yaxis\":{\"automargin\":true,\"gridcolor\":\"white\",\"linecolor\":\"white\",\"ticks\":\"\",\"title\":{\"standoff\":15},\"zerolinecolor\":\"white\",\"zerolinewidth\":2}}},\"title\":{\"text\":\"Distplot with Normal Distribution  navgShotAway \"}},                        {\"responsive\": true}                    ).then(function(){\n",
              "                            \n",
              "var gd = document.getElementById('50e7f77e-6ed4-4e3b-8e4e-bf73a7804d47');\n",
              "var x = new MutationObserver(function (mutations, observer) {{\n",
              "        var display = window.getComputedStyle(gd).display;\n",
              "        if (!display || display === 'none') {{\n",
              "            console.log([gd, 'removed!']);\n",
              "            Plotly.purge(gd);\n",
              "            observer.disconnect();\n",
              "        }}\n",
              "}});\n",
              "\n",
              "// Listen for the removal of the full notebook cells\n",
              "var notebookContainer = gd.closest('#notebook-container');\n",
              "if (notebookContainer) {{\n",
              "    x.observe(notebookContainer, {childList: true});\n",
              "}}\n",
              "\n",
              "// Listen for the clearing of the current output cell\n",
              "var outputEl = gd.closest('.output');\n",
              "if (outputEl) {{\n",
              "    x.observe(outputEl, {childList: true});\n",
              "}}\n",
              "\n",
              "                        })                };                            </script>        </div>\n",
              "</body>\n",
              "</html>"
            ]
          },
          "metadata": {}
        }
      ]
    },
    {
      "cell_type": "markdown",
      "source": [
        ">From those distribution snothing interesting come out ,we can observe that distributions for related to target equal to 1 are very similar to distributions for target equal to 0\n",
        "\n",
        "\n",
        "\n",
        "> Maybe i should take a look at the correlation matrix\n",
        "\n"
      ],
      "metadata": {
        "id": "FF6q0TvGQw-5"
      }
    },
    {
      "cell_type": "code",
      "source": [
        "features.columns"
      ],
      "metadata": {
        "colab": {
          "base_uri": "https://localhost:8080/"
        },
        "id": "MGyDMqh0TDOy",
        "outputId": "149a0a5f-5bff-4951-8c4e-b294297cceb9"
      },
      "execution_count": 539,
      "outputs": [
        {
          "output_type": "execute_result",
          "data": {
            "text/plain": [
              "Index(['Date', 'Time', 'HomeTeam', 'AwayTeam', 'FTHG', 'FTAG', 'HST', 'AST',\n",
              "       'B365>2.5', 'target', 'predB365', 'navgGoalHome',\n",
              "       'navgGoalConcededHome', 'navgGoalAway', 'navgGoalConcededAway',\n",
              "       'avgGoalHome', 'avgGoalConcededHome', 'avgGoalAway',\n",
              "       'avgGoalConcededAway', 'avgshothome', 'navgShotAway'],\n",
              "      dtype='object')"
            ]
          },
          "metadata": {},
          "execution_count": 539
        }
      ]
    },
    {
      "cell_type": "code",
      "source": [
        "corr_matrix=features[['target', 'navgGoalHome',\n",
        "       'navgGoalConcededHome', 'navgGoalAway', 'navgGoalConcededAway',\n",
        "       'avgGoalHome', 'avgGoalConcededHome', 'avgGoalAway',\n",
        "       'avgGoalConcededAway', 'avgshothome', 'navgShotAway']].corr()\n"
      ],
      "metadata": {
        "id": "R3h_etfITy3x"
      },
      "execution_count": 540,
      "outputs": []
    },
    {
      "cell_type": "code",
      "source": [
        "fig, ax = plt.subplots(figsize=(10,10))  \n",
        "\n",
        "sns.heatmap(corr_matrix,ax=ax)"
      ],
      "metadata": {
        "colab": {
          "base_uri": "https://localhost:8080/",
          "height": 729
        },
        "id": "eTQRY7WeS_aU",
        "outputId": "a85c677d-83ad-4e90-b5a9-2bc0c8dfe528"
      },
      "execution_count": 541,
      "outputs": [
        {
          "output_type": "execute_result",
          "data": {
            "text/plain": [
              "<matplotlib.axes._subplots.AxesSubplot at 0x7f609e1f8610>"
            ]
          },
          "metadata": {},
          "execution_count": 541
        },
        {
          "output_type": "display_data",
          "data": {
            "text/plain": [
              "<Figure size 720x720 with 2 Axes>"
            ],
            "image/png": "[encoded data removed]"
          },
          "metadata": {}
        }
      ]
    },
    {
      "cell_type": "markdown",
      "source": [
        "\n",
        "\n",
        "> From the Correlation Matrix we can observe some info like:\n",
        "- avgGoalHome and navgGoalHome have a positive correlation index\n",
        "- avgGoalConcededHome and navgGoalHome have a negative correlation index\n",
        "and so on...\n",
        "\n",
        ">Those information are obvious beacuse navg and avg are generated from the same variables"
      ],
      "metadata": {
        "id": "FLN28ypSUSZl"
      }
    },
    {
      "cell_type": "markdown",
      "source": [
        "#Model Training\n",
        "\n",
        ">At this point we can try to fit some model ,but from the analysis done before i don't guess that the model will able to return a good output\n",
        "\n",
        ">Models that  i am going to use :\n",
        ">\n",
        "> - GaussianNB\n",
        "> \n",
        "> - KNeighborsClassifier\n",
        ">\n",
        "> - LogisticRegression\n",
        ">\n",
        "> - RandomForestClassifier\n",
        "> \n",
        "> - SVC\n",
        ">\n",
        "> - XGBoost\n",
        "\n",
        "> I will use K-fold Cross Validation to test the accuracy of the model"
      ],
      "metadata": {
        "id": "8gJgLq2nCqPd"
      }
    },
    {
      "cell_type": "code",
      "source": [
        "from sklearn.model_selection import cross_val_score\n",
        "from sklearn.naive_bayes import GaussianNB\n",
        "from xgboost import XGBClassifier\n",
        "from sklearn.linear_model import LogisticRegression\n",
        "from sklearn.ensemble import RandomForestClassifier\n",
        "from sklearn.svm import SVC\n",
        "from sklearn.tree import DecisionTreeClassifier\n",
        "from sklearn.neighbors import KNeighborsClassifier\n",
        "\n",
        "from sklearn.model_selection import train_test_split"
      ],
      "metadata": {
        "id": "4PPfP0zMVvH0"
      },
      "execution_count": 542,
      "outputs": []
    },
    {
      "cell_type": "code",
      "source": [
        "Y=features['target']\n",
        "Yb=features['predB365']\n",
        "X=features.drop(['Date',  'HomeTeam', 'AwayTeam', 'FTHG', 'FTAG', 'target','predB365','HST','AST'],axis=1)"
      ],
      "metadata": {
        "id": "6rSKumCjx5B8"
      },
      "execution_count": 543,
      "outputs": []
    },
    {
      "cell_type": "code",
      "source": [
        "#Splitting Data\n",
        "X_train, X_test, y_train, y_test = train_test_split( X, Y, test_size=0.33, random_state=42)\n",
        "X_train.columns"
      ],
      "metadata": {
        "colab": {
          "base_uri": "https://localhost:8080/"
        },
        "id": "qO1RDIVclGgQ",
        "outputId": "15b5afc3-ef0f-4902-aa51-79480f291b72"
      },
      "execution_count": 544,
      "outputs": [
        {
          "output_type": "execute_result",
          "data": {
            "text/plain": [
              "Index(['Time', 'B365>2.5', 'navgGoalHome', 'navgGoalConcededHome',\n",
              "       'navgGoalAway', 'navgGoalConcededAway', 'avgGoalHome',\n",
              "       'avgGoalConcededHome', 'avgGoalAway', 'avgGoalConcededAway',\n",
              "       'avgshothome', 'navgShotAway'],\n",
              "      dtype='object')"
            ]
          },
          "metadata": {},
          "execution_count": 544
        }
      ]
    },
    {
      "cell_type": "code",
      "source": [
        "def clf_metrics(classifier,model_name):\n",
        "    classifier=classifier.fit(X_train,y_train)\n",
        "    #Precision score over 2.5 and under 2.5\n",
        "    y_pred=pd.Series(classifier.predict(X_test))\n",
        "    precision_positive = metrics.precision_score(y_test, y_pred, pos_label=1)*100\n",
        "    precision_negative = metrics.precision_score(y_test, y_pred, pos_label=0)*100\n",
        "    accuracy=metrics.accuracy_score(y_test, y_pred)*100\n",
        "    print(model_name)\n",
        "    print('\\n')\n",
        "    print(f\"Precision score over2.5:  {precision_positive}\\nPrecision score under2.5:  {precision_negative}\\nAccuracy:  {accuracy}\")\n"
      ],
      "metadata": {
        "id": "CDGD0D_zavMZ"
      },
      "execution_count": 545,
      "outputs": []
    },
    {
      "cell_type": "code",
      "source": [
        "#simple performance reporting function\n",
        "def clf_performance(classifier, model_name):\n",
        "    print(model_name)\n",
        "    print('Best Score: ' + str(classifier.best_score_))\n",
        "    print('Best Parameters: ' + str(classifier.best_params_))\n",
        "    #Precision score over 2.5 and under 2.5\n",
        "    y_pred=pd.Series(classifier.predict(X_test))\n",
        "    precision_positive = metrics.precision_score(y_test, y_pred, pos_label=1)\n",
        "    precision_negative = metrics.precision_score(y_test, y_pred, pos_label=0)\n",
        "    accuracy=metrics.accuracy_score(y_test, y_pred)*100\n",
        "    print(f\"Precision score over2.5:  {precision_positive}\\nPrecision score under2.5:  {precision_negative}\\nAccuracy:  {accuracy}\")"
      ],
      "metadata": {
        "id": "LUX7qvaZaoRi"
      },
      "execution_count": 546,
      "outputs": []
    },
    {
      "cell_type": "code",
      "source": [
        "#I usually use Naive Bayes as a baseline for my classification tasks \n",
        "gnb = GaussianNB()\n",
        "cv = cross_val_score(gnb,X_train,y_train,cv=5)\n",
        "print(cv)\n",
        "print(cv.mean())\n",
        "clf_metrics(gnb,'GaussianNB')"
      ],
      "metadata": {
        "colab": {
          "base_uri": "https://localhost:8080/"
        },
        "id": "c0zFR1QmykxZ",
        "outputId": "4d9bcfc1-fb18-4e66-ca73-fb2c03c64680"
      },
      "execution_count": 547,
      "outputs": [
        {
          "output_type": "stream",
          "name": "stdout",
          "text": [
            "[0.38636364 0.43181818 0.52272727 0.43181818 0.52272727]\n",
            "0.4590909090909091\n",
            "GaussianNB\n",
            "\n",
            "\n",
            "Precision score over2.5:  56.00000000000001\n",
            "Precision score under2.5:  47.45762711864407\n",
            "Accuracy:  51.37614678899083\n"
          ]
        }
      ]
    },
    {
      "cell_type": "code",
      "source": [
        "knn = KNeighborsClassifier()\n",
        "cv = cross_val_score(knn,X_train,y_train,cv=5)\n",
        "print(cv)\n",
        "print(cv.mean())\n",
        "clf_metrics(knn,'K-Nearest Neighbors')"
      ],
      "metadata": {
        "colab": {
          "base_uri": "https://localhost:8080/"
        },
        "id": "K2LM764WDcSU",
        "outputId": "81ae9d13-bc48-493d-c2e8-cc9db359ed6b"
      },
      "execution_count": 548,
      "outputs": [
        {
          "output_type": "stream",
          "name": "stdout",
          "text": [
            "[0.52272727 0.40909091 0.56818182 0.52272727 0.40909091]\n",
            "0.48636363636363633\n",
            "K-Nearest Neighbors\n",
            "\n",
            "\n",
            "Precision score over2.5:  58.333333333333336\n",
            "Precision score under2.5:  49.18032786885246\n",
            "Accuracy:  53.21100917431193\n"
          ]
        }
      ]
    },
    {
      "cell_type": "code",
      "source": [
        "lr = LogisticRegression(max_iter = 2000)\n",
        "cv = cross_val_score(lr,X_train,y_train,cv=5)\n",
        "print(cv)\n",
        "print(cv.mean())\n",
        "clf_metrics(lr,'LogisticRegression')"
      ],
      "metadata": {
        "colab": {
          "base_uri": "https://localhost:8080/"
        },
        "id": "oM8vWuAMynNV",
        "outputId": "6f14d3bb-71c2-451e-a5fe-dd42d03d1317"
      },
      "execution_count": 549,
      "outputs": [
        {
          "output_type": "stream",
          "name": "stdout",
          "text": [
            "[0.5        0.5        0.52272727 0.5        0.61363636]\n",
            "0.5272727272727272\n",
            "LogisticRegression\n",
            "\n",
            "\n",
            "Precision score over2.5:  59.61538461538461\n",
            "Precision score under2.5:  50.877192982456144\n",
            "Accuracy:  55.04587155963303\n"
          ]
        }
      ]
    },
    {
      "cell_type": "code",
      "source": [
        "rf = RandomForestClassifier(random_state = 1)\n",
        "cv = cross_val_score(rf,X_train,y_train,cv=5)\n",
        "print(cv)\n",
        "print(cv.mean())\n",
        "clf_metrics(rf,'RandomForest')"
      ],
      "metadata": {
        "colab": {
          "base_uri": "https://localhost:8080/"
        },
        "id": "iN1tWmQ4zAJ-",
        "outputId": "6b930103-21ea-44a3-b04a-e83160cc141a"
      },
      "execution_count": 550,
      "outputs": [
        {
          "output_type": "stream",
          "name": "stdout",
          "text": [
            "[0.38636364 0.29545455 0.45454545 0.36363636 0.38636364]\n",
            "0.37727272727272726\n",
            "RandomForest\n",
            "\n",
            "\n",
            "Precision score over2.5:  66.66666666666666\n",
            "Precision score under2.5:  55.73770491803278\n",
            "Accuracy:  60.550458715596335\n"
          ]
        }
      ]
    },
    {
      "cell_type": "code",
      "source": [
        "rf_fit = rf.fit(X_train, y_train)\n",
        "feat_importances = pd.Series(rf_fit.feature_importances_, index=X_train.columns)\n",
        "feat_importances.nlargest(30).plot(kind='barh')"
      ],
      "metadata": {
        "colab": {
          "base_uri": "https://localhost:8080/",
          "height": 282
        },
        "id": "Uq5tqfsD2P_D",
        "outputId": "67114448-9f55-4d56-a5da-7d7f1b9864b2"
      },
      "execution_count": 551,
      "outputs": [
        {
          "output_type": "execute_result",
          "data": {
            "text/plain": [
              "<matplotlib.axes._subplots.AxesSubplot at 0x7f609e42acd0>"
            ]
          },
          "metadata": {},
          "execution_count": 551
        },
        {
          "output_type": "display_data",
          "data": {
            "text/plain": [
              "<Figure size 432x288 with 1 Axes>"
            ],
            "image/png": "[encoded data removed]"
          },
          "metadata": {}
        }
      ]
    },
    {
      "cell_type": "code",
      "source": [
        "# fit model no training data\n",
        "xgb = XGBClassifier()\n",
        "cv=cross_val_score(xgb,X_train,y_train,cv=5)\n",
        "print(cv)\n",
        "print(cv.mean())\n",
        "clf_metrics(xgb,'Extreme Gradient Boosting')"
      ],
      "metadata": {
        "colab": {
          "base_uri": "https://localhost:8080/"
        },
        "id": "LV-rugt4NDvY",
        "outputId": "c9bc79e5-9364-4b62-a220-8f98fcb70975"
      },
      "execution_count": 552,
      "outputs": [
        {
          "output_type": "stream",
          "name": "stdout",
          "text": [
            "[0.43181818 0.47727273 0.43181818 0.40909091 0.43181818]\n",
            "0.4363636363636364\n",
            "Extreme Gradient Boosting\n",
            "\n",
            "\n",
            "Precision score over2.5:  63.63636363636363\n",
            "Precision score under2.5:  52.307692307692314\n",
            "Accuracy:  56.88073394495413\n"
          ]
        }
      ]
    },
    {
      "cell_type": "code",
      "source": [
        "svc = SVC(probability = True)\n",
        "cv = cross_val_score(svc,X_train,y_train,cv=5)\n",
        "print(cv)\n",
        "print(cv.mean())\n",
        "clf_metrics(svc,'Support Vector Classifier')"
      ],
      "metadata": {
        "colab": {
          "base_uri": "https://localhost:8080/"
        },
        "id": "MEP263_WzC1D",
        "outputId": "e02c4fee-f64c-4bf3-96ce-b238f784243f"
      },
      "execution_count": 553,
      "outputs": [
        {
          "output_type": "stream",
          "name": "stdout",
          "text": [
            "[0.47727273 0.45454545 0.45454545 0.52272727 0.52272727]\n",
            "0.48636363636363633\n",
            "Support Vector Classifier\n",
            "\n",
            "\n",
            "Precision score over2.5:  54.6875\n",
            "Precision score under2.5:  46.666666666666664\n",
            "Accuracy:  51.37614678899083\n"
          ]
        }
      ]
    },
    {
      "cell_type": "code",
      "source": [
        "#Voting classifier takes all of the inputs and averages the results. For a \"hard\" voting classifier each classifier gets 1 vote \"yes\" or \"no\" and the result is just a popular vote. For this, you generally want odd numbers\n",
        "#A \"soft\" classifier averages the confidence of each of the models. If a the average confidence is > 50% that it is a 1 it will be counted as such\n",
        "from sklearn.ensemble import VotingClassifier\n",
        "voting_clf = VotingClassifier(estimators = [('lr',lr),('knn',knn),('rf',rf),('gnb',gnb),('svc',svc),('xgb',xgb)], voting = 'soft') "
      ],
      "metadata": {
        "id": "LGt4M-P4DrRE"
      },
      "execution_count": 554,
      "outputs": []
    },
    {
      "cell_type": "code",
      "source": [
        "cv = cross_val_score(voting_clf,X,Y,cv=5)\n",
        "print(cv)\n",
        "print(cv.mean())\n",
        "clf_metrics(voting_clf,'Soft Voting Classifier')"
      ],
      "metadata": {
        "colab": {
          "base_uri": "https://localhost:8080/"
        },
        "id": "yfRhonbjDxQH",
        "outputId": "699819e8-5a71-406e-c655-e7c9b4055e20"
      },
      "execution_count": 555,
      "outputs": [
        {
          "output_type": "stream",
          "name": "stdout",
          "text": [
            "[0.54545455 0.59090909 0.48484848 0.53030303 0.47692308]\n",
            "0.5256876456876457\n",
            "Soft Voting Classifier\n",
            "\n",
            "\n",
            "Precision score over2.5:  63.04347826086957\n",
            "Precision score under2.5:  52.38095238095239\n",
            "Accuracy:  56.88073394495413\n"
          ]
        }
      ]
    },
    {
      "cell_type": "markdown",
      "source": [
        "#Model Tuned Performance\n",
        ">After getting the baselines, let's see if we can improve the most accuracy baseline model,i tuned only one model due to time issues but surely will be useful to see how metrics improve tuning different models\n",
        "\n",
        "|Model|Baseline|||Tuned|||\n",
        "|-----|--------|------------------------|------------------------|--------|-----------------------|------------------------|\n",
        "|Model|Accuracy|Precision Score Over 2.5|Precision Score Under 2.5|Accuracy|Precision Score Over 2.5|Precision Score Under 2.5||||\n",
        "|Naive Bayes| 51.37%| 56%|47.45%||||\n",
        "|K Nearest Neighbor| 53.21%|58.33%|49.18%||||\n",
        "|Logistic Regression| 55%| 59.61%|50.87%||||\n",
        "|Random Forest| 60.55%| 66.66%|55.73%|60.55%|68.18%|55.38%|\n",
        "|Xtreme Gradient Boosting| 56.88%| 63.63%|52.30%|\n",
        "|Support Vector Classifier| 51.37%| 54.68%|46.66%|\n",
        "|Soft Voting| 56.88%| 65.90%|53.84%|\n",
        "\n",
        "\n",
        "\n",
        "\n"
      ],
      "metadata": {
        "id": "ORhz8JZiHhQi"
      }
    },
    {
      "cell_type": "code",
      "source": [
        "from sklearn.model_selection import GridSearchCV \n",
        "from sklearn.model_selection import RandomizedSearchCV \n"
      ],
      "metadata": {
        "id": "okTTx9JhH67e"
      },
      "execution_count": 556,
      "outputs": []
    },
    {
      "cell_type": "code",
      "source": [
        "#Because the total feature space is so large, I used a randomized search to narrow down the paramters for the model. I took the best model from this and did a more granular search \n",
        "'''\n",
        "rf = RandomForestClassifier(random_state = 1)\n",
        "param_grid =  {'n_estimators': [100,500,1000], \n",
        "                                  'bootstrap': [True,False],\n",
        "                                  'max_depth': [3,5,10,20,50,75,100,None],\n",
        "                                  'max_features': ['auto','sqrt'],\n",
        "                                  'min_samples_leaf': [1,2,4,10],\n",
        "                                  'min_samples_split': [2,5,10]}\n",
        "                                  \n",
        "clf_rf_rnd = RandomizedSearchCV(rf, param_distributions = param_grid, n_iter = 100, cv = 5, verbose = True, n_jobs = -1)\n",
        "best_clf_rf_rnd = clf_rf_rnd.fit(X_train,y_train)\n",
        "clf_performance(best_clf_rf_rnd,'Random Forest')\n",
        "\n",
        "'''\n",
        "\n",
        "'''\n",
        "Fitting 5 folds for each of 100 candidates, totalling 500 fits\n",
        "Random Forest\n",
        "Best Score: 0.4590909090909091\n",
        "Best Parameters: {'n_estimators': 100, 'min_samples_split': 5, 'min_samples_leaf': 1, 'max_features': 'sqrt', 'max_depth': 5, 'bootstrap': False}\n",
        "Precision score over2.5:  0.5925925925925926\n",
        "Precision score under2.5:  0.509090909090909\n",
        "Accuracy:  55.04587155963303\n",
        "\n",
        "'''"
      ],
      "metadata": {
        "colab": {
          "base_uri": "https://localhost:8080/"
        },
        "id": "xxv_jL-48ka3",
        "outputId": "5c2f5156-6b55-4c7e-ef60-10d72caabe23"
      },
      "execution_count": 572,
      "outputs": [
        {
          "output_type": "stream",
          "name": "stdout",
          "text": [
            "Fitting 5 folds for each of 100 candidates, totalling 500 fits\n",
            "Random Forest\n",
            "Best Score: 0.4590909090909091\n",
            "Best Parameters: {'n_estimators': 100, 'min_samples_split': 5, 'min_samples_leaf': 1, 'max_features': 'sqrt', 'max_depth': 5, 'bootstrap': False}\n",
            "Precision score over2.5:  0.5925925925925926\n",
            "Precision score under2.5:  0.509090909090909\n",
            "Accuracy:  55.04587155963303\n"
          ]
        }
      ]
    },
    {
      "cell_type": "code",
      "source": [
        "rf = RandomForestClassifier(random_state = 1)\n",
        "param_grid =  {'n_estimators': [50,100,150,200],\n",
        "               'criterion':['gini','entropy'],\n",
        "                                  'bootstrap': [False],\n",
        "                                  'max_depth': [5, 10, 15],\n",
        "                                  'max_features': ['sqrt'],\n",
        "                                  'min_samples_leaf': [1,2,3],\n",
        "                                  'min_samples_split': [5,6]}\n",
        "                                  \n",
        "clf_rf = GridSearchCV(rf, param_grid = param_grid, cv = 5, verbose = True, n_jobs = -1)\n",
        "best_clf_rf = clf_rf.fit(X_train,y_train)\n",
        "clf_performance(best_clf_rf,'Random Forest')\n",
        "\n",
        "'''Fitting 5 folds for each of 144 candidates, totalling 720 fits\n",
        "Random Forest\n",
        "Best Score: 0.46818181818181814\n",
        "Best Parameters: {'bootstrap': False, 'criterion': 'gini', 'max_depth': 10, 'max_features': 'sqrt', 'min_samples_leaf': 3, 'min_samples_split': 5, 'n_estimators': 50}\n",
        "Precision score over2.5:  0.6818181818181818\n",
        "Precision score under2.5:  0.5538461538461539\n",
        "Accuracy:  60.550458715596335\n",
        "'''"
      ],
      "metadata": {
        "colab": {
          "base_uri": "https://localhost:8080/"
        },
        "id": "PsSfCKzw2wVO",
        "outputId": "35479c7a-9b8f-477e-c1e4-08d5f7ddccce"
      },
      "execution_count": 573,
      "outputs": [
        {
          "output_type": "stream",
          "name": "stdout",
          "text": [
            "Fitting 5 folds for each of 144 candidates, totalling 720 fits\n",
            "Random Forest\n",
            "Best Score: 0.46818181818181814\n",
            "Best Parameters: {'bootstrap': False, 'criterion': 'gini', 'max_depth': 10, 'max_features': 'sqrt', 'min_samples_leaf': 3, 'min_samples_split': 5, 'n_estimators': 50}\n",
            "Precision score over2.5:  0.6818181818181818\n",
            "Precision score under2.5:  0.5538461538461539\n",
            "Accuracy:  60.550458715596335\n"
          ]
        }
      ]
    },
    {
      "cell_type": "code",
      "source": [
        "best_clf_rf.best_params_"
      ],
      "metadata": {
        "colab": {
          "base_uri": "https://localhost:8080/"
        },
        "id": "OTS5m5X8bUK6",
        "outputId": "73765379-8da5-4595-81d1-59c826bb0069"
      },
      "execution_count": 596,
      "outputs": [
        {
          "output_type": "execute_result",
          "data": {
            "text/plain": [
              "{'bootstrap': False,\n",
              " 'criterion': 'gini',\n",
              " 'max_depth': 10,\n",
              " 'max_features': 'sqrt',\n",
              " 'min_samples_leaf': 3,\n",
              " 'min_samples_split': 5,\n",
              " 'n_estimators': 50}"
            ]
          },
          "metadata": {},
          "execution_count": 596
        }
      ]
    },
    {
      "cell_type": "code",
      "source": [
        "trf = RandomForestClassifier(random_state = 1)\n",
        "trf.set_params(**best_clf_rf.best_params_)\n",
        "tuned_rf = trf.fit(X_train,y_train)"
      ],
      "metadata": {
        "id": "HxEHoRD_ZRSL"
      },
      "execution_count": 597,
      "outputs": []
    },
    {
      "cell_type": "code",
      "source": [
        "\n",
        "feat_importances = pd.Series(tuned_rf.feature_importances_, index=X_train.columns)\n",
        "feat_importances.nlargest(30).plot(kind='barh')"
      ],
      "metadata": {
        "colab": {
          "base_uri": "https://localhost:8080/",
          "height": 282
        },
        "id": "MmmtMYAAYuHq",
        "outputId": "870c9501-87e8-4afc-93b4-98509da07bae"
      },
      "execution_count": 598,
      "outputs": [
        {
          "output_type": "execute_result",
          "data": {
            "text/plain": [
              "<matplotlib.axes._subplots.AxesSubplot at 0x7f609eaf6090>"
            ]
          },
          "metadata": {},
          "execution_count": 598
        },
        {
          "output_type": "display_data",
          "data": {
            "text/plain": [
              "<Figure size 432x288 with 1 Axes>"
            ],
            "image/png": "[encoded data removed]"
          },
          "metadata": {}
        }
      ]
    },
    {
      "cell_type": "markdown",
      "source": [
        "#Prepare Data to Conclusion"
      ],
      "metadata": {
        "id": "Z6wAdTPjuClG"
      }
    },
    {
      "cell_type": "code",
      "source": [
        "ind=y_test.index\n",
        "compare_df=features[['target','predB365']].loc[ind]"
      ],
      "metadata": {
        "id": "kJ5x9l_GuHRK"
      },
      "execution_count": 574,
      "outputs": []
    },
    {
      "cell_type": "code",
      "source": [
        "target=compare_df['target']"
      ],
      "metadata": {
        "id": "Q5Rwt5LLvUA1"
      },
      "execution_count": 575,
      "outputs": []
    },
    {
      "cell_type": "code",
      "source": [
        "predB365=compare_df['predB365']"
      ],
      "metadata": {
        "id": "g7c9QdH8vVVo"
      },
      "execution_count": 576,
      "outputs": []
    },
    {
      "cell_type": "code",
      "source": [
        "predrf=rf_fit.predict(X_test)"
      ],
      "metadata": {
        "id": "zvLAQm-nwY6_"
      },
      "execution_count": 577,
      "outputs": []
    },
    {
      "cell_type": "code",
      "source": [
        "bestpredrf=tuned_rf.predict(X_test)"
      ],
      "metadata": {
        "id": "pZusQPZz7pZ4"
      },
      "execution_count": 599,
      "outputs": []
    },
    {
      "cell_type": "markdown",
      "source": [
        "#Conclusion\n",
        "\n",
        "> Choosing at random I would had an empirical probability of guessing the event Over 2.5 of 54.12% in the test set\n",
        "\n",
        "|Model|Accuracy|Precision Score Over 2.5|Precision Score Under 2.5|\n",
        "|-----|--------|------------------------|-------------------------|\n",
        "|Bookmaker|61.46%|60.00%|66.66%|\n",
        "|Random Forest| 60.55%| 66.66%|55.73%|\n",
        "|Tuned Randome Forest|60.55%|68.18%|55.38%|\n"
      ],
      "metadata": {
        "id": "o5HDZHECwW9q"
      }
    },
    {
      "cell_type": "markdown",
      "source": [
        "> Using the Tuned Random Forest when the classifier predict that the event will end with a number of goal greater than 2 the empirical probability of guessing the event is of 68.18%\n",
        "\n",
        ">Instead if  I had used the odds of the bookmaker with more or less the same accuracy i would had an empirical pobability of 60%\n",
        "\n",
        ">We can conclude that the model has  better performance compared to using the other strategy,but i don't use this model to bet on Event Over2.5,since there are some considerations to be made:\n",
        "\n",
        "> - we have used to few data to try to predict an output so complex\n",
        ">\n",
        "> - Surely leading more deep analysis we could find out variables more useful like : performance players and so on...\n",
        ">\n",
        "> - We should also use data from other years to validate the model"
      ],
      "metadata": {
        "id": "8-tCVm32M0bm"
      }
    },
    {
      "cell_type": "code",
      "source": [
        "#Relative Frequencies target\n",
        "print(f'Relative Frequency of Over 2.5:  {target.mean()*100}\\nReleativeFrequency Under 2.5:   {(100-(target.mean()*100))}')"
      ],
      "metadata": {
        "colab": {
          "base_uri": "https://localhost:8080/"
        },
        "id": "j3AJnKdj2N4B",
        "outputId": "fa6d118f-0ad3-4444-ead4-06776d37319a"
      },
      "execution_count": 579,
      "outputs": [
        {
          "output_type": "stream",
          "name": "stdout",
          "text": [
            "Relative Frequency of Over 2.5:  54.12844036697248\n",
            "ReleativeFrequency Under 2.5:   45.87155963302752\n"
          ]
        }
      ]
    },
    {
      "cell_type": "code",
      "source": [
        "#Misclassification Error PredB365\n",
        "confusion_matrix = metrics.confusion_matrix(target, predB365)\n",
        "cm_display = metrics.ConfusionMatrixDisplay(confusion_matrix = confusion_matrix, display_labels = [False, True])\n",
        "cm_display.plot()\n",
        "plt.grid(b=None)\n",
        "plt.show()"
      ],
      "metadata": {
        "colab": {
          "base_uri": "https://localhost:8080/",
          "height": 279
        },
        "id": "RMNCkHHovq8U",
        "outputId": "f0499648-35da-40f3-f3fa-1903d613adb4"
      },
      "execution_count": 580,
      "outputs": [
        {
          "output_type": "display_data",
          "data": {
            "text/plain": [
              "<Figure size 432x288 with 2 Axes>"
            ],
            "image/png": "[encoded data removed]"
          },
          "metadata": {}
        }
      ]
    },
    {
      "cell_type": "code",
      "source": [
        "#Precision score over 2.5 and under 2.5 PredB365\n",
        "precision_positive = metrics.precision_score(target, predB365, pos_label=1)\n",
        "precision_negative = metrics.precision_score(target, predB365, pos_label=0)\n",
        "accuracy=metrics.accuracy_score(target,predB365)\n",
        "print(f\"Precision score over2.5:  {precision_positive}\\nPrecision score under2.5:  {precision_negative}\\nAccuracy:  {accuracy}\")"
      ],
      "metadata": {
        "colab": {
          "base_uri": "https://localhost:8080/"
        },
        "id": "cQqOe_tjwHhb",
        "outputId": "1013b4eb-0374-44e4-f3d5-fef30c54fbda"
      },
      "execution_count": 581,
      "outputs": [
        {
          "output_type": "stream",
          "name": "stdout",
          "text": [
            "Precision score over2.5:  0.6\n",
            "Precision score under2.5:  0.6666666666666666\n",
            "Accuracy:  0.6146788990825688\n"
          ]
        }
      ]
    },
    {
      "cell_type": "code",
      "source": [
        "#Misclassification Error Random Forest\n",
        "confusion_matrix = metrics.confusion_matrix(y_test, predrf)\n",
        "cm_display = metrics.ConfusionMatrixDisplay(confusion_matrix = confusion_matrix, display_labels = [False, True])\n",
        "cm_display.plot()\n",
        "plt.grid(b=None)\n",
        "plt.show()"
      ],
      "metadata": {
        "colab": {
          "base_uri": "https://localhost:8080/",
          "height": 283
        },
        "id": "Cm34ege4ws5s",
        "outputId": "171bbeff-2492-4234-97a0-283c2f495043"
      },
      "execution_count": 582,
      "outputs": [
        {
          "output_type": "display_data",
          "data": {
            "text/plain": [
              "<Figure size 432x288 with 2 Axes>"
            ],
            "image/png": "[encoded data removed]"
          },
          "metadata": {}
        }
      ]
    },
    {
      "cell_type": "code",
      "source": [
        "#Precision score over 2.5 and under 2.5 RandomForest\n",
        "precision_positive = metrics.precision_score(target, predrf, pos_label=1)\n",
        "precision_negative = metrics.precision_score(target, predrf, pos_label=0)\n",
        "accuracy=metrics.accuracy_score(target,predrf)\n",
        "print(f\"Precision score over2.5:  {precision_positive}\\nPrecision score under2.5:  {precision_negative}\\nAccuracy:  {accuracy}\")"
      ],
      "metadata": {
        "colab": {
          "base_uri": "https://localhost:8080/"
        },
        "id": "-yvqWaIJwUtO",
        "outputId": "77299492-dccf-419a-c8af-7cc7aa47fdff"
      },
      "execution_count": 583,
      "outputs": [
        {
          "output_type": "stream",
          "name": "stdout",
          "text": [
            "Precision score over2.5:  0.6666666666666666\n",
            "Precision score under2.5:  0.5573770491803278\n",
            "Accuracy:  0.6055045871559633\n"
          ]
        }
      ]
    },
    {
      "cell_type": "code",
      "source": [
        "#Misclassification Error Best Random Forest\n",
        "confusion_matrix = metrics.confusion_matrix(y_test, bestpredrf)\n",
        "cm_display = metrics.ConfusionMatrixDisplay(confusion_matrix = confusion_matrix, display_labels = [False, True])\n",
        "cm_display.plot()\n",
        "plt.grid(b=None)\n",
        "plt.show()"
      ],
      "metadata": {
        "colab": {
          "base_uri": "https://localhost:8080/",
          "height": 279
        },
        "id": "vHHmTJP88Ai7",
        "outputId": "f0d5ae66-d0d0-4969-d50d-61fb8c48fc59"
      },
      "execution_count": 600,
      "outputs": [
        {
          "output_type": "display_data",
          "data": {
            "text/plain": [
              "<Figure size 432x288 with 2 Axes>"
            ],
            "image/png": "[encoded data removed]"
          },
          "metadata": {}
        }
      ]
    },
    {
      "cell_type": "code",
      "source": [
        "#Precision score over 2.5 and under 2.5  Best RandomForest\n",
        "precision_positive = metrics.precision_score(target, bestpredrf, pos_label=1)\n",
        "precision_negative = metrics.precision_score(target, bestpredrf, pos_label=0)\n",
        "accuracy=metrics.accuracy_score(target,predrf)\n",
        "print(f\"Precision score over2.5:  {precision_positive}\\nPrecision score under2.5:  {precision_negative}\\nAccuracy:  {accuracy}\")"
      ],
      "metadata": {
        "colab": {
          "base_uri": "https://localhost:8080/"
        },
        "id": "LvNOMGTq8Ie5",
        "outputId": "fbbf51f3-c7d2-44a3-af97-043bd4dc9159"
      },
      "execution_count": 601,
      "outputs": [
        {
          "output_type": "stream",
          "name": "stdout",
          "text": [
            "Precision score over2.5:  0.6818181818181818\n",
            "Precision score under2.5:  0.5538461538461539\n",
            "Accuracy:  0.6055045871559633\n"
          ]
        }
      ]
    }
  ]
}